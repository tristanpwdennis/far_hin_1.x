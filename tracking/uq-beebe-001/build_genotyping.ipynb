{
 "cells": [
  {
   "cell_type": "code",
   "execution_count": 1,
   "id": "65dfc13e-8864-431b-bdf5-bc2a4ba18146",
   "metadata": {},
   "outputs": [],
   "source": [
    "import pandas as pd\n",
    "import os\n",
    "from Bio import SeqIO\n",
    "import zarr"
   ]
  },
  {
   "cell_type": "code",
   "execution_count": 2,
   "id": "87ac1264-0709-448b-a0d9-841e9ff72d4b",
   "metadata": {},
   "outputs": [],
   "source": [
    "from sgkit.io.vcf import vcf_to_zarr"
   ]
  },
  {
   "cell_type": "code",
   "execution_count": 3,
   "id": "3e936216-17db-4444-bb29-c55694ec97fa",
   "metadata": {},
   "outputs": [],
   "source": [
    "wgs_sample_manifest = pd.read_table('/QRISdata/Q6151/dennistpw/far_hin_1.x/production/sample_manifest.txt')\n",
    "ref_path = '/QRISdata/Q6151/dennistpw/far_hin_1.x/data/reference/VectorBase-54_AfarautiFAR1_Genome.fasta'"
   ]
  },
  {
   "cell_type": "code",
   "execution_count": 26,
   "id": "3441c597-8173-443e-be88-06f6f814436f",
   "metadata": {},
   "outputs": [
    {
     "name": "stdout",
     "output_type": "stream",
     "text": [
      "/QRISdata/Q6151/6_gvcf/1_An_farauti/1_gvcf/BC123.g.vcf.gz does not exist.\n"
     ]
    },
    {
     "ename": "TypeError",
     "evalue": "stat: path should be string, bytes, os.PathLike or integer, not float",
     "output_type": "error",
     "traceback": [
      "\u001b[31m---------------------------------------------------------------------------\u001b[39m",
      "\u001b[31mTypeError\u001b[39m                                 Traceback (most recent call last)",
      "\u001b[36mCell\u001b[39m\u001b[36m \u001b[39m\u001b[32mIn[26]\u001b[39m\u001b[32m, line 4\u001b[39m\n\u001b[32m      2\u001b[39m extant_files = []\n\u001b[32m      3\u001b[39m \u001b[38;5;28;01mfor\u001b[39;00m file_path \u001b[38;5;129;01min\u001b[39;00m files:\n\u001b[32m----> \u001b[39m\u001b[32m4\u001b[39m     \u001b[38;5;28;01mif\u001b[39;00m \u001b[43mos\u001b[49m\u001b[43m.\u001b[49m\u001b[43mpath\u001b[49m\u001b[43m.\u001b[49m\u001b[43mexists\u001b[49m\u001b[43m(\u001b[49m\u001b[43mfile_path\u001b[49m\u001b[43m)\u001b[49m:\n\u001b[32m      5\u001b[39m         extant_files.append(file_path)\n\u001b[32m      6\u001b[39m     \u001b[38;5;28;01melse\u001b[39;00m:\n",
      "\u001b[36mFile \u001b[39m\u001b[32m~/.conda/envs/far_hin_1.x/lib/python3.13/genericpath.py:19\u001b[39m, in \u001b[36mexists\u001b[39m\u001b[34m(path)\u001b[39m\n\u001b[32m     17\u001b[39m \u001b[38;5;250m\u001b[39m\u001b[33;03m\"\"\"Test whether a path exists.  Returns False for broken symbolic links\"\"\"\u001b[39;00m\n\u001b[32m     18\u001b[39m \u001b[38;5;28;01mtry\u001b[39;00m:\n\u001b[32m---> \u001b[39m\u001b[32m19\u001b[39m     \u001b[43mos\u001b[49m\u001b[43m.\u001b[49m\u001b[43mstat\u001b[49m\u001b[43m(\u001b[49m\u001b[43mpath\u001b[49m\u001b[43m)\u001b[49m\n\u001b[32m     20\u001b[39m \u001b[38;5;28;01mexcept\u001b[39;00m (\u001b[38;5;167;01mOSError\u001b[39;00m, \u001b[38;5;167;01mValueError\u001b[39;00m):\n\u001b[32m     21\u001b[39m     \u001b[38;5;28;01mreturn\u001b[39;00m \u001b[38;5;28;01mFalse\u001b[39;00m\n",
      "\u001b[31mTypeError\u001b[39m: stat: path should be string, bytes, os.PathLike or integer, not float"
     ]
    }
   ],
   "source": [
    "files = wgs_sample_manifest.gvcf_path + '/' + wgs_sample_manifest.gvcf\n",
    "extant_files = []\n",
    "for file_path in files:\n",
    "    if os.path.exists(file_path):\n",
    "        extant_files.append(file_path)\n",
    "    else:\n",
    "        print(f\"{file_path} does not exist.\")"
   ]
  },
  {
   "cell_type": "code",
   "execution_count": 27,
   "id": "c3f038c6-b0c5-40f3-bb4b-3b0027de1dc2",
   "metadata": {},
   "outputs": [
    {
     "name": "stdout",
     "output_type": "stream",
     "text": [
      "/QRISdata/Q6151/6_gvcf/1_An_farauti/1_gvcf/BC123.g.vcf.gz.tbi does not exist.\n"
     ]
    },
    {
     "ename": "TypeError",
     "evalue": "unsupported operand type(s) for +: 'float' and 'str'",
     "output_type": "error",
     "traceback": [
      "\u001b[31m---------------------------------------------------------------------------\u001b[39m",
      "\u001b[31mTypeError\u001b[39m                                 Traceback (most recent call last)",
      "\u001b[36mCell\u001b[39m\u001b[36m \u001b[39m\u001b[32mIn[27]\u001b[39m\u001b[32m, line 7\u001b[39m\n\u001b[32m      5\u001b[39m \u001b[38;5;28;01mwith\u001b[39;00m \u001b[38;5;28mopen\u001b[39m(file_path, \u001b[33m\"\u001b[39m\u001b[33mw\u001b[39m\u001b[33m\"\u001b[39m) \u001b[38;5;28;01mas\u001b[39;00m file:\n\u001b[32m      6\u001b[39m     \u001b[38;5;28;01mfor\u001b[39;00m file_path \u001b[38;5;129;01min\u001b[39;00m files:\n\u001b[32m----> \u001b[39m\u001b[32m7\u001b[39m         \u001b[38;5;28;01mif\u001b[39;00m os.path.exists(\u001b[43mfile_path\u001b[49m\u001b[43m+\u001b[49m\u001b[33;43m'\u001b[39;49m\u001b[33;43m.tbi\u001b[39;49m\u001b[33;43m'\u001b[39;49m): \n\u001b[32m      8\u001b[39m             file.write(\u001b[38;5;28mstr\u001b[39m(file_path) + \u001b[33m\"\u001b[39m\u001b[38;5;130;01m\\n\u001b[39;00m\u001b[33m\"\u001b[39m)\n\u001b[32m      9\u001b[39m         \u001b[38;5;28;01melse\u001b[39;00m:\n",
      "\u001b[31mTypeError\u001b[39m: unsupported operand type(s) for +: 'float' and 'str'"
     ]
    }
   ],
   "source": [
    "# check indices and write files that look ok\n",
    "file_path = \"/QRISdata/Q6151/dennistpw/far_hin_1.x/work/gvcf_list_forgenotyping.txt\"\n",
    "\n",
    "needs_indexing = []\n",
    "with open(file_path, \"w\") as file:\n",
    "    for file_path in files:\n",
    "        if os.path.exists(file_path+'.tbi'): \n",
    "            file.write(str(file_path) + \"\\n\")\n",
    "        else:\n",
    "            print(f\"{file_path}.tbi does not exist.\")\n",
    "            needs_indexing.append(file_path)"
   ]
  },
  {
   "cell_type": "code",
   "execution_count": 4,
   "id": "92eca1f2-e957-4ff9-808d-fe87d3f21edc",
   "metadata": {},
   "outputs": [],
   "source": [
    "# now let's get a list of the contigs that we are going to call over\n",
    "contig_lengths = {}\n",
    "for record in SeqIO.parse(ref_path, \"fasta\"):\n",
    "    seq_id = record.id\n",
    "    seq_length = len(record.seq)\n",
    "    contig_lengths[seq_id] = seq_length\n",
    "\n"
   ]
  },
  {
   "cell_type": "code",
   "execution_count": 7,
   "id": "cb92640e-d52c-4d6d-b450-98898dc1aee2",
   "metadata": {},
   "outputs": [
    {
     "name": "stdout",
     "output_type": "stream",
     "text": [
      "there are 183103254 bp in  310 contigs\n"
     ]
    }
   ],
   "source": [
    "# how many contigs are there\n",
    "print(f\"there are {sum(contig_lengths.values())} bp in  {len(contig_lengths)} contigs\")\n",
    "# let's prune this"
   ]
  },
  {
   "cell_type": "code",
   "execution_count": 6,
   "id": "b3c4e1e1-5eed-4762-baae-e1e6d4a7d16d",
   "metadata": {},
   "outputs": [
    {
     "name": "stdout",
     "output_type": "stream",
     "text": [
      "there are 180662415 bp in  46 filtered contigs\n"
     ]
    }
   ],
   "source": [
    "# Get contigs over eg 1e5 bp\n",
    "filtered_contigs = {k: v for k, v in sorted(contig_lengths.items(), key=lambda item: item[1], reverse=True) if v > 100000}\n",
    "print(f\"there are {sum(filtered_contigs.values())} bp in  {len(filtered_contigs)} filtered contigs\")\n",
    "# we lose 3 million bp for a fairly substantial loss of small contigs - let's call on these larger contigs only"
   ]
  },
  {
   "cell_type": "code",
   "execution_count": 8,
   "id": "57c99569-ac35-43eb-92f9-501be2f0ddf4",
   "metadata": {},
   "outputs": [
    {
     "data": {
      "text/plain": [
       "{'KI915040': 30017264,\n",
       " 'KI915041': 22738934,\n",
       " 'KI915042': 16089237,\n",
       " 'KI915043': 15719670,\n",
       " 'KI915044': 12895223,\n",
       " 'KI915045': 12084465,\n",
       " 'KI915046': 7675037,\n",
       " 'KI915047': 6913162,\n",
       " 'KI915048': 6651167,\n",
       " 'KI915049': 6084899,\n",
       " 'KI915050': 6025392,\n",
       " 'KI915051': 3202847,\n",
       " 'KI915052': 3111553,\n",
       " 'KI915053': 2944040,\n",
       " 'KI915054': 2584459,\n",
       " 'KI915055': 2376283,\n",
       " 'KI915056': 1893860,\n",
       " 'KI915057': 1856345,\n",
       " 'KI915058': 1744624,\n",
       " 'KI915059': 1738253,\n",
       " 'KI915060': 1664982,\n",
       " 'KI915061': 1567260,\n",
       " 'KI915062': 1435676,\n",
       " 'KI915063': 1423879,\n",
       " 'KI915064': 1392011,\n",
       " 'KI915065': 1359364,\n",
       " 'KI915066': 1336591,\n",
       " 'KI915067': 1024229,\n",
       " 'KI915068': 850718,\n",
       " 'KI915069': 738023,\n",
       " 'KI915070': 576774,\n",
       " 'KI915071': 445017,\n",
       " 'KI915072': 338598,\n",
       " 'KI915073': 300166,\n",
       " 'KI915074': 274521,\n",
       " 'KI915075': 267210,\n",
       " 'KI915076': 177854,\n",
       " 'KI915077': 160886,\n",
       " 'KI915078': 148821,\n",
       " 'KI915079': 142905,\n",
       " 'AXCN02002502': 132425,\n",
       " 'KI915080': 116697,\n",
       " 'KI915081': 115073,\n",
       " 'KI915082': 111152,\n",
       " 'KI915083': 107467,\n",
       " 'KI915084': 107402}"
      ]
     },
     "execution_count": 8,
     "metadata": {},
     "output_type": "execute_result"
    }
   ],
   "source": [
    "filtered_contigs"
   ]
  },
  {
   "cell_type": "code",
   "execution_count": null,
   "id": "df576071-b1d9-486b-b589-1483e4d51454",
   "metadata": {},
   "outputs": [],
   "source": [
    "def create_bed_intervals(contigs_dict, num_intervals, output_file):\n",
    "    \"\"\"Create evenly distributed BED intervals from a dictionary of contigs.\"\"\"\n",
    "    # Calculate total genome size and bases per interval\n",
    "    total_size = sum(contigs_dict.values())\n",
    "    bases_per_interval = total_size / num_intervals\n",
    "    \n",
    "    bed_data = []\n",
    "    remaining_intervals = num_intervals\n",
    "    \n",
    "    # Distribute intervals across contigs\n",
    "    for contig, length in contigs_dict.items():\n",
    "        # Calculate number of intervals for this contig\n",
    "        contig_intervals = max(1, round(length / bases_per_interval))\n",
    "        contig_intervals = min(contig_intervals, remaining_intervals)\n",
    "        \n",
    "        if contig_intervals <= 0:\n",
    "            continue\n",
    "            \n",
    "        remaining_intervals -= contig_intervals\n",
    "        interval_size = length / contig_intervals\n",
    "        \n",
    "        # Create intervals\n",
    "        for i in range(contig_intervals):\n",
    "            start = int(i * interval_size)  # 0-based for BED\n",
    "            end = int((i + 1) * interval_size)\n",
    "            \n",
    "            # Ensure last interval covers to end of contig\n",
    "            if i == contig_intervals - 1:\n",
    "                end = length\n",
    "                \n",
    "            name = f\"{contig}:{start+1}-{end}\"  # 1-based in name for readability\n",
    "            bed_data.append([contig, start, end, name])\n",
    "            \n",
    "        if remaining_intervals <= 0:\n",
    "            break\n",
    "    \n",
    "    # Create DataFrame and write to BED file\n",
    "    df = pd.DataFrame(bed_data, columns=['chrom', 'start', 'end', 'name'])\n",
    "    df.to_csv(output_file, sep='\\t', header=False, index=False)\n",
    "    \n",
    "    return len(bed_data)"
   ]
  },
  {
   "cell_type": "code",
   "execution_count": null,
   "id": "7cdea650-4565-4f51-a3dc-0402229e8a8e",
   "metadata": {},
   "outputs": [],
   "source": [
    "create_bed_intervals(filtered_contigs, 50, \"/QRISdata/Q6151/dennistpw/far_hin_1.x/work/contigs_over_1e5.bed\")"
   ]
  },
  {
   "cell_type": "code",
   "execution_count": null,
   "id": "29dcae60-cb1b-4588-9201-5f44b0a05087",
   "metadata": {},
   "outputs": [],
   "source": [
    "# More simply, we can output a list of contigs and use that as an input to a single genotypegvcfs call\n",
    "file_path = \"/QRISdata/Q6151/dennistpw/far_hin_1.x/work/contigs_to_call.txt\"\n",
    "\n",
    "needs_indexing = []\n",
    "with open(file_path, \"w\") as file:\n",
    "    for c in filtered_contigs.keys():\n",
    "            file.write(str(c) + \"\\n\")\n"
   ]
  },
  {
   "cell_type": "code",
   "execution_count": 23,
   "id": "33d891a7-87b2-4291-8ef1-f11a3553d453",
   "metadata": {},
   "outputs": [
    {
     "data": {
      "text/plain": [
       "['/QRISdata/Q6151/dennistpw/far_hin_1.x/production/genotyped_vcf/far_nNG_LR-176BO2.vcf.gz',\n",
       " '/QRISdata/Q6151/dennistpw/far_hin_1.x/production/genotyped_vcf/far_Man-2.vcf.gz']"
      ]
     },
     "execution_count": 23,
     "metadata": {},
     "output_type": "execute_result"
    }
   ],
   "source": [
    "# Let's have a look at zarr conversion now\n",
    "\n",
    "\n",
    "# Load vcf names and drop na\n",
    "vcfs_for_zarr = wgs_sample_manifest['genotyped_vcf_name'].dropna()\n",
    "\n",
    "\n",
    "\n",
    "inputs = [f'/QRISdata/Q6151/dennistpw/far_hin_1.x/production/genotyped_vcf/{vcfs_for_zarr[70]}',f'/QRISdata/Q6151/dennistpw/far_hin_1.x/production/genotyped_vcf/{vcfs_for_zarr[50]}']\n"
   ]
  },
  {
   "cell_type": "code",
   "execution_count": 44,
   "id": "f31b274c-09cb-4951-8a2e-e70eed79cd1f",
   "metadata": {},
   "outputs": [
    {
     "data": {
      "text/plain": [
       "'far_nNG_LR-176BO2.vcf.gz'"
      ]
     },
     "execution_count": 44,
     "metadata": {},
     "output_type": "execute_result"
    }
   ],
   "source": [
    "vcf"
   ]
  },
  {
   "cell_type": "code",
   "execution_count": 45,
   "id": "914c6fc5-dfa3-447f-a109-844cc7b096f6",
   "metadata": {},
   "outputs": [
    {
     "name": "stdout",
     "output_type": "stream",
     "text": [
      "CPU times: user 249 ms, sys: 68.8 ms, total: 318 ms\n",
      "Wall time: 257 ms\n"
     ]
    }
   ],
   "source": [
    "%%time\n",
    "from sgkit.io.vcf import partition_into_regions, vcf_to_zarr\n",
    "\n",
    "vcf = f'/QRISdata/Q6151/dennistpw/far_hin_1.x/production/genotyped_vcf/{vcfs_for_zarr[70]}'\n",
    "\n",
    "regions = partition_into_regions(vcf, num_parts=10)\n",
    "#vcf_to_zarr(regions, \"/QRISdata/Q6151/dennistpw/far_hin_1.x/production/output.zarr\")"
   ]
  },
  {
   "cell_type": "code",
   "execution_count": 10,
   "id": "cae2149e-8e42-4195-9b22-8cc276849022",
   "metadata": {},
   "outputs": [
    {
     "data": {
      "text/plain": [
       "(4009773, 1, 4)"
      ]
     },
     "execution_count": 10,
     "metadata": {},
     "output_type": "execute_result"
    }
   ],
   "source": [
    "t = zarr.open('/scratch/user/uqtdenni/zarr_by_contig/KI915066.zarr')\n",
    "x = t['call_AD'][:]\n",
    "x.shape"
   ]
  },
  {
   "cell_type": "code",
   "execution_count": null,
   "id": "7ad1f51f-97c4-40f9-841b-bbc6ec206031",
   "metadata": {},
   "outputs": [],
   "source": [
    "vcf = f'/QRISdata/Q6151/dennistpw/far_hin_1.x/production/genotyped_vcf/{vcfs_for_zarr[70]}'\n"
   ]
  },
  {
   "cell_type": "code",
   "execution_count": 14,
   "id": "e91bbf3e-bb44-4f8e-bf6c-06b9374d9b07",
   "metadata": {},
   "outputs": [],
   "source": [
    "import sgkit as sg\n",
    "import allel"
   ]
  },
  {
   "cell_type": "code",
   "execution_count": 6,
   "id": "16f529fd-7896-45ec-a006-afc9cb7af85c",
   "metadata": {},
   "outputs": [],
   "source": [
    "test = sg.load_dataset('/QRISdata/Q6151/dennistpw/far_hin_1.x/production/tests/test_output.zarr')"
   ]
  },
  {
   "cell_type": "code",
   "execution_count": null,
   "id": "f3466704-a095-4ec5-b65e-1cbad26e367a",
   "metadata": {},
   "outputs": [],
   "source": []
  },
  {
   "cell_type": "code",
   "execution_count": 10,
   "id": "febc14a0-ef34-4ab8-9237-6732feb42a14",
   "metadata": {},
   "outputs": [],
   "source": [
    "t = test.call_genotype.compute()"
   ]
  },
  {
   "cell_type": "code",
   "execution_count": null,
   "id": "e7dd22c3-40b9-413c-b438-1d716d964615",
   "metadata": {},
   "outputs": [],
   "source": []
  },
  {
   "cell_type": "code",
   "execution_count": 32,
   "id": "8d092bf9-1039-4d97-ac4e-202290e507e6",
   "metadata": {},
   "outputs": [
    {
     "name": "stdout",
     "output_type": "stream",
     "text": [
      "CPU times: user 2 μs, sys: 1 μs, total: 3 μs\n",
      "Wall time: 6.44 μs\n"
     ]
    }
   ],
   "source": [
    "%time\n",
    "from sgkit.io.vcf import partition_into_regions, vcf_to_zarr\n",
    "vcf = \"/QRISdata/Q6151/dennistpw/far_hin_1.x/production/tests/test.vcf.gz\"\n",
    "\n",
    "regions = partition_into_regions(vcf, num_parts=10)\n",
    "\n",
    "#vcf_to_zarr(vcf, \"/QRISdata/Q6151/dennistpw/far_hin_1.x/production/tests/test_output.zarr\", regions = regions, fields = ['FORMAT/GQ', 'FORMAT/AD', 'FORMAT/GT','INFO/MQ'])\n"
   ]
  },
  {
   "cell_type": "code",
   "execution_count": null,
   "id": "2f289ee5-2587-4eb8-898e-a2b790d207b7",
   "metadata": {},
   "outputs": [],
   "source": []
  },
  {
   "cell_type": "code",
   "execution_count": 34,
   "id": "7adb07e1-2ede-46d8-9920-d2dd8caa48a0",
   "metadata": {},
   "outputs": [
    {
     "name": "stdout",
     "output_type": "stream",
     "text": [
      "CPU times: user 23.9 s, sys: 8.68 s, total: 32.6 s\n",
      "Wall time: 27.6 s\n"
     ]
    }
   ],
   "source": [
    "%%time\n",
    "vcf_to_zarr(vcf, \"/QRISdata/Q6151/dennistpw/far_hin_1.x/production/tests/test_output.zarr\", regions = regions, fields = ['FORMAT/GQ', 'FORMAT/AD', 'FORMAT/GT','INFO/MQ'])\n"
   ]
  }
 ],
 "metadata": {
  "kernelspec": {
   "display_name": "far_hin_1.x",
   "language": "python",
   "name": "far_hin_1.x"
  },
  "language_info": {
   "codemirror_mode": {
    "name": "ipython",
    "version": 3
   },
   "file_extension": ".py",
   "mimetype": "text/x-python",
   "name": "python",
   "nbconvert_exporter": "python",
   "pygments_lexer": "ipython3",
   "version": "3.13.3"
  }
 },
 "nbformat": 4,
 "nbformat_minor": 5
}
