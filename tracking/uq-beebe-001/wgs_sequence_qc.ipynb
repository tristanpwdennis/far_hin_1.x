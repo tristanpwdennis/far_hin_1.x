{
 "cells": [
  {
   "cell_type": "code",
   "execution_count": 2,
   "id": "feefe81b-e073-496c-af33-309e80f89ab9",
   "metadata": {},
   "outputs": [],
   "source": [
    "import allel\n",
    "import seaborn as sns\n",
    "import zarr\n",
    "import xarray as xr\n",
    "import dask.array as da\n",
    "from Bio import SeqIO\n"
   ]
  },
  {
   "cell_type": "code",
   "execution_count": 9,
   "id": "01c87a21-1887-4196-a6d7-bc3f16453077",
   "metadata": {},
   "outputs": [
    {
     "data": {
      "text/plain": [
       "dict_keys(['KI915040', 'KI915041', 'KI915042', 'KI915043', 'KI915044', 'KI915045', 'KI915046', 'KI915047', 'KI915048', 'KI915049', 'KI915050', 'KI915051', 'KI915052', 'KI915053', 'KI915054', 'KI915055', 'KI915056', 'KI915057', 'KI915058', 'KI915059', 'KI915060', 'KI915061', 'KI915062', 'KI915063', 'KI915064', 'KI915065', 'KI915066', 'KI915067', 'KI915068', 'KI915069', 'KI915070', 'KI915071', 'KI915072', 'KI915073', 'KI915074', 'KI915075', 'KI915076', 'KI915077', 'KI915078', 'KI915079', 'AXCN02002502', 'KI915080', 'KI915081', 'KI915082', 'KI915083', 'KI915084'])"
      ]
     },
     "execution_count": 9,
     "metadata": {},
     "output_type": "execute_result"
    }
   ],
   "source": [
    "# Let's start by converting zarrs for the 5 largest contigs - we can do QC on them...\n",
    "ref_path = '/home/uqtdenni/far_hin_1.x/data/reference/VectorBase-54_AfarautiFAR1_Genome.fasta'\n",
    "# now let's get a list of the contigs that we are going to call over\n",
    "contig_lengths = {}\n",
    "for record in SeqIO.parse(ref_path, \"fasta\"):\n",
    "    seq_id = record.id\n",
    "    seq_length = len(record.seq)\n",
    "    contig_lengths[seq_id] = seq_length\n",
    "filtered_contigs = {k: v for k, v in sorted(contig_lengths.items(), key=lambda item: item[1], reverse=True) if v > 100000}\n",
    "['KI915040', 'KI915041', 'KI915042', 'KI915043', 'KI915044']"
   ]
  },
  {
   "cell_type": "code",
   "execution_count": 10,
   "id": "b406acf7-730f-4395-8605-9d37e137512b",
   "metadata": {},
   "outputs": [
    {
     "data": {
      "text/plain": [
       "{'KI915040': 30017264,\n",
       " 'KI915041': 22738934,\n",
       " 'KI915042': 16089237,\n",
       " 'KI915043': 15719670,\n",
       " 'KI915044': 12895223,\n",
       " 'KI915045': 12084465,\n",
       " 'KI915046': 7675037,\n",
       " 'KI915047': 6913162,\n",
       " 'KI915048': 6651167,\n",
       " 'KI915049': 6084899,\n",
       " 'KI915050': 6025392,\n",
       " 'KI915051': 3202847,\n",
       " 'KI915052': 3111553,\n",
       " 'KI915053': 2944040,\n",
       " 'KI915054': 2584459,\n",
       " 'KI915055': 2376283,\n",
       " 'KI915056': 1893860,\n",
       " 'KI915057': 1856345,\n",
       " 'KI915058': 1744624,\n",
       " 'KI915059': 1738253,\n",
       " 'KI915060': 1664982,\n",
       " 'KI915061': 1567260,\n",
       " 'KI915062': 1435676,\n",
       " 'KI915063': 1423879,\n",
       " 'KI915064': 1392011,\n",
       " 'KI915065': 1359364,\n",
       " 'KI915066': 1336591,\n",
       " 'KI915067': 1024229,\n",
       " 'KI915068': 850718,\n",
       " 'KI915069': 738023,\n",
       " 'KI915070': 576774,\n",
       " 'KI915071': 445017,\n",
       " 'KI915072': 338598,\n",
       " 'KI915073': 300166,\n",
       " 'KI915074': 274521,\n",
       " 'KI915075': 267210,\n",
       " 'KI915076': 177854,\n",
       " 'KI915077': 160886,\n",
       " 'KI915078': 148821,\n",
       " 'KI915079': 142905,\n",
       " 'AXCN02002502': 132425,\n",
       " 'KI915080': 116697,\n",
       " 'KI915081': 115073,\n",
       " 'KI915082': 111152,\n",
       " 'KI915083': 107467,\n",
       " 'KI915084': 107402}"
      ]
     },
     "execution_count": 10,
     "metadata": {},
     "output_type": "execute_result"
    }
   ],
   "source": [
    "filtered_contigs"
   ]
  },
  {
   "cell_type": "code",
   "execution_count": 5,
   "id": "1d6caa5e-619e-4461-9231-33aeb51f63bd",
   "metadata": {},
   "outputs": [],
   "source": [
    "test_zarr_path = '/scratch/user/uqtdenni/snp_genotypes_zarr/genotyped_KI915040_4000001-5000000.zarr'\n",
    "qc_set = xr.open_zarr(test_zarr_path)"
   ]
  },
  {
   "cell_type": "code",
   "execution_count": 17,
   "id": "ba64a5c2-3e9f-4c1f-a60e-c89d1a1295c6",
   "metadata": {},
   "outputs": [
    {
     "data": {
      "text/html": [
       "<table>\n",
       "    <tr>\n",
       "        <td>\n",
       "            <table style=\"border-collapse: collapse;\">\n",
       "                <thead>\n",
       "                    <tr>\n",
       "                        <td> </td>\n",
       "                        <th> Array </th>\n",
       "                        <th> Chunk </th>\n",
       "                    </tr>\n",
       "                </thead>\n",
       "                <tbody>\n",
       "                    \n",
       "                    <tr>\n",
       "                        <th> Bytes </th>\n",
       "                        <td> 2.05 GiB </td>\n",
       "                        <td> 2.05 GiB </td>\n",
       "                    </tr>\n",
       "                    \n",
       "                    <tr>\n",
       "                        <th> Shape </th>\n",
       "                        <td> (534897, 515) </td>\n",
       "                        <td> (534897, 515) </td>\n",
       "                    </tr>\n",
       "                    <tr>\n",
       "                        <th> Dask graph </th>\n",
       "                        <td colspan=\"2\"> 1 chunks in 3 graph layers </td>\n",
       "                    </tr>\n",
       "                    <tr>\n",
       "                        <th> Data type </th>\n",
       "                        <td colspan=\"2\"> int64 numpy.ndarray </td>\n",
       "                    </tr>\n",
       "                </tbody>\n",
       "            </table>\n",
       "        </td>\n",
       "        <td>\n",
       "        <svg width=\"75\" height=\"170\" style=\"stroke:rgb(0,0,0);stroke-width:1\" >\n",
       "\n",
       "  <!-- Horizontal lines -->\n",
       "  <line x1=\"0\" y1=\"0\" x2=\"25\" y2=\"0\" style=\"stroke-width:2\" />\n",
       "  <line x1=\"0\" y1=\"120\" x2=\"25\" y2=\"120\" style=\"stroke-width:2\" />\n",
       "\n",
       "  <!-- Vertical lines -->\n",
       "  <line x1=\"0\" y1=\"0\" x2=\"0\" y2=\"120\" style=\"stroke-width:2\" />\n",
       "  <line x1=\"25\" y1=\"0\" x2=\"25\" y2=\"120\" style=\"stroke-width:2\" />\n",
       "\n",
       "  <!-- Colored Rectangle -->\n",
       "  <polygon points=\"0.0,0.0 25.412616514582485,0.0 25.412616514582485,120.0 0.0,120.0\" style=\"fill:#ECB172A0;stroke-width:0\"/>\n",
       "\n",
       "  <!-- Text -->\n",
       "  <text x=\"12.706308\" y=\"140.000000\" font-size=\"1.0rem\" font-weight=\"100\" text-anchor=\"middle\" >515</text>\n",
       "  <text x=\"45.412617\" y=\"60.000000\" font-size=\"1.0rem\" font-weight=\"100\" text-anchor=\"middle\" transform=\"rotate(-90,45.412617,60.000000)\">534897</text>\n",
       "</svg>\n",
       "        </td>\n",
       "    </tr>\n",
       "</table>"
      ],
      "text/plain": [
       "dask.array<sum-aggregate, shape=(534897, 515), dtype=int64, chunksize=(534897, 515), chunktype=numpy.ndarray>"
      ]
     },
     "execution_count": 17,
     "metadata": {},
     "output_type": "execute_result"
    }
   ],
   "source": [
    "# Load depth data\n",
    "ad = qc_set.call_AD\n",
    "da.sum(ad, axis = 2)"
   ]
  }
 ],
 "metadata": {
  "kernelspec": {
   "display_name": "Python 3 (ipykernel)",
   "language": "python",
   "name": "python3"
  },
  "language_info": {
   "codemirror_mode": {
    "name": "ipython",
    "version": 3
   },
   "file_extension": ".py",
   "mimetype": "text/x-python",
   "name": "python",
   "nbconvert_exporter": "python",
   "pygments_lexer": "ipython3",
   "version": "3.13.3"
  }
 },
 "nbformat": 4,
 "nbformat_minor": 5
}
