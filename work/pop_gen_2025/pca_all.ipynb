{
 "cells": [
  {
   "cell_type": "code",
   "execution_count": 10,
   "id": "8ff5ee09-0d7f-46fd-87cc-b6111878fccf",
   "metadata": {},
   "outputs": [],
   "source": [
    "import allel\n",
    "import seaborn as sns\n",
    "import zarr\n",
    "import xarray as xr\n",
    "import plotly.express as px\n",
    "import dask.array as da\n",
    "import numpy as np\n",
    "import json\n",
    "import hashlib\n",
    "import pandas as pd\n",
    "import bokeh.plotting as bkplt\n",
    "import bokeh.io as bkio\n",
    "import bokeh.palettes as bokpalet\n",
    "import bokeh.models as bkmod\n",
    "import matplotlib.pyplot as plt\n",
    "import cartopy\n",
    "from Bio import SeqIO\n",
    "from pathlib import Path\n",
    "import sys"
   ]
  },
  {
   "cell_type": "code",
   "execution_count": 11,
   "id": "9559adef-bc92-4fc3-bd11-93254466cc7b",
   "metadata": {},
   "outputs": [
    {
     "data": {
      "text/plain": [
       "PosixPath('/home/uqtdenni/.conda/envs/far_hin_1.x/lib/python3.13/site-packages/choreographer/cli/browser_exe/chrome-linux64/chrome')"
      ]
     },
     "execution_count": 11,
     "metadata": {},
     "output_type": "execute_result"
    }
   ],
   "source": [
    "import kaleido\n",
    "kaleido.get_chrome_sync()  "
   ]
  },
  {
   "cell_type": "code",
   "execution_count": 47,
   "id": "e6c35279-db75-4dc7-aeba-215c4951d678",
   "metadata": {},
   "outputs": [],
   "source": [
    "# Define metadata and qc bool globally to start\n",
    "#define useful variables\n",
    "zarr_base_path = f\"/scratch/user/uqtdenni/afar_production_bunya/curation/uq-beebe-001/staged_zarr/{{contig}}.zarr\"\n",
    "\n",
    "# Let's start by converting zarrs for the 5 largest contigs - we can do QC on them...\n",
    "ref_path = '/scratch/user/uqtdenni/afar_production_bunya/reference/VectorBase-54_AfarautiFAR1_Genome.fasta'\n",
    "# now let's get a list of the contigs that we are going to call over\n",
    "contig_lengths = {}\n",
    "for record in SeqIO.parse(ref_path, \"fasta\"):\n",
    "    seq_id = record.id\n",
    "    seq_length = len(record.seq)\n",
    "    contig_lengths[seq_id] = seq_length\n",
    "filtered_contigs = {k: v for k, v in sorted(contig_lengths.items(), key=lambda item: item[1], reverse=True) if v > 100000}\n",
    "\n",
    "# Because these data are unstaged, we need to faff about a bit more and load the unstaged metadata to exclude extra dud samples\n",
    "#df_samples = pd.read_csv('/scratch/user/uqtdenni/far_hin_1.x/work/metadata_development_20250702/sample-metadata-master.txt', sep = '\\t',index_col = 'partner_sample_id')\n",
    "# And load the final (cleaned) metadata\n",
    "#qcpass_data = pd.read_table('/scratch/user/uqtdenni/far_hin_1.x/work/metadata_development_20250702/sample_metadata_pass_qc_fix.txt', index_col = 'partner_sample_id')\n",
    "\n",
    "df_samples = pd.read_csv('/scratch/user/uqtdenni/far_hin_1.x/work/metadata_development_20250702/metadata-staged-speciesconfirmed-20251011.txt',sep='\\t')\n",
    "\n",
    "# Mask removing samples we removed before the staging step of QC (that I haven't done yet)\n",
    "#qc_bool = df_samples_dirty.index.isin(df_samples.index)\n",
    "\n",
    "# Zarr location\n",
    "zarr_base_path = f\"/scratch/user/uqtdenni/afar_production_bunya/curation/uq-beebe-001/combined_zarr/{{contig}}.zarr\"\n"
   ]
  },
  {
   "cell_type": "code",
   "execution_count": 14,
   "id": "19ed58b2-31c5-4044-a261-8bb02b809d62",
   "metadata": {},
   "outputs": [],
   "source": [
    "# Define helper functions\n",
    "\n",
    "def hash_params(*args, **kwargs):\n",
    "    \"\"\"Helper function to hash analysis parameters.\"\"\"\n",
    "    o = {\n",
    "        'args': args,\n",
    "        'kwargs': kwargs\n",
    "    }\n",
    "    s = json.dumps(o, sort_keys=True).encode()\n",
    "    h = hashlib.md5(s).hexdigest()\n",
    "    return h\n",
    "\n",
    "# Define helper functions\n",
    "def load_genotype_array(contig, df_samples=df_samples, sample_query = None, n_snps=None):\n",
    "    # Load gts and remove failed qc samples\n",
    "    z = zarr.open(zarr_base_path.format(contig=contig))\n",
    "    \n",
    "    # Variant-level mask: punctulatus_group_filter_pass\n",
    "    filter_mask = z[f\"{contig}/filter_pass\"][:]\n",
    "\n",
    "    gt = allel.GenotypeChunkedArray(z[f\"{contig}/calldata/GT\"])\n",
    "    \n",
    "    # Apply combined variant mask\n",
    "    gt = allel.GenotypeChunkedArray(z[f\"{contig}/calldata/GT\"])\n",
    "    gt = gt.compress(filter_mask, axis=0)    # Filter variants\n",
    "    \n",
    "    # If an additional mask is supplied to subset the data from the finished metadata, apply, else return all samples\n",
    "    if sample_query is not None:\n",
    "        bool_query = np.array(df_samples.eval(sample_query))\n",
    "        gt = gt.compress(bool_query, axis=1)\n",
    "    if n_snps is not None:\n",
    "            gt = select_random_genotypes_sorted(gt, n_snps)\n",
    "\n",
    "    return gt\n",
    "\n",
    "\n",
    "def select_random_elements_sorted(g, x, replace=False, seed=None):\n",
    "    \"\"\"\n",
    "    Select x random rows from a 2D array, returned in sorted order.\n",
    "\n",
    "    Parameters:\n",
    "    - array: array 2d, shape (n_genotypes, n_features)\n",
    "    - x: int, number of rows to select\n",
    "    - replace: bool, whether sampling is with replacement (default: False)\n",
    "    - seed: int, random seed for reproducibility (default: None)\n",
    "\n",
    "    Returns:\n",
    "    - np.ndarray of shape (x, n_features)\n",
    "    \"\"\"\n",
    "\n",
    "    # Select random sites from that set\n",
    "    rng = np.random.default_rng(seed)\n",
    "    n_rows = g.shape[0]\n",
    "    if not replace and x > n_rows:\n",
    "        raise ValueError(f\"Cannot select {x} rows without replacement from {n_rows} total rows.\")\n",
    "    indices = rng.choice(n_rows, size=x, replace=replace)\n",
    "    sorted_indices = np.sort(indices)\n",
    "\n",
    "    return g[sorted_indices]\n",
    "\n",
    "def compute_ac(contig, is_biallelic=True, is_segregating=True, min_minor_ac=1, n_snps=None, sample_query=None, to_alt = None):\n",
    "    \n",
    "    g = load_genotype_array(contig=contig, sample_query=sample_query)  \n",
    "    \n",
    "    ac = g.count_alleles()\n",
    "    \n",
    "    mask = None\n",
    "    \n",
    "    # Apply biallelic filter\n",
    "    if is_biallelic:\n",
    "        biallelic_mask = ac.is_biallelic()\n",
    "        mask = biallelic_mask if mask is None else mask & biallelic_mask\n",
    "    \n",
    "    # Apply segregating filter\n",
    "    if is_segregating:\n",
    "        segregating_mask = ac.is_segregating()\n",
    "        mask = segregating_mask if mask is None else mask & segregating_mask\n",
    "    \n",
    "    # Apply minor allele count filter\n",
    "    if min_minor_ac is not None:\n",
    "        an = ac.sum(axis=1)\n",
    "    # Apply minor allele count condition.\n",
    "        ac_minor = ac[:, 1:].sum(axis=1)\n",
    "        if isinstance(min_minor_ac, float):\n",
    "            ac_minor_frac = ac_minor / an\n",
    "            loc_minor_mask = ac_minor_frac >= min_minor_ac\n",
    "        else:\n",
    "            loc_minor_mask = ac_minor >= min_minor_ac\n",
    "        mask = loc_minor_mask if mask is None else mask & loc_minor_mask\n",
    "    \n",
    "    # Apply all filters at once\n",
    "    if mask is not None:\n",
    "        gt = g.compress(mask)\n",
    "    \n",
    "    # Random selection (if needed)\n",
    "    if n_snps is not None:  # Fixed: 'if' instead of 'is'\n",
    "        gt = select_random_elements_sorted(gt, n_snps)\n",
    "    \n",
    "    if to_alt is not None:\n",
    "        return gt.to_n_alt()\n",
    "    else:\n",
    "        return gt.count_alleles()\n",
    "    \n",
    "def run_pca(contig, sample_df=df_samples, analysis_name='pca', n_snps=50_000, sample_query = None, results_dir='results_cache', min_minor_ac=1, n_components=10):\n",
    "\n",
    "        # construct a key to save the results under\n",
    "    results_key = hash_params(\n",
    "        contig=contig,\n",
    "        sample_query=sample_query,\n",
    "        analysis_name=analysis_name,\n",
    "        min_minor_ac=min_minor_ac,\n",
    "        n_snps=n_snps,\n",
    "        n_components=n_components,\n",
    "    )\n",
    "\n",
    "    # define paths for results files\n",
    "    data_path = f'{results_dir}/{results_key}-data.csv'\n",
    "    evr_path = f'{results_dir}/{results_key}-evr.npy'\n",
    "\n",
    "    try:\n",
    "        # try to load previously generated results\n",
    "        data = pd.read_csv(data_path)\n",
    "        evr = np.load(evr_path)\n",
    "        return data, evr\n",
    "    except FileNotFoundError:\n",
    "        # no previous results available, need to run analysis\n",
    "        print(f'running analysis: {results_key}')\n",
    "    \n",
    "    print('setting up inputs')\n",
    "\n",
    "    # Load data\n",
    "\n",
    "    # Prepare input matrix\n",
    "    g = load_genotype_array(contig=contig, sample_query=sample_query) # Load genotypes\n",
    "    ac = g.count_alleles() #Count alleles\n",
    "    flt = (ac.max_allele() == 1) & (ac[:, :2].min(axis=1) > 1) # Remove singletons and multiallelics\n",
    "    gf = g.compress(flt, axis=0) #Apply filter\n",
    "    gn = select_random_elements_sorted(gf, n_snps).to_n_alt() # Select random n snps\n",
    "\n",
    "    # Subset sample df\n",
    "    if sample_query is not None:\n",
    "        df=sample_df.query(sample_query)\n",
    "    else:\n",
    "        df=sample_df\n",
    "\n",
    "    # Run PCA\n",
    "    coords, model = allel.pca(gn, n_components=10, scaler='patterson') # Run PCA\n",
    "    df_coords = pd.DataFrame(\n",
    "        {f\"PC{i + 1}\": coords[:, i] for i in range(coords.shape[1])}\n",
    "    )    \n",
    "    data = pd.concat([df.reset_index(), df_coords.reset_index(drop=True)], axis=1)\n",
    "\n",
    "    #Save output\n",
    "    evr = model.explained_variance_ratio_\n",
    "    data.to_csv(data_path, index=False)\n",
    "    np.save(evr_path, evr)\n",
    "    print(f'saved results: {results_key}')\n",
    "\n",
    "    return data, evr\n",
    "\n",
    "def plot_pca(data, evr, i='PC1',j='PC2', colourfac='species_pca', palette = px.colors.qualitative.T10, plotname='pca'):\n",
    "\n",
    "\n",
    "        pc_list = [f\"PC{i+1}\" for i in range(0, len(evr))]\n",
    "        pc_dict = dict(zip(pc_list, evr.tolist()))\n",
    "\n",
    "        xlab = f\"{i}, {pc_dict[i] * 100:.2f}%\"\n",
    "        ylab = f\"{j}, {pc_dict[j] * 100:.2f}%\"\n",
    "\n",
    "\n",
    "        fig = px.scatter(data,\n",
    "                    x=i,\n",
    "                    y=j,\n",
    "                    color=colourfac,\n",
    "                    template='simple_white',\n",
    "                    hover_data = ['derived_sample_id','species','country','admin1_iso','admin1_name','divergence','median_cov', 'latitude','longitude'],\n",
    "                    color_discrete_map = palette,\n",
    "                    width = 600, height=500,\n",
    "        )\n",
    "        # Add axis titles\n",
    "        fig.update_layout(\n",
    "                xaxis_title=xlab,\n",
    "                yaxis_title=ylab\n",
    "        )\n",
    "        fig.update_traces(marker=dict(size=10, opacity=0.7))\n",
    "\n",
    "        fig.show(renderer=\"iframe\")\n",
    "\n",
    "        fig.write_image(f\"{plotname}.svg\")  # This should work with kaleido\n",
    "\n"
   ]
  },
  {
   "cell_type": "code",
   "execution_count": 16,
   "id": "3d742d91-5f64-44ef-bab1-934e4cc25813",
   "metadata": {},
   "outputs": [],
   "source": [
    "# Set colour dict to standardise across plots\n",
    "\n",
    "iso_colors = {\n",
    "    'PG-GPK': '#1f77b4', 'PG-NSB': '#ff7f0e', 'SB-GU': '#2ca02c',\n",
    "    'PG-MRL': '#d62728', 'AU-NT': '#9467bd', 'AU-QLD': '#8c564b',\n",
    "    'SB-MK': '#e377c2', 'VU-SEE': '#7f7f7f', 'SB-WE': '#bcbd22',\n",
    "    'PG-NPP': '#17becf', 'PG-MPL': '#aec7e8', 'PG-MPM': '#ffbb78',\n",
    "    'PG-ESW': '#98df8a', 'PG-WPD': '#ff9896', 'PG-MBA': '#c5b0d5',\n",
    "    'PG-CPM': '#c49c94', 'PG-HLA': '#f7b6d3', 'PG-SHM': '#c7c7c7',\n",
    "    'PG-UNK': '#dbdb8d'\n",
    "}\n",
    "\n"
   ]
  },
  {
   "cell_type": "code",
   "execution_count": 17,
   "id": "f1b76218-979d-451c-8fdf-126bee79b285",
   "metadata": {},
   "outputs": [
    {
     "data": {
      "text/html": [
       "<iframe\n",
       "    scrolling=\"no\"\n",
       "    width=\"620px\"\n",
       "    height=\"520\"\n",
       "    src=\"iframe_figures/figure_17.html\"\n",
       "    frameborder=\"0\"\n",
       "    allowfullscreen\n",
       "></iframe>\n"
      ]
     },
     "metadata": {},
     "output_type": "display_data"
    }
   ],
   "source": [
    "model_all, evr_all = run_pca(contig = \"KI915040\", n_snps=50_000)\n",
    "plot_pca(model_all, evr_all, colourfac = 'species_pca', palette=iso_colors)"
   ]
  },
  {
   "cell_type": "code",
   "execution_count": 63,
   "id": "4733ddbd-ada9-440d-b43b-af2fec32efb5",
   "metadata": {},
   "outputs": [],
   "source": [
    "# Now let's map our species groupings / potential mis-id back to the metadata\n",
    "# We can comment all of this out now\n",
    "# New DF with updated \n",
    "df_samples_pass_speciesupdates = df_samples.copy()\n",
    "#df_samples_pass_speciesupdates.set_index('partner_sample_id', inplace=True)\n",
    "df_samples_pass_speciesupdates[\"species_pca\"] =df_samples_pass_speciesupdates[\"species\"]\n",
    "hine_possibles = list(model_all[(model_all[\"PC2\"] < -90) & (model_all.species == 'farauti_ss')].partner_sample_id)\n",
    "hine_possibles = hine_possibles + [\"tor_wQLD_Por_52\",\"far_WPSI_sol160\",\"hin_WPSL_sol135\",\"hin_WPSL_sol160\"]\n",
    "df_samples_pass_speciesupdates.loc[df_samples_pass_speciesupdates.index.isin(hine_possibles), 'species_pca'] = 'hinesorum'\n",
    "df_samples_pass_speciesupdates.loc[df_samples_pass_speciesupdates.index.isin([\"hin_WPSL_sol86\"]), 'species_pca'] = 'farauti_ss'\n"
   ]
  },
  {
   "cell_type": "code",
   "execution_count": 60,
   "id": "f7c16148-476c-4d08-94bc-03528284aba5",
   "metadata": {},
   "outputs": [],
   "source": []
  },
  {
   "cell_type": "code",
   "execution_count": 64,
   "id": "9ab82481-dc6b-4a70-b1ad-5f28adbd9490",
   "metadata": {},
   "outputs": [
    {
     "data": {
      "text/html": [
       "<div>\n",
       "<style scoped>\n",
       "    .dataframe tbody tr th:only-of-type {\n",
       "        vertical-align: middle;\n",
       "    }\n",
       "\n",
       "    .dataframe tbody tr th {\n",
       "        vertical-align: top;\n",
       "    }\n",
       "\n",
       "    .dataframe thead th {\n",
       "        text-align: right;\n",
       "    }\n",
       "</style>\n",
       "<table border=\"1\" class=\"dataframe\">\n",
       "  <thead>\n",
       "    <tr style=\"text-align: right;\">\n",
       "      <th></th>\n",
       "      <th>la_sample_id</th>\n",
       "      <th>species</th>\n",
       "      <th>group</th>\n",
       "      <th>population</th>\n",
       "      <th>site</th>\n",
       "      <th>latitude</th>\n",
       "      <th>longitude</th>\n",
       "      <th>admin1_name</th>\n",
       "      <th>admin1_iso</th>\n",
       "      <th>country</th>\n",
       "      <th>country_iso</th>\n",
       "      <th>collection_year</th>\n",
       "      <th>collection_method</th>\n",
       "      <th>notes</th>\n",
       "      <th>Unnamed: 15</th>\n",
       "      <th>Unnamed: 16</th>\n",
       "      <th>species_pca</th>\n",
       "    </tr>\n",
       "    <tr>\n",
       "      <th>partner_sample_id</th>\n",
       "      <th></th>\n",
       "      <th></th>\n",
       "      <th></th>\n",
       "      <th></th>\n",
       "      <th></th>\n",
       "      <th></th>\n",
       "      <th></th>\n",
       "      <th></th>\n",
       "      <th></th>\n",
       "      <th></th>\n",
       "      <th></th>\n",
       "      <th></th>\n",
       "      <th></th>\n",
       "      <th></th>\n",
       "      <th></th>\n",
       "      <th></th>\n",
       "      <th></th>\n",
       "    </tr>\n",
       "  </thead>\n",
       "  <tbody>\n",
       "    <tr>\n",
       "      <th>hin_WPSL_sol86</th>\n",
       "      <td>hin_WPSL_sol86</td>\n",
       "      <td>hinesorum</td>\n",
       "      <td>y</td>\n",
       "      <td>NaN</td>\n",
       "      <td>NaN</td>\n",
       "      <td>-8.407</td>\n",
       "      <td>157.338</td>\n",
       "      <td>Western</td>\n",
       "      <td>SB-WE</td>\n",
       "      <td>Solomon Islands</td>\n",
       "      <td>SB</td>\n",
       "      <td>2023</td>\n",
       "      <td>Larval</td>\n",
       "      <td>NaN</td>\n",
       "      <td>NaN</td>\n",
       "      <td>NaN</td>\n",
       "      <td>farauti_ss</td>\n",
       "    </tr>\n",
       "  </tbody>\n",
       "</table>\n",
       "</div>"
      ],
      "text/plain": [
       "                     la_sample_id    species group population site  latitude  \\\n",
       "partner_sample_id                                                              \n",
       "hin_WPSL_sol86     hin_WPSL_sol86  hinesorum     y        NaN  NaN    -8.407   \n",
       "\n",
       "                   longitude admin1_name admin1_iso          country  \\\n",
       "partner_sample_id                                                      \n",
       "hin_WPSL_sol86       157.338     Western      SB-WE  Solomon Islands   \n",
       "\n",
       "                  country_iso collection_year collection_method notes  \\\n",
       "partner_sample_id                                                       \n",
       "hin_WPSL_sol86             SB            2023            Larval   NaN   \n",
       "\n",
       "                   Unnamed: 15  Unnamed: 16 species_pca  \n",
       "partner_sample_id                                        \n",
       "hin_WPSL_sol86             NaN          NaN  farauti_ss  "
      ]
     },
     "execution_count": 64,
     "metadata": {},
     "output_type": "execute_result"
    }
   ],
   "source": [
    "df_samples_pass_speciesupdates.query('partner_sample_id == \"hin_WPSL_sol86\"')"
   ]
  },
  {
   "cell_type": "code",
   "execution_count": 65,
   "id": "f734d703-4949-4b64-9592-8fe05fcae920",
   "metadata": {},
   "outputs": [],
   "source": [
    "df_samples_pass_speciesupdates.to_csv('../metadata_development_20250702/metadata-staged-speciesconfirmed-20251011.txt', sep = '\\t')"
   ]
  },
  {
   "cell_type": "code",
   "execution_count": 42,
   "id": "0d46d28d-733c-4d47-8b4f-13411f17cece",
   "metadata": {},
   "outputs": [
    {
     "data": {
      "text/html": [
       "<iframe\n",
       "    scrolling=\"no\"\n",
       "    width=\"620px\"\n",
       "    height=\"520\"\n",
       "    src=\"iframe_figures/figure_42.html\"\n",
       "    frameborder=\"0\"\n",
       "    allowfullscreen\n",
       "></iframe>\n"
      ]
     },
     "metadata": {},
     "output_type": "display_data"
    }
   ],
   "source": [
    "model_far, evr_far = run_pca(contig = \"KI915040\", n_snps=50_000, sample_query='species_pca == \"farauti_ss\"')\n",
    "plot_pca(model_far, evr_far, colourfac='admin1_iso', palette = iso_colors, plotname = 'farauti_all')"
   ]
  },
  {
   "cell_type": "code",
   "execution_count": 43,
   "id": "57449628-6678-4347-8d4f-50f066aeb44b",
   "metadata": {},
   "outputs": [
    {
     "data": {
      "text/html": [
       "<iframe\n",
       "    scrolling=\"no\"\n",
       "    width=\"620px\"\n",
       "    height=\"520\"\n",
       "    src=\"iframe_figures/figure_43.html\"\n",
       "    frameborder=\"0\"\n",
       "    allowfullscreen\n",
       "></iframe>\n"
      ]
     },
     "metadata": {},
     "output_type": "display_data"
    }
   ],
   "source": [
    "model_far_png, evr_far_png = run_pca(contig = \"KI915040\", n_snps=50_000, sample_query='species_pca == \"farauti_ss\" & country == \"Papua New Guinea\" & admin1_iso != \"PG-NSB\" & admin1_iso != \"PG-MRL\" & admin1_iso != \"PG-WPD\" & partner_sample_id != \"far_sPP_GR14-BC138\"')\n",
    "plot_pca(model_far_png, evr_far_png, colourfac='admin1_iso', palette = iso_colors)"
   ]
  },
  {
   "cell_type": "code",
   "execution_count": 44,
   "id": "dbc89064-b55d-4538-b6b0-8d8f15e5093c",
   "metadata": {
    "scrolled": true
   },
   "outputs": [
    {
     "data": {
      "text/html": [
       "<iframe\n",
       "    scrolling=\"no\"\n",
       "    width=\"620px\"\n",
       "    height=\"520\"\n",
       "    src=\"iframe_figures/figure_44.html\"\n",
       "    frameborder=\"0\"\n",
       "    allowfullscreen\n",
       "></iframe>\n"
      ]
     },
     "metadata": {},
     "output_type": "display_data"
    }
   ],
   "source": [
    "model_far_au, evr_far_au = run_pca(contig = \"KI915040\", n_snps=50_000, sample_query='species_pca == \"farauti_ss\" & (country_iso == \"AU\" | admin1_iso == \"PG-WPD\")')\n",
    "plot_pca(model_far_au, evr_far_au, colourfac='admin1_iso', palette = iso_colors, plotname = 'farauti_aus')"
   ]
  },
  {
   "cell_type": "code",
   "execution_count": 10,
   "id": "d036d972-d0ce-47a4-b077-70da4e299fa9",
   "metadata": {},
   "outputs": [
    {
     "ename": "KeyError",
     "evalue": "'partner_sample_id'",
     "output_type": "error",
     "traceback": [
      "\u001b[0;31m---------------------------------------------------------------------------\u001b[0m",
      "\u001b[0;31mKeyError\u001b[0m                                  Traceback (most recent call last)",
      "File \u001b[0;32m~/.conda/envs/far_hin_1.x/lib/python3.13/site-packages/pandas/core/indexes/base.py:3805\u001b[0m, in \u001b[0;36mIndex.get_loc\u001b[0;34m(self, key)\u001b[0m\n\u001b[1;32m   3804\u001b[0m \u001b[38;5;28;01mtry\u001b[39;00m:\n\u001b[0;32m-> 3805\u001b[0m     \u001b[38;5;28;01mreturn\u001b[39;00m \u001b[38;5;28;43mself\u001b[39;49m\u001b[38;5;241;43m.\u001b[39;49m\u001b[43m_engine\u001b[49m\u001b[38;5;241;43m.\u001b[39;49m\u001b[43mget_loc\u001b[49m\u001b[43m(\u001b[49m\u001b[43mcasted_key\u001b[49m\u001b[43m)\u001b[49m\n\u001b[1;32m   3806\u001b[0m \u001b[38;5;28;01mexcept\u001b[39;00m \u001b[38;5;167;01mKeyError\u001b[39;00m \u001b[38;5;28;01mas\u001b[39;00m err:\n",
      "File \u001b[0;32mindex.pyx:167\u001b[0m, in \u001b[0;36mpandas._libs.index.IndexEngine.get_loc\u001b[0;34m()\u001b[0m\n",
      "File \u001b[0;32mindex.pyx:196\u001b[0m, in \u001b[0;36mpandas._libs.index.IndexEngine.get_loc\u001b[0;34m()\u001b[0m\n",
      "File \u001b[0;32mpandas/_libs/hashtable_class_helper.pxi:7081\u001b[0m, in \u001b[0;36mpandas._libs.hashtable.PyObjectHashTable.get_item\u001b[0;34m()\u001b[0m\n",
      "File \u001b[0;32mpandas/_libs/hashtable_class_helper.pxi:7089\u001b[0m, in \u001b[0;36mpandas._libs.hashtable.PyObjectHashTable.get_item\u001b[0;34m()\u001b[0m\n",
      "\u001b[0;31mKeyError\u001b[0m: 'partner_sample_id'",
      "\nThe above exception was the direct cause of the following exception:\n",
      "\u001b[0;31mKeyError\u001b[0m                                  Traceback (most recent call last)",
      "Cell \u001b[0;32mIn[10], line 18\u001b[0m\n\u001b[1;32m     16\u001b[0m \u001b[38;5;66;03m# Define col for pca group\u001b[39;00m\n\u001b[1;32m     17\u001b[0m df_samples[\u001b[38;5;124m'\u001b[39m\u001b[38;5;124mpca_group\u001b[39m\u001b[38;5;124m'\u001b[39m] \u001b[38;5;241m=\u001b[39m \u001b[38;5;28;01mNone\u001b[39;00m\n\u001b[0;32m---> 18\u001b[0m df_samples\u001b[38;5;241m.\u001b[39mloc[\u001b[43mdf_samples\u001b[49m\u001b[43m[\u001b[49m\u001b[38;5;124;43m'\u001b[39;49m\u001b[38;5;124;43mpartner_sample_id\u001b[39;49m\u001b[38;5;124;43m'\u001b[39;49m\u001b[43m]\u001b[49m\u001b[38;5;241m.\u001b[39misin(cohort_tsi_ng), \u001b[38;5;124m'\u001b[39m\u001b[38;5;124mpca_group\u001b[39m\u001b[38;5;124m'\u001b[39m] \u001b[38;5;241m=\u001b[39m \u001b[38;5;124m'\u001b[39m\u001b[38;5;124mtsi_png\u001b[39m\u001b[38;5;124m'\u001b[39m\n\u001b[1;32m     19\u001b[0m df_samples\u001b[38;5;241m.\u001b[39mloc[df_samples[\u001b[38;5;124m'\u001b[39m\u001b[38;5;124mpartner_sample_id\u001b[39m\u001b[38;5;124m'\u001b[39m]\u001b[38;5;241m.\u001b[39misin(cohort_au_mld), \u001b[38;5;124m'\u001b[39m\u001b[38;5;124mpca_group\u001b[39m\u001b[38;5;124m'\u001b[39m] \u001b[38;5;241m=\u001b[39m \u001b[38;5;124m'\u001b[39m\u001b[38;5;124maus_mld\u001b[39m\u001b[38;5;124m'\u001b[39m\n\u001b[1;32m     20\u001b[0m df_samples\u001b[38;5;241m.\u001b[39mloc[df_samples[\u001b[38;5;124m'\u001b[39m\u001b[38;5;124mpartner_sample_id\u001b[39m\u001b[38;5;124m'\u001b[39m]\u001b[38;5;241m.\u001b[39misin(cohort_manus), \u001b[38;5;124m'\u001b[39m\u001b[38;5;124mpca_group\u001b[39m\u001b[38;5;124m'\u001b[39m] \u001b[38;5;241m=\u001b[39m \u001b[38;5;124m'\u001b[39m\u001b[38;5;124mmanus_i\u001b[39m\u001b[38;5;124m'\u001b[39m\n",
      "File \u001b[0;32m~/.conda/envs/far_hin_1.x/lib/python3.13/site-packages/pandas/core/frame.py:4102\u001b[0m, in \u001b[0;36mDataFrame.__getitem__\u001b[0;34m(self, key)\u001b[0m\n\u001b[1;32m   4100\u001b[0m \u001b[38;5;28;01mif\u001b[39;00m \u001b[38;5;28mself\u001b[39m\u001b[38;5;241m.\u001b[39mcolumns\u001b[38;5;241m.\u001b[39mnlevels \u001b[38;5;241m>\u001b[39m \u001b[38;5;241m1\u001b[39m:\n\u001b[1;32m   4101\u001b[0m     \u001b[38;5;28;01mreturn\u001b[39;00m \u001b[38;5;28mself\u001b[39m\u001b[38;5;241m.\u001b[39m_getitem_multilevel(key)\n\u001b[0;32m-> 4102\u001b[0m indexer \u001b[38;5;241m=\u001b[39m \u001b[38;5;28;43mself\u001b[39;49m\u001b[38;5;241;43m.\u001b[39;49m\u001b[43mcolumns\u001b[49m\u001b[38;5;241;43m.\u001b[39;49m\u001b[43mget_loc\u001b[49m\u001b[43m(\u001b[49m\u001b[43mkey\u001b[49m\u001b[43m)\u001b[49m\n\u001b[1;32m   4103\u001b[0m \u001b[38;5;28;01mif\u001b[39;00m is_integer(indexer):\n\u001b[1;32m   4104\u001b[0m     indexer \u001b[38;5;241m=\u001b[39m [indexer]\n",
      "File \u001b[0;32m~/.conda/envs/far_hin_1.x/lib/python3.13/site-packages/pandas/core/indexes/base.py:3812\u001b[0m, in \u001b[0;36mIndex.get_loc\u001b[0;34m(self, key)\u001b[0m\n\u001b[1;32m   3807\u001b[0m     \u001b[38;5;28;01mif\u001b[39;00m \u001b[38;5;28misinstance\u001b[39m(casted_key, \u001b[38;5;28mslice\u001b[39m) \u001b[38;5;129;01mor\u001b[39;00m (\n\u001b[1;32m   3808\u001b[0m         \u001b[38;5;28misinstance\u001b[39m(casted_key, abc\u001b[38;5;241m.\u001b[39mIterable)\n\u001b[1;32m   3809\u001b[0m         \u001b[38;5;129;01mand\u001b[39;00m \u001b[38;5;28many\u001b[39m(\u001b[38;5;28misinstance\u001b[39m(x, \u001b[38;5;28mslice\u001b[39m) \u001b[38;5;28;01mfor\u001b[39;00m x \u001b[38;5;129;01min\u001b[39;00m casted_key)\n\u001b[1;32m   3810\u001b[0m     ):\n\u001b[1;32m   3811\u001b[0m         \u001b[38;5;28;01mraise\u001b[39;00m InvalidIndexError(key)\n\u001b[0;32m-> 3812\u001b[0m     \u001b[38;5;28;01mraise\u001b[39;00m \u001b[38;5;167;01mKeyError\u001b[39;00m(key) \u001b[38;5;28;01mfrom\u001b[39;00m\u001b[38;5;250m \u001b[39m\u001b[38;5;21;01merr\u001b[39;00m\n\u001b[1;32m   3813\u001b[0m \u001b[38;5;28;01mexcept\u001b[39;00m \u001b[38;5;167;01mTypeError\u001b[39;00m:\n\u001b[1;32m   3814\u001b[0m     \u001b[38;5;66;03m# If we have a listlike key, _check_indexing_error will raise\u001b[39;00m\n\u001b[1;32m   3815\u001b[0m     \u001b[38;5;66;03m#  InvalidIndexError. Otherwise we fall through and re-raise\u001b[39;00m\n\u001b[1;32m   3816\u001b[0m     \u001b[38;5;66;03m#  the TypeError.\u001b[39;00m\n\u001b[1;32m   3817\u001b[0m     \u001b[38;5;28mself\u001b[39m\u001b[38;5;241m.\u001b[39m_check_indexing_error(key)\n",
      "\u001b[0;31mKeyError\u001b[0m: 'partner_sample_id'"
     ]
    }
   ],
   "source": [
    "# Ghastly code to delineate PCA cohorts - for provisional analysis\n",
    "\n",
    "# based on global pca\n",
    "cohort_tsi_ng = model_far['partner_sample_id'][(model_far['PC1'] > 79) & (model_far['PC2'] < 10)] # TSI and southern PNG\n",
    "cohort_au_mld = model_far['partner_sample_id'][(model_far['PC1'] > 95) & (model_far['PC2'] > 10)] # N QLD\n",
    "cohort_manus = model_far['partner_sample_id'][(model_far['admin1_iso'] == 'PG-MRL')] #manus\n",
    "cohort_si = model_far['partner_sample_id'][(model_far['country_iso'] == \"SB\") & (model_far['admin1_iso'] == \"PG-NSB\")] #solomons\n",
    "\n",
    "\n",
    "# based on png pca\n",
    "cohort_huon = model_far_png['partner_sample_id'][(model_far_png['admin1_iso'] == 'PG-MPL') & (model_far_png['admin1_iso'] == 'PG-NPP')] #around huon gulf\n",
    "cohort_se = model_far_png['partner_sample_id'][(model_far_png['admin1_iso'] == 'PG-CPM') & (model_far_png['admin1_iso'] == 'PG-GPK')] # southeast coast\n",
    "cohort_mba1 = model_far_png['partner_sample_id'][(model_far_png['PC2'] < 100)] #MBA1\n",
    "cohort_mba2 = model_far_png['partner_sample_id'][(model_far_png['PC1'] < 50) & (model_far_png['PC1'] > 35)] #MBA2\n",
    "\n",
    "# Define col for pca group\n",
    "df_samples['pca_group'] = None\n",
    "df_samples.loc[df_samples['partner_sample_id'].isin(cohort_tsi_ng), 'pca_group'] = 'tsi_png'\n",
    "df_samples.loc[df_samples['partner_sample_id'].isin(cohort_au_mld), 'pca_group'] = 'aus_mld'\n",
    "df_samples.loc[df_samples['partner_sample_id'].isin(cohort_manus), 'pca_group'] = 'manus_i'\n",
    "df_samples.loc[df_samples['partner_sample_id'].isin(cohort_si), 'pca_group'] = 'sol_is'\n",
    "df_samples.loc[df_samples['partner_sample_id'].isin(cohort_huon), 'pca_group'] = 'huon_g'\n",
    "df_samples.loc[df_samples['partner_sample_id'].isin(cohort_se), 'pca_group'] = 'se_png'\n",
    "df_samples.loc[df_samples['partner_sample_id'].isin(cohort_mba1), 'pca_group'] = 'mba_a'\n",
    "df_samples.loc[df_samples['partner_sample_id'].isin(cohort_mba2), 'pca_group'] = 'mba_b'\n",
    "\n",
    "\n"
   ]
  },
  {
   "cell_type": "code",
   "execution_count": null,
   "id": "911a7a8d-c750-477a-bcc0-6421f0dae468",
   "metadata": {},
   "outputs": [],
   "source": [
    "df_samples.pca_group.unique()"
   ]
  },
  {
   "cell_type": "code",
   "execution_count": 10,
   "id": "bb85f51b-845d-4eb2-a2b4-3d954c569819",
   "metadata": {},
   "outputs": [
    {
     "data": {
      "text/html": [
       "<iframe\n",
       "    scrolling=\"no\"\n",
       "    width=\"620px\"\n",
       "    height=\"520\"\n",
       "    src=\"iframe_figures/figure_10.html\"\n",
       "    frameborder=\"0\"\n",
       "    allowfullscreen\n",
       "></iframe>\n"
      ]
     },
     "metadata": {},
     "output_type": "display_data"
    }
   ],
   "source": [
    "model_hin, evr_hin= run_pca(contig = \"KI915040\", n_snps=50_000, sample_query='species_pca == \"hinesorum\"', analysis_name='fixed_again')\n",
    "plot_pca(model_hin, evr_hin, colourfac='country',palette = iso_colors)"
   ]
  },
  {
   "cell_type": "code",
   "execution_count": 11,
   "id": "b96f6bce-28f2-4e28-8412-56cc4f557984",
   "metadata": {},
   "outputs": [
    {
     "data": {
      "text/html": [
       "<iframe\n",
       "    scrolling=\"no\"\n",
       "    width=\"620px\"\n",
       "    height=\"520\"\n",
       "    src=\"iframe_figures/figure_11.html\"\n",
       "    frameborder=\"0\"\n",
       "    allowfullscreen\n",
       "></iframe>\n"
      ]
     },
     "metadata": {},
     "output_type": "display_data"
    }
   ],
   "source": [
    "plot_pca(model_hin, evr_hin, colourfac='admin1_iso',palette = iso_colors)"
   ]
  },
  {
   "cell_type": "code",
   "execution_count": 15,
   "id": "6e76b422-be88-4090-89e6-4f10d6c4c0b7",
   "metadata": {},
   "outputs": [
    {
     "data": {
      "text/html": [
       "<iframe\n",
       "    scrolling=\"no\"\n",
       "    width=\"620px\"\n",
       "    height=\"520\"\n",
       "    src=\"iframe_figures/figure_15.html\"\n",
       "    frameborder=\"0\"\n",
       "    allowfullscreen\n",
       "></iframe>\n"
      ]
     },
     "metadata": {},
     "output_type": "display_data"
    }
   ],
   "source": [
    "model_hin, evr_hin= run_pca(contig = \"KI915040\", n_snps=50_000, sample_query='species_pca in [\"hinesorum\",\"oreios\"]', analysis_name='fixed_again')\n",
    "plot_pca(model_hin, evr_hin, colourfac='species_pca',palette = iso_colors)"
   ]
  },
  {
   "cell_type": "code",
   "execution_count": 17,
   "id": "92928bf9-b934-4b37-97bc-0641cb3df9c8",
   "metadata": {},
   "outputs": [
    {
     "data": {
      "text/html": [
       "<iframe\n",
       "    scrolling=\"no\"\n",
       "    width=\"620px\"\n",
       "    height=\"520\"\n",
       "    src=\"iframe_figures/figure_17.html\"\n",
       "    frameborder=\"0\"\n",
       "    allowfullscreen\n",
       "></iframe>\n"
      ]
     },
     "metadata": {},
     "output_type": "display_data"
    }
   ],
   "source": [
    "plot_pca(model_hin, evr_hin, i='PC4', j='PC3',colourfac='species_pca',palette = iso_colors)"
   ]
  },
  {
   "cell_type": "code",
   "execution_count": null,
   "id": "e6575088-0395-4751-afb5-6d7d72d8d307",
   "metadata": {},
   "outputs": [],
   "source": [
    "df_samples.species_pca"
   ]
  },
  {
   "cell_type": "code",
   "execution_count": null,
   "id": "ba3371e6-65b4-452f-aec7-ef43c42583ac",
   "metadata": {},
   "outputs": [],
   "source": [
    "for c in list(filtered_contigs.keys())[:10]:\n",
    "    model_hin, evr_hin= run_pca(contig = c, n_snps=50_000, sample_query='species_pca == \"hinesorum\"', analysis_name='fixed_again')\n",
    "    plot_pca(model_hin, evr_hin, colourfac='admin1_iso',palette = iso_colors)"
   ]
  },
  {
   "cell_type": "code",
   "execution_count": null,
   "id": "1fd97d1f-9bf8-4888-9b9f-2ca77af4b081",
   "metadata": {},
   "outputs": [],
   "source": [
    "model_hin_sol, evr_hin_sol= run_pca(contig = \"KI915040\", n_snps=100_000, sample_query='species_pca == \"hinesorum\" & (country_iso == \"SB\" | admin1_iso == \"PG-NSB\")')\n",
    "plot_pca(model_hin_sol, evr_hin_sol, colourfac='admin1_iso',palette = iso_colors)"
   ]
  },
  {
   "cell_type": "code",
   "execution_count": null,
   "id": "9bdbb63f-0f41-4b10-bc17-1f864d982836",
   "metadata": {},
   "outputs": [],
   "source": [
    "import seaborn as sns\n",
    "import matplotlib.pyplot as plt\n",
    "\n",
    "plt.figure(figsize=(3, 3))  # square figure\n",
    "\n",
    "# With more options\n",
    "sns.scatterplot(data=model_hin, x='PC1', y='PC2', \n",
    "                color='#808080', alpha=0.7)\n",
    "sns.despine()\n",
    "#plt.title('Your Title')\n",
    "plt.xlabel('')\n",
    "plt.ylabel('')\n",
    "plt.title('')\n",
    "plt.xticks([])\n",
    "plt.yticks([])\n",
    "#plt.show()\n",
    "plt.savefig('all_hin.svg',format='svg', bbox_inches='tight')"
   ]
  },
  {
   "cell_type": "code",
   "execution_count": null,
   "id": "a575dc20-f569-4630-83ef-a924a1219862",
   "metadata": {},
   "outputs": [],
   "source": [
    "model_far_au['size']=10"
   ]
  },
  {
   "cell_type": "code",
   "execution_count": null,
   "id": "52fbb9dc-b446-48ef-b31e-716988cc99db",
   "metadata": {},
   "outputs": [],
   "source": [
    "import seaborn as sns\n",
    "import matplotlib.pyplot as plt\n",
    "\n",
    "plt.figure(figsize=(3, 3))  # square figure\n",
    "\n",
    "# With more options\n",
    "sns.scatterplot(data=model_far_au, x='PC2', y='PC1', \n",
    "                hue='admin1_iso', palette = iso_colors, alpha=0.7)\n",
    "sns.despine()\n",
    "#plt.title('Your Title')\n",
    "plt.xlabel('')\n",
    "plt.ylabel('')\n",
    "plt.title('')\n",
    "plt.xticks([])\n",
    "plt.yticks([])\n",
    "#plt.show()\n",
    "plt.savefig('hin_sb.svg',format='svg', bbox_inches='tight')"
   ]
  }
 ],
 "metadata": {
  "kernelspec": {
   "display_name": "far_hin_1.x",
   "language": "python",
   "name": "far_hin_1.x"
  },
  "language_info": {
   "codemirror_mode": {
    "name": "ipython",
    "version": 3
   },
   "file_extension": ".py",
   "mimetype": "text/x-python",
   "name": "python",
   "nbconvert_exporter": "python",
   "pygments_lexer": "ipython3",
   "version": "3.13.3"
  }
 },
 "nbformat": 4,
 "nbformat_minor": 5
}
