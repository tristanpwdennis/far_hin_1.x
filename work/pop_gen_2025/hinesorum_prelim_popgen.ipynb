{
 "cells": [
  {
   "cell_type": "markdown",
   "id": "9238fb05-c71f-4c33-b43b-0ed49bcf7d65",
   "metadata": {},
   "source": [
    "## Preliminary pop-gen of An hinesorum to support the MRC grant app"
   ]
  },
  {
   "cell_type": "code",
   "execution_count": 18,
   "id": "96241db4-b03f-43fc-881e-1153cce5d8d9",
   "metadata": {},
   "outputs": [],
   "source": [
    "import allel\n",
    "import seaborn as sns\n",
    "import zarr\n",
    "import xarray as xr\n",
    "import plotly.express as px\n",
    "import dask.array as da\n",
    "import numpy as np\n",
    "import json\n",
    "import hashlib\n",
    "import pandas as pd\n",
    "import bokeh.plotting as bkplt\n",
    "import bokeh.io as bkio\n",
    "import bokeh.palettes as bokpalet\n",
    "import bokeh.models as bkmod\n",
    "import matplotlib.pyplot as plt\n",
    "import cartopy\n",
    "from Bio import SeqIO\n",
    "from pathlib import Path\n",
    "import sys"
   ]
  },
  {
   "cell_type": "code",
   "execution_count": null,
   "id": "115db5a3-e715-4ea4-80f3-0d89378c9d50",
   "metadata": {},
   "outputs": [],
   "source": [
    "# Define metadata and qc bool globally to start\n",
    "#define useful variables\n",
    "zarr_base_path = f\"/scratch/user/uqtdenni/afar_production_bunya/curation/uq-beebe-001/combined_zarr/{{contig}}.zarr\"\n",
    "\n",
    "# Let's start by converting zarrs for the 5 largest contigs - we can do QC on them...\n",
    "ref_path = '/scratch/user/uqtdenni/afar_production_bunya/reference/VectorBase-54_AfarautiFAR1_Genome.fasta'\n",
    "# now let's get a list of the contigs that we are going to call over\n",
    "contig_lengths = {}\n",
    "for record in SeqIO.parse(ref_path, \"fasta\"):\n",
    "    seq_id = record.id\n",
    "    seq_length = len(record.seq)\n",
    "    contig_lengths[seq_id] = seq_length\n",
    "filtered_contigs = {k: v for k, v in sorted(contig_lengths.items(), key=lambda item: item[1], reverse=True) if v > 100000}\n",
    "\n",
    "# Because these data are unstaged, we need to faff about a bit more and load the unstaged metadata to exclude extra dud samples\n",
    "df_samples_dirty = pd.read_csv('/scratch/user/uqtdenni/far_hin_1.x/work/metadata_development_20250702/sample_metadata_interim_seq_qc_pass.txt', index_col = 'derived_sample_id')\n",
    "# And load the final (cleaned) metadata\n",
    "df_samples = pd.read_csv('/scratch/user/uqtdenni/far_hin_1.x/work/metadata_development_20250702/sample_metadata_pass_qc_fix.txt', index_col = 'derived_sample_id')\n",
    "\n",
    "# Mask removing samples we removed before the staging step of QC (that I haven't done yet)\n",
    "qc_bool = df_samples_dirty.index.isin(df_samples.index)\n",
    "\n",
    "# Zarr location\n",
    "zarr_base_path = f\"/scratch/user/uqtdenni/afar_production_bunya/curation/uq-beebe-001/combined_zarr/{{contig}}.zarr\"\n"
   ]
  },
  {
   "cell_type": "code",
   "execution_count": 21,
   "id": "0f12c9e2-da0b-49bb-8193-db6c582aea84",
   "metadata": {},
   "outputs": [],
   "source": [
    "# Define helper functions\n",
    "\n",
    "def hash_params(*args, **kwargs):\n",
    "    \"\"\"Helper function to hash analysis parameters.\"\"\"\n",
    "    o = {\n",
    "        'args': args,\n",
    "        'kwargs': kwargs\n",
    "    }\n",
    "    s = json.dumps(o, sort_keys=True).encode()\n",
    "    h = hashlib.md5(s).hexdigest()\n",
    "    return h\n",
    "\n",
    "# Define helper functions\n",
    "def load_genotype_array(contig, qc_bool=qc_bool, df_samples=df_samples, sample_query = None, n_snps=None):\n",
    "    # Load gts and remove failed qc samples\n",
    "    z = zarr.open(zarr_base_path.format(contig=contig))\n",
    "    \n",
    "    # Variant-level mask: punctulatus_group_filter_pass\n",
    "    filter_mask = z[f\"{contig}/punctulatus_group_filter_pass\"][:]\n",
    "\n",
    "    gt = allel.GenotypeChunkedArray(z[f\"{contig}/calldata/GT\"])\n",
    "    \n",
    "    # Apply combined variant mask\n",
    "    gt = allel.GenotypeChunkedArray(z[f\"{contig}/calldata/GT\"])\n",
    "    gt = gt.compress(qc_bool, axis=1)          # Filter samples by QC\n",
    "    gt = gt.compress(filter_mask, axis=0)    # Filter variants\n",
    "    \n",
    "    # If an additional mask is supplied to subset the data from the finished metadata, apply, else return all samples\n",
    "    if sample_query is not None:\n",
    "        bool_query = np.array(df_samples.eval(sample_query))\n",
    "        gt = gt.compress(bool_query, axis=1)\n",
    "    if n_snps is not None:\n",
    "            gt = select_random_genotypes_sorted(gt, n_snps)\n",
    "\n",
    "    return gt\n",
    "\n",
    "\n",
    "def select_random_elements_sorted(g, x, replace=False, seed=None):\n",
    "    \"\"\"\n",
    "    Select x random rows from a 2D array, returned in sorted order.\n",
    "\n",
    "    Parameters:\n",
    "    - array: array 2d, shape (n_genotypes, n_features)\n",
    "    - x: int, number of rows to select\n",
    "    - replace: bool, whether sampling is with replacement (default: False)\n",
    "    - seed: int, random seed for reproducibility (default: None)\n",
    "\n",
    "    Returns:\n",
    "    - np.ndarray of shape (x, n_features)\n",
    "    \"\"\"\n",
    "\n",
    "    # Select random sites from that set\n",
    "    rng = np.random.default_rng(seed)\n",
    "    n_rows = g.shape[0]\n",
    "    if not replace and x > n_rows:\n",
    "        raise ValueError(f\"Cannot select {x} rows without replacement from {n_rows} total rows.\")\n",
    "    indices = rng.choice(n_rows, size=x, replace=replace)\n",
    "    sorted_indices = np.sort(indices)\n",
    "\n",
    "    return g[sorted_indices]\n",
    "\n",
    "def compute_ac(contig, is_biallelic=True, is_segregating=True, min_minor_ac=1, n_snps=None, sample_query=None, to_alt = None):\n",
    "    \n",
    "    g = load_genotype_array(contig=contig, qc_bool = qc_bool, sample_query=sample_query)  \n",
    "    \n",
    "    ac = g.count_alleles()\n",
    "    \n",
    "    mask = None\n",
    "    \n",
    "    # Apply biallelic filter\n",
    "    if is_biallelic:\n",
    "        biallelic_mask = ac.is_biallelic()\n",
    "        mask = biallelic_mask if mask is None else mask & biallelic_mask\n",
    "    \n",
    "    # Apply segregating filter\n",
    "    if is_segregating:\n",
    "        segregating_mask = ac.is_segregating()\n",
    "        mask = segregating_mask if mask is None else mask & segregating_mask\n",
    "    \n",
    "    # Apply minor allele count filter\n",
    "    if min_minor_ac is not None:\n",
    "        an = ac.sum(axis=1)\n",
    "    # Apply minor allele count condition.\n",
    "        ac_minor = ac[:, 1:].sum(axis=1)\n",
    "        if isinstance(min_minor_ac, float):\n",
    "            ac_minor_frac = ac_minor / an\n",
    "            loc_minor_mask = ac_minor_frac >= min_minor_ac\n",
    "        else:\n",
    "            loc_minor_mask = ac_minor >= min_minor_ac\n",
    "        mask = loc_minor_mask if mask is None else mask & loc_minor_mask\n",
    "    \n",
    "    # Apply all filters at once\n",
    "    if mask is not None:\n",
    "        gt = g.compress(mask)\n",
    "    \n",
    "    # Random selection (if needed)\n",
    "    if n_snps is not None:  # Fixed: 'if' instead of 'is'\n",
    "        gt = select_random_elements_sorted(gt, n_snps)\n",
    "    \n",
    "    if to_alt is not None:\n",
    "        return gt.to_n_alt()\n",
    "    else:\n",
    "        return gt.count_alleles()\n",
    "    \n",
    "def run_pca(contig, sample_df=df_samples, analysis_name='pca', n_snps=50_000, sample_query = None, results_dir='results_cache', min_minor_ac=1, n_components=10):\n",
    "\n",
    "        # construct a key to save the results under\n",
    "    results_key = hash_params(\n",
    "        contig=contig,\n",
    "        sample_query=sample_query,\n",
    "        analysis_name=analysis_name,\n",
    "        min_minor_ac=min_minor_ac,\n",
    "        n_snps=n_snps,\n",
    "        n_components=n_components,\n",
    "    )\n",
    "\n",
    "    # define paths for results files\n",
    "    data_path = f'{results_dir}/{results_key}-data.csv'\n",
    "    evr_path = f'{results_dir}/{results_key}-evr.npy'\n",
    "\n",
    "    try:\n",
    "        # try to load previously generated results\n",
    "        data = pd.read_csv(data_path)\n",
    "        evr = np.load(evr_path)\n",
    "        return data, evr\n",
    "    except FileNotFoundError:\n",
    "        # no previous results available, need to run analysis\n",
    "        print(f'running analysis: {results_key}')\n",
    "    \n",
    "    print('setting up inputs')\n",
    "\n",
    "    # Load data\n",
    "\n",
    "    # Prepare input matrix\n",
    "    g = load_genotype_array(contig=contig, qc_bool = qc_bool, sample_query=sample_query) # Load genotypes\n",
    "    ac = g.count_alleles() #Count alleles\n",
    "    flt = (ac.max_allele() == 1) & (ac[:, :2].min(axis=1) > 1) # Remove singletons and multiallelics\n",
    "    gf = g.compress(flt, axis=0) #Apply filter\n",
    "    gn = select_random_elements_sorted(gf, n_snps).to_n_alt() # Select random n snps\n",
    "\n",
    "    # Subset sample df\n",
    "    if sample_query is not None:\n",
    "        df=sample_df.query(sample_query)\n",
    "    else:\n",
    "        df=sample_df\n",
    "\n",
    "    # Run PCA\n",
    "    coords, model = allel.pca(gn, n_components=10, scaler='patterson') # Run PCA\n",
    "    df_coords = pd.DataFrame(\n",
    "        {f\"PC{i + 1}\": coords[:, i] for i in range(coords.shape[1])}\n",
    "    )    \n",
    "    data = pd.concat([df.reset_index(), df_coords.reset_index(drop=True)], axis=1)\n",
    "\n",
    "    #Save output\n",
    "    evr = model.explained_variance_ratio_\n",
    "    data.to_csv(data_path, index=False)\n",
    "    np.save(evr_path, evr)\n",
    "    print(f'saved results: {results_key}')\n",
    "\n",
    "    return data, evr\n",
    "\n",
    "def plot_pca(data, evr, i='PC1',j='PC2', colourfac='species_pca'):\n",
    "\n",
    "        #xlab = f\"PC{int(i)+1}, {evr[int(i)] * 100:.2f}%\"\n",
    "        #ylab = f\"PC{int(j)+1}, {evr[int(j)] * 100:.2f}%\"\n",
    "        \n",
    "        fig = px.scatter(data,\n",
    "                    x=i,\n",
    "                    y=j,\n",
    "                    color=colourfac,\n",
    "                    template='simple_white',\n",
    "                    hover_data = ['derived_sample_id','species','country','admin1_iso','admin1_name','divergence','median_cov', 'latitude','longitude'],\n",
    "                    width = 600, height=500,\n",
    "        )\n",
    "        # Add axis titles\n",
    "        #fig.update_layout(\n",
    "        #        xaxis_title=xlab,\n",
    "        #        yaxis_title=ylab\n",
    "        #)\n",
    "    \n",
    "        fig.show()\n",
    "\n"
   ]
  },
  {
   "cell_type": "code",
   "execution_count": 22,
   "id": "dbba1588-8e2d-4d51-a4d1-fd86608323bb",
   "metadata": {},
   "outputs": [
    {
     "data": {
      "application/vnd.plotly.v1+json": {
       "config": {
        "plotlyServerURL": "https://plot.ly"
       },
       "data": [
        {
         "customdata": [
          [
           "far8_98_89_10",
           "farauti_8",
           "Papua New Guinea",
           "PG-GPK",
           "Galf",
           0.04861,
           27,
           -7.748,
           146.43
          ],
          [
           "far8_98_89_18",
           "farauti_8",
           "Papua New Guinea",
           "PG-GPK",
           "Galf",
           0.04851,
           28,
           -7.748,
           146.43
          ],
          [
           "far8_98_89_25",
           "farauti_8",
           "Papua New Guinea",
           "PG-GPK",
           "Galf",
           0.04853,
           24,
           -7.748,
           146.43
          ],
          [
           "far8_98_89_26",
           "farauti_8",
           "Papua New Guinea",
           "PG-GPK",
           "Galf",
           0.04864,
           27,
           -7.748,
           146.43
          ],
          [
           "far8_98_89_27",
           "farauti_8",
           "Papua New Guinea",
           "PG-GPK",
           "Galf",
           0.04854,
           27,
           -7.748,
           146.43
          ],
          [
           "far8_98_89_3",
           "farauti_8",
           "Papua New Guinea",
           "PG-GPK",
           "Galf",
           0.04869,
           32,
           -7.748,
           146.43
          ],
          [
           "far8_98_89_5",
           "farauti_8",
           "Papua New Guinea",
           "PG-GPK",
           "Galf",
           0.04854,
           27,
           -7.748,
           146.43
          ],
          [
           "far8_98_89_9",
           "farauti_8",
           "Papua New Guinea",
           "PG-GPK",
           "Galf",
           0.04867,
           25,
           -7.748,
           146.43
          ]
         ],
         "hovertemplate": "species_pca=farauti_8<br>PC1=%{x}<br>PC2=%{y}<br>derived_sample_id=%{customdata[0]}<br>species=%{customdata[1]}<br>country=%{customdata[2]}<br>admin1_iso=%{customdata[3]}<br>admin1_name=%{customdata[4]}<br>divergence=%{customdata[5]}<br>median_cov=%{customdata[6]}<br>latitude=%{customdata[7]}<br>longitude=%{customdata[8]}<extra></extra>",
         "legendgroup": "farauti_8",
         "marker": {
          "color": "#1F77B4",
          "symbol": "circle"
         },
         "mode": "markers",
         "name": "farauti_8",
         "orientation": "v",
         "showlegend": true,
         "type": "scatter",
         "x": {
          "bdata": "HhX/d0RFKsDWyK60jHQqwAwEATJ03CrAWrvtQnMVKsCXUwJiEq4qwIUlHlA2dSrAqmVrfZHQKcD2CgvuB4QqwA==",
          "dtype": "f8"
         },
         "xaxis": "x",
         "y": {
          "bdata": "FD/G3LVwSEB06zU9KPpHQDLmriXkZ0lApOTVOQawSEA0SwLU1EZJQBlUG5yIaklA3zMSoREESEAjMqzijc5IQA==",
          "dtype": "f8"
         },
         "yaxis": "y"
        },
        {
         "customdata": [
          [
           "far_BOU_MB2300_1",
           "farauti_ss",
           "Papua New Guinea",
           "PG-NSB",
           "Bogenvil",
           0.01594,
           25,
           -5.435,
           154.666
          ],
          [
           "far_BOU_MB2300_2",
           "farauti_ss",
           "Papua New Guinea",
           "PG-NSB",
           "Bogenvil",
           0.01597,
           27,
           -5.435,
           154.666
          ],
          [
           "far_BOU_MB2300_3",
           "farauti_ss",
           "Papua New Guinea",
           "PG-NSB",
           "Bogenvil",
           0.01583,
           25,
           -5.435,
           154.666
          ],
          [
           "far_BOU_MB2300_4",
           "farauti_ss",
           "Papua New Guinea",
           "PG-NSB",
           "Bogenvil",
           0.0159,
           29,
           -5.435,
           154.666
          ],
          [
           "far_BOU_T13-2",
           "farauti_ss",
           "Papua New Guinea",
           "PG-NSB",
           "Bogenvil",
           0.01586,
           30,
           -6.613,
           155.922
          ],
          [
           "far_BOU_T13-3",
           "farauti_ss",
           "Papua New Guinea",
           "PG-NSB",
           "Bogenvil",
           0.01592,
           32,
           -6.613,
           155.922
          ],
          [
           "far_BOU_T13-5",
           "farauti_ss",
           "Papua New Guinea",
           "PG-NSB",
           "Bogenvil",
           0.0159,
           37,
           -6.613,
           155.922
          ],
          [
           "far_BOU_Tonu9",
           "farauti_ss",
           "Papua New Guinea",
           "PG-NSB",
           "Bogenvil",
           0.01751,
           29,
           -5.415,
           154.622
          ],
          [
           "far_BOU_buka-7",
           "farauti_ss",
           "Papua New Guinea",
           "PG-NSB",
           "Bogenvil",
           0.01589,
           29,
           -5.435,
           154.666
          ],
          [
           "far_BOU_buka-8",
           "farauti_ss",
           "Papua New Guinea",
           "PG-NSB",
           "Bogenvil",
           0.01584,
           28,
           -5.435,
           154.666
          ],
          [
           "far_BOU_tuna50",
           "farauti_ss",
           "Papua New Guinea",
           "PG-NSB",
           "Bogenvil",
           0.01623,
           32,
           -5.415,
           154.622
          ],
          [
           "far_BOU_tuna53",
           "farauti_ss",
           "Papua New Guinea",
           "PG-NSB",
           "Bogenvil",
           0.01624,
           33,
           -5.415,
           154.622
          ],
          [
           "far_BOU_tuna56",
           "farauti_ss",
           "Papua New Guinea",
           "PG-NSB",
           "Bogenvil",
           0.01624,
           29,
           -5.415,
           154.622
          ],
          [
           "far_BOU_tuna61",
           "farauti_ss",
           "Papua New Guinea",
           "PG-NSB",
           "Bogenvil",
           0.01628,
           40,
           -5.415,
           154.622
          ],
          [
           "far_GUA-GIL-85-5",
           "farauti_ss",
           "Solomon Islands",
           "SB-GU",
           "Guadalcanal",
           0.01631,
           32,
           -9.42,
           160.133
          ],
          [
           "far_GUA-LUN-85-3",
           "farauti_ss",
           "Solomon Islands",
           "SB-GU",
           "Guadalcanal",
           0.01635,
           37,
           -9.42,
           160.133
          ],
          [
           "far_GUA-MAK-85-21",
           "farauti_ss",
           "Solomon Islands",
           "SB-GU",
           "Guadalcanal",
           0.01629,
           33,
           -9.42,
           160.133
          ],
          [
           "far_GUA-MAK-85-30",
           "farauti_ss",
           "Solomon Islands",
           "SB-GU",
           "Guadalcanal",
           0.01638,
           31,
           -9.42,
           160.133
          ],
          [
           "far_GUA-VAS-85-2",
           "farauti_ss",
           "Solomon Islands",
           "SB-GU",
           "Guadalcanal",
           0.01614,
           22,
           -9.42,
           160.133
          ],
          [
           "far_GUA1812_19",
           "farauti_ss",
           "Solomon Islands",
           "SB-GU",
           "Guadalcanal",
           0.01625,
           20,
           -9.428,
           160.13
          ],
          [
           "far_GUA1815_3",
           "farauti_ss",
           "Solomon Islands",
           "SB-GU",
           "Guadalcanal",
           0.01635,
           21,
           -9.431,
           160.091
          ],
          [
           "far_GUA1815_4",
           "farauti_ss",
           "Solomon Islands",
           "SB-GU",
           "Guadalcanal",
           0.01609,
           20,
           -9.431,
           160.091
          ],
          [
           "far_GUA1815_8",
           "farauti_ss",
           "Solomon Islands",
           "SB-GU",
           "Guadalcanal",
           0.0162,
           25,
           -9.431,
           160.091
          ],
          [
           "far_GUA1815_9",
           "farauti_ss",
           "Solomon Islands",
           "SB-GU",
           "Guadalcanal",
           0.01627,
           22,
           -9.431,
           160.091
          ],
          [
           "far_GUA183_132",
           "farauti_ss",
           "Solomon Islands",
           "SB-GU",
           "Guadalcanal",
           0.01625,
           18,
           -9.353,
           159.594
          ],
          [
           "far_GUA183_22",
           "farauti_ss",
           "Solomon Islands",
           "SB-GU",
           "Guadalcanal",
           0.01625,
           15,
           -9.353,
           159.594
          ],
          [
           "far_GUA185_2",
           "farauti_ss",
           "Solomon Islands",
           "SB-GU",
           "Guadalcanal",
           0.0162,
           21,
           -9.302,
           159.607
          ],
          [
           "far_GUA187_1",
           "farauti_ss",
           "Solomon Islands",
           "SB-GU",
           "Guadalcanal",
           0.01631,
           19,
           -9.289,
           159.622
          ],
          [
           "far_GUA_HBFW16",
           "farauti_ss",
           "Solomon Islands",
           "SB-GU",
           "Guadalcanal",
           0.01624,
           36,
           -9.419,
           160.062
          ],
          [
           "far_GUA_HBFW25",
           "farauti_ss",
           "Solomon Islands",
           "SB-GU",
           "Guadalcanal",
           0.01633,
           36,
           -9.419,
           160.062
          ],
          [
           "far_GUA_HBFW33",
           "farauti_ss",
           "Solomon Islands",
           "SB-GU",
           "Guadalcanal",
           0.01629,
           33,
           -9.419,
           160.062
          ],
          [
           "far_GUA_HBFW34",
           "farauti_ss",
           "Solomon Islands",
           "SB-GU",
           "Guadalcanal",
           0.01632,
           35,
           -9.419,
           160.062
          ],
          [
           "far_GUA_HBFW4",
           "farauti_ss",
           "Solomon Islands",
           "SB-GU",
           "Guadalcanal",
           0.01633,
           36,
           -9.419,
           160.062
          ],
          [
           "far_Man-2",
           "farauti_ss",
           "Papua New Guinea",
           "PG-MRL",
           "Manus",
           0.01673,
           28,
           -2.018,
           147.26
          ],
          [
           "far_Man_Mn_1",
           "farauti_ss",
           "Papua New Guinea",
           "PG-MRL",
           "Manus",
           0.0167,
           30,
           -2.018,
           147.26
          ],
          [
           "far_Man_Mn_10",
           "farauti_ss",
           "Papua New Guinea",
           "PG-MRL",
           "Manus",
           0.01675,
           28,
           -2.018,
           147.26
          ],
          [
           "far_Man_Mn_2",
           "farauti_ss",
           "Papua New Guinea",
           "PG-MRL",
           "Manus",
           0.01679,
           26,
           -2.018,
           147.26
          ],
          [
           "far_Man_Mn_3",
           "farauti_ss",
           "Papua New Guinea",
           "PG-MRL",
           "Manus",
           0.01675,
           32,
           -2.018,
           147.26
          ],
          [
           "far_Man_Mn_4",
           "farauti_ss",
           "Papua New Guinea",
           "PG-MRL",
           "Manus",
           0.01674,
           37,
           -2.018,
           147.26
          ],
          [
           "far_Man_Mn_5",
           "farauti_ss",
           "Papua New Guinea",
           "PG-MRL",
           "Manus",
           0.01681,
           36,
           -2.018,
           147.26
          ],
          [
           "far_Man_Mn_6",
           "farauti_ss",
           "Papua New Guinea",
           "PG-MRL",
           "Manus",
           0.01674,
           34,
           -2.018,
           147.26
          ],
          [
           "far_Man_Mn_7",
           "farauti_ss",
           "Papua New Guinea",
           "PG-MRL",
           "Manus",
           0.01681,
           25,
           -2.018,
           147.26
          ],
          [
           "far_Man_Mn_8",
           "farauti_ss",
           "Papua New Guinea",
           "PG-MRL",
           "Manus",
           0.01681,
           29,
           -2.018,
           147.26
          ],
          [
           "far_Man_Mn_9",
           "farauti_ss",
           "Papua New Guinea",
           "PG-MRL",
           "Manus",
           0.01672,
           33,
           -2.018,
           147.26
          ],
          [
           "far_Manus-8-1",
           "farauti_ss",
           "Papua New Guinea",
           "PG-MRL",
           "Manus",
           0.01669,
           32,
           -2.018,
           147.26
          ],
          [
           "far_Manus-8-2",
           "farauti_ss",
           "Papua New Guinea",
           "PG-MRL",
           "Manus",
           0.01671,
           37,
           -2.018,
           147.26
          ],
          [
           "far_Manus-8-3",
           "farauti_ss",
           "Papua New Guinea",
           "PG-MRL",
           "Manus",
           0.01673,
           33,
           -2.018,
           147.26
          ],
          [
           "far_Manus-8-4",
           "farauti_ss",
           "Papua New Guinea",
           "PG-MRL",
           "Manus",
           0.01679,
           31,
           -2.018,
           147.26
          ],
          [
           "far_Manus-8-5",
           "farauti_ss",
           "Papua New Guinea",
           "PG-MRL",
           "Manus",
           0.01679,
           35,
           -2.018,
           147.26
          ],
          [
           "far_Manus-8-6",
           "farauti_ss",
           "Papua New Guinea",
           "PG-MRL",
           "Manus",
           0.01675,
           34,
           -2.018,
           147.26
          ],
          [
           "far_Manus-8-7",
           "farauti_ss",
           "Papua New Guinea",
           "PG-MRL",
           "Manus",
           0.01671,
           35,
           -2.018,
           147.26
          ],
          [
           "far_Manus-8-8",
           "farauti_ss",
           "Papua New Guinea",
           "PG-MRL",
           "Manus",
           0.01675,
           29,
           -2.018,
           147.26
          ],
          [
           "far_NT-PC35",
           "farauti_ss",
           "Australia",
           "AU-NT",
           "Northern Territory",
           0.02715,
           26,
           -12.493,
           130.955
          ],
          [
           "far_NT-cas3",
           "farauti_ss",
           "Australia",
           "AU-NT",
           "Northern Territory",
           0.02716,
           21,
           -12.355,
           130.871
          ],
          [
           "far_NT-cas8",
           "farauti_ss",
           "Australia",
           "AU-NT",
           "Northern Territory",
           0.02717,
           31,
           -12.355,
           130.871
          ],
          [
           "far_NT103-4",
           "farauti_ss",
           "Australia",
           "AU-NT",
           "Northern Territory",
           0.02717,
           32,
           -12.067,
           134.567
          ],
          [
           "far_NT163-2",
           "farauti_ss",
           "Australia",
           "AU-NT",
           "Northern Territory",
           0.02718,
           32,
           null,
           null
          ],
          [
           "far_NT1680-1",
           "farauti_ss",
           "Australia",
           "AU-NT",
           "Northern Territory",
           0.02712,
           22,
           -11.683,
           130.067
          ],
          [
           "far_NT1680-3",
           "farauti_ss",
           "Australia",
           "AU-NT",
           "Northern Territory",
           0.02712,
           26,
           -11.683,
           130.067
          ],
          [
           "far_NT2124-2",
           "farauti_ss",
           "Australia",
           "AU-NT",
           "Northern Territory",
           0.02719,
           33,
           -13.15,
           130.119
          ],
          [
           "far_NT4-1",
           "farauti_ss",
           "Australia",
           "AU-NT",
           "Northern Territory",
           0.02682,
           12,
           -12.067,
           134.567
          ],
          [
           "far_NT_NT103-2",
           "farauti_ss",
           "Australia",
           "AU-NT",
           "Northern Territory",
           0.02719,
           31,
           -12.067,
           134.567
          ],
          [
           "far_NT_Nhu_10",
           "farauti_ss",
           "Australia",
           "AU-NT",
           "Northern Territory",
           0.02731,
           21,
           -12.179,
           136.786
          ],
          [
           "far_NT_Nhu_10a",
           "farauti_ss",
           "Australia",
           "AU-NT",
           "Northern Territory",
           0.0273,
           21,
           -12.179,
           136.786
          ],
          [
           "far_NT_Nhu_11a",
           "farauti_ss",
           "Australia",
           "AU-NT",
           "Northern Territory",
           0.02717,
           26,
           -12.179,
           136.786
          ],
          [
           "far_NT_Nhu_15a",
           "farauti_ss",
           "Australia",
           "AU-NT",
           "Northern Territory",
           0.02725,
           20,
           -12.179,
           136.786
          ],
          [
           "far_NT_Nhu_1b",
           "farauti_ss",
           "Australia",
           "AU-NT",
           "Northern Territory",
           0.02726,
           32,
           -12.179,
           136.786
          ],
          [
           "far_NT_Nhu_24a",
           "farauti_ss",
           "Australia",
           "AU-NT",
           "Northern Territory",
           0.02723,
           25,
           -12.179,
           136.786
          ],
          [
           "far_NT_Nhu_3",
           "farauti_ss",
           "Australia",
           "AU-NT",
           "Northern Territory",
           0.02724,
           27,
           -12.179,
           136.786
          ],
          [
           "far_NT_Nhu_4",
           "farauti_ss",
           "Australia",
           "AU-NT",
           "Northern Territory",
           0.02728,
           24,
           -12.179,
           136.786
          ],
          [
           "far_NT_Nhu_6a",
           "farauti_ss",
           "Australia",
           "AU-NT",
           "Northern Territory",
           0.02718,
           29,
           -12.179,
           136.786
          ],
          [
           "far_NT_Nhu_9",
           "farauti_ss",
           "Australia",
           "AU-NT",
           "Northern Territory",
           0.02721,
           30,
           -12.179,
           136.786
          ],
          [
           "far_NT_PK_1",
           "farauti_ss",
           "Australia",
           "AU-NT",
           "Northern Territory",
           0.0272,
           27,
           -14.184,
           129.496
          ],
          [
           "far_NT_PK_13a",
           "farauti_ss",
           "Australia",
           "AU-NT",
           "Northern Territory",
           0.02716,
           23,
           -14.184,
           129.496
          ],
          [
           "far_NT_PK_14a",
           "farauti_ss",
           "Australia",
           "AU-NT",
           "Northern Territory",
           0.02719,
           27,
           -14.184,
           129.496
          ],
          [
           "far_NT_PK_18a",
           "farauti_ss",
           "Australia",
           "AU-NT",
           "Northern Territory",
           0.02723,
           29,
           -14.184,
           129.496
          ],
          [
           "far_NT_PK_19a",
           "farauti_ss",
           "Australia",
           "AU-NT",
           "Northern Territory",
           0.02714,
           29,
           -14.184,
           129.496
          ],
          [
           "far_NT_PK_3",
           "farauti_ss",
           "Australia",
           "AU-NT",
           "Northern Territory",
           0.02725,
           26,
           -14.184,
           129.496
          ],
          [
           "far_NT_PK_5a",
           "farauti_ss",
           "Australia",
           "AU-NT",
           "Northern Territory",
           0.0272,
           20,
           -14.184,
           129.496
          ],
          [
           "far_NT_PK_6a",
           "farauti_ss",
           "Australia",
           "AU-NT",
           "Northern Territory",
           0.02721,
           20,
           -14.184,
           129.496
          ],
          [
           "far_NT_PK_7a",
           "farauti_ss",
           "Australia",
           "AU-NT",
           "Northern Territory",
           0.02721,
           20,
           -14.184,
           129.496
          ],
          [
           "far_NT_PK_9a",
           "farauti_ss",
           "Australia",
           "AU-NT",
           "Northern Territory",
           0.02712,
           26,
           -14.184,
           129.496
          ],
          [
           "far_QLD_CB_10",
           "farauti_ss",
           "Australia",
           "AU-QLD",
           "Queensland",
           0.02691,
           26,
           -17.688,
           146.113
          ],
          [
           "far_QLD_CB_11",
           "farauti_ss",
           "Australia",
           "AU-QLD",
           "Queensland",
           0.02685,
           29,
           -17.688,
           146.113
          ],
          [
           "far_QLD_CB_15",
           "farauti_ss",
           "Australia",
           "AU-QLD",
           "Queensland",
           0.02696,
           25,
           -17.688,
           146.113
          ],
          [
           "far_QLD_CB_16",
           "farauti_ss",
           "Australia",
           "AU-QLD",
           "Queensland",
           0.02692,
           31,
           -17.688,
           146.113
          ],
          [
           "far_QLD_CB_17",
           "farauti_ss",
           "Australia",
           "AU-QLD",
           "Queensland",
           0.0269,
           28,
           -17.688,
           146.113
          ],
          [
           "far_QLD_CB_21",
           "farauti_ss",
           "Australia",
           "AU-QLD",
           "Queensland",
           0.02688,
           31,
           -17.688,
           146.113
          ],
          [
           "far_QLD_CB_23",
           "farauti_ss",
           "Australia",
           "AU-QLD",
           "Queensland",
           0.02686,
           28,
           -17.688,
           146.113
          ],
          [
           "far_QLD_CB_7",
           "farauti_ss",
           "Australia",
           "AU-QLD",
           "Queensland",
           0.02692,
           29,
           -17.688,
           146.113
          ],
          [
           "far_QLD_CB_8",
           "farauti_ss",
           "Australia",
           "AU-QLD",
           "Queensland",
           0.02684,
           28,
           -17.688,
           146.113
          ],
          [
           "far_QLD_CB_9",
           "farauti_ss",
           "Australia",
           "AU-QLD",
           "Queensland",
           0.02693,
           29,
           -17.688,
           146.113
          ],
          [
           "far_QLD_CNS-122",
           "farauti_ss",
           "Australia",
           "AU-QLD",
           "Queensland",
           0.02684,
           30,
           -16.84,
           145.73
          ],
          [
           "far_QLD_CNS-125",
           "farauti_ss",
           "Australia",
           "AU-QLD",
           "Queensland",
           0.02684,
           31,
           -16.84,
           145.73
          ],
          [
           "far_QLD_CNS-131",
           "farauti_ss",
           "Australia",
           "AU-QLD",
           "Queensland",
           0.02686,
           30,
           -16.84,
           145.73
          ],
          [
           "far_QLD_CNS-139",
           "farauti_ss",
           "Australia",
           "AU-QLD",
           "Queensland",
           0.02683,
           28,
           -16.84,
           145.73
          ],
          [
           "far_QLD_CNS-148",
           "farauti_ss",
           "Australia",
           "AU-QLD",
           "Queensland",
           0.02681,
           27,
           -16.84,
           145.73
          ],
          [
           "far_QLD_CNS-156",
           "farauti_ss",
           "Australia",
           "AU-QLD",
           "Queensland",
           0.02689,
           35,
           -16.84,
           145.73
          ],
          [
           "far_QLD_CNS-165",
           "farauti_ss",
           "Australia",
           "AU-QLD",
           "Queensland",
           0.02685,
           31,
           -16.84,
           145.73
          ],
          [
           "far_QLD_CNS-67",
           "farauti_ss",
           "Australia",
           "AU-QLD",
           "Queensland",
           0.02689,
           28,
           -16.84,
           145.73
          ],
          [
           "far_QLD_CNS-69",
           "farauti_ss",
           "Australia",
           "AU-QLD",
           "Queensland",
           0.02683,
           34,
           -16.84,
           145.73
          ],
          [
           "far_QLD_CNS-70",
           "farauti_ss",
           "Australia",
           "AU-QLD",
           "Queensland",
           0.02687,
           29,
           -16.84,
           145.73
          ],
          [
           "far_QLD_MK_12",
           "farauti_ss",
           "Australia",
           "AU-QLD",
           "Queensland",
           0.02684,
           29,
           -21.104,
           149.119
          ],
          [
           "far_QLD_MK_13",
           "farauti_ss",
           "Australia",
           "AU-QLD",
           "Queensland",
           0.02695,
           22,
           -21.104,
           149.119
          ],
          [
           "far_QLD_MK_14",
           "farauti_ss",
           "Australia",
           "AU-QLD",
           "Queensland",
           0.02696,
           33,
           -21.104,
           149.119
          ],
          [
           "far_QLD_MK_18",
           "farauti_ss",
           "Australia",
           "AU-QLD",
           "Queensland",
           0.02686,
           34,
           -21.104,
           149.119
          ],
          [
           "far_QLD_MK_24",
           "farauti_ss",
           "Australia",
           "AU-QLD",
           "Queensland",
           0.02693,
           27,
           -21.104,
           149.119
          ],
          [
           "far_QLD_MK_9",
           "farauti_ss",
           "Australia",
           "AU-QLD",
           "Queensland",
           0.02692,
           28,
           -21.104,
           149.119
          ],
          [
           "far_QLD_Mac-18-13",
           "farauti_ss",
           "Australia",
           "AU-QLD",
           "Queensland",
           0.02691,
           35,
           -21.104,
           149.119
          ],
          [
           "far_QLD_Mac-18-19",
           "farauti_ss",
           "Australia",
           "AU-QLD",
           "Queensland",
           0.02687,
           32,
           -21.104,
           149.119
          ],
          [
           "far_QLD_Mac-18-24",
           "farauti_ss",
           "Australia",
           "AU-QLD",
           "Queensland",
           0.02689,
           31,
           -21.104,
           149.119
          ],
          [
           "far_QLD_Mac-18-29",
           "farauti_ss",
           "Australia",
           "AU-QLD",
           "Queensland",
           0.02691,
           32,
           -21.104,
           149.119
          ],
          [
           "far_QLD_Mac1",
           "farauti_ss",
           "Australia",
           "AU-QLD",
           "Queensland",
           0.02698,
           36,
           -21.104,
           149.119
          ],
          [
           "far_QLD_Mac2",
           "farauti_ss",
           "Australia",
           "AU-QLD",
           "Queensland",
           0.0269,
           26,
           -21.104,
           149.119
          ],
          [
           "far_QLD_Mac3",
           "farauti_ss",
           "Australia",
           "AU-QLD",
           "Queensland",
           0.02684,
           36,
           -21.104,
           149.119
          ],
          [
           "far_QLD_NP_1",
           "farauti_ss",
           "Australia",
           "AU-QLD",
           "Queensland",
           0.02687,
           28,
           -10.917,
           142.314
          ],
          [
           "far_QLD_NP_2",
           "farauti_ss",
           "Australia",
           "AU-QLD",
           "Queensland",
           0.02687,
           29,
           -10.917,
           142.314
          ],
          [
           "far_QLD_NP_4",
           "farauti_ss",
           "Australia",
           "AU-QLD",
           "Queensland",
           0.02691,
           29,
           -10.917,
           142.314
          ],
          [
           "far_QLD_NP_5",
           "farauti_ss",
           "Australia",
           "AU-QLD",
           "Queensland",
           0.02694,
           38,
           -10.917,
           142.314
          ],
          [
           "far_QLD_NP_6",
           "farauti_ss",
           "Australia",
           "AU-QLD",
           "Queensland",
           0.02687,
           25,
           -10.917,
           142.314
          ],
          [
           "far_QLD_NP_8",
           "farauti_ss",
           "Australia",
           "AU-QLD",
           "Queensland",
           0.02686,
           27,
           -10.917,
           142.314
          ],
          [
           "far_QLD_NP_9",
           "farauti_ss",
           "Australia",
           "AU-QLD",
           "Queensland",
           0.02692,
           28,
           -10.917,
           142.314
          ],
          [
           "far_QLD_Q673-3",
           "farauti_ss",
           "Australia",
           "AU-QLD",
           "Queensland",
           0.02693,
           33,
           -10.7,
           142.533
          ],
          [
           "far_QLD_Q673-4",
           "farauti_ss",
           "Australia",
           "AU-QLD",
           "Queensland",
           0.02686,
           21,
           -10.7,
           142.533
          ],
          [
           "far_QLD_Q885-2",
           "farauti_ss",
           "Australia",
           "AU-QLD",
           "Queensland",
           0.0269,
           33,
           -11.594,
           142.851
          ],
          [
           "far_QLD_Q885-4",
           "farauti_ss",
           "Australia",
           "AU-QLD",
           "Queensland",
           0.02692,
           33,
           -11.594,
           142.851
          ],
          [
           "far_QLD_Yaps_5",
           "farauti_ss",
           "Australia",
           "AU-QLD",
           "Queensland",
           0.02687,
           51,
           -16.823,
           145.706
          ],
          [
           "far_TSI_324-2",
           "farauti_ss",
           "Australia",
           "AU-QLD",
           "Queensland",
           0.02676,
           30,
           -10.172,
           142.21
          ],
          [
           "far_TSI_354747-2",
           "farauti_ss",
           "Australia",
           "AU-QLD",
           "Queensland",
           0.02707,
           20,
           -10.172,
           142.21
          ],
          [
           "far_TSI_354747_1",
           "farauti_ss",
           "Australia",
           "AU-QLD",
           "Queensland",
           0.02706,
           22,
           -10.172,
           142.21
          ],
          [
           "far_TSI_354747_14",
           "farauti_ss",
           "Australia",
           "AU-QLD",
           "Queensland",
           0.027,
           27,
           -10.172,
           142.21
          ],
          [
           "far_TSI_354747_15",
           "farauti_ss",
           "Australia",
           "AU-QLD",
           "Queensland",
           0.02703,
           31,
           -10.172,
           142.21
          ],
          [
           "far_TSI_354747_5",
           "farauti_ss",
           "Australia",
           "AU-QLD",
           "Queensland",
           0.02714,
           24,
           -10.172,
           142.21
          ],
          [
           "far_TSI_354747_6",
           "farauti_ss",
           "Australia",
           "AU-QLD",
           "Queensland",
           0.0272,
           24,
           -10.172,
           142.21
          ],
          [
           "far_TSI_354747_7",
           "farauti_ss",
           "Australia",
           "AU-QLD",
           "Queensland",
           0.02708,
           22,
           -10.172,
           142.21
          ],
          [
           "far_TSI_413-1",
           "farauti_ss",
           "Australia",
           "AU-QLD",
           "Queensland",
           0.02672,
           33,
           -9.267,
           142.283
          ],
          [
           "far_TSI_413-2",
           "farauti_ss",
           "Australia",
           "AU-QLD",
           "Queensland",
           0.02677,
           32,
           -9.267,
           142.283
          ],
          [
           "far_TSI_9-2",
           "farauti_ss",
           "Australia",
           "AU-QLD",
           "Queensland",
           0.02677,
           32,
           10.172,
           142.21
          ],
          [
           "far_TSI_9-6",
           "farauti_ss",
           "Australia",
           "AU-QLD",
           "Queensland",
           0.02682,
           29,
           10.172,
           142.21
          ],
          [
           "far_TSI_SB20",
           "farauti_ss",
           "Australia",
           "AU-QLD",
           "Queensland",
           0.0268,
           20,
           -9.38,
           142.622
          ],
          [
           "far_TSI_SB22",
           "farauti_ss",
           "Australia",
           "AU-QLD",
           "Queensland",
           0.02678,
           21,
           -9.38,
           142.622
          ],
          [
           "far_TSI_SB25",
           "farauti_ss",
           "Australia",
           "AU-QLD",
           "Queensland",
           0.02674,
           27,
           -9.38,
           142.622
          ],
          [
           "far_TSI_SB_10",
           "farauti_ss",
           "Australia",
           "AU-QLD",
           "Queensland",
           0.02682,
           26,
           -9.38,
           142.622
          ],
          [
           "far_TSI_SB_14",
           "farauti_ss",
           "Australia",
           "AU-QLD",
           "Queensland",
           0.02678,
           17,
           -9.38,
           142.622
          ],
          [
           "far_TSI_SB_15",
           "farauti_ss",
           "Australia",
           "AU-QLD",
           "Queensland",
           0.02677,
           25,
           -9.38,
           142.622
          ],
          [
           "far_TSI_SB_16",
           "farauti_ss",
           "Australia",
           "AU-QLD",
           "Queensland",
           0.02693,
           16,
           -9.38,
           142.622
          ],
          [
           "far_TSI_SB_18",
           "farauti_ss",
           "Australia",
           "AU-QLD",
           "Queensland",
           0.02677,
           27,
           -9.38,
           142.622
          ],
          [
           "far_TSI_SB_19",
           "farauti_ss",
           "Australia",
           "AU-QLD",
           "Queensland",
           0.02672,
           25,
           -9.38,
           142.622
          ],
          [
           "far_TSI_SB_2",
           "farauti_ss",
           "Australia",
           "AU-QLD",
           "Queensland",
           0.02675,
           31,
           -9.38,
           142.622
          ],
          [
           "far_TSI_SB_21",
           "farauti_ss",
           "Australia",
           "AU-QLD",
           "Queensland",
           0.0268,
           30,
           -9.38,
           142.622
          ],
          [
           "far_TSI_SB_28",
           "farauti_ss",
           "Australia",
           "AU-QLD",
           "Queensland",
           0.02675,
           31,
           -9.38,
           142.622
          ],
          [
           "far_TSI_SB_3",
           "farauti_ss",
           "Australia",
           "AU-QLD",
           "Queensland",
           0.02676,
           24,
           -9.38,
           142.622
          ],
          [
           "far_TSI_SB_30",
           "farauti_ss",
           "Australia",
           "AU-QLD",
           "Queensland",
           0.02675,
           25,
           -9.38,
           142.622
          ],
          [
           "far_TSI_SB_6",
           "farauti_ss",
           "Australia",
           "AU-QLD",
           "Queensland",
           0.02681,
           22,
           -9.38,
           142.622
          ],
          [
           "far_TSI_TI354747_12",
           "farauti_ss",
           "Australia",
           "AU-QLD",
           "Queensland",
           0.02704,
           27,
           -10.172,
           142.21
          ],
          [
           "far_TSI_TI354747_9",
           "farauti_ss",
           "Australia",
           "AU-QLD",
           "Queensland",
           0.02717,
           28,
           -10.172,
           142.21
          ],
          [
           "far_Ula_U10",
           "farauti_ss",
           "Solomon Islands",
           "SB-MK",
           "Makira-Ulawa",
           0.01622,
           24,
           -9.791,
           161.97
          ],
          [
           "far_Ula_U6",
           "farauti_ss",
           "Solomon Islands",
           "SB-MK",
           "Makira-Ulawa",
           0.01623,
           22,
           -9.792,
           161.97
          ],
          [
           "far_Ula_U7",
           "farauti_ss",
           "Solomon Islands",
           "SB-MK",
           "Makira-Ulawa",
           0.01619,
           35,
           -9.793,
           161.97
          ],
          [
           "far_Ula_U8",
           "farauti_ss",
           "Solomon Islands",
           "SB-MK",
           "Makira-Ulawa",
           0.01629,
           33,
           -9.794,
           161.97
          ],
          [
           "far_Ula_U9",
           "farauti_ss",
           "Solomon Islands",
           "SB-MK",
           "Makira-Ulawa",
           0.01622,
           27,
           -9.795,
           161.97
          ],
          [
           "far_Van_VTB20",
           "farauti_ss",
           "Vanuatu",
           "VU-SEE",
           "Shéfa",
           0.01624,
           36,
           -17.769,
           168.309
          ],
          [
           "far_Van_VTB21",
           "farauti_ss",
           "Vanuatu",
           "VU-SEE",
           "Shéfa",
           0.01622,
           36,
           -17.769,
           168.309
          ],
          [
           "far_Van_VTB28",
           "farauti_ss",
           "Vanuatu",
           "VU-SEE",
           "Shéfa",
           0.01624,
           34,
           -17.769,
           168.309
          ],
          [
           "far_Van_VTB29",
           "farauti_ss",
           "Vanuatu",
           "VU-SEE",
           "Shéfa",
           0.01624,
           34,
           -17.769,
           168.309
          ],
          [
           "far_Van_VTB30",
           "farauti_ss",
           "Vanuatu",
           "VU-SEE",
           "Shéfa",
           0.01626,
           37,
           -17.769,
           168.309
          ],
          [
           "far_WPSI_HLCNG23_28_1",
           "farauti_ss",
           "Solomon Islands",
           "SB-WE",
           "Western",
           0.01593,
           29,
           -8.257,
           157.237
          ],
          [
           "far_WPSI_HLCNG23_28_2",
           "farauti_ss",
           "Solomon Islands",
           "SB-WE",
           "Western",
           0.01601,
           27,
           -8.257,
           157.237
          ],
          [
           "far_WPSI_HLCNG23_28_3",
           "farauti_ss",
           "Solomon Islands",
           "SB-WE",
           "Western",
           0.01602,
           28,
           -8.257,
           157.237
          ],
          [
           "far_WPSI_HLCNG23_28_4",
           "farauti_ss",
           "Solomon Islands",
           "SB-WE",
           "Western",
           0.01599,
           30,
           -8.257,
           157.237
          ],
          [
           "far_WPSI_HLCNG23_28_5",
           "farauti_ss",
           "Solomon Islands",
           "SB-WE",
           "Western",
           0.01598,
           34,
           -8.257,
           157.237
          ],
          [
           "far_WPSI_HLCNG_23_5",
           "farauti_ss",
           "Solomon Islands",
           "SB-WE",
           "Western",
           0.01599,
           25,
           -8.268,
           157.236
          ],
          [
           "far_WPSI_sol292",
           "farauti_ss",
           "Solomon Islands",
           "SB-WE",
           "Western",
           0.01574,
           10,
           -8.317,
           157.248
          ],
          [
           "far_WPSI_sol311",
           "farauti_ss",
           "Solomon Islands",
           "SB-WE",
           "Western",
           0.01664,
           24,
           -8.28,
           157.246
          ],
          [
           "far_nNG_LR-176BO1",
           "farauti_ss",
           "Papua New Guinea",
           "PG-NPP",
           "Oro",
           0.01991,
           30,
           -8.148,
           148.137
          ],
          [
           "far_nNG_LR-176BO2",
           "farauti_ss",
           "Papua New Guinea",
           "PG-NPP",
           "Oro",
           0.02002,
           36,
           -8.148,
           148.137
          ],
          [
           "far_nNG_LR-176BO3",
           "farauti_ss",
           "Papua New Guinea",
           "PG-NPP",
           "Oro",
           0.01998,
           29,
           -8.148,
           148.137
          ],
          [
           "far_nNG_LR-176BO4",
           "farauti_ss",
           "Papua New Guinea",
           "PG-NPP",
           "Oro",
           0.01996,
           27,
           -8.148,
           148.137
          ],
          [
           "far_nNG_LR-176G14",
           "farauti_ss",
           "Papua New Guinea",
           "PG-NPP",
           "Oro",
           0.01997,
           27,
           -8.148,
           148.137
          ],
          [
           "far_nNG_LR-176G17",
           "farauti_ss",
           "Papua New Guinea",
           "PG-NPP",
           "Oro",
           0.02001,
           26,
           -8.148,
           148.137
          ],
          [
           "far_nNG_LR-88-G6",
           "farauti_ss",
           "Papua New Guinea",
           "PG-MPL",
           "Morobe",
           0.02019,
           25,
           -7.123,
           147.041
          ],
          [
           "far_nNG_LR-88G5",
           "farauti_ss",
           "Papua New Guinea",
           "PG-MPL",
           "Morobe",
           0.01994,
           29,
           -7.123,
           147.041
          ],
          [
           "far_nNG_MP-94-2",
           "farauti_ss",
           "Papua New Guinea",
           "PG-MPM",
           "Madang",
           0.01938,
           26,
           -4.056,
           144.741
          ],
          [
           "far_nNG_MP-94-4",
           "farauti_ss",
           "Papua New Guinea",
           "PG-MPM",
           "Madang",
           0.01941,
           24,
           -4.056,
           144.741
          ],
          [
           "far_nNG_SR-93-92-11",
           "farauti_ss",
           "Papua New Guinea",
           "PG-ESW",
           "Is Sepik",
           0.01944,
           30,
           -3.865,
           144.065
          ],
          [
           "far_nNG_SR-93-92-12",
           "farauti_ss",
           "Papua New Guinea",
           "PG-ESW",
           "Is Sepik",
           0.01931,
           27,
           -3.865,
           144.065
          ],
          [
           "far_nNG_SR-93-92-13",
           "farauti_ss",
           "Papua New Guinea",
           "PG-ESW",
           "Is Sepik",
           0.01931,
           25,
           -3.865,
           144.065
          ],
          [
           "far_nNG_SR-93-92-2",
           "farauti_ss",
           "Papua New Guinea",
           "PG-ESW",
           "Is Sepik",
           0.01943,
           32,
           -3.865,
           144.065
          ],
          [
           "far_nNG_f1-LR109-1",
           "farauti_ss",
           "Papua New Guinea",
           "PG-MPL",
           "Morobe",
           0.02003,
           32,
           -6.943,
           146.947
          ],
          [
           "far_nNG_f1-LR109-2",
           "farauti_ss",
           "Papua New Guinea",
           "PG-MPL",
           "Morobe",
           0.01998,
           35,
           -6.943,
           146.947
          ],
          [
           "far_nNG_f1-LR109-3",
           "farauti_ss",
           "Papua New Guinea",
           "PG-MPL",
           "Morobe",
           0.01994,
           32,
           -6.943,
           146.947
          ],
          [
           "far_nNG_f1-LR166-1",
           "farauti_ss",
           "Papua New Guinea",
           "PG-MPL",
           "Morobe",
           0.02009,
           30,
           -6.478,
           147.837
          ],
          [
           "far_nNG_f1-LR166-2",
           "farauti_ss",
           "Papua New Guinea",
           "PG-MPL",
           "Morobe",
           0.01997,
           32,
           -6.478,
           147.837
          ],
          [
           "far_nNG_f1-LR166-3",
           "farauti_ss",
           "Papua New Guinea",
           "PG-MPL",
           "Morobe",
           0.01995,
           28,
           -6.478,
           147.837
          ],
          [
           "far_nNG_f1-LR166-4",
           "farauti_ss",
           "Papua New Guinea",
           "PG-MPL",
           "Morobe",
           0.0201,
           32,
           -6.478,
           147.837
          ],
          [
           "far_nNG_f1-LR166-5",
           "farauti_ss",
           "Papua New Guinea",
           "PG-MPL",
           "Morobe",
           0.02002,
           29,
           -6.478,
           147.837
          ],
          [
           "far_nNG_f1-LR166-6",
           "farauti_ss",
           "Papua New Guinea",
           "PG-MPL",
           "Morobe",
           0.02005,
           31,
           -6.478,
           147.837
          ],
          [
           "far_nPP_96_88_11",
           "farauti_ss",
           "Papua New Guinea",
           "PG-MPL",
           "Morobe",
           0.01999,
           26,
           -7.123,
           147.041
          ],
          [
           "far_nPP_96_88_18",
           "farauti_ss",
           "Papua New Guinea",
           "PG-MPL",
           "Morobe",
           0.02009,
           24,
           -7.123,
           147.041
          ],
          [
           "far_nPP_96_88_7",
           "farauti_ss",
           "Papua New Guinea",
           "PG-MPL",
           "Morobe",
           0.01991,
           24,
           -7.123,
           147.041
          ],
          [
           "far_nPP_f1_96_88_10",
           "farauti_ss",
           "Papua New Guinea",
           "PG-MPL",
           "Morobe",
           0.02002,
           28,
           -7.123,
           147.041
          ],
          [
           "far_nPP_f1_96_88_14",
           "farauti_ss",
           "Papua New Guinea",
           "PG-MPL",
           "Morobe",
           0.01989,
           27,
           -7.123,
           147.041
          ],
          [
           "far_nPP_f1_96_88_22",
           "farauti_ss",
           "Papua New Guinea",
           "PG-MPL",
           "Morobe",
           0.02001,
           34,
           -7.123,
           147.041
          ],
          [
           "far_nPP_f1_96_88_26",
           "farauti_ss",
           "Papua New Guinea",
           "PG-MPL",
           "Morobe",
           0.01992,
           28,
           -7.123,
           147.041
          ],
          [
           "far_nPP_f1_96_88_6",
           "farauti_ss",
           "Papua New Guinea",
           "PG-MPL",
           "Morobe",
           0.01994,
           28,
           -7.123,
           147.041
          ],
          [
           "far_sNG_92_13_1",
           "farauti_ss",
           "Papua New Guinea",
           "PG-WPD",
           "Westen",
           0.02684,
           23,
           -9.02,
           143.24
          ],
          [
           "far_sNG_92_15_3",
           "farauti_ss",
           "Papua New Guinea",
           "PG-WPD",
           "Westen",
           0.02672,
           28,
           -8.938,
           143.409
          ],
          [
           "far_sNG_92_15_4",
           "farauti_ss",
           "Papua New Guinea",
           "PG-WPD",
           "Westen",
           0.02676,
           21,
           -8.938,
           143.409
          ],
          [
           "far_sNG_92_17_11",
           "farauti_ss",
           "Papua New Guinea",
           "PG-WPD",
           "Westen",
           0.02666,
           34,
           -8.601,
           143.558
          ],
          [
           "far_sNG_92_17_12",
           "farauti_ss",
           "Papua New Guinea",
           "PG-WPD",
           "Westen",
           0.02677,
           23,
           -8.601,
           143.558
          ],
          [
           "far_sNG_92_17_13",
           "farauti_ss",
           "Papua New Guinea",
           "PG-WPD",
           "Westen",
           0.02667,
           22,
           -8.601,
           143.558
          ],
          [
           "far_sNG_92_17_17",
           "farauti_ss",
           "Papua New Guinea",
           "PG-WPD",
           "Westen",
           0.02672,
           22,
           -8.601,
           143.558
          ],
          [
           "far_sNG_92_17_19",
           "farauti_ss",
           "Papua New Guinea",
           "PG-WPD",
           "Westen",
           0.02665,
           23,
           -8.601,
           143.558
          ],
          [
           "far_sNG_92_17_2",
           "farauti_ss",
           "Papua New Guinea",
           "PG-WPD",
           "Westen",
           0.02671,
           21,
           -8.601,
           143.558
          ],
          [
           "far_sNG_92_17_20",
           "farauti_ss",
           "Papua New Guinea",
           "PG-WPD",
           "Westen",
           0.02673,
           25,
           -8.601,
           143.558
          ],
          [
           "far_sNG_92_17_3",
           "farauti_ss",
           "Papua New Guinea",
           "PG-WPD",
           "Westen",
           0.02682,
           21,
           -8.601,
           143.558
          ],
          [
           "far_sNG_WP21-347",
           "farauti_ss",
           "Papua New Guinea",
           "PG-WPD",
           "Westen",
           0.02652,
           23,
           -7.951,
           143.85
          ],
          [
           "far_sNG_WP21-353",
           "farauti_ss",
           "Papua New Guinea",
           "PG-WPD",
           "Westen",
           0.02644,
           21,
           -7.951,
           143.85
          ],
          [
           "far_sNG_WP21-359",
           "farauti_ss",
           "Papua New Guinea",
           "PG-WPD",
           "Westen",
           0.02626,
           18,
           -7.951,
           143.85
          ],
          [
           "far_sNG_WP21-363",
           "farauti_ss",
           "Papua New Guinea",
           "PG-WPD",
           "Westen",
           0.02653,
           23,
           -7.951,
           143.85
          ],
          [
           "far_sNG_WP21-BC393",
           "farauti_ss",
           "Papua New Guinea",
           "PG-WPD",
           "Westen",
           0.02647,
           21,
           -7.951,
           143.85
          ],
          [
           "far_sNG_WP21-BC401",
           "farauti_ss",
           "Papua New Guinea",
           "PG-WPD",
           "Westen",
           0.0265,
           23,
           -7.951,
           143.85
          ],
          [
           "far_sNG_WP21-BC404",
           "farauti_ss",
           "Papua New Guinea",
           "PG-WPD",
           "Westen",
           0.02563,
           12,
           -7.951,
           143.85
          ],
          [
           "far_sNG_WP465-1",
           "farauti_ss",
           "Papua New Guinea",
           "PG-WPD",
           "Westen",
           0.02675,
           34,
           -9.806,
           143.219
          ],
          [
           "far_sNG_WP465-2",
           "farauti_ss",
           "Papua New Guinea",
           "PG-WPD",
           "Westen",
           0.02678,
           33,
           -9.806,
           143.219
          ],
          [
           "far_sNG_WP943-1",
           "farauti_ss",
           "Papua New Guinea",
           "PG-WPD",
           "Westen",
           0.02679,
           24,
           -9.247,
           142.791
          ],
          [
           "far_sNG_WP943-2",
           "farauti_ss",
           "Papua New Guinea",
           "PG-WPD",
           "Westen",
           0.02689,
           32,
           -9.247,
           142.791
          ],
          [
           "far_sNG_f192-15-5",
           "farauti_ss",
           "Papua New Guinea",
           "PG-WPD",
           "Westen",
           0.02673,
           22,
           -8.938,
           143.409
          ],
          [
           "far_sNG_f192-15-6",
           "farauti_ss",
           "Papua New Guinea",
           "PG-WPD",
           "Westen",
           0.02668,
           31,
           -8.938,
           143.409
          ],
          [
           "far_sNG_f192-15-7",
           "farauti_ss",
           "Papua New Guinea",
           "PG-WPD",
           "Westen",
           0.02674,
           23,
           -8.938,
           143.409
          ],
          [
           "far_sNG_f1_92_13_2",
           "farauti_ss",
           "Papua New Guinea",
           "PG-WPD",
           "Westen",
           0.02682,
           31,
           -9.02,
           143.24
          ],
          [
           "far_sNG_f1_92_13_3",
           "farauti_ss",
           "Papua New Guinea",
           "PG-WPD",
           "Westen",
           0.02681,
           25,
           -9.02,
           143.24
          ],
          [
           "far_sNG_f1_92_13_4",
           "farauti_ss",
           "Papua New Guinea",
           "PG-WPD",
           "Westen",
           0.02681,
           28,
           -9.02,
           143.24
          ],
          [
           "far_sNG_f1_92_13_5",
           "farauti_ss",
           "Papua New Guinea",
           "PG-WPD",
           "Westen",
           0.0268,
           26,
           -9.02,
           143.24
          ],
          [
           "far_sNG_f1_92_15_1",
           "farauti_ss",
           "Papua New Guinea",
           "PG-WPD",
           "Westen",
           0.02698,
           27,
           -8.938,
           143.409
          ],
          [
           "far_sNG_f1_92_15_2",
           "farauti_ss",
           "Papua New Guinea",
           "PG-WPD",
           "Westen",
           0.02669,
           29,
           -8.938,
           143.409
          ],
          [
           "far_sNG_f1_92_15_5",
           "farauti_ss",
           "Papua New Guinea",
           "PG-WPD",
           "Westen",
           0.02683,
           23,
           -8.938,
           143.409
          ],
          [
           "far_sNG_f1_92_17_1",
           "farauti_ss",
           "Papua New Guinea",
           "PG-WPD",
           "Westen",
           0.0267,
           21,
           -8.601,
           143.558
          ],
          [
           "far_sNG_f1_92_17_16",
           "farauti_ss",
           "Papua New Guinea",
           "PG-WPD",
           "Westen",
           0.02669,
           28,
           -8.601,
           143.558
          ],
          [
           "far_sPP_99-1",
           "farauti_ss",
           "Papua New Guinea",
           "PG-MBA",
           "Milen Be",
           0.01941,
           26,
           -10.348,
           150.565
          ],
          [
           "far_sPP_99-10",
           "farauti_ss",
           "Papua New Guinea",
           "PG-MBA",
           "Milen Be",
           0.01931,
           32,
           -10.348,
           150.565
          ],
          [
           "far_sPP_99-2",
           "farauti_ss",
           "Papua New Guinea",
           "PG-MBA",
           "Milen Be",
           0.01934,
           25,
           -10.348,
           150.565
          ],
          [
           "far_sPP_99-3",
           "farauti_ss",
           "Papua New Guinea",
           "PG-MBA",
           "Milen Be",
           0.01939,
           31,
           -10.348,
           150.565
          ],
          [
           "far_sPP_99-4",
           "farauti_ss",
           "Papua New Guinea",
           "PG-MBA",
           "Milen Be",
           0.01935,
           28,
           -10.348,
           150.565
          ],
          [
           "far_sPP_99-7",
           "farauti_ss",
           "Papua New Guinea",
           "PG-MBA",
           "Milen Be",
           0.01933,
           27,
           -10.348,
           150.565
          ],
          [
           "far_sPP_99-8",
           "farauti_ss",
           "Papua New Guinea",
           "PG-MBA",
           "Milen Be",
           0.01936,
           36,
           -10.348,
           150.565
          ],
          [
           "far_sPP_99-9",
           "farauti_ss",
           "Papua New Guinea",
           "PG-MBA",
           "Milen Be",
           0.01935,
           23,
           -10.348,
           150.565
          ],
          [
           "far_sPP_BC125",
           "farauti_ss",
           "Papua New Guinea",
           "PG-GPK",
           "Galf",
           0.01984,
           22,
           -7.777,
           144.889
          ],
          [
           "far_sPP_BC129",
           "farauti_ss",
           "Papua New Guinea",
           "PG-GPK",
           "Galf",
           0.01986,
           24,
           -7.777,
           144.889
          ],
          [
           "far_sPP_BC133",
           "farauti_ss",
           "Papua New Guinea",
           "PG-GPK",
           "Galf",
           0.0197,
           34,
           -7.777,
           144.889
          ],
          [
           "far_sPP_BC136",
           "farauti_ss",
           "Papua New Guinea",
           "PG-GPK",
           "Galf",
           0.01964,
           20,
           -7.777,
           144.889
          ],
          [
           "far_sPP_CP-98-5-10",
           "farauti_ss",
           "Papua New Guinea",
           "PG-CPM",
           "Sentral",
           0.01977,
           26,
           -8.049,
           145.951
          ],
          [
           "far_sPP_CP-98-5-11",
           "farauti_ss",
           "Papua New Guinea",
           "PG-CPM",
           "Sentral",
           0.01968,
           35,
           -8.049,
           145.951
          ],
          [
           "far_sPP_CP-98-5-12",
           "farauti_ss",
           "Papua New Guinea",
           "PG-CPM",
           "Sentral",
           0.0196,
           21,
           -8.049,
           145.951
          ],
          [
           "far_sPP_CP-98-5-4",
           "farauti_ss",
           "Papua New Guinea",
           "PG-CPM",
           "Sentral",
           0.01979,
           30,
           -8.049,
           145.951
          ],
          [
           "far_sPP_CP-98-5-9",
           "farauti_ss",
           "Papua New Guinea",
           "PG-CPM",
           "Sentral",
           0.01963,
           27,
           -8.049,
           145.951
          ],
          [
           "far_sPP_CP98_100_11",
           "farauti_ss",
           "Papua New Guinea",
           "PG-MBA",
           "Milen Be",
           0.0193,
           18,
           -10.383,
           150.322
          ],
          [
           "far_sPP_CP98_100_18",
           "farauti_ss",
           "Papua New Guinea",
           "PG-MBA",
           "Milen Be",
           0.0193,
           18,
           -10.383,
           150.322
          ],
          [
           "far_sPP_CP98_100_25",
           "farauti_ss",
           "Papua New Guinea",
           "PG-MBA",
           "Milen Be",
           0.01931,
           20,
           -10.383,
           150.322
          ],
          [
           "far_sPP_CP98_100_34",
           "farauti_ss",
           "Papua New Guinea",
           "PG-MBA",
           "Milen Be",
           0.01927,
           21,
           -10.383,
           150.322
          ],
          [
           "far_sPP_CP98_100_35",
           "farauti_ss",
           "Papua New Guinea",
           "PG-MBA",
           "Milen Be",
           0.01924,
           30,
           -10.383,
           150.322
          ],
          [
           "far_sPP_CP98_100_4",
           "farauti_ss",
           "Papua New Guinea",
           "PG-MBA",
           "Milen Be",
           0.01909,
           17,
           -10.383,
           150.322
          ],
          [
           "far_sPP_CP98_100_40",
           "farauti_ss",
           "Papua New Guinea",
           "PG-MBA",
           "Milen Be",
           0.01918,
           20,
           -10.383,
           150.322
          ],
          [
           "far_sPP_GR14-BC126",
           "farauti_ss",
           "Papua New Guinea",
           "PG-GPK",
           "Galf",
           0.01965,
           24,
           -7.777,
           144.889
          ],
          [
           "far_sPP_GR14-BC138",
           "farauti_ss",
           "Papua New Guinea",
           "PG-GPK",
           "Galf",
           0.02397,
           21,
           -7.777,
           144.889
          ],
          [
           "far_sPP_GR14-BC141",
           "farauti_ss",
           "Papua New Guinea",
           "PG-GPK",
           "Galf",
           0.01968,
           28,
           -7.777,
           144.889
          ],
          [
           "far_sPP_GR14-BC147",
           "farauti_ss",
           "Papua New Guinea",
           "PG-GPK",
           "Galf",
           0.02043,
           19,
           -7.777,
           144.889
          ],
          [
           "far_sPP_GR14-BC157",
           "farauti_ss",
           "Papua New Guinea",
           "PG-GPK",
           "Galf",
           0.0197,
           24,
           -7.777,
           144.889
          ],
          [
           "far_sPP_f1-CP54-1",
           "farauti_ss",
           "Papua New Guinea",
           "PG-CPM",
           "Sentral",
           0.0203,
           34,
           -9.131,
           146.913
          ],
          [
           "far_sPP_f1-CP54-2",
           "farauti_ss",
           "Papua New Guinea",
           "PG-CPM",
           "Sentral",
           0.02031,
           33,
           -9.131,
           146.913
          ],
          [
           "far_sPP_f1-CP54-3",
           "farauti_ss",
           "Papua New Guinea",
           "PG-CPM",
           "Sentral",
           0.02038,
           33,
           -9.131,
           146.913
          ],
          [
           "far_sPP_f1-CP54-4",
           "farauti_ss",
           "Papua New Guinea",
           "PG-CPM",
           "Sentral",
           0.02035,
           30,
           -9.131,
           146.913
          ],
          [
           "far_sPP_f1-CP54-5",
           "farauti_ss",
           "Papua New Guinea",
           "PG-CPM",
           "Sentral",
           0.0204,
           33,
           -9.131,
           146.913
          ],
          [
           "far_sPP_f1-CP54-6",
           "farauti_ss",
           "Papua New Guinea",
           "PG-CPM",
           "Sentral",
           0.02033,
           32,
           -9.131,
           146.913
          ],
          [
           "far_sPP_f1-LR171-10",
           "farauti_ss",
           "Papua New Guinea",
           "PG-MBA",
           "Milen Be",
           0.01921,
           33,
           -9.62,
           149.432
          ],
          [
           "far_sPP_f1-LR171-4",
           "farauti_ss",
           "Papua New Guinea",
           "PG-MBA",
           "Milen Be",
           0.01917,
           31,
           -9.62,
           149.432
          ],
          [
           "far_sPP_f1-LR171-7",
           "farauti_ss",
           "Papua New Guinea",
           "PG-MBA",
           "Milen Be",
           0.01919,
           29,
           -9.62,
           149.432
          ],
          [
           "far_sPP_f1-LR171-9",
           "farauti_ss",
           "Papua New Guinea",
           "PG-MBA",
           "Milen Be",
           0.0192,
           27,
           -9.62,
           149.432
          ],
          [
           "hin_WPSL_sol86",
           "hinesorum",
           "Solomon Islands",
           "SB-WE",
           "Western",
           0.01587,
           27,
           -8.407,
           157.338
          ]
         ],
         "hovertemplate": "species_pca=farauti_ss<br>PC1=%{x}<br>PC2=%{y}<br>derived_sample_id=%{customdata[0]}<br>species=%{customdata[1]}<br>country=%{customdata[2]}<br>admin1_iso=%{customdata[3]}<br>admin1_name=%{customdata[4]}<br>divergence=%{customdata[5]}<br>median_cov=%{customdata[6]}<br>latitude=%{customdata[7]}<br>longitude=%{customdata[8]}<extra></extra>",
         "legendgroup": "farauti_ss",
         "marker": {
          "color": "#FF7F0E",
          "symbol": "circle"
         },
         "mode": "markers",
         "name": "farauti_ss",
         "orientation": "v",
         "showlegend": true,
         "type": "scatter",
         "x": {
          "bdata": "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",
          "dtype": "f8"
         },
         "xaxis": "x",
         "y": {
          "bdata": "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",
          "dtype": "f8"
         },
         "yaxis": "y"
        },
        {
         "customdata": [
          [
           "far_WPSI_sol278",
           "farauti_ss",
           "Solomon Islands",
           "SB-WE",
           "Western",
           0.07556,
           27,
           -8.267,
           157.551
          ],
          [
           "far_WPSI_sol291",
           "farauti_ss",
           "Solomon Islands",
           "SB-WE",
           "Western",
           0.0755,
           23,
           -8.317,
           157.248
          ],
          [
           "far_WPSI_sol294",
           "farauti_ss",
           "Solomon Islands",
           "SB-WE",
           "Western",
           0.07555,
           27,
           -8.317,
           157.248
          ],
          [
           "far_WPSI_sol315",
           "farauti_ss",
           "Solomon Islands",
           "SB-WE",
           "Western",
           0.07559,
           21,
           -8.268,
           157.236
          ],
          [
           "far_WPSI_sol335",
           "farauti_ss",
           "Solomon Islands",
           "SB-WE",
           "Western",
           0.07562,
           27,
           -8.28,
           157.246
          ],
          [
           "far_WPSI_sol99",
           "farauti_ss",
           "Solomon Islands",
           "SB-WE",
           "Western",
           0.07553,
           26,
           -8.335,
           157.286
          ],
          [
           "far_WPSI_sol_24",
           "farauti_ss",
           "Solomon Islands",
           "SB-WE",
           "Western",
           0.07567,
           30,
           -8.251,
           157.239
          ],
          [
           "far_WPSI_sol_25",
           "farauti_ss",
           "Solomon Islands",
           "SB-WE",
           "Western",
           0.07585,
           30,
           -8.251,
           157.239
          ],
          [
           "far_WPSI_sol_31",
           "farauti_ss",
           "Solomon Islands",
           "SB-WE",
           "Western",
           0.07557,
           29,
           -8.251,
           157.239
          ],
          [
           "far_WPSI_sol_33",
           "farauti_ss",
           "Solomon Islands",
           "SB-WE",
           "Western",
           0.07566,
           33,
           -8.251,
           157.239
          ],
          [
           "hin_BOU_A1",
           "hinesorum",
           "Papua New Guinea",
           "PG-NSB",
           "Bogenvil",
           0.07565,
           23,
           -6.662,
           155.449
          ],
          [
           "hin_BOU_A10",
           "hinesorum",
           "Papua New Guinea",
           "PG-NSB",
           "Bogenvil",
           0.07561,
           20,
           -6.662,
           155.449
          ],
          [
           "hin_BOU_A3",
           "hinesorum",
           "Papua New Guinea",
           "PG-NSB",
           "Bogenvil",
           0.07545,
           13,
           -6.662,
           155.449
          ],
          [
           "hin_BOU_A5",
           "hinesorum",
           "Papua New Guinea",
           "PG-NSB",
           "Bogenvil",
           0.07558,
           21,
           -6.662,
           155.449
          ],
          [
           "hin_BOU_A_6",
           "hinesorum",
           "Papua New Guinea",
           "PG-NSB",
           "Bogenvil",
           0.07554,
           19,
           -6.662,
           155.449
          ],
          [
           "hin_BOU_F2_BOU8",
           "hinesorum",
           "Papua New Guinea",
           "PG-NSB",
           "Bogenvil",
           0.07571,
           39,
           -6.669,
           155.472
          ],
          [
           "hin_BOU_T10",
           "hinesorum",
           "Papua New Guinea",
           "PG-NSB",
           "Bogenvil",
           0.07546,
           19,
           -6.669,
           155.472
          ],
          [
           "hin_BOU_T6",
           "hinesorum",
           "Papua New Guinea",
           "PG-NSB",
           "Bogenvil",
           0.07548,
           21,
           -6.669,
           155.472
          ],
          [
           "hin_BOU_T7",
           "hinesorum",
           "Papua New Guinea",
           "PG-NSB",
           "Bogenvil",
           0.0756,
           20,
           -6.669,
           155.472
          ],
          [
           "hin_BOU_T9",
           "hinesorum",
           "Papua New Guinea",
           "PG-NSB",
           "Bogenvil",
           0.07568,
           23,
           -6.669,
           155.472
          ],
          [
           "hin_BOU_T_5",
           "hinesorum",
           "Papua New Guinea",
           "PG-NSB",
           "Bogenvil",
           0.07545,
           20,
           -6.669,
           155.472
          ],
          [
           "hin_GUA18-3-19",
           "hinesorum",
           "Solomon Islands",
           "SB-GU",
           "Guadalcanal",
           0.07565,
           30,
           -9.353,
           159.594
          ],
          [
           "hin_GUA18-3-5",
           "hinesorum",
           "Solomon Islands",
           "SB-GU",
           "Guadalcanal",
           0.0745,
           29,
           -9.353,
           159.594
          ],
          [
           "hin_GUA18-9-18",
           "hinesorum",
           "Solomon Islands",
           "SB-GU",
           "Guadalcanal",
           0.07501,
           34,
           -9.486,
           160.075
          ],
          [
           "hin_GUA18-9-8",
           "hinesorum",
           "Solomon Islands",
           "SB-GU",
           "Guadalcanal",
           0.07546,
           21,
           -9.486,
           160.075
          ],
          [
           "hin_GUA1816_18",
           "hinesorum",
           "Solomon Islands",
           "SB-GU",
           "Guadalcanal",
           0.07534,
           20,
           -9.577,
           160.139
          ],
          [
           "hin_GUA1816_24",
           "hinesorum",
           "Solomon Islands",
           "SB-GU",
           "Guadalcanal",
           0.0751,
           20,
           -9.577,
           160.139
          ],
          [
           "hin_GUA1818_1",
           "hinesorum",
           "Solomon Islands",
           "SB-GU",
           "Guadalcanal",
           0.07461,
           10,
           -9.507,
           160.156
          ],
          [
           "hin_GUA181_8",
           "hinesorum",
           "Solomon Islands",
           "SB-GU",
           "Guadalcanal",
           0.07387,
           12,
           -9.473,
           160.36
          ],
          [
           "hin_GUA183_7",
           "hinesorum",
           "Solomon Islands",
           "SB-GU",
           "Guadalcanal",
           0.07497,
           20,
           -9.353,
           159.594
          ],
          [
           "hin_GUA183_8",
           "hinesorum",
           "Solomon Islands",
           "SB-GU",
           "Guadalcanal",
           0.07546,
           21,
           -9.353,
           159.594
          ],
          [
           "hin_GUA188_1",
           "hinesorum",
           "Solomon Islands",
           "SB-GU",
           "Guadalcanal",
           0.07477,
           20,
           -9.496,
           160.071
          ],
          [
           "hin_GUA189_6",
           "hinesorum",
           "Solomon Islands",
           "SB-GU",
           "Guadalcanal",
           0.07484,
           20,
           -9.486,
           160.075
          ],
          [
           "hin_GUA_MC-5",
           "hinesorum",
           "Solomon Islands",
           "SB-GU",
           "Guadalcanal",
           0.07584,
           47,
           null,
           null
          ],
          [
           "hin_PP_97_89_13",
           "hinesorum",
           "Papua New Guinea",
           "PG-CPM",
           "Sentral",
           0.07513,
           26,
           -9.397,
           147.471
          ],
          [
           "hin_PP_97_89_7",
           "hinesorum",
           "Papua New Guinea",
           "PG-CPM",
           "Sentral",
           0.07522,
           24,
           -9.397,
           147.471
          ],
          [
           "hin_PP_98_8_6",
           "hinesorum",
           "Papua New Guinea",
           "PG-GPK",
           "Galf",
           0.07525,
           24,
           -7.8,
           146.443
          ],
          [
           "hin_PP_98_8_7",
           "hinesorum",
           "Papua New Guinea",
           "PG-GPK",
           "Galf",
           0.07512,
           36,
           -7.8,
           146.443
          ],
          [
           "hin_PP_CP113_4",
           "hinesorum",
           "Papua New Guinea",
           "PG-MBA",
           "Milen Be",
           0.07503,
           20,
           -9.629,
           147.551
          ],
          [
           "hin_PP_CP119_1",
           "hinesorum",
           "Papua New Guinea",
           "PG-NPP",
           "Oro",
           0.07411,
           11,
           -8.575,
           147.957
          ],
          [
           "hin_PP_CP94_1",
           "hinesorum",
           "Papua New Guinea",
           "PG-MBA",
           "Milen Be",
           0.0749,
           13,
           -10.204,
           149.695
          ],
          [
           "hin_PP_CP98_100_39",
           "hinesorum",
           "Papua New Guinea",
           "PG-MBA",
           "Milen Be",
           0.075,
           21,
           -10.383,
           150.322
          ],
          [
           "hin_PP_f2_98_89_11",
           "hinesorum",
           "Papua New Guinea",
           "PG-MBA",
           "Milen Be",
           0.07522,
           27,
           -10.201,
           150.355
          ],
          [
           "hin_PP_f2_98_89_14",
           "hinesorum",
           "Papua New Guinea",
           "PG-MBA",
           "Milen Be",
           0.07526,
           32,
           -10.201,
           150.355
          ],
          [
           "hin_PP_f2_98_89_21",
           "hinesorum",
           "Papua New Guinea",
           "PG-MBA",
           "Milen Be",
           0.07516,
           27,
           -10.201,
           150.355
          ],
          [
           "hin_PP_f2_98_89_2b",
           "hinesorum",
           "Papua New Guinea",
           "PG-MBA",
           "Milen Be",
           0.07515,
           35,
           -10.201,
           150.355
          ],
          [
           "hin_PP_f2_98_89_8",
           "hinesorum",
           "Papua New Guinea",
           "PG-MBA",
           "Milen Be",
           0.07515,
           32,
           -10.201,
           150.355
          ],
          [
           "hin_PP_f2_98_8_1b",
           "hinesorum",
           "Papua New Guinea",
           "PG-GPK",
           "Galf",
           0.07514,
           30,
           -7.8,
           146.443
          ],
          [
           "hin_PP_f2_98_8_2",
           "hinesorum",
           "Papua New Guinea",
           "PG-GPK",
           "Galf",
           0.0753,
           27,
           -7.8,
           146.443
          ],
          [
           "hin_PP_f2_98_8_3",
           "hinesorum",
           "Papua New Guinea",
           "PG-GPK",
           "Galf",
           0.07526,
           28,
           -7.8,
           146.443
          ],
          [
           "hin_PP_f2_98_8_4",
           "hinesorum",
           "Papua New Guinea",
           "PG-GPK",
           "Galf",
           0.07506,
           28,
           -7.8,
           146.443
          ],
          [
           "hin_PP_f2_98_8_5",
           "hinesorum",
           "Papua New Guinea",
           "PG-GPK",
           "Galf",
           0.0753,
           24,
           -7.8,
           146.443
          ],
          [
           "hin_QLD_F2_QLD20",
           "hinesorum",
           "Australia",
           "AU-QLD",
           "Queensland",
           0.07525,
           42,
           -17.47,
           145.877
          ],
          [
           "hin_QLD_MM10",
           "hinesorum",
           "Australia",
           "AU-QLD",
           "Queensland",
           0.07479,
           14,
           -16.674,
           145.329
          ],
          [
           "hin_QLD_MM11",
           "hinesorum",
           "Australia",
           "AU-QLD",
           "Queensland",
           0.07509,
           26,
           -16.674,
           145.329
          ],
          [
           "hin_QLD_MM7",
           "hinesorum",
           "Australia",
           "AU-QLD",
           "Queensland",
           0.07519,
           26,
           -16.674,
           145.329
          ],
          [
           "hin_QLD_MM8",
           "hinesorum",
           "Australia",
           "AU-QLD",
           "Queensland",
           0.07514,
           19,
           -16.674,
           145.329
          ],
          [
           "hin_QLD_MM9",
           "hinesorum",
           "Australia",
           "AU-QLD",
           "Queensland",
           0.07503,
           26,
           -16.674,
           145.329
          ],
          [
           "hin_QLD_MtMol_13_2",
           "hinesorum",
           "Australia",
           "AU-QLD",
           "Queensland",
           0.0747,
           16,
           -16.673,
           145.328
          ],
          [
           "hin_QLD_MtMol_13_8",
           "hinesorum",
           "Australia",
           "AU-QLD",
           "Queensland",
           0.07504,
           17,
           -16.674,
           145.329
          ],
          [
           "hin_QLD_MtMol_13_9",
           "hinesorum",
           "Australia",
           "AU-QLD",
           "Queensland",
           0.07498,
           19,
           -16.674,
           145.329
          ],
          [
           "hin_QLD_WCditch_1",
           "hinesorum",
           "Australia",
           "AU-QLD",
           "Queensland",
           0.07521,
           23,
           -17.48,
           145.868
          ],
          [
           "hin_WPSI_HB13",
           "hinesorum",
           "Solomon Islands",
           "SB-WE",
           "Western",
           0.0755,
           23,
           -8.261,
           157.165
          ],
          [
           "hin_WPSI_HB14",
           "hinesorum",
           "Solomon Islands",
           "SB-WE",
           "Western",
           0.07516,
           13,
           -8.261,
           157.165
          ],
          [
           "hin_WPSI_HB2",
           "hinesorum",
           "Solomon Islands",
           "SB-WE",
           "Western",
           0.07528,
           13,
           -8.261,
           157.165
          ],
          [
           "hin_WPSI_HB3",
           "hinesorum",
           "Solomon Islands",
           "SB-WE",
           "Western",
           0.07509,
           11,
           -8.261,
           157.165
          ],
          [
           "hin_WPSI_HB5",
           "hinesorum",
           "Solomon Islands",
           "SB-WE",
           "Western",
           0.07544,
           17,
           -8.261,
           157.165
          ],
          [
           "hin_WPSI_HB6",
           "hinesorum",
           "Solomon Islands",
           "SB-WE",
           "Western",
           0.07527,
           12,
           -8.261,
           157.165
          ],
          [
           "hin_WPSI_HB7",
           "hinesorum",
           "Solomon Islands",
           "SB-WE",
           "Western",
           0.07556,
           23,
           -8.261,
           157.165
          ],
          [
           "hin_WPSI_HB9",
           "hinesorum",
           "Solomon Islands",
           "SB-WE",
           "Western",
           0.07548,
           23,
           -8.261,
           157.165
          ],
          [
           "hin_WPSI_HB_1",
           "hinesorum",
           "Solomon Islands",
           "SB-WE",
           "Western",
           0.07558,
           20,
           -8.261,
           157.165
          ],
          [
           "hin_WPSI_HLC_30",
           "hinesorum",
           "Solomon Islands",
           "SB-WE",
           "Western",
           0.07543,
           25,
           -8.261,
           157.165
          ],
          [
           "hin_WPSL_sol241",
           "hinesorum",
           "Solomon Islands",
           "SB-WE",
           "Western",
           0.07557,
           31,
           -8.407,
           157.338
          ],
          [
           "hin_WPSL_sol244",
           "hinesorum",
           "Solomon Islands",
           "SB-WE",
           "Western",
           0.07561,
           35,
           -8.407,
           157.338
          ],
          [
           "hin_WPSL_sol247",
           "hinesorum",
           "Solomon Islands",
           "SB-WE",
           "Western",
           0.07556,
           28,
           -8.407,
           157.338
          ],
          [
           "hin_WPSL_sol251",
           "hinesorum",
           "Solomon Islands",
           "SB-WE",
           "Western",
           0.07554,
           28,
           -8.407,
           157.338
          ],
          [
           "hin_WPSL_sol261",
           "hinesorum",
           "Solomon Islands",
           "SB-WE",
           "Western",
           0.07564,
           29,
           -8.407,
           157.338
          ],
          [
           "hin_WPSL_sol308",
           "hinesorum",
           "Solomon Islands",
           "SB-WE",
           "Western",
           0.07566,
           28,
           -8.321,
           157.252
          ],
          [
           "hin_WPSL_sol_19",
           "hinesorum",
           "Solomon Islands",
           "SB-WE",
           "Western",
           0.07562,
           28,
           -8.195,
           157.264
          ],
          [
           "hin_WPSL_sol_23",
           "hinesorum",
           "Solomon Islands",
           "SB-WE",
           "Western",
           0.07575,
           31,
           -8.251,
           157.239
          ],
          [
           "hin_WPSL_sol_29",
           "hinesorum",
           "Solomon Islands",
           "SB-WE",
           "Western",
           0.0757,
           31,
           -8.251,
           157.239
          ],
          [
           "hin_WPSL_sol_30",
           "hinesorum",
           "Solomon Islands",
           "SB-WE",
           "Western",
           0.07564,
           31,
           -8.251,
           157.239
          ],
          [
           "hin_WPSL_sol_76",
           "hinesorum",
           "Solomon Islands",
           "SB-WE",
           "Western",
           0.07564,
           26,
           -8.28,
           157.246
          ],
          [
           "hin_cNG-7-10",
           "hinesorum",
           "Papua New Guinea",
           "PG-GPK",
           "Galf",
           0.07746,
           30,
           -7.863,
           146.391
          ],
          [
           "hin_cNG-7-2",
           "hinesorum",
           "Papua New Guinea",
           "PG-GPK",
           "Galf",
           0.07731,
           22,
           -7.863,
           146.391
          ],
          [
           "hin_cNG-7-6",
           "hinesorum",
           "Papua New Guinea",
           "PG-GPK",
           "Galf",
           0.07742,
           21,
           -7.863,
           146.391
          ],
          [
           "hin_cNG-7-9",
           "hinesorum",
           "Papua New Guinea",
           "PG-GPK",
           "Galf",
           0.07749,
           30,
           -7.863,
           146.391
          ],
          [
           "hin_cNG-8-4",
           "hinesorum",
           "Papua New Guinea",
           "PG-GPK",
           "Galf",
           0.07748,
           27,
           -7.8,
           146.443
          ],
          [
           "hin_cNG-8-8",
           "hinesorum",
           "Papua New Guinea",
           "PG-GPK",
           "Galf",
           0.07742,
           23,
           -7.8,
           146.443
          ],
          [
           "hin_cNG-8-9",
           "hinesorum",
           "Papua New Guinea",
           "PG-GPK",
           "Galf",
           0.07748,
           22,
           -7.8,
           146.443
          ],
          [
           "hin_cNG-9-10",
           "hinesorum",
           "Papua New Guinea",
           "PG-GPK",
           "Galf",
           0.07516,
           37,
           -7.748,
           146.43
          ],
          [
           "hin_cNG-9-7",
           "hinesorum",
           "Papua New Guinea",
           "PG-GPK",
           "Galf",
           0.07515,
           34,
           -7.748,
           146.43
          ],
          [
           "hin_cNG-9-9",
           "hinesorum",
           "Papua New Guinea",
           "PG-GPK",
           "Galf",
           0.07516,
           30,
           -7.748,
           146.43
          ],
          [
           "hin_cNG_94_109_2",
           "hinesorum",
           "Papua New Guinea",
           "PG-HLA",
           "Hela",
           0.07755,
           23,
           -6.205,
           143.011
          ],
          [
           "hin_cNG_94_109_5",
           "hinesorum",
           "Papua New Guinea",
           "PG-HLA",
           "Hela",
           0.07748,
           26,
           -6.205,
           143.011
          ],
          [
           "hin_cNG_94_109_6",
           "hinesorum",
           "Papua New Guinea",
           "PG-HLA",
           "Hela",
           0.07747,
           26,
           -6.205,
           143.011
          ],
          [
           "hin_cNG_94_113_2",
           "hinesorum",
           "Papua New Guinea",
           "PG-SHM",
           "Sauten Hailans",
           0.07762,
           21,
           -6.793,
           143.635
          ],
          [
           "hin_cNG_94_113_6",
           "hinesorum",
           "Papua New Guinea",
           "PG-SHM",
           "Sauten Hailans",
           0.07748,
           24,
           -6.793,
           143.635
          ],
          [
           "hin_cNG_94_118_1",
           "hinesorum",
           "Papua New Guinea",
           "PG-SHM",
           "Sauten Hailans",
           0.07751,
           22,
           -6.793,
           143.635
          ],
          [
           "hin_cNG_94_118_2",
           "hinesorum",
           "Papua New Guinea",
           "PG-GPK",
           "Galf",
           0.07748,
           18,
           -7.137,
           143.997
          ],
          [
           "hin_cNG_94_118_3",
           "hinesorum",
           "Papua New Guinea",
           "PG-GPK",
           "Galf",
           0.07745,
           19,
           -7.137,
           143.997
          ],
          [
           "hin_cNG_94_97_3",
           "hinesorum",
           "Papua New Guinea",
           "PG-GPK",
           "Galf",
           0.07743,
           26,
           -7.137,
           143.997
          ],
          [
           "hin_cNG_94_97_5",
           "hinesorum",
           "Papua New Guinea",
           "PG-SHM",
           "Sauten Hailans",
           0.07749,
           24,
           -6.468,
           142.837
          ],
          [
           "hin_cNG_94_97_9",
           "hinesorum",
           "Papua New Guinea",
           "PG-SHM",
           "Sauten Hailans",
           0.0775,
           20,
           -6.468,
           142.837
          ],
          [
           "hin_cNG_f2_94_109_3",
           "hinesorum",
           "Papua New Guinea",
           "PG-HLA",
           "Hela",
           0.0776,
           24,
           -6.205,
           143.011
          ],
          [
           "hin_cNG_f2_94_109_7",
           "hinesorum",
           "Papua New Guinea",
           "PG-HLA",
           "Hela",
           0.07743,
           24,
           -6.205,
           143.011
          ],
          [
           "hin_cNG_f2_94_97_1",
           "hinesorum",
           "Papua New Guinea",
           "PG-HLA",
           "Hela",
           0.07745,
           20,
           -6.205,
           143.011
          ],
          [
           "hin_cNG_f2_94_97_7",
           "hinesorum",
           "Papua New Guinea",
           "PG-HLA",
           "Hela",
           0.07759,
           23,
           -6.205,
           143.011
          ],
          [
           "hin_nNG_MP-76-2",
           "hinesorum",
           "Papua New Guinea",
           "PG-ESW",
           "Is Sepik",
           0.07799,
           29,
           -4.07,
           143.256
          ],
          [
           "hin_nNG_MP-76-4",
           "hinesorum",
           "Papua New Guinea",
           "PG-ESW",
           "Is Sepik",
           0.07784,
           30,
           -4.07,
           143.256
          ],
          [
           "hin_nNG_MP76_3",
           "hinesorum",
           "Papua New Guinea",
           "PG-ESW",
           "Is Sepik",
           0.07776,
           19,
           -4.07,
           143.256
          ],
          [
           "hin_nNG_SR-Nal16",
           "hinesorum",
           "Papua New Guinea",
           "PG-ESW",
           "Is Sepik",
           0.07785,
           21,
           -3.782,
           143.05
          ],
          [
           "hin_nNG_SR-Nal2",
           "hinesorum",
           "Papua New Guinea",
           "PG-ESW",
           "Is Sepik",
           0.07786,
           24,
           -3.782,
           143.05
          ],
          [
           "hin_nNG_SR93-R93K",
           "hinesorum",
           "Papua New Guinea",
           "PG-ESW",
           "Is Sepik",
           0.07789,
           20,
           -3.865,
           144.065
          ],
          [
           "hin_nPP_4-169",
           "hinesorum",
           "Papua New Guinea",
           "PG-MPL",
           "Morobe",
           0.07493,
           26,
           -6.206,
           147.672
          ],
          [
           "hin_nPP_BO132_1",
           "hinesorum",
           "Papua New Guinea",
           "PG-MPM",
           "Madang",
           0.07776,
           21,
           -5.769,
           145.592
          ],
          [
           "hin_nPP_BO132_10",
           "hinesorum",
           "Papua New Guinea",
           "PG-MPM",
           "Madang",
           0.07783,
           21,
           -5.769,
           145.592
          ],
          [
           "hin_nPP_BO132_12",
           "hinesorum",
           "Papua New Guinea",
           "PG-MPM",
           "Madang",
           0.07782,
           22,
           -5.769,
           145.592
          ],
          [
           "hin_nPP_BO132_2",
           "hinesorum",
           "Papua New Guinea",
           "PG-MPM",
           "Madang",
           0.07781,
           21,
           -5.769,
           145.592
          ],
          [
           "hin_nPP_BO132_3",
           "hinesorum",
           "Papua New Guinea",
           "PG-MPM",
           "Madang",
           0.0778,
           23,
           -5.769,
           145.592
          ],
          [
           "hin_nPP_BO132_4",
           "hinesorum",
           "Papua New Guinea",
           "PG-MPM",
           "Madang",
           0.07778,
           22,
           -5.769,
           145.592
          ],
          [
           "hin_nPP_BO132_5",
           "hinesorum",
           "Papua New Guinea",
           "PG-MPM",
           "Madang",
           0.07776,
           25,
           -5.769,
           145.592
          ],
          [
           "hin_nPP_BO132_6",
           "hinesorum",
           "Papua New Guinea",
           "PG-MPM",
           "Madang",
           0.07782,
           23,
           -5.769,
           145.592
          ],
          [
           "hin_nPP_BO132_7",
           "hinesorum",
           "Papua New Guinea",
           "PG-MPM",
           "Madang",
           0.07805,
           25,
           -5.769,
           145.592
          ],
          [
           "hin_nPP_BO132_9",
           "hinesorum",
           "Papua New Guinea",
           "PG-MPM",
           "Madang",
           0.0778,
           23,
           -5.769,
           145.592
          ],
          [
           "hin_sNG_92_27_12",
           "hinesorum",
           "Papua New Guinea",
           "PG-WPD",
           "Westen",
           0.07536,
           25,
           -8.074,
           141.75
          ],
          [
           "hin_sNG_92_62_1",
           "hinesorum",
           "Papua New Guinea",
           "PG-WPD",
           "Westen",
           0.07531,
           26,
           -6.317,
           141.025
          ],
          [
           "hin_sNG_92_62_2",
           "hinesorum",
           "Papua New Guinea",
           "PG-WPD",
           "Westen",
           0.07519,
           25,
           -6.317,
           141.025
          ],
          [
           "hin_sNG_92_62_4",
           "hinesorum",
           "Papua New Guinea",
           "PG-WPD",
           "Westen",
           0.07523,
           28,
           -6.317,
           141.025
          ],
          [
           "hin_sNG_92_62_7",
           "hinesorum",
           "Papua New Guinea",
           "PG-WPD",
           "Westen",
           0.0751,
           23,
           -6.317,
           141.025
          ],
          [
           "hin_sNG_GI31_3",
           "hinesorum",
           "Papua New Guinea",
           null,
           null,
           0.07508,
           19,
           null,
           null
          ],
          [
           "hin_sNG_GI31_6",
           "hinesorum",
           "Papua New Guinea",
           null,
           null,
           0.07519,
           26,
           null,
           null
          ],
          [
           "hin_sNG_S10_10",
           "hinesorum",
           "Papua New Guinea",
           null,
           null,
           0.0751,
           19,
           null,
           null
          ],
          [
           "hin_sNG_S10_11",
           "hinesorum",
           "Papua New Guinea",
           null,
           null,
           0.0751,
           18,
           null,
           null
          ],
          [
           "hin_sNG_S10_12",
           "hinesorum",
           "Papua New Guinea",
           null,
           null,
           0.07509,
           16,
           null,
           null
          ],
          [
           "hin_sNG_S10_13",
           "hinesorum",
           "Papua New Guinea",
           null,
           null,
           0.07508,
           19,
           null,
           null
          ],
          [
           "hin_sNG_S10_14",
           "hinesorum",
           "Papua New Guinea",
           null,
           null,
           0.0751,
           22,
           null,
           null
          ],
          [
           "hin_sNG_S10_5",
           "hinesorum",
           "Papua New Guinea",
           null,
           null,
           0.07507,
           18,
           null,
           null
          ],
          [
           "hin_sNG_S10_8",
           "hinesorum",
           "Papua New Guinea",
           null,
           null,
           0.07514,
           20,
           null,
           null
          ],
          [
           "hin_sNG_S1_15",
           "hinesorum",
           "Papua New Guinea",
           null,
           null,
           0.0752,
           22,
           null,
           null
          ],
          [
           "hin_sNG_S1_16",
           "hinesorum",
           "Papua New Guinea",
           null,
           null,
           0.07504,
           15,
           null,
           null
          ],
          [
           "hin_sNG_S1_17",
           "hinesorum",
           "Papua New Guinea",
           null,
           null,
           0.07506,
           22,
           null,
           null
          ],
          [
           "hin_sNG_S1_18",
           "hinesorum",
           "Papua New Guinea",
           null,
           null,
           0.07513,
           19,
           null,
           null
          ],
          [
           "hin_sNG_S1_20",
           "hinesorum",
           "Papua New Guinea",
           null,
           null,
           0.07471,
           12,
           null,
           null
          ],
          [
           "hin_sNG_WP66_4",
           "hinesorum",
           "Papua New Guinea",
           "PG-HLA",
           "Hela",
           0.07523,
           25,
           -6.122,
           141.294
          ],
          [
           "hin_sNG_f2_92_27_10",
           "hinesorum",
           "Papua New Guinea",
           "PG-WPD",
           "Westen",
           0.07542,
           29,
           -8.074,
           141.75
          ],
          [
           "hin_sNG_f2_92_27_20",
           "hinesorum",
           "Papua New Guinea",
           "PG-WPD",
           "Westen",
           0.07576,
           35,
           -8.074,
           141.75
          ],
          [
           "hin_sNG_f2_92_27_4",
           "hinesorum",
           "Papua New Guinea",
           "PG-WPD",
           "Westen",
           0.07547,
           34,
           -8.074,
           141.75
          ],
          [
           "hin_sNG_f2_92_27_8",
           "hinesorum",
           "Papua New Guinea",
           "PG-WPD",
           "Westen",
           0.07577,
           29,
           -8.074,
           141.75
          ],
          [
           "hin_sNG_f2_92_41_2",
           "hinesorum",
           "Papua New Guinea",
           "PG-WPD",
           "Westen",
           0.07554,
           27,
           -7.182,
           141.248
          ],
          [
           "hin_sNG_f2_92_41_4",
           "hinesorum",
           "Papua New Guinea",
           "PG-WPD",
           "Westen",
           0.07546,
           32,
           -7.182,
           141.248
          ],
          [
           "hin_sNG_f2_92_41_7",
           "hinesorum",
           "Papua New Guinea",
           "PG-WPD",
           "Westen",
           0.07553,
           28,
           -7.182,
           141.248
          ],
          [
           "hin_sNG_f2_92_41_8",
           "hinesorum",
           "Papua New Guinea",
           "PG-WPD",
           "Westen",
           0.07542,
           29,
           -7.182,
           141.248
          ],
          [
           "hin_sNG_f2_92_41_9",
           "hinesorum",
           "Papua New Guinea",
           "PG-WPD",
           "Westen",
           0.07527,
           30,
           -7.182,
           141.248
          ],
          [
           "hin_sNG_f2_92_62_3",
           "hinesorum",
           "Papua New Guinea",
           "PG-WPD",
           "Westen",
           0.07518,
           30,
           -7.182,
           141.248
          ],
          [
           "hin_wQLD_Por_41",
           "hinesorum",
           "Australia",
           "AU-QLD",
           "Queensland",
           0.0755,
           27,
           -14.916,
           141.638
          ],
          [
           "hin_wQLD_Por_43",
           "hinesorum",
           "Australia",
           "AU-QLD",
           "Queensland",
           0.07547,
           19,
           -14.916,
           141.638
          ],
          [
           "hin_wQLD_Por_44",
           "hinesorum",
           "Australia",
           "AU-QLD",
           "Queensland",
           0.07523,
           31,
           -14.916,
           141.638
          ],
          [
           "hin_wQLD_Por_45",
           "hinesorum",
           "Australia",
           "AU-QLD",
           "Queensland",
           0.07532,
           28,
           -14.916,
           141.638
          ],
          [
           "hin_wQLD_Por_48",
           "hinesorum",
           "Australia",
           "AU-QLD",
           "Queensland",
           0.0753,
           26,
           -14.916,
           141.638
          ],
          [
           "hin_wQLD_Por_49",
           "hinesorum",
           "Australia",
           "AU-QLD",
           "Queensland",
           0.0754,
           27,
           -14.916,
           141.638
          ],
          [
           "tor_wQLD_Por_52",
           "torresiensis",
           "Australia",
           "AU-QLD",
           "Queensland",
           0.07547,
           22,
           -14.916,
           141.638
          ]
         ],
         "hovertemplate": "species_pca=hinesorum<br>PC1=%{x}<br>PC2=%{y}<br>derived_sample_id=%{customdata[0]}<br>species=%{customdata[1]}<br>country=%{customdata[2]}<br>admin1_iso=%{customdata[3]}<br>admin1_name=%{customdata[4]}<br>divergence=%{customdata[5]}<br>median_cov=%{customdata[6]}<br>latitude=%{customdata[7]}<br>longitude=%{customdata[8]}<extra></extra>",
         "legendgroup": "hinesorum",
         "marker": {
          "color": "#2CA02C",
          "symbol": "circle"
         },
         "mode": "markers",
         "name": "hinesorum",
         "orientation": "v",
         "showlegend": true,
         "type": "scatter",
         "x": {
          "bdata": "RYDTu3i3KcBE3nL1Y4MpwAltOZficijA1lWBWgy+KMAFpz6QvGMpwOdUMgBUiSnAYAX4bvMWKcBrDDohdFApwF6+9WG94SjAYJD0aRXtKMB5JF6ezj0pwHUCmggbninAnaG44012KcAKSPsfYFkpwHKJIw9ETinA5XtGIjQiKcBJ2/gTlUUpwERuhhvwmSnAIuF7f4M2KcBDrWnecVopwL8Qct7/RynAc2n8wivRKMA8FXDP8/cpwC4B+KdUYSnABrggW5ZPKMBDHyxjQ+8owAn7dhIRpinAYJD0aRV9KMCcNXhflT8pwKCM8WH2YinAK061FmbhKMDlszwP7n4pwClbJO1G9yjADvYmhuSEKcDJHMu76sElwOmedY2WuyXAZ5lFKLYqJsAOZaiKqRQmwFw9J71v9CTA9l0R/G89JsCsjhzpDIwiwJkuxOqPSCbApIl3gCdBJcC3Q8Ni1K0mwKmhDcAGTCbAllrvN9rZJcAGL/oK0lQmwP36ITZYmCbAgQncups/JsDYLJeNzhElwH6pnzcVKSXAynA8nwGJI8D5ugz/6UYlwOjdWFAYZCbAFeEmo8pQJcC+oIUEjE4lwDoi36XUrSTA+uyA64rxJMAHCObo8bskwIo+H2XEFSbAgo/BilMVJsAIOe//44AlwKsEi8OZHyjASfWdX5TYKMDx9bUuNUopwFQ2rKksqinARtJu9DE3KcB8m/7sRyopwK/uWGyTGinAAHSYLy/oKMBVNNb+zuYowPZ8zXLZuCjAKjqSy394KMBZ+WUwRqQowOXUzjC1XSnAt/EnKhtmKcDJPsiyYLoowAAbECGu3CjAn8ppT8kRKcBhb2JITk4pwFLt0/GY+SjAe/mdJjPuKMDKcDyfAZkowJNTO8PUTibAxqUqbXHNIcA4pFGBkw0mwFzn3y77pSXAx7sjY7VJJcC8AtGTMuElwIHOpE3V7SXAyHn/HydIJcA74/viUh0lwIQSZtr+zSTAj4mUZvPAJcDnOo20VMYlwPD5YYTwUCXA0H8PXrv8JcCmD11Q3xImwA1wQbYslyXA1SE3ww3QJMDTiJl9HgMmwHsRbcfUVSXANQu0O6SAJcBQGJRpNEElwBRBnIcTsCXAzsKedvi7JcB9XYb/dKMlwPrS25+LgiTAWcFvQ4zPIsAbSu1FtG0gwCGSIcfW4yTAOEw0SMHTIcCGWtO840wiwFd72AsFXCLAB5j5Dn76JcAkJT0MrRYiwI/k8h/S2yDAcQM+P4yEIsCTpkHRPIAjwMBbIEHxqyLA9fOmIhUuI8AgnE8dqxwjwN3NUx1yWyPAW3nJ/+R3IsAmNbQB2HgiwL6AA/8AWB/AgzC3e7m3IcCk42pkV2ohwOdTxyqlhx/APpP98zQYI8AIrBxaZNMlwPFHUWfucSTAfsaFAyFxJcDdtBmnIWIlwAw+zcmLLCXA9Wc/UkReJcChoX+Ci+UkwI1jJHuE8iXAr84xIHu1JMCXx5qRQd4kwI6s/DIYYyXAhZZ1/1jwJcAJbTmX4oolwAWHF0SktiXALMd1nVe2HsBngAuyZcEgwNwpHaz/2yDAzGH3HcP7IMCBr+jWa/IhwMWPMXcteSHA1o13R8aCIsDKF7SQgKEgwA1wQbYs9yHAach4lErYIMCRmnYxzfQgwOSECaNZGSPA/FbrxOWAIsAPYJFfP7AkwFEWvr7WXSPAach4lEpgIsCxv+yePOwjwGcng6PkXSLA",
          "dtype": "f8"
         },
         "xaxis": "x",
         "y": {
          "bdata": "nbryWZ61X8Bs66f/rM9ewJ1oVyHlhF/AYKsEi8P7XsA3T3XIzRJfwI4B2evd717AtvgUAONyX8C1bK0vEphfwO2ZJQFqaV/AgT6RJ0kZX8Ai/IugMYlfwLYQ5KCEsV/AIhrdQeyfX8BPQBNhw3VfwBIxJZLoW1/As0EmGTmHX8B+xoUDIY1fwLIN3IE6jV/ALT4FwHiRX8AIjzaOWKdfwNwSueAMul/A0LhwICRgX8D0wwjh0S5fwGlSCrq9Ol/AaMpOP6iJX8DY9Qt2w3ZfwILF4cyvSl/AAmVTrvCMX8ABMJ5BQ6lfwHxhMlUwoF/AFmpN847bX8Ah5Lz/jxtfwBnnb0IheF/A3pOHhVoGYMDhRV9BmkVdwJVIopdR+F3A6znpfeOuXcAXgbG+gQVdwOZ0WUxsOl3AYY4ev7c7XcCRD3o2q6JbwE5/9iNFhF3A+I2vPbO2XcB1WrdB7bldwCPb+X5qAV3AgnLbvkeLXcDPZtXnatFdwHFV2XdFdl3AWvW52opRXcA9uaZAZq9dwGrf3F89Rl3AUAEwnkGtXcBpUgq6vSJdwLx5qkNu0FzAZvfkYaHoXMDe5SK+E25dwFOWIY51L13AdjI4Sl7zXMDAJmvUQ4xcwFZI+Um1yVzAt7QaEvdwXcA9fm/Tn9VcwNXo1QClXV/A8iTpmsmJX8DDRlm/mZhfwD+qYb8n/l7AYTJVMCpDX8CZEkn0MmRfwNKpK5/luF/AOh4zUBktX8C5GW7A5+5ewJT2Bl+YiV/AuRluwOdhX8BiLT4FwLhewHo2qz5Xo1/Ac9cS8kHfX8AqqRPQRKJfwDuqmiDqK1/A2XxcGypQX8DkDwaee51fwIums5PBKV/AbxKDwMpWX8DrqGqCqFdfwLgjnBa8QmHAoyO5/IcJYMAEkNrEyUlhwCmzQSYZNmHAa5p3nKJWYcB2/YLdsDlhwCv2l92TP2HA+Um1T8c1XcAxfERMiSJdwEBNLVvra13AluzYCMRbYcDQuHAgJE5hwDQRNjy9JmHA8YCyKVc6YcCVDtb/OSlhwHQkl/+QWmHAEY3uIHZKYcBKQbeXNEthwPWEJR5QGWHAmN2Th4UyYcDek4eFWmJhwK0vEtpyRmHA2VpfJLRDYcCQvd798UphwL+aAwRzK2HAONvcmJ5MYMDtR4rIsFlgwGu3XWiuPWDAC+9yEd/1X8A1Bwjm6LNfwFxzR//Lx1/AE2ba/pWZXcD/z2G+vPRgwDDw3Hu4F2DAEFg5tMj4YMD99nXgnPFgwNy6m6c6MGDAxLEubqPtYMDiHksfuuxgwKNYbmk1/WDAkUQvo1gHYcCqZWt9kfRgwJBJRs7C3FrARrbz/dSVW8CERxtHrElawBXGFoIcNFvAppvEILA9W8BH5pE/GKldwGgG8YEdg13AcjPcgM/qXMC5cCAkC25dwHZUNUHUr13Az4O7s3Y/XcDOpiOAm0VdwH5v05/9T13AR6zFpwBUXcDg88MI4XtdwGrf3F89Il3AFMstrYZiXcBi+IiYEqldwC1gArfuPF3AonprYKvVWsBtA3egTptawKSJd4AnA1vARSqMLQSnWsA7cM6I0iJbwMQI4dHGZ1vAV1uxv+xdW8A9fQT+8HNbwFIrTN9r6lrAmBdgH521WsDPa+wS1d9awAouVtRgSlzAIy2VtyNYXMCj6exkcE5cwB7cnbXbJlzAFK5H4XqiXMCrlQm/1A1cwLsnDwu1SFzA",
          "dtype": "f8"
         },
         "yaxis": "y"
        },
        {
         "customdata": [
          [
           "iren_GUA1812_13iren",
           "irenicus",
           "Solomon Islands",
           "SB-GU",
           "Guadalcanal",
           0.05259,
           16,
           -9.428,
           160.13
          ],
          [
           "iren_GUA1812_16iren",
           "irenicus",
           "Solomon Islands",
           "SB-GU",
           "Guadalcanal",
           0.05249,
           23,
           -9.428,
           160.13
          ],
          [
           "iren_GUA1826_11iren",
           "irenicus",
           "Solomon Islands",
           "SB-GU",
           "Guadalcanal",
           0.05278,
           27,
           -9.515,
           160.36
          ],
          [
           "iren_GUA182_3iren",
           "irenicus",
           "Solomon Islands",
           "SB-GU",
           "Guadalcanal",
           0.05267,
           23,
           -9.48,
           160.358
          ],
          [
           "iren_GUA182_6iren",
           "irenicus",
           "Solomon Islands",
           "SB-GU",
           "Guadalcanal",
           0.05274,
           20,
           -9.48,
           160.358
          ],
          [
           "iren_GUA183_2iren",
           "irenicus",
           "Solomon Islands",
           "SB-GU",
           "Guadalcanal",
           0.05266,
           19,
           -9.353,
           159.594
          ],
          [
           "iren_GUA184_23iren",
           "irenicus",
           "Papua New Guinea",
           "PG-CPM",
           "Sentral",
           0.0528,
           17,
           -9.354,
           159.597
          ],
          [
           "iren_GUA184_36iren",
           "irenicus",
           "Papua New Guinea",
           "PG-CPM",
           "Sentral",
           0.05264,
           27,
           -9.354,
           159.597
          ],
          [
           "iren_GUA187_4iren",
           "irenicus",
           "Solomon Islands",
           "SB-GU",
           "Guadalcanal",
           0.05248,
           19,
           -9.289,
           159.622
          ],
          [
           "iren_GUA188_30iren",
           "irenicus",
           "Solomon Islands",
           "SB-GU",
           "Guadalcanal",
           0.05273,
           20,
           -9.496,
           160.071
          ],
          [
           "iren_GUA24_3",
           "irenicus",
           "Solomon Islands",
           "SB-GU",
           "Guadalcanal",
           0.05276,
           50,
           -9.513,
           160.374
          ]
         ],
         "hovertemplate": "species_pca=irenicus<br>PC1=%{x}<br>PC2=%{y}<br>derived_sample_id=%{customdata[0]}<br>species=%{customdata[1]}<br>country=%{customdata[2]}<br>admin1_iso=%{customdata[3]}<br>admin1_name=%{customdata[4]}<br>divergence=%{customdata[5]}<br>median_cov=%{customdata[6]}<br>latitude=%{customdata[7]}<br>longitude=%{customdata[8]}<extra></extra>",
         "legendgroup": "irenicus",
         "marker": {
          "color": "#9467BD",
          "symbol": "circle"
         },
         "mode": "markers",
         "name": "irenicus",
         "orientation": "v",
         "showlegend": true,
         "type": "scatter",
         "x": {
          "bdata": "v5zZrtDHLcD36uOh71YswLX/AdaqfS3AA85SspwcLMCERxtHrG0swLO0U3O5CS3AuvdwyXFnK8D04VmCjPgrwL2mBwWlaC3ApMFtbeFJLMB002achmgswA==",
          "dtype": "f8"
         },
         "xaxis": "x",
         "y": {
          "bdata": "CoSdYtUuSEDt1cdD341IQF9GsdzSSEhANSkF3V4YSEDGounsZARIQFJEhlW8XUhAy7kUV5W9R0ClSSno9rJIQEph3uNMV0hAQ61p3nFESEDIQJ5dvqdIQA==",
          "dtype": "f8"
         },
         "yaxis": "y"
        },
        {
         "customdata": [
          [
           "ore_IJ98_10_1",
           "oreios",
           "Papua New Guinea",
           "PG-SHM",
           "Sauten Hailans",
           0.07727,
           19,
           -6.012,
           143.701
          ],
          [
           "ore_IJ98_12_1",
           "oreios",
           "Papua New Guinea",
           "PG-SHM",
           "Sauten Hailans",
           0.07701,
           21,
           -6.012,
           143.701
          ],
          [
           "ore_IJ98_12_3",
           "oreios",
           "Papua New Guinea",
           "PG-SHM",
           "Sauten Hailans",
           0.07651,
           12,
           -6.012,
           143.701
          ],
          [
           "ore_IJ98_12_4",
           "oreios",
           "Papua New Guinea",
           "PG-SHM",
           "Sauten Hailans",
           0.07691,
           19,
           -6.012,
           143.701
          ],
          [
           "ore_IJ98_12_5",
           "oreios",
           "Papua New Guinea",
           "PG-SHM",
           "Sauten Hailans",
           0.07654,
           13,
           -6.012,
           143.701
          ],
          [
           "ore_IJ98_12_6",
           "oreios",
           "Papua New Guinea",
           "PG-SHM",
           "Sauten Hailans",
           0.07664,
           13,
           -6.012,
           143.701
          ],
          [
           "ore_IJ98_2_1",
           "oreios",
           "Papua New Guinea",
           "PG-SHM",
           "Sauten Hailans",
           0.07693,
           21,
           -6.012,
           143.701
          ],
          [
           "ore_IJ98_2_2",
           "oreios",
           "Papua New Guinea",
           "PG-SHM",
           "Sauten Hailans",
           0.07712,
           18,
           -6.012,
           143.701
          ],
          [
           "ore_IJ98_2_3",
           "oreios",
           "Papua New Guinea",
           "PG-SHM",
           "Sauten Hailans",
           0.07715,
           19,
           -6.012,
           143.701
          ],
          [
           "ore_IJ98_2_4",
           "oreios",
           "Papua New Guinea",
           "PG-SHM",
           "Sauten Hailans",
           0.077,
           29,
           -6.012,
           143.701
          ],
          [
           "ore_IJ_2_6",
           "oreios",
           "Papua New Guinea",
           "PG-SHM",
           "Sauten Hailans",
           0.07711,
           24,
           -6.012,
           143.701
          ]
         ],
         "hovertemplate": "species_pca=oreios<br>PC1=%{x}<br>PC2=%{y}<br>derived_sample_id=%{customdata[0]}<br>species=%{customdata[1]}<br>country=%{customdata[2]}<br>admin1_iso=%{customdata[3]}<br>admin1_name=%{customdata[4]}<br>divergence=%{customdata[5]}<br>median_cov=%{customdata[6]}<br>latitude=%{customdata[7]}<br>longitude=%{customdata[8]}<extra></extra>",
         "legendgroup": "oreios",
         "marker": {
          "color": "#8C564B",
          "symbol": "circle"
         },
         "mode": "markers",
         "name": "oreios",
         "orientation": "v",
         "showlegend": true,
         "type": "scatter",
         "x": {
          "bdata": "MNgN2xYlI8D3zJIANdEjwJ4lyAioiCTAvqCFBIw+I8BW8xyR74okwF7x1CMN3iPAKVlOQunrIsBywK4mTwEjwIfAkUCDQSPAgsmNImvFI8D2Rq0wfa8kwA==",
          "dtype": "f8"
         },
         "xaxis": "x",
         "y": {
          "bdata": "VFInoImUYMA/48KBkH9gwNgqweJwTWDA8MSsF0OLYMDFG5lH/lFgwFoSoKaWfGDAgc8PI4R6YMBseHqlLJhgwANbJVgcy2DAyk+qfTp+YMBzLsVVZZxgwA==",
          "dtype": "f8"
         },
         "yaxis": "y"
        },
        {
         "customdata": [
          [
           "pun",
           "punctulatus",
           "Papua New Guinea",
           null,
           null,
           0.11966,
           62,
           null,
           null
          ],
          [
           "pun_BO-25-1-OB99",
           "punctulatus",
           "Solomon Islands",
           "SB-GU",
           "Guadalcanal",
           0.11952,
           30,
           -9.517,
           160.1
          ],
          [
           "pun_SI98-12-2",
           "punctulatus",
           "Solomon Islands",
           "SB-GU",
           "Guadalcanal",
           0.11952,
           33,
           -9.491,
           160.285
          ],
          [
           "pun_SI98-21-1",
           "punctulatus",
           "Solomon Islands",
           "SB-GU",
           "Guadalcanal",
           0.11907,
           24,
           -9.491,
           160.285
          ],
          [
           "pun_SI98-8-2",
           "punctulatus",
           "Solomon Islands",
           "SB-GU",
           "Guadalcanal",
           0.11935,
           28,
           -9.491,
           160.285
          ],
          [
           "pun_SIWP98-13-1",
           "punctulatus",
           "Papua New Guinea",
           "PG-NSB",
           "Bogenvil",
           0.11943,
           33,
           -5.245,
           154.626
          ]
         ],
         "hovertemplate": "species_pca=punctulatus<br>PC1=%{x}<br>PC2=%{y}<br>derived_sample_id=%{customdata[0]}<br>species=%{customdata[1]}<br>country=%{customdata[2]}<br>admin1_iso=%{customdata[3]}<br>admin1_name=%{customdata[4]}<br>divergence=%{customdata[5]}<br>median_cov=%{customdata[6]}<br>latitude=%{customdata[7]}<br>longitude=%{customdata[8]}<extra></extra>",
         "legendgroup": "punctulatus",
         "marker": {
          "color": "#E377C2",
          "symbol": "circle"
         },
         "mode": "markers",
         "name": "punctulatus",
         "orientation": "v",
         "showlegend": true,
         "type": "scatter",
         "x": {
          "bdata": "T0ATYcNck0A0gLdAAuGTQPjCZKogipRAyAc9mxV4lEA5tMh2/niUQDJVMCopcpRA",
          "dtype": "f8"
         },
         "xaxis": "x",
         "y": {
          "bdata": "gbIpV3jvOEBP5bSn5AA6QElMUMO3qD1AVvXyO00OPkBI/mDgudc9QLdDw2LUMT5A",
          "dtype": "f8"
         },
         "yaxis": "y"
        },
        {
         "customdata": [
          [
           "tor_NT_Ala_3a",
           "torresiensis",
           "Australia",
           "AU-NT",
           "Northern Territory",
           0.0814,
           33,
           -13.867,
           136.429
          ],
          [
           "tor_NT_Ala_4a",
           "torresiensis",
           "Australia",
           "AU-NT",
           "Northern Territory",
           0.08136,
           35,
           -13.867,
           136.429
          ],
          [
           "tor_NT_Aly_1",
           "torresiensis",
           "Australia",
           "AU-NT",
           "Northern Territory",
           0.08125,
           30,
           -13.867,
           136.429
          ],
          [
           "tor_NT_Aly_1a",
           "torresiensis",
           "Australia",
           "AU-NT",
           "Northern Territory",
           0.0813,
           29,
           -13.867,
           136.429
          ],
          [
           "tor_NT_Aly_2",
           "torresiensis",
           "Australia",
           "AU-NT",
           "Northern Territory",
           0.08133,
           27,
           -13.867,
           136.429
          ],
          [
           "tor_NT_Aly_2a",
           "torresiensis",
           "Australia",
           "AU-NT",
           "Northern Territory",
           0.08129,
           26,
           -13.867,
           136.429
          ],
          [
           "tor_NT_Aly_3",
           "torresiensis",
           "Australia",
           "AU-NT",
           "Northern Territory",
           0.08117,
           28,
           -13.867,
           136.429
          ],
          [
           "tor_NT_Aly_4",
           "torresiensis",
           "Australia",
           "AU-NT",
           "Northern Territory",
           0.08113,
           33,
           -13.867,
           136.429
          ],
          [
           "tor_NT_Aly_5",
           "torresiensis",
           "Australia",
           "AU-NT",
           "Northern Territory",
           0.08129,
           25,
           -13.867,
           136.429
          ],
          [
           "tor_NT_Aly_7",
           "torresiensis",
           "Australia",
           "AU-NT",
           "Northern Territory",
           0.08129,
           30,
           -13.867,
           136.429
          ],
          [
           "tor_wQLD_Por_12",
           "torresiensis",
           "Australia",
           "AU-QLD",
           "Queensland",
           0.08128,
           27,
           -14.916,
           141.638
          ],
          [
           "tor_wQLD_Por_13",
           "torresiensis",
           "Australia",
           "AU-QLD",
           "Queensland",
           0.08114,
           22,
           -14.916,
           141.638
          ],
          [
           "tor_wQLD_Por_19",
           "torresiensis",
           "Australia",
           "AU-QLD",
           "Queensland",
           0.08114,
           27,
           -14.916,
           141.638
          ],
          [
           "tor_wQLD_Por_27",
           "torresiensis",
           "Australia",
           "AU-QLD",
           "Queensland",
           0.08129,
           27,
           -14.916,
           141.638
          ],
          [
           "tor_wQLD_Por_40",
           "torresiensis",
           "Australia",
           "AU-QLD",
           "Queensland",
           0.08127,
           26,
           -14.916,
           141.638
          ],
          [
           "tor_wQLD_Por_50",
           "torresiensis",
           "Australia",
           "AU-QLD",
           "Queensland",
           0.08122,
           34,
           -14.916,
           141.638
          ]
         ],
         "hovertemplate": "species_pca=torresiensis<br>PC1=%{x}<br>PC2=%{y}<br>derived_sample_id=%{customdata[0]}<br>species=%{customdata[1]}<br>country=%{customdata[2]}<br>admin1_iso=%{customdata[3]}<br>admin1_name=%{customdata[4]}<br>divergence=%{customdata[5]}<br>median_cov=%{customdata[6]}<br>latitude=%{customdata[7]}<br>longitude=%{customdata[8]}<extra></extra>",
         "legendgroup": "torresiensis",
         "marker": {
          "color": "#7F7F7F",
          "symbol": "circle"
         },
         "mode": "markers",
         "name": "torresiensis",
         "orientation": "v",
         "showlegend": true,
         "type": "scatter",
         "x": {
          "bdata": "aHAAogXtAcDQd1z50fX4v0mD29rC0/+//NnZoav++7+QPMbLiWz8v6kJ7Hse7fu/4GmNnOAW+r/VvJmHAiz/v3Gkfb0MMADAfyNw2kImAMAELKhebQsCwJQtN70wfva/7X4V4LttAsCG3cGZqboCwIfboWExygHAzy7f+rA+/78=",
          "dtype": "f8"
         },
         "xaxis": "x",
         "y": {
          "bdata": "eXWOAdm/XcCuR+F6FPJdwP/PYb68IV7AETY8vVLcXcAC8bp+wfVdwGtlwi/1AV7Afm/Tn/0PXsCunpPeN+VdwJ57D5ccfV3AjC0EOSitXcApBd1e0rpdwCPb+X5q/F3AYcQ+ARTNXcBJY7SOqqZdwKyt2F92qF3A0LhwICSGXcA=",
          "dtype": "f8"
         },
         "yaxis": "y"
        }
       ],
       "layout": {
        "height": 500,
        "legend": {
         "title": {
          "text": "species_pca"
         },
         "tracegroupgap": 0
        },
        "margin": {
         "t": 60
        },
        "template": {
         "data": {
          "bar": [
           {
            "error_x": {
             "color": "rgb(36,36,36)"
            },
            "error_y": {
             "color": "rgb(36,36,36)"
            },
            "marker": {
             "line": {
              "color": "white",
              "width": 0.5
             },
             "pattern": {
              "fillmode": "overlay",
              "size": 10,
              "solidity": 0.2
             }
            },
            "type": "bar"
           }
          ],
          "barpolar": [
           {
            "marker": {
             "line": {
              "color": "white",
              "width": 0.5
             },
             "pattern": {
              "fillmode": "overlay",
              "size": 10,
              "solidity": 0.2
             }
            },
            "type": "barpolar"
           }
          ],
          "carpet": [
           {
            "aaxis": {
             "endlinecolor": "rgb(36,36,36)",
             "gridcolor": "white",
             "linecolor": "white",
             "minorgridcolor": "white",
             "startlinecolor": "rgb(36,36,36)"
            },
            "baxis": {
             "endlinecolor": "rgb(36,36,36)",
             "gridcolor": "white",
             "linecolor": "white",
             "minorgridcolor": "white",
             "startlinecolor": "rgb(36,36,36)"
            },
            "type": "carpet"
           }
          ],
          "choropleth": [
           {
            "colorbar": {
             "outlinewidth": 1,
             "tickcolor": "rgb(36,36,36)",
             "ticks": "outside"
            },
            "type": "choropleth"
           }
          ],
          "contour": [
           {
            "colorbar": {
             "outlinewidth": 1,
             "tickcolor": "rgb(36,36,36)",
             "ticks": "outside"
            },
            "colorscale": [
             [
              0,
              "#440154"
             ],
             [
              0.1111111111111111,
              "#482878"
             ],
             [
              0.2222222222222222,
              "#3e4989"
             ],
             [
              0.3333333333333333,
              "#31688e"
             ],
             [
              0.4444444444444444,
              "#26828e"
             ],
             [
              0.5555555555555556,
              "#1f9e89"
             ],
             [
              0.6666666666666666,
              "#35b779"
             ],
             [
              0.7777777777777778,
              "#6ece58"
             ],
             [
              0.8888888888888888,
              "#b5de2b"
             ],
             [
              1,
              "#fde725"
             ]
            ],
            "type": "contour"
           }
          ],
          "contourcarpet": [
           {
            "colorbar": {
             "outlinewidth": 1,
             "tickcolor": "rgb(36,36,36)",
             "ticks": "outside"
            },
            "type": "contourcarpet"
           }
          ],
          "heatmap": [
           {
            "colorbar": {
             "outlinewidth": 1,
             "tickcolor": "rgb(36,36,36)",
             "ticks": "outside"
            },
            "colorscale": [
             [
              0,
              "#440154"
             ],
             [
              0.1111111111111111,
              "#482878"
             ],
             [
              0.2222222222222222,
              "#3e4989"
             ],
             [
              0.3333333333333333,
              "#31688e"
             ],
             [
              0.4444444444444444,
              "#26828e"
             ],
             [
              0.5555555555555556,
              "#1f9e89"
             ],
             [
              0.6666666666666666,
              "#35b779"
             ],
             [
              0.7777777777777778,
              "#6ece58"
             ],
             [
              0.8888888888888888,
              "#b5de2b"
             ],
             [
              1,
              "#fde725"
             ]
            ],
            "type": "heatmap"
           }
          ],
          "histogram": [
           {
            "marker": {
             "line": {
              "color": "white",
              "width": 0.6
             }
            },
            "type": "histogram"
           }
          ],
          "histogram2d": [
           {
            "colorbar": {
             "outlinewidth": 1,
             "tickcolor": "rgb(36,36,36)",
             "ticks": "outside"
            },
            "colorscale": [
             [
              0,
              "#440154"
             ],
             [
              0.1111111111111111,
              "#482878"
             ],
             [
              0.2222222222222222,
              "#3e4989"
             ],
             [
              0.3333333333333333,
              "#31688e"
             ],
             [
              0.4444444444444444,
              "#26828e"
             ],
             [
              0.5555555555555556,
              "#1f9e89"
             ],
             [
              0.6666666666666666,
              "#35b779"
             ],
             [
              0.7777777777777778,
              "#6ece58"
             ],
             [
              0.8888888888888888,
              "#b5de2b"
             ],
             [
              1,
              "#fde725"
             ]
            ],
            "type": "histogram2d"
           }
          ],
          "histogram2dcontour": [
           {
            "colorbar": {
             "outlinewidth": 1,
             "tickcolor": "rgb(36,36,36)",
             "ticks": "outside"
            },
            "colorscale": [
             [
              0,
              "#440154"
             ],
             [
              0.1111111111111111,
              "#482878"
             ],
             [
              0.2222222222222222,
              "#3e4989"
             ],
             [
              0.3333333333333333,
              "#31688e"
             ],
             [
              0.4444444444444444,
              "#26828e"
             ],
             [
              0.5555555555555556,
              "#1f9e89"
             ],
             [
              0.6666666666666666,
              "#35b779"
             ],
             [
              0.7777777777777778,
              "#6ece58"
             ],
             [
              0.8888888888888888,
              "#b5de2b"
             ],
             [
              1,
              "#fde725"
             ]
            ],
            "type": "histogram2dcontour"
           }
          ],
          "mesh3d": [
           {
            "colorbar": {
             "outlinewidth": 1,
             "tickcolor": "rgb(36,36,36)",
             "ticks": "outside"
            },
            "type": "mesh3d"
           }
          ],
          "parcoords": [
           {
            "line": {
             "colorbar": {
              "outlinewidth": 1,
              "tickcolor": "rgb(36,36,36)",
              "ticks": "outside"
             }
            },
            "type": "parcoords"
           }
          ],
          "pie": [
           {
            "automargin": true,
            "type": "pie"
           }
          ],
          "scatter": [
           {
            "fillpattern": {
             "fillmode": "overlay",
             "size": 10,
             "solidity": 0.2
            },
            "type": "scatter"
           }
          ],
          "scatter3d": [
           {
            "line": {
             "colorbar": {
              "outlinewidth": 1,
              "tickcolor": "rgb(36,36,36)",
              "ticks": "outside"
             }
            },
            "marker": {
             "colorbar": {
              "outlinewidth": 1,
              "tickcolor": "rgb(36,36,36)",
              "ticks": "outside"
             }
            },
            "type": "scatter3d"
           }
          ],
          "scattercarpet": [
           {
            "marker": {
             "colorbar": {
              "outlinewidth": 1,
              "tickcolor": "rgb(36,36,36)",
              "ticks": "outside"
             }
            },
            "type": "scattercarpet"
           }
          ],
          "scattergeo": [
           {
            "marker": {
             "colorbar": {
              "outlinewidth": 1,
              "tickcolor": "rgb(36,36,36)",
              "ticks": "outside"
             }
            },
            "type": "scattergeo"
           }
          ],
          "scattergl": [
           {
            "marker": {
             "colorbar": {
              "outlinewidth": 1,
              "tickcolor": "rgb(36,36,36)",
              "ticks": "outside"
             }
            },
            "type": "scattergl"
           }
          ],
          "scattermap": [
           {
            "marker": {
             "colorbar": {
              "outlinewidth": 1,
              "tickcolor": "rgb(36,36,36)",
              "ticks": "outside"
             }
            },
            "type": "scattermap"
           }
          ],
          "scattermapbox": [
           {
            "marker": {
             "colorbar": {
              "outlinewidth": 1,
              "tickcolor": "rgb(36,36,36)",
              "ticks": "outside"
             }
            },
            "type": "scattermapbox"
           }
          ],
          "scatterpolar": [
           {
            "marker": {
             "colorbar": {
              "outlinewidth": 1,
              "tickcolor": "rgb(36,36,36)",
              "ticks": "outside"
             }
            },
            "type": "scatterpolar"
           }
          ],
          "scatterpolargl": [
           {
            "marker": {
             "colorbar": {
              "outlinewidth": 1,
              "tickcolor": "rgb(36,36,36)",
              "ticks": "outside"
             }
            },
            "type": "scatterpolargl"
           }
          ],
          "scatterternary": [
           {
            "marker": {
             "colorbar": {
              "outlinewidth": 1,
              "tickcolor": "rgb(36,36,36)",
              "ticks": "outside"
             }
            },
            "type": "scatterternary"
           }
          ],
          "surface": [
           {
            "colorbar": {
             "outlinewidth": 1,
             "tickcolor": "rgb(36,36,36)",
             "ticks": "outside"
            },
            "colorscale": [
             [
              0,
              "#440154"
             ],
             [
              0.1111111111111111,
              "#482878"
             ],
             [
              0.2222222222222222,
              "#3e4989"
             ],
             [
              0.3333333333333333,
              "#31688e"
             ],
             [
              0.4444444444444444,
              "#26828e"
             ],
             [
              0.5555555555555556,
              "#1f9e89"
             ],
             [
              0.6666666666666666,
              "#35b779"
             ],
             [
              0.7777777777777778,
              "#6ece58"
             ],
             [
              0.8888888888888888,
              "#b5de2b"
             ],
             [
              1,
              "#fde725"
             ]
            ],
            "type": "surface"
           }
          ],
          "table": [
           {
            "cells": {
             "fill": {
              "color": "rgb(237,237,237)"
             },
             "line": {
              "color": "white"
             }
            },
            "header": {
             "fill": {
              "color": "rgb(217,217,217)"
             },
             "line": {
              "color": "white"
             }
            },
            "type": "table"
           }
          ]
         },
         "layout": {
          "annotationdefaults": {
           "arrowhead": 0,
           "arrowwidth": 1
          },
          "autotypenumbers": "strict",
          "coloraxis": {
           "colorbar": {
            "outlinewidth": 1,
            "tickcolor": "rgb(36,36,36)",
            "ticks": "outside"
           }
          },
          "colorscale": {
           "diverging": [
            [
             0,
             "rgb(103,0,31)"
            ],
            [
             0.1,
             "rgb(178,24,43)"
            ],
            [
             0.2,
             "rgb(214,96,77)"
            ],
            [
             0.3,
             "rgb(244,165,130)"
            ],
            [
             0.4,
             "rgb(253,219,199)"
            ],
            [
             0.5,
             "rgb(247,247,247)"
            ],
            [
             0.6,
             "rgb(209,229,240)"
            ],
            [
             0.7,
             "rgb(146,197,222)"
            ],
            [
             0.8,
             "rgb(67,147,195)"
            ],
            [
             0.9,
             "rgb(33,102,172)"
            ],
            [
             1,
             "rgb(5,48,97)"
            ]
           ],
           "sequential": [
            [
             0,
             "#440154"
            ],
            [
             0.1111111111111111,
             "#482878"
            ],
            [
             0.2222222222222222,
             "#3e4989"
            ],
            [
             0.3333333333333333,
             "#31688e"
            ],
            [
             0.4444444444444444,
             "#26828e"
            ],
            [
             0.5555555555555556,
             "#1f9e89"
            ],
            [
             0.6666666666666666,
             "#35b779"
            ],
            [
             0.7777777777777778,
             "#6ece58"
            ],
            [
             0.8888888888888888,
             "#b5de2b"
            ],
            [
             1,
             "#fde725"
            ]
           ],
           "sequentialminus": [
            [
             0,
             "#440154"
            ],
            [
             0.1111111111111111,
             "#482878"
            ],
            [
             0.2222222222222222,
             "#3e4989"
            ],
            [
             0.3333333333333333,
             "#31688e"
            ],
            [
             0.4444444444444444,
             "#26828e"
            ],
            [
             0.5555555555555556,
             "#1f9e89"
            ],
            [
             0.6666666666666666,
             "#35b779"
            ],
            [
             0.7777777777777778,
             "#6ece58"
            ],
            [
             0.8888888888888888,
             "#b5de2b"
            ],
            [
             1,
             "#fde725"
            ]
           ]
          },
          "colorway": [
           "#1F77B4",
           "#FF7F0E",
           "#2CA02C",
           "#D62728",
           "#9467BD",
           "#8C564B",
           "#E377C2",
           "#7F7F7F",
           "#BCBD22",
           "#17BECF"
          ],
          "font": {
           "color": "rgb(36,36,36)"
          },
          "geo": {
           "bgcolor": "white",
           "lakecolor": "white",
           "landcolor": "white",
           "showlakes": true,
           "showland": true,
           "subunitcolor": "white"
          },
          "hoverlabel": {
           "align": "left"
          },
          "hovermode": "closest",
          "mapbox": {
           "style": "light"
          },
          "paper_bgcolor": "white",
          "plot_bgcolor": "white",
          "polar": {
           "angularaxis": {
            "gridcolor": "rgb(232,232,232)",
            "linecolor": "rgb(36,36,36)",
            "showgrid": false,
            "showline": true,
            "ticks": "outside"
           },
           "bgcolor": "white",
           "radialaxis": {
            "gridcolor": "rgb(232,232,232)",
            "linecolor": "rgb(36,36,36)",
            "showgrid": false,
            "showline": true,
            "ticks": "outside"
           }
          },
          "scene": {
           "xaxis": {
            "backgroundcolor": "white",
            "gridcolor": "rgb(232,232,232)",
            "gridwidth": 2,
            "linecolor": "rgb(36,36,36)",
            "showbackground": true,
            "showgrid": false,
            "showline": true,
            "ticks": "outside",
            "zeroline": false,
            "zerolinecolor": "rgb(36,36,36)"
           },
           "yaxis": {
            "backgroundcolor": "white",
            "gridcolor": "rgb(232,232,232)",
            "gridwidth": 2,
            "linecolor": "rgb(36,36,36)",
            "showbackground": true,
            "showgrid": false,
            "showline": true,
            "ticks": "outside",
            "zeroline": false,
            "zerolinecolor": "rgb(36,36,36)"
           },
           "zaxis": {
            "backgroundcolor": "white",
            "gridcolor": "rgb(232,232,232)",
            "gridwidth": 2,
            "linecolor": "rgb(36,36,36)",
            "showbackground": true,
            "showgrid": false,
            "showline": true,
            "ticks": "outside",
            "zeroline": false,
            "zerolinecolor": "rgb(36,36,36)"
           }
          },
          "shapedefaults": {
           "fillcolor": "black",
           "line": {
            "width": 0
           },
           "opacity": 0.3
          },
          "ternary": {
           "aaxis": {
            "gridcolor": "rgb(232,232,232)",
            "linecolor": "rgb(36,36,36)",
            "showgrid": false,
            "showline": true,
            "ticks": "outside"
           },
           "baxis": {
            "gridcolor": "rgb(232,232,232)",
            "linecolor": "rgb(36,36,36)",
            "showgrid": false,
            "showline": true,
            "ticks": "outside"
           },
           "bgcolor": "white",
           "caxis": {
            "gridcolor": "rgb(232,232,232)",
            "linecolor": "rgb(36,36,36)",
            "showgrid": false,
            "showline": true,
            "ticks": "outside"
           }
          },
          "title": {
           "x": 0.05
          },
          "xaxis": {
           "automargin": true,
           "gridcolor": "rgb(232,232,232)",
           "linecolor": "rgb(36,36,36)",
           "showgrid": false,
           "showline": true,
           "ticks": "outside",
           "title": {
            "standoff": 15
           },
           "zeroline": false,
           "zerolinecolor": "rgb(36,36,36)"
          },
          "yaxis": {
           "automargin": true,
           "gridcolor": "rgb(232,232,232)",
           "linecolor": "rgb(36,36,36)",
           "showgrid": false,
           "showline": true,
           "ticks": "outside",
           "title": {
            "standoff": 15
           },
           "zeroline": false,
           "zerolinecolor": "rgb(36,36,36)"
          }
         }
        },
        "width": 600,
        "xaxis": {
         "anchor": "y",
         "domain": [
          0,
          1
         ],
         "title": {
          "text": "PC1"
         }
        },
        "yaxis": {
         "anchor": "x",
         "domain": [
          0,
          1
         ],
         "title": {
          "text": "PC2"
         }
        }
       }
      },
      "image/png": "[encoded data removed]"
     },
     "metadata": {},
     "output_type": "display_data"
    }
   ],
   "source": [
    "model_all, evr_all = run_pca(contig = \"KI915040\", n_snps=50_000)\n",
    "plot_pca(model_all, evr_all)"
   ]
  },
  {
   "cell_type": "code",
   "execution_count": null,
   "id": "92b71a53-e3c2-4703-918e-aba0f9e7a89c",
   "metadata": {},
   "outputs": [],
   "source": [
    "outputlist = {}\n",
    "for c in filtered_contigs.keys():\n",
    "    print(c)\n",
    "    data, evr = run_pca(contig = c,sample_query = 'species_pca == \"hinesorum\" & partner_sample_id != \"hin_WPSL_sol86\"', n_snps=50_000)\n",
    "    outputlist[f'{c}'] = (data, evr)\n",
    "    "
   ]
  },
  {
   "cell_type": "code",
   "execution_count": 24,
   "id": "98aa272e-7a33-4319-9815-a2dbabfc4f1f",
   "metadata": {},
   "outputs": [
    {
     "data": {
      "application/vnd.plotly.v1+json": {
       "config": {
        "plotlyServerURL": "https://plot.ly"
       },
       "data": [
        {
         "customdata": [
          [
           "far_WPSI_sol278",
           "farauti_ss",
           "Solomon Islands",
           "SB-WE",
           "Western",
           0.07556,
           27,
           -8.267,
           157.551
          ],
          [
           "far_WPSI_sol291",
           "farauti_ss",
           "Solomon Islands",
           "SB-WE",
           "Western",
           0.0755,
           23,
           -8.317,
           157.248
          ],
          [
           "far_WPSI_sol294",
           "farauti_ss",
           "Solomon Islands",
           "SB-WE",
           "Western",
           0.07555,
           27,
           -8.317,
           157.248
          ],
          [
           "far_WPSI_sol315",
           "farauti_ss",
           "Solomon Islands",
           "SB-WE",
           "Western",
           0.07559,
           21,
           -8.268,
           157.236
          ],
          [
           "far_WPSI_sol335",
           "farauti_ss",
           "Solomon Islands",
           "SB-WE",
           "Western",
           0.07562,
           27,
           -8.28,
           157.246
          ],
          [
           "far_WPSI_sol99",
           "farauti_ss",
           "Solomon Islands",
           "SB-WE",
           "Western",
           0.07553,
           26,
           -8.335,
           157.286
          ],
          [
           "far_WPSI_sol_24",
           "farauti_ss",
           "Solomon Islands",
           "SB-WE",
           "Western",
           0.07567,
           30,
           -8.251,
           157.239
          ],
          [
           "far_WPSI_sol_25",
           "farauti_ss",
           "Solomon Islands",
           "SB-WE",
           "Western",
           0.07585,
           30,
           -8.251,
           157.239
          ],
          [
           "far_WPSI_sol_31",
           "farauti_ss",
           "Solomon Islands",
           "SB-WE",
           "Western",
           0.07557,
           29,
           -8.251,
           157.239
          ],
          [
           "far_WPSI_sol_33",
           "farauti_ss",
           "Solomon Islands",
           "SB-WE",
           "Western",
           0.07566,
           33,
           -8.251,
           157.239
          ],
          [
           "hin_WPSI_HB13",
           "hinesorum",
           "Solomon Islands",
           "SB-WE",
           "Western",
           0.0755,
           23,
           -8.261,
           157.165
          ],
          [
           "hin_WPSI_HB14",
           "hinesorum",
           "Solomon Islands",
           "SB-WE",
           "Western",
           0.07516,
           13,
           -8.261,
           157.165
          ],
          [
           "hin_WPSI_HB2",
           "hinesorum",
           "Solomon Islands",
           "SB-WE",
           "Western",
           0.07528,
           13,
           -8.261,
           157.165
          ],
          [
           "hin_WPSI_HB3",
           "hinesorum",
           "Solomon Islands",
           "SB-WE",
           "Western",
           0.07509,
           11,
           -8.261,
           157.165
          ],
          [
           "hin_WPSI_HB5",
           "hinesorum",
           "Solomon Islands",
           "SB-WE",
           "Western",
           0.07544,
           17,
           -8.261,
           157.165
          ],
          [
           "hin_WPSI_HB6",
           "hinesorum",
           "Solomon Islands",
           "SB-WE",
           "Western",
           0.07527,
           12,
           -8.261,
           157.165
          ],
          [
           "hin_WPSI_HB7",
           "hinesorum",
           "Solomon Islands",
           "SB-WE",
           "Western",
           0.07556,
           23,
           -8.261,
           157.165
          ],
          [
           "hin_WPSI_HB9",
           "hinesorum",
           "Solomon Islands",
           "SB-WE",
           "Western",
           0.07548,
           23,
           -8.261,
           157.165
          ],
          [
           "hin_WPSI_HB_1",
           "hinesorum",
           "Solomon Islands",
           "SB-WE",
           "Western",
           0.07558,
           20,
           -8.261,
           157.165
          ],
          [
           "hin_WPSI_HLC_30",
           "hinesorum",
           "Solomon Islands",
           "SB-WE",
           "Western",
           0.07543,
           25,
           -8.261,
           157.165
          ],
          [
           "hin_WPSL_sol241",
           "hinesorum",
           "Solomon Islands",
           "SB-WE",
           "Western",
           0.07557,
           31,
           -8.407,
           157.338
          ],
          [
           "hin_WPSL_sol244",
           "hinesorum",
           "Solomon Islands",
           "SB-WE",
           "Western",
           0.07561,
           35,
           -8.407,
           157.338
          ],
          [
           "hin_WPSL_sol247",
           "hinesorum",
           "Solomon Islands",
           "SB-WE",
           "Western",
           0.07556,
           28,
           -8.407,
           157.338
          ],
          [
           "hin_WPSL_sol251",
           "hinesorum",
           "Solomon Islands",
           "SB-WE",
           "Western",
           0.07554,
           28,
           -8.407,
           157.338
          ],
          [
           "hin_WPSL_sol261",
           "hinesorum",
           "Solomon Islands",
           "SB-WE",
           "Western",
           0.07564,
           29,
           -8.407,
           157.338
          ],
          [
           "hin_WPSL_sol308",
           "hinesorum",
           "Solomon Islands",
           "SB-WE",
           "Western",
           0.07566,
           28,
           -8.321,
           157.252
          ],
          [
           "hin_WPSL_sol_19",
           "hinesorum",
           "Solomon Islands",
           "SB-WE",
           "Western",
           0.07562,
           28,
           -8.195,
           157.264
          ],
          [
           "hin_WPSL_sol_23",
           "hinesorum",
           "Solomon Islands",
           "SB-WE",
           "Western",
           0.07575,
           31,
           -8.251,
           157.239
          ],
          [
           "hin_WPSL_sol_29",
           "hinesorum",
           "Solomon Islands",
           "SB-WE",
           "Western",
           0.0757,
           31,
           -8.251,
           157.239
          ],
          [
           "hin_WPSL_sol_30",
           "hinesorum",
           "Solomon Islands",
           "SB-WE",
           "Western",
           0.07564,
           31,
           -8.251,
           157.239
          ],
          [
           "hin_WPSL_sol_76",
           "hinesorum",
           "Solomon Islands",
           "SB-WE",
           "Western",
           0.07564,
           26,
           -8.28,
           157.246
          ]
         ],
         "hovertemplate": "admin1_iso=%{customdata[3]}<br>PC1=%{x}<br>PC2=%{y}<br>derived_sample_id=%{customdata[0]}<br>species=%{customdata[1]}<br>country=%{customdata[2]}<br>admin1_name=%{customdata[4]}<br>divergence=%{customdata[5]}<br>median_cov=%{customdata[6]}<br>latitude=%{customdata[7]}<br>longitude=%{customdata[8]}<extra></extra>",
         "legendgroup": "SB-WE",
         "marker": {
          "color": "#1F77B4",
          "symbol": "circle"
         },
         "mode": "markers",
         "name": "SB-WE",
         "orientation": "v",
         "showlegend": true,
         "type": "scatter",
         "x": {
          "bdata": "o8S7wpMCtsIe+7nCFkO3wmQ2tcL79bbC30m4wokKvMJ9srnCLte5wkzKucLrW7nCgse2wnI0tcLjqsHCd9jDwuB4wsID0b/Cu2W5wnrDu8JsMrzCwfG6wpSyu8JmCLzCNBW+woyMusIsp7nC5+u4wgHzusJ5CLbCvUa6wg==",
          "dtype": "f4"
         },
         "xaxis": "x",
         "y": {
          "bdata": "G4C0wgQrocImz6zC/6Kowj3vo8JMz6TCiT62wpzetcJgmbjC9VOswjRmrcL/zbHC0Vyjws9srMKLot3CuC/gwgqj4MJAcNbCrXSpwq0DvMKLScDCGfy/wgsBysLcx7vC5mHHws5+tcIvJbTCXYuswj2ZrsJlVprCSpmxwg==",
          "dtype": "f4"
         },
         "yaxis": "y"
        },
        {
         "customdata": [
          [
           "hin_BOU_A1",
           "hinesorum",
           "Papua New Guinea",
           "PG-NSB",
           "Bogenvil",
           0.07565,
           23,
           -6.662,
           155.449
          ],
          [
           "hin_BOU_A10",
           "hinesorum",
           "Papua New Guinea",
           "PG-NSB",
           "Bogenvil",
           0.07561,
           20,
           -6.662,
           155.449
          ],
          [
           "hin_BOU_A3",
           "hinesorum",
           "Papua New Guinea",
           "PG-NSB",
           "Bogenvil",
           0.07545,
           13,
           -6.662,
           155.449
          ],
          [
           "hin_BOU_A5",
           "hinesorum",
           "Papua New Guinea",
           "PG-NSB",
           "Bogenvil",
           0.07558,
           21,
           -6.662,
           155.449
          ],
          [
           "hin_BOU_A_6",
           "hinesorum",
           "Papua New Guinea",
           "PG-NSB",
           "Bogenvil",
           0.07554,
           19,
           -6.662,
           155.449
          ],
          [
           "hin_BOU_F2_BOU8",
           "hinesorum",
           "Papua New Guinea",
           "PG-NSB",
           "Bogenvil",
           0.07571,
           39,
           -6.669,
           155.472
          ],
          [
           "hin_BOU_T10",
           "hinesorum",
           "Papua New Guinea",
           "PG-NSB",
           "Bogenvil",
           0.07546,
           19,
           -6.669,
           155.472
          ],
          [
           "hin_BOU_T6",
           "hinesorum",
           "Papua New Guinea",
           "PG-NSB",
           "Bogenvil",
           0.07548,
           21,
           -6.669,
           155.472
          ],
          [
           "hin_BOU_T7",
           "hinesorum",
           "Papua New Guinea",
           "PG-NSB",
           "Bogenvil",
           0.0756,
           20,
           -6.669,
           155.472
          ],
          [
           "hin_BOU_T9",
           "hinesorum",
           "Papua New Guinea",
           "PG-NSB",
           "Bogenvil",
           0.07568,
           23,
           -6.669,
           155.472
          ],
          [
           "hin_BOU_T_5",
           "hinesorum",
           "Papua New Guinea",
           "PG-NSB",
           "Bogenvil",
           0.07545,
           20,
           -6.669,
           155.472
          ]
         ],
         "hovertemplate": "admin1_iso=%{customdata[3]}<br>PC1=%{x}<br>PC2=%{y}<br>derived_sample_id=%{customdata[0]}<br>species=%{customdata[1]}<br>country=%{customdata[2]}<br>admin1_name=%{customdata[4]}<br>divergence=%{customdata[5]}<br>median_cov=%{customdata[6]}<br>latitude=%{customdata[7]}<br>longitude=%{customdata[8]}<extra></extra>",
         "legendgroup": "PG-NSB",
         "marker": {
          "color": "#FF7F0E",
          "symbol": "circle"
         },
         "mode": "markers",
         "name": "PG-NSB",
         "orientation": "v",
         "showlegend": true,
         "type": "scatter",
         "x": {
          "bdata": "jwjJwilJycIoX8nCaQrJwpHoyMKEDMjCMg/IwhS5yMK9wcfCMznIwsYlx8I=",
          "dtype": "f4"
         },
         "xaxis": "x",
         "y": {
          "bdata": "2+ICwz03BMOJYgTDeHYCwyMbA8MYhgHDfuYBw12AAsMqJAHDcnIDw0OtAMM=",
          "dtype": "f4"
         },
         "yaxis": "y"
        },
        {
         "customdata": [
          [
           "hin_GUA18-3-19",
           "hinesorum",
           "Solomon Islands",
           "SB-GU",
           "Guadalcanal",
           0.07565,
           30,
           -9.353,
           159.594
          ],
          [
           "hin_GUA18-3-5",
           "hinesorum",
           "Solomon Islands",
           "SB-GU",
           "Guadalcanal",
           0.0745,
           29,
           -9.353,
           159.594
          ],
          [
           "hin_GUA18-9-18",
           "hinesorum",
           "Solomon Islands",
           "SB-GU",
           "Guadalcanal",
           0.07501,
           34,
           -9.486,
           160.075
          ],
          [
           "hin_GUA18-9-8",
           "hinesorum",
           "Solomon Islands",
           "SB-GU",
           "Guadalcanal",
           0.07546,
           21,
           -9.486,
           160.075
          ],
          [
           "hin_GUA1816_18",
           "hinesorum",
           "Solomon Islands",
           "SB-GU",
           "Guadalcanal",
           0.07534,
           20,
           -9.577,
           160.139
          ],
          [
           "hin_GUA1816_24",
           "hinesorum",
           "Solomon Islands",
           "SB-GU",
           "Guadalcanal",
           0.0751,
           20,
           -9.577,
           160.139
          ],
          [
           "hin_GUA1818_1",
           "hinesorum",
           "Solomon Islands",
           "SB-GU",
           "Guadalcanal",
           0.07461,
           10,
           -9.507,
           160.156
          ],
          [
           "hin_GUA181_8",
           "hinesorum",
           "Solomon Islands",
           "SB-GU",
           "Guadalcanal",
           0.07387,
           12,
           -9.473,
           160.36
          ],
          [
           "hin_GUA183_7",
           "hinesorum",
           "Solomon Islands",
           "SB-GU",
           "Guadalcanal",
           0.07497,
           20,
           -9.353,
           159.594
          ],
          [
           "hin_GUA183_8",
           "hinesorum",
           "Solomon Islands",
           "SB-GU",
           "Guadalcanal",
           0.07546,
           21,
           -9.353,
           159.594
          ],
          [
           "hin_GUA188_1",
           "hinesorum",
           "Solomon Islands",
           "SB-GU",
           "Guadalcanal",
           0.07477,
           20,
           -9.496,
           160.071
          ],
          [
           "hin_GUA189_6",
           "hinesorum",
           "Solomon Islands",
           "SB-GU",
           "Guadalcanal",
           0.07484,
           20,
           -9.486,
           160.075
          ],
          [
           "hin_GUA_MC-5",
           "hinesorum",
           "Solomon Islands",
           "SB-GU",
           "Guadalcanal",
           0.07584,
           47,
           null,
           null
          ]
         ],
         "hovertemplate": "admin1_iso=%{customdata[3]}<br>PC1=%{x}<br>PC2=%{y}<br>derived_sample_id=%{customdata[0]}<br>species=%{customdata[1]}<br>country=%{customdata[2]}<br>admin1_name=%{customdata[4]}<br>divergence=%{customdata[5]}<br>median_cov=%{customdata[6]}<br>latitude=%{customdata[7]}<br>longitude=%{customdata[8]}<extra></extra>",
         "legendgroup": "SB-GU",
         "marker": {
          "color": "#2CA02C",
          "symbol": "circle"
         },
         "mode": "markers",
         "name": "SB-GU",
         "orientation": "v",
         "showlegend": true,
         "type": "scatter",
         "x": {
          "bdata": "l8i7wonwu8JmOLvCIV69wm5Bv8INRb3CTm2+wqOwvMI1qrzCA229wiXnvcLD/LvCbM+8wg==",
          "dtype": "f4"
         },
         "xaxis": "x",
         "y": {
          "bdata": "FLTCwh1+zsJN5M/CVDHLwk/X08JJQNLCqOzRwgFlzMJV6cvCzx/KwhIk1ML6+8zCG4zJwg==",
          "dtype": "f4"
         },
         "yaxis": "y"
        },
        {
         "customdata": [
          [
           "hin_PP_97_89_13",
           "hinesorum",
           "Papua New Guinea",
           "PG-CPM",
           "Sentral",
           0.07513,
           26,
           -9.397,
           147.471
          ],
          [
           "hin_PP_97_89_7",
           "hinesorum",
           "Papua New Guinea",
           "PG-CPM",
           "Sentral",
           0.07522,
           24,
           -9.397,
           147.471
          ]
         ],
         "hovertemplate": "admin1_iso=%{customdata[3]}<br>PC1=%{x}<br>PC2=%{y}<br>derived_sample_id=%{customdata[0]}<br>species=%{customdata[1]}<br>country=%{customdata[2]}<br>admin1_name=%{customdata[4]}<br>divergence=%{customdata[5]}<br>median_cov=%{customdata[6]}<br>latitude=%{customdata[7]}<br>longitude=%{customdata[8]}<extra></extra>",
         "legendgroup": "PG-CPM",
         "marker": {
          "color": "#D62728",
          "symbol": "circle"
         },
         "mode": "markers",
         "name": "PG-CPM",
         "orientation": "v",
         "showlegend": true,
         "type": "scatter",
         "x": {
          "bdata": "npiKwvAUisI=",
          "dtype": "f4"
         },
         "xaxis": "x",
         "y": {
          "bdata": "VBNAQgq7OUI=",
          "dtype": "f4"
         },
         "yaxis": "y"
        },
        {
         "customdata": [
          [
           "hin_PP_98_8_6",
           "hinesorum",
           "Papua New Guinea",
           "PG-GPK",
           "Galf",
           0.07525,
           24,
           -7.8,
           146.443
          ],
          [
           "hin_PP_98_8_7",
           "hinesorum",
           "Papua New Guinea",
           "PG-GPK",
           "Galf",
           0.07512,
           36,
           -7.8,
           146.443
          ],
          [
           "hin_PP_f2_98_8_1b",
           "hinesorum",
           "Papua New Guinea",
           "PG-GPK",
           "Galf",
           0.07514,
           30,
           -7.8,
           146.443
          ],
          [
           "hin_PP_f2_98_8_2",
           "hinesorum",
           "Papua New Guinea",
           "PG-GPK",
           "Galf",
           0.0753,
           27,
           -7.8,
           146.443
          ],
          [
           "hin_PP_f2_98_8_3",
           "hinesorum",
           "Papua New Guinea",
           "PG-GPK",
           "Galf",
           0.07526,
           28,
           -7.8,
           146.443
          ],
          [
           "hin_PP_f2_98_8_4",
           "hinesorum",
           "Papua New Guinea",
           "PG-GPK",
           "Galf",
           0.07506,
           28,
           -7.8,
           146.443
          ],
          [
           "hin_PP_f2_98_8_5",
           "hinesorum",
           "Papua New Guinea",
           "PG-GPK",
           "Galf",
           0.0753,
           24,
           -7.8,
           146.443
          ],
          [
           "hin_cNG-7-10",
           "hinesorum",
           "Papua New Guinea",
           "PG-GPK",
           "Galf",
           0.07746,
           30,
           -7.863,
           146.391
          ],
          [
           "hin_cNG-7-2",
           "hinesorum",
           "Papua New Guinea",
           "PG-GPK",
           "Galf",
           0.07731,
           22,
           -7.863,
           146.391
          ],
          [
           "hin_cNG-7-6",
           "hinesorum",
           "Papua New Guinea",
           "PG-GPK",
           "Galf",
           0.07742,
           21,
           -7.863,
           146.391
          ],
          [
           "hin_cNG-7-9",
           "hinesorum",
           "Papua New Guinea",
           "PG-GPK",
           "Galf",
           0.07749,
           30,
           -7.863,
           146.391
          ],
          [
           "hin_cNG-8-4",
           "hinesorum",
           "Papua New Guinea",
           "PG-GPK",
           "Galf",
           0.07748,
           27,
           -7.8,
           146.443
          ],
          [
           "hin_cNG-8-8",
           "hinesorum",
           "Papua New Guinea",
           "PG-GPK",
           "Galf",
           0.07742,
           23,
           -7.8,
           146.443
          ],
          [
           "hin_cNG-8-9",
           "hinesorum",
           "Papua New Guinea",
           "PG-GPK",
           "Galf",
           0.07748,
           22,
           -7.8,
           146.443
          ],
          [
           "hin_cNG-9-10",
           "hinesorum",
           "Papua New Guinea",
           "PG-GPK",
           "Galf",
           0.07516,
           37,
           -7.748,
           146.43
          ],
          [
           "hin_cNG-9-7",
           "hinesorum",
           "Papua New Guinea",
           "PG-GPK",
           "Galf",
           0.07515,
           34,
           -7.748,
           146.43
          ],
          [
           "hin_cNG-9-9",
           "hinesorum",
           "Papua New Guinea",
           "PG-GPK",
           "Galf",
           0.07516,
           30,
           -7.748,
           146.43
          ],
          [
           "hin_cNG_94_118_2",
           "hinesorum",
           "Papua New Guinea",
           "PG-GPK",
           "Galf",
           0.07748,
           18,
           -7.137,
           143.997
          ],
          [
           "hin_cNG_94_118_3",
           "hinesorum",
           "Papua New Guinea",
           "PG-GPK",
           "Galf",
           0.07745,
           19,
           -7.137,
           143.997
          ],
          [
           "hin_cNG_94_97_3",
           "hinesorum",
           "Papua New Guinea",
           "PG-GPK",
           "Galf",
           0.07743,
           26,
           -7.137,
           143.997
          ]
         ],
         "hovertemplate": "admin1_iso=%{customdata[3]}<br>PC1=%{x}<br>PC2=%{y}<br>derived_sample_id=%{customdata[0]}<br>species=%{customdata[1]}<br>country=%{customdata[2]}<br>admin1_name=%{customdata[4]}<br>divergence=%{customdata[5]}<br>median_cov=%{customdata[6]}<br>latitude=%{customdata[7]}<br>longitude=%{customdata[8]}<extra></extra>",
         "legendgroup": "PG-GPK",
         "marker": {
          "color": "#9467BD",
          "symbol": "circle"
         },
         "mode": "markers",
         "name": "PG-GPK",
         "orientation": "v",
         "showlegend": true,
         "type": "scatter",
         "x": {
          "bdata": "I2iIwstWicLS6YbC4nSIwiamh8ICf4rCHUaKwoX3gUOyR2FDRQqCQwlJgEPoDoNDajeCQ1lNg0OjAYrCPy2HwqJsiMIuJIJD6D2DQ+WDgkM=",
          "dtype": "f4"
         },
         "xaxis": "x",
         "y": {
          "bdata": "B2s0QvFhOEILyT1CoH43Qs/lQEJ0UT1C8Vo/QsgOj8GkShvBRSuQwbjcisF2pZHBhbOOwelBk8EXbD5CUmk6QptbNEJZM4vBFciQwQ/vjsE=",
          "dtype": "f4"
         },
         "yaxis": "y"
        },
        {
         "customdata": [
          [
           "hin_PP_CP113_4",
           "hinesorum",
           "Papua New Guinea",
           "PG-MBA",
           "Milen Be",
           0.07503,
           20,
           -9.629,
           147.551
          ],
          [
           "hin_PP_CP94_1",
           "hinesorum",
           "Papua New Guinea",
           "PG-MBA",
           "Milen Be",
           0.0749,
           13,
           -10.204,
           149.695
          ],
          [
           "hin_PP_CP98_100_39",
           "hinesorum",
           "Papua New Guinea",
           "PG-MBA",
           "Milen Be",
           0.075,
           21,
           -10.383,
           150.322
          ],
          [
           "hin_PP_f2_98_89_11",
           "hinesorum",
           "Papua New Guinea",
           "PG-MBA",
           "Milen Be",
           0.07522,
           27,
           -10.201,
           150.355
          ],
          [
           "hin_PP_f2_98_89_14",
           "hinesorum",
           "Papua New Guinea",
           "PG-MBA",
           "Milen Be",
           0.07526,
           32,
           -10.201,
           150.355
          ],
          [
           "hin_PP_f2_98_89_21",
           "hinesorum",
           "Papua New Guinea",
           "PG-MBA",
           "Milen Be",
           0.07516,
           27,
           -10.201,
           150.355
          ],
          [
           "hin_PP_f2_98_89_2b",
           "hinesorum",
           "Papua New Guinea",
           "PG-MBA",
           "Milen Be",
           0.07515,
           35,
           -10.201,
           150.355
          ],
          [
           "hin_PP_f2_98_89_8",
           "hinesorum",
           "Papua New Guinea",
           "PG-MBA",
           "Milen Be",
           0.07515,
           32,
           -10.201,
           150.355
          ]
         ],
         "hovertemplate": "admin1_iso=%{customdata[3]}<br>PC1=%{x}<br>PC2=%{y}<br>derived_sample_id=%{customdata[0]}<br>species=%{customdata[1]}<br>country=%{customdata[2]}<br>admin1_name=%{customdata[4]}<br>divergence=%{customdata[5]}<br>median_cov=%{customdata[6]}<br>latitude=%{customdata[7]}<br>longitude=%{customdata[8]}<extra></extra>",
         "legendgroup": "PG-MBA",
         "marker": {
          "color": "#8C564B",
          "symbol": "circle"
         },
         "mode": "markers",
         "name": "PG-MBA",
         "orientation": "v",
         "showlegend": true,
         "type": "scatter",
         "x": {
          "bdata": "BlOKwnrQZcJjsInCZrmMwooPicKECYvCuKaJwgDJjMI=",
          "dtype": "f4"
         },
         "xaxis": "x",
         "y": {
          "bdata": "lcU6QnzHaEK/MT5Cy8pNQkeCPUIytj5CPzxIQqBqTEI=",
          "dtype": "f4"
         },
         "yaxis": "y"
        },
        {
         "customdata": [
          [
           "hin_PP_CP119_1",
           "hinesorum",
           "Papua New Guinea",
           "PG-NPP",
           "Oro",
           0.07411,
           11,
           -8.575,
           147.957
          ]
         ],
         "hovertemplate": "admin1_iso=%{customdata[3]}<br>PC1=%{x}<br>PC2=%{y}<br>derived_sample_id=%{customdata[0]}<br>species=%{customdata[1]}<br>country=%{customdata[2]}<br>admin1_name=%{customdata[4]}<br>divergence=%{customdata[5]}<br>median_cov=%{customdata[6]}<br>latitude=%{customdata[7]}<br>longitude=%{customdata[8]}<extra></extra>",
         "legendgroup": "PG-NPP",
         "marker": {
          "color": "#E377C2",
          "symbol": "circle"
         },
         "mode": "markers",
         "name": "PG-NPP",
         "orientation": "v",
         "showlegend": true,
         "type": "scatter",
         "x": {
          "bdata": "bmaHwg==",
          "dtype": "f4"
         },
         "xaxis": "x",
         "y": {
          "bdata": "HZA5Qg==",
          "dtype": "f4"
         },
         "yaxis": "y"
        },
        {
         "customdata": [
          [
           "hin_QLD_F2_QLD20",
           "hinesorum",
           "Australia",
           "AU-QLD",
           "Queensland",
           0.07525,
           42,
           -17.47,
           145.877
          ],
          [
           "hin_QLD_MM10",
           "hinesorum",
           "Australia",
           "AU-QLD",
           "Queensland",
           0.07479,
           14,
           -16.674,
           145.329
          ],
          [
           "hin_QLD_MM11",
           "hinesorum",
           "Australia",
           "AU-QLD",
           "Queensland",
           0.07509,
           26,
           -16.674,
           145.329
          ],
          [
           "hin_QLD_MM7",
           "hinesorum",
           "Australia",
           "AU-QLD",
           "Queensland",
           0.07519,
           26,
           -16.674,
           145.329
          ],
          [
           "hin_QLD_MM8",
           "hinesorum",
           "Australia",
           "AU-QLD",
           "Queensland",
           0.07514,
           19,
           -16.674,
           145.329
          ],
          [
           "hin_QLD_MM9",
           "hinesorum",
           "Australia",
           "AU-QLD",
           "Queensland",
           0.07503,
           26,
           -16.674,
           145.329
          ],
          [
           "hin_QLD_MtMol_13_2",
           "hinesorum",
           "Australia",
           "AU-QLD",
           "Queensland",
           0.0747,
           16,
           -16.673,
           145.328
          ],
          [
           "hin_QLD_MtMol_13_8",
           "hinesorum",
           "Australia",
           "AU-QLD",
           "Queensland",
           0.07504,
           17,
           -16.674,
           145.329
          ],
          [
           "hin_QLD_MtMol_13_9",
           "hinesorum",
           "Australia",
           "AU-QLD",
           "Queensland",
           0.07498,
           19,
           -16.674,
           145.329
          ],
          [
           "hin_QLD_WCditch_1",
           "hinesorum",
           "Australia",
           "AU-QLD",
           "Queensland",
           0.07521,
           23,
           -17.48,
           145.868
          ],
          [
           "hin_wQLD_Por_41",
           "hinesorum",
           "Australia",
           "AU-QLD",
           "Queensland",
           0.0755,
           27,
           -14.916,
           141.638
          ],
          [
           "hin_wQLD_Por_43",
           "hinesorum",
           "Australia",
           "AU-QLD",
           "Queensland",
           0.07547,
           19,
           -14.916,
           141.638
          ],
          [
           "hin_wQLD_Por_44",
           "hinesorum",
           "Australia",
           "AU-QLD",
           "Queensland",
           0.07523,
           31,
           -14.916,
           141.638
          ],
          [
           "hin_wQLD_Por_45",
           "hinesorum",
           "Australia",
           "AU-QLD",
           "Queensland",
           0.07532,
           28,
           -14.916,
           141.638
          ],
          [
           "hin_wQLD_Por_48",
           "hinesorum",
           "Australia",
           "AU-QLD",
           "Queensland",
           0.0753,
           26,
           -14.916,
           141.638
          ],
          [
           "hin_wQLD_Por_49",
           "hinesorum",
           "Australia",
           "AU-QLD",
           "Queensland",
           0.0754,
           27,
           -14.916,
           141.638
          ],
          [
           "tor_wQLD_Por_52",
           "torresiensis",
           "Australia",
           "AU-QLD",
           "Queensland",
           0.07547,
           22,
           -14.916,
           141.638
          ]
         ],
         "hovertemplate": "admin1_iso=%{customdata[3]}<br>PC1=%{x}<br>PC2=%{y}<br>derived_sample_id=%{customdata[0]}<br>species=%{customdata[1]}<br>country=%{customdata[2]}<br>admin1_name=%{customdata[4]}<br>divergence=%{customdata[5]}<br>median_cov=%{customdata[6]}<br>latitude=%{customdata[7]}<br>longitude=%{customdata[8]}<extra></extra>",
         "legendgroup": "AU-QLD",
         "marker": {
          "color": "#7F7F7F",
          "symbol": "circle"
         },
         "mode": "markers",
         "name": "AU-QLD",
         "orientation": "v",
         "showlegend": true,
         "type": "scatter",
         "x": {
          "bdata": "uASBwoOKgsL4rX/CvK2Awr7EgMJiLILCZox+wiX0gcISA4HC5kSBwlo3e8Lzc3zCnHGCwqq7gMIzmIDCGyV6wpQ9ecI=",
          "dtype": "f4"
         },
         "xaxis": "x",
         "y": {
          "bdata": "ImsBQ84dA0O2PgNDOB0AQ5p2AUPMRgRDsgAAQ1izBEPcoAFDOuQCQ8Xr+kJqewJD38kBQ19H/0JzGwNDfQECQ8K4+EI=",
          "dtype": "f4"
         },
         "yaxis": "y"
        },
        {
         "customdata": [
          [
           "hin_cNG_94_109_2",
           "hinesorum",
           "Papua New Guinea",
           "PG-HLA",
           "Hela",
           0.07755,
           23,
           -6.205,
           143.011
          ],
          [
           "hin_cNG_94_109_5",
           "hinesorum",
           "Papua New Guinea",
           "PG-HLA",
           "Hela",
           0.07748,
           26,
           -6.205,
           143.011
          ],
          [
           "hin_cNG_94_109_6",
           "hinesorum",
           "Papua New Guinea",
           "PG-HLA",
           "Hela",
           0.07747,
           26,
           -6.205,
           143.011
          ],
          [
           "hin_cNG_f2_94_109_3",
           "hinesorum",
           "Papua New Guinea",
           "PG-HLA",
           "Hela",
           0.0776,
           24,
           -6.205,
           143.011
          ],
          [
           "hin_cNG_f2_94_109_7",
           "hinesorum",
           "Papua New Guinea",
           "PG-HLA",
           "Hela",
           0.07743,
           24,
           -6.205,
           143.011
          ],
          [
           "hin_cNG_f2_94_97_1",
           "hinesorum",
           "Papua New Guinea",
           "PG-HLA",
           "Hela",
           0.07745,
           20,
           -6.205,
           143.011
          ],
          [
           "hin_cNG_f2_94_97_7",
           "hinesorum",
           "Papua New Guinea",
           "PG-HLA",
           "Hela",
           0.07759,
           23,
           -6.205,
           143.011
          ],
          [
           "hin_sNG_WP66_4",
           "hinesorum",
           "Papua New Guinea",
           "PG-HLA",
           "Hela",
           0.07523,
           25,
           -6.122,
           141.294
          ]
         ],
         "hovertemplate": "admin1_iso=%{customdata[3]}<br>PC1=%{x}<br>PC2=%{y}<br>derived_sample_id=%{customdata[0]}<br>species=%{customdata[1]}<br>country=%{customdata[2]}<br>admin1_name=%{customdata[4]}<br>divergence=%{customdata[5]}<br>median_cov=%{customdata[6]}<br>latitude=%{customdata[7]}<br>longitude=%{customdata[8]}<extra></extra>",
         "legendgroup": "PG-HLA",
         "marker": {
          "color": "#BCBD22",
          "symbol": "circle"
         },
         "mode": "markers",
         "name": "PG-HLA",
         "orientation": "v",
         "showlegend": true,
         "type": "scatter",
         "x": {
          "bdata": "ic6CQ0ItgkP85IJD0GWDQ4gKg0MwqIJDxSWCQ3vxWMI=",
          "dtype": "f4"
         },
         "xaxis": "x",
         "y": {
          "bdata": "aYGNwbTri8F3JozBCS6UwTYpj8GnGY/ByjqPwUVgi0I=",
          "dtype": "f4"
         },
         "yaxis": "y"
        },
        {
         "customdata": [
          [
           "hin_cNG_94_113_2",
           "hinesorum",
           "Papua New Guinea",
           "PG-SHM",
           "Sauten Hailans",
           0.07762,
           21,
           -6.793,
           143.635
          ],
          [
           "hin_cNG_94_113_6",
           "hinesorum",
           "Papua New Guinea",
           "PG-SHM",
           "Sauten Hailans",
           0.07748,
           24,
           -6.793,
           143.635
          ],
          [
           "hin_cNG_94_118_1",
           "hinesorum",
           "Papua New Guinea",
           "PG-SHM",
           "Sauten Hailans",
           0.07751,
           22,
           -6.793,
           143.635
          ],
          [
           "hin_cNG_94_97_5",
           "hinesorum",
           "Papua New Guinea",
           "PG-SHM",
           "Sauten Hailans",
           0.07749,
           24,
           -6.468,
           142.837
          ],
          [
           "hin_cNG_94_97_9",
           "hinesorum",
           "Papua New Guinea",
           "PG-SHM",
           "Sauten Hailans",
           0.0775,
           20,
           -6.468,
           142.837
          ]
         ],
         "hovertemplate": "admin1_iso=%{customdata[3]}<br>PC1=%{x}<br>PC2=%{y}<br>derived_sample_id=%{customdata[0]}<br>species=%{customdata[1]}<br>country=%{customdata[2]}<br>admin1_name=%{customdata[4]}<br>divergence=%{customdata[5]}<br>median_cov=%{customdata[6]}<br>latitude=%{customdata[7]}<br>longitude=%{customdata[8]}<extra></extra>",
         "legendgroup": "PG-SHM",
         "marker": {
          "color": "#17BECF",
          "symbol": "circle"
         },
         "mode": "markers",
         "name": "PG-SHM",
         "orientation": "v",
         "showlegend": true,
         "type": "scatter",
         "x": {
          "bdata": "ApqBQ9nMgkOrlYNDaqiBQ4kXgkM=",
          "dtype": "f4"
         },
         "xaxis": "x",
         "y": {
          "bdata": "CWiNwfscj8EqvZDBDJCNwVLqi8E=",
          "dtype": "f4"
         },
         "yaxis": "y"
        },
        {
         "customdata": [
          [
           "hin_nNG_MP-76-2",
           "hinesorum",
           "Papua New Guinea",
           "PG-ESW",
           "Is Sepik",
           0.07799,
           29,
           -4.07,
           143.256
          ],
          [
           "hin_nNG_MP-76-4",
           "hinesorum",
           "Papua New Guinea",
           "PG-ESW",
           "Is Sepik",
           0.07784,
           30,
           -4.07,
           143.256
          ],
          [
           "hin_nNG_MP76_3",
           "hinesorum",
           "Papua New Guinea",
           "PG-ESW",
           "Is Sepik",
           0.07776,
           19,
           -4.07,
           143.256
          ],
          [
           "hin_nNG_SR-Nal16",
           "hinesorum",
           "Papua New Guinea",
           "PG-ESW",
           "Is Sepik",
           0.07785,
           21,
           -3.782,
           143.05
          ],
          [
           "hin_nNG_SR-Nal2",
           "hinesorum",
           "Papua New Guinea",
           "PG-ESW",
           "Is Sepik",
           0.07786,
           24,
           -3.782,
           143.05
          ],
          [
           "hin_nNG_SR93-R93K",
           "hinesorum",
           "Papua New Guinea",
           "PG-ESW",
           "Is Sepik",
           0.07789,
           20,
           -3.865,
           144.065
          ]
         ],
         "hovertemplate": "admin1_iso=%{customdata[3]}<br>PC1=%{x}<br>PC2=%{y}<br>derived_sample_id=%{customdata[0]}<br>species=%{customdata[1]}<br>country=%{customdata[2]}<br>admin1_name=%{customdata[4]}<br>divergence=%{customdata[5]}<br>median_cov=%{customdata[6]}<br>latitude=%{customdata[7]}<br>longitude=%{customdata[8]}<extra></extra>",
         "legendgroup": "PG-ESW",
         "marker": {
          "color": "#1F77B4",
          "symbol": "circle"
         },
         "mode": "markers",
         "name": "PG-ESW",
         "orientation": "v",
         "showlegend": true,
         "type": "scatter",
         "x": {
          "bdata": "DTxuQy3RbkNw72xD5lJrQ3UyZ0O1/mhD",
          "dtype": "f4"
         },
         "xaxis": "x",
         "y": {
          "bdata": "XeEPweboE8HxewPBAMQIwaGh8cDhQvfA",
          "dtype": "f4"
         },
         "yaxis": "y"
        },
        {
         "customdata": [
          [
           "hin_nPP_4-169",
           "hinesorum",
           "Papua New Guinea",
           "PG-MPL",
           "Morobe",
           0.07493,
           26,
           -6.206,
           147.672
          ]
         ],
         "hovertemplate": "admin1_iso=%{customdata[3]}<br>PC1=%{x}<br>PC2=%{y}<br>derived_sample_id=%{customdata[0]}<br>species=%{customdata[1]}<br>country=%{customdata[2]}<br>admin1_name=%{customdata[4]}<br>divergence=%{customdata[5]}<br>median_cov=%{customdata[6]}<br>latitude=%{customdata[7]}<br>longitude=%{customdata[8]}<extra></extra>",
         "legendgroup": "PG-MPL",
         "marker": {
          "color": "#FF7F0E",
          "symbol": "circle"
         },
         "mode": "markers",
         "name": "PG-MPL",
         "orientation": "v",
         "showlegend": true,
         "type": "scatter",
         "x": {
          "bdata": "/E+Hwg==",
          "dtype": "f4"
         },
         "xaxis": "x",
         "y": {
          "bdata": "s+w8Qg==",
          "dtype": "f4"
         },
         "yaxis": "y"
        },
        {
         "customdata": [
          [
           "hin_nPP_BO132_1",
           "hinesorum",
           "Papua New Guinea",
           "PG-MPM",
           "Madang",
           0.07776,
           21,
           -5.769,
           145.592
          ],
          [
           "hin_nPP_BO132_10",
           "hinesorum",
           "Papua New Guinea",
           "PG-MPM",
           "Madang",
           0.07783,
           21,
           -5.769,
           145.592
          ],
          [
           "hin_nPP_BO132_12",
           "hinesorum",
           "Papua New Guinea",
           "PG-MPM",
           "Madang",
           0.07782,
           22,
           -5.769,
           145.592
          ],
          [
           "hin_nPP_BO132_2",
           "hinesorum",
           "Papua New Guinea",
           "PG-MPM",
           "Madang",
           0.07781,
           21,
           -5.769,
           145.592
          ],
          [
           "hin_nPP_BO132_3",
           "hinesorum",
           "Papua New Guinea",
           "PG-MPM",
           "Madang",
           0.0778,
           23,
           -5.769,
           145.592
          ],
          [
           "hin_nPP_BO132_4",
           "hinesorum",
           "Papua New Guinea",
           "PG-MPM",
           "Madang",
           0.07778,
           22,
           -5.769,
           145.592
          ],
          [
           "hin_nPP_BO132_5",
           "hinesorum",
           "Papua New Guinea",
           "PG-MPM",
           "Madang",
           0.07776,
           25,
           -5.769,
           145.592
          ],
          [
           "hin_nPP_BO132_6",
           "hinesorum",
           "Papua New Guinea",
           "PG-MPM",
           "Madang",
           0.07782,
           23,
           -5.769,
           145.592
          ],
          [
           "hin_nPP_BO132_7",
           "hinesorum",
           "Papua New Guinea",
           "PG-MPM",
           "Madang",
           0.07805,
           25,
           -5.769,
           145.592
          ],
          [
           "hin_nPP_BO132_9",
           "hinesorum",
           "Papua New Guinea",
           "PG-MPM",
           "Madang",
           0.0778,
           23,
           -5.769,
           145.592
          ]
         ],
         "hovertemplate": "admin1_iso=%{customdata[3]}<br>PC1=%{x}<br>PC2=%{y}<br>derived_sample_id=%{customdata[0]}<br>species=%{customdata[1]}<br>country=%{customdata[2]}<br>admin1_name=%{customdata[4]}<br>divergence=%{customdata[5]}<br>median_cov=%{customdata[6]}<br>latitude=%{customdata[7]}<br>longitude=%{customdata[8]}<extra></extra>",
         "legendgroup": "PG-MPM",
         "marker": {
          "color": "#2CA02C",
          "symbol": "circle"
         },
         "mode": "markers",
         "name": "PG-MPM",
         "orientation": "v",
         "showlegend": true,
         "type": "scatter",
         "x": {
          "bdata": "4ImAQ3VCa0OSI4BD6HqAQzEabUOWRYFD23uBQxZ/gEMpMIFD4cmAQw==",
          "dtype": "f4"
         },
         "xaxis": "x",
         "y": {
          "bdata": "1kU+waq56MCbV0DB2q5AwZkqCcH0+DzBwOY9wc6hPsF7rD7BhP49wQ==",
          "dtype": "f4"
         },
         "yaxis": "y"
        },
        {
         "customdata": [
          [
           "hin_sNG_92_27_12",
           "hinesorum",
           "Papua New Guinea",
           "PG-WPD",
           "Westen",
           0.07536,
           25,
           -8.074,
           141.75
          ],
          [
           "hin_sNG_92_62_1",
           "hinesorum",
           "Papua New Guinea",
           "PG-WPD",
           "Westen",
           0.07531,
           26,
           -6.317,
           141.025
          ],
          [
           "hin_sNG_92_62_2",
           "hinesorum",
           "Papua New Guinea",
           "PG-WPD",
           "Westen",
           0.07519,
           25,
           -6.317,
           141.025
          ],
          [
           "hin_sNG_92_62_4",
           "hinesorum",
           "Papua New Guinea",
           "PG-WPD",
           "Westen",
           0.07523,
           28,
           -6.317,
           141.025
          ],
          [
           "hin_sNG_92_62_7",
           "hinesorum",
           "Papua New Guinea",
           "PG-WPD",
           "Westen",
           0.0751,
           23,
           -6.317,
           141.025
          ],
          [
           "hin_sNG_f2_92_27_10",
           "hinesorum",
           "Papua New Guinea",
           "PG-WPD",
           "Westen",
           0.07542,
           29,
           -8.074,
           141.75
          ],
          [
           "hin_sNG_f2_92_27_20",
           "hinesorum",
           "Papua New Guinea",
           "PG-WPD",
           "Westen",
           0.07576,
           35,
           -8.074,
           141.75
          ],
          [
           "hin_sNG_f2_92_27_4",
           "hinesorum",
           "Papua New Guinea",
           "PG-WPD",
           "Westen",
           0.07547,
           34,
           -8.074,
           141.75
          ],
          [
           "hin_sNG_f2_92_27_8",
           "hinesorum",
           "Papua New Guinea",
           "PG-WPD",
           "Westen",
           0.07577,
           29,
           -8.074,
           141.75
          ],
          [
           "hin_sNG_f2_92_41_2",
           "hinesorum",
           "Papua New Guinea",
           "PG-WPD",
           "Westen",
           0.07554,
           27,
           -7.182,
           141.248
          ],
          [
           "hin_sNG_f2_92_41_4",
           "hinesorum",
           "Papua New Guinea",
           "PG-WPD",
           "Westen",
           0.07546,
           32,
           -7.182,
           141.248
          ],
          [
           "hin_sNG_f2_92_41_7",
           "hinesorum",
           "Papua New Guinea",
           "PG-WPD",
           "Westen",
           0.07553,
           28,
           -7.182,
           141.248
          ],
          [
           "hin_sNG_f2_92_41_8",
           "hinesorum",
           "Papua New Guinea",
           "PG-WPD",
           "Westen",
           0.07542,
           29,
           -7.182,
           141.248
          ],
          [
           "hin_sNG_f2_92_41_9",
           "hinesorum",
           "Papua New Guinea",
           "PG-WPD",
           "Westen",
           0.07527,
           30,
           -7.182,
           141.248
          ],
          [
           "hin_sNG_f2_92_62_3",
           "hinesorum",
           "Papua New Guinea",
           "PG-WPD",
           "Westen",
           0.07518,
           30,
           -7.182,
           141.248
          ]
         ],
         "hovertemplate": "admin1_iso=%{customdata[3]}<br>PC1=%{x}<br>PC2=%{y}<br>derived_sample_id=%{customdata[0]}<br>species=%{customdata[1]}<br>country=%{customdata[2]}<br>admin1_name=%{customdata[4]}<br>divergence=%{customdata[5]}<br>median_cov=%{customdata[6]}<br>latitude=%{customdata[7]}<br>longitude=%{customdata[8]}<extra></extra>",
         "legendgroup": "PG-WPD",
         "marker": {
          "color": "#D62728",
          "symbol": "circle"
         },
         "mode": "markers",
         "name": "PG-WPD",
         "orientation": "v",
         "showlegend": true,
         "type": "scatter",
         "x": {
          "bdata": "Q9lWwq8hYsKYeFXCCgliwipSYMJZ9l7CDopZwg/aW8JzYF3CMUhnwj+VZcJ8A2TCBdBhwvcJVcKlP17C",
          "dtype": "f4"
         },
         "xaxis": "x",
         "y": {
          "bdata": "NfqJQtzbo0IsFYhCEgKcQmdLmkKrBYhCehqJQs2RhULrd5RCAEaZQoL1lkLQpJJC1jaVQuMbikIZsJtC",
          "dtype": "f4"
         },
         "yaxis": "y"
        }
       ],
       "layout": {
        "height": 500,
        "legend": {
         "title": {
          "text": "admin1_iso"
         },
         "tracegroupgap": 0
        },
        "margin": {
         "t": 60
        },
        "template": {
         "data": {
          "bar": [
           {
            "error_x": {
             "color": "rgb(36,36,36)"
            },
            "error_y": {
             "color": "rgb(36,36,36)"
            },
            "marker": {
             "line": {
              "color": "white",
              "width": 0.5
             },
             "pattern": {
              "fillmode": "overlay",
              "size": 10,
              "solidity": 0.2
             }
            },
            "type": "bar"
           }
          ],
          "barpolar": [
           {
            "marker": {
             "line": {
              "color": "white",
              "width": 0.5
             },
             "pattern": {
              "fillmode": "overlay",
              "size": 10,
              "solidity": 0.2
             }
            },
            "type": "barpolar"
           }
          ],
          "carpet": [
           {
            "aaxis": {
             "endlinecolor": "rgb(36,36,36)",
             "gridcolor": "white",
             "linecolor": "white",
             "minorgridcolor": "white",
             "startlinecolor": "rgb(36,36,36)"
            },
            "baxis": {
             "endlinecolor": "rgb(36,36,36)",
             "gridcolor": "white",
             "linecolor": "white",
             "minorgridcolor": "white",
             "startlinecolor": "rgb(36,36,36)"
            },
            "type": "carpet"
           }
          ],
          "choropleth": [
           {
            "colorbar": {
             "outlinewidth": 1,
             "tickcolor": "rgb(36,36,36)",
             "ticks": "outside"
            },
            "type": "choropleth"
           }
          ],
          "contour": [
           {
            "colorbar": {
             "outlinewidth": 1,
             "tickcolor": "rgb(36,36,36)",
             "ticks": "outside"
            },
            "colorscale": [
             [
              0,
              "#440154"
             ],
             [
              0.1111111111111111,
              "#482878"
             ],
             [
              0.2222222222222222,
              "#3e4989"
             ],
             [
              0.3333333333333333,
              "#31688e"
             ],
             [
              0.4444444444444444,
              "#26828e"
             ],
             [
              0.5555555555555556,
              "#1f9e89"
             ],
             [
              0.6666666666666666,
              "#35b779"
             ],
             [
              0.7777777777777778,
              "#6ece58"
             ],
             [
              0.8888888888888888,
              "#b5de2b"
             ],
             [
              1,
              "#fde725"
             ]
            ],
            "type": "contour"
           }
          ],
          "contourcarpet": [
           {
            "colorbar": {
             "outlinewidth": 1,
             "tickcolor": "rgb(36,36,36)",
             "ticks": "outside"
            },
            "type": "contourcarpet"
           }
          ],
          "heatmap": [
           {
            "colorbar": {
             "outlinewidth": 1,
             "tickcolor": "rgb(36,36,36)",
             "ticks": "outside"
            },
            "colorscale": [
             [
              0,
              "#440154"
             ],
             [
              0.1111111111111111,
              "#482878"
             ],
             [
              0.2222222222222222,
              "#3e4989"
             ],
             [
              0.3333333333333333,
              "#31688e"
             ],
             [
              0.4444444444444444,
              "#26828e"
             ],
             [
              0.5555555555555556,
              "#1f9e89"
             ],
             [
              0.6666666666666666,
              "#35b779"
             ],
             [
              0.7777777777777778,
              "#6ece58"
             ],
             [
              0.8888888888888888,
              "#b5de2b"
             ],
             [
              1,
              "#fde725"
             ]
            ],
            "type": "heatmap"
           }
          ],
          "histogram": [
           {
            "marker": {
             "line": {
              "color": "white",
              "width": 0.6
             }
            },
            "type": "histogram"
           }
          ],
          "histogram2d": [
           {
            "colorbar": {
             "outlinewidth": 1,
             "tickcolor": "rgb(36,36,36)",
             "ticks": "outside"
            },
            "colorscale": [
             [
              0,
              "#440154"
             ],
             [
              0.1111111111111111,
              "#482878"
             ],
             [
              0.2222222222222222,
              "#3e4989"
             ],
             [
              0.3333333333333333,
              "#31688e"
             ],
             [
              0.4444444444444444,
              "#26828e"
             ],
             [
              0.5555555555555556,
              "#1f9e89"
             ],
             [
              0.6666666666666666,
              "#35b779"
             ],
             [
              0.7777777777777778,
              "#6ece58"
             ],
             [
              0.8888888888888888,
              "#b5de2b"
             ],
             [
              1,
              "#fde725"
             ]
            ],
            "type": "histogram2d"
           }
          ],
          "histogram2dcontour": [
           {
            "colorbar": {
             "outlinewidth": 1,
             "tickcolor": "rgb(36,36,36)",
             "ticks": "outside"
            },
            "colorscale": [
             [
              0,
              "#440154"
             ],
             [
              0.1111111111111111,
              "#482878"
             ],
             [
              0.2222222222222222,
              "#3e4989"
             ],
             [
              0.3333333333333333,
              "#31688e"
             ],
             [
              0.4444444444444444,
              "#26828e"
             ],
             [
              0.5555555555555556,
              "#1f9e89"
             ],
             [
              0.6666666666666666,
              "#35b779"
             ],
             [
              0.7777777777777778,
              "#6ece58"
             ],
             [
              0.8888888888888888,
              "#b5de2b"
             ],
             [
              1,
              "#fde725"
             ]
            ],
            "type": "histogram2dcontour"
           }
          ],
          "mesh3d": [
           {
            "colorbar": {
             "outlinewidth": 1,
             "tickcolor": "rgb(36,36,36)",
             "ticks": "outside"
            },
            "type": "mesh3d"
           }
          ],
          "parcoords": [
           {
            "line": {
             "colorbar": {
              "outlinewidth": 1,
              "tickcolor": "rgb(36,36,36)",
              "ticks": "outside"
             }
            },
            "type": "parcoords"
           }
          ],
          "pie": [
           {
            "automargin": true,
            "type": "pie"
           }
          ],
          "scatter": [
           {
            "fillpattern": {
             "fillmode": "overlay",
             "size": 10,
             "solidity": 0.2
            },
            "type": "scatter"
           }
          ],
          "scatter3d": [
           {
            "line": {
             "colorbar": {
              "outlinewidth": 1,
              "tickcolor": "rgb(36,36,36)",
              "ticks": "outside"
             }
            },
            "marker": {
             "colorbar": {
              "outlinewidth": 1,
              "tickcolor": "rgb(36,36,36)",
              "ticks": "outside"
             }
            },
            "type": "scatter3d"
           }
          ],
          "scattercarpet": [
           {
            "marker": {
             "colorbar": {
              "outlinewidth": 1,
              "tickcolor": "rgb(36,36,36)",
              "ticks": "outside"
             }
            },
            "type": "scattercarpet"
           }
          ],
          "scattergeo": [
           {
            "marker": {
             "colorbar": {
              "outlinewidth": 1,
              "tickcolor": "rgb(36,36,36)",
              "ticks": "outside"
             }
            },
            "type": "scattergeo"
           }
          ],
          "scattergl": [
           {
            "marker": {
             "colorbar": {
              "outlinewidth": 1,
              "tickcolor": "rgb(36,36,36)",
              "ticks": "outside"
             }
            },
            "type": "scattergl"
           }
          ],
          "scattermap": [
           {
            "marker": {
             "colorbar": {
              "outlinewidth": 1,
              "tickcolor": "rgb(36,36,36)",
              "ticks": "outside"
             }
            },
            "type": "scattermap"
           }
          ],
          "scattermapbox": [
           {
            "marker": {
             "colorbar": {
              "outlinewidth": 1,
              "tickcolor": "rgb(36,36,36)",
              "ticks": "outside"
             }
            },
            "type": "scattermapbox"
           }
          ],
          "scatterpolar": [
           {
            "marker": {
             "colorbar": {
              "outlinewidth": 1,
              "tickcolor": "rgb(36,36,36)",
              "ticks": "outside"
             }
            },
            "type": "scatterpolar"
           }
          ],
          "scatterpolargl": [
           {
            "marker": {
             "colorbar": {
              "outlinewidth": 1,
              "tickcolor": "rgb(36,36,36)",
              "ticks": "outside"
             }
            },
            "type": "scatterpolargl"
           }
          ],
          "scatterternary": [
           {
            "marker": {
             "colorbar": {
              "outlinewidth": 1,
              "tickcolor": "rgb(36,36,36)",
              "ticks": "outside"
             }
            },
            "type": "scatterternary"
           }
          ],
          "surface": [
           {
            "colorbar": {
             "outlinewidth": 1,
             "tickcolor": "rgb(36,36,36)",
             "ticks": "outside"
            },
            "colorscale": [
             [
              0,
              "#440154"
             ],
             [
              0.1111111111111111,
              "#482878"
             ],
             [
              0.2222222222222222,
              "#3e4989"
             ],
             [
              0.3333333333333333,
              "#31688e"
             ],
             [
              0.4444444444444444,
              "#26828e"
             ],
             [
              0.5555555555555556,
              "#1f9e89"
             ],
             [
              0.6666666666666666,
              "#35b779"
             ],
             [
              0.7777777777777778,
              "#6ece58"
             ],
             [
              0.8888888888888888,
              "#b5de2b"
             ],
             [
              1,
              "#fde725"
             ]
            ],
            "type": "surface"
           }
          ],
          "table": [
           {
            "cells": {
             "fill": {
              "color": "rgb(237,237,237)"
             },
             "line": {
              "color": "white"
             }
            },
            "header": {
             "fill": {
              "color": "rgb(217,217,217)"
             },
             "line": {
              "color": "white"
             }
            },
            "type": "table"
           }
          ]
         },
         "layout": {
          "annotationdefaults": {
           "arrowhead": 0,
           "arrowwidth": 1
          },
          "autotypenumbers": "strict",
          "coloraxis": {
           "colorbar": {
            "outlinewidth": 1,
            "tickcolor": "rgb(36,36,36)",
            "ticks": "outside"
           }
          },
          "colorscale": {
           "diverging": [
            [
             0,
             "rgb(103,0,31)"
            ],
            [
             0.1,
             "rgb(178,24,43)"
            ],
            [
             0.2,
             "rgb(214,96,77)"
            ],
            [
             0.3,
             "rgb(244,165,130)"
            ],
            [
             0.4,
             "rgb(253,219,199)"
            ],
            [
             0.5,
             "rgb(247,247,247)"
            ],
            [
             0.6,
             "rgb(209,229,240)"
            ],
            [
             0.7,
             "rgb(146,197,222)"
            ],
            [
             0.8,
             "rgb(67,147,195)"
            ],
            [
             0.9,
             "rgb(33,102,172)"
            ],
            [
             1,
             "rgb(5,48,97)"
            ]
           ],
           "sequential": [
            [
             0,
             "#440154"
            ],
            [
             0.1111111111111111,
             "#482878"
            ],
            [
             0.2222222222222222,
             "#3e4989"
            ],
            [
             0.3333333333333333,
             "#31688e"
            ],
            [
             0.4444444444444444,
             "#26828e"
            ],
            [
             0.5555555555555556,
             "#1f9e89"
            ],
            [
             0.6666666666666666,
             "#35b779"
            ],
            [
             0.7777777777777778,
             "#6ece58"
            ],
            [
             0.8888888888888888,
             "#b5de2b"
            ],
            [
             1,
             "#fde725"
            ]
           ],
           "sequentialminus": [
            [
             0,
             "#440154"
            ],
            [
             0.1111111111111111,
             "#482878"
            ],
            [
             0.2222222222222222,
             "#3e4989"
            ],
            [
             0.3333333333333333,
             "#31688e"
            ],
            [
             0.4444444444444444,
             "#26828e"
            ],
            [
             0.5555555555555556,
             "#1f9e89"
            ],
            [
             0.6666666666666666,
             "#35b779"
            ],
            [
             0.7777777777777778,
             "#6ece58"
            ],
            [
             0.8888888888888888,
             "#b5de2b"
            ],
            [
             1,
             "#fde725"
            ]
           ]
          },
          "colorway": [
           "#1F77B4",
           "#FF7F0E",
           "#2CA02C",
           "#D62728",
           "#9467BD",
           "#8C564B",
           "#E377C2",
           "#7F7F7F",
           "#BCBD22",
           "#17BECF"
          ],
          "font": {
           "color": "rgb(36,36,36)"
          },
          "geo": {
           "bgcolor": "white",
           "lakecolor": "white",
           "landcolor": "white",
           "showlakes": true,
           "showland": true,
           "subunitcolor": "white"
          },
          "hoverlabel": {
           "align": "left"
          },
          "hovermode": "closest",
          "mapbox": {
           "style": "light"
          },
          "paper_bgcolor": "white",
          "plot_bgcolor": "white",
          "polar": {
           "angularaxis": {
            "gridcolor": "rgb(232,232,232)",
            "linecolor": "rgb(36,36,36)",
            "showgrid": false,
            "showline": true,
            "ticks": "outside"
           },
           "bgcolor": "white",
           "radialaxis": {
            "gridcolor": "rgb(232,232,232)",
            "linecolor": "rgb(36,36,36)",
            "showgrid": false,
            "showline": true,
            "ticks": "outside"
           }
          },
          "scene": {
           "xaxis": {
            "backgroundcolor": "white",
            "gridcolor": "rgb(232,232,232)",
            "gridwidth": 2,
            "linecolor": "rgb(36,36,36)",
            "showbackground": true,
            "showgrid": false,
            "showline": true,
            "ticks": "outside",
            "zeroline": false,
            "zerolinecolor": "rgb(36,36,36)"
           },
           "yaxis": {
            "backgroundcolor": "white",
            "gridcolor": "rgb(232,232,232)",
            "gridwidth": 2,
            "linecolor": "rgb(36,36,36)",
            "showbackground": true,
            "showgrid": false,
            "showline": true,
            "ticks": "outside",
            "zeroline": false,
            "zerolinecolor": "rgb(36,36,36)"
           },
           "zaxis": {
            "backgroundcolor": "white",
            "gridcolor": "rgb(232,232,232)",
            "gridwidth": 2,
            "linecolor": "rgb(36,36,36)",
            "showbackground": true,
            "showgrid": false,
            "showline": true,
            "ticks": "outside",
            "zeroline": false,
            "zerolinecolor": "rgb(36,36,36)"
           }
          },
          "shapedefaults": {
           "fillcolor": "black",
           "line": {
            "width": 0
           },
           "opacity": 0.3
          },
          "ternary": {
           "aaxis": {
            "gridcolor": "rgb(232,232,232)",
            "linecolor": "rgb(36,36,36)",
            "showgrid": false,
            "showline": true,
            "ticks": "outside"
           },
           "baxis": {
            "gridcolor": "rgb(232,232,232)",
            "linecolor": "rgb(36,36,36)",
            "showgrid": false,
            "showline": true,
            "ticks": "outside"
           },
           "bgcolor": "white",
           "caxis": {
            "gridcolor": "rgb(232,232,232)",
            "linecolor": "rgb(36,36,36)",
            "showgrid": false,
            "showline": true,
            "ticks": "outside"
           }
          },
          "title": {
           "x": 0.05
          },
          "xaxis": {
           "automargin": true,
           "gridcolor": "rgb(232,232,232)",
           "linecolor": "rgb(36,36,36)",
           "showgrid": false,
           "showline": true,
           "ticks": "outside",
           "title": {
            "standoff": 15
           },
           "zeroline": false,
           "zerolinecolor": "rgb(36,36,36)"
          },
          "yaxis": {
           "automargin": true,
           "gridcolor": "rgb(232,232,232)",
           "linecolor": "rgb(36,36,36)",
           "showgrid": false,
           "showline": true,
           "ticks": "outside",
           "title": {
            "standoff": 15
           },
           "zeroline": false,
           "zerolinecolor": "rgb(36,36,36)"
          }
         }
        },
        "width": 600,
        "xaxis": {
         "anchor": "y",
         "domain": [
          0,
          1
         ],
         "title": {
          "text": "PC1"
         }
        },
        "yaxis": {
         "anchor": "x",
         "domain": [
          0,
          1
         ],
         "title": {
          "text": "PC2"
         }
        }
       }
      },
      "image/png": "[encoded data removed]"
     },
     "metadata": {},
     "output_type": "display_data"
    }
   ],
   "source": [
    "ct = list(filtered_contigs.keys())[0]\n",
    "plot_pca(outputlist[ct][0], outputlist[ct][1], colourfac = 'admin1_iso')"
   ]
  },
  {
   "cell_type": "code",
   "execution_count": null,
   "id": "d2896822-323a-4cf0-9ebd-7b3e2d5898fe",
   "metadata": {},
   "outputs": [],
   "source": [
    "c = list(filtered_contigs.keys())[0]\n",
    "si_pca_hin = run_pca(contig = c,sample_query = 'species == \"hinesorum\" & partner_sample_id != \"hin_WPSL_sol86\" & (admin1_iso == \"PG-NSB\" | country_iso == \"SB\")', n_snps=50_000)\n"
   ]
  },
  {
   "cell_type": "code",
   "execution_count": null,
   "id": "f0e68285-3c81-4ee0-8d8e-24d7bc9b8a00",
   "metadata": {},
   "outputs": [],
   "source": [
    "plot_pca(si_pca_hin[0], si_pca_hin[1], colourfac = 'admin1_iso')"
   ]
  },
  {
   "cell_type": "code",
   "execution_count": 27,
   "id": "1f1638bc-1542-407a-b440-c80236a5fc43",
   "metadata": {},
   "outputs": [
    {
     "data": {
      "application/vnd.plotly.v1+json": {
       "config": {
        "plotlyServerURL": "https://plot.ly"
       },
       "data": [
        {
         "customdata": [
          [
           "hin_BOU_A1",
           "hinesorum",
           "Papua New Guinea",
           "PG-NSB",
           "Bogenvil",
           0.07565,
           23,
           -6.662,
           155.449
          ],
          [
           "hin_BOU_A10",
           "hinesorum",
           "Papua New Guinea",
           "PG-NSB",
           "Bogenvil",
           0.07561,
           20,
           -6.662,
           155.449
          ],
          [
           "hin_BOU_A3",
           "hinesorum",
           "Papua New Guinea",
           "PG-NSB",
           "Bogenvil",
           0.07545,
           13,
           -6.662,
           155.449
          ],
          [
           "hin_BOU_A5",
           "hinesorum",
           "Papua New Guinea",
           "PG-NSB",
           "Bogenvil",
           0.07558,
           21,
           -6.662,
           155.449
          ],
          [
           "hin_BOU_A_6",
           "hinesorum",
           "Papua New Guinea",
           "PG-NSB",
           "Bogenvil",
           0.07554,
           19,
           -6.662,
           155.449
          ],
          [
           "hin_BOU_F2_BOU8",
           "hinesorum",
           "Papua New Guinea",
           "PG-NSB",
           "Bogenvil",
           0.07571,
           39,
           -6.669,
           155.472
          ],
          [
           "hin_BOU_T10",
           "hinesorum",
           "Papua New Guinea",
           "PG-NSB",
           "Bogenvil",
           0.07546,
           19,
           -6.669,
           155.472
          ],
          [
           "hin_BOU_T6",
           "hinesorum",
           "Papua New Guinea",
           "PG-NSB",
           "Bogenvil",
           0.07548,
           21,
           -6.669,
           155.472
          ],
          [
           "hin_BOU_T7",
           "hinesorum",
           "Papua New Guinea",
           "PG-NSB",
           "Bogenvil",
           0.0756,
           20,
           -6.669,
           155.472
          ],
          [
           "hin_BOU_T9",
           "hinesorum",
           "Papua New Guinea",
           "PG-NSB",
           "Bogenvil",
           0.07568,
           23,
           -6.669,
           155.472
          ],
          [
           "hin_BOU_T_5",
           "hinesorum",
           "Papua New Guinea",
           "PG-NSB",
           "Bogenvil",
           0.07545,
           20,
           -6.669,
           155.472
          ]
         ],
         "hovertemplate": "admin1_iso=%{customdata[3]}<br>PC1=%{x}<br>PC2=%{y}<br>derived_sample_id=%{customdata[0]}<br>species=%{customdata[1]}<br>country=%{customdata[2]}<br>admin1_name=%{customdata[4]}<br>divergence=%{customdata[5]}<br>median_cov=%{customdata[6]}<br>latitude=%{customdata[7]}<br>longitude=%{customdata[8]}<extra></extra>",
         "legendgroup": "PG-NSB",
         "marker": {
          "color": "#1F77B4",
          "symbol": "circle"
         },
         "mode": "markers",
         "name": "PG-NSB",
         "orientation": "v",
         "showlegend": true,
         "type": "scatter",
         "x": {
          "bdata": "Iy2VtyOaYcCVfVcE/6NhwDwUBfpEpGHANGjon+CHYcDvchHfiaRhwHy45LhTmmHAxY8xdy2XYcCcpzrkZphhwH41Bwjmd2HA4syv5gCbYcAEIVnABJBhwA==",
          "dtype": "f8"
         },
         "xaxis": "x",
         "y": {
          "bdata": "qvHSTWJQcMDzPLg766hwwJ4pdF5jsXDAih9j7loRcMAw2A3bFlhwwKJ6a2CrTnDAaJHtfL81cMA1QdR9AE9wwCAMPPce/G/AIGPuWsJ5cMD+Zffk4TJwwA==",
          "dtype": "f8"
         },
         "yaxis": "y"
        },
        {
         "customdata": [
          [
           "hin_PP_97_89_13",
           "hinesorum",
           "Papua New Guinea",
           "PG-CPM",
           "Sentral",
           0.07513,
           26,
           -9.397,
           147.471
          ],
          [
           "hin_PP_97_89_7",
           "hinesorum",
           "Papua New Guinea",
           "PG-CPM",
           "Sentral",
           0.07522,
           24,
           -9.397,
           147.471
          ]
         ],
         "hovertemplate": "admin1_iso=%{customdata[3]}<br>PC1=%{x}<br>PC2=%{y}<br>derived_sample_id=%{customdata[0]}<br>species=%{customdata[1]}<br>country=%{customdata[2]}<br>admin1_name=%{customdata[4]}<br>divergence=%{customdata[5]}<br>median_cov=%{customdata[6]}<br>latitude=%{customdata[7]}<br>longitude=%{customdata[8]}<extra></extra>",
         "legendgroup": "PG-CPM",
         "marker": {
          "color": "#FF7F0E",
          "symbol": "circle"
         },
         "mode": "markers",
         "name": "PG-CPM",
         "orientation": "v",
         "showlegend": true,
         "type": "scatter",
         "x": {
          "bdata": "d4TTghfzXcAkufyH9MVdwA==",
          "dtype": "f8"
         },
         "xaxis": "x",
         "y": {
          "bdata": "5C1XPzYtU0ASoKaWrRFTQA==",
          "dtype": "f8"
         },
         "yaxis": "y"
        },
        {
         "customdata": [
          [
           "hin_PP_98_8_6",
           "hinesorum",
           "Papua New Guinea",
           "PG-GPK",
           "Galf",
           0.07525,
           24,
           -7.8,
           146.443
          ],
          [
           "hin_PP_98_8_7",
           "hinesorum",
           "Papua New Guinea",
           "PG-GPK",
           "Galf",
           0.07512,
           36,
           -7.8,
           146.443
          ],
          [
           "hin_PP_f2_98_8_1b",
           "hinesorum",
           "Papua New Guinea",
           "PG-GPK",
           "Galf",
           0.07514,
           30,
           -7.8,
           146.443
          ],
          [
           "hin_PP_f2_98_8_2",
           "hinesorum",
           "Papua New Guinea",
           "PG-GPK",
           "Galf",
           0.0753,
           27,
           -7.8,
           146.443
          ],
          [
           "hin_PP_f2_98_8_3",
           "hinesorum",
           "Papua New Guinea",
           "PG-GPK",
           "Galf",
           0.07526,
           28,
           -7.8,
           146.443
          ],
          [
           "hin_PP_f2_98_8_4",
           "hinesorum",
           "Papua New Guinea",
           "PG-GPK",
           "Galf",
           0.07506,
           28,
           -7.8,
           146.443
          ],
          [
           "hin_PP_f2_98_8_5",
           "hinesorum",
           "Papua New Guinea",
           "PG-GPK",
           "Galf",
           0.0753,
           24,
           -7.8,
           146.443
          ],
          [
           "hin_cNG-7-10",
           "hinesorum",
           "Papua New Guinea",
           "PG-GPK",
           "Galf",
           0.07746,
           30,
           -7.863,
           146.391
          ],
          [
           "hin_cNG-7-2",
           "hinesorum",
           "Papua New Guinea",
           "PG-GPK",
           "Galf",
           0.07731,
           22,
           -7.863,
           146.391
          ],
          [
           "hin_cNG-7-6",
           "hinesorum",
           "Papua New Guinea",
           "PG-GPK",
           "Galf",
           0.07742,
           21,
           -7.863,
           146.391
          ],
          [
           "hin_cNG-7-9",
           "hinesorum",
           "Papua New Guinea",
           "PG-GPK",
           "Galf",
           0.07749,
           30,
           -7.863,
           146.391
          ],
          [
           "hin_cNG-8-4",
           "hinesorum",
           "Papua New Guinea",
           "PG-GPK",
           "Galf",
           0.07748,
           27,
           -7.8,
           146.443
          ],
          [
           "hin_cNG-8-8",
           "hinesorum",
           "Papua New Guinea",
           "PG-GPK",
           "Galf",
           0.07742,
           23,
           -7.8,
           146.443
          ],
          [
           "hin_cNG-8-9",
           "hinesorum",
           "Papua New Guinea",
           "PG-GPK",
           "Galf",
           0.07748,
           22,
           -7.8,
           146.443
          ],
          [
           "hin_cNG-9-10",
           "hinesorum",
           "Papua New Guinea",
           "PG-GPK",
           "Galf",
           0.07516,
           37,
           -7.748,
           146.43
          ],
          [
           "hin_cNG-9-7",
           "hinesorum",
           "Papua New Guinea",
           "PG-GPK",
           "Galf",
           0.07515,
           34,
           -7.748,
           146.43
          ],
          [
           "hin_cNG-9-9",
           "hinesorum",
           "Papua New Guinea",
           "PG-GPK",
           "Galf",
           0.07516,
           30,
           -7.748,
           146.43
          ],
          [
           "hin_cNG_94_118_2",
           "hinesorum",
           "Papua New Guinea",
           "PG-GPK",
           "Galf",
           0.07748,
           18,
           -7.137,
           143.997
          ],
          [
           "hin_cNG_94_118_3",
           "hinesorum",
           "Papua New Guinea",
           "PG-GPK",
           "Galf",
           0.07745,
           19,
           -7.137,
           143.997
          ],
          [
           "hin_cNG_94_97_3",
           "hinesorum",
           "Papua New Guinea",
           "PG-GPK",
           "Galf",
           0.07743,
           26,
           -7.137,
           143.997
          ]
         ],
         "hovertemplate": "admin1_iso=%{customdata[3]}<br>PC1=%{x}<br>PC2=%{y}<br>derived_sample_id=%{customdata[0]}<br>species=%{customdata[1]}<br>country=%{customdata[2]}<br>admin1_name=%{customdata[4]}<br>divergence=%{customdata[5]}<br>median_cov=%{customdata[6]}<br>latitude=%{customdata[7]}<br>longitude=%{customdata[8]}<extra></extra>",
         "legendgroup": "PG-GPK",
         "marker": {
          "color": "#2CA02C",
          "symbol": "circle"
         },
         "mode": "markers",
         "name": "PG-GPK",
         "orientation": "v",
         "showlegend": true,
         "type": "scatter",
         "x": {
          "bdata": "kSdJ10xGXcC3XWiu04hdwBB6Nqs+KV3AzEV8J2aNXcApJm+AmTVdwFNYqaCinl3AHm0csRadXcB7Tnrf+LZpQDqSy39IjGVA5A8GnntwaUCkcD0K10hpQGCTNeoh5GlAoijQJ/KKaUDqz36kiKhpQNpVSPlJv13ANgLxun45XcDKplzhXZFdwKciFcYWy2lAoijQJ/J+aUBangd3Z3dpQA==",
          "dtype": "f8"
         },
         "xaxis": "x",
         "y": {
          "bdata": "7GmHvyZGUkB7gy9MprhSQC2yne+nqlJA9KYiFcZOUkCztb5IaGdSQFJJnYAm01JA+Q/pt6+7UkAqDet8LnkewLF2ylmOBg7A0f6snjjdHcAK16NwPfocwIAr2bERCB/AyAkTRrNCHcBYyFwZVAsfwCO+E7NeblJAVfZdEfxPUkASTgte9GxSQEeQSrGjwR7A2toMgW1eHsCCN6RRgYMewA==",
          "dtype": "f8"
         },
         "yaxis": "y"
        },
        {
         "customdata": [
          [
           "hin_PP_CP113_4",
           "hinesorum",
           "Papua New Guinea",
           "PG-MBA",
           "Milen Be",
           0.07503,
           20,
           -9.629,
           147.551
          ],
          [
           "hin_PP_CP94_1",
           "hinesorum",
           "Papua New Guinea",
           "PG-MBA",
           "Milen Be",
           0.0749,
           13,
           -10.204,
           149.695
          ],
          [
           "hin_PP_CP98_100_39",
           "hinesorum",
           "Papua New Guinea",
           "PG-MBA",
           "Milen Be",
           0.075,
           21,
           -10.383,
           150.322
          ],
          [
           "hin_PP_f2_98_89_11",
           "hinesorum",
           "Papua New Guinea",
           "PG-MBA",
           "Milen Be",
           0.07522,
           27,
           -10.201,
           150.355
          ],
          [
           "hin_PP_f2_98_89_14",
           "hinesorum",
           "Papua New Guinea",
           "PG-MBA",
           "Milen Be",
           0.07526,
           32,
           -10.201,
           150.355
          ],
          [
           "hin_PP_f2_98_89_21",
           "hinesorum",
           "Papua New Guinea",
           "PG-MBA",
           "Milen Be",
           0.07516,
           27,
           -10.201,
           150.355
          ],
          [
           "hin_PP_f2_98_89_2b",
           "hinesorum",
           "Papua New Guinea",
           "PG-MBA",
           "Milen Be",
           0.07515,
           35,
           -10.201,
           150.355
          ],
          [
           "hin_PP_f2_98_89_8",
           "hinesorum",
           "Papua New Guinea",
           "PG-MBA",
           "Milen Be",
           0.07515,
           32,
           -10.201,
           150.355
          ]
         ],
         "hovertemplate": "admin1_iso=%{customdata[3]}<br>PC1=%{x}<br>PC2=%{y}<br>derived_sample_id=%{customdata[0]}<br>species=%{customdata[1]}<br>country=%{customdata[2]}<br>admin1_name=%{customdata[4]}<br>divergence=%{customdata[5]}<br>median_cov=%{customdata[6]}<br>latitude=%{customdata[7]}<br>longitude=%{customdata[8]}<extra></extra>",
         "legendgroup": "PG-MBA",
         "marker": {
          "color": "#D62728",
          "symbol": "circle"
         },
         "mode": "markers",
         "name": "PG-MBA",
         "orientation": "v",
         "showlegend": true,
         "type": "scatter",
         "x": {
          "bdata": "QMHFihrgXcAvo1huaRdawO7O2m0XTl3AcM6I0t7QXsAJUFPL1uZdwJXUCWgi5l3Ah22LMhuyXcAYCW05l8RewA==",
          "dtype": "f8"
         },
         "xaxis": "x",
         "y": {
          "bdata": "b2Qe+YO3UkDwh5//HtBFQL99HThnPlJAcLa5MT11VEBFDaZh+K9TQLVPx2MGUlNARwN4CyR4U0D7V1aalNRUQA==",
          "dtype": "f8"
         },
         "yaxis": "y"
        },
        {
         "customdata": [
          [
           "hin_PP_CP119_1",
           "hinesorum",
           "Papua New Guinea",
           "PG-NPP",
           "Oro",
           0.07411,
           11,
           -8.575,
           147.957
          ]
         ],
         "hovertemplate": "admin1_iso=%{customdata[3]}<br>PC1=%{x}<br>PC2=%{y}<br>derived_sample_id=%{customdata[0]}<br>species=%{customdata[1]}<br>country=%{customdata[2]}<br>admin1_name=%{customdata[4]}<br>divergence=%{customdata[5]}<br>median_cov=%{customdata[6]}<br>latitude=%{customdata[7]}<br>longitude=%{customdata[8]}<extra></extra>",
         "legendgroup": "PG-NPP",
         "marker": {
          "color": "#9467BD",
          "symbol": "circle"
         },
         "mode": "markers",
         "name": "PG-NPP",
         "orientation": "v",
         "showlegend": true,
         "type": "scatter",
         "x": {
          "bdata": "c0urIXF8XcA=",
          "dtype": "f8"
         },
         "xaxis": "x",
         "y": {
          "bdata": "mdNlMbF3UkA=",
          "dtype": "f8"
         },
         "yaxis": "y"
        },
        {
         "customdata": [
          [
           "hin_cNG_94_109_2",
           "hinesorum",
           "Papua New Guinea",
           "PG-HLA",
           "Hela",
           0.07755,
           23,
           -6.205,
           143.011
          ],
          [
           "hin_cNG_94_109_5",
           "hinesorum",
           "Papua New Guinea",
           "PG-HLA",
           "Hela",
           0.07748,
           26,
           -6.205,
           143.011
          ],
          [
           "hin_cNG_94_109_6",
           "hinesorum",
           "Papua New Guinea",
           "PG-HLA",
           "Hela",
           0.07747,
           26,
           -6.205,
           143.011
          ],
          [
           "hin_cNG_f2_94_109_3",
           "hinesorum",
           "Papua New Guinea",
           "PG-HLA",
           "Hela",
           0.0776,
           24,
           -6.205,
           143.011
          ],
          [
           "hin_cNG_f2_94_109_7",
           "hinesorum",
           "Papua New Guinea",
           "PG-HLA",
           "Hela",
           0.07743,
           24,
           -6.205,
           143.011
          ],
          [
           "hin_cNG_f2_94_97_1",
           "hinesorum",
           "Papua New Guinea",
           "PG-HLA",
           "Hela",
           0.07745,
           20,
           -6.205,
           143.011
          ],
          [
           "hin_cNG_f2_94_97_7",
           "hinesorum",
           "Papua New Guinea",
           "PG-HLA",
           "Hela",
           0.07759,
           23,
           -6.205,
           143.011
          ],
          [
           "hin_sNG_WP66_4",
           "hinesorum",
           "Papua New Guinea",
           "PG-HLA",
           "Hela",
           0.07523,
           25,
           -6.122,
           141.294
          ]
         ],
         "hovertemplate": "admin1_iso=%{customdata[3]}<br>PC1=%{x}<br>PC2=%{y}<br>derived_sample_id=%{customdata[0]}<br>species=%{customdata[1]}<br>country=%{customdata[2]}<br>admin1_name=%{customdata[4]}<br>divergence=%{customdata[5]}<br>median_cov=%{customdata[6]}<br>latitude=%{customdata[7]}<br>longitude=%{customdata[8]}<extra></extra>",
         "legendgroup": "PG-HLA",
         "marker": {
          "color": "#8C564B",
          "symbol": "circle"
         },
         "mode": "markers",
         "name": "PG-HLA",
         "orientation": "v",
         "showlegend": true,
         "type": "scatter",
         "x": {
          "bdata": "YeC593CpaUBgzQGCOZhpQDDYDdsWpmlAn3HhQEiYaUA0uoPYmaNpQE+Srpl8lmlAL8A+OnV/aUC1VN6OcJhZwA==",
          "dtype": "f8"
         },
         "xaxis": "x",
         "y": {
          "bdata": "iNaKNsdJHsBRWm4fqCkewHXMeca+xB7AcyzvqgfsHsDAriZPWU0fwEZZZOAl9R7AXiOTncg9HsAT7pV5q34+QA==",
          "dtype": "f8"
         },
         "yaxis": "y"
        },
        {
         "customdata": [
          [
           "hin_cNG_94_113_2",
           "hinesorum",
           "Papua New Guinea",
           "PG-SHM",
           "Sauten Hailans",
           0.07762,
           21,
           -6.793,
           143.635
          ],
          [
           "hin_cNG_94_113_6",
           "hinesorum",
           "Papua New Guinea",
           "PG-SHM",
           "Sauten Hailans",
           0.07748,
           24,
           -6.793,
           143.635
          ],
          [
           "hin_cNG_94_118_1",
           "hinesorum",
           "Papua New Guinea",
           "PG-SHM",
           "Sauten Hailans",
           0.07751,
           22,
           -6.793,
           143.635
          ],
          [
           "hin_cNG_94_97_5",
           "hinesorum",
           "Papua New Guinea",
           "PG-SHM",
           "Sauten Hailans",
           0.07749,
           24,
           -6.468,
           142.837
          ],
          [
           "hin_cNG_94_97_9",
           "hinesorum",
           "Papua New Guinea",
           "PG-SHM",
           "Sauten Hailans",
           0.0775,
           20,
           -6.468,
           142.837
          ]
         ],
         "hovertemplate": "admin1_iso=%{customdata[3]}<br>PC1=%{x}<br>PC2=%{y}<br>derived_sample_id=%{customdata[0]}<br>species=%{customdata[1]}<br>country=%{customdata[2]}<br>admin1_name=%{customdata[4]}<br>divergence=%{customdata[5]}<br>median_cov=%{customdata[6]}<br>latitude=%{customdata[7]}<br>longitude=%{customdata[8]}<extra></extra>",
         "legendgroup": "PG-SHM",
         "marker": {
          "color": "#E377C2",
          "symbol": "circle"
         },
         "mode": "markers",
         "name": "PG-SHM",
         "orientation": "v",
         "showlegend": true,
         "type": "scatter",
         "x": {
          "bdata": "h9wMN+CQaUDarPpcbXRpQA9FgT6RmGlAMiB7vftYaUAmAWpq2ctpQA==",
          "dtype": "f8"
         },
         "xaxis": "x",
         "y": {
          "bdata": "odY07zilHcCIQnABDcMdwC5OxkK+1R7Ahj6zf/kHHcBwfO2ZJTEfwA==",
          "dtype": "f8"
         },
         "yaxis": "y"
        },
        {
         "customdata": [
          [
           "hin_nNG_MP-76-2",
           "hinesorum",
           "Papua New Guinea",
           "PG-ESW",
           "Is Sepik",
           0.07799,
           29,
           -4.07,
           143.256
          ],
          [
           "hin_nNG_MP-76-4",
           "hinesorum",
           "Papua New Guinea",
           "PG-ESW",
           "Is Sepik",
           0.07784,
           30,
           -4.07,
           143.256
          ],
          [
           "hin_nNG_MP76_3",
           "hinesorum",
           "Papua New Guinea",
           "PG-ESW",
           "Is Sepik",
           0.07776,
           19,
           -4.07,
           143.256
          ],
          [
           "hin_nNG_SR-Nal16",
           "hinesorum",
           "Papua New Guinea",
           "PG-ESW",
           "Is Sepik",
           0.07785,
           21,
           -3.782,
           143.05
          ],
          [
           "hin_nNG_SR-Nal2",
           "hinesorum",
           "Papua New Guinea",
           "PG-ESW",
           "Is Sepik",
           0.07786,
           24,
           -3.782,
           143.05
          ],
          [
           "hin_nNG_SR93-R93K",
           "hinesorum",
           "Papua New Guinea",
           "PG-ESW",
           "Is Sepik",
           0.07789,
           20,
           -3.865,
           144.065
          ]
         ],
         "hovertemplate": "admin1_iso=%{customdata[3]}<br>PC1=%{x}<br>PC2=%{y}<br>derived_sample_id=%{customdata[0]}<br>species=%{customdata[1]}<br>country=%{customdata[2]}<br>admin1_name=%{customdata[4]}<br>divergence=%{customdata[5]}<br>median_cov=%{customdata[6]}<br>latitude=%{customdata[7]}<br>longitude=%{customdata[8]}<extra></extra>",
         "legendgroup": "PG-ESW",
         "marker": {
          "color": "#7F7F7F",
          "symbol": "circle"
         },
         "mode": "markers",
         "name": "PG-ESW",
         "orientation": "v",
         "showlegend": true,
         "type": "scatter",
         "x": {
          "bdata": "jNtoAG/OZkDJsIo3MtBmQMl2vp8anWZAwt1Zu+1zZkCazk4GR3ZmQBE2PL1STGZA",
          "dtype": "f8"
         },
         "xaxis": "x",
         "y": {
          "bdata": "1kfxO5cDB8C6zPre8JwJwKH+aVmtQgnAqB8v/3xWCMC5lE5/Uf0FwFNeK6G7JAvA",
          "dtype": "f8"
         },
         "yaxis": "y"
        },
        {
         "customdata": [
          [
           "hin_nPP_4-169",
           "hinesorum",
           "Papua New Guinea",
           "PG-MPL",
           "Morobe",
           0.07493,
           26,
           -6.206,
           147.672
          ]
         ],
         "hovertemplate": "admin1_iso=%{customdata[3]}<br>PC1=%{x}<br>PC2=%{y}<br>derived_sample_id=%{customdata[0]}<br>species=%{customdata[1]}<br>country=%{customdata[2]}<br>admin1_name=%{customdata[4]}<br>divergence=%{customdata[5]}<br>median_cov=%{customdata[6]}<br>latitude=%{customdata[7]}<br>longitude=%{customdata[8]}<extra></extra>",
         "legendgroup": "PG-MPL",
         "marker": {
          "color": "#BCBD22",
          "symbol": "circle"
         },
         "mode": "markers",
         "name": "PG-MPL",
         "orientation": "v",
         "showlegend": true,
         "type": "scatter",
         "x": {
          "bdata": "K9mxEYgtXcA=",
          "dtype": "f8"
         },
         "xaxis": "x",
         "y": {
          "bdata": "N8MN+PxmUkA=",
          "dtype": "f8"
         },
         "yaxis": "y"
        },
        {
         "customdata": [
          [
           "hin_nPP_BO132_1",
           "hinesorum",
           "Papua New Guinea",
           "PG-MPM",
           "Madang",
           0.07776,
           21,
           -5.769,
           145.592
          ],
          [
           "hin_nPP_BO132_10",
           "hinesorum",
           "Papua New Guinea",
           "PG-MPM",
           "Madang",
           0.07783,
           21,
           -5.769,
           145.592
          ],
          [
           "hin_nPP_BO132_12",
           "hinesorum",
           "Papua New Guinea",
           "PG-MPM",
           "Madang",
           0.07782,
           22,
           -5.769,
           145.592
          ],
          [
           "hin_nPP_BO132_2",
           "hinesorum",
           "Papua New Guinea",
           "PG-MPM",
           "Madang",
           0.07781,
           21,
           -5.769,
           145.592
          ],
          [
           "hin_nPP_BO132_3",
           "hinesorum",
           "Papua New Guinea",
           "PG-MPM",
           "Madang",
           0.0778,
           23,
           -5.769,
           145.592
          ],
          [
           "hin_nPP_BO132_4",
           "hinesorum",
           "Papua New Guinea",
           "PG-MPM",
           "Madang",
           0.07778,
           22,
           -5.769,
           145.592
          ],
          [
           "hin_nPP_BO132_5",
           "hinesorum",
           "Papua New Guinea",
           "PG-MPM",
           "Madang",
           0.07776,
           25,
           -5.769,
           145.592
          ],
          [
           "hin_nPP_BO132_6",
           "hinesorum",
           "Papua New Guinea",
           "PG-MPM",
           "Madang",
           0.07782,
           23,
           -5.769,
           145.592
          ],
          [
           "hin_nPP_BO132_7",
           "hinesorum",
           "Papua New Guinea",
           "PG-MPM",
           "Madang",
           0.07805,
           25,
           -5.769,
           145.592
          ],
          [
           "hin_nPP_BO132_9",
           "hinesorum",
           "Papua New Guinea",
           "PG-MPM",
           "Madang",
           0.0778,
           23,
           -5.769,
           145.592
          ]
         ],
         "hovertemplate": "admin1_iso=%{customdata[3]}<br>PC1=%{x}<br>PC2=%{y}<br>derived_sample_id=%{customdata[0]}<br>species=%{customdata[1]}<br>country=%{customdata[2]}<br>admin1_name=%{customdata[4]}<br>divergence=%{customdata[5]}<br>median_cov=%{customdata[6]}<br>latitude=%{customdata[7]}<br>longitude=%{customdata[8]}<extra></extra>",
         "legendgroup": "PG-MPM",
         "marker": {
          "color": "#17BECF",
          "symbol": "circle"
         },
         "mode": "markers",
         "name": "PG-MPM",
         "orientation": "v",
         "showlegend": true,
         "type": "scatter",
         "x": {
          "bdata": "l/+QfvuDaEAUBfpEnotmQAkbnl4pUGhApdqn4zFoaEBQU8vW+olmQPNZngd3j2hAL6hvmdOWaEBqh78ma25oQKHzGrtEl2hAdv2C3bCAaEA=",
          "dtype": "f8"
         },
         "xaxis": "x",
         "y": {
          "bdata": "Nta0QdxbEMA/HvruVlYJwPoI/OHnnxHACsCaXr2tEsB6RmzBnFoHwI/Ey9O5QhDAmQaPgBtzEMAJUb6ghRQRwI59JID2Pg/AH82iwbdaEcA=",
          "dtype": "f8"
         },
         "yaxis": "y"
        },
        {
         "customdata": [
          [
           "hin_sNG_92_27_12",
           "hinesorum",
           "Papua New Guinea",
           "PG-WPD",
           "Westen",
           0.07536,
           25,
           -8.074,
           141.75
          ],
          [
           "hin_sNG_92_62_1",
           "hinesorum",
           "Papua New Guinea",
           "PG-WPD",
           "Westen",
           0.07531,
           26,
           -6.317,
           141.025
          ],
          [
           "hin_sNG_92_62_2",
           "hinesorum",
           "Papua New Guinea",
           "PG-WPD",
           "Westen",
           0.07519,
           25,
           -6.317,
           141.025
          ],
          [
           "hin_sNG_92_62_4",
           "hinesorum",
           "Papua New Guinea",
           "PG-WPD",
           "Westen",
           0.07523,
           28,
           -6.317,
           141.025
          ],
          [
           "hin_sNG_92_62_7",
           "hinesorum",
           "Papua New Guinea",
           "PG-WPD",
           "Westen",
           0.0751,
           23,
           -6.317,
           141.025
          ],
          [
           "hin_sNG_f2_92_27_10",
           "hinesorum",
           "Papua New Guinea",
           "PG-WPD",
           "Westen",
           0.07542,
           29,
           -8.074,
           141.75
          ],
          [
           "hin_sNG_f2_92_27_20",
           "hinesorum",
           "Papua New Guinea",
           "PG-WPD",
           "Westen",
           0.07576,
           35,
           -8.074,
           141.75
          ],
          [
           "hin_sNG_f2_92_27_4",
           "hinesorum",
           "Papua New Guinea",
           "PG-WPD",
           "Westen",
           0.07547,
           34,
           -8.074,
           141.75
          ],
          [
           "hin_sNG_f2_92_27_8",
           "hinesorum",
           "Papua New Guinea",
           "PG-WPD",
           "Westen",
           0.07577,
           29,
           -8.074,
           141.75
          ],
          [
           "hin_sNG_f2_92_41_2",
           "hinesorum",
           "Papua New Guinea",
           "PG-WPD",
           "Westen",
           0.07554,
           27,
           -7.182,
           141.248
          ],
          [
           "hin_sNG_f2_92_41_4",
           "hinesorum",
           "Papua New Guinea",
           "PG-WPD",
           "Westen",
           0.07546,
           32,
           -7.182,
           141.248
          ],
          [
           "hin_sNG_f2_92_41_7",
           "hinesorum",
           "Papua New Guinea",
           "PG-WPD",
           "Westen",
           0.07553,
           28,
           -7.182,
           141.248
          ],
          [
           "hin_sNG_f2_92_41_8",
           "hinesorum",
           "Papua New Guinea",
           "PG-WPD",
           "Westen",
           0.07542,
           29,
           -7.182,
           141.248
          ],
          [
           "hin_sNG_f2_92_41_9",
           "hinesorum",
           "Papua New Guinea",
           "PG-WPD",
           "Westen",
           0.07527,
           30,
           -7.182,
           141.248
          ],
          [
           "hin_sNG_f2_92_62_3",
           "hinesorum",
           "Papua New Guinea",
           "PG-WPD",
           "Westen",
           0.07518,
           30,
           -7.182,
           141.248
          ]
         ],
         "hovertemplate": "admin1_iso=%{customdata[3]}<br>PC1=%{x}<br>PC2=%{y}<br>derived_sample_id=%{customdata[0]}<br>species=%{customdata[1]}<br>country=%{customdata[2]}<br>admin1_name=%{customdata[4]}<br>divergence=%{customdata[5]}<br>median_cov=%{customdata[6]}<br>latitude=%{customdata[7]}<br>longitude=%{customdata[8]}<extra></extra>",
         "legendgroup": "PG-WPD",
         "marker": {
          "color": "#1F77B4",
          "symbol": "circle"
         },
         "mode": "markers",
         "name": "PG-WPD",
         "orientation": "v",
         "showlegend": true,
         "type": "scatter",
         "x": {
          "bdata": "qU2c3O9YWcAPtAJDVl1awLvyWZ4HVVnAUiy3tBoMWsABTYQNTxlawHuDL0ymulnA6Ugu/yGQWcC+E7NeDCJawBnFckura1nAls/yPLiFWsD67evAOW1awHicoiO5FlrAy4XKv5Y9WsBp44i1+CRZwGtgqwSL6VnA",
          "dtype": "f8"
         },
         "xaxis": "x",
         "y": {
          "bdata": "QpQvaCHRP0BSuB6F68lCQCtoWmJltD5Az9ptF5r7QkDuk6MAUQRDQO2ZJQFqMEBAxuBh2jeDPkBRvqCFBCg/QFVNEHUfkD5AbQN3oE5NQEAoucMmMms+QNOjqZ7Md0BADJBoAkV8QECWd9UD5htAQAE1tWyt40FA",
          "dtype": "f8"
         },
         "yaxis": "y"
        }
       ],
       "layout": {
        "height": 500,
        "legend": {
         "title": {
          "text": "admin1_iso"
         },
         "tracegroupgap": 0
        },
        "margin": {
         "t": 60
        },
        "template": {
         "data": {
          "bar": [
           {
            "error_x": {
             "color": "rgb(36,36,36)"
            },
            "error_y": {
             "color": "rgb(36,36,36)"
            },
            "marker": {
             "line": {
              "color": "white",
              "width": 0.5
             },
             "pattern": {
              "fillmode": "overlay",
              "size": 10,
              "solidity": 0.2
             }
            },
            "type": "bar"
           }
          ],
          "barpolar": [
           {
            "marker": {
             "line": {
              "color": "white",
              "width": 0.5
             },
             "pattern": {
              "fillmode": "overlay",
              "size": 10,
              "solidity": 0.2
             }
            },
            "type": "barpolar"
           }
          ],
          "carpet": [
           {
            "aaxis": {
             "endlinecolor": "rgb(36,36,36)",
             "gridcolor": "white",
             "linecolor": "white",
             "minorgridcolor": "white",
             "startlinecolor": "rgb(36,36,36)"
            },
            "baxis": {
             "endlinecolor": "rgb(36,36,36)",
             "gridcolor": "white",
             "linecolor": "white",
             "minorgridcolor": "white",
             "startlinecolor": "rgb(36,36,36)"
            },
            "type": "carpet"
           }
          ],
          "choropleth": [
           {
            "colorbar": {
             "outlinewidth": 1,
             "tickcolor": "rgb(36,36,36)",
             "ticks": "outside"
            },
            "type": "choropleth"
           }
          ],
          "contour": [
           {
            "colorbar": {
             "outlinewidth": 1,
             "tickcolor": "rgb(36,36,36)",
             "ticks": "outside"
            },
            "colorscale": [
             [
              0,
              "#440154"
             ],
             [
              0.1111111111111111,
              "#482878"
             ],
             [
              0.2222222222222222,
              "#3e4989"
             ],
             [
              0.3333333333333333,
              "#31688e"
             ],
             [
              0.4444444444444444,
              "#26828e"
             ],
             [
              0.5555555555555556,
              "#1f9e89"
             ],
             [
              0.6666666666666666,
              "#35b779"
             ],
             [
              0.7777777777777778,
              "#6ece58"
             ],
             [
              0.8888888888888888,
              "#b5de2b"
             ],
             [
              1,
              "#fde725"
             ]
            ],
            "type": "contour"
           }
          ],
          "contourcarpet": [
           {
            "colorbar": {
             "outlinewidth": 1,
             "tickcolor": "rgb(36,36,36)",
             "ticks": "outside"
            },
            "type": "contourcarpet"
           }
          ],
          "heatmap": [
           {
            "colorbar": {
             "outlinewidth": 1,
             "tickcolor": "rgb(36,36,36)",
             "ticks": "outside"
            },
            "colorscale": [
             [
              0,
              "#440154"
             ],
             [
              0.1111111111111111,
              "#482878"
             ],
             [
              0.2222222222222222,
              "#3e4989"
             ],
             [
              0.3333333333333333,
              "#31688e"
             ],
             [
              0.4444444444444444,
              "#26828e"
             ],
             [
              0.5555555555555556,
              "#1f9e89"
             ],
             [
              0.6666666666666666,
              "#35b779"
             ],
             [
              0.7777777777777778,
              "#6ece58"
             ],
             [
              0.8888888888888888,
              "#b5de2b"
             ],
             [
              1,
              "#fde725"
             ]
            ],
            "type": "heatmap"
           }
          ],
          "histogram": [
           {
            "marker": {
             "line": {
              "color": "white",
              "width": 0.6
             }
            },
            "type": "histogram"
           }
          ],
          "histogram2d": [
           {
            "colorbar": {
             "outlinewidth": 1,
             "tickcolor": "rgb(36,36,36)",
             "ticks": "outside"
            },
            "colorscale": [
             [
              0,
              "#440154"
             ],
             [
              0.1111111111111111,
              "#482878"
             ],
             [
              0.2222222222222222,
              "#3e4989"
             ],
             [
              0.3333333333333333,
              "#31688e"
             ],
             [
              0.4444444444444444,
              "#26828e"
             ],
             [
              0.5555555555555556,
              "#1f9e89"
             ],
             [
              0.6666666666666666,
              "#35b779"
             ],
             [
              0.7777777777777778,
              "#6ece58"
             ],
             [
              0.8888888888888888,
              "#b5de2b"
             ],
             [
              1,
              "#fde725"
             ]
            ],
            "type": "histogram2d"
           }
          ],
          "histogram2dcontour": [
           {
            "colorbar": {
             "outlinewidth": 1,
             "tickcolor": "rgb(36,36,36)",
             "ticks": "outside"
            },
            "colorscale": [
             [
              0,
              "#440154"
             ],
             [
              0.1111111111111111,
              "#482878"
             ],
             [
              0.2222222222222222,
              "#3e4989"
             ],
             [
              0.3333333333333333,
              "#31688e"
             ],
             [
              0.4444444444444444,
              "#26828e"
             ],
             [
              0.5555555555555556,
              "#1f9e89"
             ],
             [
              0.6666666666666666,
              "#35b779"
             ],
             [
              0.7777777777777778,
              "#6ece58"
             ],
             [
              0.8888888888888888,
              "#b5de2b"
             ],
             [
              1,
              "#fde725"
             ]
            ],
            "type": "histogram2dcontour"
           }
          ],
          "mesh3d": [
           {
            "colorbar": {
             "outlinewidth": 1,
             "tickcolor": "rgb(36,36,36)",
             "ticks": "outside"
            },
            "type": "mesh3d"
           }
          ],
          "parcoords": [
           {
            "line": {
             "colorbar": {
              "outlinewidth": 1,
              "tickcolor": "rgb(36,36,36)",
              "ticks": "outside"
             }
            },
            "type": "parcoords"
           }
          ],
          "pie": [
           {
            "automargin": true,
            "type": "pie"
           }
          ],
          "scatter": [
           {
            "fillpattern": {
             "fillmode": "overlay",
             "size": 10,
             "solidity": 0.2
            },
            "type": "scatter"
           }
          ],
          "scatter3d": [
           {
            "line": {
             "colorbar": {
              "outlinewidth": 1,
              "tickcolor": "rgb(36,36,36)",
              "ticks": "outside"
             }
            },
            "marker": {
             "colorbar": {
              "outlinewidth": 1,
              "tickcolor": "rgb(36,36,36)",
              "ticks": "outside"
             }
            },
            "type": "scatter3d"
           }
          ],
          "scattercarpet": [
           {
            "marker": {
             "colorbar": {
              "outlinewidth": 1,
              "tickcolor": "rgb(36,36,36)",
              "ticks": "outside"
             }
            },
            "type": "scattercarpet"
           }
          ],
          "scattergeo": [
           {
            "marker": {
             "colorbar": {
              "outlinewidth": 1,
              "tickcolor": "rgb(36,36,36)",
              "ticks": "outside"
             }
            },
            "type": "scattergeo"
           }
          ],
          "scattergl": [
           {
            "marker": {
             "colorbar": {
              "outlinewidth": 1,
              "tickcolor": "rgb(36,36,36)",
              "ticks": "outside"
             }
            },
            "type": "scattergl"
           }
          ],
          "scattermap": [
           {
            "marker": {
             "colorbar": {
              "outlinewidth": 1,
              "tickcolor": "rgb(36,36,36)",
              "ticks": "outside"
             }
            },
            "type": "scattermap"
           }
          ],
          "scattermapbox": [
           {
            "marker": {
             "colorbar": {
              "outlinewidth": 1,
              "tickcolor": "rgb(36,36,36)",
              "ticks": "outside"
             }
            },
            "type": "scattermapbox"
           }
          ],
          "scatterpolar": [
           {
            "marker": {
             "colorbar": {
              "outlinewidth": 1,
              "tickcolor": "rgb(36,36,36)",
              "ticks": "outside"
             }
            },
            "type": "scatterpolar"
           }
          ],
          "scatterpolargl": [
           {
            "marker": {
             "colorbar": {
              "outlinewidth": 1,
              "tickcolor": "rgb(36,36,36)",
              "ticks": "outside"
             }
            },
            "type": "scatterpolargl"
           }
          ],
          "scatterternary": [
           {
            "marker": {
             "colorbar": {
              "outlinewidth": 1,
              "tickcolor": "rgb(36,36,36)",
              "ticks": "outside"
             }
            },
            "type": "scatterternary"
           }
          ],
          "surface": [
           {
            "colorbar": {
             "outlinewidth": 1,
             "tickcolor": "rgb(36,36,36)",
             "ticks": "outside"
            },
            "colorscale": [
             [
              0,
              "#440154"
             ],
             [
              0.1111111111111111,
              "#482878"
             ],
             [
              0.2222222222222222,
              "#3e4989"
             ],
             [
              0.3333333333333333,
              "#31688e"
             ],
             [
              0.4444444444444444,
              "#26828e"
             ],
             [
              0.5555555555555556,
              "#1f9e89"
             ],
             [
              0.6666666666666666,
              "#35b779"
             ],
             [
              0.7777777777777778,
              "#6ece58"
             ],
             [
              0.8888888888888888,
              "#b5de2b"
             ],
             [
              1,
              "#fde725"
             ]
            ],
            "type": "surface"
           }
          ],
          "table": [
           {
            "cells": {
             "fill": {
              "color": "rgb(237,237,237)"
             },
             "line": {
              "color": "white"
             }
            },
            "header": {
             "fill": {
              "color": "rgb(217,217,217)"
             },
             "line": {
              "color": "white"
             }
            },
            "type": "table"
           }
          ]
         },
         "layout": {
          "annotationdefaults": {
           "arrowhead": 0,
           "arrowwidth": 1
          },
          "autotypenumbers": "strict",
          "coloraxis": {
           "colorbar": {
            "outlinewidth": 1,
            "tickcolor": "rgb(36,36,36)",
            "ticks": "outside"
           }
          },
          "colorscale": {
           "diverging": [
            [
             0,
             "rgb(103,0,31)"
            ],
            [
             0.1,
             "rgb(178,24,43)"
            ],
            [
             0.2,
             "rgb(214,96,77)"
            ],
            [
             0.3,
             "rgb(244,165,130)"
            ],
            [
             0.4,
             "rgb(253,219,199)"
            ],
            [
             0.5,
             "rgb(247,247,247)"
            ],
            [
             0.6,
             "rgb(209,229,240)"
            ],
            [
             0.7,
             "rgb(146,197,222)"
            ],
            [
             0.8,
             "rgb(67,147,195)"
            ],
            [
             0.9,
             "rgb(33,102,172)"
            ],
            [
             1,
             "rgb(5,48,97)"
            ]
           ],
           "sequential": [
            [
             0,
             "#440154"
            ],
            [
             0.1111111111111111,
             "#482878"
            ],
            [
             0.2222222222222222,
             "#3e4989"
            ],
            [
             0.3333333333333333,
             "#31688e"
            ],
            [
             0.4444444444444444,
             "#26828e"
            ],
            [
             0.5555555555555556,
             "#1f9e89"
            ],
            [
             0.6666666666666666,
             "#35b779"
            ],
            [
             0.7777777777777778,
             "#6ece58"
            ],
            [
             0.8888888888888888,
             "#b5de2b"
            ],
            [
             1,
             "#fde725"
            ]
           ],
           "sequentialminus": [
            [
             0,
             "#440154"
            ],
            [
             0.1111111111111111,
             "#482878"
            ],
            [
             0.2222222222222222,
             "#3e4989"
            ],
            [
             0.3333333333333333,
             "#31688e"
            ],
            [
             0.4444444444444444,
             "#26828e"
            ],
            [
             0.5555555555555556,
             "#1f9e89"
            ],
            [
             0.6666666666666666,
             "#35b779"
            ],
            [
             0.7777777777777778,
             "#6ece58"
            ],
            [
             0.8888888888888888,
             "#b5de2b"
            ],
            [
             1,
             "#fde725"
            ]
           ]
          },
          "colorway": [
           "#1F77B4",
           "#FF7F0E",
           "#2CA02C",
           "#D62728",
           "#9467BD",
           "#8C564B",
           "#E377C2",
           "#7F7F7F",
           "#BCBD22",
           "#17BECF"
          ],
          "font": {
           "color": "rgb(36,36,36)"
          },
          "geo": {
           "bgcolor": "white",
           "lakecolor": "white",
           "landcolor": "white",
           "showlakes": true,
           "showland": true,
           "subunitcolor": "white"
          },
          "hoverlabel": {
           "align": "left"
          },
          "hovermode": "closest",
          "mapbox": {
           "style": "light"
          },
          "paper_bgcolor": "white",
          "plot_bgcolor": "white",
          "polar": {
           "angularaxis": {
            "gridcolor": "rgb(232,232,232)",
            "linecolor": "rgb(36,36,36)",
            "showgrid": false,
            "showline": true,
            "ticks": "outside"
           },
           "bgcolor": "white",
           "radialaxis": {
            "gridcolor": "rgb(232,232,232)",
            "linecolor": "rgb(36,36,36)",
            "showgrid": false,
            "showline": true,
            "ticks": "outside"
           }
          },
          "scene": {
           "xaxis": {
            "backgroundcolor": "white",
            "gridcolor": "rgb(232,232,232)",
            "gridwidth": 2,
            "linecolor": "rgb(36,36,36)",
            "showbackground": true,
            "showgrid": false,
            "showline": true,
            "ticks": "outside",
            "zeroline": false,
            "zerolinecolor": "rgb(36,36,36)"
           },
           "yaxis": {
            "backgroundcolor": "white",
            "gridcolor": "rgb(232,232,232)",
            "gridwidth": 2,
            "linecolor": "rgb(36,36,36)",
            "showbackground": true,
            "showgrid": false,
            "showline": true,
            "ticks": "outside",
            "zeroline": false,
            "zerolinecolor": "rgb(36,36,36)"
           },
           "zaxis": {
            "backgroundcolor": "white",
            "gridcolor": "rgb(232,232,232)",
            "gridwidth": 2,
            "linecolor": "rgb(36,36,36)",
            "showbackground": true,
            "showgrid": false,
            "showline": true,
            "ticks": "outside",
            "zeroline": false,
            "zerolinecolor": "rgb(36,36,36)"
           }
          },
          "shapedefaults": {
           "fillcolor": "black",
           "line": {
            "width": 0
           },
           "opacity": 0.3
          },
          "ternary": {
           "aaxis": {
            "gridcolor": "rgb(232,232,232)",
            "linecolor": "rgb(36,36,36)",
            "showgrid": false,
            "showline": true,
            "ticks": "outside"
           },
           "baxis": {
            "gridcolor": "rgb(232,232,232)",
            "linecolor": "rgb(36,36,36)",
            "showgrid": false,
            "showline": true,
            "ticks": "outside"
           },
           "bgcolor": "white",
           "caxis": {
            "gridcolor": "rgb(232,232,232)",
            "linecolor": "rgb(36,36,36)",
            "showgrid": false,
            "showline": true,
            "ticks": "outside"
           }
          },
          "title": {
           "x": 0.05
          },
          "xaxis": {
           "automargin": true,
           "gridcolor": "rgb(232,232,232)",
           "linecolor": "rgb(36,36,36)",
           "showgrid": false,
           "showline": true,
           "ticks": "outside",
           "title": {
            "standoff": 15
           },
           "zeroline": false,
           "zerolinecolor": "rgb(36,36,36)"
          },
          "yaxis": {
           "automargin": true,
           "gridcolor": "rgb(232,232,232)",
           "linecolor": "rgb(36,36,36)",
           "showgrid": false,
           "showline": true,
           "ticks": "outside",
           "title": {
            "standoff": 15
           },
           "zeroline": false,
           "zerolinecolor": "rgb(36,36,36)"
          }
         }
        },
        "width": 600,
        "xaxis": {
         "anchor": "y",
         "domain": [
          0,
          1
         ],
         "title": {
          "text": "PC1"
         }
        },
        "yaxis": {
         "anchor": "x",
         "domain": [
          0,
          1
         ],
         "title": {
          "text": "PC2"
         }
        }
       }
      },
      "image/png": "[encoded data removed]"
     },
     "metadata": {},
     "output_type": "display_data"
    }
   ],
   "source": [
    "model_all, evr_all = run_pca(contig = \"KI915040\", n_snps=50_000, sample_query = 'species_pca == \"hinesorum\" & country_iso == \"PG\"')\n",
    "plot_pca(model_all, evr_all, colourfac = 'admin1_iso')"
   ]
  },
  {
   "cell_type": "code",
   "execution_count": null,
   "id": "9015156b-43d2-4ee3-b499-a003b4563310",
   "metadata": {},
   "outputs": [],
   "source": []
  }
 ],
 "metadata": {
  "kernelspec": {
   "display_name": "far_hin_1.x",
   "language": "python",
   "name": "far_hin_1.x"
  },
  "language_info": {
   "codemirror_mode": {
    "name": "ipython",
    "version": 3
   },
   "file_extension": ".py",
   "mimetype": "text/x-python",
   "name": "python",
   "nbconvert_exporter": "python",
   "pygments_lexer": "ipython3",
   "version": "3.13.3"
  }
 },
 "nbformat": 4,
 "nbformat_minor": 5
}
