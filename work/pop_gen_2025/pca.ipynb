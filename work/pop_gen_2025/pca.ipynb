{
 "cells": [
  {
   "cell_type": "code",
   "execution_count": 21,
   "id": "025714cd-1297-4b67-b4b8-9cfe16006de2",
   "metadata": {},
   "outputs": [
    {
     "ename": "ModuleNotFoundError",
     "evalue": "No module named 'anjl'",
     "output_type": "error",
     "traceback": [
      "\u001b[0;31m---------------------------------------------------------------------------\u001b[0m",
      "\u001b[0;31mModuleNotFoundError\u001b[0m                       Traceback (most recent call last)",
      "Cell \u001b[0;32mIn[21], line 9\u001b[0m\n\u001b[1;32m      7\u001b[0m \u001b[38;5;28;01mimport\u001b[39;00m\u001b[38;5;250m \u001b[39m\u001b[38;5;21;01mseaborn\u001b[39;00m\u001b[38;5;250m \u001b[39m\u001b[38;5;28;01mas\u001b[39;00m\u001b[38;5;250m \u001b[39m\u001b[38;5;21;01msns\u001b[39;00m\n\u001b[1;32m      8\u001b[0m \u001b[38;5;28;01mfrom\u001b[39;00m\u001b[38;5;250m \u001b[39m\u001b[38;5;21;01mBio\u001b[39;00m\u001b[38;5;250m \u001b[39m\u001b[38;5;28;01mimport\u001b[39;00m SeqIO\n\u001b[0;32m----> 9\u001b[0m \u001b[38;5;28;01mimport\u001b[39;00m\u001b[38;5;250m \u001b[39m\u001b[38;5;21;01manjl\u001b[39;00m\n",
      "\u001b[0;31mModuleNotFoundError\u001b[0m: No module named 'anjl'"
     ]
    }
   ],
   "source": [
    "import allel\n",
    "import plotly.express as px\n",
    "import xarray as xr\n",
    "import numpy as np\n",
    "import pandas as pd\n",
    "import matplotlib.pyplot as plt\n",
    "import seaborn as sns\n",
    "from Bio import SeqIO"
   ]
  },
  {
   "cell_type": "code",
   "execution_count": 25,
   "id": "f48df93e-6569-4dc1-8b74-4d9b1d815bc8",
   "metadata": {},
   "outputs": [
    {
     "name": "stdout",
     "output_type": "stream",
     "text": [
      "\u001b[31mERROR: Ignored the following versions that require a different python version: 0.1.0 Requires-Python <3.13,>=3.10; 0.2.0 Requires-Python <3.13,>=3.10; 0.3.0 Requires-Python <3.13,>=3.10; 0.4.0 Requires-Python <3.13,>=3.10; 0.5.0 Requires-Python <3.13,>=3.10; 0.6.0 Requires-Python <3.13,>=3.10; 0.7.0 Requires-Python <3.13,>=3.10; 0.8.0 Requires-Python <3.13,>=3.10; 0.9.0 Requires-Python <3.13,>=3.10; 1.0.0 Requires-Python <3.13,>=3.10; 1.0.1 Requires-Python <3.13,>=3.10; 1.1.0 Requires-Python <3.13,>=3.10; 1.1.1 Requires-Python <3.13,>=3.10; 1.1.2 Requires-Python <3.13,>=3.10; 1.1.3 Requires-Python <3.13,>=3.10; 1.2.0 Requires-Python <3.13,>=3.10; 1.2.1 Requires-Python <3.13,>=3.10; 1.3.0 Requires-Python <3.13,>=3.10; 1.4.0 Requires-Python <3.13,>=3.10\u001b[0m\u001b[31m\n",
      "\u001b[0m\u001b[31mERROR: Could not find a version that satisfies the requirement anjl (from versions: none)\u001b[0m\u001b[31m\n",
      "\u001b[0m\u001b[31mERROR: No matching distribution found for anjl\u001b[0m\u001b[31m\n",
      "\u001b[0m"
     ]
    }
   ],
   "source": [
    "!pip3 install anjl"
   ]
  },
  {
   "cell_type": "code",
   "execution_count": 5,
   "id": "64f23297-f063-4d88-831b-7d249d8a147c",
   "metadata": {},
   "outputs": [],
   "source": [
    "# Define useful bits and pieces\n",
    "zarr_path = '/scratch/user/uqtdenni/staged_zarr/{contig}.zarr'\n",
    "\n",
    "# Get all contigs in the genome\n",
    "ref_path = \"/scratch/user/uqtdenni/reference/reference/VectorBase-54_AfarautiFAR1_Genome.fasta\"\n",
    "\n",
    "# Get contig lengths\n",
    "contig_lengths = {}\n",
    "for record in SeqIO.parse(ref_path, \"fasta\"):\n",
    "    seq_id = record.id\n",
    "    seq_length = len(record.seq)\n",
    "    contig_lengths[seq_id] = seq_length\n",
    "\n",
    "# Sort by length and get top 5\n",
    "filtered_contigs = {k: v for k, v in sorted(contig_lengths.items(), key=lambda item: item[1], reverse=True) if v > 100000}\n",
    "analysis_contigs = list(filtered_contigs.keys())"
   ]
  },
  {
   "cell_type": "code",
   "execution_count": 6,
   "id": "5a78a72b-4364-41b1-b4d6-bc81b2bf56e0",
   "metadata": {},
   "outputs": [
    {
     "data": {
      "text/plain": [
       "'KI915040'"
      ]
     },
     "execution_count": 6,
     "metadata": {},
     "output_type": "execute_result"
    }
   ],
   "source": [
    "x = analysis_contigs[0]\n",
    "x"
   ]
  },
  {
   "cell_type": "code",
   "execution_count": 7,
   "id": "51c425de-4a43-4e00-94fc-69c65d47aceb",
   "metadata": {},
   "outputs": [],
   "source": [
    "ds = xr.open_zarr(zarr_path.format(contig='KI915040'))\n"
   ]
  },
  {
   "cell_type": "code",
   "execution_count": 8,
   "id": "c3e8b4c2-d978-4cbb-a0c0-9bfe9ab21e23",
   "metadata": {},
   "outputs": [],
   "source": [
    "def load_metadata():\n",
    "    dfs = []\n",
    "    for sample_set in sample_sets:\n",
    "        d = pd.read_csv(metadata_url.format(sample_set = sample_set))\n",
    "        dfs.append(d)\n",
    "    return pd.concat(dfs)\n",
    "\n",
    "# Get genotypes from the longest contig, subset to samples passing QC and passing filters\n",
    "def load_gt(contig, indices_keep=None):\n",
    "    ds = xr.open_zarr(zarr_path.format(contig=contig))\n",
    "    gt_raw = allel.GenotypeArray(ds['call_genotype'])\n",
    "    gt_raw = gt_raw.compress(ds['filter_pass'][:], axis=0)\n",
    "    if indices_keep is None:\n",
    "        return gt_raw\n",
    "    else: \n",
    "        return gt_raw.compress(indices_keep, axis=1)\n",
    "\n",
    "def return_n_alt(gt_block, n_snps=50_000):\n",
    "    ac = gt_block.count_alleles()\n",
    "    flt = (ac.max_allele() == 1) & (ac[:, :2].min(axis=1) > 1)\n",
    "    gf = gt_block.compress(flt, axis=0)\n",
    "    gn = gf.to_n_alt()\n",
    "    vidx = np.random.choice(gn.shape[0], n_snps, replace=False)\n",
    "    vidx.sort()\n",
    "    gnr = gn.take(vidx, axis=0)\n",
    "    return gnr\n",
    "\n",
    "def plot_pca(coords, model, x, y, colourfactor, df):\n",
    "\n",
    "    # Assumed df aligns along exis with PCA\n",
    "    pca_df = pd.concat([pd.DataFrame(coords), df], axis=1)\n",
    "    \n",
    "    fig = px.scatter(pca_df, \n",
    "               x=x, \n",
    "               y=y, \n",
    "               color=colourfactor, \n",
    "               width =600,\n",
    "               height=500,\n",
    "               hover_data = ['country','admin1_iso','vcf_id'],\n",
    "              template = 'simple_white')\n",
    "    \n",
    "    fig.update_traces(marker=dict(size=10, opacity=0.5))\n",
    "\n",
    "    fig.update_layout(xaxis_title=f\"PC{x+1} ({model.explained_variance_ratio_[x]*100:.2f}%)\", yaxis_title=f\"PC{y+1} ({model.explained_variance_ratio_[y]*100:.2f}%)\")\n",
    "\n",
    "    fig.show()\n",
    "\n",
    "\n",
    "def run_pca(contig, indices_keep, n_snps=50_000):\n",
    "    # Load GTS\n",
    "    gts = load_gt(contig, indices_keep = samples_keep)\n",
    "    n_a = return_n_alt(gts, n_snps=n_snps) # calculate n_ alt from biallelic sites with a mac > 1\n",
    "    coords, model = allel.pca(n_a, n_components=10, scaler='patterson') # calculate PCA\n",
    "    return coords, model"
   ]
  },
  {
   "cell_type": "code",
   "execution_count": 9,
   "id": "50503646-2251-4fbf-9d40-222566e1ea2f",
   "metadata": {},
   "outputs": [],
   "source": [
    "# Load metadata (incomplete atm)\n",
    "df_samples = pd.read_table('/scratch/user/uqtdenni/metadata/derived_sample_metadat_draft.txt')\n",
    "\n",
    "# Samples to keep\n",
    "#ex_samples = ['far_WPSI_sol_25','far_WPSI_sol_24', 'far_WPSI_sol_31', 'far_WPSI_sol_33','far_nNG_LR-176BO1','far_nNG_LR-176BO3','far_nNG_LR-176BO2','far_nNG_LR-176BO4','far_nNG_LR-176G14','far_nNG_LR-176G17','far_nNG_LR-88-G6','far_nNG_LR-88G5','f4-MP126-6','far8_98_89_28','far_nNG_f1', 'far_nNG_f1-LR109-1', 'far_nNG_f1-LR109-2','far_nNG_SR-93-92-2', 'far_nNG_SR-93-92-13','far_nNG_SR-93-92-12','far_nNG_SR-93-92-11','far_nNG_MP-94-4', 'far_nNG_MP-94-2']\n",
    "ex_samples = ['f4-MP126-6','far8_98_89_28','far_nNG_f1']\n",
    "samples_keep = np.array(~df_samples.vcf_id.isin(ex_samples))\n",
    "df_samples = df_samples[samples_keep]"
   ]
  },
  {
   "cell_type": "code",
   "execution_count": 10,
   "id": "38072f6f-186f-4b93-bb5e-211edfecebe5",
   "metadata": {},
   "outputs": [
    {
     "data": {
      "application/vnd.plotly.v1+json": {
       "config": {
        "plotlyServerURL": "https://plot.ly"
       },
       "data": [
        {
         "customdata": [
          [
           null,
           null,
           "far8_98_89_10"
          ],
          [
           null,
           null,
           "far8_98_89_18"
          ],
          [
           null,
           null,
           "far8_98_89_25"
          ],
          [
           null,
           null,
           "far8_98_89_26"
          ],
          [
           null,
           null,
           "far8_98_89_27"
          ],
          [
           null,
           null,
           "far8_98_89_3"
          ],
          [
           null,
           null,
           "far8_98_89_5"
          ],
          [
           null,
           null,
           "far8_98_89_9"
          ]
         ],
         "hovertemplate": "species=A. farauti 8<br>0=%{x}<br>1=%{y}<br>country=%{customdata[0]}<br>admin1_iso=%{customdata[1]}<br>vcf_id=%{customdata[2]}<extra></extra>",
         "legendgroup": "A. farauti 8",
         "marker": {
          "color": "#FF7F0E",
          "opacity": 0.5,
          "size": 10,
          "symbol": "circle"
         },
         "mode": "markers",
         "name": "A. farauti 8",
         "orientation": "v",
         "showlegend": true,
         "type": "scatter",
         "x": {
          "bdata": "RG1jwQKfbcFFfmLBmKNuwUWXcsEQiWfB6xOYwQ04mME=",
          "dtype": "f4"
         },
         "xaxis": "x",
         "y": {
          "bdata": "7m4wQv0+PELiuTdC/VQ7QnaRPULVxzhCUJ6iQnUho0I=",
          "dtype": "f4"
         },
         "yaxis": "y"
        },
        {
         "customdata": [
          [
           "Papua New Guinea",
           "PG-NSB",
           "far_BOU_MB2300_1"
          ],
          [
           "Papua New Guinea",
           "PG-NSB",
           "far_BOU_MB2300_2"
          ],
          [
           "Papua New Guinea",
           "PG-NSB",
           "far_BOU_MB2300_3"
          ],
          [
           "Papua New Guinea",
           "PG-NSB",
           "far_BOU_MB2300_4"
          ],
          [
           "Papua New Guinea",
           "PG-NSB",
           "far_BOU_T13-2"
          ],
          [
           "Papua New Guinea",
           "PG-NSB",
           "far_BOU_T13-3"
          ],
          [
           "Papua New Guinea",
           "PG-NSB",
           "far_BOU_T13-5"
          ],
          [
           "Papua New Guinea",
           "PG-NSB",
           "far_BOU_Tonu9"
          ],
          [
           "Papua New Guinea",
           "PG-NSB",
           "far_BOU_buka-7"
          ],
          [
           "Papua New Guinea",
           "PG-NSB",
           "far_BOU_buka-8"
          ],
          [
           "Papua New Guinea",
           "PG-NSB",
           "far_BOU_tuna50"
          ],
          [
           "Papua New Guinea",
           "PG-NSB",
           "far_BOU_tuna53"
          ],
          [
           "Papua New Guinea",
           "PG-NSB",
           "far_BOU_tuna56"
          ],
          [
           "Papua New Guinea",
           "PG-NSB",
           "far_BOU_tuna61"
          ],
          [
           "Solomon Islands",
           "SB-GU",
           "far_GUA-GIL-85-5"
          ],
          [
           "Solomon Islands",
           "SB-GU",
           "far_GUA-LUN-85-3"
          ],
          [
           "Solomon Islands",
           "SB-GU",
           "far_GUA-MAK-85-21"
          ],
          [
           "Solomon Islands",
           "SB-GU",
           "far_GUA-MAK-85-30"
          ],
          [
           "Solomon Islands",
           "SB-GU",
           "far_GUA-VAS-85-2"
          ],
          [
           "Solomon Islands",
           "SB-GU",
           "far_GUA1812_19"
          ],
          [
           "Solomon Islands",
           "SB-GU",
           "far_GUA1815_3"
          ],
          [
           "Solomon Islands",
           "SB-GU",
           "far_GUA1815_4"
          ],
          [
           "Solomon Islands",
           "SB-GU",
           "far_GUA1815_8"
          ],
          [
           "Solomon Islands",
           "SB-GU",
           "far_GUA1815_9"
          ],
          [
           "Solomon Islands",
           "SB-GU",
           "far_GUA183_132"
          ],
          [
           "Solomon Islands",
           "SB-GU",
           "far_GUA183_22"
          ],
          [
           "Solomon Islands",
           "SB-GU",
           "far_GUA185_2"
          ],
          [
           "Solomon Islands",
           "SB-GU",
           "far_GUA187_1"
          ],
          [
           "Solomon Islands",
           "SB-GU",
           "far_GUA_HBFW16"
          ],
          [
           "Solomon Islands",
           "SB-GU",
           "far_GUA_HBFW25"
          ],
          [
           "Solomon Islands",
           "SB-GU",
           "far_GUA_HBFW33"
          ],
          [
           "Solomon Islands",
           "SB-GU",
           "far_GUA_HBFW34"
          ],
          [
           "Solomon Islands",
           "SB-GU",
           "far_GUA_HBFW4"
          ],
          [
           "Papua New Guinea",
           "PG-MRL",
           "far_Man-2"
          ],
          [
           "Papua New Guinea",
           "PG-MRL",
           "far_Man_Mn_1"
          ],
          [
           "Papua New Guinea",
           "PG-MRL",
           "far_Man_Mn_10"
          ],
          [
           "Papua New Guinea",
           "PG-MRL",
           "far_Man_Mn_2"
          ],
          [
           "Papua New Guinea",
           "PG-MRL",
           "far_Man_Mn_3"
          ],
          [
           "Papua New Guinea",
           "PG-MRL",
           "far_Man_Mn_4"
          ],
          [
           "Papua New Guinea",
           "PG-MRL",
           "far_Man_Mn_5"
          ],
          [
           "Papua New Guinea",
           "PG-MRL",
           "far_Man_Mn_6"
          ],
          [
           "Papua New Guinea",
           "PG-MRL",
           "far_Man_Mn_7"
          ],
          [
           "Papua New Guinea",
           "PG-MRL",
           "far_Man_Mn_8"
          ],
          [
           "Papua New Guinea",
           "PG-MRL",
           "far_Man_Mn_9"
          ],
          [
           "Papua New Guinea",
           "PG-MRL",
           "far_Manus-8-1"
          ],
          [
           "Papua New Guinea",
           "PG-MRL",
           "far_Manus-8-2"
          ],
          [
           "Papua New Guinea",
           "PG-MRL",
           "far_Manus-8-3"
          ],
          [
           "Papua New Guinea",
           "PG-MRL",
           "far_Manus-8-4"
          ],
          [
           "Papua New Guinea",
           "PG-MRL",
           "far_Manus-8-5"
          ],
          [
           "Papua New Guinea",
           "PG-MRL",
           "far_Manus-8-6"
          ],
          [
           "Papua New Guinea",
           "PG-MRL",
           "far_Manus-8-7"
          ],
          [
           "Papua New Guinea",
           "PG-MRL",
           "far_Manus-8-8"
          ],
          [
           "Australia",
           "AU-NT",
           "far_NT-PC35"
          ],
          [
           "Australia",
           "AU-NT",
           "far_NT-cas3"
          ],
          [
           "Australia",
           "AU-NT",
           "far_NT-cas8"
          ],
          [
           "Australia",
           "AU-NT",
           "far_NT103-4"
          ],
          [
           "Australia",
           "AU-NT",
           "far_NT163-2"
          ],
          [
           "Australia",
           "AU-NT",
           "far_NT1680-1"
          ],
          [
           "Australia",
           "AU-NT",
           "far_NT1680-3"
          ],
          [
           "Australia",
           "AU-NT",
           "far_NT2124-2"
          ],
          [
           "Australia",
           "AU-NT",
           "far_NT4-1"
          ],
          [
           "Australia",
           "AU-NT",
           "far_NT_NT103-2"
          ],
          [
           "Australia",
           "AU-NT",
           "far_NT_Nhu_10"
          ],
          [
           "Australia",
           "AU-NT",
           "far_NT_Nhu_10a"
          ],
          [
           "Australia",
           "AU-NT",
           "far_NT_Nhu_11a"
          ],
          [
           "Australia",
           "AU-NT",
           "far_NT_Nhu_15a"
          ],
          [
           "Australia",
           "AU-NT",
           "far_NT_Nhu_1b"
          ],
          [
           "Australia",
           "AU-NT",
           "far_NT_Nhu_24a"
          ],
          [
           "Australia",
           "AU-NT",
           "far_NT_Nhu_3"
          ],
          [
           "Australia",
           "AU-NT",
           "far_NT_Nhu_4"
          ],
          [
           "Australia",
           "AU-NT",
           "far_NT_Nhu_6a"
          ],
          [
           "Australia",
           "AU-NT",
           "far_NT_Nhu_9"
          ],
          [
           "Australia",
           "AU-NT",
           "far_NT_PK_1"
          ],
          [
           "Australia",
           "AU-NT",
           "far_NT_PK_13a"
          ],
          [
           "Australia",
           "AU-NT",
           "far_NT_PK_14a"
          ],
          [
           "Australia",
           "AU-NT",
           "far_NT_PK_18a"
          ],
          [
           "Australia",
           "AU-NT",
           "far_NT_PK_19a"
          ],
          [
           "Australia",
           "AU-NT",
           "far_NT_PK_3"
          ],
          [
           "Australia",
           "AU-NT",
           "far_NT_PK_5a"
          ],
          [
           "Australia",
           "AU-NT",
           "far_NT_PK_6a"
          ],
          [
           "Australia",
           "AU-NT",
           "far_NT_PK_7a"
          ],
          [
           "Australia",
           "AU-NT",
           "far_NT_PK_9a"
          ],
          [
           "Australia",
           "AU-QLD",
           "far_QLD_CB_10"
          ],
          [
           "Australia",
           "AU-QLD",
           "far_QLD_CB_11"
          ],
          [
           "Australia",
           "AU-QLD",
           "far_QLD_CB_15"
          ],
          [
           "Australia",
           "AU-QLD",
           "far_QLD_CB_16"
          ],
          [
           "Australia",
           "AU-QLD",
           "far_QLD_CB_17"
          ],
          [
           "Australia",
           "AU-QLD",
           "far_QLD_CB_21"
          ],
          [
           "Australia",
           "AU-QLD",
           "far_QLD_CB_23"
          ],
          [
           "Australia",
           "AU-QLD",
           "far_QLD_CB_7"
          ],
          [
           "Australia",
           "AU-QLD",
           "far_QLD_CB_8"
          ],
          [
           "Australia",
           "AU-QLD",
           "far_QLD_CB_9"
          ],
          [
           "Australia",
           "AU-QLD",
           "far_QLD_CNS-122"
          ],
          [
           "Australia",
           "AU-QLD",
           "far_QLD_CNS-125"
          ],
          [
           "Australia",
           "AU-QLD",
           "far_QLD_CNS-131"
          ],
          [
           "Australia",
           "AU-QLD",
           "far_QLD_CNS-139"
          ],
          [
           "Australia",
           "AU-QLD",
           "far_QLD_CNS-148"
          ],
          [
           "Australia",
           "AU-QLD",
           "far_QLD_CNS-156"
          ],
          [
           "Australia",
           "AU-QLD",
           "far_QLD_CNS-165"
          ],
          [
           "Australia",
           "AU-QLD",
           "far_QLD_CNS-67"
          ],
          [
           "Australia",
           "AU-QLD",
           "far_QLD_CNS-69"
          ],
          [
           "Australia",
           "AU-QLD",
           "far_QLD_CNS-70"
          ],
          [
           "Australia",
           "AU-QLD",
           "far_QLD_MK_12"
          ],
          [
           "Australia",
           "AU-QLD",
           "far_QLD_MK_13"
          ],
          [
           "Australia",
           "AU-QLD",
           "far_QLD_MK_14"
          ],
          [
           "Australia",
           "AU-QLD",
           "far_QLD_MK_18"
          ],
          [
           "Australia",
           "AU-QLD",
           "far_QLD_MK_24"
          ],
          [
           "Australia",
           "AU-QLD",
           "far_QLD_MK_9"
          ],
          [
           "Australia",
           "AU-QLD",
           "far_QLD_Mac-18-13"
          ],
          [
           "Australia",
           "AU-QLD",
           "far_QLD_Mac-18-19"
          ],
          [
           "Australia",
           "AU-QLD",
           "far_QLD_Mac-18-24"
          ],
          [
           "Australia",
           "AU-QLD",
           "far_QLD_Mac-18-29"
          ],
          [
           "Australia",
           "AU-QLD",
           "far_QLD_Mac1"
          ],
          [
           "Australia",
           "AU-QLD",
           "far_QLD_Mac2"
          ],
          [
           "Australia",
           "AU-QLD",
           "far_QLD_Mac3"
          ],
          [
           "Australia",
           "AU-QLD",
           "far_QLD_NP_1"
          ],
          [
           "Australia",
           "AU-QLD",
           "far_QLD_NP_2"
          ],
          [
           "Australia",
           "AU-QLD",
           "far_QLD_NP_4"
          ],
          [
           "Australia",
           "AU-QLD",
           "far_QLD_NP_5"
          ],
          [
           "Australia",
           "AU-QLD",
           "far_QLD_NP_6"
          ],
          [
           "Australia",
           "AU-QLD",
           "far_QLD_NP_8"
          ],
          [
           "Australia",
           "AU-QLD",
           "far_QLD_NP_9"
          ],
          [
           "Australia",
           "AU-QLD",
           "far_QLD_Q673-3"
          ],
          [
           "Australia",
           "AU-QLD",
           "far_QLD_Q673-4"
          ],
          [
           "Australia",
           "AU-QLD",
           "far_QLD_Q885-2"
          ],
          [
           "Australia",
           "AU-QLD",
           "far_QLD_Q885-4"
          ],
          [
           "Australia",
           "AU-QLD",
           "far_QLD_Yaps_5"
          ],
          [
           "Australia",
           "AU-QLD",
           "far_TSI_324-2"
          ],
          [
           "Australia",
           "AU-QLD",
           "far_TSI_354747-2"
          ],
          [
           "Australia",
           "AU-QLD",
           "far_TSI_354747_1"
          ],
          [
           "Australia",
           "AU-QLD",
           "far_TSI_354747_14"
          ],
          [
           "Australia",
           "AU-QLD",
           "far_TSI_354747_15"
          ],
          [
           "Australia",
           "AU-QLD",
           "far_TSI_354747_5"
          ],
          [
           "Australia",
           "AU-QLD",
           "far_TSI_354747_6"
          ],
          [
           "Australia",
           "AU-QLD",
           "far_TSI_354747_7"
          ],
          [
           "Australia",
           "AU-QLD",
           "far_TSI_413-1"
          ],
          [
           "Australia",
           "AU-QLD",
           "far_TSI_413-2"
          ],
          [
           "Australia",
           "AU-QLD",
           "far_TSI_9-2"
          ],
          [
           "Australia",
           "AU-QLD",
           "far_TSI_9-6"
          ],
          [
           "Australia",
           "AU-QLD",
           "far_TSI_SB20"
          ],
          [
           "Australia",
           "AU-QLD",
           "far_TSI_SB22"
          ],
          [
           "Australia",
           "AU-QLD",
           "far_TSI_SB25"
          ],
          [
           "Australia",
           "AU-QLD",
           "far_TSI_SB_10"
          ],
          [
           "Australia",
           "AU-QLD",
           "far_TSI_SB_14"
          ],
          [
           "Australia",
           "AU-QLD",
           "far_TSI_SB_15"
          ],
          [
           "Australia",
           "AU-QLD",
           "far_TSI_SB_16"
          ],
          [
           "Australia",
           "AU-QLD",
           "far_TSI_SB_18"
          ],
          [
           "Australia",
           "AU-QLD",
           "far_TSI_SB_19"
          ],
          [
           "Australia",
           "AU-QLD",
           "far_TSI_SB_2"
          ],
          [
           "Australia",
           "AU-QLD",
           "far_TSI_SB_21"
          ],
          [
           "Australia",
           "AU-QLD",
           "far_TSI_SB_28"
          ],
          [
           "Australia",
           "AU-QLD",
           "far_TSI_SB_3"
          ],
          [
           "Australia",
           "AU-QLD",
           "far_TSI_SB_30"
          ],
          [
           "Australia",
           "AU-QLD",
           "far_TSI_SB_6"
          ],
          [
           "Australia",
           "AU-QLD",
           "far_TSI_TI354747_12"
          ],
          [
           "Australia",
           "AU-QLD",
           "far_TSI_TI354747_9"
          ],
          [
           "Solomon Islands",
           "SB-MK",
           "far_Ula_U10"
          ],
          [
           "Solomon Islands",
           "SB-MK",
           "far_Ula_U6"
          ],
          [
           "Solomon Islands",
           "SB-MK",
           "far_Ula_U7"
          ],
          [
           "Solomon Islands",
           "SB-MK",
           "far_Ula_U8"
          ],
          [
           "Solomon Islands",
           "SB-MK",
           "far_Ula_U9"
          ],
          [
           "Vanuatu",
           "VU-SEE",
           "far_Van_VTB20"
          ],
          [
           "Vanuatu",
           "VU-SEE",
           "far_Van_VTB21"
          ],
          [
           "Vanuatu",
           "VU-SEE",
           "far_Van_VTB28"
          ],
          [
           "Vanuatu",
           "VU-SEE",
           "far_Van_VTB29"
          ],
          [
           "Vanuatu",
           "VU-SEE",
           "far_Van_VTB30"
          ],
          [
           "Solomon Islands",
           "SB-WE",
           "far_WPSI_HLCNG23_28_1"
          ],
          [
           "Solomon Islands",
           "SB-WE",
           "far_WPSI_HLCNG23_28_2"
          ],
          [
           "Solomon Islands",
           "SB-WE",
           "far_WPSI_HLCNG23_28_3"
          ],
          [
           "Solomon Islands",
           "SB-WE",
           "far_WPSI_HLCNG23_28_4"
          ],
          [
           "Solomon Islands",
           "SB-WE",
           "far_WPSI_HLCNG23_28_5"
          ],
          [
           "Solomon Islands",
           "SB-WE",
           "far_WPSI_HLCNG_23_5"
          ],
          [
           "Solomon Islands",
           "SB-WE",
           "far_WPSI_sol278"
          ],
          [
           "Solomon Islands",
           "SB-WE",
           "far_WPSI_sol291"
          ],
          [
           "Solomon Islands",
           "SB-WE",
           "far_WPSI_sol292"
          ],
          [
           "Solomon Islands",
           "SB-WE",
           "far_WPSI_sol294"
          ],
          [
           "Solomon Islands",
           "SB-WE",
           "far_WPSI_sol311"
          ],
          [
           "Solomon Islands",
           "SB-WE",
           "far_WPSI_sol315"
          ],
          [
           "Solomon Islands",
           "SB-WE",
           "far_WPSI_sol335"
          ],
          [
           "Solomon Islands",
           "SB-WE",
           "far_WPSI_sol99"
          ],
          [
           "Solomon Islands",
           "SB-WE",
           "far_WPSI_sol_24"
          ],
          [
           "Solomon Islands",
           "SB-WE",
           "far_WPSI_sol_25"
          ],
          [
           "Solomon Islands",
           "SB-WE",
           "far_WPSI_sol_31"
          ],
          [
           "Solomon Islands",
           "SB-WE",
           "far_WPSI_sol_33"
          ],
          [
           "Papua New Guinea",
           "PG-NPP",
           "far_nNG_LR-176BO1"
          ],
          [
           "Papua New Guinea",
           "PG-NPP",
           "far_nNG_LR-176BO2"
          ],
          [
           "Papua New Guinea",
           "PG-NPP",
           "far_nNG_LR-176BO3"
          ],
          [
           "Papua New Guinea",
           "PG-NPP",
           "far_nNG_LR-176BO4"
          ],
          [
           "Papua New Guinea",
           "PG-NPP",
           "far_nNG_LR-176G14"
          ],
          [
           "Papua New Guinea",
           "PG-NPP",
           "far_nNG_LR-176G17"
          ],
          [
           "Papua New Guinea",
           "PG-MPL",
           "far_nNG_LR-88-G6"
          ],
          [
           "Papua New Guinea",
           "PG-MPL",
           "far_nNG_LR-88G5"
          ],
          [
           "Papua New Guinea",
           "PG-MPM",
           "far_nNG_MP-94-2"
          ],
          [
           "Papua New Guinea",
           "PG-MPM",
           "far_nNG_MP-94-4"
          ],
          [
           "Papua New Guinea",
           "PG-ESW",
           "far_nNG_SR-93-92-11"
          ],
          [
           "Papua New Guinea",
           "PG-ESW",
           "far_nNG_SR-93-92-12"
          ],
          [
           "Papua New Guinea",
           "PG-ESW",
           "far_nNG_SR-93-92-13"
          ],
          [
           "Papua New Guinea",
           "PG-ESW",
           "far_nNG_SR-93-92-2"
          ],
          [
           "Papua New Guinea",
           "PG-MPL",
           "far_nNG_f1-LR109-1"
          ],
          [
           "Papua New Guinea",
           "PG-MPL",
           "far_nNG_f1-LR109-2"
          ],
          [
           "Papua New Guinea",
           "PG-MPL",
           "far_nNG_f1-LR109-3"
          ],
          [
           "Papua New Guinea",
           "PG-MPL",
           "far_nNG_f1-LR109-4"
          ],
          [
           "Papua New Guinea",
           "PG-MPL",
           "far_nNG_f1-LR166-1"
          ],
          [
           "Papua New Guinea",
           "PG-MPL",
           "far_nNG_f1-LR166-2"
          ],
          [
           "Papua New Guinea",
           "PG-MPL",
           "far_nNG_f1-LR166-3"
          ],
          [
           "Papua New Guinea",
           "PG-MPL",
           "far_nNG_f1-LR166-4"
          ],
          [
           "Papua New Guinea",
           "PG-MPL",
           "far_nNG_f1-LR166-5"
          ],
          [
           "Papua New Guinea",
           "PG-MPL",
           "far_nNG_f1-LR166-6"
          ],
          [
           "Papua New Guinea",
           "PG-MPL",
           "far_nPP_96_88_11"
          ],
          [
           "Papua New Guinea",
           "PG-MPL",
           "far_nPP_96_88_18"
          ],
          [
           "Papua New Guinea",
           "PG-MPL",
           "far_nPP_96_88_7"
          ],
          [
           "Papua New Guinea",
           "PG-MPL",
           "far_nPP_f1_96_88_10"
          ],
          [
           "Papua New Guinea",
           "PG-MPL",
           "far_nPP_f1_96_88_14"
          ],
          [
           "Papua New Guinea",
           "PG-MPL",
           "far_nPP_f1_96_88_22"
          ],
          [
           "Papua New Guinea",
           "PG-MPL",
           "far_nPP_f1_96_88_26"
          ],
          [
           "Papua New Guinea",
           "PG-MPL",
           "far_nPP_f1_96_88_6"
          ],
          [
           "Papua New Guinea",
           "PG-WPD",
           "far_sNG_92_13_1"
          ],
          [
           "Papua New Guinea",
           "PG-WPD",
           "far_sNG_92_15_3"
          ],
          [
           "Papua New Guinea",
           "PG-WPD",
           "far_sNG_92_15_4"
          ],
          [
           "Papua New Guinea",
           "PG-WPD",
           "far_sNG_92_17_11"
          ],
          [
           "Papua New Guinea",
           "PG-WPD",
           "far_sNG_92_17_12"
          ],
          [
           "Papua New Guinea",
           "PG-WPD",
           "far_sNG_92_17_13"
          ],
          [
           "Papua New Guinea",
           "PG-WPD",
           "far_sNG_92_17_17"
          ],
          [
           "Papua New Guinea",
           "PG-WPD",
           "far_sNG_92_17_19"
          ],
          [
           "Papua New Guinea",
           "PG-WPD",
           "far_sNG_92_17_2"
          ],
          [
           "Papua New Guinea",
           "PG-WPD",
           "far_sNG_92_17_20"
          ],
          [
           "Papua New Guinea",
           "PG-WPD",
           "far_sNG_92_17_3"
          ],
          [
           "Papua New Guinea",
           "PG-WPD",
           "far_sNG_WP21-347"
          ],
          [
           "Papua New Guinea",
           "PG-WPD",
           "far_sNG_WP21-353"
          ],
          [
           "Papua New Guinea",
           "PG-WPD",
           "far_sNG_WP21-359"
          ],
          [
           "Papua New Guinea",
           "PG-WPD",
           "far_sNG_WP21-363"
          ],
          [
           "Papua New Guinea",
           "PG-WPD",
           "far_sNG_WP21-BC393"
          ],
          [
           "Papua New Guinea",
           "PG-WPD",
           "far_sNG_WP21-BC401"
          ],
          [
           "Papua New Guinea",
           "PG-WPD",
           "far_sNG_WP21-BC404"
          ],
          [
           "Papua New Guinea",
           "PG-WPD",
           "far_sNG_WP465-1"
          ],
          [
           "Papua New Guinea",
           "PG-WPD",
           "far_sNG_WP465-2"
          ],
          [
           "Papua New Guinea",
           "PG-WPD",
           "far_sNG_WP943-1"
          ],
          [
           "Papua New Guinea",
           "PG-WPD",
           "far_sNG_WP943-2"
          ],
          [
           "Papua New Guinea",
           "PG-WPD",
           "far_sNG_f192-15-5"
          ],
          [
           "Papua New Guinea",
           "PG-WPD",
           "far_sNG_f192-15-6"
          ],
          [
           "Papua New Guinea",
           "PG-WPD",
           "far_sNG_f192-15-7"
          ],
          [
           "Papua New Guinea",
           "PG-WPD",
           "far_sNG_f1_92_13_2"
          ],
          [
           "Papua New Guinea",
           "PG-WPD",
           "far_sNG_f1_92_13_3"
          ],
          [
           "Papua New Guinea",
           "PG-WPD",
           "far_sNG_f1_92_13_4"
          ],
          [
           "Papua New Guinea",
           "PG-WPD",
           "far_sNG_f1_92_13_5"
          ],
          [
           "Papua New Guinea",
           "PG-WPD",
           "far_sNG_f1_92_15_1"
          ],
          [
           "Papua New Guinea",
           "PG-WPD",
           "far_sNG_f1_92_15_2"
          ],
          [
           "Papua New Guinea",
           "PG-WPD",
           "far_sNG_f1_92_15_5"
          ],
          [
           "Papua New Guinea",
           "PG-WPD",
           "far_sNG_f1_92_17_1"
          ],
          [
           "Papua New Guinea",
           "PG-WPD",
           "far_sNG_f1_92_17_16"
          ],
          [
           "Papua New Guinea",
           "PG-MBA",
           "far_sPP_99-1"
          ],
          [
           "Papua New Guinea",
           "PG-MBA",
           "far_sPP_99-10"
          ],
          [
           "Papua New Guinea",
           "PG-MBA",
           "far_sPP_99-2"
          ],
          [
           "Papua New Guinea",
           "PG-MBA",
           "far_sPP_99-3"
          ],
          [
           "Papua New Guinea",
           "PG-MBA",
           "far_sPP_99-4"
          ],
          [
           "Papua New Guinea",
           "PG-MBA",
           "far_sPP_99-7"
          ],
          [
           "Papua New Guinea",
           "PG-MBA",
           "far_sPP_99-8"
          ],
          [
           "Papua New Guinea",
           "PG-MBA",
           "far_sPP_99-9"
          ],
          [
           "Papua New Guinea",
           "PG-GPK",
           "far_sPP_BC125"
          ],
          [
           "Papua New Guinea",
           "PG-GPK",
           "far_sPP_BC129"
          ],
          [
           "Papua New Guinea",
           "PG-GPK",
           "far_sPP_BC133"
          ],
          [
           "Papua New Guinea",
           "PG-GPK",
           "far_sPP_BC136"
          ],
          [
           "Papua New Guinea",
           "PG-CPM",
           "far_sPP_CP-98-5-10"
          ],
          [
           "Papua New Guinea",
           "PG-CPM",
           "far_sPP_CP-98-5-11"
          ],
          [
           "Papua New Guinea",
           "PG-CPM",
           "far_sPP_CP-98-5-12"
          ],
          [
           "Papua New Guinea",
           "PG-CPM",
           "far_sPP_CP-98-5-4"
          ],
          [
           "Papua New Guinea",
           "PG-CPM",
           "far_sPP_CP-98-5-9"
          ],
          [
           "Papua New Guinea",
           "PG-MBA",
           "far_sPP_CP98_100_11"
          ],
          [
           "Papua New Guinea",
           "PG-MBA",
           "far_sPP_CP98_100_18"
          ],
          [
           "Papua New Guinea",
           "PG-MBA",
           "far_sPP_CP98_100_25"
          ],
          [
           "Papua New Guinea",
           "PG-MBA",
           "far_sPP_CP98_100_34"
          ],
          [
           "Papua New Guinea",
           "PG-MBA",
           "far_sPP_CP98_100_35"
          ],
          [
           "Papua New Guinea",
           "PG-MBA",
           "far_sPP_CP98_100_4"
          ],
          [
           "Papua New Guinea",
           "PG-MBA",
           "far_sPP_CP98_100_40"
          ],
          [
           "Papua New Guinea",
           "PG-GPK",
           "far_sPP_GR14-BC126"
          ],
          [
           "Papua New Guinea",
           "PG-GPK",
           "far_sPP_GR14-BC138"
          ],
          [
           "Papua New Guinea",
           "PG-GPK",
           "far_sPP_GR14-BC141"
          ],
          [
           "Papua New Guinea",
           "PG-GPK",
           "far_sPP_GR14-BC147"
          ],
          [
           "Papua New Guinea",
           "PG-GPK",
           "far_sPP_GR14-BC157"
          ],
          [
           "Papua New Guinea",
           "PG-CPM",
           "far_sPP_f1-CP54-1"
          ],
          [
           "Papua New Guinea",
           "PG-CPM",
           "far_sPP_f1-CP54-2"
          ],
          [
           "Papua New Guinea",
           "PG-CPM",
           "far_sPP_f1-CP54-3"
          ],
          [
           "Papua New Guinea",
           "PG-CPM",
           "far_sPP_f1-CP54-4"
          ],
          [
           "Papua New Guinea",
           "PG-CPM",
           "far_sPP_f1-CP54-5"
          ],
          [
           "Papua New Guinea",
           "PG-CPM",
           "far_sPP_f1-CP54-6"
          ],
          [
           "Papua New Guinea",
           "PG-MBA",
           "far_sPP_f1-LR171-10"
          ],
          [
           "Papua New Guinea",
           "PG-MBA",
           "far_sPP_f1-LR171-4"
          ],
          [
           "Papua New Guinea",
           "PG-MBA",
           "far_sPP_f1-LR171-7"
          ],
          [
           "Papua New Guinea",
           "PG-MBA",
           "far_sPP_f1-LR171-9"
          ]
         ],
         "hovertemplate": "species=A. farauti<br>0=%{x}<br>1=%{y}<br>country=%{customdata[0]}<br>admin1_iso=%{customdata[1]}<br>vcf_id=%{customdata[2]}<extra></extra>",
         "legendgroup": "A. farauti",
         "marker": {
          "color": "#2CA02C",
          "opacity": 0.5,
          "size": 10,
          "symbol": "circle"
         },
         "mode": "markers",
         "name": "A. farauti",
         "orientation": "v",
         "showlegend": true,
         "type": "scatter",
         "x": {
          "bdata": "DNWdwcFYncGmUJvBxn+cwcqBmMH5mJfBSFucwS2el8HoZZ/Bs1yewQorn8G3fp/BEcadwTJbncEDkZ7BVNGbwV8hoMENR53Bat6cwcsWnsGeU57B+oycwVMwm8HS8JzB+Facwe9InsHCIKDBQL+fwZrsn8E+gZzB/pGewUurncHRnJnBu0qbwaDTnMFAdp3BmECdwRC5ncE1153BB3mdwUGSn8EW7ZvBjA+ewfXWncFWg5zB3QKewa64n8Gys6DBahKewcvMnMGluqbBUTSlwd4bosGtSKLBqgSkwREBpcHEw6DBcG+iwVs3o8FqpKDBCa2fweFKnsH6yKLBSTSkwf+fosFRsqPBcIWjwbfLo8EQXKPBm2+iwc8DpMGpRaLBdpmlwWXbpMEJGaLB/oikwcjPo8EkSqPBVRKmwav2pMHjuKfBa8SkwW/WqcHqLKbB0L2mwWMpp8EqIabBdfelwWbOpsH9iajB4NilweIVp8E6jqPBgKKlwfwfp8FwBqbBlNGnwaRop8HTcaTBkDymwcSSpsFUQKTBY1SkwRpto8GRjqfBkPunwWtXpsGuJKXBWOynwZVgpcH32qbBjwunwbDZpsEkCaTBy7OkwfSepMEPkaXB7IOkwemVosEGIKbBL+qlwVhAo8EW+6DBwrSjwZyJo8FAyKTBm+ekwa0ln8GVRqbB6tukwZXTo8GlyqTBq4qjwe79pMFB46PB9n2iwd+Wp8GMLabB9k2hwQotpcEj86PBBbCjwRZSo8ERc6PBAJWjwdFqpcGaeKXBn6qhwdtEpcEtjqXBUNmiwY+ZocEs9KLBfjieweOSncHkIZ3B9Y6fwQyTnMGwHaDBkyqewd86n8Fjxp7BvfCewTDJnsH6iZ3BhWqewb0YnsFswpzBVBmdwTEim8Fixk3ByrpNwY6XmcGlzU7BjOebwf2UTsF/IkbBq/VHwXXvTsHiREvBmYNNwRFBScENw5zBKVyawftum8HOiprBbeCcwfHamcF6p5zB6v6bwWZomcFJR5bBXLSaweTel8FM3prBblaewe/NmMHOzJ3B7TCawfQciUMJ/JrBlYacwQxwm8GCRJnBAEubwXSwmsG3JJvB4mqdwWoWn8HqpJrBz/mdwUI3nMGUZZzBbm6bwS8QpcHcUaTB1vGmweoJpcF5Z6TB9A2oweqRpsGS3J/BJV6lwVtzo8Gn1aPBHTijwXmcpsHqHKbBkhSjwWatpMGmsKbB8OijwYDNpsEjhaXBXVSmwTvlpMEXbqXBHJWkwR0/o8GBOajBVR+jwUixocGknqTBXgWkwQT5pMHzLqTBFV2lwXjUocHQ9prBc9yZwXxqmsFjOZjB1e2XwZ30lsHVg5bBIzScwXMdnMFX+JzBKqyYwbb5ncH2g5rB4ZmawaPDm8FLHZnBNr+awQ1pmcGIOZnBHSucwcyYm8E0l5fBoiqawZg4mcFSmJ3BriSgwS/BnsFANZ/BCEWewarBnMH7KZ/B6fmcwQO9mcHimJ7BfPybwaXpnsENsZvBTzabwZg0m8EdX1XBxgZTwQ==",
          "dtype": "f4"
         },
         "xaxis": "x",
         "y": {
          "bdata": "g0GkQrTPo0KG1KFC8xqkQuKPo0K/8qNCQ/yiQkdRokI9KqhC6dGnQjowqEKIc6hCk5ylQlZgpkIK1qVCV9ulQqT0pUIBdqRCOf2kQsQXpULMsqVCAvijQobepkI9iaZCjkqmQj11o0KGw6dCSBmnQvu5pEKP/6VCWzOmQnHDpUIbyqVCOhelQp4GpUKUDqVCV+6lQv0IpUKSfKVC1QenQnURpkIKT6ZCzkumQjRHpkL01aRCHmKkQirapUL/bqVCkTumQnOppUKnA69CxjavQuFtrkIylK9C+SuuQkQRrkLXO69Ck/KuQsLQrkJ/ya5CVbuuQkmBr0JIcK5C3T2vQiimr0InEa9CEjiwQq3JrUJ13a5CU86vQgoasEKqo69CUPGsQm/Ur0JVla5Cw0avQsybr0LEo61CawGvQphwrkL96atCEEesQtTYrkJAdqxC6I2rQq61q0LLK61Cux+tQh6ErEKQ3axCmQ2tQlofrkKYA6xCLEutQsQbrUJ9ratC1FWtQrx+rEKYJq1Ce5CsQow4rUJaraxCWLmsQmIGrUJ2EaxCHe6sQkQQrUKjBK1CpnOsQqq2rUJtia1CFfqsQi+hrULNDK1CNPWrQsO3qkLn6qtCq0+pQt+cq0LRPqxCkweuQsctrUKlE6tCgbOrQu7GrELuw6lCPwCpQlS+q0KvR6lClCWrQoDMqkJ+EKlCUf+nQkuSqkKi/ahCThGrQhcCqkKkOatCYEatQh7GqkJVw6pClvGqQiwTq0KJ3alC9H+rQhnaq0LQY6lCzHuoQkuHq0I0oqxC6B6qQuGvqkIJ26lCW6SoQncNpUJIKqZCr8ulQpxxpkKSWaZC9VOoQls3qEL1z6dCW+SnQpUAqEK4+qJCFuSkQl1PpEKLxqVCZJ2jQsLWpEKMegTDwkMEwx9dpEIsdATDUDygQhvtA8NbZgPD1koDw3t2BMMhdAXDMXQEw+ZoA8MNy59CrHGhQle9oUKU551CAhyhQpVyoEKd6Z9Cg6mfQgpjnkK4nJ1ChTWeQkfunEJsr55CyZecQhstoEKUlKFCdSuhQr6pL8NOrKBCWZehQj61oUJhe59CFlWfQjFon0LkRp9CWf+eQg7AoEIMTKJC926hQjAYokIf7qBCtFWgQnVhqkKkIapCQraqQr4grEJ+BqpCYtCsQrGEqkLaYqpCW1mqQiL3qEJJaKxCNCaqQlwQq0Ly4apCOu6pQsPIq0Kwj6hCk6ypQq+4q0KWHatCze2qQlqbrEIy1atCtRyqQv8NqkLpDqxCDuarQlkpqELpZalChtKpQlN+qUJBcKtCmaWrQmxnqUJ1dp5CpiGfQkPnnELXvZ9CdoqeQg96n0KJ1p5CxWGgQrVnn0JC4aFCBWKfQi+6oEL/FZ9Ca0ChQl6Rn0ID7KBCTiqgQjpBnkJyVp5CuoudQvjdnkJP1JxCN6meQrhmnUI/kqFC1PWkQrLln0JDD6NC/NShQvXioULwaaBCPUaeQqo5nkKrN6BCzx6fQgWjnkImIpxC036fQgY7nkLwVAnDWoYJww==",
          "dtype": "f4"
         },
         "yaxis": "y"
        },
        {
         "customdata": [
          [
           null,
           null,
           "hin_BOU_A1"
          ],
          [
           null,
           null,
           "hin_BOU_A10"
          ],
          [
           null,
           null,
           "hin_BOU_A3"
          ],
          [
           null,
           null,
           "hin_BOU_A5"
          ],
          [
           null,
           null,
           "hin_BOU_A_6"
          ],
          [
           null,
           null,
           "hin_BOU_F2_BOU8"
          ],
          [
           null,
           null,
           "hin_BOU_T10"
          ],
          [
           null,
           null,
           "hin_BOU_T6"
          ],
          [
           null,
           null,
           "hin_BOU_T7"
          ],
          [
           null,
           null,
           "hin_BOU_T9"
          ],
          [
           null,
           null,
           "hin_BOU_T_5"
          ],
          [
           "Solomon Islands",
           "SB-GU",
           "hin_GUA18-3-19"
          ],
          [
           "Solomon Islands",
           "SB-GU",
           "hin_GUA18-3-5"
          ],
          [
           "Solomon Islands",
           "SB-GU",
           "hin_GUA18-9-18"
          ],
          [
           "Solomon Islands",
           "SB-GU",
           "hin_GUA18-9-8"
          ],
          [
           "Solomon Islands",
           "SB-GU",
           "hin_GUA1816_18"
          ],
          [
           "Solomon Islands",
           "SB-GU",
           "hin_GUA1816_24"
          ],
          [
           "Solomon Islands",
           "SB-GU",
           "hin_GUA1818_1"
          ],
          [
           "Solomon Islands",
           "SB-GU",
           "hin_GUA181_8"
          ],
          [
           "Solomon Islands",
           "SB-GU",
           "hin_GUA183_7"
          ],
          [
           "Solomon Islands",
           "SB-GU",
           "hin_GUA183_8"
          ],
          [
           "Solomon Islands",
           "SB-GU",
           "hin_GUA188_1"
          ],
          [
           "Solomon Islands",
           "SB-GU",
           "hin_GUA189_6"
          ],
          [
           "Solomon Islands",
           null,
           "hin_GUA_MC-5"
          ],
          [
           "Solomon Islands",
           "SB-GU",
           "hin_PP_97_89_13"
          ],
          [
           "Solomon Islands",
           "SB-GU",
           "hin_PP_97_89_7"
          ],
          [
           null,
           null,
           "hin_PP_98_8_6"
          ],
          [
           null,
           null,
           "hin_PP_98_8_7"
          ],
          [
           "Papua New Guinea",
           "PG-MBA",
           "hin_PP_CP113_4"
          ],
          [
           null,
           null,
           "hin_PP_CP119_1"
          ],
          [
           "Papua New Guinea",
           "PG-NPP",
           "hin_PP_CP94_1"
          ],
          [
           "Papua New Guinea",
           "PG-MBA",
           "hin_PP_CP98_100_39"
          ],
          [
           "Papua New Guinea",
           "PG-MBA",
           "hin_PP_f2_98_89_11"
          ],
          [
           "Papua New Guinea",
           "PG-MBA",
           "hin_PP_f2_98_89_14"
          ],
          [
           "Papua New Guinea",
           "PG-MBA",
           "hin_PP_f2_98_89_21"
          ],
          [
           "Papua New Guinea",
           "PG-MBA",
           "hin_PP_f2_98_89_2b"
          ],
          [
           "Papua New Guinea",
           "PG-MBA",
           "hin_PP_f2_98_89_8"
          ],
          [
           "Papua New Guinea",
           "PG-MBA",
           "hin_PP_f2_98_8_1b"
          ],
          [
           null,
           null,
           "hin_PP_f2_98_8_2"
          ],
          [
           null,
           null,
           "hin_PP_f2_98_8_3"
          ],
          [
           null,
           null,
           "hin_PP_f2_98_8_4"
          ],
          [
           null,
           null,
           "hin_PP_f2_98_8_5"
          ],
          [
           null,
           null,
           "hin_QLD_F2_QLD20"
          ],
          [
           "Australia",
           null,
           "hin_QLD_MM10"
          ],
          [
           "Australia",
           "AU-QLD",
           "hin_QLD_MM11"
          ],
          [
           "Australia",
           "AU-QLD",
           "hin_QLD_MM7"
          ],
          [
           "Australia",
           "AU-QLD",
           "hin_QLD_MM8"
          ],
          [
           "Australia",
           "AU-QLD",
           "hin_QLD_MM9"
          ],
          [
           "Australia",
           "AU-QLD",
           "hin_QLD_MtMol_13_2"
          ],
          [
           "Australia",
           "AU-QLD",
           "hin_QLD_MtMol_13_8"
          ],
          [
           "Australia",
           "AU-QLD",
           "hin_QLD_MtMol_13_9"
          ],
          [
           "Australia",
           "AU-QLD",
           "hin_QLD_WCditch_1"
          ],
          [
           "Australia",
           "AU-QLD",
           "hin_WPSI_HB13"
          ],
          [
           "Solomon Islands",
           "SB-WE",
           "hin_WPSI_HB14"
          ],
          [
           "Solomon Islands",
           "SB-WE",
           "hin_WPSI_HB2"
          ],
          [
           "Solomon Islands",
           "SB-WE",
           "hin_WPSI_HB3"
          ],
          [
           "Solomon Islands",
           "SB-WE",
           "hin_WPSI_HB5"
          ],
          [
           "Solomon Islands",
           "SB-WE",
           "hin_WPSI_HB6"
          ],
          [
           "Solomon Islands",
           "SB-WE",
           "hin_WPSI_HB7"
          ],
          [
           "Solomon Islands",
           "SB-WE",
           "hin_WPSI_HB9"
          ],
          [
           "Solomon Islands",
           "SB-WE",
           "hin_WPSI_HB_1"
          ],
          [
           "Solomon Islands",
           "SB-WE",
           "hin_WPSI_HLC_30"
          ],
          [
           "Solomon Islands",
           "SB-WE",
           "hin_WPSL_sol135"
          ],
          [
           null,
           null,
           "hin_WPSL_sol160"
          ],
          [
           null,
           null,
           "hin_WPSL_sol241"
          ],
          [
           "Solomon Islands",
           "SB-WE",
           "hin_WPSL_sol244"
          ],
          [
           "Solomon Islands",
           "SB-WE",
           "hin_WPSL_sol247"
          ],
          [
           "Solomon Islands",
           "SB-WE",
           "hin_WPSL_sol251"
          ],
          [
           "Solomon Islands",
           "SB-WE",
           "hin_WPSL_sol261"
          ],
          [
           "Solomon Islands",
           "SB-WE",
           "hin_WPSL_sol308"
          ],
          [
           "Solomon Islands",
           "SB-WE",
           "hin_WPSL_sol86"
          ],
          [
           "Solomon Islands",
           "SB-WE",
           "hin_WPSL_sol_19"
          ],
          [
           "Solomon Islands",
           "SB-WE",
           "hin_WPSL_sol_23"
          ],
          [
           "Solomon Islands",
           "SB-WE",
           "hin_WPSL_sol_29"
          ],
          [
           "Solomon Islands",
           "SB-WE",
           "hin_WPSL_sol_30"
          ],
          [
           "Solomon Islands",
           "SB-WE",
           "hin_WPSL_sol_76"
          ],
          [
           "Solomon Islands",
           "SB-WE",
           "hin_cNG-7-10"
          ],
          [
           "Papua New Guinea",
           "PG-GPK",
           "hin_cNG-7-2"
          ],
          [
           null,
           null,
           "hin_cNG-7-6"
          ],
          [
           null,
           null,
           "hin_cNG-7-9"
          ],
          [
           null,
           null,
           "hin_cNG-8-4"
          ],
          [
           null,
           null,
           "hin_cNG-8-8"
          ],
          [
           null,
           null,
           "hin_cNG-8-9"
          ],
          [
           null,
           null,
           "hin_cNG-9-10"
          ],
          [
           null,
           null,
           "hin_cNG-9-7"
          ],
          [
           null,
           null,
           "hin_cNG-9-9"
          ],
          [
           null,
           null,
           "hin_cNG_94_109_2"
          ],
          [
           null,
           null,
           "hin_cNG_94_109_5"
          ],
          [
           null,
           null,
           "hin_cNG_94_109_6"
          ],
          [
           null,
           null,
           "hin_cNG_94_113_2"
          ],
          [
           null,
           null,
           "hin_cNG_94_113_6"
          ],
          [
           null,
           null,
           "hin_cNG_94_118_1"
          ],
          [
           null,
           null,
           "hin_cNG_94_118_2"
          ],
          [
           null,
           null,
           "hin_cNG_94_118_3"
          ],
          [
           null,
           null,
           "hin_cNG_94_97_3"
          ],
          [
           null,
           null,
           "hin_cNG_94_97_5"
          ],
          [
           null,
           null,
           "hin_cNG_94_97_9"
          ],
          [
           null,
           null,
           "hin_cNG_f2_94_109_3"
          ],
          [
           null,
           null,
           "hin_cNG_f2_94_109_7"
          ],
          [
           null,
           null,
           "hin_cNG_f2_94_97_1"
          ],
          [
           null,
           null,
           "hin_cNG_f2_94_97_7"
          ],
          [
           null,
           null,
           "hin_nNG_MP-76-2"
          ],
          [
           null,
           null,
           "hin_nNG_MP-76-4"
          ],
          [
           null,
           null,
           "hin_nNG_MP76_3"
          ],
          [
           null,
           null,
           "hin_nNG_SR-Nal16"
          ],
          [
           null,
           null,
           "hin_nNG_SR-Nal2"
          ],
          [
           null,
           null,
           "hin_nNG_SR93-R93K"
          ],
          [
           null,
           null,
           "hin_nPP_4-169"
          ],
          [
           null,
           null,
           "hin_nPP_BO132_1"
          ],
          [
           null,
           null,
           "hin_nPP_BO132_10"
          ],
          [
           null,
           null,
           "hin_nPP_BO132_12"
          ],
          [
           null,
           null,
           "hin_nPP_BO132_2"
          ],
          [
           null,
           null,
           "hin_nPP_BO132_3"
          ],
          [
           null,
           null,
           "hin_nPP_BO132_4"
          ],
          [
           null,
           null,
           "hin_nPP_BO132_5"
          ],
          [
           null,
           null,
           "hin_nPP_BO132_6"
          ],
          [
           null,
           null,
           "hin_nPP_BO132_7"
          ],
          [
           null,
           null,
           "hin_nPP_BO132_9"
          ],
          [
           null,
           null,
           "hin_sNG_92_27_12"
          ],
          [
           "Solomon Islands",
           "SB-WE",
           "hin_sNG_92_62_1"
          ],
          [
           null,
           null,
           "hin_sNG_92_62_2"
          ],
          [
           null,
           null,
           "hin_sNG_92_62_4"
          ],
          [
           null,
           null,
           "hin_sNG_92_62_7"
          ],
          [
           null,
           null,
           "hin_sNG_GI31_3"
          ],
          [
           "Papua New Guinea",
           null,
           "hin_sNG_GI31_6"
          ],
          [
           "Papua New Guinea",
           null,
           "hin_sNG_S10_10"
          ],
          [
           "Papua New Guinea",
           null,
           "hin_sNG_S10_11"
          ],
          [
           "Papua New Guinea",
           null,
           "hin_sNG_S10_12"
          ],
          [
           "Papua New Guinea",
           null,
           "hin_sNG_S10_13"
          ],
          [
           "Papua New Guinea",
           null,
           "hin_sNG_S10_14"
          ],
          [
           "Papua New Guinea",
           null,
           "hin_sNG_S10_5"
          ],
          [
           "Papua New Guinea",
           null,
           "hin_sNG_S10_8"
          ],
          [
           "Papua New Guinea",
           null,
           "hin_sNG_S1_15"
          ],
          [
           "Papua New Guinea",
           null,
           "hin_sNG_S1_16"
          ],
          [
           "Papua New Guinea",
           null,
           "hin_sNG_S1_17"
          ],
          [
           "Papua New Guinea",
           null,
           "hin_sNG_S1_18"
          ],
          [
           "Papua New Guinea",
           null,
           "hin_sNG_S1_20"
          ],
          [
           "Papua New Guinea",
           null,
           "hin_sNG_WP66_4"
          ],
          [
           null,
           null,
           "hin_sNG_f2_92_27_10"
          ],
          [
           "Solomon Islands",
           "SB-WE",
           "hin_sNG_f2_92_27_20"
          ],
          [
           "Solomon Islands",
           "SB-WE",
           "hin_sNG_f2_92_27_4"
          ],
          [
           "Solomon Islands",
           "SB-WE",
           "hin_sNG_f2_92_27_8"
          ],
          [
           "Solomon Islands",
           "SB-WE",
           "hin_sNG_f2_92_41_2"
          ],
          [
           null,
           null,
           "hin_sNG_f2_92_41_4"
          ],
          [
           null,
           null,
           "hin_sNG_f2_92_41_7"
          ],
          [
           null,
           null,
           "hin_sNG_f2_92_41_8"
          ],
          [
           null,
           null,
           "hin_sNG_f2_92_41_9"
          ],
          [
           null,
           null,
           "hin_sNG_f2_92_62_3"
          ],
          [
           null,
           null,
           "hin_wQLD_Por_41"
          ],
          [
           "Australia",
           "AU-QLD",
           "hin_wQLD_Por_43"
          ],
          [
           "Australia",
           "AU-QLD",
           "hin_wQLD_Por_44"
          ],
          [
           "Australia",
           "AU-QLD",
           "hin_wQLD_Por_45"
          ],
          [
           "Australia",
           "AU-QLD",
           "hin_wQLD_Por_48"
          ],
          [
           "Australia",
           "AU-QLD",
           "hin_wQLD_Por_49"
          ],
          [
           "Australia",
           "AU-QLD",
           "iren_GUA1812_13iren"
          ]
         ],
         "hovertemplate": "species=A. hinesorum<br>0=%{x}<br>1=%{y}<br>country=%{customdata[0]}<br>admin1_iso=%{customdata[1]}<br>vcf_id=%{customdata[2]}<extra></extra>",
         "legendgroup": "A. hinesorum",
         "marker": {
          "color": "#D62728",
          "opacity": 0.5,
          "size": 10,
          "symbol": "circle"
         },
         "mode": "markers",
         "name": "A. hinesorum",
         "orientation": "v",
         "showlegend": true,
         "type": "scatter",
         "x": {
          "bdata": "27pTwcNQVcGVbFTBHGRUwdDLUsGJ21DBLBZTwQyqUsGH2FXBtg9KwbVfTcEk1FLBQydQwUkUTsEGl1LBP2hNwU21UMFo+VHBaONOwYX6UsFleE7BAh9JwaZlI8EcuCrB8p0ywQwOMsHNPyzBhE0pwXD1BsGmfC/Bu5cqwb4GKMFLry3BmbMxwdSTKsFkxDPBMiY0weSRK8GbRyLBtW8zwfxNMcGueirBf7kjwVt8LsHwZynBrCcuwVKXIsFTaB3BlPYuwccfMMHsXkrByhpFwQLkScGaCE3BtyJPwaIjTMETklTBhgNQwbH6SsGHJkrBXi1IwdT0SMEZskrB3T9KwRneUcGKYUzBAb9OwXPQS8GRdZzBtDtLwRfETcFHg0zBJflLwZCxS8FdkxzBak4CwRmYJMFrvxrBDdEfwa7yHMFyPB/BsYAzwZi2LcH1LCHB2a4kwctvIcFHsiPB9eQfwecYHcF5zR/BZgodwcj4GMFE+xrBkSQhwa+2IMFQ8B7B+RMUwZf+H8FDzh/BoVH6wAsg6sDJEfLAmYzgwG6XAcFBHwHBKMovwTeKAsFJCuvAZaMJwbnsBsEPFgjBquUCwWwtBsHCQwfBFOwGwQCUB8GpZg/BEc0Twd/MDcHu3QDBk0sBwSdIMcGmkjbBwjQtwVciKsF1ADLB6/EswXC5LcHE4jjBhi0uwY0fIsHM4yvBT3AwwZcKLMH4RSjBK5ALwdTcA8FGLAfBtqgDwR0ODsH5nhjBDMwCwfS7HMHDXgfBdEj2wApUAcFfnCPBk8EUwZLqIMGgcybBXJ4jwWQHHMFHsnjBXiZoweZsasE=",
          "dtype": "f4"
         },
         "xaxis": "x",
         "y": {
          "bdata": "124Jw8MfCcMBEgnDe5EIw4LsB8NVeQjDF5oJwyXWB8PxeQjDX0EFw//hBMMy6QTDHz8Fw/9ABsMPQwPD7+oFw1HfBsPsTgXDjuEFw94NA8NMAQTDdp4Hw8QK98Iq4PXC1z7ywp4888JAUPPCE/Hvwm/Z5sJb1/LCHO/4wrQk+MKbR/XC8NT4wnaz98K6hPDCvOn0wr279cKKJPPCVD31wvio8sLMCvPCo5nywpDD8sL3SPPC9KD0wl4q8sIZA/DCIEHwwsCv8cKEkwPDO2YDw9wCA8MgPATDFKQGw/CyBcN0wAXDLfYFw4/PA8NAiAPDSikFw3gmBMPw8QTDxnwEw2G6BsNzHgbDLT8FwzxjBcMrlqRC+9kDw1sJBMO5wQTD7sUEw7faA8NB8wLDpPb2wkdyAsMktgLDh84CwzWDA8OipwPDFaHzwjPS9cJdn/PCFRgEw8s9A8NMjwTDjx4Dw+QIA8Mm5wLDpOcDw9joAsMd5APDgC8Dw3iVBMPBHQTDkA4Fwy3bBMP3nwPDN4z+wnPx+8KI1fzCrVb6wt8X+sIhqvfChH33wg6bBcMWHvjCQRoEw4dVA8PrSvzC/xAFwwIDBcMhKwPD4KcFw24MBcNYrebCmoXqwpiy5cJRoOfCPjPowluU88JarPTCNMbzwsgr98Jp6/XCSf35wgQw+MI2xvXCiKz1wqpR+8Lg0vrCGJT0wqny+sI69/fC8Svkwl4w5cIDneXCOU3iwnQc6MKFMObC69TowtSA6sLge+jCYP/ewq6o6MJM6fPCCTfzwiXA88IetPfCki/xwn4l9MJj5TtCvyw7QpHIPEI=",
          "dtype": "f4"
         },
         "yaxis": "y"
        },
        {
         "customdata": [
          [
           "Solomon Islands",
           "SB-GU",
           "iren_GUA1812_16iren"
          ],
          [
           "Solomon Islands",
           "SB-GU",
           "iren_GUA1826_11iren"
          ],
          [
           "Solomon Islands",
           "SB-GU",
           "iren_GUA182_3iren"
          ],
          [
           "Solomon Islands",
           "SB-GU",
           "iren_GUA182_6iren"
          ],
          [
           "Solomon Islands",
           "SB-GU",
           "iren_GUA183_2iren"
          ],
          [
           "Solomon Islands",
           "SB-GU",
           "iren_GUA184_23iren"
          ],
          [
           "Papua New Guinea",
           "PG-CPM",
           "iren_GUA184_36iren"
          ],
          [
           "Papua New Guinea",
           "PG-CPM",
           "iren_GUA187_4iren"
          ],
          [
           "Solomon Islands",
           "SB-GU",
           "iren_GUA188_30iren"
          ],
          [
           "Solomon Islands",
           "SB-GU",
           "iren_GUA24_3"
          ]
         ],
         "hovertemplate": "species=A.irenicus<br>0=%{x}<br>1=%{y}<br>country=%{customdata[0]}<br>admin1_iso=%{customdata[1]}<br>vcf_id=%{customdata[2]}<extra></extra>",
         "legendgroup": "A.irenicus",
         "marker": {
          "color": "#9467BD",
          "opacity": 0.5,
          "size": 10,
          "symbol": "circle"
         },
         "mode": "markers",
         "name": "A.irenicus",
         "orientation": "v",
         "showlegend": true,
         "type": "scatter",
         "x": {
          "bdata": "0QB3wfphdcFYU23B50RuwcPBeMGoxHHBi3Z4wS7yZsEw1gTBz5MOwQ==",
          "dtype": "f4"
         },
         "xaxis": "x",
         "y": {
          "bdata": "M5Y7Qk3oOkKa+TtCPf84Qsh4PkJ7gj1CuPs6Qm8TPUJKTQDDObwAww==",
          "dtype": "f4"
         },
         "yaxis": "y"
        },
        {
         "customdata": [
          [
           "Solomon Islands",
           "SB-GU",
           "ore_IJ98_10_1"
          ]
         ],
         "hovertemplate": "species=A. irenicus<br>0=%{x}<br>1=%{y}<br>country=%{customdata[0]}<br>admin1_iso=%{customdata[1]}<br>vcf_id=%{customdata[2]}<extra></extra>",
         "legendgroup": "A. irenicus",
         "marker": {
          "color": "#8C564B",
          "opacity": 0.5,
          "size": 10,
          "symbol": "circle"
         },
         "mode": "markers",
         "name": "A. irenicus",
         "orientation": "v",
         "showlegend": true,
         "type": "scatter",
         "x": {
          "bdata": "CJQRwQ==",
          "dtype": "f4"
         },
         "xaxis": "x",
         "y": {
          "bdata": "QRwBww==",
          "dtype": "f4"
         },
         "yaxis": "y"
        },
        {
         "customdata": [
          [
           null,
           null,
           "ore_IJ98_12_1"
          ],
          [
           null,
           null,
           "ore_IJ98_12_3"
          ],
          [
           null,
           null,
           "ore_IJ98_12_4"
          ],
          [
           null,
           null,
           "ore_IJ98_12_5"
          ],
          [
           null,
           null,
           "ore_IJ98_12_6"
          ],
          [
           null,
           null,
           "ore_IJ98_2_1"
          ],
          [
           null,
           null,
           "ore_IJ98_2_2"
          ],
          [
           null,
           null,
           "ore_IJ98_2_3"
          ],
          [
           null,
           null,
           "ore_IJ98_2_4"
          ],
          [
           null,
           null,
           "ore_IJ_2_6"
          ],
          [
           null,
           null,
           "pun"
          ]
         ],
         "hovertemplate": "species=A. oreios<br>0=%{x}<br>1=%{y}<br>country=%{customdata[0]}<br>admin1_iso=%{customdata[1]}<br>vcf_id=%{customdata[2]}<extra></extra>",
         "legendgroup": "A. oreios",
         "marker": {
          "color": "#E377C2",
          "opacity": 0.5,
          "size": 10,
          "symbol": "circle"
         },
         "mode": "markers",
         "name": "A. oreios",
         "orientation": "v",
         "showlegend": true,
         "type": "scatter",
         "x": {
          "bdata": "0oAKwcF5CsHK0A3B1JEDwfqbDME1JBDBUwsOweXWB8EQFJVE2rOYRPyunUQ=",
          "dtype": "f4"
         },
         "xaxis": "x",
         "y": {
          "bdata": "pmEBwxd6AMN6hADDVzUCw8DeAcP6xALDTO0Aw9QQAsPEOwhCxb4RQqNfI0I=",
          "dtype": "f4"
         },
         "yaxis": "y"
        },
        {
         "customdata": [
          [
           null,
           null,
           "pun_BO-25-1-OB99"
          ],
          [
           "Solomon Islands",
           "SB-GU",
           "pun_SI98-12-2"
          ],
          [
           "Solomon Islands",
           "SB-GU",
           "pun_SI98-21-1"
          ],
          [
           "Solomon Islands",
           "SB-GU",
           "pun_SI98-8-2"
          ],
          [
           "Solomon Islands",
           "SB-GU",
           "pun_SIWP98-13-1"
          ],
          [
           null,
           null,
           "tor_NT_Ala_3a"
          ]
         ],
         "hovertemplate": "species=A. punctulatus<br>0=%{x}<br>1=%{y}<br>country=%{customdata[0]}<br>admin1_iso=%{customdata[1]}<br>vcf_id=%{customdata[2]}<extra></extra>",
         "legendgroup": "A. punctulatus",
         "marker": {
          "color": "#7F7F7F",
          "opacity": 0.5,
          "size": 10,
          "symbol": "circle"
         },
         "mode": "markers",
         "name": "A. punctulatus",
         "orientation": "v",
         "showlegend": true,
         "type": "scatter",
         "x": {
          "bdata": "dEeeRNpmnUS9Dp5EVb75PvXXgz9SMFE/",
          "dtype": "f4"
         },
         "xaxis": "x",
         "y": {
          "bdata": "/1kkQlY8IELPnSNC4+31wj6H9sI83ffC",
          "dtype": "f4"
         },
         "yaxis": "y"
        },
        {
         "customdata": [
          [
           "Australia",
           "AU-NT",
           "tor_NT_Ala_4a"
          ],
          [
           "Australia",
           "AU-NT",
           "tor_NT_Aly_1"
          ],
          [
           "Australia",
           "AU-NT",
           "tor_NT_Aly_1a"
          ],
          [
           "Australia",
           "AU-NT",
           "tor_NT_Aly_2"
          ],
          [
           "Australia",
           "AU-NT",
           "tor_NT_Aly_2a"
          ],
          [
           "Australia",
           "AU-NT",
           "tor_NT_Aly_3"
          ],
          [
           "Australia",
           "AU-NT",
           "tor_NT_Aly_4"
          ],
          [
           "Australia",
           "AU-NT",
           "tor_NT_Aly_5"
          ],
          [
           null,
           null,
           "tor_NT_Aly_7"
          ],
          [
           null,
           null,
           "tor_wQLD_Por_12"
          ],
          [
           null,
           null,
           "tor_wQLD_Por_13"
          ],
          [
           null,
           null,
           "tor_wQLD_Por_19"
          ],
          [
           null,
           null,
           "tor_wQLD_Por_27"
          ],
          [
           null,
           null,
           "tor_wQLD_Por_40"
          ],
          [
           null,
           null,
           "tor_wQLD_Por_50"
          ],
          [
           null,
           null,
           "tor_wQLD_Por_52"
          ]
         ],
         "hovertemplate": "species=A. torresiensis<br>0=%{x}<br>1=%{y}<br>country=%{customdata[0]}<br>admin1_iso=%{customdata[1]}<br>vcf_id=%{customdata[2]}<extra></extra>",
         "legendgroup": "A. torresiensis",
         "marker": {
          "color": "#BCBD22",
          "opacity": 0.5,
          "size": 10,
          "symbol": "circle"
         },
         "mode": "markers",
         "name": "A. torresiensis",
         "orientation": "v",
         "showlegend": true,
         "type": "scatter",
         "x": {
          "bdata": "dwgeP7WIGj/mCDk/LdRpP+geRj912UY/LMD0PoXtdD8HzEs/0rXLPt8U6z/tH7E/ZQF7P4JgLcEAAMB/AADAfw==",
          "dtype": "f4"
         },
         "xaxis": "x",
         "y": {
          "bdata": "t9P1wmHY98J+uPnCzLz3wsne9sI4MvbChQ/6wvLc9sLPJfXCF670wtSi98I6f/bCak7ywq7A8sIAAMB/AADAfw==",
          "dtype": "f4"
         },
         "yaxis": "y"
        }
       ],
       "layout": {
        "height": 500,
        "legend": {
         "title": {
          "text": "species"
         },
         "tracegroupgap": 0
        },
        "margin": {
         "t": 60
        },
        "template": {
         "data": {
          "bar": [
           {
            "error_x": {
             "color": "rgb(36,36,36)"
            },
            "error_y": {
             "color": "rgb(36,36,36)"
            },
            "marker": {
             "line": {
              "color": "white",
              "width": 0.5
             },
             "pattern": {
              "fillmode": "overlay",
              "size": 10,
              "solidity": 0.2
             }
            },
            "type": "bar"
           }
          ],
          "barpolar": [
           {
            "marker": {
             "line": {
              "color": "white",
              "width": 0.5
             },
             "pattern": {
              "fillmode": "overlay",
              "size": 10,
              "solidity": 0.2
             }
            },
            "type": "barpolar"
           }
          ],
          "carpet": [
           {
            "aaxis": {
             "endlinecolor": "rgb(36,36,36)",
             "gridcolor": "white",
             "linecolor": "white",
             "minorgridcolor": "white",
             "startlinecolor": "rgb(36,36,36)"
            },
            "baxis": {
             "endlinecolor": "rgb(36,36,36)",
             "gridcolor": "white",
             "linecolor": "white",
             "minorgridcolor": "white",
             "startlinecolor": "rgb(36,36,36)"
            },
            "type": "carpet"
           }
          ],
          "choropleth": [
           {
            "colorbar": {
             "outlinewidth": 1,
             "tickcolor": "rgb(36,36,36)",
             "ticks": "outside"
            },
            "type": "choropleth"
           }
          ],
          "contour": [
           {
            "colorbar": {
             "outlinewidth": 1,
             "tickcolor": "rgb(36,36,36)",
             "ticks": "outside"
            },
            "colorscale": [
             [
              0,
              "#440154"
             ],
             [
              0.1111111111111111,
              "#482878"
             ],
             [
              0.2222222222222222,
              "#3e4989"
             ],
             [
              0.3333333333333333,
              "#31688e"
             ],
             [
              0.4444444444444444,
              "#26828e"
             ],
             [
              0.5555555555555556,
              "#1f9e89"
             ],
             [
              0.6666666666666666,
              "#35b779"
             ],
             [
              0.7777777777777778,
              "#6ece58"
             ],
             [
              0.8888888888888888,
              "#b5de2b"
             ],
             [
              1,
              "#fde725"
             ]
            ],
            "type": "contour"
           }
          ],
          "contourcarpet": [
           {
            "colorbar": {
             "outlinewidth": 1,
             "tickcolor": "rgb(36,36,36)",
             "ticks": "outside"
            },
            "type": "contourcarpet"
           }
          ],
          "heatmap": [
           {
            "colorbar": {
             "outlinewidth": 1,
             "tickcolor": "rgb(36,36,36)",
             "ticks": "outside"
            },
            "colorscale": [
             [
              0,
              "#440154"
             ],
             [
              0.1111111111111111,
              "#482878"
             ],
             [
              0.2222222222222222,
              "#3e4989"
             ],
             [
              0.3333333333333333,
              "#31688e"
             ],
             [
              0.4444444444444444,
              "#26828e"
             ],
             [
              0.5555555555555556,
              "#1f9e89"
             ],
             [
              0.6666666666666666,
              "#35b779"
             ],
             [
              0.7777777777777778,
              "#6ece58"
             ],
             [
              0.8888888888888888,
              "#b5de2b"
             ],
             [
              1,
              "#fde725"
             ]
            ],
            "type": "heatmap"
           }
          ],
          "histogram": [
           {
            "marker": {
             "line": {
              "color": "white",
              "width": 0.6
             }
            },
            "type": "histogram"
           }
          ],
          "histogram2d": [
           {
            "colorbar": {
             "outlinewidth": 1,
             "tickcolor": "rgb(36,36,36)",
             "ticks": "outside"
            },
            "colorscale": [
             [
              0,
              "#440154"
             ],
             [
              0.1111111111111111,
              "#482878"
             ],
             [
              0.2222222222222222,
              "#3e4989"
             ],
             [
              0.3333333333333333,
              "#31688e"
             ],
             [
              0.4444444444444444,
              "#26828e"
             ],
             [
              0.5555555555555556,
              "#1f9e89"
             ],
             [
              0.6666666666666666,
              "#35b779"
             ],
             [
              0.7777777777777778,
              "#6ece58"
             ],
             [
              0.8888888888888888,
              "#b5de2b"
             ],
             [
              1,
              "#fde725"
             ]
            ],
            "type": "histogram2d"
           }
          ],
          "histogram2dcontour": [
           {
            "colorbar": {
             "outlinewidth": 1,
             "tickcolor": "rgb(36,36,36)",
             "ticks": "outside"
            },
            "colorscale": [
             [
              0,
              "#440154"
             ],
             [
              0.1111111111111111,
              "#482878"
             ],
             [
              0.2222222222222222,
              "#3e4989"
             ],
             [
              0.3333333333333333,
              "#31688e"
             ],
             [
              0.4444444444444444,
              "#26828e"
             ],
             [
              0.5555555555555556,
              "#1f9e89"
             ],
             [
              0.6666666666666666,
              "#35b779"
             ],
             [
              0.7777777777777778,
              "#6ece58"
             ],
             [
              0.8888888888888888,
              "#b5de2b"
             ],
             [
              1,
              "#fde725"
             ]
            ],
            "type": "histogram2dcontour"
           }
          ],
          "mesh3d": [
           {
            "colorbar": {
             "outlinewidth": 1,
             "tickcolor": "rgb(36,36,36)",
             "ticks": "outside"
            },
            "type": "mesh3d"
           }
          ],
          "parcoords": [
           {
            "line": {
             "colorbar": {
              "outlinewidth": 1,
              "tickcolor": "rgb(36,36,36)",
              "ticks": "outside"
             }
            },
            "type": "parcoords"
           }
          ],
          "pie": [
           {
            "automargin": true,
            "type": "pie"
           }
          ],
          "scatter": [
           {
            "fillpattern": {
             "fillmode": "overlay",
             "size": 10,
             "solidity": 0.2
            },
            "type": "scatter"
           }
          ],
          "scatter3d": [
           {
            "line": {
             "colorbar": {
              "outlinewidth": 1,
              "tickcolor": "rgb(36,36,36)",
              "ticks": "outside"
             }
            },
            "marker": {
             "colorbar": {
              "outlinewidth": 1,
              "tickcolor": "rgb(36,36,36)",
              "ticks": "outside"
             }
            },
            "type": "scatter3d"
           }
          ],
          "scattercarpet": [
           {
            "marker": {
             "colorbar": {
              "outlinewidth": 1,
              "tickcolor": "rgb(36,36,36)",
              "ticks": "outside"
             }
            },
            "type": "scattercarpet"
           }
          ],
          "scattergeo": [
           {
            "marker": {
             "colorbar": {
              "outlinewidth": 1,
              "tickcolor": "rgb(36,36,36)",
              "ticks": "outside"
             }
            },
            "type": "scattergeo"
           }
          ],
          "scattergl": [
           {
            "marker": {
             "colorbar": {
              "outlinewidth": 1,
              "tickcolor": "rgb(36,36,36)",
              "ticks": "outside"
             }
            },
            "type": "scattergl"
           }
          ],
          "scattermap": [
           {
            "marker": {
             "colorbar": {
              "outlinewidth": 1,
              "tickcolor": "rgb(36,36,36)",
              "ticks": "outside"
             }
            },
            "type": "scattermap"
           }
          ],
          "scattermapbox": [
           {
            "marker": {
             "colorbar": {
              "outlinewidth": 1,
              "tickcolor": "rgb(36,36,36)",
              "ticks": "outside"
             }
            },
            "type": "scattermapbox"
           }
          ],
          "scatterpolar": [
           {
            "marker": {
             "colorbar": {
              "outlinewidth": 1,
              "tickcolor": "rgb(36,36,36)",
              "ticks": "outside"
             }
            },
            "type": "scatterpolar"
           }
          ],
          "scatterpolargl": [
           {
            "marker": {
             "colorbar": {
              "outlinewidth": 1,
              "tickcolor": "rgb(36,36,36)",
              "ticks": "outside"
             }
            },
            "type": "scatterpolargl"
           }
          ],
          "scatterternary": [
           {
            "marker": {
             "colorbar": {
              "outlinewidth": 1,
              "tickcolor": "rgb(36,36,36)",
              "ticks": "outside"
             }
            },
            "type": "scatterternary"
           }
          ],
          "surface": [
           {
            "colorbar": {
             "outlinewidth": 1,
             "tickcolor": "rgb(36,36,36)",
             "ticks": "outside"
            },
            "colorscale": [
             [
              0,
              "#440154"
             ],
             [
              0.1111111111111111,
              "#482878"
             ],
             [
              0.2222222222222222,
              "#3e4989"
             ],
             [
              0.3333333333333333,
              "#31688e"
             ],
             [
              0.4444444444444444,
              "#26828e"
             ],
             [
              0.5555555555555556,
              "#1f9e89"
             ],
             [
              0.6666666666666666,
              "#35b779"
             ],
             [
              0.7777777777777778,
              "#6ece58"
             ],
             [
              0.8888888888888888,
              "#b5de2b"
             ],
             [
              1,
              "#fde725"
             ]
            ],
            "type": "surface"
           }
          ],
          "table": [
           {
            "cells": {
             "fill": {
              "color": "rgb(237,237,237)"
             },
             "line": {
              "color": "white"
             }
            },
            "header": {
             "fill": {
              "color": "rgb(217,217,217)"
             },
             "line": {
              "color": "white"
             }
            },
            "type": "table"
           }
          ]
         },
         "layout": {
          "annotationdefaults": {
           "arrowhead": 0,
           "arrowwidth": 1
          },
          "autotypenumbers": "strict",
          "coloraxis": {
           "colorbar": {
            "outlinewidth": 1,
            "tickcolor": "rgb(36,36,36)",
            "ticks": "outside"
           }
          },
          "colorscale": {
           "diverging": [
            [
             0,
             "rgb(103,0,31)"
            ],
            [
             0.1,
             "rgb(178,24,43)"
            ],
            [
             0.2,
             "rgb(214,96,77)"
            ],
            [
             0.3,
             "rgb(244,165,130)"
            ],
            [
             0.4,
             "rgb(253,219,199)"
            ],
            [
             0.5,
             "rgb(247,247,247)"
            ],
            [
             0.6,
             "rgb(209,229,240)"
            ],
            [
             0.7,
             "rgb(146,197,222)"
            ],
            [
             0.8,
             "rgb(67,147,195)"
            ],
            [
             0.9,
             "rgb(33,102,172)"
            ],
            [
             1,
             "rgb(5,48,97)"
            ]
           ],
           "sequential": [
            [
             0,
             "#440154"
            ],
            [
             0.1111111111111111,
             "#482878"
            ],
            [
             0.2222222222222222,
             "#3e4989"
            ],
            [
             0.3333333333333333,
             "#31688e"
            ],
            [
             0.4444444444444444,
             "#26828e"
            ],
            [
             0.5555555555555556,
             "#1f9e89"
            ],
            [
             0.6666666666666666,
             "#35b779"
            ],
            [
             0.7777777777777778,
             "#6ece58"
            ],
            [
             0.8888888888888888,
             "#b5de2b"
            ],
            [
             1,
             "#fde725"
            ]
           ],
           "sequentialminus": [
            [
             0,
             "#440154"
            ],
            [
             0.1111111111111111,
             "#482878"
            ],
            [
             0.2222222222222222,
             "#3e4989"
            ],
            [
             0.3333333333333333,
             "#31688e"
            ],
            [
             0.4444444444444444,
             "#26828e"
            ],
            [
             0.5555555555555556,
             "#1f9e89"
            ],
            [
             0.6666666666666666,
             "#35b779"
            ],
            [
             0.7777777777777778,
             "#6ece58"
            ],
            [
             0.8888888888888888,
             "#b5de2b"
            ],
            [
             1,
             "#fde725"
            ]
           ]
          },
          "colorway": [
           "#1F77B4",
           "#FF7F0E",
           "#2CA02C",
           "#D62728",
           "#9467BD",
           "#8C564B",
           "#E377C2",
           "#7F7F7F",
           "#BCBD22",
           "#17BECF"
          ],
          "font": {
           "color": "rgb(36,36,36)"
          },
          "geo": {
           "bgcolor": "white",
           "lakecolor": "white",
           "landcolor": "white",
           "showlakes": true,
           "showland": true,
           "subunitcolor": "white"
          },
          "hoverlabel": {
           "align": "left"
          },
          "hovermode": "closest",
          "mapbox": {
           "style": "light"
          },
          "paper_bgcolor": "white",
          "plot_bgcolor": "white",
          "polar": {
           "angularaxis": {
            "gridcolor": "rgb(232,232,232)",
            "linecolor": "rgb(36,36,36)",
            "showgrid": false,
            "showline": true,
            "ticks": "outside"
           },
           "bgcolor": "white",
           "radialaxis": {
            "gridcolor": "rgb(232,232,232)",
            "linecolor": "rgb(36,36,36)",
            "showgrid": false,
            "showline": true,
            "ticks": "outside"
           }
          },
          "scene": {
           "xaxis": {
            "backgroundcolor": "white",
            "gridcolor": "rgb(232,232,232)",
            "gridwidth": 2,
            "linecolor": "rgb(36,36,36)",
            "showbackground": true,
            "showgrid": false,
            "showline": true,
            "ticks": "outside",
            "zeroline": false,
            "zerolinecolor": "rgb(36,36,36)"
           },
           "yaxis": {
            "backgroundcolor": "white",
            "gridcolor": "rgb(232,232,232)",
            "gridwidth": 2,
            "linecolor": "rgb(36,36,36)",
            "showbackground": true,
            "showgrid": false,
            "showline": true,
            "ticks": "outside",
            "zeroline": false,
            "zerolinecolor": "rgb(36,36,36)"
           },
           "zaxis": {
            "backgroundcolor": "white",
            "gridcolor": "rgb(232,232,232)",
            "gridwidth": 2,
            "linecolor": "rgb(36,36,36)",
            "showbackground": true,
            "showgrid": false,
            "showline": true,
            "ticks": "outside",
            "zeroline": false,
            "zerolinecolor": "rgb(36,36,36)"
           }
          },
          "shapedefaults": {
           "fillcolor": "black",
           "line": {
            "width": 0
           },
           "opacity": 0.3
          },
          "ternary": {
           "aaxis": {
            "gridcolor": "rgb(232,232,232)",
            "linecolor": "rgb(36,36,36)",
            "showgrid": false,
            "showline": true,
            "ticks": "outside"
           },
           "baxis": {
            "gridcolor": "rgb(232,232,232)",
            "linecolor": "rgb(36,36,36)",
            "showgrid": false,
            "showline": true,
            "ticks": "outside"
           },
           "bgcolor": "white",
           "caxis": {
            "gridcolor": "rgb(232,232,232)",
            "linecolor": "rgb(36,36,36)",
            "showgrid": false,
            "showline": true,
            "ticks": "outside"
           }
          },
          "title": {
           "x": 0.05
          },
          "xaxis": {
           "automargin": true,
           "gridcolor": "rgb(232,232,232)",
           "linecolor": "rgb(36,36,36)",
           "showgrid": false,
           "showline": true,
           "ticks": "outside",
           "title": {
            "standoff": 15
           },
           "zeroline": false,
           "zerolinecolor": "rgb(36,36,36)"
          },
          "yaxis": {
           "automargin": true,
           "gridcolor": "rgb(232,232,232)",
           "linecolor": "rgb(36,36,36)",
           "showgrid": false,
           "showline": true,
           "ticks": "outside",
           "title": {
            "standoff": 15
           },
           "zeroline": false,
           "zerolinecolor": "rgb(36,36,36)"
          }
         }
        },
        "width": 600,
        "xaxis": {
         "anchor": "y",
         "domain": [
          0,
          1
         ],
         "title": {
          "text": "PC1 (13.71%)"
         }
        },
        "yaxis": {
         "anchor": "x",
         "domain": [
          0,
          1
         ],
         "title": {
          "text": "PC2 (7.40%)"
         }
        }
       }
      },
      "image/png": "[encoded data removed]"
     },
     "metadata": {},
     "output_type": "display_data"
    },
    {
     "name": "stdout",
     "output_type": "stream",
     "text": [
      "CPU times: user 1min 12s, sys: 9.64 s, total: 1min 22s\n",
      "Wall time: 1min 5s\n"
     ]
    }
   ],
   "source": [
    "%%time\n",
    "all_coords,  all_model = run_pca(analysis_contigs[0], samples_keep)\n",
    "plot_pca(all_coords, all_model, 0, 1, 'species', df_samples)"
   ]
  },
  {
   "cell_type": "markdown",
   "id": "3da529db-08c8-44a1-81ea-7a0eb68ccd41",
   "metadata": {},
   "source": [
    "The outgroup sample there (I think) represents a an admixed PNG / SI population - whenever I remove it, it is replaced by another sample.\n",
    "Let's dig a little into these clusters - will start by doing per-country PCA?"
   ]
  },
  {
   "cell_type": "code",
   "execution_count": 20,
   "id": "85749fd2-18d6-4e76-8597-9a1dc59c64fd",
   "metadata": {},
   "outputs": [
    {
     "data": {
      "application/vnd.plotly.v1+json": {
       "config": {
        "plotlyServerURL": "https://plot.ly"
       },
       "data": [
        {
         "customdata": [
          [
           "Solomon Islands",
           "SB-GU",
           "far_GUA-GIL-85-5"
          ],
          [
           "Solomon Islands",
           "SB-GU",
           "far_GUA-LUN-85-3"
          ],
          [
           "Solomon Islands",
           "SB-GU",
           "far_GUA-MAK-85-21"
          ],
          [
           "Solomon Islands",
           "SB-GU",
           "far_GUA-MAK-85-30"
          ],
          [
           "Solomon Islands",
           "SB-GU",
           "far_GUA-VAS-85-2"
          ],
          [
           "Solomon Islands",
           "SB-GU",
           "far_GUA1812_19"
          ],
          [
           "Solomon Islands",
           "SB-GU",
           "far_GUA1815_3"
          ],
          [
           "Solomon Islands",
           "SB-GU",
           "far_GUA1815_4"
          ],
          [
           "Solomon Islands",
           "SB-GU",
           "far_GUA1815_8"
          ],
          [
           "Solomon Islands",
           "SB-GU",
           "far_GUA1815_9"
          ],
          [
           "Solomon Islands",
           "SB-GU",
           "far_GUA183_132"
          ],
          [
           "Solomon Islands",
           "SB-GU",
           "far_GUA183_22"
          ],
          [
           "Solomon Islands",
           "SB-GU",
           "far_GUA185_2"
          ],
          [
           "Solomon Islands",
           "SB-GU",
           "far_GUA187_1"
          ],
          [
           "Solomon Islands",
           "SB-GU",
           "far_GUA_HBFW16"
          ],
          [
           "Solomon Islands",
           "SB-GU",
           "far_GUA_HBFW25"
          ],
          [
           "Solomon Islands",
           "SB-GU",
           "far_GUA_HBFW33"
          ],
          [
           "Solomon Islands",
           "SB-GU",
           "far_GUA_HBFW34"
          ],
          [
           "Solomon Islands",
           "SB-GU",
           "far_GUA_HBFW4"
          ],
          [
           "Solomon Islands",
           "SB-MK",
           "far_Ula_U10"
          ],
          [
           "Solomon Islands",
           "SB-MK",
           "far_Ula_U6"
          ],
          [
           "Solomon Islands",
           "SB-MK",
           "far_Ula_U7"
          ],
          [
           "Solomon Islands",
           "SB-MK",
           "far_Ula_U8"
          ],
          [
           "Solomon Islands",
           "SB-MK",
           "far_Ula_U9"
          ],
          [
           "Solomon Islands",
           "SB-WE",
           "far_WPSI_HLCNG23_28_1"
          ],
          [
           "Solomon Islands",
           "SB-WE",
           "far_WPSI_HLCNG23_28_2"
          ],
          [
           "Solomon Islands",
           "SB-WE",
           "far_WPSI_HLCNG23_28_3"
          ],
          [
           "Solomon Islands",
           "SB-WE",
           "far_WPSI_HLCNG23_28_4"
          ],
          [
           "Solomon Islands",
           "SB-WE",
           "far_WPSI_HLCNG23_28_5"
          ],
          [
           "Solomon Islands",
           "SB-WE",
           "far_WPSI_HLCNG_23_5"
          ],
          [
           "Solomon Islands",
           "SB-WE",
           "far_WPSI_sol278"
          ],
          [
           "Solomon Islands",
           "SB-WE",
           "far_WPSI_sol291"
          ],
          [
           "Solomon Islands",
           "SB-WE",
           "far_WPSI_sol292"
          ],
          [
           "Solomon Islands",
           "SB-WE",
           "far_WPSI_sol294"
          ],
          [
           "Solomon Islands",
           "SB-WE",
           "far_WPSI_sol311"
          ],
          [
           "Solomon Islands",
           "SB-WE",
           "far_WPSI_sol315"
          ],
          [
           "Solomon Islands",
           "SB-WE",
           "far_WPSI_sol335"
          ],
          [
           "Solomon Islands",
           "SB-WE",
           "far_WPSI_sol99"
          ],
          [
           "Solomon Islands",
           "SB-WE",
           "far_WPSI_sol_24"
          ],
          [
           "Solomon Islands",
           "SB-WE",
           "far_WPSI_sol_25"
          ],
          [
           "Solomon Islands",
           "SB-WE",
           "far_WPSI_sol_31"
          ],
          [
           "Solomon Islands",
           "SB-WE",
           "far_WPSI_sol_33"
          ]
         ],
         "hovertemplate": "species=A. farauti<br>0=%{x}<br>1=%{y}<br>country=%{customdata[0]}<br>admin1_iso=%{customdata[1]}<br>vcf_id=%{customdata[2]}<extra></extra>",
         "legendgroup": "A. farauti",
         "marker": {
          "color": "#FF7F0E",
          "opacity": 0.5,
          "size": 10,
          "symbol": "circle"
         },
         "mode": "markers",
         "name": "A. farauti",
         "orientation": "v",
         "showlegend": true,
         "type": "scatter",
         "x": {
          "bdata": "m1WcwTT5nMEJe5zBWNGawRkRncG3zJzB0xKcwfZwm8GEW57BNP6dwY85nsGSpJ7BH0mdwUscnsG9zpzBt8qbwUFynMEgv57BOJ+ZwYWvncF4kZ7BhcmfwRw8oMF60qDBWWWdwQOdnsGB3ZzBpsWcwXVyVsFWGVTBlJSawREfVcFFWZrBgYBSwRbSTMGfYk/BCL1Pwaa6TsE/IFDBGeBNwWpJm8EUyZXB",
          "dtype": "f4"
         },
         "xaxis": "x",
         "y": {
          "bdata": "uSGgQoD7nkLq9Z9C9UigQrLAnUKU455Cu2mfQoHOnkJrR6BCp6GhQnRXoELQTaBCnpWgQqMDoELOMqBCRkafQm90n0Lp/6BCo0+hQoW0okJvzZ9CFeefQgh/pEJCH6RCRN2fQrovoELu+p1C7uCfQjk/AcPg2gHDffqfQrw5AcPbx5lCX1sBw4M+AcMMvQHD/kUAw/vkAcPJFQDDA7UBw0T0m0IZl5xC",
          "dtype": "f4"
         },
         "yaxis": "y"
        },
        {
         "customdata": [
          [
           "Solomon Islands",
           "SB-GU",
           "hin_GUA18-3-19"
          ],
          [
           "Solomon Islands",
           "SB-GU",
           "hin_GUA18-3-5"
          ],
          [
           "Solomon Islands",
           "SB-GU",
           "hin_GUA18-9-18"
          ],
          [
           "Solomon Islands",
           "SB-GU",
           "hin_GUA18-9-8"
          ],
          [
           "Solomon Islands",
           "SB-GU",
           "hin_GUA1816_18"
          ],
          [
           "Solomon Islands",
           "SB-GU",
           "hin_GUA1816_24"
          ],
          [
           "Solomon Islands",
           "SB-GU",
           "hin_GUA1818_1"
          ],
          [
           "Solomon Islands",
           "SB-GU",
           "hin_GUA181_8"
          ],
          [
           "Solomon Islands",
           "SB-GU",
           "hin_GUA183_7"
          ],
          [
           "Solomon Islands",
           "SB-GU",
           "hin_GUA183_8"
          ],
          [
           "Solomon Islands",
           "SB-GU",
           "hin_GUA188_1"
          ],
          [
           "Solomon Islands",
           "SB-GU",
           "hin_GUA189_6"
          ],
          [
           "Solomon Islands",
           null,
           "hin_GUA_MC-5"
          ],
          [
           "Solomon Islands",
           "SB-GU",
           "hin_PP_97_89_13"
          ],
          [
           "Solomon Islands",
           "SB-GU",
           "hin_PP_97_89_7"
          ],
          [
           "Solomon Islands",
           "SB-WE",
           "hin_WPSI_HB14"
          ],
          [
           "Solomon Islands",
           "SB-WE",
           "hin_WPSI_HB2"
          ],
          [
           "Solomon Islands",
           "SB-WE",
           "hin_WPSI_HB3"
          ],
          [
           "Solomon Islands",
           "SB-WE",
           "hin_WPSI_HB5"
          ],
          [
           "Solomon Islands",
           "SB-WE",
           "hin_WPSI_HB6"
          ],
          [
           "Solomon Islands",
           "SB-WE",
           "hin_WPSI_HB7"
          ],
          [
           "Solomon Islands",
           "SB-WE",
           "hin_WPSI_HB9"
          ],
          [
           "Solomon Islands",
           "SB-WE",
           "hin_WPSI_HB_1"
          ],
          [
           "Solomon Islands",
           "SB-WE",
           "hin_WPSI_HLC_30"
          ],
          [
           "Solomon Islands",
           "SB-WE",
           "hin_WPSL_sol135"
          ],
          [
           "Solomon Islands",
           "SB-WE",
           "hin_WPSL_sol244"
          ],
          [
           "Solomon Islands",
           "SB-WE",
           "hin_WPSL_sol247"
          ],
          [
           "Solomon Islands",
           "SB-WE",
           "hin_WPSL_sol251"
          ],
          [
           "Solomon Islands",
           "SB-WE",
           "hin_WPSL_sol261"
          ],
          [
           "Solomon Islands",
           "SB-WE",
           "hin_WPSL_sol308"
          ],
          [
           "Solomon Islands",
           "SB-WE",
           "hin_WPSL_sol86"
          ],
          [
           "Solomon Islands",
           "SB-WE",
           "hin_WPSL_sol_19"
          ],
          [
           "Solomon Islands",
           "SB-WE",
           "hin_WPSL_sol_23"
          ],
          [
           "Solomon Islands",
           "SB-WE",
           "hin_WPSL_sol_29"
          ],
          [
           "Solomon Islands",
           "SB-WE",
           "hin_WPSL_sol_30"
          ],
          [
           "Solomon Islands",
           "SB-WE",
           "hin_WPSL_sol_76"
          ],
          [
           "Solomon Islands",
           "SB-WE",
           "hin_cNG-7-10"
          ],
          [
           "Solomon Islands",
           "SB-WE",
           "hin_sNG_92_62_1"
          ],
          [
           "Solomon Islands",
           "SB-WE",
           "hin_sNG_f2_92_27_20"
          ],
          [
           "Solomon Islands",
           "SB-WE",
           "hin_sNG_f2_92_27_4"
          ],
          [
           "Solomon Islands",
           "SB-WE",
           "hin_sNG_f2_92_27_8"
          ],
          [
           "Solomon Islands",
           "SB-WE",
           "hin_sNG_f2_92_41_2"
          ]
         ],
         "hovertemplate": "species=A. hinesorum<br>0=%{x}<br>1=%{y}<br>country=%{customdata[0]}<br>admin1_iso=%{customdata[1]}<br>vcf_id=%{customdata[2]}<extra></extra>",
         "legendgroup": "A. hinesorum",
         "marker": {
          "color": "#2CA02C",
          "opacity": 0.5,
          "size": 10,
          "symbol": "circle"
         },
         "mode": "markers",
         "name": "A. hinesorum",
         "orientation": "v",
         "showlegend": true,
         "type": "scatter",
         "x": {
          "bdata": "p41awcMpVsFrZVfBoV9Zwf3mV8EBJFbBFBNZwYIkW8GZ81zBo+xawfYlVcF5lzPBnjszwbmeLsHcWUDBf5tRwYKpU8Gd7lnBgZJWwR4+U8HSDUfBsh1TwRbaUcFJwU7Brz9XwSJ1WcGta1LBq/xSwSMDm8HkZk3BPlpTwXCwVsFPbVDBL0lawYi8GcFnWQvBLRkgwdY5LcE0WhLB3McWwSE3F8G3Qg3B",
          "dtype": "f4"
         },
         "xaxis": "x",
         "y": {
          "bdata": "bPH+wukvAsOLYQDDs6kBw1Y/AsNwLADDqasAwyT9AcPESgDD6SgAw1bzAcOERfjCYPzywpZj88L17+/CFwkAw2ZhAsNalQDD0z0DwzriAMOJwADDc8ECw8QcAcO5GQDDv//8wu0hAcOV2wDDXuIBw5nonkKDWP7Ct3oBw4h7AMPehwDDOtsAw+C9DMO4/APDxrkMw7b74sLfGODCterfwo/N48LtKuPC",
          "dtype": "f4"
         },
         "yaxis": "y"
        },
        {
         "customdata": [
          [
           "Solomon Islands",
           "SB-GU",
           "iren_GUA1812_16iren"
          ],
          [
           "Solomon Islands",
           "SB-GU",
           "iren_GUA1826_11iren"
          ],
          [
           "Solomon Islands",
           "SB-GU",
           "iren_GUA182_3iren"
          ],
          [
           "Solomon Islands",
           "SB-GU",
           "iren_GUA182_6iren"
          ],
          [
           "Solomon Islands",
           "SB-GU",
           "iren_GUA183_2iren"
          ],
          [
           "Solomon Islands",
           "SB-GU",
           "iren_GUA184_23iren"
          ],
          [
           "Solomon Islands",
           "SB-GU",
           "iren_GUA188_30iren"
          ],
          [
           "Solomon Islands",
           "SB-GU",
           "iren_GUA24_3"
          ]
         ],
         "hovertemplate": "species=A.irenicus<br>0=%{x}<br>1=%{y}<br>country=%{customdata[0]}<br>admin1_iso=%{customdata[1]}<br>vcf_id=%{customdata[2]}<extra></extra>",
         "legendgroup": "A.irenicus",
         "marker": {
          "color": "#D62728",
          "opacity": 0.5,
          "size": 10,
          "symbol": "circle"
         },
         "mode": "markers",
         "name": "A.irenicus",
         "orientation": "v",
         "showlegend": true,
         "type": "scatter",
         "x": {
          "bdata": "iOpzwZA4bsE8A23Bi9pswZI5a8H08XfBkVP4wNL7C8E=",
          "dtype": "f4"
         },
         "xaxis": "x",
         "y": {
          "bdata": "xoA6QunANkI5rDpC4VU3QtmnO0JyZTtCWOgFw9AvBsM=",
          "dtype": "f4"
         },
         "yaxis": "y"
        },
        {
         "customdata": [
          [
           "Solomon Islands",
           "SB-GU",
           "ore_IJ98_10_1"
          ]
         ],
         "hovertemplate": "species=A. irenicus<br>0=%{x}<br>1=%{y}<br>country=%{customdata[0]}<br>admin1_iso=%{customdata[1]}<br>vcf_id=%{customdata[2]}<extra></extra>",
         "legendgroup": "A. irenicus",
         "marker": {
          "color": "#9467BD",
          "opacity": 0.5,
          "size": 10,
          "symbol": "circle"
         },
         "mode": "markers",
         "name": "A. irenicus",
         "orientation": "v",
         "showlegend": true,
         "type": "scatter",
         "x": {
          "bdata": "Uh4DwQ==",
          "dtype": "f4"
         },
         "xaxis": "x",
         "y": {
          "bdata": "UhgGww==",
          "dtype": "f4"
         },
         "yaxis": "y"
        },
        {
         "customdata": [
          [
           "Solomon Islands",
           "SB-GU",
           "pun_SI98-12-2"
          ],
          [
           "Solomon Islands",
           "SB-GU",
           "pun_SI98-21-1"
          ],
          [
           "Solomon Islands",
           "SB-GU",
           "pun_SI98-8-2"
          ],
          [
           "Solomon Islands",
           "SB-GU",
           "pun_SIWP98-13-1"
          ]
         ],
         "hovertemplate": "species=A. punctulatus<br>0=%{x}<br>1=%{y}<br>country=%{customdata[0]}<br>admin1_iso=%{customdata[1]}<br>vcf_id=%{customdata[2]}<extra></extra>",
         "legendgroup": "A. punctulatus",
         "marker": {
          "color": "#8C564B",
          "opacity": 0.5,
          "size": 10,
          "symbol": "circle"
         },
         "mode": "markers",
         "name": "A. punctulatus",
         "orientation": "v",
         "showlegend": true,
         "type": "scatter",
         "x": {
          "bdata": "vyefRGIqn0Qd6lg/wUS0Pg==",
          "dtype": "f4"
         },
         "xaxis": "x",
         "y": {
          "bdata": "ZQQgQnpCHUKNKN3CWzLewg==",
          "dtype": "f4"
         },
         "yaxis": "y"
        }
       ],
       "layout": {
        "height": 500,
        "legend": {
         "title": {
          "text": "species"
         },
         "tracegroupgap": 0
        },
        "margin": {
         "t": 60
        },
        "template": {
         "data": {
          "bar": [
           {
            "error_x": {
             "color": "rgb(36,36,36)"
            },
            "error_y": {
             "color": "rgb(36,36,36)"
            },
            "marker": {
             "line": {
              "color": "white",
              "width": 0.5
             },
             "pattern": {
              "fillmode": "overlay",
              "size": 10,
              "solidity": 0.2
             }
            },
            "type": "bar"
           }
          ],
          "barpolar": [
           {
            "marker": {
             "line": {
              "color": "white",
              "width": 0.5
             },
             "pattern": {
              "fillmode": "overlay",
              "size": 10,
              "solidity": 0.2
             }
            },
            "type": "barpolar"
           }
          ],
          "carpet": [
           {
            "aaxis": {
             "endlinecolor": "rgb(36,36,36)",
             "gridcolor": "white",
             "linecolor": "white",
             "minorgridcolor": "white",
             "startlinecolor": "rgb(36,36,36)"
            },
            "baxis": {
             "endlinecolor": "rgb(36,36,36)",
             "gridcolor": "white",
             "linecolor": "white",
             "minorgridcolor": "white",
             "startlinecolor": "rgb(36,36,36)"
            },
            "type": "carpet"
           }
          ],
          "choropleth": [
           {
            "colorbar": {
             "outlinewidth": 1,
             "tickcolor": "rgb(36,36,36)",
             "ticks": "outside"
            },
            "type": "choropleth"
           }
          ],
          "contour": [
           {
            "colorbar": {
             "outlinewidth": 1,
             "tickcolor": "rgb(36,36,36)",
             "ticks": "outside"
            },
            "colorscale": [
             [
              0,
              "#440154"
             ],
             [
              0.1111111111111111,
              "#482878"
             ],
             [
              0.2222222222222222,
              "#3e4989"
             ],
             [
              0.3333333333333333,
              "#31688e"
             ],
             [
              0.4444444444444444,
              "#26828e"
             ],
             [
              0.5555555555555556,
              "#1f9e89"
             ],
             [
              0.6666666666666666,
              "#35b779"
             ],
             [
              0.7777777777777778,
              "#6ece58"
             ],
             [
              0.8888888888888888,
              "#b5de2b"
             ],
             [
              1,
              "#fde725"
             ]
            ],
            "type": "contour"
           }
          ],
          "contourcarpet": [
           {
            "colorbar": {
             "outlinewidth": 1,
             "tickcolor": "rgb(36,36,36)",
             "ticks": "outside"
            },
            "type": "contourcarpet"
           }
          ],
          "heatmap": [
           {
            "colorbar": {
             "outlinewidth": 1,
             "tickcolor": "rgb(36,36,36)",
             "ticks": "outside"
            },
            "colorscale": [
             [
              0,
              "#440154"
             ],
             [
              0.1111111111111111,
              "#482878"
             ],
             [
              0.2222222222222222,
              "#3e4989"
             ],
             [
              0.3333333333333333,
              "#31688e"
             ],
             [
              0.4444444444444444,
              "#26828e"
             ],
             [
              0.5555555555555556,
              "#1f9e89"
             ],
             [
              0.6666666666666666,
              "#35b779"
             ],
             [
              0.7777777777777778,
              "#6ece58"
             ],
             [
              0.8888888888888888,
              "#b5de2b"
             ],
             [
              1,
              "#fde725"
             ]
            ],
            "type": "heatmap"
           }
          ],
          "histogram": [
           {
            "marker": {
             "line": {
              "color": "white",
              "width": 0.6
             }
            },
            "type": "histogram"
           }
          ],
          "histogram2d": [
           {
            "colorbar": {
             "outlinewidth": 1,
             "tickcolor": "rgb(36,36,36)",
             "ticks": "outside"
            },
            "colorscale": [
             [
              0,
              "#440154"
             ],
             [
              0.1111111111111111,
              "#482878"
             ],
             [
              0.2222222222222222,
              "#3e4989"
             ],
             [
              0.3333333333333333,
              "#31688e"
             ],
             [
              0.4444444444444444,
              "#26828e"
             ],
             [
              0.5555555555555556,
              "#1f9e89"
             ],
             [
              0.6666666666666666,
              "#35b779"
             ],
             [
              0.7777777777777778,
              "#6ece58"
             ],
             [
              0.8888888888888888,
              "#b5de2b"
             ],
             [
              1,
              "#fde725"
             ]
            ],
            "type": "histogram2d"
           }
          ],
          "histogram2dcontour": [
           {
            "colorbar": {
             "outlinewidth": 1,
             "tickcolor": "rgb(36,36,36)",
             "ticks": "outside"
            },
            "colorscale": [
             [
              0,
              "#440154"
             ],
             [
              0.1111111111111111,
              "#482878"
             ],
             [
              0.2222222222222222,
              "#3e4989"
             ],
             [
              0.3333333333333333,
              "#31688e"
             ],
             [
              0.4444444444444444,
              "#26828e"
             ],
             [
              0.5555555555555556,
              "#1f9e89"
             ],
             [
              0.6666666666666666,
              "#35b779"
             ],
             [
              0.7777777777777778,
              "#6ece58"
             ],
             [
              0.8888888888888888,
              "#b5de2b"
             ],
             [
              1,
              "#fde725"
             ]
            ],
            "type": "histogram2dcontour"
           }
          ],
          "mesh3d": [
           {
            "colorbar": {
             "outlinewidth": 1,
             "tickcolor": "rgb(36,36,36)",
             "ticks": "outside"
            },
            "type": "mesh3d"
           }
          ],
          "parcoords": [
           {
            "line": {
             "colorbar": {
              "outlinewidth": 1,
              "tickcolor": "rgb(36,36,36)",
              "ticks": "outside"
             }
            },
            "type": "parcoords"
           }
          ],
          "pie": [
           {
            "automargin": true,
            "type": "pie"
           }
          ],
          "scatter": [
           {
            "fillpattern": {
             "fillmode": "overlay",
             "size": 10,
             "solidity": 0.2
            },
            "type": "scatter"
           }
          ],
          "scatter3d": [
           {
            "line": {
             "colorbar": {
              "outlinewidth": 1,
              "tickcolor": "rgb(36,36,36)",
              "ticks": "outside"
             }
            },
            "marker": {
             "colorbar": {
              "outlinewidth": 1,
              "tickcolor": "rgb(36,36,36)",
              "ticks": "outside"
             }
            },
            "type": "scatter3d"
           }
          ],
          "scattercarpet": [
           {
            "marker": {
             "colorbar": {
              "outlinewidth": 1,
              "tickcolor": "rgb(36,36,36)",
              "ticks": "outside"
             }
            },
            "type": "scattercarpet"
           }
          ],
          "scattergeo": [
           {
            "marker": {
             "colorbar": {
              "outlinewidth": 1,
              "tickcolor": "rgb(36,36,36)",
              "ticks": "outside"
             }
            },
            "type": "scattergeo"
           }
          ],
          "scattergl": [
           {
            "marker": {
             "colorbar": {
              "outlinewidth": 1,
              "tickcolor": "rgb(36,36,36)",
              "ticks": "outside"
             }
            },
            "type": "scattergl"
           }
          ],
          "scattermap": [
           {
            "marker": {
             "colorbar": {
              "outlinewidth": 1,
              "tickcolor": "rgb(36,36,36)",
              "ticks": "outside"
             }
            },
            "type": "scattermap"
           }
          ],
          "scattermapbox": [
           {
            "marker": {
             "colorbar": {
              "outlinewidth": 1,
              "tickcolor": "rgb(36,36,36)",
              "ticks": "outside"
             }
            },
            "type": "scattermapbox"
           }
          ],
          "scatterpolar": [
           {
            "marker": {
             "colorbar": {
              "outlinewidth": 1,
              "tickcolor": "rgb(36,36,36)",
              "ticks": "outside"
             }
            },
            "type": "scatterpolar"
           }
          ],
          "scatterpolargl": [
           {
            "marker": {
             "colorbar": {
              "outlinewidth": 1,
              "tickcolor": "rgb(36,36,36)",
              "ticks": "outside"
             }
            },
            "type": "scatterpolargl"
           }
          ],
          "scatterternary": [
           {
            "marker": {
             "colorbar": {
              "outlinewidth": 1,
              "tickcolor": "rgb(36,36,36)",
              "ticks": "outside"
             }
            },
            "type": "scatterternary"
           }
          ],
          "surface": [
           {
            "colorbar": {
             "outlinewidth": 1,
             "tickcolor": "rgb(36,36,36)",
             "ticks": "outside"
            },
            "colorscale": [
             [
              0,
              "#440154"
             ],
             [
              0.1111111111111111,
              "#482878"
             ],
             [
              0.2222222222222222,
              "#3e4989"
             ],
             [
              0.3333333333333333,
              "#31688e"
             ],
             [
              0.4444444444444444,
              "#26828e"
             ],
             [
              0.5555555555555556,
              "#1f9e89"
             ],
             [
              0.6666666666666666,
              "#35b779"
             ],
             [
              0.7777777777777778,
              "#6ece58"
             ],
             [
              0.8888888888888888,
              "#b5de2b"
             ],
             [
              1,
              "#fde725"
             ]
            ],
            "type": "surface"
           }
          ],
          "table": [
           {
            "cells": {
             "fill": {
              "color": "rgb(237,237,237)"
             },
             "line": {
              "color": "white"
             }
            },
            "header": {
             "fill": {
              "color": "rgb(217,217,217)"
             },
             "line": {
              "color": "white"
             }
            },
            "type": "table"
           }
          ]
         },
         "layout": {
          "annotationdefaults": {
           "arrowhead": 0,
           "arrowwidth": 1
          },
          "autotypenumbers": "strict",
          "coloraxis": {
           "colorbar": {
            "outlinewidth": 1,
            "tickcolor": "rgb(36,36,36)",
            "ticks": "outside"
           }
          },
          "colorscale": {
           "diverging": [
            [
             0,
             "rgb(103,0,31)"
            ],
            [
             0.1,
             "rgb(178,24,43)"
            ],
            [
             0.2,
             "rgb(214,96,77)"
            ],
            [
             0.3,
             "rgb(244,165,130)"
            ],
            [
             0.4,
             "rgb(253,219,199)"
            ],
            [
             0.5,
             "rgb(247,247,247)"
            ],
            [
             0.6,
             "rgb(209,229,240)"
            ],
            [
             0.7,
             "rgb(146,197,222)"
            ],
            [
             0.8,
             "rgb(67,147,195)"
            ],
            [
             0.9,
             "rgb(33,102,172)"
            ],
            [
             1,
             "rgb(5,48,97)"
            ]
           ],
           "sequential": [
            [
             0,
             "#440154"
            ],
            [
             0.1111111111111111,
             "#482878"
            ],
            [
             0.2222222222222222,
             "#3e4989"
            ],
            [
             0.3333333333333333,
             "#31688e"
            ],
            [
             0.4444444444444444,
             "#26828e"
            ],
            [
             0.5555555555555556,
             "#1f9e89"
            ],
            [
             0.6666666666666666,
             "#35b779"
            ],
            [
             0.7777777777777778,
             "#6ece58"
            ],
            [
             0.8888888888888888,
             "#b5de2b"
            ],
            [
             1,
             "#fde725"
            ]
           ],
           "sequentialminus": [
            [
             0,
             "#440154"
            ],
            [
             0.1111111111111111,
             "#482878"
            ],
            [
             0.2222222222222222,
             "#3e4989"
            ],
            [
             0.3333333333333333,
             "#31688e"
            ],
            [
             0.4444444444444444,
             "#26828e"
            ],
            [
             0.5555555555555556,
             "#1f9e89"
            ],
            [
             0.6666666666666666,
             "#35b779"
            ],
            [
             0.7777777777777778,
             "#6ece58"
            ],
            [
             0.8888888888888888,
             "#b5de2b"
            ],
            [
             1,
             "#fde725"
            ]
           ]
          },
          "colorway": [
           "#1F77B4",
           "#FF7F0E",
           "#2CA02C",
           "#D62728",
           "#9467BD",
           "#8C564B",
           "#E377C2",
           "#7F7F7F",
           "#BCBD22",
           "#17BECF"
          ],
          "font": {
           "color": "rgb(36,36,36)"
          },
          "geo": {
           "bgcolor": "white",
           "lakecolor": "white",
           "landcolor": "white",
           "showlakes": true,
           "showland": true,
           "subunitcolor": "white"
          },
          "hoverlabel": {
           "align": "left"
          },
          "hovermode": "closest",
          "mapbox": {
           "style": "light"
          },
          "paper_bgcolor": "white",
          "plot_bgcolor": "white",
          "polar": {
           "angularaxis": {
            "gridcolor": "rgb(232,232,232)",
            "linecolor": "rgb(36,36,36)",
            "showgrid": false,
            "showline": true,
            "ticks": "outside"
           },
           "bgcolor": "white",
           "radialaxis": {
            "gridcolor": "rgb(232,232,232)",
            "linecolor": "rgb(36,36,36)",
            "showgrid": false,
            "showline": true,
            "ticks": "outside"
           }
          },
          "scene": {
           "xaxis": {
            "backgroundcolor": "white",
            "gridcolor": "rgb(232,232,232)",
            "gridwidth": 2,
            "linecolor": "rgb(36,36,36)",
            "showbackground": true,
            "showgrid": false,
            "showline": true,
            "ticks": "outside",
            "zeroline": false,
            "zerolinecolor": "rgb(36,36,36)"
           },
           "yaxis": {
            "backgroundcolor": "white",
            "gridcolor": "rgb(232,232,232)",
            "gridwidth": 2,
            "linecolor": "rgb(36,36,36)",
            "showbackground": true,
            "showgrid": false,
            "showline": true,
            "ticks": "outside",
            "zeroline": false,
            "zerolinecolor": "rgb(36,36,36)"
           },
           "zaxis": {
            "backgroundcolor": "white",
            "gridcolor": "rgb(232,232,232)",
            "gridwidth": 2,
            "linecolor": "rgb(36,36,36)",
            "showbackground": true,
            "showgrid": false,
            "showline": true,
            "ticks": "outside",
            "zeroline": false,
            "zerolinecolor": "rgb(36,36,36)"
           }
          },
          "shapedefaults": {
           "fillcolor": "black",
           "line": {
            "width": 0
           },
           "opacity": 0.3
          },
          "ternary": {
           "aaxis": {
            "gridcolor": "rgb(232,232,232)",
            "linecolor": "rgb(36,36,36)",
            "showgrid": false,
            "showline": true,
            "ticks": "outside"
           },
           "baxis": {
            "gridcolor": "rgb(232,232,232)",
            "linecolor": "rgb(36,36,36)",
            "showgrid": false,
            "showline": true,
            "ticks": "outside"
           },
           "bgcolor": "white",
           "caxis": {
            "gridcolor": "rgb(232,232,232)",
            "linecolor": "rgb(36,36,36)",
            "showgrid": false,
            "showline": true,
            "ticks": "outside"
           }
          },
          "title": {
           "x": 0.05
          },
          "xaxis": {
           "automargin": true,
           "gridcolor": "rgb(232,232,232)",
           "linecolor": "rgb(36,36,36)",
           "showgrid": false,
           "showline": true,
           "ticks": "outside",
           "title": {
            "standoff": 15
           },
           "zeroline": false,
           "zerolinecolor": "rgb(36,36,36)"
          },
          "yaxis": {
           "automargin": true,
           "gridcolor": "rgb(232,232,232)",
           "linecolor": "rgb(36,36,36)",
           "showgrid": false,
           "showline": true,
           "ticks": "outside",
           "title": {
            "standoff": 15
           },
           "zeroline": false,
           "zerolinecolor": "rgb(36,36,36)"
          }
         }
        },
        "width": 600,
        "xaxis": {
         "anchor": "y",
         "domain": [
          0,
          1
         ],
         "title": {
          "text": "PC1 (14.03%)"
         }
        },
        "yaxis": {
         "anchor": "x",
         "domain": [
          0,
          1
         ],
         "title": {
          "text": "PC2 (7.28%)"
         }
        }
       }
      },
      "image/png": "[encoded data removed]"
     },
     "metadata": {},
     "output_type": "display_data"
    }
   ],
   "source": [
    "si_sample_df = df_samples[df_samples.country == 'Solomon Islands']\n",
    "#si_coords,  si_model = run_pca(analysis_contigs[0], si_sample_df.vcf_id)\n",
    "plot_pca(si_coords, si_model, 0, 1, 'species', si_sample_df)"
   ]
  }
 ],
 "metadata": {
  "kernelspec": {
   "display_name": "far_hin_1.x",
   "language": "python",
   "name": "far_hin_1.x"
  },
  "language_info": {
   "codemirror_mode": {
    "name": "ipython",
    "version": 3
   },
   "file_extension": ".py",
   "mimetype": "text/x-python",
   "name": "python",
   "nbconvert_exporter": "python",
   "pygments_lexer": "ipython3",
   "version": "3.13.3"
  }
 },
 "nbformat": 4,
 "nbformat_minor": 5
}
