{
 "cells": [
  {
   "cell_type": "code",
   "execution_count": 2,
   "id": "56b7a21b-a0aa-43cc-96ba-0a928d251d7c",
   "metadata": {},
   "outputs": [],
   "source": [
    "import allel\n",
    "import seaborn as sns\n",
    "import zarr\n",
    "import xarray as xr\n",
    "import plotly.express as px\n",
    "import dask.array as da\n",
    "from collections import Counter\n",
    "import numpy as np\n",
    "import json\n",
    "import hashlib\n",
    "import numba\n",
    "import pandas as pd\n",
    "import bokeh.plotting as bkplt\n",
    "import bokeh.io as bkio\n",
    "import bokeh.palettes as bokpalet\n",
    "import bokeh.models as bkmod\n",
    "import matplotlib.pyplot as plt\n",
    "\n",
    "from Bio import SeqIO\n",
    "from pathlib import Path\n"
   ]
  },
  {
   "cell_type": "code",
   "execution_count": 3,
   "id": "3c481267-0d08-4409-893c-15bf17326bbf",
   "metadata": {},
   "outputs": [],
   "source": [
    "# Define metadata and qc bool globally to start\n",
    "#define useful variables\n",
    "zarr_base_path = f\"/scratch/user/uqtdenni/afar_production_bunya/curation/uq-beebe-001/combined_zarr/{{contig}}.zarr\"\n",
    "\n",
    "# Let's start by converting zarrs for the 5 largest contigs - we can do QC on them...\n",
    "ref_path = '/scratch/user/uqtdenni/afar_production_bunya/reference/VectorBase-54_AfarautiFAR1_Genome.fasta'\n",
    "# now let's get a list of the contigs that we are going to call over\n",
    "contig_lengths = {}\n",
    "for record in SeqIO.parse(ref_path, \"fasta\"):\n",
    "    seq_id = record.id\n",
    "    seq_length = len(record.seq)\n",
    "    contig_lengths[seq_id] = seq_length\n",
    "filtered_contigs = {k: v for k, v in sorted(contig_lengths.items(), key=lambda item: item[1], reverse=True) if v > 100000}\n",
    "\n",
    "# Because these data are unstaged, we need to faff about a bit more and load the unstaged metadata to exclude extra dud samples\n",
    "df_samples_dirty = pd.read_csv('/scratch/user/uqtdenni/far_hin_1.x/work/metadata_development_20250702/sample_metadata_interim_seq_qc_pass.txt', index_col = 'derived_sample_id')\n",
    "# And load the final (cleaned) metadata\n",
    "df_samples = pd.read_csv('/scratch/user/uqtdenni/far_hin_1.x/work/metadata_development_20250702/sample_metadata_pass_qc.txt', index_col = 'derived_sample_id')\n",
    "\n",
    "# Mask removing samples we removed before the staging step of QC (that I haven't done yet)\n",
    "qc_bool = df_samples_dirty.index.isin(df_samples.index)"
   ]
  },
  {
   "cell_type": "code",
   "execution_count": 4,
   "id": "9cf4059c-f4ea-402d-9084-6e79d76ecc31",
   "metadata": {},
   "outputs": [],
   "source": [
    "# Define helper functions\n",
    "\n",
    "zarr_base_path = f\"/scratch/user/uqtdenni/afar_production_bunya/curation/uq-beebe-001/combined_zarr/{{contig}}.zarr\"\n",
    "\n",
    "def hash_params(*args, **kwargs):\n",
    "    \"\"\"Helper function to hash analysis parameters.\"\"\"\n",
    "    o = {\n",
    "        'args': args,\n",
    "        'kwargs': kwargs\n",
    "    }\n",
    "    s = json.dumps(o, sort_keys=True).encode()\n",
    "    h = hashlib.md5(s).hexdigest()\n",
    "    return h\n",
    "\n",
    "@numba.njit\n",
    "def hash_columns(x):\n",
    "    # Here we want to compute a hash for each column in the\n",
    "    # input array. However, we assume the input array is in\n",
    "    # C contiguous order, and therefore we scan the array\n",
    "    # and perform the computation in this order for more\n",
    "    # efficient memory access.\n",
    "    #\n",
    "    # This function uses the DJBX33A hash function which\n",
    "    # is much faster than computing Python hashes of\n",
    "    # bytes, as discovered by Tom White in work on sgkit.\n",
    "    m = x.shape[0]\n",
    "    n = x.shape[1]\n",
    "    out = np.empty(n, dtype=np.int64)\n",
    "    out[:] = 5381\n",
    "    for i in range(m):\n",
    "        for j in range(n):\n",
    "            v = x[i, j]\n",
    "            out[j] = out[j] * 33 + v\n",
    "    return out\n",
    "\n",
    "# Define helper functions\n",
    "def load_genotype_array(contig, qc_bool=qc_bool, df_samples=df_samples, sample_query = None, n_snps=None, is_segregating=None):\n",
    "    # Load gts and remove failed qc samples\n",
    "    z = zarr.open(zarr_base_path.format(contig=contig))\n",
    "    \n",
    "    # Variant-level mask: punctulatus_group_filter_pass\n",
    "    filter_mask = z[f\"{contig}/punctulatus_group_filter_pass\"][:]\n",
    "    \n",
    "    # Apply combined variant mask\n",
    "    gt = allel.GenotypeChunkedArray(z[f\"{contig}/calldata/GT\"])\n",
    "    gt = gt.compress(qc_bool, axis=1)          # Filter samples by QC\n",
    "    gt = gt.compress(filter_mask, axis=0)    # Filter variants\n",
    "    \n",
    "    # If an additional mask is supplied to subset the data from the finished metadata, apply, else return all samples\n",
    "    if sample_query is not None:\n",
    "        bool_query = np.array(df_samples.eval(sample_query))\n",
    "        gt = gt.compress(bool_query, axis=1)\n",
    "\n",
    "    if is_segregating is not None:\n",
    "            is_seg = gt.count_alleles()[:].is_segreating()\n",
    "            gt = gt.compress(is_seg)\n",
    "\n",
    "    if n_snps is not None:\n",
    "            gt = select_random_genotypes_sorted(gt, n_snps)\n",
    "\n",
    "    return gt\n",
    "\n",
    "def load_position(contig):\n",
    "        z = zarr.open(zarr_base_path.format(contig = contig))\n",
    "        filter_mask = z[f\"{contig}/punctulatus_group_filter_pass\"][:]\n",
    "        pos =  np.array((z[f\"{contig}/variants/POS\"]))\n",
    "        return pos.compress(filter_mask)\n",
    "        \n",
    "def select_random_genotypes_sorted(g, x, replace=False, seed=None):\n",
    "    \"\"\"\n",
    "    Select x random genotypes (rows) from a 2D array, returned in sorted order.\n",
    "\n",
    "    Parameters:\n",
    "    - array: allel GenotypeArray, shape (n_genotypes, n_features)\n",
    "    - x: int, number of genotypes (rows) to select\n",
    "    - replace: bool, whether sampling is with replacement (default: False)\n",
    "    - seed: int, random seed for reproducibility (default: None)\n",
    "\n",
    "    Returns:\n",
    "    - np.ndarray of shape (x, n_features)\n",
    "    \"\"\"\n",
    "\n",
    "    # Select random sites from that set\n",
    "    rng = np.random.default_rng(seed)\n",
    "    n_rows = gf.shape[0]\n",
    "    if not replace and x > n_rows:\n",
    "        raise ValueError(f\"Cannot select {x} rows without replacement from {n_rows} total rows.\")\n",
    "    indices = rng.choice(n_rows, size=x, replace=replace)\n",
    "    sorted_indices = np.sort(indices)\n",
    "\n",
    "    return gf[sorted_indices]\n",
    "\n",
    "def diplotype_frequencies(gt):\n",
    "    \"\"\"Compute diplotype frequencies, returning a dictionary that maps\n",
    "    diplotype hash values to frequencies.\"\"\"\n",
    "\n",
    "    # Here are some optimisations to speed up the computation\n",
    "    # of diplotype hashes. First we combine the two int8 alleles\n",
    "    # in each genotype call into a single int16.\n",
    "    m = gt.shape[0]\n",
    "    n = gt.shape[1]\n",
    "    x = np.asarray(gt).view(np.int16).reshape((m, n))\n",
    "\n",
    "    # Now call optimised hashing function.\n",
    "    hashes = hash_columns(x)\n",
    "\n",
    "    # Now compute counts and frequencies of distinct haplotypes.\n",
    "    counts = Counter(hashes)\n",
    "    freqs = {key: count / n for key, count in counts.items()}\n",
    "\n",
    "    return freqs\n",
    "    \n",
    "def garud_g123(gt):\n",
    "    \"\"\"Compute Garud's G123.\"\"\"\n",
    "\n",
    "    # compute diplotype frequencies\n",
    "    frq_counter = diplotype_frequencies(gt)\n",
    "\n",
    "    # convert to array of sorted frequencies\n",
    "    f = np.sort(np.fromiter(frq_counter.values(), dtype=float))[::-1]\n",
    "\n",
    "    # compute G123\n",
    "    g123 = np.sum(f[:3]) ** 2 + np.sum(f[3:] ** 2)\n",
    "\n",
    "    return g123\n",
    "\n",
    "def g123_gwss(contig, window_size, sample_query=None):\n",
    "    \n",
    "    z = zarr.open(zarr_base_path.format(contig = contig))\n",
    "\n",
    "    gt = load_genotype_array(contig, qc_bool=qc_bool, df_samples=df_samples, sample_query = sample_query)\n",
    "\n",
    "    pos = load_position(contig)\n",
    "\n",
    "    g123 = allel.moving_statistic(gt, statistic=garud_g123, size=window_size)\n",
    "    x = allel.moving_statistic(pos, statistic=np.mean, size=window_size)\n",
    "\n",
    "    return(x, g123)\n",
    "    \n",
    "def g123_analysis(contig, window_size, sample_query, results_dir='results_g123_v1'):\n",
    "    \n",
    "    params = dict(\n",
    "            contig=contig,\n",
    "            window_size=window_size,\n",
    "            sample_query=sample_query,\n",
    "        )\n",
    "\n",
    "     # construct a key to save the results under\n",
    "    results_key = hash_params(\n",
    "        params\n",
    "    )\n",
    "\n",
    "    # define paths for results files\n",
    "    g123_path = f'{results_dir}/{results_key}-g123.npy'\n",
    "    x_path = f'{results_dir}/{results_key}-x.npy'\n",
    "\n",
    "    try:\n",
    "        # try to load previously generated results\n",
    "        g123 = np.load(g123_path)\n",
    "        x = np.load(x_path)\n",
    "        return (g123, x)\n",
    "    except FileNotFoundError:\n",
    "        # no previous results available, need to run analysis\n",
    "        print(f'running analysis: {results_key}')\n",
    "    \n",
    "    print('setting up inputs')\n",
    "\n",
    "    results = g123_gwss(**params)\n",
    "\n",
    "    x = results[0]\n",
    "    g123 = results[1]\n",
    "\n",
    "    np.save(g123_path, g123)\n",
    "    np.save(x_path, x)\n",
    "    print(f'saved results: {results_key}')\n",
    "\n",
    "    return (g123, x)\n",
    "\n",
    "\n",
    "def plot_g123(query,\n",
    "              winsize,\n",
    "              title\n",
    "             ):\n",
    "\n",
    "    df_contigs = []\n",
    "\n",
    "    # Progress bar for contigs\n",
    "    for contig in filtered_contigs.keys():\n",
    "        \n",
    "        g,p = g123_analysis(contig, winsize, sample_query=query)\n",
    "        \n",
    "        scan_df = pd.DataFrame({'contig':contig,'pos' : p, 'g123':g})\n",
    "\n",
    "        df_contigs.append(scan_df)\n",
    "\n",
    "    # Concatenate df and save out\n",
    "    df = pd.concat(df_contigs)\n",
    "\n",
    "    # Sort contigs by length (longest first)\n",
    "    contig_lengths = df.groupby('contig')['pos'].max()\n",
    "    sorted_contigs = contig_lengths.sort_values(ascending=False).index.tolist()\n",
    "    sorted_lengths = contig_lengths.loc[sorted_contigs]\n",
    "    contig_offsets = sorted_lengths.cumsum().shift(fill_value=0)\n",
    "\n",
    "    df['contig'] = pd.Categorical(df['contig'], categories=sorted_contigs, ordered=True)\n",
    "    df = df.sort_values(['contig', 'pos']).copy()\n",
    "    df['contig_offset'] = df['contig'].map(contig_offsets).astype(float)\n",
    "    df['genome_position'] = df['pos'] + df['contig_offset']\n",
    "\n",
    "    color_map = {\n",
    "        contig: ('lightblue' if i % 2 == 0 else 'steelblue')\n",
    "        for i, contig in enumerate(sorted_contigs)\n",
    "    }\n",
    "    df['color'] = df['contig'].map(color_map)\n",
    "\n",
    "    fig = px.line(\n",
    "        df,\n",
    "        x='genome_position',\n",
    "        y='g123',\n",
    "        color='contig',\n",
    "        color_discrete_map=color_map,\n",
    "        labels={'genome_position': 'Genomic Position', 'g123': 'G123'},\n",
    "        template = 'simple_white',\n",
    "        hover_data = ['pos'],\n",
    "        title=title\n",
    "    )\n",
    "\n",
    "    fig.update_traces(marker=dict(size=3))  \n",
    "    fig.update_layout(showlegend=False)\n",
    "\n",
    "    \n",
    "    fig.show()\n"
   ]
  },
  {
   "cell_type": "code",
   "execution_count": 5,
   "id": "9770297e-13b3-42b1-b234-cafeff673b47",
   "metadata": {},
   "outputs": [
    {
     "name": "stdout",
     "output_type": "stream",
     "text": [
      "running analysis: 5fb2cf75b7cd45bb88ab3fea20554cac\n",
      "setting up inputs\n",
      "saved results: 5fb2cf75b7cd45bb88ab3fea20554cac\n",
      "running analysis: dd93b676fb5307ccca49c20580837aa3\n",
      "setting up inputs\n",
      "saved results: dd93b676fb5307ccca49c20580837aa3\n",
      "running analysis: ccbc9e222e15b46d9e0ade4c55327dce\n",
      "setting up inputs\n",
      "saved results: ccbc9e222e15b46d9e0ade4c55327dce\n",
      "running analysis: 9f6f73c5be43d90b90c70079f9335b8b\n",
      "setting up inputs\n",
      "saved results: 9f6f73c5be43d90b90c70079f9335b8b\n",
      "running analysis: a1065b0b4b8f357115f2bc144f9a61ad\n",
      "setting up inputs\n",
      "saved results: a1065b0b4b8f357115f2bc144f9a61ad\n",
      "running analysis: 4c7d059910640db7082051fecd349b79\n",
      "setting up inputs\n",
      "saved results: 4c7d059910640db7082051fecd349b79\n",
      "running analysis: ca9b3a7f90c55827f5292f801a2ccb9f\n",
      "setting up inputs\n",
      "saved results: ca9b3a7f90c55827f5292f801a2ccb9f\n",
      "running analysis: 85e8e33a1f70105726bbf3ed90475077\n",
      "setting up inputs\n",
      "saved results: 85e8e33a1f70105726bbf3ed90475077\n",
      "running analysis: 68a851e73ed9c115d5c4a08c4d18d1fb\n",
      "setting up inputs\n",
      "saved results: 68a851e73ed9c115d5c4a08c4d18d1fb\n",
      "running analysis: a837a89add69ba7788c9349236811614\n",
      "setting up inputs\n",
      "saved results: a837a89add69ba7788c9349236811614\n",
      "running analysis: 6fa2bc9fc9228d2ca348287328527ab1\n",
      "setting up inputs\n",
      "saved results: 6fa2bc9fc9228d2ca348287328527ab1\n",
      "running analysis: 3e92e35fc6e4ea8a30c8e264ae6327fa\n",
      "setting up inputs\n",
      "saved results: 3e92e35fc6e4ea8a30c8e264ae6327fa\n",
      "running analysis: 85bd9efefdc890f7327733ceab1303e3\n",
      "setting up inputs\n",
      "saved results: 85bd9efefdc890f7327733ceab1303e3\n",
      "running analysis: 4a3329f10c05f3f25f449d32f95d3af8\n",
      "setting up inputs\n",
      "saved results: 4a3329f10c05f3f25f449d32f95d3af8\n",
      "running analysis: 6ed545aba8eac626c365ed1cba816261\n",
      "setting up inputs\n",
      "saved results: 6ed545aba8eac626c365ed1cba816261\n",
      "running analysis: e2049ebc89015ba7aaa60d8f7fef3598\n",
      "setting up inputs\n",
      "saved results: e2049ebc89015ba7aaa60d8f7fef3598\n",
      "running analysis: d8ae6289ce6ea6ed7122d3204ac40348\n",
      "setting up inputs\n",
      "saved results: d8ae6289ce6ea6ed7122d3204ac40348\n",
      "running analysis: 10dd486dc3579d0c703e4e7e7173c924\n",
      "setting up inputs\n",
      "saved results: 10dd486dc3579d0c703e4e7e7173c924\n",
      "running analysis: d3dd4237e4fa7ef7c703d26c869be2c4\n",
      "setting up inputs\n",
      "saved results: d3dd4237e4fa7ef7c703d26c869be2c4\n",
      "running analysis: 920ae98c103e9adb1e7eba3a1c227efb\n",
      "setting up inputs\n",
      "saved results: 920ae98c103e9adb1e7eba3a1c227efb\n",
      "running analysis: dc572b23d0df33c4a8f0058607ee1763\n",
      "setting up inputs\n",
      "saved results: dc572b23d0df33c4a8f0058607ee1763\n",
      "running analysis: 718fd185e8236ed8109dcb944ea53549\n",
      "setting up inputs\n",
      "saved results: 718fd185e8236ed8109dcb944ea53549\n",
      "running analysis: 0649ac2fed0594b500d5001437684228\n",
      "setting up inputs\n",
      "saved results: 0649ac2fed0594b500d5001437684228\n",
      "running analysis: 3669457487de2a20bdc8c7470332392e\n",
      "setting up inputs\n",
      "saved results: 3669457487de2a20bdc8c7470332392e\n",
      "running analysis: 1de12093a66cb3ba2bd6f13f52b6ddc3\n",
      "setting up inputs\n",
      "saved results: 1de12093a66cb3ba2bd6f13f52b6ddc3\n",
      "running analysis: 3cf2093b91d2e426363b4d44772f78ec\n",
      "setting up inputs\n",
      "saved results: 3cf2093b91d2e426363b4d44772f78ec\n",
      "running analysis: f096dccb2602bd147cd6670c5d9ae885\n",
      "setting up inputs\n",
      "saved results: f096dccb2602bd147cd6670c5d9ae885\n",
      "running analysis: 753cc506643eca8732d288238d94972e\n",
      "setting up inputs\n",
      "saved results: 753cc506643eca8732d288238d94972e\n",
      "running analysis: eff9e1db960d38eca3d019075b6b64a0\n",
      "setting up inputs\n",
      "saved results: eff9e1db960d38eca3d019075b6b64a0\n",
      "running analysis: c1f36ccc2c1ccfb67514aeedf9ba97ed\n",
      "setting up inputs\n",
      "saved results: c1f36ccc2c1ccfb67514aeedf9ba97ed\n",
      "running analysis: a08e19cd41dddad93a677f6a571f1c5e\n",
      "setting up inputs\n",
      "saved results: a08e19cd41dddad93a677f6a571f1c5e\n",
      "running analysis: ef3a3c01d85814299b3c377b716c3ad2\n",
      "setting up inputs\n",
      "saved results: ef3a3c01d85814299b3c377b716c3ad2\n",
      "running analysis: e2ca924c0422de162b14f9f540a060e3\n",
      "setting up inputs\n",
      "saved results: e2ca924c0422de162b14f9f540a060e3\n",
      "running analysis: 133b5e3942a62c7fec453c0542448d35\n",
      "setting up inputs\n",
      "saved results: 133b5e3942a62c7fec453c0542448d35\n",
      "running analysis: 63d6371cf05fe6c1bfe850e39a0ede47\n",
      "setting up inputs\n",
      "saved results: 63d6371cf05fe6c1bfe850e39a0ede47\n",
      "running analysis: f10b6cd040d6455c872176f071c4714f\n",
      "setting up inputs\n",
      "saved results: f10b6cd040d6455c872176f071c4714f\n",
      "running analysis: 6b51630f94568904cdfa2f21c96d5bc8\n",
      "setting up inputs\n",
      "saved results: 6b51630f94568904cdfa2f21c96d5bc8\n",
      "running analysis: 8f8f493e944e0e4f3942f72a5447be43\n",
      "setting up inputs\n",
      "saved results: 8f8f493e944e0e4f3942f72a5447be43\n",
      "running analysis: 952513d579f401ff18f24052d41ab360\n",
      "setting up inputs\n",
      "saved results: 952513d579f401ff18f24052d41ab360\n",
      "running analysis: f03ff80a9f7c5a82c5c14fc0a8fd2779\n",
      "setting up inputs\n",
      "saved results: f03ff80a9f7c5a82c5c14fc0a8fd2779\n",
      "running analysis: 745d78f64b710a972b292528bbd2cc95\n",
      "setting up inputs\n",
      "saved results: 745d78f64b710a972b292528bbd2cc95\n",
      "running analysis: 15dbfb6c59ffdc176083f43062ac9013\n",
      "setting up inputs\n",
      "saved results: 15dbfb6c59ffdc176083f43062ac9013\n",
      "running analysis: 997b73cec1ecb12f1cddb83c2e4cba50\n",
      "setting up inputs\n",
      "saved results: 997b73cec1ecb12f1cddb83c2e4cba50\n",
      "running analysis: 8f99bc084cbb7333df542b35ed9c3a06\n",
      "setting up inputs\n",
      "saved results: 8f99bc084cbb7333df542b35ed9c3a06\n",
      "running analysis: a26fdcd23ae94a37e36036ee63554c37\n",
      "setting up inputs\n",
      "saved results: a26fdcd23ae94a37e36036ee63554c37\n",
      "running analysis: 4599f0b9c8931f65c566c11ff978a942\n",
      "setting up inputs\n",
      "saved results: 4599f0b9c8931f65c566c11ff978a942\n"
     ]
    },
    {
     "data": {
      "application/vnd.plotly.v1+json": {
       "config": {
        "plotlyServerURL": "https://plot.ly"
       },
       "data": [
        {
         "customdata": {
          "bdata": "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",
          "dtype": "f8",
          "shape": "1674, 1"
         },
         "hovertemplate": "contig=KI915040<br>Genomic Position=%{x}<br>G123=%{y}<br>pos=%{customdata[0]}<extra></extra>",
         "legendgroup": "KI915040",
         "line": {
          "color": "lightblue",
          "dash": "solid"
         },
         "marker": {
          "size": 3,
          "symbol": "circle"
         },
         "mode": "lines",
         "name": "KI915040",
         "showlegend": true,
         "type": "scattergl",
         "x": {
          "bdata": "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",
          "dtype": "f8"
         },
         "xaxis": "x",
         "y": {
          "bdata": "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",
          "dtype": "f8"
         },
         "yaxis": "y"
        },
        {
         "customdata": {
          "bdata": "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",
          "dtype": "f8",
          "shape": "1267, 1"
         },
         "hovertemplate": "contig=KI915041<br>Genomic Position=%{x}<br>G123=%{y}<br>pos=%{customdata[0]}<extra></extra>",
         "legendgroup": "KI915041",
         "line": {
          "color": "steelblue",
          "dash": "solid"
         },
         "marker": {
          "size": 3,
          "symbol": "circle"
         },
         "mode": "lines",
         "name": "KI915041",
         "showlegend": true,
         "type": "scattergl",
         "x": {
          "bdata": "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",
          "dtype": "f8"
         },
         "xaxis": "x",
         "y": {
          "bdata": "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",
          "dtype": "f8"
         },
         "yaxis": "y"
        },
        {
         "customdata": {
          "bdata": "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",
          "dtype": "f8",
          "shape": "920, 1"
         },
         "hovertemplate": "contig=KI915042<br>Genomic Position=%{x}<br>G123=%{y}<br>pos=%{customdata[0]}<extra></extra>",
         "legendgroup": "KI915042",
         "line": {
          "color": "lightblue",
          "dash": "solid"
         },
         "marker": {
          "size": 3,
          "symbol": "circle"
         },
         "mode": "lines",
         "name": "KI915042",
         "showlegend": true,
         "type": "scattergl",
         "x": {
          "bdata": "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",
          "dtype": "f8"
         },
         "xaxis": "x",
         "y": {
          "bdata": "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",
          "dtype": "f8"
         },
         "yaxis": "y"
        },
        {
         "customdata": {
          "bdata": "wBHK6BUy1UCWQ4tsy5jmQPVvhDLqJ/VAvHSTGMQz+0Coxks3bZb/QIcW2c7kTQFBvS1rdSAlA0HRItv5gaEFQSijt2UrtQdB0tuyVkgoCkEqFWcfOSQMQcrobVm7sg5BGy/dpHBVEEFaZDtfaDsRQQ4tsp2EdxJB1XjpJgJ4E0HpbVmrsQ0VQeIz7IpkNhZBbC4kzZeCF0HP91Nj63kYQSuHFlk0txlBaJHtfAXuGkF++Aw7ck4cQewKkPutmh1BggfzxIHPHkHl0CJb+wkgQatjgkdA/CBBJQaBlQ2AIUHW6pig9e4hQZE0pWIGYiJBIPeaS/jiIkGt1TFBIl4jQdqHz/DJxyNBgZVDS4klJEG1gU7bvpMkQTWl4myhASVBKOrfiFZlJUGuR+F6pMwlQWZmZia6NCZBF9nOt+6cJkEXkqZUQDAnQc/3U+PhridBdgXIvTtsKEHxGXbFhvsoQUzwYJ4NgSlBL90kBv/8KUEdEzxYy4MqQZe1OuarBStBtvP9lL6MK0E+w66A2wgsQQxJU+rOgixBYleAHCr+LEFxPQpX8XQtQbNWx4Q78C1BYhBYedFhLkGfYVeAT90uQWjYFeA9gi9Bk18sOZwNMEGjt2VNAUcwQXE9Chc6fjBBCh7MEyywMEHfT433JOEwQVmrY2JLGTFBuGWtLqRKMUGg0wba94wxQTfQaaOmvjFBF9nOV5z/MUEUrkcBBFMyQd1rLmTzrzJBcIQyGlfgMkFvy1odvRMzQXKvuRDtYDNBtvP99FWtM0GoxkuXJ/QzQZNfLBlbMzRB2BUg9z58NEGg0wY69ME0QRfZzvfR/DRBXrpJbOE8NUG1gU4bHXg1QbErQO5hrTVBAbnX3GXoNUE07ArQgiI2QVNx9oFuXDZB80T9m5mTNkHjpZtk4eM2QQ/miZrkQjdBBzptABCnN0HByqFlaug3QRVnHz5IKzhBV4Dca9dlOEFl9LYs2bI4QekmMSiZ8DhBsHJokbEbOUHUvxEqi0s5QerfCEX9ijlB2c73Ez7aOUHAEcqo8hY6QUPSlKqpUDpB46Wb5DeMOkG3rNWxp8s6QatjgocbFztByXa+H69WO0FvEoMgV487QVK4HmUiwDtBP3yGHa4LPEEmv1jyvDw8QZB7zcXAaTxBPJgnit6kPEG3rNWR0d48QadUnJ2iEz1BseQXK+5dPUHjpZskkqE9QSOU0Zth6T1BkTSlQrw7PkG511womoM+QTLBg9nW3z5BhHmiHl9CP0EpXI+CuZU/QWGeqF/A4D9BAiuHloAVQEHQsCtQVzhAQU8b6BTCWkBBlkOLPNx+QEGcffhMqqJAQUlTKv4qw0BBqX8jBBvlQEGq8dJtIQNBQXH24QNJJ0FBrBxalKxIQUEjlNEL0W9BQUGnDRTynUFBBFYOvc7AQUFqvHRzXe1BQXWTGOSjEUJBo7dlHcovQkFEi2wXaFpCQUzwYA6ZdUJBoBovLYqSQkEpXI9yua9CQURERIQwyUJBZIIH497iQkFR/0aYO/tCQfvwGQbcE0NB9P3UaO0rQ0G0yHYeq0RDQX9qvBSBW0NBdUzwAIuAQ0GVirP/sadDQX74DDuMxkNBcyFpuhThQ0EzMzPzDAFEQeAIZaRGLERBEzyYl+5UREHpbVm7BX5EQedC0jTRmkRByuhtCea3REFLfrG0vuBEQQ4tso0EA0VB5dAie0sjRUGnDXS6F0RFQby7u5s2Y0VBI9v5vhh+RUH24TPMf6RFQbpJDKK+v0VBuddc+JvXRUGYJ+ofzPBFQcuhRfZUDUZBGQRWXg8mRkGxK0A+tD5GQQll9IblWkZBBzptwMV1RkG0yHY+ppNGQedC0gQ8ukZBObTIhtraRkFzIWlqmPpGQcOuAFnkF0dB0tuytlY2R0HaQKdNNFVHQU5iEJjzd0dBLPnFQkejR0HS27KWkcVHQcI8Ua8D5EdBREREVJADSEGOUEY/aCFIQRVnH+6NQ0hBPVH/drtkSEFcj8I1+4dIQVsdE/zwskhBEsrofbDVSEEFyL0mg/NIQVnyi6VRE0lBOyZ4cGQuSUFEREQktUxJQXVM8KAJaUlBXrpJfCWASUHufD+FCpxJQVnyi5VSvUlBc2iRzarfSUGWQ4us/ApKQSPb+Z70NkpBfvgMK6JcSkHQsCuwkHxKQeXQIsuynkpBZmZmFk66SkF2Bcg9WNVKQVH/RkjB8kpBf2q8FOsPS0FmrY4JvixLQXTaQHfQT0tBfT81/vdpS0GGXQFygIZLQUrF2TeDo0tBMzMzA2S+S0HdJAaB+9hLQe58P6VB9EtBQacNZMMaTEFgLPmFXz9MQQxJUxrRYExB9W+EAkZ8TEH6fmo836JMQeAIZbQFy0xBqTj7AF/rTEFRRm/LsQtNQZngwSzRIE1BEJ9h96E3TUEMAisnwVFNQe3DZ0jXa01Bov6NUGyFTUG+5kJSSqRNQVVVVdWExU1BexSuN0znTUFkO9//bgxOQScxCExRLk5B2FxISl5QTkHfT43XD21OQfVvhFJ7jU5Bnu+ndvW1TkH0/dQI6dZOQZ6of9Oi9E5BTxvoFJYhT0HS27Im1DxPQSD3muuBX09B0tuyptiDT0HwYJ7IVK9PQQ27AsS/109BZx8+y0UDUEF56SbJKhFQQZWKs5ffHlBBFiD3WowrUEHe3d0VzDdQQd9Pje9UQ1BBLPnFUmpPUEEhaUoVfFtQQbKd7zeDalBBkxgE3th4UEHjpZtsgYZQQXe+nzJyklBBmwtJa5CfUEGxK0CGKa9QQYuzD7+au1BByS+WzJ/HUEGTXyyZ2NVQQRyhjO6k4lBBqvHStTvwUEE30GlbFv1QQbqQNI2MCVFBBoGVc5kUUUF++Awj1x9RQQIrh3blK1FBjZduguU4UUFyr7nImUlRQeOlm9SWWFFB5/upqZ5nUUEywYOZeHtRQUoMApMoh1FBM3pbtueUUUGLsw/vPKFRQWIQWOl6q1FB5/upIUG7UUHwp8ZTFs9RQU2pOPNn4FFBpHA9GtnvUUE/NV7KFf1RQZngwZxxC1JBhHmi9lwYUkG28/08JSRSQWZmZhZhMlJBjlBG/89AUkHzRP2rCk5SQXyGXVmbWVJB/0YoixFkUkGYbhJbbm5SQQG518wgeFJB7FG4Xt2CUkFoke1cuY1SQXNokdU6mVJBJngwd9ukUkGLsw9fdbBSQSijt5Xgv1JB/RuhjJbNUkFkggczRttSQQAAAHC17VJBX3MhUToKU0GAI5Txfx5TQci95sp3LlNBagOdrsJBU0H6fmosFlBTQT81XgK7XlNBwjxRRxhsU0HflrXqQ3hTQdCwK+AChVNBggfz1N+TU0Gjt2VtgahTQRVnH64nulNBy6FF/pvHU0GamZkhhdNTQY3elo2V31NBwcqh7evrU0F4ME/csvlTQcXZhw/2ClRBN9Bp45cYVEH/RijLbSdUQS4kTXFWOlRBke18v9xIVEGrY4IXX1ZUQaJFtquiY1RBmwtJM7VuVEHiM+wS3nlUQbes1SEahVRB4+zDB26QVEGEMnojPZxUQexRuK5gq1RBtvP9XOm6VEE30GkjLcdUQcaSX6w40lRBIbBymDXdVEGW/GIxb+hUQQrXo3BC9FRBz/dTQyAAVUEAAAAAVAtVQb6fGvdhFlVBv1jym9wpVUHnQtKUlThVQe3DZ7B5RlVBfvgMk8BXVUHzRP0zhWZVQfKLJb+uclVB0LArmNV+VUHBg3kaJ4pVQTCW/NLJmFVB0SLbESmlVUG9LWu9oLFVQZpScZbrvFVBfT81/izHVUGfYVegcNFVQbNWxzQN3FVBwYN5olHmVUGZ4MFEKPFVQU5iECjm+1VBLPnFct4JVkFGtvO1GBhWQbsC5NZQJlZB1uqYCAE1VkEFD+aJJEJWQQ/miarlUFZBWDm0UCdjVkFqvHST7HFWQe41F4J4f1ZBuwLkVh+MVkHTTWLglZlWQVfHBGdapFZBn2FXEHu2VkEX2c7nV8tWQQjzRAV02VZB4jPs0rTlVkESg8Aic/JWQbnXXNhE/lZBGEt+Cc4IV0GPwvXgTRNXQaabxFjhHldBX3MhkYMtV0EmeDCfazpXQbY6Jji2RVdB5F5zeTtQV0Eg95o7y1pXQfeaC8kBZldBHswTXZxwV0FPG+gMJ3xXQdYxwXMCiFdBxwQPFgCUV0FiV4AcmaNXQYIH8wzKsFdBAAAAaP28V0F1TPDIBclXQal/I2Q+1VdBZfS2lJfgV0Emv1i68O1XQUlTKh7C+VdBGnYFeEwFWEHsCpCbRhBYQWGeqNdfG1hBNheSrjgmWEGJQWDF8TBYQVCNl55XPFhBmG4Sc39KWEFI4XoseFdYQfBgnkilY1hBqTj74B9vWEGJiIg4r3pYQVyPwo2ChlhBke18R+WTWEHK6G159p5YQdgVIK85qlhB16NwFWi2WEEqzj7MSMtYQXTaQJeB11hBT9S/qZDiWEGrqqpqcO1YQQ27AnwK+FhByXa+Zz8CWUEHOm0AEw1ZQWjYFUh0F1lBY8kvDpghWUEhsHLggSxZQYwlv0B5N1lBkqZUrJNFWUExCKwsd1FZQVvW6jBiXVlBHVpke5tpWUGrqqr6ynVZQby7u/u+gllBIiIiyiCQWUGeqH+zzqNZQYmIiLh/sVlBnu+nFly8WUFU46V7v8ZZQVmrY3Lz0VlB3SQGKTfeWUGDwMqhUu5ZQdYxwUOl/llBrwC5Pw8KWkGgGi916BRaQUIZvV1EIFpB4Ahl7FEuWkGaUnFuRjxaQT1R/5bIR1pBZDvfV6NcWkG1gU4zCnVaQZngwWyzg1pB9ihcrxGQWkGmm8S4/pxaQR1aZDsKqVpB5/up4Ty1WkGPwvVYbcRaQaabxCD/0VpBexSux67gWkEHOm1oTu9aQfgMu5KFBFtBQO41R30XW0ECK4e+9CVbQfeaC+nHNFtB2FxIwplDW0ExCKyUI1FbQbqQNC0yXltBYOXQYnFtW0Fcj8IlxX5bQVMqzn6Rj1tBBQ/mubigW0EywYPJgK5bQVMqzj5+vVtBq2OCZ7zNW0GNl25Szt1bQf0boVxy9ltBF5KmRAQWXEFGb8vSQylcQWQ73/9YP1xBBFYOHalSXEF6ov6V43dcQT7DrqC+jVxBBoGVG/mYXEE30GljTaVcQZ9hV3iYs1xB+Ay7EjLAXEFJUyp+VsxcQbgehVNT11xBYOXQUt/hXEF6W9YCH+xcQWAs+V2I+FxBblmre8kDXUG4HoWDpQ5dQYR5ohZaGl1BBQ/m4bIlXUH0/dRgATBdQfp+alweO11BIbBygC5HXUHEZ9iVI1RdQZpScVbeX11BFiD3QnJrXUGQe82V33ddQdv5fkIjg11BUrgerU6PXUHSlIr7qptdQfyp8VJXp11BI5TRU02zXUFjyS9+KL9dQT7Drph3zF1BPJgnunjYXUEEVg4Nc+ZdQY/C9XCw9V1BBci9PtYJXkH7N0J5zxheQbes1XntJV5BzYWkCT4zXkED5F6ro0JeQQXIvdZgUF5BWfKLtcBdXkEMAis3zmxeQR+F6yn5eV5BN9BpA22JXkGhjN4GnZleQcl2vqc0qF5Bw64Aqd+3XkF6ov6tFMdeQWatjpkD015BVVVVje/gXkFD0pRi4+1eQW/LWuU9+15B1uqY2FYHX0F6ov69cRRfQVeA3NPOIV9BtYFOUwwvX0HRItup6jxfQXyGXaFLSV9BnTbQASlWX0EIrByy1mNfQXsUrgeXcV9BWmQ7Txt/X0HK6G3Ru4xfQfBgnlDEmV9BSgwCOxmmX0HME/W/DLJfQdyyVo+Yv19BpSkVN7nNX0EXkqaswNpfQSz5xWpB5V9BhxbZHo7vX0F1TPCob/9fQVCNl5aiB2BBNV66ESoSYEHmifobwBpgQYuzD/NpJGBB3SQGsbQxYEG+5kJOnzdgQWIQWLXXPmBBpHA9MpdHYEEMSVMiw05gQQG51yhjWGBBoBovLRdmYEEiIiIuu25gQekmMShZdmBBrBxaANt+YEGXtTqSxYVgQbByaKEkjWBBPzVeatyTYEFM8GB2QZtgQVmrY3YcomBBAiuHcmOpYEG1gU67PbFgQeXQIoPkumBBAXKvYV7CYEEX2c67CcpgQdQGOgnw02BByXa+s2/eYEGamZlRmu1gQc/3U4c69mBBO99PYfX8YEGCB/McSgNhQQxJU+YBCmFBoNMGQogXYUEua3X8CSNhQa5H4foPKmFBi7MPGwE0YUEhaUrN7jphQRyhjMaqQmFBME/Up1NJYUGEMnoj6FNhQQll9OK2XGFBMzMzZxtkYUHK6G2VD2xhQYcW2W6+c2FBmG4SW5t8YUEuJE2dHoZhQWjYFWj6jmFBpw10yiCXYUGeqH9rYp9hQfT91ACqp2FB1Xjpgr6uYUGMJb9k/LZhQfLSTYL/wGFBxSCweuTJYUH3mgtlQ9JhQcUgsCYa2WFB/WLJv9vhYUHNzMzA4+hhQdKUittv72FBov6NOET3YUGvALlzpf5hQfEZdnFEBGJBZmZmzoIKYkG+5kJKxhFiQSRNqQx5GGJBi7MPk4seYkHfT40j3iRiQcRn2FmSK2JB46Wb9C8yYkEnMQhAHDhiQTsmePCpPWJBzczM/E9DYkFqvHTfTkhiQfLSTWJYTWJBfvgMIwVSYkERERGxQldiQSPb+Tp7XGJBSVMq5nBhYkERERGJSGZiQdCwK/ALbWJBEzyYW2h5YkEwlvyGXoJiQaXi7C/JiGJBYleALEGOYkEP5on6ypNiQTEIrAwunGJBYhBYXeahYkEFyL32AKdiQZB7zXVNrGJBwBHKlDeyYkHuNRdm3LdiQWlKxcmDvWJBbxKDlGbDYkHnQtLwi8xiQfgMuzLv0mJBnqh/g8nZYkGx5Bc3UOFiQZZDi+yP6GJBTak4f1jxYkEywYN5xPZiQRhLfjWB/GJBnTbQ2YIDY0HhehTWLwpjQaDTBgLOEGNBvHSTDO4WY0E/NV7ixxxjQePsw4PxImNBGEt+bS0pY0HsCpCbdi9jQUa282m3NWNBd76fFgE8Y0ErhxYxPkJjQc4+fHaOSWNBpw106stPY0HhehRqzFVjQci95jqdXGNB2c73lwZjY0GGpCk1i2ljQckvloQ0cGNBRrbzdbV2Y0HLoUVe73xjQWlKxZXTg2NB2c7379+KY0Fx9uE3NZNjQSijt/02mmNBhxbZ3mKhY0GBlUMr96hjQfS2rAm8r2NB/RuhKOi2Y0EhaUphOL5jQX6x5INexmNBKOrfWB/OY0FgLPmRl9RjQVvW6mzz2mNBTPBgUiviY0HWMcEzUOxjQSz5xaai82NB8KfGj9/6Y0Efhetx5wFkQbsC5NLwCGRBmwtJz3APZEEsQO5puRVkQR0TPIi+G2RBBzpt9EUjZEFx9uFL4itkQbKd7+syM2RB8osls0E7ZEHflrUiA0JkQbKd738DSWRBggfzxDlQZEGe76fSMVhkQXVM8MSNYGRBTmIQ/MRnZEF1kxh4R25kQZb8YvFtdGRBrBxaSDZ7ZEFVnH3UEYJkQYlBYEn8h2RBoYzeZimOZEE/fIbJMJVkQXqi/glDnmRBO99PhdekZEF++AzTM6tkQYts53sGs2RBA+Reu825ZEED5F4f9r9kQZKmVLAPxmRBhl0BWv/LZEHzRP3Hs9FkQQrXoywZ2GRBtjom8HHeZEGdNtCpguRkQak4+3jP6mRBkHvN7ZvxZEFI4XpchfdkQY5QRvuw/WRBDi2y+ToEZUGnDXQaDAtlQVCNl96SEmVBfM2FoHUaZUGWQ4tQCCFlQX74DEe1J2VBFK5HtUcuZUHq3whBQjRlQb9Y8uePOmVBoYzezu5BZUHnQtJweUhlQeHBPEF2TmVB0LArWPlUZUFzIWmyNVtlQfeaCwXdYWVBzczM6FtoZUEoo7dV229lQQ27AgjgdmVBF9nOs5R8ZUHJdr4vGoJlQfVvhC43iGVBf2q8sGmQZUH9YslLAZtlQWAs+WUAomVBpHA92p+nZUHzRP1nIa9lQRT1b7ijtWVBUUZvFz29ZUEj2/m+VcRlQWcfPhtvy2VBA502vP7QZUGYbhK/vNZlQfnFkjPD3WVB7FG4ltHjZUGpOPuYiutlQUZvyyKZ8WVBBci9fqb3ZUGgGi+BbP5lQak4+7DdBGZBrdUxuZMKZkEiIiIS9w9mQaAaL1XkFGZB4XoU6nEaZkH3mguRdyBmQa5H4Wb+JmZBWatjSsMxZkFGtvNpKThmQeRec2mCPmZB6LSBbiBEZkHuNRcSFEtmQe58P03gUWZB2FxIEthXZkEcoYwGOF5mQVCNlz5UZGZBEJ9hY1tqZkEywYMB+m9mQfS2rFHedWZBiYiIkE57ZkHTTWIczYBmQURERChfhmZB5dAi6weMZkHiM+x+GJJmQe/u7j55l2ZBa3VMuGCdZkEmeDAvUKNmQQuQe70JqmZB/41QhuWwZkEFyL1CObhmQX0/Nca0v2ZBfIZdkQjHZkF7FK63O85mQTYXki691WZBlYqz2+TcZkEua3WMgONmQX0/NUb/6mZBYZ6oozLyZkFsLiSdF/lmQVnyixHp/mZBME/UU9IEZ0FGtvPJ/gpnQdhcSHopEGdBdUzwRMUZZ0EbL90EkCNnQdEi2xnYKWdBPsOuYIEwZ0EX2c6fBzhnQVMqzkLnPmdB80T9s+VDZ0GCB/NQV0hnQWlKxcXfTGdBEzyYV8tRZ0GSplQUtlZnQTN6W+Y4W2dBX3MhqQVgZ0HQsCsgUWVnQawcWuz5a2dBdUzwlKxxZ0Hl0CI7xnZnQa3VMRVdfGdBCh7MU9iCZ0GCThu4C4xnQQG519gKlGdBelvWlkGcZ0HufD8VBqJnQUoMAsf1p2dBK4cWabatZ0GlKRU3ebNnQZhuEo8puWdBN9Bps4q/Z0EU9W8sNMVnQURERGDYymdBSOF65NXPZ0EQWDlcM9VnQef7qUFf2mdBLmt1iPjeZ0Hq3wgRPONnQf7UeDnT52dBnu+ndoHtZ0EOLbIxofJnQXWTGOxN+GdBT9S/idD+Z0HfT40/VgVoQbx0k4zxCmhBb8taxVcQaEHwp8anMhZoQR8+w+67G2hBhxbZHuwgaEFbHRPkWCZoQXCEMk5fK2hBOm2gi54waEFCYOXcTTZoQQoezHvcPGhBSVMq8slEaEF3d3cflktoQdEi29kLUmhBA+ReL3dYaEGVirN/Y19oQVWcfdBbZmhBkTSlBi1vaEEezBMNqXhoQV4BcgP/f2hBF9nOM/uGaEFo2BV0nI1oQYakKS13lGhBfvgM/+maaEGcxCC8HaFoQTTsCkByp2hBWx0TIPetaEHuNRdS7bNoQeHBPDHBumhBFK5HdXTBaEGwcmhduMhoQQwCKyf4zmhB+zdCWbHUaEEqzj5IAtxoQYPAytlA5GhBI9v5msnqaEHIveYOvfFoQS2ynWcR+GhBn2FX4LP9aEH7N0L53gRpQV1ImuK1CmlBEzyY4x8QaUFRRm+fShVpQSxA7vUZGmlB8osl2/IeaUGpOPswXydpQTn78MXgLGlBI5TRR8wxaUG9LWv9xDZpQWQ73xcbPGlBxGfYzRBCaUGlKRXrz0lpQd0kBsWFUmlBhDJ6owpZaUFRRm9b3F5pQTLBgzWnZGlBt6zVefdqaUFtoNOuCXRpQY/C9TgXfmlBq2OCF3+FaUE+w65sjIxpQcwT9Wdmk2lBqMZLn0ebaUF7FK43+KFpQerfCLV7qWlBWx0TqM6waUHOPnwi+LdpQZhuEjOOv2lBagOddlHHaUGOUEZjjs1pQbErQKL902lBiYiIpEXaaUHF2Yc3YuBpQcrobW1B6GlBqTj7tLTuaUGrqqom1vRpQajGS1+X+2lBz/dTF5UBakGgGi95xQdqQSIiIi5WD2pBmG4SJzcWakE2F5KKEx1qQV66SWjkI2pBr7mQpIspakHP91NH+y5qQUSLbEvCNGpBuGWt1vs5akGtjgk6jT9qQfyp8aIDRmpBHz7DWkBNakFbHRO0oVJqQYXrUQAFWGpBKs4+BPtiakEMAitvyWhqQQwCKyNFbmpBGQRWStZ0akFgLPkh0HpqQX74DA/egGpBdUzwbF2HakETPJhPno9qQT98hmWwmGpBjCW/HM+dakHAEcogK6NqQZB7zVG9qGpBtjomiDKuakEYS36dzrNqQWDl0HKLumpBLPnFmqTAakEGgZVLYsZqQa2OCW5WzGpBn2FXXJjSakEzelvaqdhqQe/u7kbg3mpBv1jyd0TlakF8zYX0eutqQVCNl+pe8GpBQO41+xr2akE6baD3OfxqQYQyenvaAmtBRyijQ44Ja0GRNKWmbQ9rQa5H4S5AF2tBbxKD6Fwfa0F02kC3fCZrQak4+8CgLGtBrY4JFqQza0G511zkpTprQQUP5oEwQmtBi7MPu3RIa0EcoYzym1FrQb7mQpoSXGtB6W1Zw7Zka0FD0pSuFWtrQT81XlIvcWtBYleAiDF3a0Goxkvrw31rQXWTGDw+hGtBLmt1GIOJa0EjlNHjv45rQR7MEz0alGtBy6FFfo+Za0HGkl/UfJ5rQSOU0WcWpGtB5dAiby2pa0Emv1g2pLFrQQrXo/izt2tBRm/LJla9a0EU9W+4CMRrQXyGXQU5zGtB5/upYTbZa0FiEFhhHeFrQcHKoWHZ52tBBFYOTf3xa0H9YsmnHPprQXKvuUgcBWxBF5KmJIQObEFkO9/jUBNsQRm9LVf2GGxBYhBY9QEgbEFR/0ZExSVsQY8JHvjxKmxBRm/L4uwvbEEzeltSVjdsQaJFtuMDRGxBgZVDN+lNbEFeAXKXyFVsQawcWnC+XmxBaJHtkNZlbEFGb8u2Y21sQcUgsHaOdmxB9uEz5Bd+bEHsUbiOKYZsQURERLg0j2xBGQRW2myYbEFvEoOYbqBsQZzEIChJqGxB/0YovxiwbEFaZDvvgLdsQYjPsOMOw2xBk18s6QzKbEHVeOn23dFsQUIZvele2WxBelvWUlnfbEEv3SRKpeVsQWiR7TzB7WxBSsXZ1xH0bEEcoYwO2/psQSlcj6oRAW1BYleAoAQHbUEVZx8GQA1tQXNokV09E21BTDeJGXoZbUH4U+OlTR9tQUrF2f8OJW1BCh7Mm/csbUESyujNADRtQcrobeWEOm1B+zdCUVxAbUHsCpB3GEdtQe/u7mLBTm1BzBP1v65UbUELkHtxW1ptQRBYOZxMYG1BAXKvqe9mbUGvALnnjG5tQd9PjVv4dW1BMzMzUxN9bUGtjgkar4RtQReSpuhti21BbC4k8YaTbUED5F7zqJptQXyGXfGNoW1Bggfz+CCpbUFU46Xfm7BtQePsw28KuW1BoYzeatrBbUFgLPmB78ptQfvwGTZt1W1BMJb8mjTgbUEOdNrwYeltQf1iycNk8m1B",
          "dtype": "f8",
          "shape": "1065, 1"
         },
         "hovertemplate": "contig=KI915043<br>Genomic Position=%{x}<br>G123=%{y}<br>pos=%{customdata[0]}<extra></extra>",
         "legendgroup": "KI915043",
         "line": {
          "color": "steelblue",
          "dash": "solid"
         },
         "marker": {
          "size": 3,
          "symbol": "circle"
         },
         "mode": "lines",
         "name": "KI915043",
         "showlegend": true,
         "type": "scattergl",
         "x": {
          "bdata": "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",
          "dtype": "f8"
         },
         "xaxis": "x",
         "y": {
          "bdata": "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",
          "dtype": "f8"
         },
         "yaxis": "y"
        },
        {
         "customdata": {
          "bdata": "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",
          "dtype": "f8",
          "shape": "718, 1"
         },
         "hovertemplate": "contig=KI915044<br>Genomic Position=%{x}<br>G123=%{y}<br>pos=%{customdata[0]}<extra></extra>",
         "legendgroup": "KI915044",
         "line": {
          "color": "lightblue",
          "dash": "solid"
         },
         "marker": {
          "size": 3,
          "symbol": "circle"
         },
         "mode": "lines",
         "name": "KI915044",
         "showlegend": true,
         "type": "scattergl",
         "x": {
          "bdata": "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",
          "dtype": "f8"
         },
         "xaxis": "x",
         "y": {
          "bdata": "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",
          "dtype": "f8"
         },
         "yaxis": "y"
        },
        {
         "customdata": {
          "bdata": "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",
          "dtype": "f8",
          "shape": "737, 1"
         },
         "hovertemplate": "contig=KI915045<br>Genomic Position=%{x}<br>G123=%{y}<br>pos=%{customdata[0]}<extra></extra>",
         "legendgroup": "KI915045",
         "line": {
          "color": "steelblue",
          "dash": "solid"
         },
         "marker": {
          "size": 3,
          "symbol": "circle"
         },
         "mode": "lines",
         "name": "KI915045",
         "showlegend": true,
         "type": "scattergl",
         "x": {
          "bdata": "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",
          "dtype": "f8"
         },
         "xaxis": "x",
         "y": {
          "bdata": "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",
          "dtype": "f8"
         },
         "yaxis": "y"
        },
        {
         "customdata": {
          "bdata": "4XoUrsc2u0BkggfzJNPXQOAIZfRKqOlAr7mQNB978kA30GkDwYr3QEw3iUHsO/xA80T9G6Fd/0BGtvP9lSUBQZ6ofyPkkQNB+cWSX17zBUFCGb0t1U0IQY2XbhKJygpBZq2OCX49DUFMN4lBDJUPQRSuR+E0vRBB/WLJLygTEkF+seQX7h0TQcP1KFxkHhRBSOF6FAEEFUELkHvN1ucVQbTIdr7e8hZB3LJWRyztF0GbC0nTcrIYQYIH80TudBlBEsro7RdWGkEpXI9CUFsbQSrOPvxIjhxBq2OChxHZHUG4HoVr7QEfQWQ738+AFyBBnH34DLB/IEHwp8ZLGtMgQfeaCwm5PCFBY8kvluagIUHByqFFlvQhQRKDwIpQVCJBke18v6zgIkFU46Xbz+cjQXTaQGcCbSRBuddcCGjvJEGwcmgRLGslQbHkF8s15iVBmlJxNtxwJkFcj8K1CjonQeUXSz4F/SdBdZMYRI2aKEHn+6kx2/IoQZWKs08LVClBEzyYJ0npKUGLsw9fhGUqQS4kTeky8ypBseQXS6x2K0ELkHtN9O8rQVYOLbIZayxBa3VMMHLjLEEs+cXSsUktQdbqmCAdqC1BfIZdQacPLkGi/o2QCncuQWAs+YVC2C5B7nw/dZM0L0HD9SjclYwvQdbqmGAV7y9BNheSZpkrMEEnMQjsUHkwQfYoXE8nwDBBMJb8YhodMUEQn2F3xVYxQUcoo7cZhjFBcIQy2o6zMUFPG+h0yN8xQXsUrme2EzJBsHJosZJVMkHl0CIb3KAyQZZDiwzj2TJBOfvwub1RM0H0tqx1uqMzQZNfLJlC0zNBhHmi3ugJNEFcj8JVtz00QQOdNjCUbDRBbxKDoDGYNEHv7u4ub8Y0QYPAyqE+8TRBwjxRnw4cNUGMJb+Yn0Y1QcGDeSKocDVBseQXayCcNUFImlJxf8o1QQ4tsj0GATZBDnTaIJI1NkHME/XvXF42QfVvhBLdhzZBUyrOnmW5NkHHBA/Gz+02QVYOLXLoMjdBvuZCkh5pN0G9LWu1Q6E3QcOuAPmi0zdBGb0tC48JOEGW/GLpvD44QU2pOPvOdzhBXgFyr/60OEFtoNNmMvw4QTMzM1OHPDlBtA+fAQV+OUEWIPd6csM5QUrF2Ue1ETpBQhm9DTJkOkEywYM5RKY6QVeA3EuF4TpBDAIrJzogO0FZ8ovFWl47QYuzDx+VuztBC5B7DVkLPEGTGARWZEs8QQXIvQaMgzxBelvWSo+7PEEIrBza6Ow8QY3ellWOGz1BggfzZNtMPUH8qfGSXHc9QUcooze4pT1BdNpAp3PbPUED5F6TrxA+QQAAAAAeRj5BmeDBHFaBPkESg8Cqg7k+QXnpJlEg6D5BZmZmJlIeP0GSplS8r1E/QYIH82Q7gj9BtMh2Hv6zP0E7309NuuY/QfgMu2KEDEBBPJgnOqUjQEEfPsN+5TpAQUSLbAceWEBBhqQpBWNzQEEezBMFBo9AQa3VMXF7ukBBYZ6oz0DcQEFOYhAIEgFBQdbqmDAgPEFBkTSlgnFiQUG511zItolBQd0kBnFCpkFBbC4kTdfIQUHHBA+mWOtBQQ/miaqRHUJBxwQPRlhCQkHVeOlGhGhCQWq8dAN3jkJBSVMqjpWyQkFyr7mQR+hCQQll9JYkEUNBP3yGrf07Q0ED5F4T22NDQXqi/j2kfkNBWDm0uF+bQ0H/RijTrMVDQc2FpHlR50NBvuZCUvQJREEHOm0AfipEQSlcj4IQUERB7jUXoqttREEfPsMuQpJEQZngwez/tkRBXUiaYlLWREGAI5QhwfZEQVWcfTh1FUVBcfbhg6w+RUEBudcc4WBFQSjq37hdfkVBAXKv+RqeRUFeAXIfWcNFQUGnDVQU8UVBCh7MIycfRkGbC0nTcT9GQQ502hCUX0ZBxwQP9tN+RkGcxCDQaJ1GQbHkF3sjwEZBd3d3VwnhRkH0/dRYg/9GQSIiIqLTIEdBg8DKcbNDR0G/WPLrH2ZHQaL+jRDkhkdBP3yGrb+kR0GN3pY1VcBHQcwT9f/A4UdBpeLsY5gESEG7AuSeDzVIQYR5oj7VVUhBMsGD6WRySEEQn2FHRo9IQXpb1urDqUhBzBP1L/7HSEH1b4SS9v5IQS5rdSysJUlB7cNnCDVTSUGDwMrBL4lJQSlcj8Jmp0lBy1odk7fCSUEtsp1vpdxJQb0tawVW9klBPzVe2rgTSkGkcD3qUC9KQcaSX7wzSEpBfvgMq8lgSkEEVg6tandKQX74DLuUjkpBWx0TfAKlSkFGb8s6K75KQYGVQ4vW2UpBuwLk3h77SkF6W9YKKiJLQaO3ZY2FTUtB3t3dfdh3S0GTGASWhZxLQZqZmelMyUtBPzVeepPvS0E3iUFwchZMQSrOPsy+NkxBd3d3Rw5TTEGfYVcgRnRMQZNfLGmKoUxB9P3U+EDDTEHVeOlGgN5MQYr6N5Lq+UxBJr9Y8pMfTUEtsp3Pmj9NQWlKxcmQWU1BUrgexTdyTUFtoNN2ppxNQbHkF9vpwU1BtYFOG2npTUFJUyr+oQxOQTfQaWNJKk5B3SQGwY9FTkEYS35hX2NOQT81Xmqhhk5BERERIRqkTkG4Za1eX71OQZe1OlYh305B0tuyRg79TkE9Uf+mWxVPQRp2BZjoK09BsStA/gRLT0F1kxjUOmlPQUzwYO5Sh09Bsp3vhzGiT0HDrgDJtb1PQctaHVMl109BXrpJbBLsT0HdJAbBAQRQQYDca17xElBBwjxRp94gUEFEi2zPETBQQWIQWHm7PVBBW9bqaLxJUEE8mCfailtQQawcWoR7cVBBDnTamDSAUEHcslanRY5QQTyYJ5J+mlBBYCz5Je2mUEFGb8vKuLVQQSz5xSomxlBBQhm9Za/VUEFoke3MXORQQfhT46Xg8lBB/KnxiuIAUUHYFSAvEg5RQX74DFvMGlFBmwtJm6MoUUHWMcGLhDZRQXMhacpXRFFBsp3v50FSUUEv3SQOvmFRQTeJQfAIc1FBOyZ4SKWDUUGlKRVn/ZZRQTn78IENrlFBQ9KUMge7UUGoxkvXOcpRQZx9+DQJ2lFBFPVvhE3rUUEg95rb7fpRQdpAp/VTC1JBCWX0brEdUkG8u7srzSxSQW/LWlW8PFJB/41QphhPUkGXtTr+UWNSQX74DKMadFJBdUzw+CqDUkGi/o1osJFSQUa2833pnlJBPzVeSiquUkGMJb/QNbtSQSxA7q24x1JBIPeawwPUUkH7N0JhEd9SQfKLJf8F6lJBqX8jzEf1UkFxPQpHwAVTQatjghdfFVNB2c73yzIkU0G0yHbWITBTQXTaQJ+SO1NB0pSKS4dIU0E9Ctcj+VNTQZTR22JHYlNBPsOuSD90U0E/fIblUoJTQdCwK9jrl1NBWx0TpBCqU0FkggfztbtTQVCNlz5qylNBov6NqF3aU0HsCpDbfulTQXMhaer99VNBTxvoHIgCVEF02kAHlxBUQUrF2Z8iHVRBN9BpY70qVEHe3d2dU0VUQZNfLBHYW1RB+cWSx7NrVEG+nxpPz3hUQTyYJ9pIhVRB6LSBlq+TVEFpSsUxB6JUQb6fGn/EsVRBzj58RuXBVEF56Saxq9FUQV1Imoq34VRB65jgif30VEG3rNXJiQhVQexRuL5OGFVB3Wsu7LkqVUHufD9duztVQWatjrGUSVVBarx0A5RYVUEzMzNTHGdVQb9Y8jvydlVBMsGD8WeIVUEGgZXr1JlVQcrobaElrlVB7+7u5jLFVUH/RijjFNRVQZb8YtlR4lVBAAAAQOj0VUGnDXQqbAZWQeUXSxZxJVZBYZ6oL407VkF3d3e/HlZWQTTsCtjfbVZBvLu7U2OAVkFwhDKiKpZWQU/Uv2nRpVZBIbBy2DG2VkG4HoXj4MdWQcRn2O1e2lZB65jgQRbrVkGkcD1qFv1WQQ4tsp0CDFdBk18saRUaV0HOPnwGsiZXQedC0jRwN1dBi2zn4xNIV0H4U+Nt01hXQW3n+2GbZldBy1odMwt9V0HLoUXu5pFXQePsw7+aoldB5/upQWi0V0FfcyGx08RXQbx0k4CQ1FdBWx0TjKfjV0F+seTf3vJXQR8+w06w/1dBvuZCinINWEGLsw8PcRxYQbsC5JapMlhBPVH/XndPWEHkXnMZmWJYQUREROS+f1hBi2zn28SOWEG2Oib4EZ5YQTEIrNResVhBYleA1J3BWEGZ4MEcH9FYQRCfYWcz31hBl7U6VoPxWEH2KFynnwFZQXzNhRRKE1lBPJgnGnUkWUE4QhnFIjdZQYlBYDWjRllBCWX09l9eWUHW6phIR4VZQckvlkRgmllB2kCnpSipWUEbL92MNblZQYts50teyFlBjCW/qN7WWUFImlLRreZZQUrF2Ue49VlBf2q8vKkEWkH9G6H0qxRaQeHBPIl3J1pBA5026P82WkFXxwRv4UdaQeAIZZx9VFpBexSuL3BjWkHW6pjY5nRaQQIrh2ZTg1pB+Ay7Av+PWkE1Xrr5mp1aQUcoo+8WslpBYhBYEV3EWkGQe81lh9laQcXZh5cb7lpBYleADFMCW0Hb+X761xdbQeAIZWRjLltBAiuHdmhDW0H/RigbtlZbQctaHZOhZ1tBjlBGp651W0Gjt2WVnoZbQU8b6DTlmFtB+FPjDfKmW0EiIiKq77VbQYJOG4iwxFtB9ihcT9jZW0H3mguhB+hbQdEi2ynP9VtBblmrG1MPXEE9Uf9m8SJcQTm0yB7AOFxBRm/LmuFPXEHDrgApt2RcQZ7vpz7ldFxBmG4Sg6WJXEGSplRsC5tcQVmrY4pPq1xBDnTaqMXBXEHYFSA/MtdcQbhlrXbz7VxBP3yGPRYCXUG/WPLzsQ5dQSjq3yg5IV1BS36xZOIvXUGuR+Hyfj1dQQ==",
          "dtype": "f8",
          "shape": "458, 1"
         },
         "hovertemplate": "contig=KI915046<br>Genomic Position=%{x}<br>G123=%{y}<br>pos=%{customdata[0]}<extra></extra>",
         "legendgroup": "KI915046",
         "line": {
          "color": "lightblue",
          "dash": "solid"
         },
         "marker": {
          "size": 3,
          "symbol": "circle"
         },
         "mode": "lines",
         "name": "KI915046",
         "showlegend": true,
         "type": "scattergl",
         "x": {
          "bdata": "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",
          "dtype": "f8"
         },
         "xaxis": "x",
         "y": {
          "bdata": "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",
          "dtype": "f8"
         },
         "yaxis": "y"
        },
        {
         "customdata": {
          "bdata": "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",
          "dtype": "f8",
          "shape": "188, 1"
         },
         "hovertemplate": "contig=KI915047<br>Genomic Position=%{x}<br>G123=%{y}<br>pos=%{customdata[0]}<extra></extra>",
         "legendgroup": "KI915047",
         "line": {
          "color": "steelblue",
          "dash": "solid"
         },
         "marker": {
          "size": 3,
          "symbol": "circle"
         },
         "mode": "lines",
         "name": "KI915047",
         "showlegend": true,
         "type": "scattergl",
         "x": {
          "bdata": "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",
          "dtype": "f8"
         },
         "xaxis": "x",
         "y": {
          "bdata": "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",
          "dtype": "f8"
         },
         "yaxis": "y"
        },
        {
         "customdata": {
          "bdata": "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",
          "dtype": "f8",
          "shape": "464, 1"
         },
         "hovertemplate": "contig=KI915048<br>Genomic Position=%{x}<br>G123=%{y}<br>pos=%{customdata[0]}<extra></extra>",
         "legendgroup": "KI915048",
         "line": {
          "color": "lightblue",
          "dash": "solid"
         },
         "marker": {
          "size": 3,
          "symbol": "circle"
         },
         "mode": "lines",
         "name": "KI915048",
         "showlegend": true,
         "type": "scattergl",
         "x": {
          "bdata": "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",
          "dtype": "f8"
         },
         "xaxis": "x",
         "y": {
          "bdata": "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",
          "dtype": "f8"
         },
         "yaxis": "y"
        },
        {
         "customdata": {
          "bdata": "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",
          "dtype": "f8",
          "shape": "320, 1"
         },
         "hovertemplate": "contig=KI915049<br>Genomic Position=%{x}<br>G123=%{y}<br>pos=%{customdata[0]}<extra></extra>",
         "legendgroup": "KI915049",
         "line": {
          "color": "steelblue",
          "dash": "solid"
         },
         "marker": {
          "size": 3,
          "symbol": "circle"
         },
         "mode": "lines",
         "name": "KI915049",
         "showlegend": true,
         "type": "scattergl",
         "x": {
          "bdata": "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",
          "dtype": "f8"
         },
         "xaxis": "x",
         "y": {
          "bdata": "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",
          "dtype": "f8"
         },
         "yaxis": "y"
        },
        {
         "customdata": {
          "bdata": "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",
          "dtype": "f8",
          "shape": "302, 1"
         },
         "hovertemplate": "contig=KI915050<br>Genomic Position=%{x}<br>G123=%{y}<br>pos=%{customdata[0]}<extra></extra>",
         "legendgroup": "KI915050",
         "line": {
          "color": "lightblue",
          "dash": "solid"
         },
         "marker": {
          "size": 3,
          "symbol": "circle"
         },
         "mode": "lines",
         "name": "KI915050",
         "showlegend": true,
         "type": "scattergl",
         "x": {
          "bdata": "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",
          "dtype": "f8"
         },
         "xaxis": "x",
         "y": {
          "bdata": "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",
          "dtype": "f8"
         },
         "yaxis": "y"
        },
        {
         "customdata": {
          "bdata": "bxKDwGq6xUDwp8ZLR/nfQPgMuwJQkOlAzj58hpdq8UDdJAaBJer1QAoezBOhDftAcyFpSuPFAEH2KFyPVuUDQYcW2c4GngZBukkMAo12CkEtsp3vR3sNQeuY4MF5vg9BEzyYp/y/EEFI4XqUkQASQYIH80S7iRNBggfzRLsoFUEadgXIrm4WQdEi23ktkBdBRItsZ2+WGEHQaQOdSogZQYr6N8LBSRpBarx0EwcsG0E8mCfqUxgcQTEIrBxOAB1BupA0pV0SHkE/NV46FXMfQXKvuRBkVyBBxpJfLIrNIEGN3pY1eEQhQVFGb0u3ryFBQhm97RguIkHsUbje+7ciQQisHBp8MyNBG+i0AZC4I0EsQO71PjkkQT0K1+O+vSRBFWcffpdeJUGaUnE2beolQXd3d/fEXiZBVg4t8kvOJkFLfrHkQEMnQRVnH/4XvydBI9v5Ps/nKEG6SQxC1r4pQbNWx8T5USpB+FPjZZS+KkGDwMphDVArQfYoXE/a4ytBD+aJuvF7LEEmeDAPHgQtQa5H4To5ty1Barx008boLkEwT9S/WFIvQc/3U6O2uC9BZDvf77MSMEGhjN6W02IwQUZvyzp4sjBBb8ta3d8TMUFrdUwQRngxQUiaUtF9tjFBoBovPTQVMkGx5BcrzF0yQYakKdUTmjJBqTj7cJrVMkGGpCk1wSMzQcP1KDyXgTNBkxgE9izDM0HYXEh6Uww0QX6x5DdSeTRB+n5qPKjpNEE1Xrppz0U1QfEZdgWR2jVB7+7uDpYuNkEg95pLRHU2Qfs3QhmUsTZBOyZ4cEzlNkEEVg7NqRU3QVH/Rgi9TDdBkxgEtjaPN0GIz7BrWdM3Qc/3U8MYEDhBYleAnNU5OEH6fmq8mmc4QTfQaQMxmjhBSVMqzt7OOEHXo3DdfhM5QU/Uv5E6XzlB1XjpRrOnOUEb6LThmt45QUw3iUFONjpB2kCnbct3OkE3iUFgnLw6QdKUinM6BjtBGy/dpD9QO0HHSzcJLb07QW2g06bfPjxB3SQGwe+XPEF+seQ3j988QfeaCykIMT1B+cWSv3vBPUGEeaL+jvo9QXgwT5TlNj5BUI2Xjqp0PkFBpw3Ua6k+QWSCB1Pa6j5BmwtJs5A5P0Gl4uxDgn4/QYAjlHGltj9BPJgnikvvP0GJQWBFRR9AQedC0gTjRUBBRIts1y3CQEEiIiIyfA1BQUDuNYc2L0FBT9S/MalLQUFCGb190GtBQXqi/v2AjkFBIWlKFcOwQUE+w65whNhBQfeaC8kA9UFB2BUg98UYQkF56SYBSzxCQW/LWq0HZ0JB50LSZM2NQkHIveZi9bFCQUjherRi2EJB9P3UCMkJQ0FF/RvRrjRDQQFyrzmEXENBUI2XHnmCQ0Es+cVi089DQT98hn3i60NBAAAA8HkTREG6kDRVhj9EQR1aZLtYZERBK4cWOf1/REHgCGUkrZlEQeaJ+hd2tURB+Ay78gjQREGdNtB5HPFEQaO3ZV0AFEVBEJ9hJ6g3RUHWMcGD2llFQThCGd2ZfUVBjlBGn2mfRUHjpZsUU8NFQVfHBL/X6kVBBzptgOwORkEmeDAf6S9GQbqQNCUGUkZBnqh/s+lyRkG2OiZ4jpxGQY/C9Xhcv0ZBI5TRi8j7RkEP5okKcaRHQfBgnhiO0UdBpHA92j/+R0E=",
          "dtype": "f8",
          "shape": "157, 1"
         },
         "hovertemplate": "contig=KI915051<br>Genomic Position=%{x}<br>G123=%{y}<br>pos=%{customdata[0]}<extra></extra>",
         "legendgroup": "KI915051",
         "line": {
          "color": "steelblue",
          "dash": "solid"
         },
         "marker": {
          "size": 3,
          "symbol": "circle"
         },
         "mode": "lines",
         "name": "KI915051",
         "showlegend": true,
         "type": "scattergl",
         "x": {
          "bdata": "DXTar9MBoUE20GmQfAKhQbKdL8sVA6FBiUEgGaoDoUHGkt8KOgShQYXrUXreBKFBSQwCP64FoUELSdMbdgahQUco40ckB6FBE/VvaRoIoUFuWSuY2wihQSfqn2RsCaFBHz6DxNwJoUFyr/kOfQqhQYXr0aNBC6FBhevRIxEMoUG8dJMdtAyhQZJf7NxEDaFBRyjj/ccNoUG2833rQA6hQf6NEKehDqFBXyy5yRIPoUHNhSTwiA+hQQXIPe38D6FBSQwC9YUQoUEcocxQNhGhQbArQCrUEaFBlNFbUEoSoUHgCGU+wRKhQUfhen0sE6FBGi8d36oToUFTKg7CNBShQa2OSUKwFKFB6SYxVjUVoUFBYCUFthWhQQtJE4U6FqFBaJGtXdsWoUFU42UzZxehQXjpJovbF6FBD58hEksYoUF/IxQHwBihQWiRLd47GaFB3GtulWQaoUFLfnGcOxuhQVg59L/OG6FBVVWVWjscoUHCPJHTzByhQSrOfqBgHaFB5/vpt/gdoUF5oj7kgB6hQUlTav8zH6FBveYCjWUgoUFQRu8ezyChQfnF0nw1IaFBeDAPLqIhoUEaL11tQiKhQeAIpbbhIqFBmCfqhaQjoUHsClBSbSShQTYX0sHpJKFBNtCpLqcloUHKoYVeOCahQUrF2e2wJqFBcmgR+ycnoUFKxZlIxCehQe3Dp/R/KKFBMnobIAMpoUG7AiRtlSmhQWQ7n2pvKqFB/0aoFlAroUG95gJlCCyhQTVeOugxLaFB309N8tktoUHvp8ZOZy6hQXH2Ye7fLqFBTWIQX0cvoUGtjskZqC+hQQAAQEAWMKFBMnqbM5swoUGg0wZ5IzGhQfEZtvecMaFBsHJocfAxoUH/Rqj7SzKhQaFFNiixMqFBqMbLgxozoUFJU+rDozOhQarxUjs7NKFB80S9LMw0oUHR2/L7OTWhQXCEsmLpNaFBg8AKXWw2oUET9e/+9TahQSuHFjuJN6FBXyx5RR04oUGZ4EEg9zihQUIZfYX6OaFBS36xpaw6oUFkO5/kOzuhQTeJgdbeO6FBjZeuvf88oUH0tizkcT2hQWIQWJHqPaFBHKFMG2Y+oUFQjdedzz6hQQaB1XpSP6FBGASW5+8/oUHGS7fKeUChQUiaEhHqQKFBMcFDXVtBoUEH80Tb+UGhQQ27QlKUQqFBLiSNfYVEoUGK+ve2skWhQbpJTKA5RqFBUnH2aqtGoUFmZiYILEehQYtsJ8q2R6FBppuE0j9IoUEOLfLX3kihQW2gU8lQSaFBWPIL3t9JoUGnDTTybUqhQS/d5OQYS6FBDbvC+7NLoUH4DLubREyhQYZdAVHeTKFB+cVS6qNNoUH24XOBT06hQckvFtfuTqFBNtCpqoZPoUHmiboTvFChQfKLJVAsUaFBAXLvrcpRoUFERITfelKhQWkDHSkOU6FBHswTu3xToUEkBsF641OhQSlcj55SVKFBNV766bxUoUHbshY4QVWhQeAIpcfMVaFBffjMZltWoUHIdj4w5FahQQrXoy1zV6FBQ4usbPpXoUGZ4IESilihQR6FKyUoWaFB6SYxeLhZoUHiM6xqPFqhQURExN7EWqFBo3D9bEhboUHsChAA71uhQQtJEzh6XKFBUrhe6GtdoUGZmVmKDmChQYXrkf7CYKFBxGeYxXVhoUE=",
          "dtype": "f8"
         },
         "xaxis": "x",
         "y": {
          "bdata": "fSyZAXq2oz8vznrz7j+wP8BtZEf0K6s/2FIJHVPIsD8vznrz7j+wP30smQF6tqM/0W5gFqz6sz9zD0Y5abW3Py/OevPuP7A/dUjw+tLopj8vznrz7j+wP8BtZEf0K6s/wG1kR/Qrqz99LJkBerajP30smQF6tqM/dUjw+tLopj99LJkBerajP8BtZEf0K6s/fSyZAXq2oz/AbWRH9CurP3VI8PrS6KY/wG1kR/Qrqz/KircPBS23Py/OevPuP7A/wG1kR/Qrqz91SPD60uimPwUtF+nVHcA/FLArXCZwuz8o6tHsR3KzPy/OevPuP7A/VcTfuMrHwj/4nW+d8bXFP9hSCR1TyLA/KOrR7Edysz8vznrz7j+wPy/OevPuP7A/fSyZAXq2oz99LJkBerajPy/OevPuP7A/L8568+4/sD/AbWRH9CurPyjq0exHcrM/fSyZAXq2oz/RbmAWrPqzP1pv3v0HYsA/evPuPxCDtD91SPD60uimP3VI8PrS6KY/L8568+4/sD99LJkBerajP30smQF6tqM/fSyZAXq2oz91SPD60uimPy/OevPuP7A/dUjw+tLopj/AbWRH9CurP3VI8PrS6KY/KOrR7Edysz8o6tHsR3KzP8BtZEf0K6s/wG1kR/Qrqz91SPD60uimP8BtZEf0K6s/dUjw+tLopj91SPD60uimP30smQF6tqM/0W5gFqz6sz99LJkBerajP3VI8PrS6KY/KOrR7Edysz/AbWRH9CurP30smQF6tqM/dUjw+tLopj/AbWRH9CurP3VI8PrS6KY/0W5gFqz6sz91SPD60uimPy/OevPuP7A/L8568+4/sD+C15dGt1CxP2a5SK/ugLw/ED7X2FIJvT/ugBzV4LTJP30smQF6tqM/yoq3DwUttz8vznrz7j+wP3rz7j8Qg7Q/dUjw+tLopj8clNRizT24P66xpRI6psA/wG1kR/Qrqz8vznrz7j+wP3VI8PrS6KY/dUjw+tLopj8o6tHsR3KzPyjq0exHcrM/FLArXCZwuz/KircPBS23P8qKtw8FLbc/yoq3DwUttz8ELRfp1R3AP1PE37jKx8I/vTS6hYr4uz9zD0Y5abW3Py/OevPuP7A/wG1kR/Qrqz8keH1pdAu1P700uoWK+Ls/wG1kR/Qrqz8vznrz7j+wP30smQF6tqM/wG1kR/Qrqz/AbWRH9CurP9FuYBas+rM/gteXRrdQsT968+4/EIO0Py/OevPuP7A/dUjw+tLopj8vznrz7j+wPyjq0exHcrM/KOrR7Edysz8vznrz7j+wP4LXl0a3ULE/2FIJHVPIsD8vznrz7j+wP30smQF6tqM/L8568+4/sD/AbWRH9CurP3rz7j8Qg7Q/L8568+4/sD/YUgkdU8iwP8BtZEf0K6s/0W5gFqz6sz9muUiv7oC8P8z8C5PYk7U/wG1kR/Qrqz91SPD60uimPy/OevPuP7A/dUjw+tLopj/YUgkdU8iwP8qKtw8FLbc/KOrR7Edysz/RbmAWrPqzP8BtZEf0K6s/L8568+4/sD99LJkBerajP9FuYBas+rM/yoq3DwUttz8vznrz7j+wP8BtZEf0K6s/0W5gFqz6sz+C15dGt1CxPyjq0exHcrM/fSyZAXq2oz8o6tHsR3KzP8BtZEf0K6s/wG1kR/Qrqz8=",
          "dtype": "f8"
         },
         "yaxis": "y"
        },
        {
         "customdata": {
          "bdata": "+zdCGW2W0UAZBFYOQanmQMARyuhR1/FA3SQGgdUM+UCnVJx9tpL+QKwcWmSvCAFBppvEIBXCAkHGkl8sDJsEQfVvhDKZlAZBDi2ynaVuCEHwYJ6ouBIKQS5rdUyC5gtBcT0K12+8DUEOLbKd7p8PQScxCCxuyBBBWfKLJV+fEUFfcyHpgbsSQckvlnyZshNBmpmZmYGmFEGJQWDlAPUVQXKvuRCxsRdBTDeJwR3ZGEHotIHOOxUaQQxJU6oc1BtB4+zD59YuHUFtoNMG304eQf0boQyfQB9B9LasVT0YIEGA3GuuyJ8gQYJOG6izOyFBCKwcWhjgIUGnDXTa5YgiQWjYFSDbIyNB95oLyRG/I0Gmm8RgPWskQc2FpCnfviRBRItsp24NJUFBpw00FqYlQXVM8KBsLSZBX3MhKUrYJkH7N0LZ4HAnQadUnP2KBihBO99PjaEOKUGVirMP6rMpQYakKRWGhypBXgFyr+x1K0Fx9uEz8QksQWcfPkPQoSxBs1bHxL5KLUEMAivHxMAtQcl2vl+hSy5BVOOlW7fgLkFwhDL65WwvQYQyelvp8S9BMQis/Ac5MEGF61FYLHQwQZB7zQUmxTBB8oslX/oPMUHJdr6f8FUxQeOlm6QYnzFBLEDuFaT4MUE/NV76fEoyQWq8dPNkmzJBpw102mf0MkF2Bci9QUIzQSPb+b7VkzNB35a1OoDmM0FA7jXX/DA0QbgehWtgpzRB3t3dXeU5NUFKDAKrRMI1QXsUricwHTZB7nw/VfJ/NkFI4XqUvOs2QZzEINAdSDdBI9v5Hk+PN0G6SQyifuM3Qa8AufefKjhBPzVeerlqOEG3rNXRPcc4QWAs+QULHjlBpeLsY1hsOUEoo7fF5745QeF6FG4+FzpBD+aJ2pRgOkF6ov7tjKY6QRkEVg4/6zpB0GkDnXIfO0Fb1upYSV47QRhLfpEplTtBHVpkex7LO0FmZmbmPwY8QWJXgNyGVDxBN9BpA8GiPEF2BcjdgOw8QbnXXOjXNz1B/RuhDF2PPUH1b4TSZ/k9Qby7u5vnfD5Bpw10mnbRPkHrmODhCRQ/QRp2BSgwTj9B/tR46TKOP0FJUyougec/QZpScQa3EUBBfrHkhyctQEFJUyrOj05AQaGM3vYaeEBBZDvff5ymQEFeAXLvI9BAQTTsCpCR/0BBeqL+HXRWQUHsCpCrt4tBQTeJQeCcu0FBi2zna8nfQUF3d3c3JgxCQRVnH84/SUJBCh7Mo2yAQkHn+6mxb8pCQVFGb8sg90JB8KfGm94ZQ0FA7jVnP0hDQYmIiBhZbUNBBFYObSiPQ0F9PzWOgbVDQcP1KHyI/ENB5F5zsawcREGrqqr6nE5EQd+WtWq3ekRBM3pbZmiWREEUrkdhV9NEQadUnG36DUVB6SYxaL0+RUH9Ysl/s25FQZZDi2xUjUVBuGWtjjStRUFjyS/WQ9ZFQcdLN8np+kVBz/dTk4wgRkHByqEFZU5GQbNWx1StckZBQhm9HZWZRkFXxwR/Y7FGQcdLN/kp0UZB0pSKw/HxRkGMJb9Y6R1HQTm0yAa0UEdB",
          "dtype": "f8",
          "shape": "147, 1"
         },
         "hovertemplate": "contig=KI915052<br>Genomic Position=%{x}<br>G123=%{y}<br>pos=%{customdata[0]}<extra></extra>",
         "legendgroup": "KI915052",
         "line": {
          "color": "lightblue",
          "dash": "solid"
         },
         "marker": {
          "size": 3,
          "symbol": "circle"
         },
         "mode": "lines",
         "name": "KI915052",
         "showlegend": true,
         "type": "scattergl",
         "x": {
          "bdata": "1jEBeQJioUEkTalZ4GKhQQaB1a+wY6FBiYhIYJdkoUFPG2gcSGWhQUt+cfG3ZaFB65jgSiZmoUGpf6OInGahQeAI5esaZ6FBT9T/bpFnoUFcj8Jz+mehQR+FK2ZvaKFBUyqO4eRooUFP1D/BXWmhQd1rrvzZaaFBvS0rdUVqoUF++IyG02qhQdyyVhJPa6FBkTRlBslroUHlFwtGcGyhQZzEIJ5ObaFBYCx5VOJtoUGeqH9jgG6hQWmR7dNfb6FBukkMMQ1woUGU0Rs1nXChQVK4HhUWcaFBexTuAo5xoUGg00aOFXKhQRODQHmxcqFBcITy3VVzoUHS23Kr/nOhQZx9uKCZdKFBX3Nh1zR1oUFgLPkC4XWhQUoMwqQ0dqFBT9Q/NIN2oUFrdczbG3ehQRBYOTKjd6FBN4nBD054oUH8qXGm5nihQRkEllB8eaFBo7clZ4R6oUFPG6ivKXuhQWmRrUv9e6FBxdlHsut8oUG6Scy2f32hQeOl25UXfqFBGy9dhMB+oUHGkl+KNn+hQTsm+GbBf6FBpw30fFaAoUFImpKr4oChQffh865ngaFB1L+R1eeBoUGbC0keXoKhQbsCpBEAg6FB3LJWupWDoUGy5NemIYShQRCf4fazhKFBRETEDWeFoUEuJI2/CoahQT1Rf4+shqFB309NlV6HoUHP9xNJ+oehQXpbFnGdiKFB8tINxkKJoUGg00a/14mhQQFyb4bEiqFBgCNUkOmLoUHda+5O+oyhQe3D5yWwjaFBvuZCqnWOoUGHXcE+TY+hQU2pOAEGkKFBelvWY5SQoUFXgNzCPJGhQcXZhwXLkaFBLiSNOEuSoUEdEzxBBJOhQR1apNuxk6FBiUFgdk6UoUEK1yOV85ShQbqQdEKklaFBkHtN7zaWoUEJZXTfwpahQcwTtUNMl6FBmG7SqrSXoUFxPUpYMpihQVpkuxigmKFBeDCPAgyZoUGRNGVFgpmhQXNoUdMemqFBZDufR7uaoUHP91PHTpuhQXMhaXXlm6FB/Kmxf5ScoUGkcD2VaJ2hQTvfz5RvnqFB30/NshifoUH2KFzZnZ+hQbBy6CUSoKFBbllrK5KgoUFrvPTHRKGhQQ4tsqG8oaFBivq3YyqioUEREdEEsKKhQffhczFWo6FBsuSXNxCkoUHJL1ZVtqShQXWT2At0paFBTmIQls+moUHwp0akpKehQeltGTlkqKFBdgVI6/SooUGiRXZepqmhQWDl0MSaqqFBPJgneHeroUG0D1+En6yhQd0kxkhSraFBZIIHQN2toUF9PzXDlq6hQeaJ+ikrr6FBHKFMZ7KvoUHCPNHLS7ChQZsLiednsaFBQDVeeOixoUFvEoM5sLKhQR8+Q6Ngs6FBrdUxZ8+zoUF8hh0jw7ShQRfZTq+ttaFBYCw5u3C2oUFQjZeTMLehQdKUShert6FBWx3Tlyq4oUHqJvHUzrihQfNEvWxhuaFBo7fl9/e5oUHv7q5Zr7qhQR+F63pAu6FBKVwPGty7oUHhepRTO7yhQfNEfW26vKFBF5KmjD29oUFaZPtq7b2hQZWKs5W4vqFB",
          "dtype": "f8"
         },
         "xaxis": "x",
         "y": {
          "bdata": "fSyZAXq2oz99LJkBerajP30smQF6tqM/fSyZAXq2oz8UsCtcJnC7P8BtZEf0K6s/dUjw+tLopj91SPD60uimP3VI8PrS6KY/0W5gFqz6sz99LJkBerajP9FuYBas+rM/KOrR7Edysz8vznrz7j+wPwUtF+nVHcA/dUjw+tLopj/AbWRH9CurPy/OevPuP7A/wG1kR/Qrqz91SPD60uimP3VI8PrS6KY/dUjw+tLopj99LJkBerajP30smQF6tqM/fSyZAXq2oz/AbWRH9CurPyjq0exHcrM/wG1kR/Qrqz8vznrz7j+wP3VI8PrS6KY/dUjw+tLopj91SPD60uimP8BtZEf0K6s/2FIJHVPIsD8vznrz7j+wPyjq0exHcrM/wG1kR/Qrqz91SPD60uimP8BtZEf0K6s/dUjw+tLopj8vznrz7j+wP8BtZEf0K6s/dUjw+tLopj99LJkBerajP30smQF6tqM/fSyZAXq2oz91SPD60uimP8BtZEf0K6s/fSyZAXq2oz91SPD60uimPy/OevPuP7A/dUjw+tLopj/AbWRH9CurP8BtZEf0K6s/wG1kR/Qrqz91SPD60uimPy/OevPuP7A/dUjw+tLopj8vznrz7j+wP8BtZEf0K6s/L8568+4/sD8vznrz7j+wP8BtZEf0K6s/wG1kR/Qrqz99LJkBerajP30smQF6tqM/dUjw+tLopj/AbWRH9CurP3VI8PrS6KY/fSyZAXq2oz91SPD60uimP30smQF6tqM/dUjw+tLopj99LJkBerajP3VI8PrS6KY/fSyZAXq2oz/AbWRH9CurP8BtZEf0K6s/wG1kR/Qrqz91SPD60uimPy/OevPuP7A/fSyZAXq2oz/AbWRH9CurPy/OevPuP7A/dUjw+tLopj/YUgkdU8iwP30smQF6tqM/BS0X6dUdwD91SPD60uimP3VI8PrS6KY/cw9GOWm1tz/KircPBS23P3MPRjlptbc/wG1kR/Qrqz99LJkBerajP30smQF6tqM/fSyZAXq2oz/AbWRH9CurPy/OevPuP7A/L8568+4/sD8vznrz7j+wPxSwK1wmcLs/wG1kR/Qrqz91SPD60uimPyjq0exHcrM/dUjw+tLopj91SPD60uimPy/OevPuP7A/fSyZAXq2oz/AbWRH9CurP3VI8PrS6KY/fSyZAXq2oz91SPD60uimPyjq0exHcrM/wG1kR/Qrqz8vznrz7j+wP30smQF6tqM/fSyZAXq2oz91SPD60uimP30smQF6tqM/wG1kR/Qrqz+C15dGt1CxP3VI8PrS6KY/dUjw+tLopj99LJkBerajP8BtZEf0K6s/dUjw+tLopj91SPD60uimPyjq0exHcrM/fSyZAXq2oz91SPD60uimP3VI8PrS6KY/wG1kR/Qrqz/AbWRH9CurP9FuYBas+rM/dUjw+tLopj91SPD60uimPy/OevPuP7A/wG1kR/Qrqz/AbWRH9CurP3VI8PrS6KY/wG1kR/Qrqz/AbWRH9CurP66xpRI6psA/yoq3DwUttz/AbWRH9CurP3VI8PrS6KY/",
          "dtype": "f8"
         },
         "yaxis": "y"
        },
        {
         "customdata": {
          "bdata": "EzyYJ7IW1UDb+X5qJA/jQHyGXQG2POpAAiuHFi3q8ECF61G4/sH1QFNx9uHF6/xA2BUg95eZAkHgCGX0aHsFQS5rdUzdRwdBHKGM3nXeCEFqA502+XkKQQIrhxZWAQxBGEt+sd+QDUF8zYWk9k0PQbhlrY7+2BBBSVMqzgXoEUF8zYUkKNoSQQUP5omKnxNBuwLk3tTnFEFD0pQK8iAgQePsw+cv0SFB3SQGgbBrIkGPCR6MRO0iQdKUirPFXCNBn2FXgPC6I0FTcfbhAR4kQY8JHkxdfyRB0GkD3fX7JEGPwvUoapIlQbHkF8t2KiZB35a1+vG+JkGJiIhI0DcnQYAjlBFWmSdBFK5H4efyJ0FF/RshIFAoQauqqmrwqChBdNpAp/wKKUHb+X7qKWYpQY8JHoxPxilBvHST2GQZKkHpJjGIjmwqQTLBg7khwCpBmpmZWVQhK0HQsCuAWZQrQWPJL5aGIixBSOF61N6NLEFtoNMG5/ssQW3n+6ndei1BAiuHlgM+LkHv7u6uyQ4vQbNWx4RlfS9B5dAiW4/yL0GF61H4XzYwQbTIdl5BiDBBuwLk3sVEMUFnHz4jgpwxQXd3dxeA0zFBw64AWcELMkH4U+MFz0syQerfCMVmkzJBw64A2RrbMkEJZfSWZi0zQRBYOXTHgDNB/41QJgm4M0HZzvcz0+wzQT1R/wZBOzRBaNgV4OqTNEFiV4B8ms80QfeaC0mdFTVBMQis3FR7NUE+w65AGr81QQaBlcND/zVBqX8jtNRENkF8hl2hpqs2QSijt4UMQDdB7FG4/qaKN0E2F5IG0dg3QZqZmVneGThBPJgn6sBhOEEFD+ap2p84QQc6bcDZ5zhBsStArn85OUEAAADglHA5QUSLbOejtTlBDbsCpNf5OUFImlIR+jo6QWDl0GIPgTpBhl0BUkXTOkHYXEi64hc7QfVvhLLPZTtBeqL+reChO0F9PzU+0eA7QVnyi6U0ITxB2ofP0CJmPEHXo3B9sqk8QcdLNymHAT1BoNMGGqYxPUGjt2XtdGY9Qauqqmrysz1BAiuHdswKPkEg95rLqEQ+QScxCCw3gT5BlvxiqWbAPkFx9uGzXxQ/QYGVQ0v8iz9BhHmi/vjbP0ExCKw83glAQZzEIODUJEBBW9bqGLlNQEGR7Xx/iHJAQe58P2UslEBBgCOUwaC6QEHpJjE4v9hAQS4kTakfGEFBj8L1uHxjQUHjpZsE34xBQbY6JvgQqkFBd76fGlL2QUGpfyP0lzNCQexRuC4qZUJB8GCeaKuWQkE07ArAZ8NCQWJXgKxa50JBs1bH9MwRQ0H9YsmPATRDQei0gT4SWUNBM3pbxoWAQ0HLWh2jAaFDQZHtfD/m0kNBcIQySqgpREHNzMxMyrZEQbx0k2hn7URBsStA/vsWRUFKDAJLQkFFQQUP5vlgh0VBke18v9rbRUE5+/BZL0tGQQ==",
          "dtype": "f8",
          "shape": "137, 1"
         },
         "hovertemplate": "contig=KI915053<br>Genomic Position=%{x}<br>G123=%{y}<br>pos=%{customdata[0]}<extra></extra>",
         "legendgroup": "KI915053",
         "line": {
          "color": "steelblue",
          "dash": "solid"
         },
         "marker": {
          "size": 3,
          "symbol": "circle"
         },
         "mode": "lines",
         "name": "KI915053",
         "showlegend": true,
         "type": "scattergl",
         "x": {
          "bdata": "V8dES2G/oUGFMvqH6b+hQW2gE2FcwKFBeltW29XAoUHSlIrVcMGhQWPJbw5WwqFBmlKx+17DoUHXo/BvF8ShQfCnBo2KxKFBvS0rM/DEoUHWMQEUV8WhQWAsOeu4xaFBKOqfzRzGoUEIrFwTjMahQUjh+hQlx6FBv5+amKzHoUF8zcWpJcihQZ19+FqIyKFBlvwigCzJoUFnH76H2c6hQYJOm8WJ0KFBupA0RiTRoUGfqD/apdGhQSoVZ1sV0qFB9+EzhnPSoUEGgZWX1tKhQZ+o//I306FB/42Qi7TToUFYgNz/StShQXqifgzj1KFBLECuh3fVoUEeE/xl8NWhQbgexetR1qFBQ9KUfavWoUGSptS1CNehQUA1HoZh16FBb8taksPXoUGPCZ6/HtihQZ+oP+V+2KFBCh6M+tHYoUG8uzskJdmhQVYObbd42aFBLyQN6tnZoUFGtjPvTNqhQV66SRzb2qFBdgWIdEbboUE1Xrp8tNuhQXyGXXMz3KFBwBFKmfbcoUGEeWJfx92hQexROPs13qFBZq0OJaveoUFsLqRVJd+hQSZ4cBjJ36FBmlJxIULhoUHUBvqZ8eGhQYR54pVf4qFB84tlGNDioUE9Ub8zUOOhQVWcPWPf46FB84tly27koUFfc+FiE+WhQUX9myS65aFBsSsAqCjmoUEzehs8kuahQTeJwRcv56FBRrZza+DnoUFEi6zKV+ihQcuhRdDj6KFBpeJsP6/poUEb6DTKNuqhQZe1Oh236qFBlNEbP0LroUGiRfbiD+yhQdv5vq447aFBOfuw483toUHDrsA3au6hQci9ZlLs7qFBxdmHF3zvoUGzVgdL+O+hQQllNEmI8KFB7AoQlSvxoUGVinO/mfGhQaxjgt0j8qFBC5D7RKzyoUHKL9aJLvOhQWAsebS686FBUI1XIF/0oUFPGyhb6PShQXWTGDWE9aFB2ocPV/z1oUEU9S84evahQXqi/v769qFBpSlV24T3oUHda676C/ihQS35BaS7+KFBPJjn4Rv5oUEEVo5/hfmhQerfiHog+qFB65igLs76oUGDwErnQfuhQfeaCwS7+6FBjlAGYzn8oUGCThtV4fyhQcARSo7Q/aFBiM+wh3D+oUG2OqYO4P6hQacNNOlL/6FB7jUXeu//oUFLfrG3ggCiQYmISEcJAaJBI9u5GKMBokExT5SSGwKiQSa/WBQZA6JBn2GXiEYEokEt+cUR7ASiQYAjlNlgBaJBjwke3pEGokGUGIT1hgeiQd1rbj5NCKJBGQRWQxMJokFGtrM0xgmiQfOLZQBWCqJB8KeGyf8KokEhsPKbiAuiQWmRrd4cDKJBfvjMrLoMokEAAECcPA2iQUt+sS4EDqJBp1TcNl8PokHIvea+kxGiQWjYVTNuEqJBRIushRQTokHGkt+evROiQdEimxnWFKJBS36xACgWokGCThtT5ReiQQ==",
          "dtype": "f8"
         },
         "xaxis": "x",
         "y": {
          "bdata": "wG1kR/Qrqz8o6tHsR3KzPy/OevPuP7A/dUjw+tLopj/AbWRH9CurP30smQF6tqM/L8568+4/sD91SPD60uimP30smQF6tqM/dUjw+tLopj91SPD60uimP8BtZEf0K6s/L8568+4/sD91SPD60uimPyjq0exHcrM/KOrR7Edysz/AbWRH9CurP3MPRjlptbc/wG1kR/Qrqz99LJkBerajPy/OevPuP7A/Wm/e/QdiwD8FLRfp1R3APyjq0exHcrM/L8568+4/sD9zD0Y5abW3P3VI8PrS6KY/cw9GOWm1tz8o6tHsR3KzPyjq0exHcrM/wG1kR/Qrqz8o6tHsR3KzP8qKtw8FLbc/KOrR7Edysz8UsCtcJnC7P9hSCR1TyLA/vTS6hYr4uz/YUgkdU8iwPwP0bCds6sA/gteXRrdQsT/AbWRH9CurPy/OevPuP7A/wG1kR/Qrqz/KircPBS23PxyU1GLNPbg/yoq3DwUttz9zD0Y5abW3P8BtZEf0K6s/dUjw+tLopj8vznrz7j+wPy/OevPuP7A/dUjw+tLopj8vznrz7j+wP8BtZEf0K6s/dUjw+tLopj8clNRizT24P8qKtw8FLbc/yoq3DwUttz8o6tHsR3KzP8BtZEf0K6s/wG1kR/Qrqz91SPD60uimPy/OevPuP7A/cw9GOWm1tz8o6tHsR3KzPyjq0exHcrM/BS0X6dUdwD9ab979B2LAPy/OevPuP7A/fSyZAXq2oz/AbWRH9CurPxSwK1wmcLs/L8568+4/sD99LJkBerajP3VI8PrS6KY/fSyZAXq2oz8vznrz7j+wP30smQF6tqM/dUjw+tLopj91SPD60uimP3VI8PrS6KY/0W5gFqz6sz/AbWRH9CurP8qKtw8FLbc/2FIJHVPIsD8vznrz7j+wPy/OevPuP7A/wG1kR/Qrqz91SPD60uimP30smQF6tqM/KOrR7Edysz8UsCtcJnC7Py/OevPuP7A/wG1kR/Qrqz99LJkBerajPy/OevPuP7A/yoq3DwUttz8o6tHsR3KzP3MPRjlptbc/wG1kR/Qrqz8UsCtcJnC7Py/OevPuP7A/wG1kR/Qrqz/AbWRH9CurP3VI8PrS6KY/wG1kR/Qrqz8UsCtcJnC7P1pv3v0HYsA/rrGlEjqmwD9TizX3YJTDP1pv3v0HYsA/yoq3DwUttz/AbWRH9CurP8BtZEf0K6s/0W5gFqz6sz8vznrz7j+wP9hSCR1TyLA/fSyZAXq2oz/AbWRH9CurPyjq0exHcrM/BC0X6dUdwD8vznrz7j+wP66xpRI6psA/L8568+4/sD+9NLqFivi7P3rz7j8Qg7Q/KOrR7Edysz/vPxCDFHPQP3VI8PrS6KY/L8568+4/sD99LJkBerajPy/OevPuP7A/yoq3DwUttz8o6tHsR3KzP8qKtw8FLbc/yoq3DwUttz/AbWRH9CurPw==",
          "dtype": "f8"
         },
         "yaxis": "y"
        },
        {
         "customdata": {
          "bdata": "JE2pODNa1EDrmODBwDnkQHH24TMU6etAVZx9+AgX8UAywYN54ur0QPKLJb8EKflAJr9Y8p/Y/kBLfrHkZ+oBQe/u7u7DWARB/WLJLyU7B0FiV4DcdnsLQX74DLuYRg5BAbnXXBGEEEEFD+YJidoRQUZvy1o1rhNB0pSKs2iqFEEb6LSBV9gVQbWBThuRJBdBFWcfvo4iGEGfYVcAPHoZQfbhM2zbaxpBXI/CddpmG0E9CtcjElgcQXCEMvp3xx1BI9v5/l3lHkHS27JWtLofQQOdNtDaYSBBTxvoNPI0IUFTcfZhVAQiQY2XbtIiryJB7FG4no2EI0GvALnXq2AkQe/u7q6R+CRB6LSBDqt/JUHP91MjJ/glQZWKs0+KliZBWDm0SD5hJ0FtoNMGnuwnQQuQew19yihByS+WvI1/KUEFyL1m9w4qQX74DDvl2CpBI9v5/iGnK0Fx9uFz11UsQbByaNEeAS1BRf0bIZrILUGWQ4vsl3guQa+5kHQZ9C5B7jUXEpGNL0GiRbbzyigwQY5QRi9UczBByuhtuSbXMEHufD+1sC4xQT98hl2/kDFBHswTlTf1MUFvEoMALY0yQbnXXAjg7zJB/0Yooy94M0FqvHQzjPYzQYlBYOXaRDRByuhtWRmaNEELkHsNWOw0QURERKTXXTVB5dAiG1XMNUHlF0vexQ82QUjhetREUTZBfrHk9wGNNkEzels2/8Q2QaDTBrpwADdBvHST+D02N0GWQ4sMzHY3Qa3VMWGoxjdBs1bHZKUCOEGfYVdgHEU4QSlcjwIqlDhBQacNNFbcOEFuWasDNU05QRSuR6HBvjlBERERERUgOkGpfyOU1206QcI8UZ/zuTpBT9S/8ZjxOkHtw2d4vC87QTLBg1k3bjtBmwtJM4edO0EezBM1Xt07QRfZzlfrHjxBvp8a7zFmPEFVnH2IpYtAQRm9LQvTUkFBvHST2Gp0QUGOUEb/6pxBQZB7zcWnyEFB/41QBuv0QUEK16MgcCBCQUDuNXdqQUJB9W+EghplQkFKDAJ7wIFCQbY6JugdrEJBhHmiTlvTQkF1TPCgjQxDQXnpJsG4O0NBl7U61gOAQ0E=",
          "dtype": "f8",
          "shape": "103, 1"
         },
         "hovertemplate": "contig=KI915054<br>Genomic Position=%{x}<br>G123=%{y}<br>pos=%{customdata[0]}<extra></extra>",
         "legendgroup": "KI915054",
         "line": {
          "color": "lightblue",
          "dash": "solid"
         },
         "marker": {
          "size": 3,
          "symbol": "circle"
         },
         "mode": "lines",
         "name": "KI915054",
         "showlegend": true,
         "type": "scattergl",
         "x": {
          "bdata": "zBO1JIgYokGMbCfvKBmiQaGMXuSjGaJBNl46NAgaokH6fmqvghqiQTMzs3MKG6JBmpkZZ8AbokHiehTtXxyiQT4KF4T7HKJB20BnHLQdokGYbtIwxB6iQcARSvl2H6JBX7rJWycgokGKQaCX0iCiQTq0yG28IaJBzBN1hzoiokH2KNx+0SKiQcP1qJt3I6JBNl56mvYjokEzehtxoiSiQXNo0UAbJaJByi9WwJglokEHOi1cESaiQcRnGA/JJqJBcMsaAlgnokHwp0atwieiQR+F6y1HKKJBnTZQRRopokHzRH2n6SmiQRq97XWUKqJB1Aa64GkrokGDB/P+RSyiQXE9yuTdLKJBN9Ap/mQtokF6oj563S2iQQ0Ca917LqJBuwJkkUYvokEiIiLx0S+iQRLKKNCvMKJBsuTX4GQxokFKDIJK9DGiQXpbVji+MqJBXUgadYwzokF4MI8qOzSiQfW27HHmNKJBf2o87a01okHG2QfrXTaiQTzfj2zZNqJBuGUt5HI3okENuwLpNjiiQSPbefvLOKJBVCqOoJM5okF8zYW0QjqiQXpb1tEGO6JBGnZFws87okGnVByt/zyiQTEILBPFPaJBEJ9hstU+okH7N4Jr0j+iQQUP5ghvQKJBVCrOhRlBokGiRTYDvkGiQQvXYwKhQqJBJJRR/X1DokGy5NfeBESiQUVExNyHRKJB5RcLV/9EokF2BYhRb0WiQSlcjzTmRaJBa3UMz1FGokEJZTTr0kaiQS2y3aNyR6JBL93knepHokFF/duLb0iiQTptIKcNSaJB0WmD/51JokE1pSK9f0qiQd7dXdZiS6JBpHA9fSVMokGBlUMCwUyiQfzwWTpZTaJBK87+hMhNokEKHgzMRE6iQQRWzsHBTqJBmeCBYSBPokEadoUPoE+iQTTsyikjUKJBwYP5trFQokHzRD3pE1qiQXYFSJ8wXaJBVZx9/rZdokHEZxj/WF6iQXCEMvIHX6JBupA0/7hfokHe3Z0TZ2CiQTsm+PzqYKJBQmAlvXlhokGzVgdV7GGiQW3nu8qVYqJBaNhVwDJjokG0D5+JF2SiQSjqHzbUZKJBWDl0YuVlokE=",
          "dtype": "f8"
         },
         "xaxis": "x",
         "y": {
          "bdata": "+J1vnfG1xT+usaUSOqbAP4w192CUk9Y/yoq3DwUttz9flJNWe3HWP30smQF6tqM/bp3xtZVOuT8QPtfYUgm9P4SK+BtX+dg/PxCDFHNQ0j9ab979B2LAP30smQF6tqM/yoq3DwUttz8o6tHsR3KzP9FuYBas+rM/PRjlpNVezD+9NLqFivi7P8qKtw8FLbc/wG1kR/Qrqz/KircPBS23P8qKtw8FLbc/VcTfuMrHwj8a4XONLZXQP8BtZEf0K6s/SqeM8LnGxj/RbmAWrPqzPy/OevPuP7A/fSyZAXq2oz91SPD60uimP30smQF6tqM/dUjw+tLopj91SPD60uimP/idb53xtcU/BS0X6dUdwD/KircPBS23P9FuYBas+rM/KOrR7Edysz8QPtfYUgm9Pyjq0exHcrM/xhhjjDHGuD8sXCZwG9mxP3VI8PrS6KY/HJTUYs09uD8vznrz7j+wP30smQF6tqM/fSyZAXq2oz8o6tHsR3KzP8BtZEf0K6s/fSyZAXq2oz91SPD60uimPy/OevPuP7A/dUjw+tLopj+bPlXArnDJP8BtZEf0K6s/wG1kR/Qrqz8vznrz7j+wP3MPRjlptbc/wG1kR/Qrqz8o6tHsR3KzPyxcJnAb2bE/2FIJHVPIsD/AbWRH9CurP30smQF6tqM/KOrR7Edysz/AbWRH9CurP8qKtw8FLbc/BC0X6dUdwD8vznrz7j+wP0unjPC5xsY/cw9GOWm1tz/AbWRH9CurPy/OevPuP7A/cw9GOWm1tz8o6tHsR3KzPyjq0exHcrM/tVARf+Mqvz91SPD60uimPxA+19hSCb0/wG1kR/Qrqz91SPD60uimP1PE37jKx8I/L8568+4/sD/KircPBS23PxVvHwpaLtI/0W5gFqz6sz+f6VMF7ArHP30smQF6tqM/wG1kR/Qrqz99LJkBerajP30smQF6tqM/FLArXCZwuz9YNjQ8ni7BP9hSCR1TyLA/dUjw+tLopj8vznrz7j+wPxA+19hSCb0/FLArXCZwuz91SPD60uimP9FuYBas+rM/yoq3DwUttz8vznrz7j+wP8BtZEf0K6s/2FIJHVPIsD8=",
          "dtype": "f8"
         },
         "yaxis": "y"
        },
        {
         "customdata": {
          "bdata": "BoGVQysSwkD+1HjppvbZQDBP1L8VF+RA001iEMAA7UB02kCnyz7yQL9Y8otVA/ZAZq2OCUxK+UCCThvofp38QJqZmZlbqgBBtjomeDoMBEFERERE++wFQU8b6LQwtAdBrBxaZJHlCUEmv1jyYZ4LQXe+nxoM+wxB/RuhjC5bEEGlKRVnZ/0RQdEi23nUQhNBggfzxCRHFEEzMzOzkCYVQUt+sWQNDRZBTxvoNPTuFkE30GkDJbYXQSPb+f5PhRhBw64AuRtpGUE1peLs5GIaQdQGOm3IRBtBx0s3iSxNHEHb+X7qEjwdQcwT9W/+CB5Bd76fGs4kH0FwhDL6OiEgQQ27AuTDtiBBtYFOm9pLIUHW6pigwcYhQeAIZbRUMCJB80T92zmlIkFD0pQK/YkjQcRn2BXFQyVBoYzeVkMOJkFF/Ruhm6UmQUcoozdlLCdBg8DKYeGzJ0Hmifq3rzAoQS/dJAYityhB4XoU7ihFKUE+w64AC9UpQRKDwEoxVipBEzyYp2nGKkEoo7elBD4rQbHkF8scritBDElTqr8iLEGWQ4vsG5ksQR+F65F8Di1B5on6d32jLUFuWatjmlIuQcuhRbbVHy9B/WLJr8eTL0FeuklMvwQwQVFGbyvZPzBB4cE8sWCIMEHP91Mjt8UwQZqZmZkeDzFBC5B7jdNqMUEj2/neUKoxQVmrYwKx6jFByuhtueQ8MkGx5BdLXXkyQSUGgfWMujJBxwQPpsv2MkGVirNvrTQzQckvltzl0zNB8oslXwdANEG8dJNYn3c0QZpScdbwwDRBp1Sc/UH7NEF3vp96CTg1QXH24VOofTVBJngwLx3PNUHcslbnJB82QS2ynW9HXjZBKVyPgvibNkFNqTh7MPE2QfvwGVZLaTdBmpmZ+djnN0HGkl8M4Sg4QZTR23J5cDhBLbKdL368OEH/RihDy/w4QUiaUhGgPDlBdZMYRLGEOUF6ov7Nl+w5Qbes1bEjMTpBXUiassV0OkF++Ay7D7w6QVYOLTLRCztBJr9YElBGO0FKDAKr73w7QR7ME7X2wztByXa+n476O0FiV4Dc8DA8Qb7mQhJGizxBvp8az7vUPEFPG+h03yI9QcuhRRaOlj1BhetReOPjPUHlF0v+Niw+QYlBYGUCZT5BeqL+LZebPkFQjZeuuts+Qb7mQjJvJz9B0tuytjB5P0HdJAbBMtQ/QWcfPoPsH0BBAiuHdq5UQEEoo7eF8X1AQWX0tmzHn0BB4AhlNMDIQEESyuj9teNAQSxA7mUoDkFBLEDupWcwQUFWDi1C3llBQWJXgAwMhkFBLbKdz7qkQUH/jVDmWL9BQWiR7Vzm2kFB",
          "dtype": "f8",
          "shape": "126, 1"
         },
         "hovertemplate": "contig=KI915055<br>Genomic Position=%{x}<br>G123=%{y}<br>pos=%{customdata[0]}<extra></extra>",
         "legendgroup": "KI915055",
         "line": {
          "color": "steelblue",
          "dash": "solid"
         },
         "marker": {
          "size": 3,
          "symbol": "circle"
         },
         "mode": "lines",
         "name": "KI915055",
         "showlegend": true,
         "type": "scattergl",
         "x": {
          "bdata": "rkchqy1mokEfhasXtWaiQZ020NMmZ6JBfT91brVnokFzIek7LWiiQaO3Jc2laKJBLmv1qw5pokHCPFESeWmiQb6fWvkPaqJB50IScehqokFpSkWhYGuiQV9zoW7Sa6JB30/Nxl5sokGIz/D6zGyiQUjheiUkbaJB5om6+RJuokHtwycW5G6iQekmscyGb6JB3LLW9AhwokHy0s2qeHCiQReSJunrcKJBZq2O3FxxokFA7vV0wHGiQUa2cwoocqJBr7lQ8JlyokGrqurUFnOiQVvWqsaHc6JB/tS4+At0okHVeOlrg3SiQeIzrOHpdKJBN4mByXd1okHca26dBnaiQRM8WCacdqJB2ocPPTF3okFD0hQkrHeiQWGeKLcVeKJBnTZQnIp4okEqzn5fb3miQcARiicpe6JB5RfLpfN7okFVVRX+inyiQYDcq8cRfaJBGQTWQ5l9okHiMywSFn6iQTVeeoScfqJB001iiyp/okEb6HRtun+iQdv5vpM7gKJBlNEbzKuAokH78BlnI4GiQT1RP3+TgaJBoYweIgiCokGcxGB+foKiQd0kBt/zgqJB4jPs34iDokGx5Nf8N4SiQfp+KjgFhaJBuwIkKnmFokHNzAzh7oWiQeUXyxRlhqJB3LLWI/aGokFI4brQcIeiQYtsp58DiKJBeDCPCbuIokEOLTIEOomiQa8AecS6iaJBKhXnK1+KokEhaQod2IqiQWQ7X3xai6JBYlfA+dKLokFtoFO9ToyiQbhlLS6NjaJBcIQycWWOokFBYCWh1I6iQf0bIURnj6JBAXJv5tuPokHVeGl1VZCiQUX9G7PgkKJBSJrSnIORokG+5kKsI5KiQbx0U/GhkqJBEFh5Ux2TokGrqmrDx5OiQTptIPm3lKJBi2xnFLWVokF++IwkN5aiQfvwWVXGlqJBvHTTXl6XokHmifr43peiQY3elqJemKJBf2r8xO6YokGdNhCSvpmiQbHk16lHmqJB6W3Z7c6aokFJU+qBXZuiQXWT2AT9m6JB1uqYAnKcokFxPcpB35yiQfBg3k9tnaJBRrazf9qdokEHOi1ER56iQSW/mO77nqJBl24S2o6fokGPCV4hK6CiQZzEoH4SoaJBL91kKa2hokGIz3DQPaKiQdv5PmevoqJBnTbQkByjokFzaNHXnKOiQSW/2EA0pKJBEJ/hw9ekokGiRfbHjaWiQdYxgRRlpqJBBFZOHDinokHlF4so3aeiQSoVJ4BkqKJBfM1FYwipokGA3Gs6dKmiQVnyCwQeqqJBWfILAaeqokGR7XzbTKuiQbY6ppL9q6JBIbCyTXisokGQew3G4qyiQZ7v5/tQraJB",
          "dtype": "f8"
         },
         "xaxis": "x",
         "y": {
          "bdata": "dUjw+tLopj9zD0Y5abW3P0zgNrIj+sU/KOrR7Edysz/+SG7iLlDDP6Ei/sZVPsY/6JxzzjnnzD9ab979B2LAP8BtZEf0K6s/wG1kR/Qrqz8D9GwnbOrAPxyU1GLNPbg/Wm/e/QdiwD9VxN+4ysfCP5r9SG7iLtA/wG1kR/Qrqz/KircPBS23P9FuYBas+rM/qganzfwLwz8o6tHsR3KzP2a5SK/ugLw/HJTUYs09uD+UWqy5B6PMP3MPRjlptbc/wG1kR/Qrqz/RbmAWrPqzPyjq0exHcrM/JHh9aXQLtT+VzAA92wnLP1b9iXo0+8E/U8TfuMrHwj/KircPBS23P/wPxCDFHMQ/KOrR7Edysz/ugBzV4LTJP6bN/AuT2MM/cw9GOWm1tz8vznrz7j+wP30smQF6tqM/fSyZAXq2oz+lV3dAjmrgP5v9SG7iLtA/doGavDwctj8UsCtcJnC7P/idb53xtcU/oSL+xlU+xj9muUiv7oC8P8qKtw8FLbc/yoq3DwUttz/KircPBS23Pyjq0exHcrM/2FIJHVPIsD9TxN+4ysfCP3rz7j8Qg7Q/dUjw+tLopj/AbWRH9CurP3MPRjlptbc/KOrR7Edysz8D9GwnbOrAPxA+19hSCb0/cw9GOWm1tz+oBqfN/AvDP9FuYBas+rM/KOrR7Edysz9ab979B2LAPyjq0exHcrM/dUjw+tLopj8vznrz7j+wP9hSCR1TyLA/2FIJHVPIsD8vznrz7j+wP8qKtw8FLbc/KOrR7Edysz+ZPlXArnDJPzwY5aTVXsw/mT5VwK5wyT/plBE+19jSPxSwK1wmcLs/U8TfuMrHwj8UsCtcJnC7Py/OevPuP7A/wG1kR/Qrqz9zD0Y5abW3P3VI8PrS6KY/L8568+4/sD+9NLqFivi7PwUtF+nVHcA/yoq3DwUttz/AbWRH9CurPy/OevPuP7A/2FIJHVPIsD/AbWRH9CurP8BtZEf0K6s/L8568+4/sD8UsCtcJnC7Pyjq0exHcrM/vTS6hYr4uz/AbWRH9CurP1pv3v0HYsA/0W5gFqz6sz91SPD60uimP8BtZEf0K6s/L8568+4/sD/YUgkdU8iwP3MPRjlptbc/fSyZAXq2oz9TizX3YJTDPyjq0exHcrM/dUjw+tLopj8UsCtcJnC7P3MPRjlptbc/dUjw+tLopj8vznrz7j+wP3MPRjlptbc/77nGlkroyD+7gVmw6k/UP+acc84558w/wG1kR/Qrqz9ab979B2LAPyjq0exHcrM/Wm/e/QdiwD8FLRfp1R3AP5JarLkHo8w/ZrlIr+6AvD+9NLqFivi7P9FuYBas+rM/",
          "dtype": "f8"
         },
         "yaxis": "y"
        },
        {
         "customdata": {
          "bdata": "7cNn2K2h20AfhetRzPXzQO3DZ9jsHQNBMJb8Ypr5CkF+seSXf2EQQSUGgRWd2BJBq2OCB34KFEEwT9S/0acWQR1aZLvu/xhBqvHSza4bG0HrmOBBXeUcQcaSX6wpGx9B2FxImo+7IEF6ov5N2AwiQUIZvS2k2yJBLEDudV77I0FBpw20+mslQWQ7348UyiZBXgFyL+gcKEFqvHRTwF4pQR8+w67rsypBGy/dZDD/K0E8mCeqRoctQcwT9a99jS5BoNMGOhlHL0FZq2MCY0cwQbbz/TSvmTBBHVpku5kUMUH9G6EMy3QxQQoezNNhvzFBXI/C9ZoeMkGamZkZBn4yQa+5kFSN1jJBd3d3d7kvM0G+nxrv5owzQQwCK4fe9DNBDi2yvTVsNEGJQWAFIPI0QQIrh7bQYDVBQacN9NvNNUHJL5YcmBc2QaXi7AOBSzZBvuZCkgaMNkGfYVdgq+c2QexRuB7PUTdBLEDu1SC4N0EOdNpASCw4QSz5xRLZezhBd3d3l6a+OEEjlNE7pxQ5QVvW6lixhDlBHz7DTtPmOUHwp8bLdlU6QV4Bcg/2vjpBI5TR20UWO0FHKKMXHXc7QUGnDRQI+jtBOEIZPc9LPEE=",
          "dtype": "f8",
          "shape": "58, 1"
         },
         "hovertemplate": "contig=KI915056<br>Genomic Position=%{x}<br>G123=%{y}<br>pos=%{customdata[0]}<extra></extra>",
         "legendgroup": "KI915056",
         "line": {
          "color": "lightblue",
          "dash": "solid"
         },
         "marker": {
          "size": 3,
          "symbol": "circle"
         },
         "mode": "lines",
         "name": "KI915056",
         "showlegend": true,
         "type": "scattergl",
         "x": {
          "bdata": "3LJWCS6uokEPLXK1z6+iQY8JHncYsqJBxK6AYg+0okH34bO7gbWiQSGwckq9tqJB0LDrOla3okHG2cfkpLiiQcuhRfPQuaJBF9lO0966okHq34iqw7uiQWcfvpDevKJB+zeCiwy+okFA7jXUXb+iQbesFaAswKJB3t1dWkzBokFF/Zv2vMKiQdnOdxAbxKJBn2EX5G3FokFaZDu8r8aiQdyylucEyKJBzcxMLFDJokE2F5JC2MqiQbLkl3ney6JBcvYhFZjMokH1tuzB382iQYXrUVqEzqJBUrheL3rPokHWMQGSOtCiQdqHj7/P0KJBvXTTMY7RokHRIhsITdKiQRERkRb+0qJBjd7WbrDTokHdJMbJatSiQaJF9rg61aJB+FNjZynWokEhsPI7NdeiQfT9VJ0S2KJB7QrQs+zYokH+GyEsgNmiQWPJ7/3n2aJBa3UMCWnaokFhnqhSINuiQUJgJZr026JBHsyTPcHcokGGpGmMqd2iQZB7Da5I3qJBjd4WSc7eokHGkl9Ket+iQUvFmV5a4KJBGnaFoh7hokHufH/p++GiQaHTBujO4qJBxpKfh33jokHvNRc2P+SiQe0KEAxF5aJBIiJimujlokE=",
          "dtype": "f8"
         },
         "xaxis": "x",
         "y": {
          "bdata": "Wm/e/QdiwD99LJkBerajP8BtZEf0K6s/fSyZAXq2oz8o6tHsR3KzP3dEv7Kh4eE/8bnGlkroyD8MzIJVf6K+P9mP5CbuAuU/2Y/kJu4C5T8FLRfp1R3AP8YYY4wxxrg/QIo5KKnFyj99LJkBerajP+xHchN3gco/xZ6sePtQ0D/KircPBS23P3VI8PrS6KY/L8568+4/sD8vznrz7j+wP/idb53xtcU/VcTfuMrHwj8o6tHsR3KzP3rz7j8Qg7Q/au7BKCet5j+SWqy5B6PMP7TWWmuttdY/xZ6sePtQ0D8vznrz7j+wP3VI8PrS6KY/vTS6hYr4uz8vznrz7j+wPy/OevPuP7A/9CsbGh5Pxz9EgteXRrfQP8qKtw8FLbc/L8568+4/sD+usaUSOqbAP3MPRjlptbc/A/RsJ2zqwD9q7sEoJ63mP90BOarBaeM/W+mUET7X2D9TizX3YJTDP3rz7j8Qg7Q/klqsuQejzD+ZPlXArnDJP5s+VcCucMk/mv1IbuIu0D+qBqfN/AvDP5RarLkHo8w/KOrR7Edysz/GGGOMMca4Pyjq0exHcrM/zPwLk9iTtT8D9GwnbOrAPyjq0exHcrM/yoq3DwUttz8=",
          "dtype": "f8"
         },
         "yaxis": "y"
        },
        {
         "customdata": {
          "bdata": "2kCnDRSwv0BGtvP9vGLVQNS/EcoYaOFA7+7u7tpD6UCXtTomQgXxQA27AuRo3vVA+cWSXwwE+kDwp8ZLY2L9QIwlv1jnXwJBS36x5BhSBUEadgXIvfkGQa8AudeAsAhBT9S/EQpmCkEo6t8IyckLQcwT9W+kYQ1BdgXIPWADEEH+1HjptGARQePsw2fgkxJB4Ahl9AltE0GGXQFyrUgUQRYg9xoyWBVBupA0pRCXFkGGXQHycqgXQQ27AuTREBlBd3d3d9E3GkFaZDtf+qQbQS5rdUxdBh1B1uqY4BBXHkFzIWnKUsIfQYlBYCX3hiBBNaXirHAkIUHEZ9hVkashQR7MEzVJKiJBIbBy6K+nIkG+5kISDlIjQRyhjF6Q/yNBoNMGur7KJEF2Bcj9IH0lQVpkO592/SVBke18v3hlJkG6SQxCKcwmQV1ImhLNZidBKKO3JTBvKEGYbhJDMhspQQwCK8dOiSlBpeLsg3zzKUHah88wBHEqQbqQNKU5HytBSVMqzuaQK0GPwvVo+kcsQePsw6ceSi1BXrpJDLSwLUEmeDAPQhguQcARymi4hy5Bjd6WtYv1LkHLWh3TH24vQUcoo/c/7i9BmwtJ09NSMEG511xI15YwQXYFyD3C3jBBME/UX3pSMUHSlIqz+6sxQZsLSTPy/jFBCWX0Vtw/MkERERGRTHUyQZMYBBburzJBBoGVY2ThMkHhwTzxmDMzQal/I9SAijNBg8DKgbPZM0Fo2BWgJCk0QQaBleOpcDRBpeLsgyaxNEHJdr5/hyE1QbErQK5haTVBmG4Sg0SnNUEmv1jSlhA2QZNfLBkeVTZBJngwbw+MNkHFILDyEe02QZB7zYXLUTdBppvEYOuhN0GGpCmVFeA3QVeA3Av9LjhB65jgIXlsOEFuWasjD684QaRwPeqV8zhByXa+30RLOUH24TPMZq85QT0K10NF9TlBPzVeuktEOkESg8AK9Js6QfeaC6kx9jpBHVpk2wZwO0Eb6LThd8c7QcHKoUW+/DtB",
          "dtype": "f8",
          "shape": "96, 1"
         },
         "hovertemplate": "contig=KI915057<br>Genomic Position=%{x}<br>G123=%{y}<br>pos=%{customdata[0]}<extra></extra>",
         "legendgroup": "KI915057",
         "line": {
          "color": "steelblue",
          "dash": "solid"
         },
         "marker": {
          "size": 3,
          "symbol": "circle"
         },
         "mode": "lines",
         "name": "KI915057",
         "showlegend": true,
         "type": "scattergl",
         "x": {
          "bdata": "cT2K+ifmokHAEUqwk+aiQT7D7hv/5qJBERER2HznokF56aZCCeiiQXmifmek6KJBexTuGynpokH3msvmlOmiQetROJSA6qJBgk6bID3rokGAI9QJp+uiQWIQmLoU7KJBF5LmHILsokEdWqQM2+yiQWcffgNB7aJBJQaBSurtokGM3tb0mO6iQRgElooy76JBplRcH5/vokHRIhvxDPCiQbKdb7OU8KJBary0IjTxokHRItvTvPGiQYAjVANx8qJB3t0dgwTzokHUv5EXu/OiQdhcCMlr9KJBl27SIhT1okGzVsfDyfWiQWSCh5Fv9qJBxwQPCw33okGK+rcrlPeiQe41l+MS+KJB0pRKSpD4okEJZXSoOvmiQcOuwCro+aJB9igcWbP6okEn6l+7ZfuiQYZdARHm+6JBEJ8hE078okFsLqTDtPyiQWq8dGdP/aJBxdmHylf+okGRNKXMA/+iQSRNKelx/6JBBQ/mFtz/okGq8ZKeWQCjQbNWB9QHAaNBdUwwgXkBo0HlF8uUMAKjQQ/mCbkyA6NB3GtuTpkDo0GaUnHcAASjQTTsylJwBKNBAbkXJt4Eo0F9PzW6VgWjQUrFWdrWBaNBObQIQo4Go0HR2/JIFgejQS2y3R6mB6NBwMohj40Io0FMN8mRQAmjQTm0yH7mCaNB7AoQU2gKo0FERIQz0wqjQVMqjnZIC6NBJE0pY6sLo0Gmm0TMTwyjQSFpCpz9DKNBo7dlAZwNo0HTTaLjOg6jQSRNKe7JDqNB5/tp50oPo0EQn2GpKxCjQXmivl27EKNB/0ZoIzcRo0Gg0wbICRKjQeF6lNaSEqNBEoNAuQATo0Fkgke+whOjQRm9bTGMFKNBWasjcSwVo0FrdYzFqBWjQSPbeZRGFqNBVOOljMEWo0HVeKm4RhejQQOdNsbPF6NBEJ8hJH8Yo0HmifpnRxmjQTbQ6STTGaNBjN7WMXEao0Eoo3eCIBujQVg5tP3UG6NB1uoYqMgco0HyiyWKdx2jQbhl7RbiHaNB",
          "dtype": "f8"
         },
         "xaxis": "x",
         "y": {
          "bdata": "wG1kR/Qrqz/YUgkdU8iwP3VI8PrS6KY/L8568+4/sD91SPD60uimP30smQF6tqM/L8568+4/sD99LJkBerajP3VI8PrS6KY/dUjw+tLopj/AbWRH9CurP3VI8PrS6KY/dUjw+tLopj8vznrz7j+wPy/OevPuP7A/dUjw+tLopj91SPD60uimP8BtZEf0K6s/Wm/e/QdiwD/AbWRH9CurP3VI8PrS6KY/wG1kR/Qrqz8vznrz7j+wP8BtZEf0K6s/wG1kR/Qrqz99LJkBerajP8BtZEf0K6s/L8568+4/sD91SPD60uimP3VI8PrS6KY/fSyZAXq2oz8vznrz7j+wP8BtZEf0K6s/wG1kR/Qrqz91SPD60uimP30smQF6tqM/fSyZAXq2oz/AbWRH9CurP3VI8PrS6KY/0W5gFqz6sz/YUgkdU8iwPy/OevPuP7A/dUjw+tLopj8o6tHsR3KzP700uoWK+Ls/L8568+4/sD8vznrz7j+wP3VI8PrS6KY/wG1kR/Qrqz99LJkBerajP8BtZEf0K6s/dUjw+tLopj91SPD60uimP3VI8PrS6KY/dUjw+tLopj91SPD60uimP3VI8PrS6KY/wG1kR/Qrqz91SPD60uimP3VI8PrS6KY/L8568+4/sD/AbWRH9CurP30smQF6tqM/wG1kR/Qrqz91SPD60uimPy/OevPuP7A/dUjw+tLopj99LJkBerajP30smQF6tqM/fSyZAXq2oz99LJkBerajP30smQF6tqM/wG1kR/Qrqz8vznrz7j+wP30smQF6tqM/wG1kR/Qrqz91SPD60uimP3VI8PrS6KY/yoq3DwUttz91SPD60uimP3VI8PrS6KY/fSyZAXq2oz/AbWRH9CurP8BtZEf0K6s/wG1kR/Qrqz91SPD60uimP8BtZEf0K6s/fSyZAXq2oz99LJkBerajPy/OevPuP7A/dUjw+tLopj/AbWRH9CurP3VI8PrS6KY/dUjw+tLopj91SPD60uimP3VI8PrS6KY/",
          "dtype": "f8"
         },
         "yaxis": "y"
        },
        {
         "customdata": {
          "bdata": "mlJx9iG0wkDy0k1ioKHhQOaJ+jfWOfFATPBgnraV9UCOUEZvq/P5QD7DrgCb6f5A4XoUrpeeAUFGb8taqKwDQcaSXywUgwZByXa+n1GTCEE730+NNUkKQV4Bcq8eWQxBNOwKkGJkD0GEMnrbhwMRQQ502sBTJBJBF5KmVGE7E0H0/dR4mioUQRvotAEoLhVBlvxiybFGFkFGtvN9jpcXQdnO99Nb2hhBjlBG7wutGUG/WPKLwLsaQctaHZMlRRxB/tR4aSCDHUGHFtnO+GweQSD3moviYB9BQ9KUyn07IEEua3UMU7wgQc/3U+OxRSFBYleAXJTIIUFyr7kQ9DwiQX6x5JecrSJBagOdNv0rI0E5+/CZb8QjQZWKsw8sWiRBIbBy6LvdJEHQsCuA1p4lQTWl4my2MiZB3LJWh0qwJkFGb8va+yUnQWt1TDDSoSdBnqh/oxQ2KEEezBO1c64oQVVVVRXZKilBWfKLJaCXKUGl4uzDnxQqQUX9G2GKlipBKVyPwnc9K0FKxdmHbrcrQSxA7rWKLCxBLiRNKYbjLEHxGXaFFXgtQbhlrY78CC5B5RdLflmKLkEqFWcfyhgvQcrobRk4lS9B3t3dnfT3L0FBpw3U6TgwQfbhM+xIbTBBvp8azzKlMEF1TPBg490wQbErQE7RGzFBuB6Fi/5hMUHTTWLwLpYxQTfQaWNq2zFBZq2Oia0sMkFZ8otl4W4yQYcW2S6KtDJB5RdLns7zMkHBg3kiVykzQf9GKKM9WTNBCPNE/UafM0G8u7t7nvYzQXNokU1BVDRB1L8RClehNEFrdUzwbd80QQXIvQaHITVB4jPsagZpNUGaUnH2GrU1QfYoXK9x/zVBs1bHRJFZNkGR7Xw/m7Q2QcARykgfATdBxwQPBi5MN0Hmifp3nK83QZngwXw2DDhBAAAAAG1MOEFTKs6+6qc4Qe41F7JhFjlBK4cWWYt1OUEfhevRl905QeHBPNGjVjpB",
          "dtype": "f8",
          "shape": "93, 1"
         },
         "hovertemplate": "contig=KI915058<br>Genomic Position=%{x}<br>G123=%{y}<br>pos=%{customdata[0]}<extra></extra>",
         "legendgroup": "KI915058",
         "line": {
          "color": "lightblue",
          "dash": "solid"
         },
         "marker": {
          "size": 3,
          "symbol": "circle"
         },
         "mode": "lines",
         "name": "KI915058",
         "showlegend": true,
         "type": "scattergl",
         "x": {
          "bdata": "fT915yweo0GVivMw/B6jQQlltFEJIKNB1jHBzZQgo0GCTluMICGjQZB7TUq/IaNB1+rYvEkio0GUGARBzSKjQZ19+NuCI6NBVlVV6wYko0GwuVBkdCSjQThCmV74JKNBc2iRL7slo0HRItvaYyajQfLSzUD0JqNBAbmXx38no0E30Clk9yejQSxA7ip5KKNBNhfSbwUpo0GTXyzerSmjQZ9h10RPKqNB4AjlnLgqo0HkXjP3PyujQWX0tqkELKNBIiIip6Mso0FD0lSTGC2jQTQzM4iSLaNBivq3lB0uo0Ej2/lpni6jQbC50MgnL6NBD+ZJq6ovo0FnH/4KHzCjQWlKhbOPMKNBuwIkFA4xo0GzVoeGpjGjQUMZ/UI8MqNBaNjV0r8yo0FpkW3tgDOjQV1IWs0UNKNBa7x0YZI0o0EnMcgSCDWjQS2yHemDNaNBYeWQKxg2o0GEeaKKkDajQQ27AvAMN6NBqvESt3k3o0GbUrG29jejQbWBTqF4OKNBFPWvjh85o0F9P3WFmTmjQfhTo6EOOqNB3LIWncU6o0HS23IsWjujQR4TfBPrO6NB0LBrcGw8o0HNzAzh+jyjQaHTBk93PaNBlkOLC9o9o0EHgZXqUz6jQXzNxai8PqNB95qLfCw/o0FRRq/dnT+jQQ/mibkZQKNB9W8EFKZAo0FUKs50DkGjQVg5tOuYQaNBE4MAcjtCo0GdfbjZv0KjQeUXSytLQ6NB6PsptMlDo0HAWDLFNESjQUa2M5KURKNBnu/npCBFo0Ev3eRTz0WjQYmIiJmKRqNBOIkBxSRHo0Gj/s3yoEejQUjh+iQlSKNBID7DI7RIo0FdSNpMTEmjQQoeTPrgSaNBZfR2OZVKo0GTX2xNS0ujQdz5flXkS6NBwoP5cnpMo0HMWt1PQU2jQXnp5oP6TaNBuGXt8HpOo0ENAmvsMU+jQSSUUdoOUKNBxpKfLc1Qo0HCPJFGnVGjQTzfj16PUqNB",
          "dtype": "f8"
         },
         "xaxis": "x",
         "y": {
          "bdata": "fSyZAXq2oz99LJkBerajPy/OevPuP7A/cw9GOWm1tz8o6tHsR3KzPy/OevPuP7A/dUjw+tLopj99LJkBerajP3VI8PrS6KY/HJTUYs09uD9unfG1lU65P3VI8PrS6KY/fSyZAXq2oz91SPD60uimP3rz7j8Qg7Q/L8568+4/sD/AbWRH9CurP8BtZEf0K6s/L8568+4/sD8vznrz7j+wP3VI8PrS6KY/2FIJHVPIsD99LJkBerajP3VI8PrS6KY/L8568+4/sD/AbWRH9CurP3VI8PrS6KY/dUjw+tLopj/AbWRH9CurPy/OevPuP7A/wG1kR/Qrqz91SPD60uimPyjq0exHcrM/KOrR7Edysz91SPD60uimP3VI8PrS6KY/dUjw+tLopj8vznrz7j+wPy/OevPuP7A/L8568+4/sD/AbWRH9CurPyjq0exHcrM/wG1kR/Qrqz99LJkBerajPyjq0exHcrM/wG1kR/Qrqz/AbWRH9CurP8BtZEf0K6s/L8568+4/sD91SPD60uimP3VI8PrS6KY/wG1kR/Qrqz91SPD60uimP8BtZEf0K6s/yoq3DwUttz/YUgkdU8iwPy/OevPuP7A/wG1kR/Qrqz9muUiv7oC8P3rz7j8Qg7Q/JHh9aXQLtT/RbmAWrPqzP9FuYBas+rM/yoq3DwUttz8vznrz7j+wP4LXl0a3ULE/FLArXCZwuz8UsCtcJnC7Pyjq0exHcrM/wG1kR/Qrqz8o6tHsR3KzPy/OevPuP7A/L8568+4/sD/AbWRH9CurP3VI8PrS6KY/0W5gFqz6sz91SPD60uimP8BtZEf0K6s/L8568+4/sD8o6tHsR3KzPyjq0exHcrM/wG1kR/Qrqz99LJkBerajP8BtZEf0K6s/L8568+4/sD91SPD60uimP3VI8PrS6KY/wG1kR/Qrqz99LJkBerajP30smQF6tqM/fSyZAXq2oz91SPD60uimP3VI8PrS6KY/",
          "dtype": "f8"
         },
         "yaxis": "y"
        },
        {
         "customdata": {
          "bdata": "IbByaGkY5UCcxCCw8krvQE/UvxFwevRAPzVeuuWp+ECzVscEDYn9QKO3Za0ALgFBiUFg5dD6A0Gtjgkewk8GQU5iEFgt6whBelvW6jlcC0GxK0DujioOQRvotIErVhBBxSCw8v90EUEjlNHbqCQTQQXIveYYhRRBCKwc2hAeFkF8zYWkU2UXQRYg95qwSRhBTmIQ2EieGUHFILByEOsbQcOuALmNTR1B2ofPsH5jHkHlF0v+j94fQReSplThdSBBX3MhqdjyIEFU46UbdJAhQSFpSoU1eiJBXUiaUhH6IkEqzj68tWwjQc/3U6N1yyNBi7MPH2E/JEFzIWnKWswkQaJFtnP4ZCVBeqL+zQbwJUEua3XMd1gmQZhuEsOPzSZBnu+nxolbJ0HpJjFI390nQZb8YgnmWihB3SQGQaTHKEH7N0JZjkUpQWZmZqYQDypBKs4+PH7NKkHRItu5s1srQeRec+EcyitBI5TR27o6LEGuR+F6TaAsQaXi7INhDi1BsHJoEQC9LUGR7Xx/5/IuQcl2vh/MqS9BseQXiw0sMEHEZ9h1+X8wQVH/Rkhf1jBBCh7ME/MkMUEfPsNuKXAxQTYXksZ+tTFB0SLb2Z0HMkFt5/vpU2gyQR1aZFvS4jJBi2zn+85AM0ERERFx3ogzQZsLSfMl8TNBgk4biKQ6NEHUvxFqHII0QekmMUii3TRBtYFOG98eNUFImlKRoXE1QcOuANk4szVBfT81voPxNUEuJE3pYTE2QUJg5RC3bDZBov6N8M+uNkEHOm3gg/g2QZMYBNYlTDdBPJgnikebN0FxPQrXAN03QYwlv5ioCjhBIWlKBWg9OEFmrY5pJWs4QfhT42XGmDhBYCz55ZPGOEHXo3B9i/M4QU8b6JTXLDlBPsOugPZmOUFGb8s6zZo5QeXQInvTyTlBBFYOrT8NOkE=",
          "dtype": "f8",
          "shape": "88, 1"
         },
         "hovertemplate": "contig=KI915059<br>Genomic Position=%{x}<br>G123=%{y}<br>pos=%{customdata[0]}<extra></extra>",
         "legendgroup": "KI915059",
         "line": {
          "color": "steelblue",
          "dash": "solid"
         },
         "marker": {
          "size": 3,
          "symbol": "circle"
         },
         "mode": "lines",
         "name": "KI915059",
         "showlegend": true,
         "type": "scattergl",
         "x": {
          "bdata": "Z2Ym5eBTo0FI4boNhFSjQTcXkqweVaNBAytHm6RVo0EneDCAQFajQao4u97aVqNBTDfJEo5Xo0GgYRdPI1ijQVXj5SnKWKNB05QKbWZZo0FHb0sCGlqjQbC5UHS6WqNBTDeJ3klbo0EGyP2yIVyjQSA+A+vRXKNBku38Zp5do0EjImIIQl6jQcxa3Ta0XqNBbef7gl5fo0FMN8nmhGCjQZNfbCU2YaNBAEfoHcFho0HIBI+mfmKjQc6F5D8FY6NBrwA5N4Jjo0EfhavSH2SjQaUpFZQJZaNBhHnib4llo0EKHkwU/GWjQTQzM9RaZqNB8O6uv85mo0FdSFq5W2ejQYKVA1f0Z6NB3t1dZX9oo0GnVFzW52ijQavxUu5caaNBLIdW6Oppo0FjENg9bWqjQTlCmUTqaqNBYeXQAldro0F0Iens1GujQaJFNm+ebKNBCh7M3Fxto0FfukkS622jQZtScXtZbqNB0LBrGcpuo0GEwAqsL2+jQR/ME8Cdb6NBr0ehXkxwo0EqXA9GgnGjQbOdryo5cqNBBQ+meedyo0EMkHtRj3OjQTttIB08dKNBeHe3RNl0o0G4ZW2xb3WjQWoDHVz6daNBgpVDmp52o0EL12MGYHejQfCnRgNVeKNBFa6H/BB5o0FeAXIboXmjQVNxdqpxeqNB2RWgpwR7o0G8AmSXk3ujQYpBIKNKfKNBP3zGHM18o0FxhLKhcn2jQZrgQdD1faNBu0kMZnJ+o0GEeWIi8n6jQf2pscxof6NBOftw/ux/o0GwuVBmgICjQW3nO6ongaNBbC6k7cWBo0G38z1gSYKjQYddwa+kgqNBDnSaLgqDo0GX/GKpZYOjQeSlW+vAg6NBldFbhhyEo0GEwIp1doSjQXOvuQ3phKNBwjyRS12Fo0EbdgX5xIWjQd4khgUjhqNB6Pvp3amGo0E=",
          "dtype": "f8"
         },
         "xaxis": "x",
         "y": {
          "bdata": "fSyZAXq2oz8vznrz7j+wP3VI8PrS6KY/dUjw+tLopj/KircPBS23P3MPRjlptbc/L8568+4/sD9muUiv7oC8P8BtZEf0K6s/L8568+4/sD91SPD60uimP3MPRjlptbc/TOA2siP6xT/AbWRH9CurP8BtZEf0K6s/KOrR7Edysz9zD0Y5abW3Py/OevPuP7A/L8568+4/sD8vznrz7j+wPy/OevPuP7A/wG1kR/Qrqz/AbWRH9CurP30smQF6tqM/UYs192CUwz9TxN+4ysfCPy/OevPuP7A/yoq3DwUttz+5wmUCt5G9P8qKtw8FLbc//Ehu4i5Qwz/KircPBS23P700uoWK+Ls/oSL+xlU+xj/KircPBS23P1pv3v0HYsA/TOA2siP6xT+oBqfN/AvDP8BtZEf0K6s/yoq3DwUttz/AbWRH9CurP8BtZEf0K6s/L8568+4/sD/AbWRH9CurPyjq0exHcrM/yoq3DwUttz8UsCtcJnC7P6oGp838C8M/Wm/e/QdiwD91SPD60uimP9FuYBas+rM/dUjw+tLopj/RbmAWrPqzP3MPRjlptbc/L8568+4/sD/KircPBS23Py/OevPuP7A/cw9GOWm1tz99LJkBerajPyjq0exHcrM/L8568+4/sD9ab979B2LAPy/OevPuP7A/ZrlIr+6AvD/KircPBS23P1pv3v0HYsA/xhhjjDHGuD8FLRfp1R3AP9FuYBas+rM/UVKLNfdgxD/GGGOMMca4P7nCZQK3kb0/JHh9aXQLtT+5wmUCt5G9P9hSCR1TyLA/L8568+4/sD9zD0Y5abW3P3MPRjlptbc/HJTUYs09uD8FLRfp1R3AP8qKtw8FLbc/KOrR7Edysz8UsCtcJnC7P66xpRI6psA/evPuPxCDtD8o6tHsR3KzPyjq0exHcrM/fSyZAXq2oz8=",
          "dtype": "f8"
         },
         "yaxis": "y"
        },
        {
         "customdata": {
          "bdata": "U3H24TNo3kA9Ctej+JvuQCjq3whTv/ZAUUZvy0rp+0DotIFOX/X+QMrobVlf1wBB2/l+ai4bAkECK4cWCdMDQbnXXEiLlAVBXgFyr58gB0Hwp8ZLKfAIQWX0tqwA3wpBqTj78MG+DEGt1THBXGAOQSlcj0L1SRBBJr9Y8rCCEUFXgNxrxGUSQc/3U+NelhNBgZVDC6BBFUEP5on6bHUWQS4kTSnFvBdBrkfh+tPqGEHW6pjg5Q0aQWq8dJOdHxtBuB6F6zUyHEEK16NwS4odQfVvhDLhoR5B46WbxKlqH0HyiyV/yjEgQWDl0CLFsSBB/41QRqJjIUHflrV6xx0iQZHtfD9wgCJBXI/C9SbsIkGF61G4BkYjQTMzMzNrpiNBj8L1aNkIJEE1XrpJNWUkQe41FxJowCRB4+zDJ5sjJUHHSzcJHIklQXgwT9Sh9yVBfrHk1yKVJkEP5on6xCknQVnyi6WioSdBexSuBw8wKEHS27LWzZkoQdYxwUNPBilBCh7M00hlKUHotIFOirwpQWIQWPmWJipBmG4Sw2TPKkF56SbxoTUrQdejcD1wqCtBZmZmZmgaLEE30GnDQI8sQd+Wtbqj3ixB/tR4acQzLUEfPsNuprYtQQrXo/D1OC5BqvHSDSDfLkGcxCCwJJkvQaGM3lbPKjBB1L8RKgF9MEF6W9YKYr8wQdbqmOAc7zBB1AY6rZ8bMUE5tMiW72kxQaAaL/1WyDFBov6NEAwkMkG0yHaeOWoyQdpAp20JrzJB2FxIWmDvMkHl0CK7pEUzQbWBTttxnzNBME/UPzvvM0H9G6GMmkQ0QZE0pQJnwDRBiYiISDwjNUFHKKPXOG41QXgwTzT3sTVBKs4+HLLkNUE/fIa9HiA2QU5iEFhPlzZBuwLk/vHnNkGYbhJjKSs3QbgehUvgdTdB001i8LWuN0EJZfQWK/U3QY8JHuwVMjhB65jgwW92OEFKDAILEcI4QQ==",
          "dtype": "f8",
          "shape": "92, 1"
         },
         "hovertemplate": "contig=KI915060<br>Genomic Position=%{x}<br>G123=%{y}<br>pos=%{customdata[0]}<extra></extra>",
         "legendgroup": "KI915060",
         "line": {
          "color": "lightblue",
          "dash": "solid"
         },
         "marker": {
          "size": 3,
          "symbol": "circle"
         },
         "mode": "lines",
         "name": "KI915060",
         "showlegend": true,
         "type": "scattergl",
         "x": {
          "bdata": "nAuJH52Ho0FZOXSdk4ijQeUXS8iBiaNB0WlDByeKo0EfzNOJiIqjQWJXwLXfiqNBppuEqTCLo0GznS+gnoujQR4TvAAPjKNBaNjVBXKMo0GS7Tzo5YyjQaUpFZ5hjaNBtjpmjtmNo0FdSBr1QY6jQZZDi9jOjqNBSChjNmuPo0Eo6h/A3I+jQeSlWw11kKNBs53vrUqRo0HbQGeU5JGjQXqifkCIkqNBjGznRx+To0FdSNrQsJOjQUa2s6w5lKNBd77f+MKUo0HUTaIDb5WjQSA+g876laNBu0nMMl+Wo0F0IWmo25ajQc3MDKNbl6NBdkwwgA2Yo0F/sWSlx5ijQdZ4KU4qmaNBd77fBJaZo0HUTaLk75mjQRsvHUlQmqNBq/FSt7Kao0FGtjMTD5ujQR4T/EVqm6NB1b8Rec2bo0E0M/P5MpyjQRhLvn+hnKNBmeDBAD+do0HOheSi052jQdqHj4BLnqNB/Knx7Nmeo0HErsCrQ5+jQRq9LS2wn6NBBsi9Jg+go0GdfThoZqCjQfhT43TQoKNBVw6tQnmho0HRItt/36GjQYxsJ05SoqNBTmJQRsSio0G4Za0eOaOjQX+xpIGIo6NBvXRTot2jo0Emv1iEYKSjQb+f2tPipKNB2s73/Yilo0GtHJoCQ6ajQQG5l3z/pqNBaB8+4KOno0GfqP+hKKijQb4tqxeIqKNB9m9EHeGoo0FQjRe9famjQR1a5Is6qqNB5RcL9vGqo0F56SZRfqujQWpKxfAHrKNBooyenoiso0GKQWAnNa2jQeuYoMHoraNBhqRpVIiuo0EgPgMTM6+jQVFG76sqsKNB+Qx7VvCwo0E5QplPhrGjQUmaUswNsqNBhHkiQnOyo0HgCGUb6rKjQa0cmnzYs6NB7cPnwXm0o0HFILAwALWjQSUGgZ6VtaNBhMDKSQe2o0Gy5Bc0lLajQfs3wgkOt6NBGr1tvZa3o0EBAAAALrijQQ==",
          "dtype": "f8"
         },
         "xaxis": "x",
         "y": {
          "bdata": "L8568+4/sD99LJkBerajP3VI8PrS6KY/dUjw+tLopj/AbWRH9CurPyjq0exHcrM/L8568+4/sD968+4/EIO0Py/OevPuP7A/gteXRrdQsT/AbWRH9CurP8BtZEf0K6s/dUjw+tLopj/AbWRH9CurP9hSCR1TyLA/dUjw+tLopj91SPD60uimPy/OevPuP7A/2FIJHVPIsD91SPD60uimP8BtZEf0K6s/L8568+4/sD/AbWRH9CurP30smQF6tqM/wG1kR/Qrqz/AbWRH9CurP8BtZEf0K6s/dUjw+tLopj8vznrz7j+wP9FuYBas+rM/KOrR7Edysz968+4/EIO0P3VI8PrS6KY/L8568+4/sD/AbWRH9CurP3VI8PrS6KY/L8568+4/sD8vznrz7j+wPy/OevPuP7A/wG1kR/Qrqz/RbmAWrPqzP30smQF6tqM/dUjw+tLopj8vznrz7j+wP9hSCR1TyLA/2FIJHVPIsD/YUgkdU8iwP30smQF6tqM/wG1kR/Qrqz8vznrz7j+wP8BtZEf0K6s/dUjw+tLopj91SPD60uimP30smQF6tqM/L8568+4/sD/RbmAWrPqzP/5IbuIuUMM/evPuPxCDtD99LJkBerajP3VI8PrS6KY/L8568+4/sD/AbWRH9CurP30smQF6tqM/fSyZAXq2oz9muUiv7oC8P9TgtJl/YbI/2FIJHVPIsD/AbWRH9CurP3VI8PrS6KY/dUjw+tLopj/AbWRH9CurP3VI8PrS6KY/dUjw+tLopj91SPD60uimP30smQF6tqM/dUjw+tLopj99LJkBerajP3VI8PrS6KY/fSyZAXq2oz91SPD60uimP9FuYBas+rM/dUjw+tLopj91SPD60uimP3rz7j8Qg7Q/gteXRrdQsT91SPD60uimPy/OevPuP7A/wG1kR/Qrqz91SPD60uimP8BtZEf0K6s/L8568+4/sD99LJkBerajPw==",
          "dtype": "f8"
         },
         "yaxis": "y"
        },
        {
         "customdata": {
          "bdata": "gk4b6CS/wkCvALnXROzeQMrobVl3EetAn2FXgMz38kClKRVnvej3QDMzMzPB6P1AZfS2rPLwAUF+seQX8toEQSijt2VB0wZBk18s+VIBC0ERERERI4MOQVfHBA9NwhBBnTbQaS0LEkEFD+aJdEwTQaRwPQqklRRB/0Yoo0/tFUFTcfZhTT8XQXKvuRDPCBlBpHA9CqAjHEF1TPDgYHMdQaXi7EO9ex5BhDJ6WyC3H0FqA5327aogQZe1OiZpmyFBqMZLd/JTIkFgLPmFvfkiQWlKxRlWqCNBUyrOPhl0JEH0tqwVIiElQS2ynS826yVBS36xJJyBJ0HXo3C92wsoQVWcffjudihB30+NV8n/KEF8zYWkQ2opQZB7zcW40ilBRrbzPRfXKkFdSJpS3tArQW/LWh32UixBxwQP5l/FLEGdNtDplDstQSrOPnxf0C1BQacNtBBnLkH24TMsqmIvQSuHFtlALzBB1AY6La9/MEHzRP17xuQwQX9qvNQ8TzFBOEIZ3ZySMUGzVsdk0t0xQXyGXcHhLzJBi7MP/x+QMkGvuZA0pPsyQb9Y8usiTjNBL90kxq2RM0HwYJ6o3dozQVFGb+uAKTRBSgwCC9d+NEGamZmZOco0Qb9Y8us6HjVBA502EIJvNUEs+cXy7K41QR8+ww5f+jVBHRM8ONNENkHLWh2TYYw2QRT1bwTswzZBbaDTRuX8NkESg8DK1DE3QQuQe211eDdB",
          "dtype": "f8",
          "shape": "69, 1"
         },
         "hovertemplate": "contig=KI915061<br>Genomic Position=%{x}<br>G123=%{y}<br>pos=%{customdata[0]}<extra></extra>",
         "legendgroup": "KI915061",
         "line": {
          "color": "steelblue",
          "dash": "solid"
         },
         "marker": {
          "size": 3,
          "symbol": "circle"
         },
         "mode": "lines",
         "name": "KI915061",
         "showlegend": true,
         "type": "scattergl",
         "x": {
          "bdata": "bqCT/Hi4o0HJvSZiJbmjQeCWdRffuaNB7QqQ+Yy6o0Gm4qwXK7ujQWdmJhjru6NBvi2rPKq8o0Et+YW8ZL2jQeptWdDivaNBGUu+VO6+o0FFRMTIzr+jQWWChyaPwKNBHOi0ljPBo0EJ80Q61MGjQbkeBdJ4wqNBJJTRpyTDo0E6+7CmzcOjQdlciGeyxKNBuR4F0D/Go0EneHCw58ajQXL2od5rx6NBGr0tkAnIo0EEnfbt2MijQbc6JmnJyaNByEt38oHKo0Et+YW9J8ujQUvFGVbWy6NBK84+GaLMo0G4rBUiT82jQbOdLzYZzqNBf7EknK/Po0GlcL3bOdCjQZ19+O6k0KNBUY1XyS3Ro0HOhaRDmNGjQX3NxbgA0qNBt/M9FwXTo0FJmlLe/tOjQcxaHfaA1KNBBg/mX/PUo0E40OmUadWjQc8+fF/+1aNBqA20EJXWo0HjMyyqkNejQQ8tsoGM2KNBD3RaXi3Zo0GL+veM99mjQdZ4qXnM2qNBhTK6OVPbo0Gujsmk6dujQQ67gsON3KNBaB/+P07do0F0IWlIJd6jQbLk10XK3qNBu0mMW1Hfo0HDPFG749+jQY7e1gGB4KNBGgQWrivho0E0MzNzwuGjQbLk13Vq4qNBO20gBA3jo0Hzi+XZi+OjQX2GHb4i5KNBJ3hwprfko0G3OibDRuWjQevfCNi15aNBQqeNyifmo0EHgZWpkeajQSH32uoe56NB",
          "dtype": "f8"
         },
         "xaxis": "x",
         "y": {
          "bdata": "gteXRrdQsT8vznrz7j+wP9hSCR1TyLA/fSyZAXq2oz91SPD60uimP30smQF6tqM/wG1kR/Qrqz8vznrz7j+wP8BtZEf0K6s/wG1kR/Qrqz8sXCZwG9mxP8BtZEf0K6s/dUjw+tLopj99LJkBerajP4LXl0a3ULE/dUjw+tLopj9zD0Y5abW3P3VI8PrS6KY/vTS6hYr4uz+a/Uhu4i7QP8BtZEf0K6s/b1zlY8kM0D9wXOVjyQzQP3MPRjlptbc/vTS6hYr4uz/KircPBS23P2a5SK/ugLw/TOA2siP6xT/KircPBS23P3MPRjlptbc/2FIJHVPIsD/4nW+d8bXFP8qKtw8FLbc/PRjlpNVezD/DZQK3kR3RPy/OevPuP7A/L8568+4/sD8keH1pdAu1Py/OevPuP7A/HJTUYs09uD8o6tHsR3KzPyjq0exHcrM/dUjw+tLopj91SPD60uimP1pv3v0HYsA/Wm/e/QdiwD99LJkBerajPwP0bCds6sA/gN/51hlf2z/rzbv/QAzSP1+Uk1Z7cdY/fSyZAXq2oz+9NLqFivi7Py/OevPuP7A/FLArXCZwuz9zD0Y5abW3PxSwK1wmcLs/keD1pdEt1D/RbmAWrPqzP3MPRjlptbc/9mTF24eCxj/KircPBS23P2a5SK/ugLw/qAanzfwLwz8FLRfp1R3AP2JH9CsbGr4/ZrlIr+6AvD8QPtfYUgm9Py/OevPuP7A/",
          "dtype": "f8"
         },
         "yaxis": "y"
        },
        {
         "customdata": {
          "bdata": "nqh/IzTExkDJdr6fwsHoQC4kTam2a/JAVVVVVd9f+EDYXEiaonf8QMtaHRM3bQBBEoPAysOqAkHYFSD3TrcFQQUP5ol5xAlBeqL+jeDSDEENuwLk53wPQcdLNwl08RBBs1bHhLPNEkHME/VvehoUQQIrhxar7xRBDElTqpXVFUHNzMzMdIwXQV9zIWk6BRlBiM+wK4sZGkEcoYxebUsbQYXrUbgV7hxB8KfGy1WSHkH4DLuC0SogQXTaQKeY4CBBmG4SQ3ZkIUEadgWIGAkiQdQGOi2TtCJBO99PjS3gI0EQn2GXzIckQSIiIiKnISVBTmIQGDC/JUEuJE3p5GgmQRYg91rJFSdBoNMGOtuMJ0Gyne/nNgsoQZsLSZMEuChBEFg5NE9iKUEfheuRaC4qQUPSlIqguipBz/dTo99qK0FA7jWXZAYsQQG51xzzoCxBeDBPFPszLUG7AuReEQwuQatjgofaqC5B/41QBmBBL0EMAivHD/UvQSa/WNLKYTBBuB6FC9G4MEHNzMxsHScxQa5H4XqKaTFBBQ/mqda0MUEpXI9CsvcxQbQPnyGcNDJBs1bHhLh6MkF8hl3hsewyQdS/EUquVDNBAiuHdhSfM0F2Bcgd8uMzQeUXS74oKTRBCh7M059xNEHlF0t+OME0QYR5or6jETVBV8cEb+JUNUE=",
          "dtype": "f8",
          "shape": "64, 1"
         },
         "hovertemplate": "contig=KI915063<br>Genomic Position=%{x}<br>G123=%{y}<br>pos=%{customdata[0]}<extra></extra>",
         "legendgroup": "KI915063",
         "line": {
          "color": "lightblue",
          "dash": "solid"
         },
         "marker": {
          "size": 3,
          "symbol": "circle"
         },
         "mode": "lines",
         "name": "KI915063",
         "showlegend": true,
         "type": "scattergl",
         "x": {
          "bdata": "IIWr+3nno0EI8wQHq+ijQcYgsGFs6aNBzKHF5irqo0EtQC7freqjQXi+nzg666NBQqfNm8nro0Emv5i+jOyjQaVwPQmQ7aNBynb+olPuo0HQ99Mk/u6jQceS36SX76NBzFqdxIXwo0Gr8RIoLPGjQbc6ZsCW8aNBxiCwtQnyo0GHXUEl5fKjQduHD4ih86NBic9wsCv0o0FyPYqhxPSjQRcgt/WV9aNBddrAFWj2o0Eusl28SfejQfs3goP/96NBkAkeYYP4o0GX/GIDKPmjQSgxCH7T+aNBAEdoGP/6o0HAWHK3pvujQUMZ/ZFA/KNBgwfzGt78o0FFRMTPh/2jQUHuNbQ0/qNB9f0Uxqv+o0G/5sIhKv+jQS1Abu/W/6NBeTAPOoEApEGm4mxTTQGkQfOLZYvZAaRBGUt+yokCpEEPLXJPJQOkQdrO992/A6RBUUbv5VIEpEEk2zn8KgWkQYV5YsXHBaRBr0fhSmAGpEEjIqL6EwekQZ+of4DiB6RBXgHyjJAIpEG7kLQlbQmkQbC50P/xCaRBP8MumIgKpEHZFWBPDgukQUA1HiOIC6RBzoXkWxQMpEEusp1O+AykQaEab0fIDaRBdwXIE10OpEEshxbP5g6kQVGNVzxxD6RBXY+CKgIQpEFRjddboRCkQRQ8WDJCEaRBsAC5r8gRpEE=",
          "dtype": "f8"
         },
         "xaxis": "x",
         "y": {
          "bdata": "L8568+4/sD99LJkBerajP8qKtw8FLbc/BS0X6dUdwD/KircPBS23P8BtZEf0K6s/BS0X6dUdwD+9NLqFivi7PxSwK1wmcLs/HJTUYs09uD8o6tHsR3KzP8BtZEf0K6s/KOrR7Edysz8FLRfp1R3APxSwK1wmcLs/Wm/e/QdiwD+hIv7GVT7GPxA+19hSCb0/qganzfwLwz8UsCtcJnC7P5k+VcCucMk/PlGPZj+Syz/KircPBS23P8YYY4wxxrg/KOrR7Edysz968+4/EIO0P3rz7j8Qg7Q/KOrR7Edysz9zD0Y5abW3P8BtZEf0K6s/wG1kR/Qrqz/KircPBS23Py/OevPuP7A/2FIJHVPIsD/AbWRH9CurP700uoWK+Ls/Wm/e/QdiwD+GivgbV/nYP1pv3v0HYsA/fSyZAXq2oz8o6tHsR3KzP30smQF6tqM/rrGlEjqmwD+usaUSOqbAPyjq0exHcrM/yoq3DwUttz/AbWRH9CurP5Hg9aXRLdQ/L8568+4/sD8vznrz7j+wP8qKtw8FLbc/vTS6hYr4uz/YUgkdU8iwP2a5SK/ugLw/wG1kR/Qrqz91SPD60uimP3MPRjlptbc/0W5gFqz6sz968+4/EIO0P3VI8PrS6KY/gteXRrdQsT8vznrz7j+wP3VI8PrS6KY/fSyZAXq2oz8=",
          "dtype": "f8"
         },
         "yaxis": "y"
        },
        {
         "customdata": {
          "bdata": "Urgehalv80B2Bci9BA8CQXKvuZAhAgVBdZMYBCwQCUFZq2OCSAYNQR7ME/U/BRFBseQXSzNwE0Eoo7flkVQVQZ6ofyMvvhZBaJHt/AWkGEHday6k0kIaQUZvy9pkzRxBcT0KV7tQH0GGXQEyF3IgQfLSTSJkHiFBFK5HIf0dIkEhsHJo3jMjQTeJQaBrQiRBnTbQ6e6ZJUFLfrEkVSQnQZKmVFyg2idBJzEILMwfKUFCGb1tO9gpQQ/mifoL2SpBYCz5hfs/LUH5xZJfpC0uQZ9hV0BPLC9B0LArIN0xMEFnHz5jicowQdqHz/A/fDFBVVVVVQTXMUHQaQM9fiQyQb0taxXPfjJBl7U6Jk3PMkEsQO61vSgzQWjYFSAXlzNB6SYxyCgXNEEUrkch27M0QV4Bcu+SJzVB",
          "dtype": "f8",
          "shape": "39, 1"
         },
         "hovertemplate": "contig=KI915062<br>Genomic Position=%{x}<br>G123=%{y}<br>pos=%{customdata[0]}<extra></extra>",
         "legendgroup": "KI915062",
         "line": {
          "color": "steelblue",
          "dash": "solid"
         },
         "marker": {
          "size": 3,
          "symbol": "circle"
         },
         "mode": "lines",
         "name": "KI915062",
         "showlegend": true,
         "type": "scattergl",
         "x": {
          "bdata": "h6TppDYUpEGxcuhwTBakQRwvHTgJF6RB1Qa6ugwYpEGbmdlBChmkQZaKs09LGqRBooxeyYAbpEGC3Kv4chykQYTASscnHaRBeXe3shoepEHmFwsZ6h6kQWhmJmIvIKRBz4VkDXEhpEEOAuvGOiKkQYNO2xPnIqRBXkjarOYjpEFgcyGO/CSkQTlCWRsLJqRB59CinmInpEEust0E7SikQVdVFVCjKaRB4Qjle+gqpEHJvSbroCukQZaKs7uhLKRB3Pk+qwgvpEF2kxhU9i+kQRJY+f70MKRBElj5aSwypEHvfH/CXTOkQcCfmi/BNKRBW6tjuHY1pEGEBzOsETakQQvX403GNqRBG3YFSmc3pEEw3SQrGjikQWEs+d32OKRB/mJJAfc5pEEMkPtlMDukQbPkl9UXPKRB",
          "dtype": "f8"
         },
         "xaxis": "x",
         "y": {
          "bdata": "dUjw+tLopj8QPtfYUgm9P3VI8PrS6KY/0W5gFqz6sz/KircPBS23PxSwK1wmcLs/WemUET7X2D99LJkBerajP9hSCR1TyLA/2FIJHVPIsD/4nW+d8bXFPxSwK1wmcLs/HJTUYs09uD91SPD60uimPy/OevPuP7A/L8568+4/sD8vznrz7j+wP8qKtw8FLbc/fSyZAXq2oz968+4/EIO0P3VI8PrS6KY/wG1kR/Qrqz+UWqy5B6PMP9FuYBas+rM/A/RsJ2zqwD+5wmUCt5G9P9FuYBas+rM/2FIJHVPIsD8o6tHsR3KzP8BtZEf0K6s/p4Bd4TKB2z8o6tHsR3KzP/xIbuIuUMM/ps38C5PYwz/KircPBS23PwUtF+nVHcA/KOrR7Edysz968+4/EIO0Pyjq0exHcrM/",
          "dtype": "f8"
         },
         "yaxis": "y"
        },
        {
         "customdata": {
          "bdata": "YCz5xZJ20UAZvS1rPRHlQMtaHRNwIu5AAbnXXOiN80BnHz7DaO73QE5iEFhP1PtAEFg5tAeEAEEhaUrFDHMFQRKDwMoxTwhBBoGVQ034CkHBg3mieKcMQRT1b4QALA5BiUFg5dAHEEExCKycKBARQeOlm0Tj3hFBtA+f4SqzEkGnDXTaD5ATQf7UeGl8cBRBJE2pOPfIFUFP1L+RaLUWQTn78JnVsRdB95oLSS+aGEFZ8oslfYUZQXnpJrH0ZxpB8KfGy79bG0Eua3VMNUscQf7UeGlwHh1B5/up8a0ZHkGrY4KHdRwfQeRec6G+FyBBV8cED7zPIEF8zYXk2LchQdV46SarSSJBwBHK6MYjI0EmeDDPZsUjQXMhaYo4USRBY8kvFm7OJEHsCpD7rYQlQSZ4MI8hEyZB1AY6rfHGJkHpJjGIakEnQR8+w+41wydBrwC511tJKEGF61E4Y9ooQbbz/VRtYClBZx8+g0fZKUG8dJNYf3QqQeAIZfQeDCtBIPeay4qTK0GNl27S+iEsQVH/RujCoCxB2ofPcMEnLUG8u7u7vbQtQZMYBJYfPS5B1L8Riu/lLkFBpw10nogvQcUgsHLbBTBBbaDTpqdRMEFiV4AcaaAwQW2g08aT8DBB/0YoQ347MUFcj8I1IZAxQfS2rFXL6TFBuB6Fa9ZlMkHkXnPhitQyQYDca05vMzNBx0s3KX7TM0E1XrpJUmA0QbByaPGxuzRB",
          "dtype": "f8",
          "shape": "69, 1"
         },
         "hovertemplate": "contig=KI915064<br>Genomic Position=%{x}<br>G123=%{y}<br>pos=%{customdata[0]}<extra></extra>",
         "legendgroup": "KI915064",
         "line": {
          "color": "lightblue",
          "dash": "solid"
         },
         "marker": {
          "size": 3,
          "symbol": "circle"
         },
         "mode": "lines",
         "name": "KI915064",
         "showlegend": true,
         "type": "scattergl",
         "x": {
          "bdata": "fBQuiqM8pEGPl27paD2kQYkWmfz5PaRBqn+jkok+pEF3TLCiFT+kQb/mgl+SP6RBCfOE1zhApEFNN8mYdEGkQdSUCqIrQqRBE8ro6NVCpEEUg8CzQUOkQbAAudWiQ6RB1JQKvhtEpEG3Oubpn0SkQYYyOkcHRaRBO7QIa3FFpEG6HoXd30WkQR2hzBNQRqRBWjk0UfxGpEGdxOCJckekQTHdZMDwR6RBgGo87WRIpEGsqiqU2kikQSh48M9LSaRBB8h9tcVJpEFpHz5wPUqkQR2hzA2nSqRBsbmQrCRLpEHlpVsQpkukQRJYOZQvTKRBeummkedMpEGAanyuz02kQSzOvoBhTqRBxa6AnDtPpEErFWc83U+kQdRNIg5pUKRBfBSuQ+ZQpEG+dJODnFGkQSsVJ/cqUqRBuh5Fx95SpEHaFSBAWVOkQfGnhgvbU6RBtJ1vMWFUpEGfNtA48lSkQafi7EJ4VaRB0iIbHfFVpEEoePBUjFakQbxJjPQjV6RBqn9jYKtXpEFLU2rQOVikQbIrgJi4WKRBO7QIlz9ZpEFvoFOTzFmkQczoLfVUWqRBc/Yhxf1apEFa8gt0oFukQfVEfYwjXKRB9IvlJLtcpEFi5dCnWF2kQfSLJf34XaRBQTUe0o5epEHSaQMYOF+kQSE+Q2zrX6RB8O5uguNgpEFxy1rrwGGkQWy8NLR+YqRBS1Pq0b5jpEFvWSt62GSkQZi1ejmPZaRB",
          "dtype": "f8"
         },
         "xaxis": "x",
         "y": {
          "bdata": "dUjw+tLopj/2ZMXbh4LGP/idb53xtcU/yoq3DwUttz/AbWRH9CurPy/OevPuP7A/TOA2siP6xT/RbmAWrPqzP9hSCR1TyLA/ED7X2FIJvT8sXCZwG9mxP7nCZQK3kb0/L8568+4/sD8clNRizT24P3VI8PrS6KY/1OC0mX9hsj+C15dGt1CxP9hSCR1TyLA/2FIJHVPIsD+C15dGt1CxP9FuYBas+rM/JHh9aXQLtT/YUgkdU8iwP8BtZEf0K6s/L8568+4/sD/AbWRH9CurP9hSCR1TyLA/HJTUYs09uD/YUgkdU8iwP4LXl0a3ULE/0W5gFqz6sz+C15dGt1CxP9hSCR1TyLA/ED7X2FIJvT8keH1pdAu1Py/OevPuP7A/L8568+4/sD968+4/EIO0P8BtZEf0K6s/0W5gFqz6sz9unfG1lU65P3rz7j8Qg7Q/KOrR7Edysz8keH1pdAu1PxyU1GLNPbg/yoq3DwUttz8clNRizT24P8BtZEf0K6s/2FIJHVPIsD/YUgkdU8iwP8BtZEf0K6s/2FIJHVPIsD/RbmAWrPqzP8BtZEf0K6s/zPwLk9iTtT/YUgkdU8iwP3MPRjlptbc/HJTUYs09uD/YUgkdU8iwP4LXl0a3ULE/wG1kR/Qrqz8vznrz7j+wP9hSCR1TyLA/JHh9aXQLtT/AbWRH9CurP3VI8PrS6KY/gteXRrdQsT/AbWRH9CurP/xIbuIuUMM/",
          "dtype": "f8"
         },
         "yaxis": "y"
        },
        {
         "customdata": {
          "bdata": "+cWSXxA+AUEVZx8+SpkEQWwuJE0DkAdBmlJx9mbOCkGxK0Du0fEMQZ9hV4CDzw5BIiIiosB8EEFhnqj/FZERQRfZznfD+BJBOm2g02ZjFEEua3VM7E0VQZ6of6MLWxdB16NwPWvbGEFD0pSKTeoZQR7ME3UlAhtB/WLJL4IYHkEezBN1RtAfQfvwGba4aCBBwBHKqG0qIUHlF0u+jhsiQeIz7MrixCJBBci9Jg1FI0Fvy1rdQdMjQaL+jRBjWiRBJQaBVTDmJEFTKs5+hGYlQcARyijg2SVBhDJ6G4BbJkHGkl/stsgmQeltWatmPidBmlJx9hurJ0H8qfESI/IoQT98hh3HCCpBKVyPgnyMKkEIrBya4/sqQQXIvabhmCtBhHmivvxQLEGPCR7M8/8sQbgehes4ey1Bk18subaELkGamZnZoo4vQZKmVDzgHDBBoNMGOhZrMEHy0k3C/OEwQbhlrW73bzFBxGfY9SDFMUGfYVcg8RgyQT1R/6YWcTJBnqh/Q9u8MkGBlUMLtaEzQQ==",
          "dtype": "f8",
          "shape": "50, 1"
         },
         "hovertemplate": "contig=KI915066<br>Genomic Position=%{x}<br>G123=%{y}<br>pos=%{customdata[0]}<extra></extra>",
         "legendgroup": "KI915066",
         "line": {
          "color": "steelblue",
          "dash": "solid"
         },
         "marker": {
          "size": 3,
          "symbol": "circle"
         },
         "mode": "lines",
         "name": "KI915066",
         "showlegend": true,
         "type": "scattergl",
         "x": {
          "bdata": "SZqSvd5ppEFyPQqMtWqkQaT+TTpza6RB7VE400JspEGjRfaty2ykQXDLWhpDbaRBqcbLmc1tpEHniXrEV26kQQWdNpsLb6RBz4Xk7MBvpEFO8KAvNnCkQWx1TL88caRB6m0Z7/xxpEEBAEBghHKkQX4/NUwQc6RBSZqSept0pEF+P7Vcd3WkQYnPMPL3daRBqn8jp7l2pEGwADnIqnekQcyhRRxUeKRBYHOhRtR4pEFjEFh7YnmkQZdDi5zpeaRBnjbQaXV6pEHCg/m99XqkQap/oxlpe6RByy+Wuep7pEErFWfwV3ykQQYPJqDNfKRB6yZxVTp9pEFCp41cgX6kQRQ8mACYf6RB9ET9tRuApEFE0hQdi4CkQWBzIRsogaRBElg5NuCBpEGi00Ytj4KkQbc6ZnIKg6RB+OEz8BOEpEEyT1TcHYWkQeVe8/nIhaRBP8PuZWWGpEE+Uf8yU4ekQWMQWChviKRBaGZmexmJpEFbZLsbwYmkQTq0yGZxiqRB6bQB8AiLpEHDPJGj0oykQQ==",
          "dtype": "f8"
         },
         "xaxis": "x",
         "y": {
          "bdata": "fSyZAXq2oz99LJkBerajP30smQF6tqM/dUjw+tLopj8vznrz7j+wPy/OevPuP7A/wG1kR/Qrqz/KircPBS23P3VI8PrS6KY/2FIJHVPIsD99LJkBerajP8BtZEf0K6s/L8568+4/sD8QPtfYUgm9Py/OevPuP7A/fSyZAXq2oz99LJkBerajP/5IbuIuUMM/wG1kR/Qrqz/AbWRH9CurP30smQF6tqM/zPwLk9iTtT8FLRfp1R3AP3VI8PrS6KY/L8568+4/sD/KircPBS23P8BtZEf0K6s/L8568+4/sD/YUgkdU8iwPxSwK1wmcLs/FLArXCZwuz9zD0Y5abW3P8BtZEf0K6s/L8568+4/sD9muUiv7oC8P3VI8PrS6KY/fSyZAXq2oz8o6tHsR3KzP8BtZEf0K6s/evPuPxCDtD/GGGOMMca4P9hSCR1TyLA/L8568+4/sD8vznrz7j+wP3VI8PrS6KY/2FIJHVPIsD91SPD60uimP8BtZEf0K6s/2FIJHVPIsD/YUgkdU8iwPw==",
          "dtype": "f8"
         },
         "yaxis": "y"
        },
        {
         "customdata": {
          "bdata": "JE2pODMD2UBSuB6FcVH1QLKd76fenv9ADi2ynRtHA0HIveZCeoUHQc/3U+N0owtBBoGVQ6buDkECK4eWuOgQQe41F5It+BJBdNpAJ7wQFUEwlvxioSYXQQIrh5bXLRlBQmDl0LnBGkEywYN5LwkcQW8Sg8Cu3B1Bsp3v51FqIEFR/0Yow+AhQdCwKwDxpyRB35a1egfyJUEywYP5NsomQdbqmGA7oidBmlJxtnFqKEEhaUoFYnQpQaL+jRCwjypBYhBYORQ7K0H3mgsJOfsrQY8JHsyvfC1BeqL+zbeQL0Hj7MNnd6UwQUzwYD4ZuDFBhqQptdyGM0E=",
          "dtype": "f8",
          "shape": "31, 1"
         },
         "hovertemplate": "contig=KI915065<br>Genomic Position=%{x}<br>G123=%{y}<br>pos=%{customdata[0]}<extra></extra>",
         "legendgroup": "KI915065",
         "line": {
          "color": "lightblue",
          "dash": "solid"
         },
         "marker": {
          "size": 3,
          "symbol": "circle"
         },
         "mode": "lines",
         "name": "KI915065",
         "showlegend": true,
         "type": "scattergl",
         "x": {
          "bdata": "DQIrvZqNpEGa4MHRfI+kQbc6Zn/GkKRBTql4aqSRpEFy9iECtJKkQcERyoC7k6RBIyIiTY6UpEFZgNz/RpWkQV5IWrpOlqRBMN2kAVuXpEEOu0L0ZZikQVmAXI9pmaRBc695gDOapEGk/k0715qkQUx+8frAm6RBYSx59TydpEHCg7lms56kQXRokZR6oaRBWvILq8SipEGEwIranKOkQa7V8d50pKRBFq5HFT2lpEEsh5YFR6akQcLKoVNip6RB05TKtw2opEFeSJrczaikQc1aXVNPqqRBZTtfW2OspEGdxGCSHa6kQaT+DdZCsKRBDJD7XOCzpEE=",
          "dtype": "f8"
         },
         "xaxis": "x",
         "y": {
          "bdata": "+J1vnfG1xT8a4XONLZXQPwG7wmUCt8E/3QE5qsFp4z+bPlXArnDJP9F2wqYOCd4/Pd8642srzT8vznrz7j+wP7TWWmuttdY/d0S/sqHh4T/0KxsaHk/HP1vplBE+19g/0XbCpg4J3j+GivgbV/nYP8WerHj7UNA/0W5gFqz6sz+oBqfN/AvDPy/OevPuP7A/rrGlEjqmwD/lIr26A3LUP3dEv7Kh4eE/DRXxN67y4T/RdsKmDgnePwoV8Teu8uE/bmAWrPoT5T+A3/nWGV/bP8WerHj7UNA/U8TfuMrHwj9M4DayI/rFP/idb53xtcU/fSyZAXq2oz8=",
          "dtype": "f8"
         },
         "yaxis": "y"
        },
        {
         "customdata": {
          "bdata": "Uf9GKCPW0UD4U+OltxnnQO41F5KYMfFAk18s+Y0E9kBtoNMGoMX6QO/u7u4Ctf9ApeLsw9BzAkG28/3U950FQX0/NV7KJglBU3H24UE+DEELkHvNgMgOQT81XrrHfhBBo7dlLRafEUFzIWnKT7sSQWwuJM2H8BNBIWlKRf17FUGg0wY6pqsWQd1rLiRB2hdBPVH/xsCjGEFGb8va23gZQT81Xjp3thpBTDeJwWCVHEHjpZvEfOsdQQIrhxaFcB9BvS1r9UtxIEHP91MjCxIhQUlTKk6QjCFBiUFgZU5IIkF1TPAgnwEjQXWTGIQlkiNBA+Rec4khJEHpJjFIe6UkQQwCK4dxTCVBjd6WNQMDJkEhaUrFFZYmQaGM3pamYydBtYFO2y35J0FYObSIBJcoQUJg5ZCbLilByL3mggq2KUFD0pRKGTkqQc/3U6OZtypBrY4J3oglK0F+seSXGZQrQXe+n9oACSxB9P3UuHl6LEHNzMxMTuIsQeOlmwRkVS1Bc2iR7SkKLkE=",
          "dtype": "f8",
          "shape": "49, 1"
         },
         "hovertemplate": "contig=KI915067<br>Genomic Position=%{x}<br>G123=%{y}<br>pos=%{customdata[0]}<extra></extra>",
         "legendgroup": "KI915067",
         "line": {
          "color": "steelblue",
          "dash": "solid"
         },
         "marker": {
          "size": 3,
          "symbol": "circle"
         },
         "mode": "lines",
         "name": "KI915067",
         "showlegend": true,
         "type": "scattergl",
         "x": {
          "bdata": "RNIUDm+0pEFB7nX4UbWkQfPSDZAGtqRBmLW67qC2pEGAavwQObekQeptWf3Wt6RBRYssUX24pEGJz/DaR7mkQVwdkw8quqRBqA107e+6pEHw7i59krukQSe/2MAfvKRB6EIS6K+8pEGdxOAEPr2kQSMi4qDYvaRBQTWeW56+pEF2kxgwNr+kQUKnjX3Nv6RBtQ9fPTLApEHE9ejKnMCkQSe/mJg7waRBqFRcDSvCpEHf3V0b1sKkQaLThp+Yw6RBOvvwqFHEpEEE5B5o8sSkQV+6Se1sxaRBTvBgqyjGpEFYgBz84cakQZ+of4Jyx6RB8O5u5gHIpEEzwUPYhcikQQ67gs4syaRB6yYxYOPJpEF12sBydsqkQZlukgNEy6RBjt7WitnLpEFFRIRhd8ykQWx1jPgOzaRBynZ+Z5bNpEHeJEZ2Gc6kQQTknvaXzqRBm5nZ5QXPpEG9dJN2dM+kQcov1l3pz6RBCmW01lrQpEHZXEirwtCkQbIrAME10aRBdCHphurRpEE=",
          "dtype": "f8"
         },
         "xaxis": "x",
         "y": {
          "bdata": "fSyZAXq2oz91SPD60uimP30smQF6tqM/fSyZAXq2oz99LJkBerajPy/OevPuP7A/L8568+4/sD/AbWRH9CurP30smQF6tqM/2FIJHVPIsD91SPD60uimP3VI8PrS6KY/L8568+4/sD99LJkBerajP3VI8PrS6KY/dUjw+tLopj/AbWRH9CurPyjq0exHcrM/L8568+4/sD/AbWRH9CurP3VI8PrS6KY/dUjw+tLopj99LJkBerajP3VI8PrS6KY/wG1kR/Qrqz8vznrz7j+wP8BtZEf0K6s/dUjw+tLopj99LJkBerajPyjq0exHcrM/wG1kR/Qrqz91SPD60uimP9hSCR1TyLA/wG1kR/Qrqz91SPD60uimP3VI8PrS6KY/wG1kR/Qrqz8UsCtcJnC7P9hSCR1TyLA/wG1kR/Qrqz91SPD60uimPy/OevPuP7A/L8568+4/sD91SPD60uimP30smQF6tqM/L8568+4/sD91SPD60uimP3VI8PrS6KY/L8568+4/sD8=",
          "dtype": "f8"
         },
         "yaxis": "y"
        },
        {
         "customdata": {
          "bdata": "4XoUrgc/50Bvy1odDzHwQF1ImlI1R/VA+FPjpZNU+kCeqH8j7kn+QOPsw2fCcgFBKs4+fOZpBUHD9ShcimsIQTN6W9aHiwtB1AY6bSOADkGiRbZzfJkQQQwCKwfOcxJBhHmi/pWIE0FERETEgWMUQQ4tsp3GzRVBkHvNhVNEF0EAAACA4N0YQfLSTWLY5RlBSgwCq1SGG0FmrY6JpiUdQWq8dJM9lh5BuwLkXlDZH0EFyL0mV58gQTTsCpCsLCFBRItsJx0OIkE7308NjOgiQYwlv9gzfiNBCh7MU5IKJEGSplQcaIQkQUw3iQFKFiVBGQRWDkaoJUGi/o1QvSwmQa2OCd6gyyZBkHvNxc1UJ0ESyugtYwgoQQPkXnPpmShB",
          "dtype": "f8",
          "shape": "36, 1"
         },
         "hovertemplate": "contig=KI915068<br>Genomic Position=%{x}<br>G123=%{y}<br>pos=%{customdata[0]}<extra></extra>",
         "legendgroup": "KI915068",
         "line": {
          "color": "lightblue",
          "dash": "solid"
         },
         "marker": {
          "size": 3,
          "symbol": "circle"
         },
         "mode": "lines",
         "name": "KI915068",
         "showlegend": true,
         "type": "scattergl",
         "x": {
          "bdata": "vAJkd17TpEHNzMyo8NOkQb10k22T1KRB3t1dGTXVpEFpka3Es9WkQW8SgzdH1qRBKDGIAEXXpEGxK4BpBdikQVO43mjN2KRB9m/Ej4rZpEGX/CJFN9qkQfW27G0k26RBsXLo0a7bpEGWQ8tHHNykQYv6N2rR3KRBMgissIzdpEF0ISl3Wd6kQV1IGnPd3qRBeqI+sa3fpEHL6C1afeCkQdLbsqU14aRBdZMYL9fhpEE83w/eieKkQWAseTMX46RB/40QpPjjpEFTcfYS0+SkQZrgwbpo5aRBku08GfXlpEEbdgXvbuakQauq6tAA56RBeHf3zJLnpEFzrzlEF+ikQQMrxye26KRB8O6uVD/ppEE+Chfq8umkQViAXHCE6qRB",
          "dtype": "f8"
         },
         "xaxis": "x",
         "y": {
          "bdata": "fSyZAXq2oz+C15dGt1CxPxA+19hSCb0/BS0X6dUdwD8o6tHsR3KzP9hSCR1TyLA/dUjw+tLopj8vznrz7j+wP8BtZEf0K6s/wG1kR/Qrqz8o6tHsR3KzP3VI8PrS6KY/rrGlEjqmwD9zD0Y5abW3P26d8bWVTrk/fSyZAXq2oz91SPD60uimP1pv3v0HYsA/2FIJHVPIsD/AbWRH9CurPyjq0exHcrM/A/RsJ2zqwD968+4/EIO0PxyU1GLNPbg/gteXRrdQsT+ZPlXArnDJP8z8C5PYk7U/HJTUYs09uD/AbWRH9CurPy/OevPuP7A/0W5gFqz6sz/KircPBS23P8YYY4wxxrg/gteXRrdQsT8UsCtcJnC7P3Bc5WPJDNA/",
          "dtype": "f8"
         },
         "yaxis": "y"
        },
        {
         "customdata": {
          "bdata": "Q9KUivEe9kDUvxHKpE7/QMuhRbb6GQJBYCz5xWaPBEFNqTj7HhQHQatjggdwLQlBVVVVVeZyC0G4Za2ORigOQZsLSdPCSxBBDnTaQMBAEUG3rNWxekcSQXTaQCd9TRNBqTj7cANfFEH0tqxVqFcVQVVVVVWyuhZBwYN5Ih/JGEFRRm9LiyoaQeUXS/7C2xtBeqL+DUBPHUHtw2fYI6YeQef7qfHV6B9B3SQGAaWoIEE=",
          "dtype": "f8",
          "shape": "22, 1"
         },
         "hovertemplate": "contig=KI915069<br>Genomic Position=%{x}<br>G123=%{y}<br>pos=%{customdata[0]}<extra></extra>",
         "legendgroup": "KI915069",
         "line": {
          "color": "steelblue",
          "dash": "solid"
         },
         "marker": {
          "size": 3,
          "symbol": "circle"
         },
         "mode": "lines",
         "name": "KI915069",
         "showlegend": true,
         "type": "scattergl",
         "x": {
          "bdata": "8tKNTkjtpEGQwvVEbu6kQcARCu8K76RBo/4NSqjvpEGCTht4SfCkQfFgXszP8KRBrdXxKWHxpEGxKwCCDvKkQd4kxlGq8qRBku180CTzpEEua7UtqPOkQcUg8C4r9KRB9P0U8rP0pEGzVodEMPWkQQMrh8nh9aRBGr3t/+j2pEH7NwK2mfekQeSl21Fy+KRBqX9jECz5pEE6tEiC1/mkQVZVVdt4+qRBfYZdFS37pEE=",
          "dtype": "f8"
         },
         "xaxis": "x",
         "y": {
          "bdata": "dUjw+tLopj/U4LSZf2GyP4LXl0a3ULE/ZrlIr+6AvD9zD0Y5abW3Pyjq0exHcrM/KOrR7Edysz8vznrz7j+wPxA+19hSCb0/evPuPxCDtD/AbWRH9CurPy/OevPuP7A/vTS6hYr4uz8vznrz7j+wPy/OevPuP7A/L8568+4/sD/AbWRH9CurPwUtF+nVHcA/dUjw+tLopj9IbuIuUJPHP3MPRjlptbc/+J1vnfG1xT8=",
          "dtype": "f8"
         },
         "yaxis": "y"
        },
        {
         "customdata": {
          "bdata": "+zdCGVmo/EASg8DKNRgBQR0TPJhEYQNBx0s3iS64BUE+w64Au9kIQbHkF0svGw1BK4cW2QaDD0E9CtcjoxARQUzwYJ44fhJBEFg5NHV2E0FD0pQKrZIUQarx0s3/tRVBSJpScaXWFkGnDXTaBCAYQeHBPFHQVhlBmCfqX/UQG0E=",
          "dtype": "f8",
          "shape": "16, 1"
         },
         "hovertemplate": "contig=KI915070<br>Genomic Position=%{x}<br>G123=%{y}<br>pos=%{customdata[0]}<extra></extra>",
         "legendgroup": "KI915070",
         "line": {
          "color": "lightblue",
          "dash": "solid"
         },
         "marker": {
          "size": 3,
          "symbol": "circle"
         },
         "mode": "lines",
         "name": "KI915070",
         "showlegend": true,
         "type": "scattergl",
         "x": {
          "bdata": "xK6AIML+pEGeNtAic/+kQYKVg2YFAKVBUNT/IJsApUEush2EYwGlQXZMMOFzAqVBH8wT1w0DpUECcu9mtQOlQfW2rDFsBKVBKaP3T+gEpUHm0OJrdgWlQfZvRBUIBqVByi8WaJgGpUGEwMoXPQelQd4khn3YB6VBkXsNkLUIpUE=",
          "dtype": "f8"
         },
         "xaxis": "x",
         "y": {
          "bdata": "fSyZAXq2oz/RbmAWrPqzPyjq0exHcrM/gteXRrdQsT9ab979B2LAP66xpRI6psA/L8568+4/sD+9NLqFivi7Pyjq0exHcrM/L8568+4/sD/AbWRH9CurP8BtZEf0K6s/fSyZAXq2oz91SPD60uimP9FuYBas+rM/fSyZAXq2oz8=",
          "dtype": "f8"
         },
         "yaxis": "y"
        },
        {
         "customdata": {
          "bdata": "GEt+sfQMx0DnQtKUeo7eQNv5fmrIOeZA9Las1UHW7UDflrU6QsbyQMP1KFyB2/ZAfvgMu4ro+kBU46WbkrP/QCFpSsUSFwJB6LSBTsbxA0FU46WbLi4GQSPb+X6CUwhBM3pb1pnECkEv3SQGd6wNQak4+/B4DRBBhqQpFX41EUEhsHJoGgcSQTTsChAH7hJBmCfqX4rgE0H4U+MlQ3MVQT7DrgB1qhZBIbBy6OmfF0E=",
          "dtype": "f8",
          "shape": "22, 1"
         },
         "hovertemplate": "contig=KI915071<br>Genomic Position=%{x}<br>G123=%{y}<br>pos=%{customdata[0]}<extra></extra>",
         "legendgroup": "KI915071",
         "line": {
          "color": "steelblue",
          "dash": "solid"
         },
         "marker": {
          "size": 3,
          "symbol": "circle"
         },
         "mode": "lines",
         "name": "KI915071",
         "showlegend": true,
         "type": "scattergl",
         "x": {
          "bdata": "ikHgwxEJpUEjIuIDqgmlQYEjlCwZCqVBXNYq9JIKpUFE0lRYDgulQbAAOQCRC6VBMN1koRIMpUFN8GACrAylQSvOvlQ7DaVB/huhAbINpUEKZbQbQQ6lQQg6rXDKDqVBcBKDtmYPpUHIBM+tIBClQS35hUy8EKVBYxAYT1ARpUHptEEduRGlQQeBlZMsEqVBpXA91aUSpUE7baAxbxOlQfPSjcoKFKVB6bQBhYUUpUE=",
          "dtype": "f8"
         },
         "xaxis": "x",
         "y": {
          "bdata": "cw9GOWm1tz/KircPBS23P9FuYBas+rM/FLArXCZwuz/lIr26A3LUP3MPRjlptbc/FLArXCZwuz8FLRfp1R3AP700uoWK+Ls/8bnGlkroyD/KircPBS23P5s+VcCucMk/xhhjjDHGuD968+4/EIO0P9FuYBas+rM/0W5gFqz6sz9Z6ZQRPtfYPwP0bCds6sA/KOrR7Edysz99LJkBerajP30smQF6tqM/KOrR7Edysz8=",
          "dtype": "f8"
         },
         "yaxis": "y"
        },
        {
         "customdata": {
          "bdata": "1XjpJqVp/UAdEzyYCYYDQc3MzMz2IQZB9ihcj850CEFVnH34FeAKQcP1KFzAXA1BIbByaCxxD0F9PzXe+cUQQQ==",
          "dtype": "f8",
          "shape": "8, 1"
         },
         "hovertemplate": "contig=KI915072<br>Genomic Position=%{x}<br>G123=%{y}<br>pos=%{customdata[0]}<extra></extra>",
         "legendgroup": "KI915072",
         "line": {
          "color": "lightblue",
          "dash": "solid"
         },
         "marker": {
          "size": 3,
          "symbol": "circle"
         },
         "mode": "lines",
         "name": "KI915072",
         "showlegend": true,
         "type": "scattergl",
         "x": {
          "bdata": "GJKmuTIYpUHuw2cHZxmlQRzotAIOGqVB84uluKIapUFQ1H+KPRulQSa/GLXcG6VBldEb0GEcpUGJz/CB6BylQQ==",
          "dtype": "f8"
         },
         "xaxis": "x",
         "y": {
          "bdata": "fSyZAXq2oz+C15dGt1CxP3rz7j8Qg7Q/KOrR7Edysz8o6tHsR3KzP3VI8PrS6KY/L8568+4/sD+9NLqFivi7Pw==",
          "dtype": "f8"
         },
         "yaxis": "y"
        },
        {
         "customdata": {
          "bdata": "BQ/mibocxkCbC0lTwonbQA4tsp3fcudA9P3UeLN58UCMJb9Ypnb4QCijt2XCcQBBv1jyi4K+A0G28/3UpFYGQdqHz7DA3ghBFPVvhNtpDEE=",
          "dtype": "f8",
          "shape": "10, 1"
         },
         "hovertemplate": "contig=KI915075<br>Genomic Position=%{x}<br>G123=%{y}<br>pos=%{customdata[0]}<extra></extra>",
         "legendgroup": "KI915075",
         "line": {
          "color": "steelblue",
          "dash": "solid"
         },
         "marker": {
          "size": 3,
          "symbol": "circle"
         },
         "mode": "lines",
         "name": "KI915075",
         "showlegend": true,
         "type": "scattergl",
         "x": {
          "bdata": "Iffa9EAdpUHRaQPQxB2lQayq6q9fHqVBKepfuBcfpUFu57tW9x+lQXI9ivIEIaVBH8yTItghpUEGDyYrfiKlQWsDHTIgI6VBhuvR+AIkpUE=",
          "dtype": "f8"
         },
         "xaxis": "x",
         "y": {
          "bdata": "cFzlY8kM0D8Vbx8KWi7SP2GUk1Z7cdY/dUjw+tLopj91SPD60uimP6x4+1DQcsE/KOrR7Edysz/AbWRH9CurP/idb53xtcU/fSyZAXq2oz8=",
          "dtype": "f8"
         },
         "yaxis": "y"
        },
        {
         "customdata": {
          "bdata": "bC4kTVnYzkCvuZA0IYHqQKabxCDycvVAN9BpA6Vr/ECl4uzDp5oBQQisHFp6eAZB+zdCGT0TC0E=",
          "dtype": "f8",
          "shape": "7, 1"
         },
         "hovertemplate": "contig=KI915074<br>Genomic Position=%{x}<br>G123=%{y}<br>pos=%{customdata[0]}<extra></extra>",
         "legendgroup": "KI915074",
         "line": {
          "color": "lightblue",
          "dash": "solid"
         },
         "marker": {
          "size": 3,
          "symbol": "circle"
         },
         "mode": "lines",
         "name": "KI915074",
         "showlegend": true,
         "type": "scattergl",
         "x": {
          "bdata": "FyA3Wn4kpUGSNOUKqyWlQRkEFlexJqVBwFhybZAnpUG/5sKiaSilQbFyaBehKaVBFDwYyMcqpUE=",
          "dtype": "f8"
         },
         "xaxis": "x",
         "y": {
          "bdata": "L8568+4/sD8UsCtcJnC7Py/OevPuP7A/cw9GOWm1tz8o6tHsR3KzPxSwK1wmcLs/oSL+xlU+xj8=",
          "dtype": "f8"
         },
         "yaxis": "y"
        },
        {
         "customdata": {
          "bdata": "YhBYORQg2kAQWDm0uNvyQDm0yHZMfgBB7jUXkjqgCEE=",
          "dtype": "f8",
          "shape": "4, 1"
         },
         "hovertemplate": "contig=KI915073<br>Genomic Position=%{x}<br>G123=%{y}<br>pos=%{customdata[0]}<extra></extra>",
         "legendgroup": "KI915073",
         "line": {
          "color": "steelblue",
          "dash": "solid"
         },
         "marker": {
          "size": 3,
          "symbol": "circle"
         },
         "mode": "lines",
         "name": "KI915073",
         "showlegend": true,
         "type": "scattergl",
         "x": {
          "bdata": "1Qa6yJgrpUE/wy4/Iy2lQUHuNVvnLqVB4cG81u8wpUE=",
          "dtype": "f8"
         },
         "xaxis": "x",
         "y": {
          "bdata": "0W5gFqz6sz99LJkBerajP5Ad0a9saOg/KOrR7Edysz8=",
          "dtype": "f8"
         },
         "yaxis": "y"
        },
        {
         "customdata": {
          "bdata": "LPnFkv/qwEC6kDSl4h/aQLqQNKVWQOVA2BUg91r97EDy0k1iAhHyQOkmMQh0XPZAdZMYBIQg+kA=",
          "dtype": "f8",
          "shape": "7, 1"
         },
         "hovertemplate": "contig=AXCN02002502<br>Genomic Position=%{x}<br>G123=%{y}<br>pos=%{customdata[0]}<extra></extra>",
         "legendgroup": "AXCN02002502",
         "line": {
          "color": "lightblue",
          "dash": "solid"
         },
         "marker": {
          "size": 3,
          "symbol": "circle"
         },
         "mode": "lines",
         "name": "AXCN02002502",
         "showlegend": true,
         "type": "scattergl",
         "x": {
          "bdata": "+Qy7gjMxpUGG69HVwDGlQSoVJ9xDMqVB4jNsrL8ypUGbCwn3MTOlQQbIPWW7M6VB80Q95zM0pUE=",
          "dtype": "f8"
         },
         "xaxis": "x",
         "y": {
          "bdata": "/Ehu4i5Qwz8D9GwnbOrAPy/OevPuP7A/yoq3DwUttz8vznrz7j+wP3VI8PrS6KY/L8568+4/sD8=",
          "dtype": "f8"
         },
         "yaxis": "y"
        },
        {
         "customdata": {
          "bdata": "TmIQWJOG80A=",
          "dtype": "f8",
          "shape": "1, 1"
         },
         "hovertemplate": "contig=KI915077<br>Genomic Position=%{x}<br>G123=%{y}<br>pos=%{customdata[0]}<extra></extra>",
         "legendgroup": "KI915077",
         "line": {
          "color": "steelblue",
          "dash": "solid"
         },
         "marker": {
          "size": 3,
          "symbol": "circle"
         },
         "mode": "lines",
         "name": "KI915077",
         "showlegend": true,
         "type": "scattergl",
         "x": {
          "bdata": "/0aouaQ2pUE=",
          "dtype": "f8"
         },
         "xaxis": "x",
         "y": {
          "bdata": "fSyZAXq2oz8=",
          "dtype": "f8"
         },
         "yaxis": "y"
        },
        {
         "customdata": {
          "bdata": "w64AuXcYz0AQWDm0NB/kQLQPn2GV/fBA",
          "dtype": "f8",
          "shape": "3, 1"
         },
         "hovertemplate": "contig=KI915081<br>Genomic Position=%{x}<br>G123=%{y}<br>pos=%{customdata[0]}<extra></extra>",
         "legendgroup": "KI915081",
         "line": {
          "color": "lightblue",
          "dash": "solid"
         },
         "marker": {
          "size": 3,
          "symbol": "circle"
         },
         "mode": "lines",
         "name": "KI915081",
         "showlegend": true,
         "type": "scattergl",
         "x": {
          "bdata": "AiuHGyE3pUGVivOs5jelQeF6VGzEOKVB",
          "dtype": "f8"
         },
         "xaxis": "x",
         "y": {
          "bdata": "dUjw+tLopj8o6tHsR3KzP8BtZEf0K6s/",
          "dtype": "f8"
         },
         "yaxis": "y"
        },
        {
         "customdata": {
          "bdata": "ZfS2rHUa1EBzaJHtwNvwQA==",
          "dtype": "f8",
          "shape": "2, 1"
         },
         "hovertemplate": "contig=KI915082<br>Genomic Position=%{x}<br>G123=%{y}<br>pos=%{customdata[0]}<extra></extra>",
         "legendgroup": "KI915082",
         "line": {
          "color": "steelblue",
          "dash": "solid"
         },
         "marker": {
          "size": 3,
          "symbol": "circle"
         },
         "mode": "lines",
         "name": "KI915082",
         "showlegend": true,
         "type": "scattergl",
         "x": {
          "bdata": "meABQGU5pUEOLXLk3zqlQQ==",
          "dtype": "f8"
         },
         "xaxis": "x",
         "y": {
          "bdata": "fSyZAXq2oz+usaUSOqbAPw==",
          "dtype": "f8"
         },
         "yaxis": "y"
        },
        {
         "customdata": {
          "bdata": "okW28z1IvkBxPQrXwzHiQA==",
          "dtype": "f8",
          "shape": "2, 1"
         },
         "hovertemplate": "contig=KI915078<br>Genomic Position=%{x}<br>G123=%{y}<br>pos=%{customdata[0]}<extra></extra>",
         "legendgroup": "KI915078",
         "line": {
          "color": "lightblue",
          "dash": "solid"
         },
         "marker": {
          "size": 3,
          "symbol": "circle"
         },
         "mode": "lines",
         "name": "KI915078",
         "showlegend": true,
         "type": "scattergl",
         "x": {
          "bdata": "exTudBw7pUGyna8AAzylQQ==",
          "dtype": "f8"
         },
         "xaxis": "x",
         "y": {
          "bdata": "6827/0AM0j9TxN+4ysfCPw==",
          "dtype": "f8"
         },
         "yaxis": "y"
        },
        {
         "customdata": {
          "bdata": "fT81XoLV0UA=",
          "dtype": "f8",
          "shape": "1, 1"
         },
         "hovertemplate": "contig=KI915076<br>Genomic Position=%{x}<br>G123=%{y}<br>pos=%{customdata[0]}<extra></extra>",
         "legendgroup": "KI915076",
         "line": {
          "color": "steelblue",
          "dash": "solid"
         },
         "marker": {
          "size": 3,
          "symbol": "circle"
         },
         "mode": "lines",
         "name": "KI915076",
         "showlegend": true,
         "type": "scattergl",
         "x": {
          "bdata": "XI/CrJE8pUE=",
          "dtype": "f8"
         },
         "xaxis": "x",
         "y": {
          "bdata": "znbCpg4J3j8=",
          "dtype": "f8"
         },
         "yaxis": "y"
        }
       ],
       "layout": {
        "legend": {
         "title": {
          "text": "contig"
         },
         "tracegroupgap": 0
        },
        "showlegend": false,
        "template": {
         "data": {
          "bar": [
           {
            "error_x": {
             "color": "rgb(36,36,36)"
            },
            "error_y": {
             "color": "rgb(36,36,36)"
            },
            "marker": {
             "line": {
              "color": "white",
              "width": 0.5
             },
             "pattern": {
              "fillmode": "overlay",
              "size": 10,
              "solidity": 0.2
             }
            },
            "type": "bar"
           }
          ],
          "barpolar": [
           {
            "marker": {
             "line": {
              "color": "white",
              "width": 0.5
             },
             "pattern": {
              "fillmode": "overlay",
              "size": 10,
              "solidity": 0.2
             }
            },
            "type": "barpolar"
           }
          ],
          "carpet": [
           {
            "aaxis": {
             "endlinecolor": "rgb(36,36,36)",
             "gridcolor": "white",
             "linecolor": "white",
             "minorgridcolor": "white",
             "startlinecolor": "rgb(36,36,36)"
            },
            "baxis": {
             "endlinecolor": "rgb(36,36,36)",
             "gridcolor": "white",
             "linecolor": "white",
             "minorgridcolor": "white",
             "startlinecolor": "rgb(36,36,36)"
            },
            "type": "carpet"
           }
          ],
          "choropleth": [
           {
            "colorbar": {
             "outlinewidth": 1,
             "tickcolor": "rgb(36,36,36)",
             "ticks": "outside"
            },
            "type": "choropleth"
           }
          ],
          "contour": [
           {
            "colorbar": {
             "outlinewidth": 1,
             "tickcolor": "rgb(36,36,36)",
             "ticks": "outside"
            },
            "colorscale": [
             [
              0,
              "#440154"
             ],
             [
              0.1111111111111111,
              "#482878"
             ],
             [
              0.2222222222222222,
              "#3e4989"
             ],
             [
              0.3333333333333333,
              "#31688e"
             ],
             [
              0.4444444444444444,
              "#26828e"
             ],
             [
              0.5555555555555556,
              "#1f9e89"
             ],
             [
              0.6666666666666666,
              "#35b779"
             ],
             [
              0.7777777777777778,
              "#6ece58"
             ],
             [
              0.8888888888888888,
              "#b5de2b"
             ],
             [
              1,
              "#fde725"
             ]
            ],
            "type": "contour"
           }
          ],
          "contourcarpet": [
           {
            "colorbar": {
             "outlinewidth": 1,
             "tickcolor": "rgb(36,36,36)",
             "ticks": "outside"
            },
            "type": "contourcarpet"
           }
          ],
          "heatmap": [
           {
            "colorbar": {
             "outlinewidth": 1,
             "tickcolor": "rgb(36,36,36)",
             "ticks": "outside"
            },
            "colorscale": [
             [
              0,
              "#440154"
             ],
             [
              0.1111111111111111,
              "#482878"
             ],
             [
              0.2222222222222222,
              "#3e4989"
             ],
             [
              0.3333333333333333,
              "#31688e"
             ],
             [
              0.4444444444444444,
              "#26828e"
             ],
             [
              0.5555555555555556,
              "#1f9e89"
             ],
             [
              0.6666666666666666,
              "#35b779"
             ],
             [
              0.7777777777777778,
              "#6ece58"
             ],
             [
              0.8888888888888888,
              "#b5de2b"
             ],
             [
              1,
              "#fde725"
             ]
            ],
            "type": "heatmap"
           }
          ],
          "histogram": [
           {
            "marker": {
             "line": {
              "color": "white",
              "width": 0.6
             }
            },
            "type": "histogram"
           }
          ],
          "histogram2d": [
           {
            "colorbar": {
             "outlinewidth": 1,
             "tickcolor": "rgb(36,36,36)",
             "ticks": "outside"
            },
            "colorscale": [
             [
              0,
              "#440154"
             ],
             [
              0.1111111111111111,
              "#482878"
             ],
             [
              0.2222222222222222,
              "#3e4989"
             ],
             [
              0.3333333333333333,
              "#31688e"
             ],
             [
              0.4444444444444444,
              "#26828e"
             ],
             [
              0.5555555555555556,
              "#1f9e89"
             ],
             [
              0.6666666666666666,
              "#35b779"
             ],
             [
              0.7777777777777778,
              "#6ece58"
             ],
             [
              0.8888888888888888,
              "#b5de2b"
             ],
             [
              1,
              "#fde725"
             ]
            ],
            "type": "histogram2d"
           }
          ],
          "histogram2dcontour": [
           {
            "colorbar": {
             "outlinewidth": 1,
             "tickcolor": "rgb(36,36,36)",
             "ticks": "outside"
            },
            "colorscale": [
             [
              0,
              "#440154"
             ],
             [
              0.1111111111111111,
              "#482878"
             ],
             [
              0.2222222222222222,
              "#3e4989"
             ],
             [
              0.3333333333333333,
              "#31688e"
             ],
             [
              0.4444444444444444,
              "#26828e"
             ],
             [
              0.5555555555555556,
              "#1f9e89"
             ],
             [
              0.6666666666666666,
              "#35b779"
             ],
             [
              0.7777777777777778,
              "#6ece58"
             ],
             [
              0.8888888888888888,
              "#b5de2b"
             ],
             [
              1,
              "#fde725"
             ]
            ],
            "type": "histogram2dcontour"
           }
          ],
          "mesh3d": [
           {
            "colorbar": {
             "outlinewidth": 1,
             "tickcolor": "rgb(36,36,36)",
             "ticks": "outside"
            },
            "type": "mesh3d"
           }
          ],
          "parcoords": [
           {
            "line": {
             "colorbar": {
              "outlinewidth": 1,
              "tickcolor": "rgb(36,36,36)",
              "ticks": "outside"
             }
            },
            "type": "parcoords"
           }
          ],
          "pie": [
           {
            "automargin": true,
            "type": "pie"
           }
          ],
          "scatter": [
           {
            "fillpattern": {
             "fillmode": "overlay",
             "size": 10,
             "solidity": 0.2
            },
            "type": "scatter"
           }
          ],
          "scatter3d": [
           {
            "line": {
             "colorbar": {
              "outlinewidth": 1,
              "tickcolor": "rgb(36,36,36)",
              "ticks": "outside"
             }
            },
            "marker": {
             "colorbar": {
              "outlinewidth": 1,
              "tickcolor": "rgb(36,36,36)",
              "ticks": "outside"
             }
            },
            "type": "scatter3d"
           }
          ],
          "scattercarpet": [
           {
            "marker": {
             "colorbar": {
              "outlinewidth": 1,
              "tickcolor": "rgb(36,36,36)",
              "ticks": "outside"
             }
            },
            "type": "scattercarpet"
           }
          ],
          "scattergeo": [
           {
            "marker": {
             "colorbar": {
              "outlinewidth": 1,
              "tickcolor": "rgb(36,36,36)",
              "ticks": "outside"
             }
            },
            "type": "scattergeo"
           }
          ],
          "scattergl": [
           {
            "marker": {
             "colorbar": {
              "outlinewidth": 1,
              "tickcolor": "rgb(36,36,36)",
              "ticks": "outside"
             }
            },
            "type": "scattergl"
           }
          ],
          "scattermap": [
           {
            "marker": {
             "colorbar": {
              "outlinewidth": 1,
              "tickcolor": "rgb(36,36,36)",
              "ticks": "outside"
             }
            },
            "type": "scattermap"
           }
          ],
          "scattermapbox": [
           {
            "marker": {
             "colorbar": {
              "outlinewidth": 1,
              "tickcolor": "rgb(36,36,36)",
              "ticks": "outside"
             }
            },
            "type": "scattermapbox"
           }
          ],
          "scatterpolar": [
           {
            "marker": {
             "colorbar": {
              "outlinewidth": 1,
              "tickcolor": "rgb(36,36,36)",
              "ticks": "outside"
             }
            },
            "type": "scatterpolar"
           }
          ],
          "scatterpolargl": [
           {
            "marker": {
             "colorbar": {
              "outlinewidth": 1,
              "tickcolor": "rgb(36,36,36)",
              "ticks": "outside"
             }
            },
            "type": "scatterpolargl"
           }
          ],
          "scatterternary": [
           {
            "marker": {
             "colorbar": {
              "outlinewidth": 1,
              "tickcolor": "rgb(36,36,36)",
              "ticks": "outside"
             }
            },
            "type": "scatterternary"
           }
          ],
          "surface": [
           {
            "colorbar": {
             "outlinewidth": 1,
             "tickcolor": "rgb(36,36,36)",
             "ticks": "outside"
            },
            "colorscale": [
             [
              0,
              "#440154"
             ],
             [
              0.1111111111111111,
              "#482878"
             ],
             [
              0.2222222222222222,
              "#3e4989"
             ],
             [
              0.3333333333333333,
              "#31688e"
             ],
             [
              0.4444444444444444,
              "#26828e"
             ],
             [
              0.5555555555555556,
              "#1f9e89"
             ],
             [
              0.6666666666666666,
              "#35b779"
             ],
             [
              0.7777777777777778,
              "#6ece58"
             ],
             [
              0.8888888888888888,
              "#b5de2b"
             ],
             [
              1,
              "#fde725"
             ]
            ],
            "type": "surface"
           }
          ],
          "table": [
           {
            "cells": {
             "fill": {
              "color": "rgb(237,237,237)"
             },
             "line": {
              "color": "white"
             }
            },
            "header": {
             "fill": {
              "color": "rgb(217,217,217)"
             },
             "line": {
              "color": "white"
             }
            },
            "type": "table"
           }
          ]
         },
         "layout": {
          "annotationdefaults": {
           "arrowhead": 0,
           "arrowwidth": 1
          },
          "autotypenumbers": "strict",
          "coloraxis": {
           "colorbar": {
            "outlinewidth": 1,
            "tickcolor": "rgb(36,36,36)",
            "ticks": "outside"
           }
          },
          "colorscale": {
           "diverging": [
            [
             0,
             "rgb(103,0,31)"
            ],
            [
             0.1,
             "rgb(178,24,43)"
            ],
            [
             0.2,
             "rgb(214,96,77)"
            ],
            [
             0.3,
             "rgb(244,165,130)"
            ],
            [
             0.4,
             "rgb(253,219,199)"
            ],
            [
             0.5,
             "rgb(247,247,247)"
            ],
            [
             0.6,
             "rgb(209,229,240)"
            ],
            [
             0.7,
             "rgb(146,197,222)"
            ],
            [
             0.8,
             "rgb(67,147,195)"
            ],
            [
             0.9,
             "rgb(33,102,172)"
            ],
            [
             1,
             "rgb(5,48,97)"
            ]
           ],
           "sequential": [
            [
             0,
             "#440154"
            ],
            [
             0.1111111111111111,
             "#482878"
            ],
            [
             0.2222222222222222,
             "#3e4989"
            ],
            [
             0.3333333333333333,
             "#31688e"
            ],
            [
             0.4444444444444444,
             "#26828e"
            ],
            [
             0.5555555555555556,
             "#1f9e89"
            ],
            [
             0.6666666666666666,
             "#35b779"
            ],
            [
             0.7777777777777778,
             "#6ece58"
            ],
            [
             0.8888888888888888,
             "#b5de2b"
            ],
            [
             1,
             "#fde725"
            ]
           ],
           "sequentialminus": [
            [
             0,
             "#440154"
            ],
            [
             0.1111111111111111,
             "#482878"
            ],
            [
             0.2222222222222222,
             "#3e4989"
            ],
            [
             0.3333333333333333,
             "#31688e"
            ],
            [
             0.4444444444444444,
             "#26828e"
            ],
            [
             0.5555555555555556,
             "#1f9e89"
            ],
            [
             0.6666666666666666,
             "#35b779"
            ],
            [
             0.7777777777777778,
             "#6ece58"
            ],
            [
             0.8888888888888888,
             "#b5de2b"
            ],
            [
             1,
             "#fde725"
            ]
           ]
          },
          "colorway": [
           "#1F77B4",
           "#FF7F0E",
           "#2CA02C",
           "#D62728",
           "#9467BD",
           "#8C564B",
           "#E377C2",
           "#7F7F7F",
           "#BCBD22",
           "#17BECF"
          ],
          "font": {
           "color": "rgb(36,36,36)"
          },
          "geo": {
           "bgcolor": "white",
           "lakecolor": "white",
           "landcolor": "white",
           "showlakes": true,
           "showland": true,
           "subunitcolor": "white"
          },
          "hoverlabel": {
           "align": "left"
          },
          "hovermode": "closest",
          "mapbox": {
           "style": "light"
          },
          "paper_bgcolor": "white",
          "plot_bgcolor": "white",
          "polar": {
           "angularaxis": {
            "gridcolor": "rgb(232,232,232)",
            "linecolor": "rgb(36,36,36)",
            "showgrid": false,
            "showline": true,
            "ticks": "outside"
           },
           "bgcolor": "white",
           "radialaxis": {
            "gridcolor": "rgb(232,232,232)",
            "linecolor": "rgb(36,36,36)",
            "showgrid": false,
            "showline": true,
            "ticks": "outside"
           }
          },
          "scene": {
           "xaxis": {
            "backgroundcolor": "white",
            "gridcolor": "rgb(232,232,232)",
            "gridwidth": 2,
            "linecolor": "rgb(36,36,36)",
            "showbackground": true,
            "showgrid": false,
            "showline": true,
            "ticks": "outside",
            "zeroline": false,
            "zerolinecolor": "rgb(36,36,36)"
           },
           "yaxis": {
            "backgroundcolor": "white",
            "gridcolor": "rgb(232,232,232)",
            "gridwidth": 2,
            "linecolor": "rgb(36,36,36)",
            "showbackground": true,
            "showgrid": false,
            "showline": true,
            "ticks": "outside",
            "zeroline": false,
            "zerolinecolor": "rgb(36,36,36)"
           },
           "zaxis": {
            "backgroundcolor": "white",
            "gridcolor": "rgb(232,232,232)",
            "gridwidth": 2,
            "linecolor": "rgb(36,36,36)",
            "showbackground": true,
            "showgrid": false,
            "showline": true,
            "ticks": "outside",
            "zeroline": false,
            "zerolinecolor": "rgb(36,36,36)"
           }
          },
          "shapedefaults": {
           "fillcolor": "black",
           "line": {
            "width": 0
           },
           "opacity": 0.3
          },
          "ternary": {
           "aaxis": {
            "gridcolor": "rgb(232,232,232)",
            "linecolor": "rgb(36,36,36)",
            "showgrid": false,
            "showline": true,
            "ticks": "outside"
           },
           "baxis": {
            "gridcolor": "rgb(232,232,232)",
            "linecolor": "rgb(36,36,36)",
            "showgrid": false,
            "showline": true,
            "ticks": "outside"
           },
           "bgcolor": "white",
           "caxis": {
            "gridcolor": "rgb(232,232,232)",
            "linecolor": "rgb(36,36,36)",
            "showgrid": false,
            "showline": true,
            "ticks": "outside"
           }
          },
          "title": {
           "x": 0.05
          },
          "xaxis": {
           "automargin": true,
           "gridcolor": "rgb(232,232,232)",
           "linecolor": "rgb(36,36,36)",
           "showgrid": false,
           "showline": true,
           "ticks": "outside",
           "title": {
            "standoff": 15
           },
           "zeroline": false,
           "zerolinecolor": "rgb(36,36,36)"
          },
          "yaxis": {
           "automargin": true,
           "gridcolor": "rgb(232,232,232)",
           "linecolor": "rgb(36,36,36)",
           "showgrid": false,
           "showline": true,
           "ticks": "outside",
           "title": {
            "standoff": 15
           },
           "zeroline": false,
           "zerolinecolor": "rgb(36,36,36)"
          }
         }
        },
        "title": {
         "text": "An. hinesorum, SB-WE"
        },
        "xaxis": {
         "anchor": "y",
         "domain": [
          0,
          1
         ],
         "title": {
          "text": "Genomic Position"
         }
        },
        "yaxis": {
         "anchor": "x",
         "domain": [
          0,
          1
         ],
         "title": {
          "text": "G123"
         }
        }
       }
      },
      "image/png": "[encoded data removed]"
     },
     "metadata": {},
     "output_type": "display_data"
    }
   ],
   "source": [
    "plot_g123(query = 'species_pca == \"hinesorum\" & admin1_iso == \"SB-WE\"',\n",
    "         winsize=3000,\n",
    "         title = 'An. hinesorum, SB-WE')"
   ]
  },
  {
   "cell_type": "code",
   "execution_count": 7,
   "id": "df8089ed-4c2d-41c2-b4ec-f61a1c074ef6",
   "metadata": {},
   "outputs": [
    {
     "data": {
      "application/vnd.plotly.v1+json": {
       "config": {
        "plotlyServerURL": "https://plot.ly"
       },
       "data": [
        {
         "customdata": {
          "bdata": "PzVeugnjyEAIPZtVryLhQIBIv315Ie1AZMxdSwD080BhVFInOEH5QH/7OnDi0/5AUwWjkm1bAkH67evAB8sEQaH4MeYdhAdBXCBB8UOpCkGq8dJNC/QNQezAOSNPZBBBHVpkOxrBEUH/snty2DQTQUOtad6KrhRBCD2bVQFxFkGuR+F6DvoYQRWMSmrCKRpB2qz63J1DG0Hrc7WVcG4cQdEi2/kQxR1BM8SxLrkiH0GnecepeB8gQRdIUDyjrSBB3NeBcwtbIUGWIY51cQoiQVuxv2xVsyJByAc9m0V5I0GV1Amo1EIkQSEf9Gxj4iRB0SLbucGQJUHRIts5iIsmQSDSbx+MjSdBiIVaU3FnKEGBJsLGQCIpQS0hHzQv0ylBlrIM8bV2KkHKw0Jt+1YrQVuxv6zH/CtBHhZqDRm1LEEr9pddMIotQRb7y+4MZC5BuY0GcA4wL0ERx7o4T/MvQRsN4M07XTBB5IOeraXOMEEtIR/URCExQXicouMEczFBVcGo5MLGMUG1N/iiLhwyQfJBz2bqdjJB9+RhIc7LMkHrc7U1rFAzQS7/IT03tDNB/tR4qRkKNEFB8WPslHk0QTEIrJxc8DRBPSzUGhtXNUH2KFxvSNA1QWZmZoZNPzZBGQRW7my6NkEs1JompSI3QYEmwma4mDdBEce6mC0EOEFApN+eRFo4QeLplTKawDhBW7G/DEwqOUG8lpDvf745QVioNQ2PPTpBRUdy2fSKOkEtsp2vNeI6QZayDNGmPztBRwN4KzCcO0HQs1n1aQo8QeXyHxLJfDxBhlrTHILpPEHecYqOwEg9QWZmZiYhsT1BtMh2Po8mPkHysFDLOqo+QUa2890qHj9B/KnxkiaGP0GKH2OOLPA/Qas+V5vyKUBBIo514XheQEHsUbguDZFAQRb7yy70x0BBJ6CJYM76QEH1udpabCdBQWB2T26jUkFBOdbFnZZ+QUHwhcmEb69BQXgLJIiT3kFB2qz6bC4YQkHQ1VZMu0ZCQb7BF4aPdEJBtaZ5566pQkHsL7un8OVCQTPEsV65FENBSFD8aEFJQ0HzH9If8IZDQdxGA9hCs0NBAAAAwOrfQ0Fbsb+8DAxEQYcW2Q75OkRBjLlrGddnREEbDeDN3pdEQT0K1zOPzkRBTx4W2u8GRUG8dJNYPz1FQUGC4iccb0VBEHo2q/GfRUFTBaNyg89FQSKOdRGU/kVBQmDlkFozRkGPwvVIM2NGQZLLf1g+kUZBSOF6pC3MRkHImLsGECdHQX0/Nc7eWEdBFR3JJVmBR0FYObQYDLRHQQ3gLdDl/EdBqoJReWAvSEH4wmRqamFIQTGZKrhEl0hBZMxdm57RSEF9PzXuvgpJQVioNe2GQklBiPTbNwx1SUFHA3h7o6tJQZqZmakVCUpB2ht8Ua5RSkGNl24CjpBKQdiBc3aeyEpBJQaBBUUMS0FrK/aXxURLQRKDwNqMfUtBO99PXR6+S0F/aryk5OhLQY9TdCQ7FUxBIbBy+CRGTEHarPoM1XhMQe84RYdEr0xBINJvH7DyTEHdtYSchChNQejZrHqeYE1BRUdyuWeKTUF/+zpQha9NQTxO0TGL1k1BHhZqLdj+TUEkl//wyS1OQSzUmsaodU5BTtGRjLyqTkHl0CJb0uBOQef7qcG2E09B0ZFcHsZUT0EwKqkD+oNPQV8HzsmLzE9B3EYDkB0RUEGU9gY/hi1QQQg9mzUCY1BBWMoy/PqYUEH5MeYuxMBQQfCnxsNZ4lBB3gIJAmv4UEGvlGUwYh5RQZ88LAxCQlFBG55e8VFaUUHRkVw+zHVRQc6qz11GkFFBguLHgKmoUUEX2c5PZr5RQU0VjPol1VFB8WPM5f7sUUE17zhd0BRSQWB2T5bhLlJBR3L5R5NGUkGx4eldJV5SQZM6AX0jdFJBJ8KGB+OKUkF56SaJJqFSQdxoANcktVJBF9nOd7zNUkFSuB7t4uJSQdjw9Pp3/VJBKH6MeagWU0FYObQADTRTQWkAb+mhTlNBK4cWAZNsU0HCFyZjG4NTQb3jFI1OoVNBRPrty/+8U0Hek4ddquJTQW6jAfy/AVRBjLlrOVQhVEESg8BaHz1UQYqw4Yk2WVRBCyQoDm10VEFt5/thNI5UQV8HziFipVRBBcWPIfrBVEFa9bmq1eBUQcbctaSn/VRBqoJR2TcmVUHy0k0C2EJVQQU0EXaZX1VBWDm0qKyHVUFqvHRrO6RVQS9uo7EJvFVBBcWP0XngVUFuNICnQv5VQTtwzlBAKlZBJ8KG38FLVkH1SlkOBmdWQYenV0rOglZBjLlrwbiaVkFIv31d3rJWQZEPeiYJyVZBEce60MLmVkGk375O/QFXQVmGON7sG1dB46WbzBY6V0HfT43nb1VXQZ0RpZ0zeFdBlIeF0kmZV0F3LSFXxb9XQRrAW7A95ldB4zYaCHUBWEHXNO9YTx1YQawcWrxNO1hB4XoU3tZVWEFB8WMsb21YQSJseAojg1hB6UguH7+cWEE0orSfyMBYQU5iEND/31hBDr4w2ZP9WEHmP6SPRyNZQcHKoaUHP1lBjLlraZBaWUEQ6bev7YVZQVK4HkVQpVlBc2iRtdm/WUHM7sljj9xZQecdpyCb9VlBoImwuX8OWkGuR+Eq8SdaQdv5fqpqQ1pBQj7oAUxsWkGad5zyM49aQekmMdAnolpBXkvI10azWkGyLm6zUcRaQQK8BbKR1VpBW0I+IB3rWkE5RUcSVv9aQRWMSropF1tBD5wzSqMrW0Es1JqmHUNbQWuad2zxW1tBVn2uHoFyW0FLyAc9E5RbQcdLN/HPuFtBPE7RUT/XW0GcM6Kkt/VbQXZPHsYMFVxBq8/VxtYwXEFCPuixu1tcQS/dJC5nglxBxLEuXtOhXEEpXI+6rsBcQcnlP7Tc8lxBImx4QuQSXUGJ0t5QzixdQayt2I98Ql1Bl5APkl1dXUH+Zfd0L3ldQTj4wsR2lF1BHVpk+1OuXUF+jLmDKsddQetztU1S4F1BO3DOcGX5XUGU9gaHMxNeQY/C9chlJ15B0LNZjYo/XkHHurjNj11eQRPyQVeSel5BCfmgxx2ZXkGKsOG5MrVeQVFrmr8t0l5Bn82qv1HtXkGu2F9WDQpfQWkAb/G6MF9B/tR4QXJLX0G+MJnanmtfQX/ZPSkViV9BOUVHmo6rX0FkXdzOHeFfQWq8dBNU+19BWmQ7PyAJYEGh1jQLvRRgQTbNOwo0IGBBcRsNyHIwYEE6ksvTl0BgQeF6FPK4TGBBHhZqIU1dYEFyio4olW1gQbgehRcZe2BBlrIMCZqHYEHgnBFBv5hgQQfwFnwCqWBB/yH9xuS4YEGnecfJr8tgQe7rwOWn12BB9+RhcVHnYEEhsHJYXfpgQejZrAIZGGFBY+5a0lIlYUHFjzF7ii9hQf32degLP2FBjnVxJ8tWYUHUK2WJVWdhQWPuWo4jdGFBliGOvXyBYUEep+ikPI5hQT55WBCfnmFBS8gH9cO0YUEPnDOu58RhQZyiIw27z2FBtoR8zMPaYUGDwMqdHeVhQdlfdse78GFB2T15lAz8YUF/arwQbA1iQYlBYJncG2JB+1xthYsoYkHcRgOcXkFiQYzbaDSxUWJBH/RsBh1fYkHJ5T+kFW1iQeM2GgCUf2JBio7kfvOMYkGeXim3TJhiQTJVMMbGqWJB3SQGSa+2YkEH8BaspsNiQb3jFLlm0WJBAwmKg4zfYkH+1HiJlOxiQdZW7NcM/GJBVOOlv0oLY0HQs1kprRhjQWDl0HbnJ2NB+aBnr1c2Y0EZBFbuG0RjQQ+cM04QUWNB63O1OfBcY0HjNhp4M2pjQYMvTB5he2NBS8gHnbGKY0HtDb7MhpljQf2H9H/zpWNBJJf/4KWyY0FDHOtWIb9jQcoyxF0CzGNBQmDlkB3dY0H/If2CBOpjQSDSb2vS9mNBqmBUwo0KZEHHKTpW1R9kQR+F6xWaMmRBObTIMg5IZEE3iUGQO1hkQecdp/AnZ2RB+aBnN/p2ZEGtad4BtINkQWPuWsrOj2RBdLUVP9edZEFSSZ1wXaxkQfd14MwkvWRBzF1LDCHMZEGHp1eeBdZkQeAtkLB/42RBQBNhN2XwZEHTvOO8q/1kQZAxd2mGDGVBtMh2SrwdZUF4CyT4Ry9lQeXQIifxQ2VBw2Sq1GdVZUHHurgJeWdlQSEf9DADdmVBHHxhzuKDZUEJG55yOo9lQUGC4gfKm2VBgLdASmSmZUGcxCDw2K5lQTlFR6I9uWVBWDm0uGfRZUF88rDAK+RlQVD8GEdd82VB097gQ2YDZkFMpgoylxdmQZyiI7nGKWZB1xLy5c89ZkF8YTJ5BU9mQf+ye0J6a2ZBT6+U7Q99ZkF0tRXDFpBmQbRZ9Y0KwmZBSL99bRbdZkGQoPh5cutmQRZqTY+69mZBo5I6yWEEZ0Hpt6/zgBtnQWUZ4vz0PWdBYcPTYx9PZ0E5RUd2dV5nQXPXEua8a2dBNs07Cr94Z0Fd/kMeE4VnQVfsLz90lmdB7MA5m3SnZ0GyLm7nDbZnQayt2NMry2dBm1WfF1ffZ0EHzhnN9etnQY/k8s/u+WdB5dAib78GaEH8qfFKVRhoQY51ceMQKmhBVn2u7so4aEHZPXlgzEZoQawcWtQpVWhBpb3B04FlaEHDZKowC3hoQTC7J0s7hWhB5fIf/hCXaEE51sUhfahoQeOlm1zKvmhBNIC3oM/jaEHjx5gL0QNpQduK/eWjIWlBLpCgRPc5aUHSb187R05pQTJVMHp+YWlBOwFN+AFzaUFzaJEhdoVpQUvqBDy6l2lBjSjtXRStaUGad5yqAr1pQeCcEdU7ymlB1XjpdsnYaUFUUidgNOZpQZ+rrQwU+WlBWMoy1GADakFQjZeK8Q5qQdiBc2ING2pB+FPjfcUrakE4Z0SxWTpqQVjKMmxuSWpBCmgiUFtcakH8GHPrkm9qQRiV1N1RgmpButqKHXaWakF4nKJ/wqJqQTvfT32ctGpBDXGswwzHakFpb/BlM9RqQaRwPaab3mpBaJHtaC3sakHuWkJeq/pqQdSa5s1ICmtBg1FJie4ca0HzjlP80y1rQZXUCaDqP2tB4L4OHBdXa0Efheu5x21rQT55WECVfGtBYqHWoE+Ja0FMN4nZQ5ZrQcbctRDLpGtBRiV1Jqyza0Gz6nOJicZrQQBvgZB22GtBtRX730bqa0GP5PLbQfZrQd21hLhuBmxBbjSAc98UbEFyio5AsSVsQc6I0qa0QGxBdZMYgOZbbEHTTWLEK3dsQZMYBKa4kGxBxLEuio+ibEEoDwsdXLdsQSBj7vq0ymxBQKTfAjvZbEFq3nFC/+hsQQaBlfNY9WxBmnecLtQFbUGBJsLygRhtQXZxG0W+LG1BfT81Lr05bUGx4elpjEltQYiFWm/BYW1BLSEfLJJ2bUE730+l4optQT7o2UAhmG1Bi/1lD1erbUGNKO2d6rptQd9PjSf+yG1BveMU4bLYbUFU46XLtOhtQQYSFO/H9W1BEHo2s7AGbkEJG57CfBluQSS5/BMUKW5B1Jrmwdk6bkHdJAbhq1ZuQUa288WQZm5BylTBqLRxbkGU9gZnMopuQRsN4CE1qW5BFvvLAiq7bkGfzar72MZuQW6jAXi91W5Bsi5uUxXlbkFbsb/cNvVuQQ8LtXZWCW9BgZVD0+IVb0Ej2/nC3SRvQTEIrCyhNW9B9UpZirNIb0FCPuiBq1hvQcl2vm+KZm9BFD/GgKt2b0H8qfGi2INvQdPe4GMzj29BXwfO0Rmcb0HBOSPyDqhvQd21hFjzsm9BNKK0e9jBb0HeAgk6g9BvQZEPeipP3W9BLUMct3n1b0HJ5T+A4wNwQQ+cM7qCC3BB/7J7vp8UcEGDL0wMBh9wQYBIv2l+KXBBt2J/1W0xcEHwFkh6WzZwQfd14CaPO3BBzczMos1CcEEnMQjidkhwQRiV1OWyT3BB7nw/qXdWcEHXo3D/v1xwQa8l5AOVYnBBR3L56VlpcEEX2c47825wQVfsLzc7dHBB30+NZ/d4cEFAE2Fl9n1wQRfZzruvg3BB7uvANXGJcEERNjyDjpBwQThnRHUQmHBBApoIi+CdcEF6xykaMaRwQdxoAAPUqXBBsp3vG1mvcEEYldQdirVwQQ4tslnsvHBBXkvIW4rEcEExCKwWFMxwQem3r8cT03BB2V92Uw/bcEEMAisFOeFwQUi/faFJ53BBSOF6XKvtcEFNhA1TTfVwQRKlvVXe+3BBHqfooisBcUEhH/TaiwZxQekmMbI1DnFBXW3FNKUTcUFQjZd2ExlxQYxK6ipJHnFBIEHxcZgjcUGamZnt0ihxQZeQD7CKL3FBqRPQtuE1cUEYJlOvKD1xQZ+rrT7sRHFB1CtlTclNcUGU9gaNnVRxQfFjzKs0WnFB+8vu4ypgcUGh+DF6bWZxQcbctSIObHFBAG+BJDlycUEQWDnUA3lxQVyPwg3mf3FB07zjTN6GcUHtnjw25oxxQXe+nyjmknFBJCh+BN2YcUFLyAfHlJ9xQfcGX7afpHFB+8vudbipcUHRIttXfrBxQQg9m0WMt3FB/mX3iru/cUGyne994cdxQetztSkNz3FBBaOSPODVcUG62oq/QNxxQWUZ4vSd43FBOwFNnGbpcUG3Yn9Fje9xQWFUUsdl9nFBf2q8iNP8cUGh+DGEvwJyQfW52rAjCHJBiGNdyiAOckHfT40NYxNyQVInoEuaGnJBb/CFPbkhckGP5PI1WihyQSSX/wQLL3JBUrgeif01ckE51sXPIT5yQW3F/sDhR3JBJzEIaPtOckGFfNBFu1VyQRdIUOwlXHJBfoy5OTRickHu68BlK2lyQUSLbPU2b3JBI0p7Och4ckEp7Q1o8IFyQSqpE5odiHJBaJHtusWQckGjkjrZPZdyQXctITPhnXJBnRGl9emkckGWIY6zQKxyQRHHuiZlsnJB2/l+GM64ckFYObQ8H8ByQX/7OrS0xXJBP8bcRQXMckGTGASqhNJyQSS5/H933XJBbjSAScnockFQjZeCbPJyQTvfT+/V+HJBhA1Pa+z+ckEc6+LcdQVzQVjKMjZPC3NBMQisCMgRc0H35GFF9RdzQZm7ltQNHXNBCYofz7Ijc0HChqe1LylzQSsYlZ4bMHNB5dAitYk1c0HWVuyfiDpzQZCg+CctQXNBak3zUmlHc0F2Tx7+lU1zQXPXEs6QU3NBgZVD7YZZc0FkzF1zml9zQT/G3K2eZXNB6Gorvvtsc0F6NqvuCXNzQTbNOziDeXNB/yH9XNd+c0EmUwWl2YRzQe0NvuQdi3NB9bnacmaRc0G0WfUhDZdzQR04Z6B3nHNBzH9I95ikc0FDHOu4wKtzQW1WfZDPsHNBfGEykfu1c0Gtad7XkbtzQcSxLkrzwHNBfGEylTvGc0Gad5zSYcxzQZOpgol703NBdLUVyxbac0E/V1v7RuNzQfJBz74k7HNBx0s3xQLzc0Er9pdtyvpzQQWjksoAAnRBIGPuAHoIdEFrK/ZzUQ50QdUJaGonFHRBokW2FVsZdEHHKTpq0iB0QZOpgu1qJ3RBB1+YoroudEFpAG9fTDd0QZhMFZosQHRBjSjt4WxFdEGaCBvS2El0QVXBqK4KT3RBZapg3ppVdEG4QIJkB1x0QVUwKqsJYnRBio7kqlZndEH3Bl+OEm10QTxO0evYcnRBzojSHjB4dEHjNhoYdX10QeC+DhJqhnRBaW/wwTmPdEHzjlMippZ0QYbJVE2OnXRBSOF60nmkdEEWak0x7qp0QdV46bzsr3RBVFInntq2dEEIrBzk2b50QQpoIqIYxXRBjSjtvz/LdEHLoUXwZ9F0QX4dOHsh13RBNe84VW7cdEE6I0pz8OF0QS6QoIR653RBuycPPcrsdEGuR+E42PF0QeLplZDO9nRBOUVHIiz8dEF0RpRU5AF1QQU0ESIRCHVBryXkr0kRdUG7Jw/Drxh1QYQNT6djH3VBWYY4jm0ldUHRkVyq8yx1QdzXgQVeMnVBXkvIM583dUE2qz5hNz11Qayt2H/dQ3VB2c73321KdUFtVn3wNFB1QQRWDpfCVnVBKA8LkTFedUH2l91J5mR1Qef7qU0ba3VBuB6FKZhydUGTGAQiNHl1QTMzMxM5f3VBINJvHSiIdUGxUGuS3pB1QekmMR6IlnVBpgpGOb+bdUExmSr+EqJ1QfaX3V86qnVBHOvigK6ydUHu68CJd711Qa5H4crex3VBTYQN9S/SdUGKH2PQGtl1QXBfBxYU4HVBzO7JS1PndUE9m1VfLO91QRiV1LUO+HVBTKYKng//dUGRD3oS6Qd2QWfV50xjEXZBryXkK1oZdkFDrWmc6h92QePHmD3MJnZBSFD8egcudkFseHrBizR2QRlz117hPHZBKjqSY6lFdkHsL7v5W0x2Qf5D+oU9VHZBvjCZeARddkHuWkKUr2d2QV3cRlNndHZBtFn1QbKDdkGMuWsz54l2QaH4MRYRkXZBukkMdAiXdkG1N/gEvZ52QQFNhDU1pXZBeqUsZeGqdkEX2c4hpLN2QeviNlTJu3ZBfdCzM5nDdkFRa5pzLcx2QT81XuqQ1nZB0m9fY97ddkHtnjyiluN2QXGsiweD6XZBhslURQfwdkF/arzgs/R2QXNokblE+3ZBa5p3JFwBd0HHuriPdgt3Qdjw9ND5EndBukkMitwYd0FKe4P5Sx93QcrDQvMlJndB8BZICDwqd0EsZRns3i53QdobfFsuNHdB+THmBGI5d0F4nKJrKj53QVdbsc2KQ3dBS8gH7Q5Ld0GqglGRbFJ3QRrAW2yrV3dBZDvfcbVdd0Hpt6/ZNmV3QbPqc3kTbHdBFmpNWTtzd0G1pnnxVnl3QR/0bHBAf3dBLUMcp32Ed0GOBvDc+Yh3QUaU9ia1jndB/fZ1KiqVd0Fos+plWZt3Qe5aQqCtoXdBwcqhHa2nd0Fjf9lLIa93QcWPMf11tXdB0ZFcoBq8d0FlGeLyMcJ3QYv9ZSNgyHdBKA8LSz7Pd0H/snuEXdp3QUi/fdmy5XdBO99PgbTvd0E5tMhM3Pd3QT7o2dAMAXhB/yH96N8HeEE8vVIccw54QWuad8qkFnhBKjqSeWoeeEF2cRtVUCV4QVioNRkiLHhBN4lB7PIyeEGrPldDgTp4QdDVVtLKQnhBC0YlswFJeEEOT69WBlB4QdQrZVPZVXhBbjSA+z1ceEHlYaFGQWJ4QRPyQfPNZ3hByJi7eI5ueEEijnWbTHZ4QS1DHJfhfXhB3bWEiImFeEHT3uDzNI54QZYhjhkhlnhBXynLpjOceEF9rrZojaN4QTMzMyl9qnhBSS7/6R2xeEHZPXmKgrh4QQYSFNmlwHhBKA8LwxjKeEGSy3/YN9F4QZAxdz8B2HhBKVyPUM7eeEFaZDsP3uV4QR04Z0al7XhBvjCZWF/1eEHSb19VR/14QULPZv+KBnlByAc9Uy4PeUE1XrotFBh5QQ1xrKHfIHlBCYofU1coeUGzDHFUJC55QTeJQR4aNnlBCD2blRo9eUFJnYCaf0R5QQKaCOsRTnlB78nD7LZVeUEkl//GGl15QUi/fZFTZHlBAAAAcIZpeUHEQq3Dy3B5QYPAyk3IdnlB2qz60AWAeUGWsgwXG4t5QRNhw+NMk3lBxSCwVsSaeUESFD/w8KB5QVr1uf5nqXlBeqUsFVOxeUFE+u0bA7h5Qa36XPdRvnlBf2q81NHFeUHCFybXuMx5QXgLJGpH0nlBf9k9+WvYeUGDUUmlzd55QftcbWPS5HlBqvHSg0/reUF/2T1rrfF5Qb3jFL0d+HlBj8L1bDP9eUFKDAJdFwJ6Qd9PjaFDCHpBHcnlufYQekHkg56f3Bl6QejZrCDlIHpBVFInVjMsekHu68ADazd6Qf7UeBVjQHpBqmBUoOVKekF6xyk0jlR6QXo2q6hwXHpB/mX3YGZjekFTliFSZ2x6Qd9Pjd2wdXpBpgpGM1x9ekFxPQrB9IR6QdnO9yOAi3pBy6FFMIqSekGb5h3JY5p6QSV1AqomoHpBj1N0kh+nekFMpgqyHa96Qce6uKeHtXpBAwmKGWO8ekGBBMW/O8Z6QTlFRzrMzXpBx7q46SzVekGQMXdrBN56QYnS3qiX53pB3gIJ+tbvekHJdr5b+vl6QZOpgrHTAXtBJ8KG8YoOe0F4CySWOBV7Qbraiou3H3tBZmZmGhwpe0FxGw38jTB7QcSxLiQWOXtBgEi/m09Je0H67euOG1J7QRKDwGqIWHtBvVKW6dNge0H8qfH8Hmh7QfJBz9IvbntBZDvfbXd0e0Gx4envt3t7QS1DHNOeg3tB9UpZOAaMe0E0orRxKJN7QTY8vUZtm3tBldQJ+uije0EUP8a8/Kx7QWaIYzsmtntBSL99C0W+e0H/If0WjMV7QcnlP8I0zHtBO99PESvSe0H1Slk0Dth7QTPEsbh433tBak3zitjoe0FmiGPxqvN7QdEi2wX2+ntBO99PFzgBfEGitDduvwd8QVyPwkUqEXxBrBxazBMXfEHOqs9duBx8QeSDntuCJHxBP1dbcQAqfEHc14FTfjN8Qf5l9/bxO3xBf/s6lEFCfEGNKO17TUd8Qa1p3mm3TXxBW7G/5F5UfEHHKTr8qVt8QVK4HqdpYnxBJ8KGKwlofEEJG56eOm18QUATYScxdHxBhJ7NFCV9fEHM7snTyoN8QfVKWeyEinxBObTI9HeRfEGEDU81AZh8QQ==",
          "dtype": "f8",
          "shape": "1004, 1"
         },
         "hovertemplate": "contig=KI915040<br>Genomic Position=%{x}<br>G123=%{y}<br>pos=%{customdata[0]}<extra></extra>",
         "legendgroup": "KI915040",
         "line": {
          "color": "lightblue",
          "dash": "solid"
         },
         "marker": {
          "size": 3,
          "symbol": "circle"
         },
         "mode": "lines",
         "name": "KI915040",
         "showlegend": true,
         "type": "scattergl",
         "x": {
          "bdata": "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",
          "dtype": "f8"
         },
         "xaxis": "x",
         "y": {
          "bdata": "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",
          "dtype": "f8"
         },
         "yaxis": "y"
        },
        {
         "customdata": {
          "bdata": "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",
          "dtype": "f8",
          "shape": "760, 1"
         },
         "hovertemplate": "contig=KI915041<br>Genomic Position=%{x}<br>G123=%{y}<br>pos=%{customdata[0]}<extra></extra>",
         "legendgroup": "KI915041",
         "line": {
          "color": "steelblue",
          "dash": "solid"
         },
         "marker": {
          "size": 3,
          "symbol": "circle"
         },
         "mode": "lines",
         "name": "KI915041",
         "showlegend": true,
         "type": "scattergl",
         "x": {
          "bdata": "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",
          "dtype": "f8"
         },
         "xaxis": "x",
         "y": {
          "bdata": "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",
          "dtype": "f8"
         },
         "yaxis": "y"
        },
        {
         "customdata": {
          "bdata": "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",
          "dtype": "f8",
          "shape": "552, 1"
         },
         "hovertemplate": "contig=KI915042<br>Genomic Position=%{x}<br>G123=%{y}<br>pos=%{customdata[0]}<extra></extra>",
         "legendgroup": "KI915042",
         "line": {
          "color": "lightblue",
          "dash": "solid"
         },
         "marker": {
          "size": 3,
          "symbol": "circle"
         },
         "mode": "lines",
         "name": "KI915042",
         "showlegend": true,
         "type": "scattergl",
         "x": {
          "bdata": "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",
          "dtype": "f8"
         },
         "xaxis": "x",
         "y": {
          "bdata": "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",
          "dtype": "f8"
         },
         "yaxis": "y"
        },
        {
         "customdata": {
          "bdata": "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",
          "dtype": "f8",
          "shape": "639, 1"
         },
         "hovertemplate": "contig=KI915043<br>Genomic Position=%{x}<br>G123=%{y}<br>pos=%{customdata[0]}<extra></extra>",
         "legendgroup": "KI915043",
         "line": {
          "color": "steelblue",
          "dash": "solid"
         },
         "marker": {
          "size": 3,
          "symbol": "circle"
         },
         "mode": "lines",
         "name": "KI915043",
         "showlegend": true,
         "type": "scattergl",
         "x": {
          "bdata": "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",
          "dtype": "f8"
         },
         "xaxis": "x",
         "y": {
          "bdata": "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",
          "dtype": "f8"
         },
         "yaxis": "y"
        },
        {
         "customdata": {
          "bdata": "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",
          "dtype": "f8",
          "shape": "431, 1"
         },
         "hovertemplate": "contig=KI915044<br>Genomic Position=%{x}<br>G123=%{y}<br>pos=%{customdata[0]}<extra></extra>",
         "legendgroup": "KI915044",
         "line": {
          "color": "lightblue",
          "dash": "solid"
         },
         "marker": {
          "size": 3,
          "symbol": "circle"
         },
         "mode": "lines",
         "name": "KI915044",
         "showlegend": true,
         "type": "scattergl",
         "x": {
          "bdata": "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",
          "dtype": "f8"
         },
         "xaxis": "x",
         "y": {
          "bdata": "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",
          "dtype": "f8"
         },
         "yaxis": "y"
        },
        {
         "customdata": {
          "bdata": "yxDHungb0UAU0ETYAIPsQB+F61GCLvdArkfhesDd/UAkKH6MITMCQTSAt0C0PwVBXynLEHpACEEbL90kc00LQUJg5dCV9Q1B0NVWbDo3EEFgdk8es3MRQaabxCCXlhJBguLHmMnbE0GUh4Xa+UUVQSBB8WPcpBZBzojS3qALGEGM22gApWIZQas+V1uF0RpBCyQoftRbHEHzH9JvvqkeQZAxdy1eaSBBnl4pizF6IUGqglHJNagiQa7YX7ZPjyNBjgbwFuxNJEE6I0q71ukkQTqSy7+zkiVB1CtlGYWnJkGppE4AnMYnQWlv8MUqsChB16NwfaaTKUEQejZrM3oqQcUgsDIbdytBQxzrohFwLEEibHg62XEtQdobfKGpeS5BKjqSSzR7L0E2PL0SNiQwQY2XbrJViDBBMQisnNrjMEG+wRemH0YxQZAxd02XpDFBYTJV0GxGMkHG3LUEHMYyQeOlmyR+PjNBCRuenv+nM0FGJXVCzBQ0Qd5xim4jfTRBqFfKkl7tNEGad5zCaFE1QXqlLANLuTVBl5APGrohNkGyne8n1IY2Qayt2J+v3jZBNV66qTFCN0HImLv25qU3QcDsnvyd8zdBirDh6VlPOEFBguLHvrk4QWlv8GVTITlBZ9Xnaqd0OUHBOSNKBcY5QamkTsCQGzpBv30dWO9+OkGk375upNM6QWTMXStwIDtBsHJo0Rh0O0FUUifgk787QYPAygFJGDxBYhBYGaFtPEECK4e2t9Y8QXctIT+AOT1B6NmseviYPUF0JJe/yes9QVYOLdIsQT5BqMZL9xqTPkEFxY9Riu8+Qd6Th+UISz9BofgxpseaP0FHcvlPZ/E/QUvqBMTyH0BBRIts99ZLQEE3iUGwGntAQcX+ssttp0BBfGEyBfPYQEGlvcGH2gJBQfOOU4RBLUFBC7WmaX5SQUH2KFwvIndBQfRsVs3WnUFBduCcEUfTQUGdEaW9FvxBQfaX3SNQJEJBescpCl1LQkEkKH7MwIxCQSSX//BiukJBy6FFVlDaQkHTTWJwCftCQa8l5NO7G0NBPQrXA7Q/Q0ERNjx91m1DQYSezUoxlkNBayv2Z/G/Q0Hb+X563OtDQdCzWWWWE0RBEqW9odo9REEX2c6n8nREQUVHctnhsERBf2q81CnpREHLoUUGuhxFQT2bVe/YVUVBpSxD3EmXRUF0JJfvZ95FQWIQWKl/H0ZBXI/CdWRiRkH+1Hg5qKJGQbsnD1vC1UZB+8vuWWkIR0GR7Xx/vzlHQe5aQh5yakdBpSxDjEmXR0H+1HhZZNJHQT7o2XyoEkhB+1xt5SBLSEGitDfYroBIQQYSFI8RrkhB7nw/pb/YSEHG3LU0sgNJQdc07/hqMElBGJXUGTJhSUGgibARFoxJQdzXgYNEuElBcT0Kd37lSUGCc0Y0ZRNKQSlcj6J8Q0pBKA8L5R9vSkHHurgNXJlKQSqpE4DdwUpBw/UoXGfsSkEPC7VGgxhLQY51cfuRQktBih9jXi5zS0F6Nqt+MKFLQYenV+p830tBIbByOOERTEGneccJDUBMQcIXJgOjakxBjnVxKyGcTEHcaAB/9sxMQXctIZ+LDk1Bb4EERTg6TUEUP8a8m2dNQQtGJeW+lk1BuB6F22fDTUFUdCSX3vFNQRiV1BlOIU5B+n5qPCdPTkG2hHzQ+INOQVuxv1xRs05B/kP67YrjTkE4+MLUaRRPQTxO0QF8Q09BUrgepaSUT0FSSZ2gedhPQR6n6CjyDlBB0LNZZcgzUEHrc7WleE5QQTSitL+vZVBBpU5AI0B8UEET8kF/V5BQQf2H9CtXolBB/mX3BI23UEFUdCSHWc1QQQwCK78h5VBBi/1l/1r8UEHek4eNFBJRQd4CCcJGKVFBXI/CrR1DUUHY8PRy5F5RQeCcEUVPdVFB07zjJFmMUUHKw0KFm6VRQSo6khM/u1FB5j+kV8LZUUEW+8t+ke5RQScxCLSYAVJBCyQoNtAaUkFcIEFBPTBSQYNRSfWTQlJBAd4CSbxYUkGVZYgLlX5SQZMYBPY8mFJBp3nHWcysUkHkg56FUcRSQYqO5OLx21JBkQ96poPzUkGZu5bQgBBTQVZ9rpaLLlNBOdbFfRVRU0HpSC4X13RTQcnlPzwBnFNBldQJICm5U0Fz1xL6k9JTQYLix6hF6lNBqFfKEqwAVEH/snuKfhlUQUtZhoisNlRBuycPoxJPVEHEQq0xdG5UQZvmHV8AiVRBzhlRWh+mVEFsCfnQPL1UQeM2GhCD0lRB6GorFnLmVEGdEaWNJQNVQYEExUc3IlVBNjy9mhQ7VUF4nKLr71NVQQisHOKVdFVBsb/spgmYVUH0bFZlubZVQTqSyz981lVB8KfG82TzVUEMAivnQg9WQY51cSPrKlZBb/CF4fJIVkESFD8WnmFWQb7BFwbRfFZB16NwndqSVkFcj8LlEa9WQWKh1hyRyVZBqvHSVdrjVkFQjZcGb/9WQSBj7vq0HldBTx4WKms5V0H4U+PF3FNXQQRWDuUfcVdBd76fQmyKV0EawFvQWaVXQcHKod03vldBak3zTrnYV0EjSnsbpAFYQdcS8qF1IVhBV1uxzxQ3WEHbiv0dYVFYQc3MzNTrZFhBtoR8QIN8WEGiRbYTc59YQRQ/xuQev1hB+MJkojXcWEGC4sfouPdYQWpN8wYdE1lB5q4lvDsxWUF1kxjsTVRZQSzUmrbnd1lBz2bVV5OUWUFRa5rPCa9ZQSEf9GSjxllB1CtlAZ7iWUFYqDVNAwFaQSDSb2d+FlpB/tR4oZYsWkEibHh6t0RaQcKGp2fPYVpB6gQ0OZ59WkGKsOHxs5VaQUku/+E+qVpBH4XrKa3FWkFos+oTLuRaQV1txUaAAltBio7k4r8lW0F4CySADkVbQZCg+BmaZltBDXGse+OKW0EB3gIJ+qZbQUku/4kpwFtBFR3JBZ3aW0GIhVpLtfNbQRKDwAIZD1xBj8L1mIItXEGt+lz1HU9cQbx0kxiGgFxB+aBnW+WdXEH/If1GkcFcQY/k8odo5VxBFYxKsuQNXUFzaJGlbjFdQQ3gLSgBV11BufyHrOCFXUGxUGsSMLldQeviNurc211BduCcWQsCXkFWn6ulfiFeQXDOiELDPl5BF0hQhANaXkFa9bkq13ReQQRWDsVNnF5BeekmsQHJXkGwcmiBbudeQbRZ9cE6Dl9BaQBv8X0vX0HMf0gnJ05fQUa28/3xaF9BOGdEUV+HX0GpE9C8/q9fQe0NvhiD0F9B5dAi05z0X0GKH2PqihFgQTGZKvBkI2BBz2bVm10uYEHVCWhOcD1gQRdIUNx7T2BBNBE2YLVhYEHOiNJeDHRgQa36XDEQg2BBrfpcnSmUYEHuWkLit6VgQRe30fgStmBBsAPn0EjEYEHVCWimj9FgQbHh6bl53mBBkxgE8rbsYEFyio4YcPhgQRsN4Pk5BWFBaW/wsUkRYUHb+X7S1CBhQdDVVtywLmFBpN++Fns7YUHjNhps1k5hQaVOQPcNYmFBmG4Sb5pwYUFseHqlQn9hQTarPk9tjWFBBcWP1Z6aYUH7XG05h6lhQYts5zsGt2FBNe84mQbFYUE17zipmdNhQcIXJieR4WFBRPrt42TzYUFGtvPl/gFiQVCNlyKZDWJBg1FJzSwZYkH99nVcmyZiQf5D+nESMmJBAJF+51A9YkHXEvLdvkhiQWfV5wqoVWJB9pfdI4BiYkEqqRNw12xiQQMJiiOAd2JBgSbCejiCYkEwTKbSRo5iQbdif/VLm2JBM8SxpnynYkEfhev9sLViQfvL7kmrwWJBDi2yeXXPYkEZc9f2D91iQU0VjBpb62JB1XjpLt73YkGmCkZJbAdjQeSDnp3FE2NBRiV1Hu0eY0GppE7YjiljQW6jAXAfNGNBVn2uemE/Y0FVwahMdUtjQf+ye+61VmNBZohj3dBlY0Ho2axKVXFjQXe+n5rTfWNBdCSXt/WIY0EPC7XyWpVjQcbctfAfomNBd76f2jCuY0G6SQzCELxjQfRsVrnJx2NBT0AT9eTUY0FSSZ1QOuRjQbhAgoob8WNBY3/ZQc/8Y0Hkg57FUAlkQcgHPZtTFmRBeqUskz4pZEEIrByWcDtkQV1txdZMTmRB+u3rrDBcZEHpt6+jiGhkQThnRCGMdGRBI0p7Y/V/ZEF6pSyvr4xkQf2H9EPTm2RBRItsE02pZEHHKTpG3LNkQTxO0eXGwGRBcvkPDTrOZEHQ1Va019tkQXDOiH625mRB8IXJBOjyZEEkKH5ovAVlQZ/NqrsQGmVBbVZ9auokZUFO0ZFo7y9lQQ6+MCm2PGVBAd4Cxe1IZUE/NV7WYlVlQQRWDs0pYWVBFmpNjwJsZUGBBMVfX3ZlQcHKoenHhGVBeHqlWJCUZUGHFtmm2qBlQczuya+MrWVBsp3vi1u4ZUGVZYgfGMRlQRWMSobHzmVBh6dX/p3ZZUHYgXMuP+VlQdJvX49t8mVBS+oE9E7+ZUGsi9uIlAtmQb3jFHHgGGZBPE7RoQsmZkGHFtkikDFmQW3n+3V9PmZBImx48gRMZkHwp8ZX1FhmQeVhoSqkZWZBkX779g5wZkHmriWUmnpmQYMvTFJlhWZBUI2XopuPZkE8vVLyDppmQS9uozl4pGZB9ihcx86wZkG4QIIqeb5mQU5iELR802ZB845TgPjeZkEOT6+EBulmQeXQImv982ZBvHST6M3/ZkE=",
          "dtype": "f8",
          "shape": "442, 1"
         },
         "hovertemplate": "contig=KI915045<br>Genomic Position=%{x}<br>G123=%{y}<br>pos=%{customdata[0]}<extra></extra>",
         "legendgroup": "KI915045",
         "line": {
          "color": "steelblue",
          "dash": "solid"
         },
         "marker": {
          "size": 3,
          "symbol": "circle"
         },
         "mode": "lines",
         "name": "KI915045",
         "showlegend": true,
         "type": "scattergl",
         "x": {
          "bdata": "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",
          "dtype": "f8"
         },
         "xaxis": "x",
         "y": {
          "bdata": "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",
          "dtype": "f8"
         },
         "yaxis": "y"
        },
        {
         "customdata": {
          "bdata": "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",
          "dtype": "f8",
          "shape": "274, 1"
         },
         "hovertemplate": "contig=KI915046<br>Genomic Position=%{x}<br>G123=%{y}<br>pos=%{customdata[0]}<extra></extra>",
         "legendgroup": "KI915046",
         "line": {
          "color": "lightblue",
          "dash": "solid"
         },
         "marker": {
          "size": 3,
          "symbol": "circle"
         },
         "mode": "lines",
         "name": "KI915046",
         "showlegend": true,
         "type": "scattergl",
         "x": {
          "bdata": "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",
          "dtype": "f8"
         },
         "xaxis": "x",
         "y": {
          "bdata": "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",
          "dtype": "f8"
         },
         "yaxis": "y"
        },
        {
         "customdata": {
          "bdata": "pb3BF/7U00Bt5/up8ebtQB3J5T9KF/lAl/+QfojcAEE6I0p7rh4FQSBB8WOG6ApB9P3U+CN2EEEzMzMzz84TQZAxd63HqxZBy6FFtt7cGEFfKcuQFmccQcZtNADjPx9BliGOtfbdIEFn1edqTRciQcZtNIAkhiNBz/dTYyLeJEETYcMTABsmQb8OnLPlBydBescpelf+J0EZBFZOBGYpQU8eFmrgjytB7uvAOS4JLUHtDb5w09UuQfMf0o9EbDBBFD/GvNlkMUGamZk5PAUzQb8OnDMTHzRB7nw/Nbl7NUFn1efqEBA3QZT2Bn8wljhBdEaUVvyEOUFWn6utrAw6QWgibJgUnzpBkX77up9qO0Gb5h0HGsA8Qf5D+o31tT1Bw9MrZaLjPkGI9Nvn8hhAQe58PwWgrkBBgQTFvxhvQUHTvOOkMb1BQRfZzqeX8kFBzH9In2OKQkHHSzfZomZDQUku/7Eo9UNBKe0NTtY7REERNjx955dEQd6Th+VJB0VB1edqq6h3RUFmZmZG++JFQas+V4sSRkZBb4EE5WCGRkF2cRutbPpGQdv5fjrFaUdBxY8xl6jgR0Fm9+ShMWZIQWTMXVsJAklBOUVH4oyhSUGu2F+2bDJKQRsN4G09zEpB9pfdIzo/S0Gsi9sY0yRMQUJg5fCts0xBLGUZUnxRTUGWQ4scAvFNQe5aQh6pXE5BOGdEeV+2TkEyVTA6GVBPQZ7vp+7JA1BBsVBr4u01UEEQ6bcv5F9QQYJzRmRGqVBB/yH9jhwSUUGz6nO120VRQdBE2NAicFFBlPYGh9SjUUEzMzPL6tVRQQWjkuKsAlJB/kP63Uk+UkEawFsw8YFSQdzXgcMm2VJBW7G/jKkcU0GM22jYnVxTQavP1S6PoVNBrIvbELXsU0EwKqljqlNUQdEi20FzpFRBU5Yh9mvRVEG/fR1QyAlVQfp+anz+Q1VBxyk6Sn91VUG/fR14eJxVQfFjzKXgyFVBZDvfP7jyVUEOvjDZTB9WQZvmHadEXVZBVTAqgaKbVkGHp1fafchWQeVhoSZ4A1dB3EYDgExIV0ESg8D6JXFXQV3+Q2KvnFdBcF8HxkvyV0GlvcEPH11YQSv2lwVNnVhBB84ZMerPWEHD9ShcX/xYQT81XkL/WVlB+Q/pn1uHWUGUh4UCeqZZQQ3gLaibzllBE2HDG4T8WUE=",
          "dtype": "f8",
          "shape": "112, 1"
         },
         "hovertemplate": "contig=KI915047<br>Genomic Position=%{x}<br>G123=%{y}<br>pos=%{customdata[0]}<extra></extra>",
         "legendgroup": "KI915047",
         "line": {
          "color": "steelblue",
          "dash": "solid"
         },
         "marker": {
          "size": 3,
          "symbol": "circle"
         },
         "mode": "lines",
         "name": "KI915047",
         "showlegend": true,
         "type": "scattergl",
         "x": {
          "bdata": "bzSAZ+3km0HQ99P1bOebQcWxLur16ZtB0wDeWx7sm0FlXdxuP+6bQfSw0Fok8ZtBUY2XOyb0m0GG69HmfvebQYUvTN9b+ptB9f1U9oz8m0F8gy8uFwCcQcHsnvrvApxBltQJBWwFnEH+h3Sy3gecQS8hn2C8CpxBQ2BlXGwNnEEVP8YX5g+cQXDwBeO/EZxB4guTxqwTnEFbZDsgfBacQZDkctjPGpxBKzoSdMIdnEFvNIC+WyGcQdMA3ilhJZxBT9GRfkMpnEG5HoUIxS+cQY4obWQsNJxBR7Zz/J45nEGpV0pb8D+cQS3UmtkIRpxBbQn5CMRJnEHQZlXK4kucQd1oAGosTpxBTaaKllpRnEHtL7t/sFacQWOh1u2HWpxBomczoT5fnEH3l92ud2ScQTq0yBclaZxBd+Cc3ShvnEE61sWkmXGcQRwv3dREc5xBUfyYNAN4nEGxcmgu5X6cQcWxLl1Zg5xBvCcPyo6FnEEEmohTb4icQfL0ymbqi5xBkg/6XG2PnEGG69Hxx5KcQUhy+avglZxBXtzGHuOXnEHfkwd9g5ucQSKwckH+npxB0URYXLWinEEO4K2k4aacQbameWLAq5xBffKwfrywnEEYt1F9Q7WcQby4DQMSupxBE6W96Km9nEGwlGWw1sScQVXjJYdNyZxBfIMv+jvOnEFwEoMoONOcQSrLkGCV1pxBjdtoE2PZnEH9OnDhMN6cQU03ibbs45xBXm3F9Q7nnEHkNpparumcQYsf431E7pxBc4qO4NH0nEH+9vXSDficQaA8rESy+pxBvCcPYO39nEGG61HEDgGdQYPix+XaA51Bk1x+tZQHnUFVdKQqzwudQdHV1oNCEZ1BabNqsHoVnUEMRiX1eRmdQU4VjArJHZ1BDnGsaHsinUH2Stm96iidQYBqvEv3LZ1BuNEA18YwnUEvkKCcTDSdQUNgZf/vN51B71pCDAg7nUEvkCCfdz2dQZJ++yE+QJ1BCaycm9tCnUE0xDHlpEWdQb2WEGKESZ1BWFuxP2pNnUHLMkT1N1CdQXHOCJrnU51Bweye3zRYnUGEwEp3wlqdQTn4wg17XZ1BSi7/09RinUEt1JoIgmmdQbY3+OeEbZ1BM1Wwuq5wnUGvR2ENdnOdQaebxAtQeZ1BU0md0SV8nUHMEMe3F36dQVSWIdKZgJ1BZO5aWXiDnUE=",
          "dtype": "f8"
         },
         "xaxis": "x",
         "y": {
          "bdata": "YgD1Pt7SnD/2/FcIDmm5PxIREREREbE/9vxXCA5puT94E3ZKO/O8P4/5utE9/6U/7HL7gwyVrT/cjib3VZizPz022yolypk/7HL7gwyVrT8RERERERGxPyYjWh/Iqbk/5gHJOlcewD/qRb//sYCmPxAQ2RNriak/3I4m91WYsz8QENkTa4mpPxIREREREbE/9vxXCA5puT/scvuDDJWtPz022yolypk/YgD1Pt7SnD89NtsqJcqZPxIREREREbE/PTbbKiXKmT89NtsqJcqZP5+xi9c/b6A/PTbbKiXKmT89NtsqJcqZP2IA9T7e0pw/ZAEtPIRatD9rRlv+hETCP2IA9T7e0pw/PTbbKiXKmT89NtsqJcqZPz022yolypk/PTbbKiXKmT89NtsqJcqZPz022yolypk/YgD1Pt7SnD9sXRU/hZKxP5+xi9c/b6A/n7GL1z9voD89NtsqJcqZPz022yolypk/n7GL1z9voD9iAPU+3tKcP2IA9T7e0pw/PTbbKiXKmT89NtsqJcqZP2IA9T7e0pw/YgD1Pt7SnD9iAPU+3tKcPz022yolypk/PTbbKiXKmT89NtsqJcqZPz022yolypk/YgD1Pt7SnD+fsYvXP2+gPz022yolypk/YgD1Pt7SnD89NtsqJcqZP2IA9T7e0pw/ai+hvYT2oj+fsYvXP2+gP5+xi9c/b6A/j/m60T3/pT89NtsqJcqZPxAQ2RNriak/ai+hvYT2oj+fsYvXP2+gPz022yolypk/n7GL1z9voD89NtsqJcqZP2tc3UHfCqo/7HL7gwyVrT89NtsqJcqZPz022yolypk/j/m60T3/pT89NtsqJcqZP5+xi9c/b6A/YgD1Pt7SnD9iAPU+3tKcPz022yolypk/YgD1Pt7SnD/scvuDDJWtPz022yolypk/PTbbKiXKmT9qL6G9hPaiP2IA9T7e0pw/a1zdQd8Kqj8RERERERGxP5+xi9c/b6A/YgD1Pt7SnD8QENkTa4mpPz022yolypk/PTbbKiXKmT/SMj70VGC2Pz022yolypk/n7GL1z9voD/cjib3VZizP4/5utE9/6U/PTbbKiXKmT89NtsqJcqZP5+xi9c/b6A/n7GL1z9voD/cjib3VZizPz022yolypk/wWTrqvgpxD9qL6G9hPaiP4/5utE9/6U/YgD1Pt7SnD8=",
          "dtype": "f8"
         },
         "yaxis": "y"
        },
        {
         "customdata": {
          "bdata": "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",
          "dtype": "f8",
          "shape": "278, 1"
         },
         "hovertemplate": "contig=KI915048<br>Genomic Position=%{x}<br>G123=%{y}<br>pos=%{customdata[0]}<extra></extra>",
         "legendgroup": "KI915048",
         "line": {
          "color": "lightblue",
          "dash": "solid"
         },
         "marker": {
          "size": 3,
          "symbol": "circle"
         },
         "mode": "lines",
         "name": "KI915048",
         "showlegend": true,
         "type": "scattergl",
         "x": {
          "bdata": "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",
          "dtype": "f8"
         },
         "xaxis": "x",
         "y": {
          "bdata": "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",
          "dtype": "f8"
         },
         "yaxis": "y"
        },
        {
         "customdata": {
          "bdata": "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",
          "dtype": "f8",
          "shape": "192, 1"
         },
         "hovertemplate": "contig=KI915049<br>Genomic Position=%{x}<br>G123=%{y}<br>pos=%{customdata[0]}<extra></extra>",
         "legendgroup": "KI915049",
         "line": {
          "color": "steelblue",
          "dash": "solid"
         },
         "marker": {
          "size": 3,
          "symbol": "circle"
         },
         "mode": "lines",
         "name": "KI915049",
         "showlegend": true,
         "type": "scattergl",
         "x": {
          "bdata": "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",
          "dtype": "f8"
         },
         "xaxis": "x",
         "y": {
          "bdata": "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",
          "dtype": "f8"
         },
         "yaxis": "y"
        },
        {
         "customdata": {
          "bdata": "NBE2PH3tyUDc14FzrgDjQG/whck46+9ATRWMSuRR9kBbsb/s6FT9QKhXyjKsVgJB3EYDeAbKBUHoaiv226YIQbsnDwudggxB2ht8YQeMD0EtIR/0PS0RQawcWmRTgxJBtaZ5R4fZE0Gk376OoloVQTY8vVJiKRdBIv329RNIGUFSuB4F4LUbQU2EDc9qQB1BPL1SlqLhHkHvOEVHdDYgQVr1uZoKASFB7lpCvoLCIUGdgCZCZ+wiQRB6NitaziNBnKIj+SmDJEHUmuZd4mwlQayt2J85VSdBFmpNs3yMKEFa9bnasAAqQYGVQ4sENCtB9pfdU6IYLEGASL99Bf0sQXsUrsdbzC1BQfFjzGjwLkEAAADAVP0vQRTQRPjYZTBBgnNG9IfPMEGSy3+omTQxQYzbaCCyrjFB3nGKji0rMkHZX3Yvs4syQeAtkOB6FTNBCfmgx9qjM0EpyxDnyBo0QWwJ+aA1fjRBuY0G0DfcNEHLEMd62Uw1QX4dOOcXvTVBSnuDD9M6NkEwuyevYZU2QSUGgTV57DZB/Bhz92tKN0H+Q/ptPLs3QYSezeqIEjhBlrIMscSCOEHLoUXWjDA5QWKh1jTLyzlBeqUsw6h8OkG0yHa+QD07QZMYBBbeFjxB8IXJFNKhPEFbsb+sHzs9QdobfCGzuj1BaJHt/NMWPkEFNBEWI2E+Qd21hDzsxD5BO99PDWZsP0GneceJjus/QSKOdWGMM0BBWvW5OruKQEFvEoNQmc5AQd9PjQdoL0FBr5RlqOuGQUFIv33Nif1BQdQrZanmTUJB/7J7ggDXQkEZ4lgXpahDQWB2T567AkRBexSuZx1XREGWsgzBhcdEQeVhoQa/EEVBmG4Sw8RZRUH129exBbFFQSBj7qqoCkZBIGPu6rNuRkGsi9sYNc5GQfkx5o76LEdBEHo2G0x6R0GFfNDDfrJHQUI+6HlQ60dBorQ3CBY0SEHpJjH4BndIQe58P2VltkhBqaROkN0TSUHHKTpCvl5JQfkx5i46qklB/7J7ItP0SUHTvONUwDhKQbWmeccSfUpBoWezeqK0SkEK16OAfOJKQcdLNzlrPktByeU/5AaVS0HRIttpZ9hLQY51cfvAH0xBYcPTO3+GTEGHFtl+o9xMQeY/pF8HGk1BVp+rTexxTUEOLbJN7rhNQdPe4Dt//k1BldQJqLc5TkGL/WW3ZmxOQQN4C0S/p05B+MJkClbvTkF0JJfvASFPQRlz12K+WE9Bn6utmIuNT0GvJeRDvcVPQVMFo/pZDlBBl/+QtgkrUEF4CyTo7UpQQSNKe9MzZVBBvAUSlIZ8UEHc14FbL5ZQQWx4epXTrlBBqDXNo/zIUEF0RpSWuuJQQdzXgTs9/FBByXa+f7sXUUGjkjrJCjJRQQisHLKcS1FBXW3FRu5kUUE3GsCDsoBRQd6Th72omlFBT6+U1Z+yUUGKH2NGgM5RQaqCUZEk6lFB/7J7UiQEUkFrK/aXtxdSQbAD5+zNMVJB+n5qJFBSUkEN4C2og3JSQfH0SslXilJBwhcmg/esUkGwA+es08lSQYnS3vgq4FJB8x/SDwP9UkF6xylC2DJTQfaX3TNLVFNBTtGRTLFuU0GyLm47HYhTQXRGlAZ1nVNBE2HDq0m3U0EhsHIQ0c9TQRzr4kY46lNB8BZISIEKVEEOT68shCxUQdEi20khSVRBMlUwouNjVEEOLbItB4BUQXBfB96KslRBSOF6hBbZVEG94xQFUPxUQcE5I5IYFFVBokW2I28wVUFgdk82fEtVQVwgQWHhaVVBUdobrJGAVUGSy3/w2ZRVQXqlLLP5qlVBQmDlwGPCVUHHSzd54d5VQSqpE3j6A1ZB5IOerZIkVkFApN+mLUpWQSL99i20cVZBrK3YR2GVVkGrz9V2VbpWQb3jFDUCz1ZBnDOiPGzlVkE=",
          "dtype": "f8",
          "shape": "181, 1"
         },
         "hovertemplate": "contig=KI915050<br>Genomic Position=%{x}<br>G123=%{y}<br>pos=%{customdata[0]}<extra></extra>",
         "legendgroup": "KI915050",
         "line": {
          "color": "lightblue",
          "dash": "solid"
         },
         "marker": {
          "size": 3,
          "symbol": "circle"
         },
         "mode": "lines",
         "name": "KI915050",
         "showlegend": true,
         "type": "scattergl",
         "x": {
          "bdata": "YhCYG8FCoEGnV4pwiUOgQem3LxlYRKBBDXEsoiNFoEGAt8ACBEagQSDSrxDvRqBBXCBB58tHoEFlqqAcg0igQVTj5Qx6SaBBkX57ZzxKoEEbL50E8EqgQZhMVQ+bS6BBXdxGKUZMoEH6fuq2Bk2gQSh+zBbuTaBBCRueb/1OoEHmrqVVNFCgQUymCpv5UKBB6UjuNspRoEHDZOrZj1KgQX/ZPXBaU6BB5WFh6BtUoEELRuXMRVWgQQRWzr8nVqBBLUOcj9xWoEElBgFIxlegQTj4Qp+uWaBB9GxW4uVaoEF/2X0WWlygQSBjLmqNXaBBIv32B3JeoEHS3iBrVl+gQZ7NasElYKBBe4NvzklhoEGKH2O6VmKgQSqpkxclY6BBcayLdfhjoEEhH/SYwmSgQUHx48m2ZaBBbjTAwK9moEFKDALMcGegQeY/ZFuEaKBBfGEyG6FpoEEgQXH3jmqgQZ0R5dBVa6BBpSxD1RFsoEGsrZgY82ygQcWPcZXTbaBBgSbCC89uoEEAbwEphG+gQZYhDlgycKBBvAWSPe5woEESFH/ez3GgQce6eHd+cqBB7zgF715zoEHOqk9/unSgQc3MDPzwdaBB1Xgpt1J3oEEbDSDn03igQbsnzyGHeqBBlrLMCZ17oEHtnvykz3ygQcIX5svOfaBBrfqcDYd+oEHyQc+rG3+gQfYoHD7jf6BBSL+9MTKBoEF9rraCMIKgQcP1KJcng6BBXweOUoSEoEHUK+XKk4WgQclUwQUXh6BB3bVEFHWIoEGHFtmMT4qgQTm0SACRi6BBVg6tZ7WNoEESgwD6+5CgQWRdHFRkkqBB3NdB27WToEFUUqd8d5WgQRKlvWGclqBBRGmveMCXoEH6fmp8HZmgQRbZTgiEmqBBFtlONRScoEG5jQY6kp2gQVK43k8Nn6BBcvkPlkKgoEF8YbJgI6GgQYPAiqcGoqBBXf7DvSmjoEEm5IOBNaSgQX4dOPsypaBBHVrk26imoEExCKxe1KegQVK4Xk4CqaBBVg4tsiyqoEF9rvZmPKugQSUGwbBNrKBBKe2N7yutoEHmrqVX462gQbn8hxJTr6BBIR80ga2woEEVjEoDu7GgQWDlkGnYsqBBmG6SYnO0oEHkg57zy7WgQYqwIYPBtqBBB87ZFiG4oEE+6NkePbmgQQWjkmJTuqBB3EZDREC7oEGAt4AAC7ygQWpNs2L4vKBBlrLMvRa+oEEcfGFt3b6gQVZ9Ll+8v6BBONYFlI/AoEEhsLJacMGgQbU3eDXMwqBBh6dXs7HDoEHmP+TUsMSgQdv5PgSDxaBBuK9Dmj3GoEFJLn/gCsegQU3zTgLQx6BBN4nBSqHIoEG+wVc6b8mgQUkuf087yqBBQBOhQRfLoEEf9Oy76cugQeoENEu2zKBB9UrZ14DNoEFcIMH5Xs6gQSlcj6suz6BBBMVPZO7PoEGGONZnzdCgQZ+rLYqq0aBBIv02iHrSoEHl0GIiF9OgQahXCtXn06BBgnPG5uvUoEGKjuSC7dWgQTJ37SOs1qBBSFC8IcHXoEGoVwoDqNigQR4War1a2aBBirAhfkHaoEHGbbQn8NugQUoMQr/73KBBFK4H8M7doEEAkX5Pmt6gQb7B1w1F36BBkzoBsxPgoEELtSbu1+CgQeM22ier4aBBQmDlb63ioEECmgiHveOgQaH48W+i5KBBNKK0gnjloEHysBCfWeagQYZak7zt56BBlPbGGSLpoEGoxsvlO+qgQVg5NCr66qBBt9HA3tzroEE9m1VHteygQY0orXCo7aBBXf4D813uoEHnHSc1AO+gQbaEPDOx76BBjEqqg2zwoEHo2WxxUPGgQdO8Yzl58qBBqRMQ+33zoEGsHNrSqvSgQXPXEgfn9aBB9+ThbwT3oEEHzlkRLPigQajGS3fR+KBBJzGIx4T5oEE=",
          "dtype": "f8"
         },
         "xaxis": "x",
         "y": {
          "bdata": "n7GL1z9voD+fsYvXP2+gPxAQ2RNriak/YgD1Pt7SnD89NtsqJcqZP5+xi9c/b6A/YgD1Pt7SnD9qL6G9hPaiPz022yolypk/ai+hvYT2oj9qL6G9hPaiP5+xi9c/b6A/PTbbKiXKmT89NtsqJcqZPz022yolypk/YgD1Pt7SnD89NtsqJcqZP5+xi9c/b6A/YgD1Pt7SnD+jCwTg9JeuP4/5utE9/6U/EhERERERsT89NtsqJcqZP2ovob2E9qI/YgD1Pt7SnD89NtsqJcqZPz022yolypk/PTbbKiXKmT89NtsqJcqZPz022yolypk/n7GL1z9voD8QENkTa4mpPz022yolypk/PTbbKiXKmT89NtsqJcqZP5+xi9c/b6A/YgD1Pt7SnD89NtsqJcqZPz022yolypk/YgD1Pt7SnD89NtsqJcqZP5+xi9c/b6A/xnul6/h3oz9qL6G9hPaiP5+xi9c/b6A/ai+hvYT2oj89NtsqJcqZP2IA9T7e0pw/n7GL1z9voD+fsYvXP2+gP2IA9T7e0pw/PTbbKiXKmT+fsYvXP2+gP2IA9T7e0pw/PTbbKiXKmT89NtsqJcqZPz022yolypk/PTbbKiXKmT+fsYvXP2+gPz022yolypk/ai+hvYT2oj9iAPU+3tKcPz022yolypk/PTbbKiXKmT8QENkTa4mpP2ovob2E9qI/n7GL1z9voD89NtsqJcqZPz022yolypk/n7GL1z9voD89NtsqJcqZP2IA9T7e0pw/n7GL1z9voD89NtsqJcqZP2IA9T7e0pw/PTbbKiXKmT89NtsqJcqZP2IA9T7e0pw/n7GL1z9voD89NtsqJcqZP2IA9T7e0pw/YgD1Pt7SnD9iAPU+3tKcP2ovob2E9qI/PTbbKiXKmT89NtsqJcqZP5+xi9c/b6A/PTbbKiXKmT+fsYvXP2+gP2IA9T7e0pw/YgD1Pt7SnD9iAPU+3tKcPz022yolypk/xnul6/h3oz9iAPU+3tKcP4/5utE9/6U/YgD1Pt7SnD89NtsqJcqZP5+xi9c/b6A/YgD1Pt7SnD8QENkTa4mpPz022yolypk/ai+hvYT2oj89NtsqJcqZP2IA9T7e0pw/PTbbKiXKmT9iAPU+3tKcP4/5utE9/6U/ai+hvYT2oj+fsYvXP2+gP2IA9T7e0pw/ai+hvYT2oj9iAPU+3tKcP2IA9T7e0pw/PTbbKiXKmT+fsYvXP2+gP2IA9T7e0pw/bF0VP4WSsT8QENkTa4mpP2ovob2E9qI/SL//sYAWrj9qL6G9hPaiPxIREREREbE/n7GL1z9voD+P+brRPf+lP4/5utE9/6U/a1zdQd8Kqj8QENkTa4mpP2ovob2E9qI/bF0VP4WSsT9SSVw2guq5P+xy+4MMla0/n7GL1z9voD8ItSgOENmzP5+xi9c/b6A/+PxXCA5puT8KtSgOENmzP/CgbwUNMbw/+PxXCA5puT9Iv/+xgBauP21dFT+FkrE/244m91WYsz9K7XMzgbK8P35YpAw83co/6kW//7GApj8uf0IiyeG2P2ovob2E9qI/ai+hvYT2oj9iAPU+3tKcPxIREREREbE/owsE4PSXrj9qL6G9hPaiP2ovob2E9qI/ai+hvYT2oj+fsYvXP2+gP5+xi9c/b6A/xqjhb1OMqj9qL6G9hPaiP2xdFT+FkrE/oN7HW5qDpz8QENkTa4mpP2xdFT+FkrE/YgD1Pt7SnD9qL6G9hPaiP8Z7pev4d6M/n7GL1z9voD89NtsqJcqZP2IA9T7e0pw/Ez5NlWsluD8Ua4kZxjm/P1ylRDmDIrc/bF0VP4WSsT9qL6G9hPaiP5+xi9c/b6A/j/m60T3/pT9Yd9C3goaoP2tc3UHfCqo/RpLDLSYCpz+mOXhh9TO9P2tc3UHfCqo/7HL7gwyVrT8=",
          "dtype": "f8"
         },
         "yaxis": "y"
        },
        {
         "customdata": {
          "bdata": "uB6F6+nN0UCRfvs6xJvpQOeMKO0lcPRAAG+BBCdC/UBVwaikvMwDQWHD0yv1IglBY3/ZPX9DDkFOYhDYg9MQQXPXEvLV+xJBGlHamxSVFUFv8IVJrYkXQZF++zqiPhlBaLPq8wyVGkFJnYCm5BccQfmgZ7OGsx1BZvfkYdLfH0F/ary0D84gQaFns+o4jSFBFYxKau5cIkGZKhiVfjQjQZyiI7n/DiRBo5I6gZrzJEHY8PSKquglQSgPC3U6qSZBTmIQWIVpJ0GM22gA4NkoQbdif1n8HypB6pWyzFjsKkEGgZUDYuYrQad5x+ll2CxBEoPAitgnLkH6fmo87FMvQYofY86nADBBgQTFb0d+MEEj2/l+phUxQS9uowHVoDFBXynL8AcuMkG6SQzCfJoyQetztdUkCDNBBTQRNmiYM0Fbsb+sWw80QZ0Rpf1GxDRB4L4OvK55NUFWn6utTy82QYGVQ+uwnTZBSnuDz371NkEnoIlQ0k03QfW52upwvDdBYOXQ4qMdOEGJQWDFjmg4QUmdgOb1vDhBvAUS9FQtOUG4HoVLdKQ5QWDl0EJqFzpBDXGsa8SOOkGZKhgVCwQ7QQTnjKhsmDtBpb3B1/9cPEE/xtx1W988QSSX/9Bfjz1BhJ7NinANPkE2PL1yP3Q+QQn5oMeM1D5BGeJY93ZRP0Ef9Gw2pLY/QZtVn1tQEUBBJJf/UD1tQEE1Xro5iQ1BQZEPeoZHQkFB845ThKx3QUGEDU8v4bFBQS2ynV+b60FBHOviNqEkQkFt5/v5O2ZCQYenV6rZpUJBnDOilOTpQkGfq6046jJDQXZxG72ydkNB5q4ltLbYQ0GMuWuJ2RNEQYEExa94WERBSS7/kWuIREH7y+4JRLVEQaYKRoWt5URB2c73U90fRUGlLENMBFpFQbHh6RVvlEVBI0p7E5TQRUFX7C8Luw5GQTMzM6OBRkZBRPrtu16ARkH3Bl9o9r5GQWx4emWzaUdBMEymijHgR0E=",
          "dtype": "f8",
          "shape": "94, 1"
         },
         "hovertemplate": "contig=KI915051<br>Genomic Position=%{x}<br>G123=%{y}<br>pos=%{customdata[0]}<extra></extra>",
         "legendgroup": "KI915051",
         "line": {
          "color": "steelblue",
          "dash": "solid"
         },
         "marker": {
          "size": 3,
          "symbol": "circle"
         },
         "mode": "lines",
         "name": "KI915051",
         "showlegend": true,
         "type": "scattergl",
         "x": {
          "bdata": "UI3XNhP6oEHf4MuDHvugQTnWRcwS/KBBVcFoDC39oEFXW7H2d/6gQRgm04TN/6BBh6dXpxUBoUFYOXSJ7gGhQZM6gbICA6FBUB7WUU8EoUEf9CyeSQWhQeaupRgkBqFBgSYCTs8GoUF2cdu5kAehQffk4YpeCKFBoyO5sHQJoUGR7TzXUgqhQY/kcgASC6FBs3vyteELoUFSSR1GuQyhQcpUQceTDaFBumsJYngOoUEYJhNybQ+hQTY8/QEuEKFBiUHgTO4QoUEDmoinXhKhQYqw4cOkE6FBveNUIHEUoUGoxospaxWhQaH4cS1dFqFBqvESoKwXoUGmm8Sz2BihQWb3JBeGGaFBMLtnVoEaoUHdJIYUsBuhQQN4i3HGHKFBesdp1+AdoUG6SQzBuR6hQQ+cMxGVH6FBj1P0l7UgoUGKsOF+oyGhQUp7g1UNI6FBpU4AJXgkoUFmiONm4yWhQVK4XinAJqFBHjgnxW8noUFnRClsICihQZvmXan9KKFB8tJND8ApoUGq8RLlVSqhQWIyVbP+KqFBMlVwcd8roUFkOx+wzSyhQfLSDZyzLaFBCYpfUKIuoUF8YbLdjC+hQfVK2aC1MKFBorQ3xz4yoUGz6nN+QzOhQVUwKoejNKFBZMydqJ81oUGfq21GbTahQRlzF+EtN6FB6+J2tSc4oUEPC/UP8jihQX2u9gjKOaFBhC/MvDk7oUGgGm/suj2hQWUZouWNPqFBY3+ZeWM/oUFdbUVMTEChQfCnBjUzQaFB07xjTBdCoUHFIHC3HUOhQcWPMS4cRKFB9bnaWSxFoUHV52pwUEahQe2efJJfR6FB48dYoudIoUEN4K0t1EmhQTlFR6rmSqFB4C3QdaZLoUFX7K/XWUyhQVJJnX0bTaFBYhDYPAROoUHaPbnY7E6hQa7Y34PWT6FBUB7WF8dQoUHY8LSzv1GhQfT9FM6eUqFBEOl3QoZToUFDrSmhgFShQQkbHpUrV6FBWMqyjQVZoUE=",
          "dtype": "f8"
         },
         "xaxis": "x",
         "y": {
          "bdata": "n7GL1z9voD9qL6G9hPaiP2ovob2E9qI/PTbbKiXKmT9qL6G9hPaiPz022yolypk/n7GL1z9voD+fsYvXP2+gP2IA9T7e0pw/PTbbKiXKmT+fsYvXP2+gPz022yolypk/PTbbKiXKmT+fsYvXP2+gP2ovob2E9qI/PTbbKiXKmT9rXN1B3wqqP2ovob2E9qI/9vxXCA5puT9rXN1B3wqqP4/5utE9/6U/n7GL1z9voD89NtsqJcqZP2IA9T7e0pw/n7GL1z9voD9iAPU+3tKcP4/5utE9/6U/n7GL1z9voD89NtsqJcqZP2IA9T7e0pw/PTbbKiXKmT+fsYvXP2+gP2ovob2E9qI/j/m60T3/pT+fsYvXP2+gP4/5utE9/6U/YgD1Pt7SnD9qL6G9hPaiP2IA9T7e0pw/PTbbKiXKmT89NtsqJcqZP5+xi9c/b6A/PTbbKiXKmT9iAPU+3tKcPz022yolypk/ai+hvYT2oj+fsYvXP2+gP2ovob2E9qI/xqjhb1OMqj/XYLJ1VfykPz022yolypk/a1zdQd8Kqj9iAPU+3tKcP5+xi9c/b6A/n7GL1z9voD89NtsqJcqZPxAQ2RNriak/6kW//7GApj/scvuDDJWtP+pFv/+xgKY/owsE4PSXrj8QENkTa4mpP5+xi9c/b6A/YgD1Pt7SnD/+VwgOaRmvP+pFv/+xgKY/PTbbKiXKmT+fsYvXP2+gP2tc3UHfCqo/RpLDLSYCpz89NtsqJcqZPxAQ2RNriak/owsE4PSXrj9qL6G9hPaiP+xy+4MMla0/n7GL1z9voD+P+brRPf+lP4/5utE9/6U/6kW//7GApj+fsYvXP2+gP/wqzIkOBag/n7GL1z9voD8gyKkZbfmjP+pFv/+xgKY/xqjhb1OMqj/Ge6Xr+HejP2IA9T7e0pw/PTbbKiXKmT/scvuDDJWtP2IA9T7e0pw/fBSuR+F6pD9iAPU+3tKcPz022yolypk/YgD1Pt7SnD8=",
          "dtype": "f8"
         },
         "yaxis": "y"
        },
        {
         "customdata": {
          "bdata": "0SLb+d4B2kB4CyQo/OvxQDY8vVJoF/1AhxbZzl2bAUFseHqlYZ8EQYMvTKYW0QdBNe84RU2xCkEGEhQ/CrYNQdxGA/jddxBBs3vyML/6EUGM22iAerkTQVfsL7v3fRVBeHqlLEAOGEFRa5r39CsaQZAxdy0wwRxBCtej8LqaHkEXSFA89R0gQX6MuesoBSFBSZ2AZtMYIkE6I0q7BSUjQRzr4vYLMCRBuK8D58rWJEHJ5T+kPaIlQfwYc1fUmyZB48eYe/yeJ0Fq3nFKy/ooQa62Yr+2QCpBnKIjuYqoK0GjAbwFmaQsQSDSb9/Gmi1Bm1WfK919LkFyio7kQ2ovQQKaCHuzJDBBgEi/XZiQMEE7AU2EdA4xQX6MuetZhjFBzojSHlwUMkHMXUvonJwyQSqpE/CJKDNBguLHGGGwM0H4U+Ml6TM0QaFns+qqCTVB845T1HngNUGu2F+2Q382QbmNBjDQKzdBSL99PfiqN0F/2T2Z2Ck4QbprCfmepzhBejarftM3OUF4CyQIg8A5QSBj7lpVSDpBr5RlaGG+OkFfKcsw8CA7Qdlfdk9/gztBkxgEljLfO0EGEhQ/qlI8QYv9Zddt1DxB2T15eNFVPUFQ/BiT3Ps9Qd/gC/NOtz5BWYY4dugmP0F2cRtt0ZE/QaUsQxylCEBB9ihcP1Y4QEFfmExl+XdAQcUgsDLVwkBB+THm3qseQUFMpgoWkIlBQVkXt6EM1kFBaJHtPG4gQkGjAbx1DYRCQQn5oJeM6UJBOiNK+7EpQ0EaUdrrj21DQQIrhyYFqENByjLEkQ4HREEcfGGiHU5EQVXBqJT+jERBUdobjFnnREFkO98/Jj9FQWuad3z0g0VBJJf/wEu7RUFfmEzlp/pFQSfChjfYPkZBMzMzk22ARkHA7J7cXbJGQTC7J19C50ZByXa+n98uR0E=",
          "dtype": "f8",
          "shape": "88, 1"
         },
         "hovertemplate": "contig=KI915052<br>Genomic Position=%{x}<br>G123=%{y}<br>pos=%{customdata[0]}<extra></extra>",
         "legendgroup": "KI915052",
         "line": {
          "color": "lightblue",
          "dash": "solid"
         },
         "marker": {
          "size": 3,
          "symbol": "circle"
         },
         "mode": "lines",
         "name": "KI915052",
         "showlegend": true,
         "type": "scattergl",
         "x": {
          "bdata": "MZmqnNVZoUHZzjcNQ1uhQQAivXqoXKFBnoAmZWxdoUH2KBxmLV6hQWRdXNP5XqFBlBgE4bFfoUFdj0IQc2ChQfvLrnxBYaFBlkNL7QJioUHG/vJK4mKhQU5ikInEY6FBFR3JrQxloUGOly6IG2ahQfGFySVmZ6FBRBwr61JooUGgGu+CI2mhQeSDnrYKaqFB9UoZYR5roUF7FG6TKmyhQUOtqZk1baFBCM6ZWNxtoUE+ClfLp26hQXE9CmKhb6FBIGMuiqRwoUE2PP1YAHKhQQ8tckRGc6FB++1rGK50oUFahrgmqnWhQSo6klSgdqFBrmneaoN3oUHiWJfRb3ihQYzbqPROeaFB6UhuviZ6oUFaZLt2InuhQXE9ikESfKFBam/wRS59oUEUYYPHPn6hQarxkqFWf6FBHVrkT2aAoUEAkf5fbYGhQScxiOMYg6FBdnFbgcaEoUEJih8VBIahQXPXEi5dh6FB18UtfluIoUELRuU+WYmhQS/dpMtUiqFBxSCwNHWLoUFvEsOThoyhQR6naDiWjaFBgZWDUIKOoUGrYBRuR4+hQRi3UYwMkKFBidLe8sOQoUF88jDiqpGhQVOWYWmukqFB1LyjMLGToUFR/NhG/ZShQRrimCt0lqFBZTufXlOXoUE7AY0wKZihQQvXIyIomaFB/Dqw5uaZoUG5/Edz5ZqhQduKfeIQnKFBIGMuPYCdoUHx9ArOK5+hQbWmOcBdoKFBnoCmRoehoUFfuonDFaOhQTxOEcCrpKFB5fKfVayloUGcM2LNu6ahQQTnTKKlp6FBI9v5xyGpoUFIUDwEPqqhQV1tBYg5q6FBwTnj86KsoUFGR7ImAq6hQcKopF8Vr6FBtci2vPKvoUG5/Ect8LChQWHlkO4AsqFBJZf/QwezoUELRiUFz7OhQUVpL5eitKFBM8QxDMG1oUE=",
          "dtype": "f8"
         },
         "xaxis": "x",
         "y": {
          "bdata": "PTbbKiXKmT89NtsqJcqZPz022yolypk/ai+hvYT2oj89NtsqJcqZP5+xi9c/b6A/YgD1Pt7SnD9iAPU+3tKcP0aSwy0mAqc/n7GL1z9voD+P+brRPf+lP5+xi9c/b6A/PTbbKiXKmT89NtsqJcqZP2IA9T7e0pw/n7GL1z9voD9qL6G9hPaiP5+xi9c/b6A/PTbbKiXKmT8QENkTa4mpP2IA9T7e0pw/EBDZE2uJqT89NtsqJcqZP2IA9T7e0pw/n7GL1z9voD89NtsqJcqZPz022yolypk/PTbbKiXKmT89NtsqJcqZP2IA9T7e0pw/YgD1Pt7SnD9qL6G9hPaiP5+xi9c/b6A/PTbbKiXKmT9iAPU+3tKcP5+xi9c/b6A/YgD1Pt7SnD9iAPU+3tKcPz022yolypk/PTbbKiXKmT89NtsqJcqZPz022yolypk/PTbbKiXKmT89NtsqJcqZP2IA9T7e0pw/YgD1Pt7SnD+fsYvXP2+gP2IA9T7e0pw/PTbbKiXKmT+P+brRPf+lP2IA9T7e0pw/PTbbKiXKmT8QENkTa4mpPz022yolypk/j/m60T3/pT+fsYvXP2+gPz022yolypk/PTbbKiXKmT89NtsqJcqZP5+xi9c/b6A/n7GL1z9voD+P+brRPf+lP2IA9T7e0pw/YgD1Pt7SnD89NtsqJcqZP2IA9T7e0pw/YgD1Pt7SnD9iAPU+3tKcPxAQ2RNriak/YgD1Pt7SnD89NtsqJcqZPz022yolypk/n7GL1z9voD9qL6G9hPaiPz022yolypk/PTbbKiXKmT9iAPU+3tKcP2IA9T7e0pw/n7GL1z9voD9qL6G9hPaiP+xy+4MMla0/PTbbKiXKmT9qL6G9hPaiP5+xi9c/b6A/ai+hvYT2oj/scvuDDJWtP+xy+4MMla0/YgD1Pt7SnD8=",
          "dtype": "f8"
         },
         "yaxis": "y"
        },
        {
         "customdata": {
          "bdata": "Gw3gLQj12kBVMCqpyyzqQP2H9NsBIfRA5q4l5F3r/0AIPZtVmFEFQezAOSNAVghBJ6CJsLL9CkFL6gQ0RJENQbWmecdbbxBB9+RhIfw7EkHY8PRKH7ETQdBE2HD1zBtBQ61p3ooFIkGDL0wm8ewiQeAtkOBtmyNBDXGsi50+JEHcRgO42/0kQag1zbtA9yVBeHqlLCboJkH1SllG+5gnQYbJVMG+MChBbcX+MgzKKEEdWmR7r2cpQZ+rrVi+/SlBTtGRXDWIKkHOGVGazSIrQW8Sg0CG8StB+8vuCVKxLEFhVFKnw30tQUku/2GUzi5Bf/s6MA2kL0GCc0bU0DUwQf8h/fYvAjFBXdxGA82uMUHJ5T+ELw0yQcKGpxeZejJBidLeIIn1MkEB3gJpHn4zQePHmJs72zNBhJ7NKuJZNEFpb/CllNI0QS9uo4GRVjVB9pfdE4zTNUEr9pddwkU2QWkAb+GhDzdBPujZrC+lN0ErGJX0WRs4QZVliCOhizhBejarHr4DOUGEns0KEHM5QQdfmIyk4zlBwTkjyg5ROkF0RpR23tE6QTBMpqpGSztB0m9fp4i2O0GI9NuXmCE8QaabxOC1kzxBE2HDM6ARPUEnMQgM5Wg9QZoIG/607T1BKcsQR1ZYPkEJ+aAnpsM+QRfZzleYYT9BhxbZjinvP0EsZRkiTyZAQXQkl8+sZkBBGsBb0HehQEEldQIqV9pAQc3MzKx8TEFBayv2552WQUFgdk/ekPJBQcuhRfYGVEJBcF8HjsWlQkFxGw2wouhCQQskKF4iKUNBe4Mv7OdlQ0G+nxr/5qBDQetztWV8DURBEFg5tAbKREGRD3om4hRFQRe30SAucEVBWKg1bSEFRkE=",
          "dtype": "f8",
          "shape": "82, 1"
         },
         "hovertemplate": "contig=KI915053<br>Genomic Position=%{x}<br>G123=%{y}<br>pos=%{customdata[0]}<extra></extra>",
         "legendgroup": "KI915053",
         "line": {
          "color": "steelblue",
          "dash": "solid"
         },
         "marker": {
          "size": 3,
          "symbol": "circle"
         },
         "mode": "lines",
         "name": "KI915053",
         "showlegend": true,
         "type": "scattergl",
         "x": {
          "bdata": "MzNztJi2oUHWVuzYY7ehQcRCbSxFuKFB6Ujud765oUECK0dyFbuhQaOSOpzWu6FBm+bdeIC8oUFuxT5dJb2hQQaBFbr4vaFBJXVCCt++oUGrPtebmb+hQVUw6oanw6FB4C0Ql8bHoUFjEFj9rcihQWFUEnpcyaFBpHC9qf/JoUF6x+nnvsqhQWmR7Uy4y6FBrWleMqnMoUF+HXgHWs2hQf0Y88rxzaFB+MJkGIvOoUGNKK27KM+hQd9xisq+z6FBBFaOQUnQoUFNFczZ49ChQUVHcpKy0aFB/7I7XnLSoUGHFtnPPtOhQWHDk6CP1KFBLv9hGWXVoUEaUdqtLNahQXe+H2zF16FB7FE4ph7ZoUH/Qzpr29mhQUETYT622qFB2IFzHqzboUHvyQNJvdyhQcP1aIN33aFBcF+H0HTeoUESpX01Zt+hQQ8LNS9u4KFBY39ZJGjhoUEf9OyQTOKhQTSi9E/g46FBA3iLawvloUFj7hrA9+WhQf7UeE7Y5qFBoBpviMjnoUFwX0csp+ihQfH0SlWI6aFBpwrGKWPqoUHA7B7JZOuhQcsQh5lX7KFBE4OAHS7toUEcfGE9BO6hQWpN83fo7qFB9UqZTOTvoUGV1EnWkvChQUT6LXac8aFByeW/uHHyoUElBoFYSPOhQeVh4TyE9KFBYHZPX5/1oUHIKbpIWvahQcUgcL9b96FBMzNz60b4oUEIztloKvmhQWb35P7y+qFB4ZzRgxv8oUEMAqtPi/2hQbraCigR/6FBseFpIlgAokGh+PGWYwGiQcNkqpVlAqJBQYLiq1gDokGyLi6oRASiQQOayP32BaJBk6kCJ+kIokFxrMuUFAqiQQ8LtcSBC6JB1JrmkdUNokE=",
          "dtype": "f8"
         },
         "xaxis": "x",
         "y": {
          "bdata": "n7GL1z9voD/Ge6Xr+HejPz022yolypk/PTbbKiXKmT+fsYvXP2+gPz022yolypk/n7GL1z9voD9qL6G9hPaiP4/5utE9/6U/ai+hvYT2oj8QENkTa4mpPz022yolypk/6kW//7GApj8QENkTa4mpP+pFv/+xgKY/ai+hvYT2oj9iAPU+3tKcP+pFv/+xgKY/n7GL1z9voD+P+brRPf+lP2ovob2E9qI/ai+hvYT2oj8gyKkZbfmjPyDIqRlt+aM/ai+hvYT2oj9iAPU+3tKcP8ao4W9TjKo/xnul6/h3oz+fsYvXP2+gPz022yolypk/YgD1Pt7SnD9iAPU+3tKcP5+xi9c/b6A/6kW//7GApj/scvuDDJWtP5+xi9c/b6A/n7GL1z9voD9iAPU+3tKcP0aSwy0mAqc/j/m60T3/pT/cjib3VZizPz022yolypk/j/m60T3/pT8QENkTa4mpPz022yolypk/PTbbKiXKmT9iAPU+3tKcP2IA9T7e0pw/YgD1Pt7SnD+fsYvXP2+gP2ovob2E9qI/a1zdQd8Kqj+fsYvXP2+gP2IA9T7e0pw/xqjhb1OMqj/qRb//sYCmP2IA9T7e0pw/ai+hvYT2oj+P+brRPf+lP2IA9T7e0pw/j/m60T3/pT9iAPU+3tKcP5+xi9c/b6A/ai+hvYT2oj9rXN1B3wqqP4rLRlA9Y7c/bF0VP4WSsT89NtsqJcqZP2IA9T7e0pw/YgD1Pt7SnD9qL6G9hPaiP2ovob2E9qI/ai+hvYT2oj/Ge6Xr+HejP6MLBOD0l64/xnul6/h3oz+mOXhh9TO9P5+xi9c/b6A/YgD1Pt7SnD/cu2J7sKy6P8Z7pev4d6M/EhERERERsT8=",
          "dtype": "f8"
         },
         "yaxis": "y"
        },
        {
         "customdata": {
          "bdata": "bcX+snsO20B3vp8an9jrQE7RkVxmnPNAPujZrEAJ+0CNKO0NSfUBQZZDi2zFOAZBY3/ZPRtjDEGlvcGXb4MQQQBvgYTqDBNBK4cWWcwAFUG94xSdwiMXQbMMcaxOBBlBBoGVQ4zBGkEDeAukw2UcQaW9wRdCjR5BFmpNc04JIEE9m1WfvjEhQVZ9rvZRdiJBK4cWGXDTI0Hf4AvTz/YkQYPAyuGEzyVBXdxGwxDdJkFqTfPORfQnQYiFWhOHSilButqKvTVUKkHRItu5+qErQVMFoxL8xixBrfpc7YcELkE17zhFkPUuQZT2Bj8WCTBBK/aXnQ6UMEHdJAbhaDExQSbkgz6d0zFBexSuxwawMkGoxkvXRHUzQSBB8aMWKzRBcT0KF9e1NEHQ1VbsMV01QXuDL8z/+TVBkX77WrllNkFMpgrGNcU2QVYOLbKjJDdBlWWII1WSN0FlGeJY1gM4QRE2PD0OeThB8IXJdFP+OEEQWDn0+L85QUp7g69vVTpB4zYagFHMOkE3GsAb5S87QS1DHItnjjtBt2J/GaryO0H4wmSqI9s8QRpR2hsgPEFBi2zni0GCQUHtDb4QjsdBQaqCUdmYEkJB6NmsKjxNQkHXNO+YSINCQX3QswlUx0JBAd4C+eAaQ0EcfGHSt35DQQ==",
          "dtype": "f8",
          "shape": "62, 1"
         },
         "hovertemplate": "contig=KI915054<br>Genomic Position=%{x}<br>G123=%{y}<br>pos=%{customdata[0]}<extra></extra>",
         "legendgroup": "KI915054",
         "line": {
          "color": "lightblue",
          "dash": "solid"
         },
         "marker": {
          "size": 3,
          "symbol": "circle"
         },
         "mode": "lines",
         "name": "KI915054",
         "showlegend": true,
         "type": "scattergl",
         "x": {
          "bdata": "yjLEBa4OokHQRNgbkw+iQQ4tsh5JEKJBETb8uTYRokEeFirkUhKiQaW9QcNjE6JBNBG2WO4UokGze7JJFxaiQYzbKAdcF6JBGCYT+FUYokFGJTVzZxmiQVrTPLlXGqJBlWUIWDYbokGQoLhzCByiQbN78jIcHaJBPuhZ4N4dokFv8IVQBx+iQVFJ3eNLIKJBW7H/AakhokG1prlhzCKiQZVlyBalI6JBsOGporIkokEhjrXXySWiQVr1+RggJ6JBryWkxykookH3daCMdymiQdk9+Y2cKqJBz/fTGdorokHD0ysiyyyiQcGoZL7nLaJBwMohr/0uokEep6hjODCiQZyiY8x8MaJB/fZ1nzUzokFhMpUbwDSiQVZ9Lr8rNqJBT68UQEE3okGASL/1jziiQdv5fpHJOaJB0ZGcBKE6okEhsHL9XzuiQfH0StkePKJBn6stPPo8okEHX5g+3T2iQUATYa7HPqJB4C3QONI/okGEDc+DVUGiQcuhRXGAQqJBQs/mNG5DokEIGx5cNUSiQVrT/GDyRKJBmZkZ5rpFokFaZDvZi0eiQRgEVhLGUqJBhjgWmN5TokEMkynK81SiQd/gS/UfVqJBPE6RggpXokGnV0q04leiQRZqDeLyWKJBTKbKFUFaokHEIDBx0FuiQQ==",
          "dtype": "f8"
         },
         "xaxis": "x",
         "y": {
          "bdata": "moMXVj/TsT9GksMtJgKnP5qDF1Y/07E/n7GL1z9voD+48Uhn96O3PyH15Z3HDas/bF0VP4WSsT9Iv/+xgBauP+xy+4MMla0/AFlACw+htj8RERERERGxP0i//7GAFq4/EBDZE2uJqT/bjib3VZizP+pFv/+xgKY/n7GL1z9voD89NtsqJcqZPz022yolypk/YgD1Pt7SnD+P+brRPf+lP5+xi9c/b6A/EBDZE2uJqT9rXN1B3wqqP2tc3UHfCqo/YgD1Pt7SnD8gyKkZbfmjPz022yolypk/PTbbKiXKmT/cjib3VZizPz022yolypk/YgD1Pt7SnD9iAPU+3tKcP2ovob2E9qI/244m91WYsz/2/FcIDmm5Pwq1KA4Q2bM/9vxXCA5puT9iAPU+3tKcP5+xi9c/b6A/3I4m91WYsz/Ge6Xr+HejP6MLBOD0l64/YgD1Pt7SnD9GksMtJgKnP5+xi9c/b6A/xnul6/h3oz+jCwTg9JeuP5+xi9c/b6A/EhERERERsT8h9eWdxw2rP+pFv/+xgKY/YgD1Pt7SnD89NtsqJcqZPz022yolypk/ai+hvYT2oj+fsYvXP2+gP2tc3UHfCqo/j/m60T3/pT+fsYvXP2+gP+pFv/+xgKY/n7GL1z9voD+fsYvXP2+gPw==",
          "dtype": "f8"
         },
         "yaxis": "y"
        },
        {
         "customdata": {
          "bdata": "EOm3r2P8zUB0tRX7/zzkQPFjzF29DvFADi2ynW0Z90D/If32d7H8QEHxY8w96AJBbqMBvJp8BkGGyVTBKd0JQfYoXI9VhgxBr5RliLvsEEH/If12ej4TQWrecYpD2hRBNe84RQ1YFkG30QBeqrYXQehqK/ZsHhlB8WPMXcauGkHD9SjcOUkcQfkP6bdZxB1BtRX7S9KEH0G0WfV5/rYgQTSitHdmniFBdy0hH6ZVIkERNjz9d7AjQcGopE7UyiVBuECCYu/RJkFB8WPM8bInQR3J5f+9iShBCtejsJt1KUHek4dF9lQqQSfChicgFStBjSjtTYjUK0EDeAukRZgsQdcS8oHDcC1BJ6CJcCicLkHQRNgwUpMvQZeQDxriLDBBYcPTa6CcMEEH8BbIuBMxQXlYqLVDlDFB1JrmnaUHMkGSXP7D7XkyQduK/WUA4zJBcT0KdxtpM0EQWDkUFT00QbByaJFPpzRBg1FJnWMPNUF8YTKVbn01QYts57vnBTZByJi7VnlzNkEs1Jomuus2Qfrt68AlxTdBKxiVVA1AOEFfKcuQV7w4QSZTBYNdJjlBAU2ETbGpOUFy+Q8JATE6QT81XvoOpDpB1QloYoUfO0GM22gAAH87QW3F/pKh6TtBVp+r7QRPPEEy5q7lxNQ8QUCk3748bz1BK/aXndX8PUFSuB4lJGU+QVpkO997xT5BRpT2phNDP0FEi2znjtc/QRsv3bQXQkBB8KfGixKIQEFmZmYWccdAQXe+n0oX/0BBQ61p3kI9QUHwp8YbNoVBQXDOiNKQtkFBUPwYE23mQUE=",
          "dtype": "f8",
          "shape": "76, 1"
         },
         "hovertemplate": "contig=KI915055<br>Genomic Position=%{x}<br>G123=%{y}<br>pos=%{customdata[0]}<extra></extra>",
         "legendgroup": "KI915055",
         "line": {
          "color": "steelblue",
          "dash": "solid"
         },
         "marker": {
          "size": 3,
          "symbol": "circle"
         },
         "mode": "lines",
         "name": "KI915055",
         "showlegend": true,
         "type": "scattergl",
         "x": {
          "bdata": "pN++YkhcokEf0i9BFF2iQVDa20jyXaJBCtfjnrNeokFoAC+gZl+iQcA5o4CKYKJBLSHfl29hokH2daC7R2KiQc73kwbyYqJBjlP0zkZkokFVn2uub2WiQbNZ9ZI9ZqJBPL3Sd/xmokEtIV/Gq2eiQXk2q6dfaKJB9gZf1CdpokE/NR4O9WmiQUwVDJ6yaqJBTx5W2pJrokEeFqpvh2yiQWbVp9dubaJB8UFPFyZuokH6XC3pgG+iQW3FfkWbcaJBBaOSYKJyokG1hPxig3OiQY0GMC9adKJBm8TgDEZ1okFYqHVnJXaiQYanV5HldqJB7Q1++aR3okE8LNS2aHiiQdcSsjRBeaJBZKqgmWx6okEJ+WDDY3uiQeU/ZDUqfKJBS8gHsgl9okGkTsDi932iQXVxm/j4fqJB+u1rvN9/okF9HbhMxICiQdob/HGWgaJBPzUeqKKCokF0k1ibSoSiQanxUhAfhaJBZ7NqOO+FokGHhVpOy4aiQZ3vp0Dch6JB9pfdY7eIokFsVn3lp4miQaD4sbxai6JB9ErZi1CMokEXt1EgSY2iQWorNiwdjqJBXinL0yOPokG3QEJzMpCiQS7dJI8YkaJB2PD0ew+SokF78jBxzpKiQU8eVrSjk6JBA3gLe26UokGQfvv6eZWiQQzgrequlqJBsFBrHMqXokE1Xnq5mpiiQY2X7mhbmaJB7Q1+mFaaokHb+f6Of5uiQYCVA9DYnKJBZDtfu/CdokFeuok17p6iQb6fWs7Mn6JBecepfMWgokFkO59J5aGiQf5DerSqoqJBtYR8JWqjokE=",
          "dtype": "f8"
         },
         "xaxis": "x",
         "y": {
          "bdata": "6kW//7GApj/3zxuEs1SyPxAQ2RNriak/SsA3ryaetT+g3sdbmoOnP2IA9T7e0pw/IfXlnccNqz/Ge6Xr+HejPzfbKiXKGbQ/YgD1Pt7SnD/Ge6Xr+HejPyH15Z3HDas/xnul6/h3oz+g3sdbmoOnP4/5utE9/6U/j/m60T3/pT/XYLJ1VfykP7fEDOOcj7A/owsE4PSXrj9qL6G9hPaiP5qDF1Y/07E/a1zdQd8Kqj89NtsqJcqZPz022yolypk/5kSHAgz5vj/GqOFvU4yqP2tc3UHfCqo/KjtMXW5/wD9GksMtJgKnP0i//7GAFq4/7HL7gwyVrT9GksMtJgKnPz022yolypk/ai+hvYT2oj9GksMtJgKnP+TqDvpW0LA/0jI+9FRgtj9sXRU/hZKxP+pFv/+xgKY/RpLDLSYCpz+P+brRPf+lPzKttqPJfaU/ai+hvYT2oj+jCwTg9JeuP9RfenivdL0/bopRw9+muD8AWUALD6G2PyH15Z3HDas/ai+hvYT2oj/GqOFvU4yqP5+xi9c/b6A/ai+hvYT2oj9qL6G9hPaiPyDIqRlt+aM/YgD1Pt7SnD9qL6G9hPaiP2ovob2E9qI/ai+hvYT2oj+fsYvXP2+gPyH15Z3HDas/YgD1Pt7SnD9iAPU+3tKcP0aSwy0mAqc/ai+hvYT2oj/GqOFvU4yqPz022yolypk/xnul6/h3oz+fsYvXP2+gPwq1KA4Q2bM/pjl4YfUzvT+fsYvXP2+gP5+xi9c/b6A/N9sqJcoZtD/scvuDDJWtP8ao4W9TjKo/PTbbKiXKmT8=",
          "dtype": "f8"
         },
         "yaxis": "y"
        },
        {
         "customdata": {
          "bdata": "EFg5tOCu5UCkcD0KbCkDQdXnais9yg5BdZMYhF1DE0Foke18iYcWQWdEaW/SZRpB8fRK2dSaHUGutmK/UsggQYC3QMKlmSJBTRWMipl1JEHkFB1JbMYmQSv2lx2h+ChBNs07DlIcK0GCc0bUlIAtQQTnjOiuBS9BwcqhpU5iMEEOvjDZaxAxQVD8GDNhpjFB7Z48LDY+MkHgLZCAo9cyQR3J5f87bTNBhlrT3HEYNEHHuriNLvI0QXGsi1uzqTVBNxrA23soNkFaZDsf9Y42QXZPHla4LTdBArwFssjiN0Fa9bnayng4QXKKjqSP9jhBFR3JxeyiOUEW+8vOH1c6QWN/2T2u+TpBP1dbsdCkO0EZ4lgXfE88QQ==",
          "dtype": "f8",
          "shape": "35, 1"
         },
         "hovertemplate": "contig=KI915056<br>Genomic Position=%{x}<br>G123=%{y}<br>pos=%{customdata[0]}<extra></extra>",
         "legendgroup": "KI915056",
         "line": {
          "color": "lightblue",
          "dash": "solid"
         },
         "marker": {
          "size": 3,
          "symbol": "circle"
         },
         "mode": "lines",
         "name": "KI915056",
         "showlegend": true,
         "type": "scattergl",
         "x": {
          "bdata": "S8iHE8WkokERFH+ANKiiQW9fx7Qcq6JB/5A+1AutokF++zrqra6iQVc5tA6dsKJBLyrpjzeyokFs5zt4MrSiQWzFPssDtqJByhAHv9+3okHKocWRMLqiQascmsZivKJBgsCKd4a+okEpy1C66sCiQZwRZdRvwqJBS8jHwi7EokEx5i79isWiQa624ue2xqJB8/3UkebHokERpX1sGcmiQUdQfJ1EyqJBais2CZvLokEr9peCTs2iQQ6cM4y9zqJB6QQ0HbvPokF++7oPiNCiQVTBKJbF0aJBLZDgti/TokGg+DG7W9SiQcqhxURX1aJB7xYI/6/WokGrHBplGNiiQbQ3+IFd2aJBYzvfxrPaokF5NqsdCdyiQQ==",
          "dtype": "f8"
         },
         "xaxis": "x",
         "y": {
          "bdata": "n7GL1z9voD89NtsqJcqZP5+xi9c/b6A/X7z+eYNwxj8cmjWYbF21P97HW5qDF9Y/IMipGW35oz+fsYvXP2+gP5qDF1Y/07E//BRKRrQ+wD+fsYvXP2+gP2ovob2E9qI/VElcNoLquT9qL6G9hPaiP+lbQUMMR84/ZgEtPIRatD/BTTFq+Nu0P2ovob2E9qI/j/m60T3/pT/Ge6Xr+HejP8ao4W9TjKo/ai+hvYT2oj9qL6G9hPaiP3xB6ss7j6s/fDYpqg6s1z/5ExJJDrfIPyDIqRlt+aM/XHgItSgOsD+Ky0ZQPWO3P1ylRDmDIrc/bF0VP4WSsT8gyKkZbfmjP5+xi9c/b6A/xqjhb1OMqj/qRb//sYCmPw==",
          "dtype": "f8"
         },
         "yaxis": "y"
        },
        {
         "customdata": {
          "bdata": "aJHtfL8HyUALtaZ5h4vhQB04Z0RxBO9AysNCrftL90B8YTJVOIX9QMGopE7algRBsb/snnqKB0Hoaiv2gFwKQW40gLdx1gxBuycPC8V6EEFwzohSrYUSQRPyQc9bARRB3SQGAV3FFUHxY8zdf7gXQbU3+MKL1RlBQKTfvgYaHEHi6ZUyF1keQTSitLdwUiBBf9k9OV5RIUHGbTRARisiQef7qXHHFSNBPZtVX7hBJEGze/JwUHolQbyWkA/KQyZBbVZ9LlT0JkHKVMHoimsoQVK4HgUfZClBHhZqDVYZKkHQ1VZsmRgrQbaEfBChBSxB+1xtxSZrLUE9LNTagBouQc4ZURr00C5B2c73E0OYL0GBJsImLE4wQd5xig53xjBB3bWEnLZwMUHRItt5zvwxQfT91DgFZDJBNV66Cb+/MkEgY+56czMzQag1zbsTvzNBqMZLN2pANEEbL91ktbg0QV8py1D/UzVBvHST+BrLNUHKw0KtjFQ2QdBE2HBoyjZBJzEIDJduN0FqvHQTzOI3QTqSy9/EVzhBsb/s/hPGOEFeukkMaEs5QSzUmiYR4DlBd76fmmNjOkGC4sdYxPg6QYiFWvM0rDtB",
          "dtype": "f8",
          "shape": "57, 1"
         },
         "hovertemplate": "contig=KI915057<br>Genomic Position=%{x}<br>G123=%{y}<br>pos=%{customdata[0]}<extra></extra>",
         "legendgroup": "KI915057",
         "line": {
          "color": "steelblue",
          "dash": "solid"
         },
         "marker": {
          "size": 3,
          "symbol": "circle"
         },
         "mode": "lines",
         "name": "KI915057",
         "showlegend": true,
         "type": "scattergl",
         "x": {
          "bdata": "LyqpPG3cokHk0CLWId2iQe18v2T53aJB0d4gnfLeokHF3LXEud+iQaPfPtQu4aJBqfFSvOvhokFUweg9oOKiQYYWGbo+46JBDb4wgEbkokHgelT0S+WiQXLXkssJ5qJBi7krzOvmokGrHJpd5eeiQZWyjOPz6KJBS6YKIRbqokFugUSpNeuiQRvrYo5b7KJBUnTke1rtokHnautjNO6iQXXgHOUe76JBFIwK1krwokH1KBxug/GiQRDHuudM8qJBz7PZcf3yokHO95OodPSiQTFVsDxt9aJBj6C4cyL2okFPjRe3IfeiQf6yu74O+KJB1qNwRHT5okGlCoaeI/qiQZOHxRHa+qJBSC6/YKH7okHGuvh1pfyiQV1LyAuW/aJB5T/kiur+okG/7J66AgCjQXXgHCjRAKNBNau+m4gBo0E/E6EEcAKjQeTQIkWHA6NBBs4Z8okEo0HX8HSIegWjQczMTByxBqNBYl2cU58Ho0EBvAU3sgijQQPnjO6dCaNB20bDS+YKo0HyH9K1zgujQZ3Naqe4DKNB+A+pRZUNo0HuycPtnw6jQSFs+D/JD6NB9nXg5M8Qo0E+xlym+hGjQYTrkYdhE6NB",
          "dtype": "f8"
         },
         "xaxis": "x",
         "y": {
          "bdata": "YgD1Pt7SnD89NtsqJcqZP2IA9T7e0pw/n7GL1z9voD89NtsqJcqZP2IA9T7e0pw/PTbbKiXKmT89NtsqJcqZP2IA9T7e0pw/PTbbKiXKmT9qL6G9hPaiP+xy+4MMla0/YgD1Pt7SnD9qL6G9hPaiP5+xi9c/b6A/PTbbKiXKmT+fsYvXP2+gPz022yolypk/PTbbKiXKmT+fsYvXP2+gP2ovob2E9qI/PTbbKiXKmT9qL6G9hPaiP+pFv/+xgKY/EBDZE2uJqT8QENkTa4mpP0aSwy0mAqc/n7GL1z9voD89NtsqJcqZPz022yolypk/PTbbKiXKmT9iAPU+3tKcP5+xi9c/b6A/PTbbKiXKmT89NtsqJcqZPz022yolypk/YgD1Pt7SnD89NtsqJcqZP4/5utE9/6U/YgD1Pt7SnD89NtsqJcqZPz022yolypk/PTbbKiXKmT9iAPU+3tKcPz022yolypk/YgD1Pt7SnD9iAPU+3tKcP2IA9T7e0pw/PTbbKiXKmT9iAPU+3tKcP2ovob2E9qI/PTbbKiXKmT89NtsqJcqZPz022yolypk/PTbbKiXKmT89NtsqJcqZP2IA9T7e0pw/",
          "dtype": "f8"
         },
         "yaxis": "y"
        },
        {
         "customdata": {
          "bdata": "UkmdgL6U6EALRiV1CFr0QHlYqDVv4ftAW7G/7LklAkFos+pz3VUGQTj4wmQykQpBNe84RfoID0FfB84ZsoERQfT91PiJGRRBX5hMFbSTFkGRD3o2+08YQavP1Vb5HBtBPL1SFhikHUHZzvdTzs0fQZYhjrWRyiBBsHJoEVnlIUEhsHIoRPoiQUOtaV5TqyNBnu+nxmlrJEG8lpCPe2YlQWsr9tfSNiZBFvvLrub7JkHvOEWHd98nQbn8h3TwoyhBEHo26/2AKUEqOpIL+M4qQSBB8SP/pytBS1mGuLddLEGjkjqB7A4tQYEmwgbziC5B+n5qPGvjL0Hwp8ZL7YAwQYBIv70cCzFBmN2T5ySIMUE51sWtgwcyQTJVMGqYuDJBYTJV8AZZM0HpSC4/AOwzQXGsi5seaTRBAiuHltnyNEEUP8ZcgG41QQFNhC0s3TVBvJaQD2FFNkFWDi0Saq82QYlBYKVZLzdB6NmsmseyN0FsCfngJgs4QVInoCkqXDhBFvvLDiqoOEGcoiOZiPQ4Qb4wmaofVDlBdy0hH3CqOUET8kFvhxM6QQ==",
          "dtype": "f8",
          "shape": "53, 1"
         },
         "hovertemplate": "contig=KI915059<br>Genomic Position=%{x}<br>G123=%{y}<br>pos=%{customdata[0]}<extra></extra>",
         "legendgroup": "KI915059",
         "line": {
          "color": "lightblue",
          "dash": "solid"
         },
         "marker": {
          "size": 3,
          "symbol": "circle"
         },
         "mode": "lines",
         "name": "KI915059",
         "showlegend": true,
         "type": "scattergl",
         "x": {
          "bdata": "WfV50+oUo0EtkKDI7BWjQY+geLXdFqNBcBsN9uoXo0Ex5u7+9hijQUIcK9QFGqNBwDkjxiMbo0GI0p5gIhyjQQNWjkxuHaNB0JGcYaseo0GMKC2FiR+jQWxWPQTwIKNB4xSdkzMio0Fr57tuSCOjQaZ5RxksJKNB91Oj4EYlo0E0XrrLWyajQTFV8NoMJ6NBdJNY8cwno0EbfCEDyCijQa/haVqYKaNBf7dAbl0qo0G9MBn/QCujQYFzBngFLKNB/iF9heIso0G+fZ1/MC6jQcXctYYJL6NB3XFKP78vo0EXJhN0cDCjQautmHrqMaNBA1bO8kQzo0HUeCliYzSjQRVqDcF3NaNBPxNh0XE2o0Ewd+2OcDejQS5MZrjSOKNB6ZVylRM6o0EWSBCIOTujQd0CycQzPKNB2vm+Okc9o0ECeEuIPj6jQR707N8bP6NBsQyxSew/o0GhRbZbwECjQQes3DrAQaNBOEXHFsdCo0GX3VPVd0OjQdMr5dsZRKNBeoOv27FEo0HJMsSYSkWjQeUd58YJRqNB3y3QZ7ZGo0Fob3CWiEejQQ==",
          "dtype": "f8"
         },
         "xaxis": "x",
         "y": {
          "bdata": "PTbbKiXKmT89NtsqJcqZP2ovob2E9qI/EBDZE2uJqT8h9eWdxw2rPz022yolypk/YgD1Pt7SnD8QENkTa4mpP2IA9T7e0pw/j/m60T3/pT9qL6G9hPaiP5+xi9c/b6A/ai+hvYT2oj9iAPU+3tKcPyDIqRlt+aM/ai+hvYT2oj/XYLJ1VfykP2ovob2E9qI/kCb3VZgTrT9qL6G9hPaiP+xy+4MMla0/ai+hvYT2oj+fsYvXP2+gP4/5utE9/6U/n7GL1z9voD89NtsqJcqZP2ovob2E9qI/a1zdQd8Kqj9Iv/+xgBauP2IA9T7e0pw/ai+hvYT2oj/Ge6Xr+HejP+xy+4MMla0/j/m60T3/pT/scvuDDJWtP2IA9T7e0pw/EBDZE2uJqT9rXN1B3wqqP9IyPvRUYLY/xqjhb1OMqj94E3ZKO/O8PzfbKiXKGbQ/kycvUz6btD9sXRU/hZKxPyDIqRlt+aM/a1zdQd8Kqj8gyKkZbfmjP2xdFT+FkrE/SL//sYAWrj94E3ZKO/O8PwBZQAsPobY/EBDZE2uJqT/Ge6Xr+HejPw==",
          "dtype": "f8"
         },
         "yaxis": "y"
        },
        {
         "customdata": {
          "bdata": "ApoIG2bs0EDo2az6TuXwQB+F61FSbPhAIo51cZ0vAEFCPujZLLoDQZwzorRH/QdB/Yf02y7nCkGe76fGPl8PQfvL7smDwxFB0ZFcfqyNE0FWfa62oysVQdk9edjrJBdByjLEMfciGUHHKToSdMIaQZhuEoNwIR1BFD/GXKK6HkHFILDycjsgQSNKe4OyFiFBUdobPLvvIUGzDHHs964iQVwgQfE9kCNB+Q/pdx9/JEGL/WW3z5olQQkbnt62iCZBofgxJrJOJ0FKDAJroTAoQb4wmerIASlBkDF3bXrBKUEAb4GEIpsqQarx0s2ZkStBysNCLdVrLEEJih8jp3gtQVJJncA0Xy5BbAn5YAlEL0G62oq9AfsvQc07TvFiXDBB+aBn02+4MEFLWYY4gRsxQczuySO1hjFBO99P7eL3MUHarPp8vW4yQVg5tKhd3zJBSFD8ONo4M0GTOgGtzJ8zQSBj7jpjNTRBQmDlsCG2NEESg8AKiiE1QbprCRnJmzVBNjy9MtkbNkFDrWkewrM2QfvL7sm+MzdBOPjC5EzON0F2Tx62MlE4QZLLfwg78ThBescpetyXOUE=",
          "dtype": "f8",
          "shape": "55, 1"
         },
         "hovertemplate": "contig=KI915058<br>Genomic Position=%{x}<br>G123=%{y}<br>pos=%{customdata[0]}<extra></extra>",
         "legendgroup": "KI915058",
         "line": {
          "color": "steelblue",
          "dash": "solid"
         },
         "marker": {
          "size": 3,
          "symbol": "circle"
         },
         "mode": "lines",
         "name": "KI915058",
         "showlegend": true,
         "type": "scattergl",
         "x": {
          "bdata": "rUeh+Q9Io0EDxU9ApUmjQdmsuiCWSqNBzMzMfZRLo0F46aYhd0yjQfWXXeiHTaNBimwnYkJOo0FkGSJmYE+jQc5mVVhqUKNBsZ2vbE9Ro0GnxktoHlKjQQesXAwbU6NBgVEJEhpUo0F9jHnQ6VSjQZ/4sU4ZVqNBiNKe5+VWo0GJH2MJxFejQbLq80ifWKNBQousUXhZo0F14FyON1qjQYiwYdQYW6NBeFjotQdco0Fm1SdmI12jQYMNT00RXqNBYaGWSNdeo0F0cds3uV+jQZkIW1+KYKNBmubdEEpho0HX8PS4I2KjQVpCPjAaY6NBLLKda/Rjo0HyjpM9AWWjQbEMMcvnZaNBcWjRn8xmo0FD+i2Yg2ejQeALU1xBaKNBqj4Xdvloo0EbfOGYv2mjQUYDuACWaqNBJg9LXHhro0HCZGoRZmyjQdvXwVFHbaNBCWjiSvpto0HdccovyG6jQS5M5lzzb6NBKTrS2fRwo0Fu8IWqy3GjQT+CoijAcqNB4OnVSMBzo0HDQq0a8HSjQQBNBBTwdaNBWPU5MCV3o0EHrNz7KnijQf9ugQxreaNB98JkT7h6o0E=",
          "dtype": "f8"
         },
         "xaxis": "x",
         "y": {
          "bdata": "PTbbKiXKmT9qL6G9hPaiP2tc3UHfCqo/YgD1Pt7SnD89NtsqJcqZP5+xi9c/b6A/n7GL1z9voD89NtsqJcqZP2ovob2E9qI/j/m60T3/pT+fsYvXP2+gP5+xi9c/b6A/ai+hvYT2oj89NtsqJcqZPz022yolypk/YgD1Pt7SnD9iAPU+3tKcP5+xi9c/b6A/n7GL1z9voD+fsYvXP2+gP2IA9T7e0pw/PTbbKiXKmT9iAPU+3tKcP2ovob2E9qI/PTbbKiXKmT+fsYvXP2+gPz022yolypk/n7GL1z9voD89NtsqJcqZP2IA9T7e0pw/PTbbKiXKmT9iAPU+3tKcP5+xi9c/b6A/PTbbKiXKmT+fsYvXP2+gP4/5utE9/6U/6kW//7GApj9qL6G9hPaiP4/5utE9/6U/YgD1Pt7SnD9qL6G9hPaiP2ovob2E9qI/j/m60T3/pT9iAPU+3tKcPz022yolypk/ai+hvYT2oj9qL6G9hPaiP5+xi9c/b6A/YgD1Pt7SnD+fsYvXP2+gP+xy+4MMla0/YgD1Pt7SnD+fsYvXP2+gPz022yolypk/PTbbKiXKmT8=",
          "dtype": "f8"
         },
         "yaxis": "y"
        },
        {
         "customdata": {
          "bdata": "yAc9m+Wt5EAu/yH9Sln2QKAaL92SBv5AMnctIfA3AUHPZtXnB9cDQXGsi9sVoQZBtoR80LCTCUEnwoanc7oMQbsnDwvHzA9B4QuTKdjKEUGXkA/6QLATQT81XjqhCxZBj+Tyn78jGEGOBvAWOw0aQZf/kP5p0xtB5q4lZJrrHUFZF7dRZXEfQbx0k9hJhyBBCfmgZ8KoIUGWIY71q4EiQcPTK6X8JyNBkzoBzSzHI0GX/5A+6mQkQRsN4G2aAiVBmEwVTHCrJUGppE7ArZMmQTvfT41AeydBBFYOLRRUKEGDL0zmyAMpQetztRW8nylBlIeFWp5jKkEIPZsVwjYrQc4ZUVqz9CtBB84ZEbipLEE+eVio5zotQXnpJnEjDC5B6Gor9gMaL0GWsgyRpiswQWiz6jNXqTBBqz5Xm4/9MEGqYFQSBWkxQY4G8NbaBjJBkQ96FjSBMkF7FK6H7vIyQcIXJpPmgDNBYTJVcNgHNEHnjCjtnL80QUCk3/6OVTVB4umV0t7CNUHiWBfXDCY2QWIQWPkZ0TZB1xLywdxEN0EqOpLrma83QdV46ea8HzhBJ8KGZyyPOEE=",
          "dtype": "f8",
          "shape": "55, 1"
         },
         "hovertemplate": "contig=KI915060<br>Genomic Position=%{x}<br>G123=%{y}<br>pos=%{customdata[0]}<extra></extra>",
         "legendgroup": "KI915060",
         "line": {
          "color": "lightblue",
          "dash": "solid"
         },
         "marker": {
          "size": 3,
          "symbol": "circle"
         },
         "mode": "lines",
         "name": "KI915060",
         "showlegend": true,
         "type": "scattergl",
         "x": {
          "bdata": "x3a+LQN8o0E3Z8R4g32jQdpowCF5fqNBVQ5tSwZ/o0FRuF4Rrn+jQeKl25RggKNBGOKYOx2Bo0GopE7s5oGjQcGGJ4GrgqNBfYx5u52Do0G/yuFvkISjQRLyASC+haNBabw0L8qGo0H6OvDsvoejQXcLZASiiKNBztWWHK6Jo0GDng0CcYqjQWxWPZk/i6NB8GPMEWGMo0EZUVr7OY2jQcvuCUzgjaNBMsQxfH+Oo0H3U6M5HY+jQQSj0um6j6NBRNiwv2OQo0GcESX9S5GjQdYS8o8zkqNBTdGRYwyTo0EnD0sYvJOjQWt4egtYlKNBf0i/7RuVo0E0XnoR75WjQREUvwKtlqNBxdx1B2KXo0FwGw0385ejQeDp1XLEmKNBYu5aU9KZo0Fc3IacD5ujQV6YzP0KnKNBdHGbbrOco0G4a4lZip2jQQSjEgXGnqNBFreRt7qfo0EgH3QsnqCjQScPixy6oaNBXG1FAMiio0ERFD+JN6SjQUCCYm1jpaNBy+4JDT6mo0Gp8RJpBKejQRhzV4NaqKNBHafoCEKpo0Fr5zuDF6qjQemVMsn3qqNBe9AzqNaro0E=",
          "dtype": "f8"
         },
         "xaxis": "x",
         "y": {
          "bdata": "PTbbKiXKmT9iAPU+3tKcP5+xi9c/b6A/QDcTKMtRsT/Ge6Xr+HejP+pFv/+xgKY/ai+hvYT2oj+fsYvXP2+gPxAQ2RNriak/YgD1Pt7SnD9qL6G9hPaiP5+xi9c/b6A/6kW//7GApj+P+brRPf+lP2IA9T7e0pw/n7GL1z9voD+P+brRPf+lPxAQ2RNriak/RpLDLSYCpz/scvuDDJWtP5+xi9c/b6A/n7GL1z9voD+fsYvXP2+gP0aSwy0mAqc/ai+hvYT2oj89NtsqJcqZP2IA9T7e0pw/YgD1Pt7SnD89NtsqJcqZP2IA9T7e0pw/n7GL1z9voD+fsYvXP2+gPz022yolypk//lcIDmkZrz8QENkTa4mpPz022yolypk/YgD1Pt7SnD89NtsqJcqZP+py+4MMla0/xqjhb1OMqj+fsYvXP2+gP2IA9T7e0pw/ai+hvYT2oj9qL6G9hPaiPz022yolypk/PTbbKiXKmT9iAPU+3tKcP2IA9T7e0pw/ai+hvYT2oj9iAPU+3tKcP2ovob2E9qI/PTbbKiXKmT9iAPU+3tKcPz022yolypk/ai+hvYT2oj8=",
          "dtype": "f8"
         },
         "yaxis": "y"
        },
        {
         "customdata": {
          "bdata": "mSoYlUQR0EB24JwRlSXrQOhqK/YHTfZAKe0NvkLQ/0D3deCcHsMEQWPuWkLceglBMCqpE6d9D0E6ksv/BgsSQcRCrWk7LRRBAAAAAOFhFkFkzF1L6z0ZQe58P7UODh1BFD/GXJzhHkEFxY+xt7EgQZYhjvUbFiJBtoR8EKA0I0ExmSoYMXAkQaVOQFMYoyVBVHQkV+WwJ0F6pSwDI3ooQX3Qs1lwSilBHHxh8h8cKkHrc7XVV88rQQWjkjrxnyxBVp+rLQdrLUGTqYIRBWouQT9XW5GICzBBlIeFOgWeMEHVeOlmbkwxQef7qdHTxDFBmpmZmRRMMkH7OnBuQPwyQWdEaY9YezNB46WbpNn0M0FrK/YX9nw0QTqSy7/8ATVBkQ969sCENUEnwoYn7Pg1QZ7vp2YhdTZBwoanF1fXNkGLbOe7aTI3QQ==",
          "dtype": "f8",
          "shape": "41, 1"
         },
         "hovertemplate": "contig=KI915061<br>Genomic Position=%{x}<br>G123=%{y}<br>pos=%{customdata[0]}<extra></extra>",
         "legendgroup": "KI915061",
         "line": {
          "color": "steelblue",
          "dash": "solid"
         },
         "marker": {
          "size": 3,
          "symbol": "circle"
         },
         "mode": "lines",
         "name": "KI915061",
         "showlegend": true,
         "type": "scattergl",
         "x": {
          "bdata": "PHlYMleso0FJ6oQBia2jQeiVMkmgrqNBOZKLsNCvo0GYCNtvB7GjQTdnRF81sqNBxrr4Ebazo0FEtrMr3LSjQRyn6EXttaNBe9CzmAe3o0Fhf9mddbijQTlwjq9duqNBmzNidke7o0FAYOVfiLyjQZ1eKcTsvaNBAE1ESAu/o0EU+0vZRsCjQcoQh8B5waNB7/SKjYfDo0Eg/TbLUMSjQUuEjRghxaNB9zEmyPLFo0HvhQkApsejQR5jbpl2yKNBGnxhr0HJo0ElU0WtQMqjQSmHVrnty6NBituoshLNo0FtowGFb86jQXMk109gz6NBrgNn0W7Qo0HxsBApz9GjQQSjUlnN0qNBxwd9W8DTo0HSvGOU0NSjQZ9ns6Ha1aNBmsQgKuDWo0H/3YKAyNejQVogAevA2KNBiR9jVoXZo0FUn6t7O9qjQQ==",
          "dtype": "f8"
         },
         "xaxis": "x",
         "y": {
          "bdata": "xnul6/h3oz/Ge6Xr+HejPz022yolypk/PTbbKiXKmT9qL6G9hPaiP2IA9T7e0pw/j/m60T3/pT8SERERERGxP4/5utE9/6U/n7GL1z9voD/Ge6Xr+HejP1RJXDaC6rk/ai+hvYT2oj98QerLO4+rP0i//7GAFq4/CrUoDhDZsz9SSVw2guq5P9yOJvdVmLM/ZgEtPIRatD9Iv/+xgBauPxInk1Rr18g/7HL7gwyVrT/sczOBshy1P9uOJvdVmLM/YgD1Pt7SnD+fsYvXP2+gP2IA9T7e0pw/PTbbKiXKmT+TJy9TPpu0P+IAkT2xlsg/PTbbKiXKmT/qRb//sYCmP5+xi9c/b6A/6kW//7GApj/lAck6Vx7AP2IA9T7e0pw/YwEtPIRatD/UX3p4r3S9PyQjWh/Iqbk/CrUoDhDZsz+agxdWP9OxPw==",
          "dtype": "f8"
         },
         "yaxis": "y"
        },
        {
         "customdata": {
          "bdata": "OdbFbbQe2UBlGeJYuXbyQFioNc35JftA2PD0SkEtAUGxUGuaAdwFQWPuWkLszQtBTx4W6nAiEEHmP6RfWrQSQXrHKbrbrRRBCD2b1VJqFkGe76fGPPwYQURpb3DI4BpB2IFzxu99HUHFjzE3AycgQfXb1wHfNiFB3GgAL+tCIkFbsb/smcYjQQCRfnsP7iRBsVBrmiX0JUHXo3C9TBInQZvmHSdR4CdB0SLbOQrxKEEJih8jHiMqQRBYOfT7LStBldQJKEc5LEHP91NjLzMtQXzysBCvgy5Br5RliDt7L0GlTkCzfGAwQdQrZdkPADFB8fRKuVCCMUGL/WW3KvgxQd9PjZdcYjJBMuauRaUPM0Er9pe97Z8zQXGsi3spEjRBHHxhkn2LNEGxUGsawhA1QQ==",
          "dtype": "f8",
          "shape": "38, 1"
         },
         "hovertemplate": "contig=KI915063<br>Genomic Position=%{x}<br>G123=%{y}<br>pos=%{customdata[0]}<extra></extra>",
         "legendgroup": "KI915063",
         "line": {
          "color": "lightblue",
          "dash": "solid"
         },
         "marker": {
          "size": 3,
          "symbol": "circle"
         },
         "mode": "lines",
         "name": "KI915063",
         "showlegend": true,
         "type": "scattergl",
         "x": {
          "bdata": "gw1PcQTbo0GXu9ZSityjQQlG5Tqg3aNBkFz+y4beo0EoOhJ8st+jQRA2vPYu4aNBY6ogtEzio0F0cduoleOjQTi0iGmS5KNB82wWpXDlo0FM8w6aueajQQnX49+r56NBFdmOc/roo0Hk0OJ+YuqjQTB3rVpy66NBvZ/aZn7so0EFX5gVAu6jQeUdJ4sp76NBpQpGoS/wo0H4D2nITfGjQTu90swb8qNBd3rlhSzzo0Hevs6ZXvSjQazYn3dp9aNBKanTwnT2o0FM8w6rbvejQUZQvCq/+KNB6QQ0t7b5o0HxHxJ1/PqjQaxpXps7/KNBPjUeHUD9o0FPaxrRK/6jQfS52jQA/6NBIP02xloApEFAzyZXewGkQa22os5fAqRBTGLQdlIDpEH1deD/XASkQQ==",
          "dtype": "f8"
         },
         "xaxis": "x",
         "y": {
          "bdata": "YgD1Pt7SnD9qL6G9hPaiPwBZQAsPobY/YgD1Pt7SnD8uf0IiyeG2P+pFv/+xgKY/n7GL1z9voD+fsYvXP2+gP8ao4W9TjKo/Ln9CIsnhtj/Ge6Xr+HejP+xy+4MMla0/iZ4KzOJOsD/scvuDDJWtP4/5utE9/6U/6kW//7GApj+P+brRPf+lP5+xi9c/b6A/j/m60T3/pT/scvuDDJWtP5+xi9c/b6A/SL//sYAWrj/JqRlt+ROyPz022yolypk/PTbbKiXKmT89NtsqJcqZP4/5utE9/6U/YgD1Pt7SnD89NtsqJcqZP5+xi9c/b6A/ZAEtPIRatD+fsYvXP2+gP2ovob2E9qI/n7GL1z9voD+P+brRPf+lPz022yolypk/YgD1Pt7SnD9iAPU+3tKcPw==",
          "dtype": "f8"
         },
         "yaxis": "y"
        },
        {
         "customdata": {
          "bdata": "SnuDL5DN+UBd/kP6vyMFQbhAguK6rgtBLUMc64zSEUFz1xLyzVEVQcZtNIAu9hdBeHqlLEP+GkECvAUSwlMfQZ7vpwZd5CBBuY0GcCOAIkGQMXft1j4kQeoENJG/pSZBsp3vpwlRKEFQ/BhzvNgpQQpoIiyjYyxBdy0hX72CLkG4QILi+ywwQXicomPSQTFByjLEEavuMUG8dJPYXn8yQXbgnDHHCTNBnzws1NbBM0ESg8Dq3qo0QQ==",
          "dtype": "f8",
          "shape": "23, 1"
         },
         "hovertemplate": "contig=KI915062<br>Genomic Position=%{x}<br>G123=%{y}<br>pos=%{customdata[0]}<extra></extra>",
         "legendgroup": "KI915062",
         "line": {
          "color": "steelblue",
          "dash": "solid"
         },
         "marker": {
          "size": 3,
          "symbol": "circle"
         },
         "mode": "lines",
         "name": "KI915062",
         "showlegend": true,
         "type": "scattergl",
         "x": {
          "bdata": "ZGbmsZYHpEH1Bt/vpQmkQYUWma5IC6RBFwRWRkYNpEFhf9nmBQ+kQSyQIBdYEKRBssh2IdwRpEHTeOngBhSkQeUd51xBFaRBg3xQI90WpEEn7c3WmxikQfqpcb8CG6RBk2WICa4cpEHxjlO8NR6kQV2YDKPAIKRBIpc/vd8ipEF2eqX3tiSkQS67p6TgJqRBW/4DVjoopEHenJG9WymkQbavQ45wKqRBbs6IreArpEH79rW9si2kQQ==",
          "dtype": "f8"
         },
         "xaxis": "x",
         "y": {
          "bdata": "YgD1Pt7SnD9iAPU+3tKcP4/5utE9/6U/j/m60T3/pT89NtsqJcqZP3wUrkfheqQ/j/m60T3/pT8KtSgOENmzPz022yolypk/n7GL1z9voD+P+brRPf+lP5+xi9c/b6A/PTbbKiXKmT+wlWBk9mu6P2IA9T7e0pw/oN7HW5qDpz9iAPU+3tKcP2ovob2E9qI/gG9eTTwruj/+VwgOaRmvP/bPG4SzVLI/0jI+9FRgtj8QENkTa4mpPw==",
          "dtype": "f8"
         },
         "yaxis": "y"
        },
        {
         "customdata": {
          "bdata": "aCJseDoa2kCFfNCzuQzuQAK8BRJchfZA2qz6XI9w/UDcRgN4SQsFQS6QoPirIQpBnDOitP4iDUHnHafo6w0QQbdif1mKmhFB0NVW7Lr8EkFq3nEKeH0UQQ6+MJmncBZBVg4tsmv8F0Gk374OFYQZQTC7J485DBtB/fZ14AmTHEFyio5kkBYeQeLplTLD0h9B63O11R4iIUEFNBE25lgiQZhMFQxwjiNBorQ3+LN8JEFqvHTTjHglQWQ730/KiSZBBaOSer9tJ0FKe4Pv+EkoQdzXgbP1MylBKe0N/rsMKkEv3SQGLAsrQXnpJnFY8StBQfFjzKvMLEEHzhkRGLQtQecdp6g5rC5BlrIMsXC0L0GoNc1b2VAwQQdfmGw31jBBQBNhoyJVMUEkKH4sW+wxQfaX3XPJtDJBsAPnzNRpM0HUK2XZM1s0QQ==",
          "dtype": "f8",
          "shape": "41, 1"
         },
         "hovertemplate": "contig=KI915064<br>Genomic Position=%{x}<br>G123=%{y}<br>pos=%{customdata[0]}<extra></extra>",
         "legendgroup": "KI915064",
         "line": {
          "color": "lightblue",
          "dash": "solid"
         },
         "marker": {
          "size": 3,
          "symbol": "circle"
         },
         "mode": "lines",
         "name": "KI915064",
         "showlegend": true,
         "type": "scattergl",
         "x": {
          "bdata": "XLqJj4MupEEDNFGJky+kQbM3OGmDMKRBUZahz2AxpEHN9xOQ9TKkQR8ftCg7NKRBiB9jffs0pEGKSqqzuTWkQay24gKANqRBZiIsGzE3pEHqL7t58TekQVqPghHrOKRBgg2P87A5pEFrVj3IdDqkQdmKfdo4O6RB9jGmQvw7pEFAPugFvjykQfBBTx+cPaRBb6yL3NQ+pEEvCOyjC0CkQUgMwi1BQaRBsC6ucS9CpEG3a4lKK0OkQTbWBYg8RKRBnokwfSBFpEF2eqW2/EWkQdN4abPmRqRB6AS0eb9HpEHYG7zpvUikQeQdJxakSaRB7FqCaX9KpEHJEMfVZkukQRmeXvdeTKRBrgNnLmdNpEFmkW1wVE6kQbknjyxfT6RBIrn8Al1QpEFL8w50i1GkQSuynVAcU6RBAsVPZ4ZUpEFTwWglaVakQQ==",
          "dtype": "f8"
         },
         "xaxis": "x",
         "y": {
          "bdata": "ai+hvYT2oj94E3ZKO/O8P5+xi9c/b6A/RpLDLSYCpz9rXN1B3wqqP9dgsnVV/KQ/oN7HW5qDpz9GksMtJgKnP4/5utE9/6U/moMXVj/TsT/Ge6Xr+HejPyDIqRlt+aM/bV0VP4WSsT9iAPU+3tKcP2ovob2E9qI/n7GL1z9voD9GksMtJgKnP3wUrkfheqQ/fBSuR+F6pD98FK5H4XqkP9iN7vmvEKw/xnul6/h3oz+P+brRPf+lPyDIqRlt+aM/WqQMPN2arz9Iv/+xgBauPyH15Z3HDas/a1zdQd8Kqj9qL6G9hPaiP0aSwy0mAqc/ai+hvYT2oj9ceAi1KA6wP2tc3UHfCqo/RpLDLSYCpz8uf0IiyeG2PzXa8ickkqw/EBDZE2uJqT9Iv/+xgBauP2IA9T7e0pw/j/m60T3/pT/Ge6Xr+HejPw==",
          "dtype": "f8"
         },
         "yaxis": "y"
        },
        {
         "customdata": {
          "bdata": "EhQ/xvDm5kAldQKaRCv/QBrAWyCEIAZBhetRuCzLDEGSXP5DUu4QQcGopE7naBRBHOvitqfgF0GV1AnoebEaQfRsVv1OOB1BtaZ5B+fbIEE3iUHgP2ckQQKaCJtojCZBB/AWyP3gJ0HXEvJBaXUpQeM2GgBLCitBKxiVFNZvLEFvgQQFpI4vQQKaCLsWVTFB3nGKTiDYM0E=",
          "dtype": "f8",
          "shape": "19, 1"
         },
         "hovertemplate": "contig=KI915065<br>Genomic Position=%{x}<br>G123=%{y}<br>pos=%{customdata[0]}<extra></extra>",
         "legendgroup": "KI915065",
         "line": {
          "color": "steelblue",
          "dash": "solid"
         },
         "marker": {
          "size": 3,
          "symbol": "circle"
         },
         "mode": "lines",
         "name": "KI915065",
         "showlegend": true,
         "type": "scattergl",
         "x": {
          "bdata": "RCV1lNdXpEGiAfyNTlqkQUPYcEbxW6RBztWW8JtdpEGBwIpO4F6kQacTEJmdYKRByTJEeVlipEE9xlziwWOkQYls50wFZaRB+jpwDEVnpEHcAkll0GqkQe3JA471bKRBQ9gwI0pupEFms6qO3m+kQYrbaHBzcaRBa1Z9+9hypEHUxW3J93WkQYfS3lITeaRBN9YFZhl+pEE=",
          "dtype": "f8"
         },
         "xaxis": "x",
         "y": {
          "bdata": "6kW//7GApj8sf0IiyeG2P+LTVLlWgsE/Qk7NaMufwD+P+brRPf+lP6xGqX1uJtA/CeJkkmrtuj8qRg1/m2LUP4rLRlA9Y7c/owsE4PSXrj9iAPU+3tKcPwviZJJq7bo/uTU/LFIGzj/sczOBshy1P+U5xuDeFds/5QHJOlcewD8QENkTa4mpP+pFv/+xgKY/PTbbKiXKmT8=",
          "dtype": "f8"
         },
         "yaxis": "y"
        },
        {
         "customdata": {
          "bdata": "nDOitL9iAkGxv+yecqkHQSlcj8LBPgxBrBxaZDKKD0HZX3ZPSpYRQQAAAIBE7xNBAG+BBPH6FUGKsOFp0NUYQUVHcnklphpBUrgeBcy1HkEQWDl01GogQXuDL8xUzyFB48eYe+zwIkE0orT37M8jQZZDi6xptyRBjnVxW/yLJUGPwvVoc1gmQQ1xrAv4FidB9dvXQYkMKEEaUdqbBQUqQY9TdOQU1ypBT6+UpV7RK0GU9gafE/0sQYts5zs1JC5BZMxdC5LIL0H0/dSY/WwwQT81XjqqQjFB1xLyoe/gMUFtVn1udG4yQciYu/YKTDNB",
          "dtype": "f8",
          "shape": "30, 1"
         },
         "hovertemplate": "contig=KI915066<br>Genomic Position=%{x}<br>G123=%{y}<br>pos=%{customdata[0]}<extra></extra>",
         "legendgroup": "KI915066",
         "line": {
          "color": "lightblue",
          "dash": "solid"
         },
         "marker": {
          "size": 3,
          "symbol": "circle"
         },
         "mode": "lines",
         "name": "KI915066",
         "showlegend": true,
         "type": "scattergl",
         "x": {
          "bdata": "xP7yFbKCpEFnka3CA4SkQQ56dhYphaRBvuye8vuFpEFnkS2L5IakQTfWRQgRiKRB7haI3haJpEEPxzpOhIqkQVuPwnhsi6RBk2UITHSNpEGPD3o6hI6kQboF0rroj6RB/26BUgqRpEHZiv1S6ZGkQXthss/QkqRBrUdhYqWTpEH6y27ZcZSkQaiCEV4wlaRBE65H7yWWpEGIsKFrHpikQYtK6nrwmKRB5mqrxOqZpEEu3aR5FpukQaS9QZs9nKRBAzQR+OGdpEEzgDdh856kQaGSerqeoKRBXbpJRduhpEHk0OJO9qKkQWlN83uxpKRB",
          "dtype": "f8"
         },
         "xaxis": "x",
         "y": {
          "bdata": "PTbbKiXKmT9qL6G9hPaiP2ovob2E9qI/bV0VP4WSsT/Ge6Xr+HejP2tc3UHfCqo/PTbbKiXKmT/Ge6Xr+HejPxAQ2RNriak/PTbbKiXKmT9GksMtJgKnP0i//7GAFq4/ai+hvYT2oj9sXRU/hZKxP2IA9T7e0pw/bF0VP4WSsT9qL6G9hPaiPzXbKiXKGbQ/owsE4PSXrj8gyKkZbfmjPyYjWh/Iqbk/PTbbKiXKmT8SERERERGxPxIREREREbE//lcIDmkZrz+g3sdbmoOnP4/5utE9/6U/n7GL1z9voD+jCwTg9JeuP0i//7GAFq4/",
          "dtype": "f8"
         },
         "yaxis": "y"
        },
        {
         "customdata": {
          "bdata": "PnlYqJ2K20A9LNSa0iHxQOauJeSfLflA5x2n6FuvAEGze/Kwr7UFQWEyVTAoMgtBDAIrhxKHD0H0bFZ9Cp4RQbHh6ZXMhhNBuK8D53naFUFbQj7oPtQXQQFNhI1hMBlBUrgehcNdG0Ei/fZ1TvEdQcDsnrwyNSBBmbuW0EE1IUHl8h/SLkwiQT0s1NrEYSNBRPrtq5pNJEHc14GzU08lQXctIV80ZCZBN4lBoNyWJ0HHSzcJhZUoQT2bVV+3iClByJi7VipkKkEkufyHOiUrQYEmwkY14itBFmpNsyGdLEEYldSJTVYtQQ==",
          "dtype": "f8",
          "shape": "29, 1"
         },
         "hovertemplate": "contig=KI915067<br>Genomic Position=%{x}<br>G123=%{y}<br>pos=%{customdata[0]}<extra></extra>",
         "legendgroup": "KI915067",
         "line": {
          "color": "steelblue",
          "dash": "solid"
         },
         "marker": {
          "size": 3,
          "symbol": "circle"
         },
         "mode": "lines",
         "name": "KI915067",
         "showlegend": true,
         "type": "scattergl",
         "x": {
          "bdata": "LZDg0I2lpEHvp0a21aakQR/S7y/Xp6RBMHftUt2opEEIit/nHqqkQbZi/wV+q6RBKhiVQJOspEGf+DGBgK2kQVpCPuJ0rqRBQc/muJ6vpEGKbGebm7CkQZAPuqxJsaRBxdy1XWCypEHoSC4jqrOkQVbsr67mtKRBJeTDvea1pEFcbcWq/bakQZUhzkATuKRBYzufFv+4pEFBz6bPALqkQZZuUrAVu6RB8o6TWEi8pEG1hPwAR72kQQSjUjM6vqRBAglKphW/pEEiSnu21r+kQZAPOrGTwKRB05qmnU7BpEH+IX3JB8KkQQ==",
          "dtype": "f8"
         },
         "xaxis": "x",
         "y": {
          "bdata": "PTbbKiXKmT89NtsqJcqZPz022yolypk/EBDZE2uJqT89NtsqJcqZP2IA9T7e0pw/YgD1Pt7SnD9iAPU+3tKcPz022yolypk/PTbbKiXKmT+fsYvXP2+gPz022yolypk/YgD1Pt7SnD89NtsqJcqZP5+xi9c/b6A/YgD1Pt7SnD9iAPU+3tKcP2IA9T7e0pw/YgD1Pt7SnD/Ge6Xr+HejPz022yolypk/YgD1Pt7SnD+fsYvXP2+gP5+xi9c/b6A/PTbbKiXKmT9iAPU+3tKcP2IA9T7e0pw/n7GL1z9voD89NtsqJcqZPw==",
          "dtype": "f8"
         },
         "yaxis": "y"
        },
        {
         "customdata": {
          "bdata": "WDm0yKox6kCq8dJNDFz1QFwgQfF9+PxAfT81XgbVAkFNhA1PxnEIQR1aZDsfhQ1B24r9ZVhBEUFvEoNAgn8TQaAaL909UBVByAc9m5jdF0H8GHNX0PAZQSbkg56bnRxBbVZ9rl8CH0FnRGmvfJwgQZ88LJTeuSFB/tR4KTcaI0FcIEFxlAgkQdzXgTNq5CRB6Uguf1DVJUEvbqMBFcImQe/JwwK0zSdB",
          "dtype": "f8",
          "shape": "21, 1"
         },
         "hovertemplate": "contig=KI915068<br>Genomic Position=%{x}<br>G123=%{y}<br>pos=%{customdata[0]}<extra></extra>",
         "legendgroup": "KI915068",
         "line": {
          "color": "lightblue",
          "dash": "solid"
         },
         "marker": {
          "size": 3,
          "symbol": "circle"
         },
         "mode": "lines",
         "name": "KI915068",
         "showlegend": true,
         "type": "scattergl",
         "x": {
          "bdata": "Qq0p5KrDpEFc3AZLs8SkQSJKO9mmxaRBTq8UC73GpEFf5RA7JMikQRX7SxFpyaRBwyCwdajKpEGHY52Kx8ukQYu5a+ivzKRBgsDKlfbNpEGK26gxAM+kQfBjTJdW0KRBqWBU+YjRpEFCiyxGpNKkQTtOEajB06RB05qmACLVpEEeY+5dENakQdajsDPs1qRBR1D8Gd3XpEFsxX7eydikQcjlf33V2aRB",
          "dtype": "f8"
         },
         "xaxis": "x",
         "y": {
          "bdata": "PTbbKiXKmT9sXRU/hZKxP8ao4W9TjKo/n7GL1z9voD+fsYvXP2+gP5+xi9c/b6A/ai+hvYT2oj8h9eWdxw2rP/bPG4SzVLI/YgD1Pt7SnD98QerLO4+rP2ovob2E9qI/ai+hvYT2oj98QerLO4+rP/wqzIkOBag/xnul6/h3oz98FK5H4XqkP2IA9T7e0pw/EBDZE2uJqT832yolyhm0P+xy+4MMla0/",
          "dtype": "f8"
         },
         "yaxis": "y"
        },
        {
         "customdata": {
          "bdata": "VFInoE1v+UAmUwWjYBcCQWWqYFSMQwZBRIts5//nCUHV52or1igOQXZPHhZ57hBBjNtoADmeEkFbQj7o5FsUQcWPMXfiPBZBNjy9UhU2GUHgvg4cmdIbQbyWkI81Oh5B+FPj5ZcyIEE=",
          "dtype": "f8",
          "shape": "13, 1"
         },
         "hovertemplate": "contig=KI915069<br>Genomic Position=%{x}<br>G123=%{y}<br>pos=%{customdata[0]}<extra></extra>",
         "legendgroup": "KI915069",
         "line": {
          "color": "steelblue",
          "dash": "solid"
         },
         "marker": {
          "size": 3,
          "symbol": "circle"
         },
         "mode": "lines",
         "name": "KI915069",
         "showlegend": true,
         "type": "scattergl",
         "x": {
          "bdata": "suozZwPdpEEdp6hVW96kQfP9lGBm36RB68B5fU/gpEGCwAqzX+GkQfD0CrpM4qRBNhoAmiTjpEHpBPRvA+SkQZB+u+7z5KRBZkQpiHDmpEEn7Q3KvuekQROuR5jy6KRBHMllFQjqpEE=",
          "dtype": "f8"
         },
         "xaxis": "x",
         "y": {
          "bdata": "YgD1Pt7SnD9sXRU/hZKxP+pFv/+xgKY/YgD1Pt7SnD9qL6G9hPaiP0aSwy0mAqc/PTbbKiXKmT9iAPU+3tKcPz83EyjLUbE/YgD1Pt7SnD8SERERERGxP5+xi9c/b6A/j/m60T3/pT8=",
          "dtype": "f8"
         },
         "yaxis": "y"
        },
        {
         "customdata": {
          "bdata": "SFD8GI2I/kDkFB3JZmYDQbAD54zcwQdB5x2n6M3nDUHl8h/SKRsRQa1p3nGWIxNBgy9MJhLzFEG8BRKUI90WQWUZ4lhI8BhB",
          "dtype": "f8",
          "shape": "9, 1"
         },
         "hovertemplate": "contig=KI915070<br>Genomic Position=%{x}<br>G123=%{y}<br>pos=%{customdata[0]}<extra></extra>",
         "legendgroup": "KI915070",
         "line": {
          "color": "lightblue",
          "dash": "solid"
         },
         "marker": {
          "size": 3,
          "symbol": "circle"
         },
         "mode": "lines",
         "name": "KI915070",
         "showlegend": true,
         "type": "scattergl",
         "x": {
          "bdata": "pugIJ9ntpEFhEBiv4e6kQd0CiYz476RB4/LfCILxpEEV2U6qlfKkQVG4nuCZ86RBNO94noH0pEEf0i+ndvWkQSk6kjmA9qRB",
          "dtype": "f8"
         },
         "xaxis": "x",
         "y": {
          "bdata": "PTbbKiXKmT9sXRU/hZKxP6Dex1uag6c/6kW//7GApj8gyKkZbfmjP+pFv/+xgKY/EBDZE2uJqT+fsYvXP2+gP8Z7pev4d6M/",
          "dtype": "f8"
         },
         "yaxis": "y"
        },
        {
         "customdata": {
          "bdata": "vJaQD4oL0kAB3gIJ2mDmQFkXt9HMfvFAmnecosUm+EBPr5RlNKv/QArXo3DOWQNBqoJRSVDgBkGuR+F6HeEKQVwgQfHKRg9B24r9Zet4EUGHFtnOSPESQavP1dam4RRB93XgHFf7FkE=",
          "dtype": "f8",
          "shape": "13, 1"
         },
         "hovertemplate": "contig=KI915071<br>Genomic Position=%{x}<br>G123=%{y}<br>pos=%{customdata[0]}<extra></extra>",
         "legendgroup": "KI915071",
         "line": {
          "color": "steelblue",
          "dash": "solid"
         },
         "marker": {
          "size": 3,
          "symbol": "circle"
         },
         "mode": "lines",
         "name": "KI915071",
         "showlegend": true,
         "type": "scattergl",
         "x": {
          "bdata": "rrbilRD3pEFXyjJH5vekQQxxLBOw+KRBuI1GEoX5pEG/7B6gdfqkQR9jLq1W+6RBio6kTTj8pEF78vCAOP2kQXGKTuxR/qRB7jhFrzz/pEG0pvnd+P+kQRGl/QzxAKVBZKog5f0BpUE=",
          "dtype": "f8"
         },
         "xaxis": "x",
         "y": {
          "bdata": "6kW//7GApj/GqOFvU4yqP1JJXDaC6rk/YgD1Pt7SnD8QENkTa4mpP5+xi9c/b6A/EBDZE2uJqT8gyKkZbfmjP2IA9T7e0pw/oN7HW5qDpz+g3sdbmoOnPz022yolypk/PTbbKiXKmT8=",
          "dtype": "f8"
         },
         "yaxis": "y"
        },
        {
         "customdata": {
          "bdata": "ukkMAkRSAEFv8IXJ3jIGQZwzorSxGApBY3/ZPTYUDkFX7C87o8QQQQ==",
          "dtype": "f8",
          "shape": "5, 1"
         },
         "hovertemplate": "contig=KI915072<br>Genomic Position=%{x}<br>G123=%{y}<br>pos=%{customdata[0]}<extra></extra>",
         "legendgroup": "KI915072",
         "line": {
          "color": "lightblue",
          "dash": "solid"
         },
         "marker": {
          "size": 3,
          "symbol": "circle"
         },
         "mode": "lines",
         "name": "KI915072",
         "showlegend": true,
         "type": "scattergl",
         "x": {
          "bdata": "di0hdhIGpUHgC9OcigelQfHSjRGECKVBxCCw8oIJpUFaQr42YAqlQQ==",
          "dtype": "f8"
         },
         "xaxis": "x",
         "y": {
          "bdata": "PTbbKiXKmT832yolyhm0P2tc3UHfCqo/EBDZE2uJqT+jCwTg9JeuPw==",
          "dtype": "f8"
         },
         "yaxis": "y"
        },
        {
         "customdata": {
          "bdata": "OiNKe+Pp0EBCz2bVgz7nQKabxCD2IvZA16NwPV2UAUE3GsBbeFQGQd9PjZdHLQtB",
          "dtype": "f8",
          "shape": "6, 1"
         },
         "hovertemplate": "contig=KI915075<br>Genomic Position=%{x}<br>G123=%{y}<br>pos=%{customdata[0]}<extra></extra>",
         "legendgroup": "KI915075",
         "line": {
          "color": "steelblue",
          "dash": "solid"
         },
         "marker": {
          "size": 3,
          "symbol": "circle"
         },
         "mode": "lines",
         "name": "KI915075",
         "showlegend": true,
         "type": "scattergl",
         "x": {
          "bdata": "qxzahecKpUHHmPse1AulQe1agpUkDaVBg54NTsUOpUFhMtVU9Q+lQa4lpIgrEaVB",
          "dtype": "f8"
         },
         "xaxis": "x",
         "y": {
          "bdata": "jwW08BBq0T+P+brRPf+lP2IA9T7e0pw/j/m60T3/pT9qL6G9hPaiPz022yolypk/",
          "dtype": "f8"
         },
         "yaxis": "y"
        },
        {
         "customdata": {
          "bdata": "t9EA3vIR3ECTOgFNYmH1QHDOiNLqdABBSnuDL2AaCEE=",
          "dtype": "f8",
          "shape": "4, 1"
         },
         "hovertemplate": "contig=KI915074<br>Genomic Position=%{x}<br>G123=%{y}<br>pos=%{customdata[0]}<extra></extra>",
         "legendgroup": "KI915074",
         "line": {
          "color": "lightblue",
          "dash": "solid"
         },
         "marker": {
          "size": 3,
          "symbol": "circle"
         },
         "mode": "lines",
         "name": "KI915074",
         "showlegend": true,
         "type": "scattergl",
         "x": {
          "bdata": "tRU7GAwSpUHVxe201xOlQeLHWMNIFaVBjQawIDIXpUE=",
          "dtype": "f8"
         },
         "xaxis": "x",
         "y": {
          "bdata": "EBDZE2uJqT+P+brRPf+lPxAQ2RNriak/EhERERERsT8=",
          "dtype": "f8"
         },
         "yaxis": "y"
        },
        {
         "customdata": {
          "bdata": "v30dOAvl5EDCFyZT6b0AQQ==",
          "dtype": "f8",
          "shape": "2, 1"
         },
         "hovertemplate": "contig=KI915073<br>Genomic Position=%{x}<br>G123=%{y}<br>pos=%{customdata[0]}<extra></extra>",
         "legendgroup": "KI915073",
         "line": {
          "color": "steelblue",
          "dash": "solid"
         },
         "marker": {
          "size": 3,
          "symbol": "circle"
         },
         "mode": "lines",
         "name": "KI915073",
         "showlegend": true,
         "type": "scattergl",
         "x": {
          "bdata": "ZYhjcYAYpUET0ASbYRulQQ==",
          "dtype": "f8"
         },
         "xaxis": "x",
         "y": {
          "bdata": "IMipGW35oz89NtsqJcqZPw==",
          "dtype": "f8"
         },
         "yaxis": "y"
        },
        {
         "customdata": {
          "bdata": "GlHaG+xszEDsL7snm0rlQAmKH2Oa5vBAOGdEaU+R90A=",
          "dtype": "f8",
          "shape": "4, 1"
         },
         "hovertemplate": "contig=AXCN02002502<br>Genomic Position=%{x}<br>G123=%{y}<br>pos=%{customdata[0]}<extra></extra>",
         "legendgroup": "AXCN02002502",
         "line": {
          "color": "lightblue",
          "dash": "solid"
         },
         "marker": {
          "size": 3,
          "symbol": "circle"
         },
         "mode": "lines",
         "name": "AXCN02002502",
         "showlegend": true,
         "type": "scattergl",
         "x": {
          "bdata": "fD+1TtMbpUHGS7dEthylQQQ0UW5+HaVBoPjxxFMepUE=",
          "dtype": "f8"
         },
         "xaxis": "x",
         "y": {
          "bdata": "bF0VP4WSsT9qL6G9hPaiP4/5utE9/6U/YgD1Pt7SnD8=",
          "dtype": "f8"
         },
         "yaxis": "y"
        },
        {
         "customdata": {
          "bdata": "JlMFo6Yj4kA=",
          "dtype": "f8",
          "shape": "1, 1"
         },
         "hovertemplate": "contig=KI915082<br>Genomic Position=%{x}<br>G123=%{y}<br>pos=%{customdata[0]}<extra></extra>",
         "legendgroup": "KI915082",
         "line": {
          "color": "steelblue",
          "dash": "solid"
         },
         "marker": {
          "size": 3,
          "symbol": "circle"
         },
         "mode": "lines",
         "name": "KI915082",
         "showlegend": true,
         "type": "scattergl",
         "x": {
          "bdata": "9Shc/3UfpUE=",
          "dtype": "f8"
         },
         "xaxis": "x",
         "y": {
          "bdata": "PTbbKiXKmT8=",
          "dtype": "f8"
         },
         "yaxis": "y"
        },
        {
         "customdata": {
          "bdata": "J8KGpzcf10A=",
          "dtype": "f8",
          "shape": "1, 1"
         },
         "hovertemplate": "contig=KI915081<br>Genomic Position=%{x}<br>G123=%{y}<br>pos=%{customdata[0]}<extra></extra>",
         "legendgroup": "KI915081",
         "line": {
          "color": "lightblue",
          "dash": "solid"
         },
         "marker": {
          "size": 3,
          "symbol": "circle"
         },
         "mode": "lines",
         "name": "KI915081",
         "showlegend": true,
         "type": "scattergl",
         "x": {
          "bdata": "K2UZ+S4gpUE=",
          "dtype": "f8"
         },
         "xaxis": "x",
         "y": {
          "bdata": "n7GL1z9voD8=",
          "dtype": "f8"
         },
         "yaxis": "y"
        },
        {
         "customdata": {
          "bdata": "I0p7gy+bz0A=",
          "dtype": "f8",
          "shape": "1, 1"
         },
         "hovertemplate": "contig=KI915078<br>Genomic Position=%{x}<br>G123=%{y}<br>pos=%{customdata[0]}<extra></extra>",
         "legendgroup": "KI915078",
         "line": {
          "color": "steelblue",
          "dash": "solid"
         },
         "marker": {
          "size": 3,
          "symbol": "circle"
         },
         "mode": "lines",
         "name": "KI915078",
         "showlegend": true,
         "type": "scattergl",
         "x": {
          "bdata": "GHPXZa0gpUE=",
          "dtype": "f8"
         },
         "xaxis": "x",
         "y": {
          "bdata": "SO1zM4GyvD8=",
          "dtype": "f8"
         },
         "yaxis": "y"
        }
       ],
       "layout": {
        "legend": {
         "title": {
          "text": "contig"
         },
         "tracegroupgap": 0
        },
        "showlegend": false,
        "template": {
         "data": {
          "bar": [
           {
            "error_x": {
             "color": "rgb(36,36,36)"
            },
            "error_y": {
             "color": "rgb(36,36,36)"
            },
            "marker": {
             "line": {
              "color": "white",
              "width": 0.5
             },
             "pattern": {
              "fillmode": "overlay",
              "size": 10,
              "solidity": 0.2
             }
            },
            "type": "bar"
           }
          ],
          "barpolar": [
           {
            "marker": {
             "line": {
              "color": "white",
              "width": 0.5
             },
             "pattern": {
              "fillmode": "overlay",
              "size": 10,
              "solidity": 0.2
             }
            },
            "type": "barpolar"
           }
          ],
          "carpet": [
           {
            "aaxis": {
             "endlinecolor": "rgb(36,36,36)",
             "gridcolor": "white",
             "linecolor": "white",
             "minorgridcolor": "white",
             "startlinecolor": "rgb(36,36,36)"
            },
            "baxis": {
             "endlinecolor": "rgb(36,36,36)",
             "gridcolor": "white",
             "linecolor": "white",
             "minorgridcolor": "white",
             "startlinecolor": "rgb(36,36,36)"
            },
            "type": "carpet"
           }
          ],
          "choropleth": [
           {
            "colorbar": {
             "outlinewidth": 1,
             "tickcolor": "rgb(36,36,36)",
             "ticks": "outside"
            },
            "type": "choropleth"
           }
          ],
          "contour": [
           {
            "colorbar": {
             "outlinewidth": 1,
             "tickcolor": "rgb(36,36,36)",
             "ticks": "outside"
            },
            "colorscale": [
             [
              0,
              "#440154"
             ],
             [
              0.1111111111111111,
              "#482878"
             ],
             [
              0.2222222222222222,
              "#3e4989"
             ],
             [
              0.3333333333333333,
              "#31688e"
             ],
             [
              0.4444444444444444,
              "#26828e"
             ],
             [
              0.5555555555555556,
              "#1f9e89"
             ],
             [
              0.6666666666666666,
              "#35b779"
             ],
             [
              0.7777777777777778,
              "#6ece58"
             ],
             [
              0.8888888888888888,
              "#b5de2b"
             ],
             [
              1,
              "#fde725"
             ]
            ],
            "type": "contour"
           }
          ],
          "contourcarpet": [
           {
            "colorbar": {
             "outlinewidth": 1,
             "tickcolor": "rgb(36,36,36)",
             "ticks": "outside"
            },
            "type": "contourcarpet"
           }
          ],
          "heatmap": [
           {
            "colorbar": {
             "outlinewidth": 1,
             "tickcolor": "rgb(36,36,36)",
             "ticks": "outside"
            },
            "colorscale": [
             [
              0,
              "#440154"
             ],
             [
              0.1111111111111111,
              "#482878"
             ],
             [
              0.2222222222222222,
              "#3e4989"
             ],
             [
              0.3333333333333333,
              "#31688e"
             ],
             [
              0.4444444444444444,
              "#26828e"
             ],
             [
              0.5555555555555556,
              "#1f9e89"
             ],
             [
              0.6666666666666666,
              "#35b779"
             ],
             [
              0.7777777777777778,
              "#6ece58"
             ],
             [
              0.8888888888888888,
              "#b5de2b"
             ],
             [
              1,
              "#fde725"
             ]
            ],
            "type": "heatmap"
           }
          ],
          "histogram": [
           {
            "marker": {
             "line": {
              "color": "white",
              "width": 0.6
             }
            },
            "type": "histogram"
           }
          ],
          "histogram2d": [
           {
            "colorbar": {
             "outlinewidth": 1,
             "tickcolor": "rgb(36,36,36)",
             "ticks": "outside"
            },
            "colorscale": [
             [
              0,
              "#440154"
             ],
             [
              0.1111111111111111,
              "#482878"
             ],
             [
              0.2222222222222222,
              "#3e4989"
             ],
             [
              0.3333333333333333,
              "#31688e"
             ],
             [
              0.4444444444444444,
              "#26828e"
             ],
             [
              0.5555555555555556,
              "#1f9e89"
             ],
             [
              0.6666666666666666,
              "#35b779"
             ],
             [
              0.7777777777777778,
              "#6ece58"
             ],
             [
              0.8888888888888888,
              "#b5de2b"
             ],
             [
              1,
              "#fde725"
             ]
            ],
            "type": "histogram2d"
           }
          ],
          "histogram2dcontour": [
           {
            "colorbar": {
             "outlinewidth": 1,
             "tickcolor": "rgb(36,36,36)",
             "ticks": "outside"
            },
            "colorscale": [
             [
              0,
              "#440154"
             ],
             [
              0.1111111111111111,
              "#482878"
             ],
             [
              0.2222222222222222,
              "#3e4989"
             ],
             [
              0.3333333333333333,
              "#31688e"
             ],
             [
              0.4444444444444444,
              "#26828e"
             ],
             [
              0.5555555555555556,
              "#1f9e89"
             ],
             [
              0.6666666666666666,
              "#35b779"
             ],
             [
              0.7777777777777778,
              "#6ece58"
             ],
             [
              0.8888888888888888,
              "#b5de2b"
             ],
             [
              1,
              "#fde725"
             ]
            ],
            "type": "histogram2dcontour"
           }
          ],
          "mesh3d": [
           {
            "colorbar": {
             "outlinewidth": 1,
             "tickcolor": "rgb(36,36,36)",
             "ticks": "outside"
            },
            "type": "mesh3d"
           }
          ],
          "parcoords": [
           {
            "line": {
             "colorbar": {
              "outlinewidth": 1,
              "tickcolor": "rgb(36,36,36)",
              "ticks": "outside"
             }
            },
            "type": "parcoords"
           }
          ],
          "pie": [
           {
            "automargin": true,
            "type": "pie"
           }
          ],
          "scatter": [
           {
            "fillpattern": {
             "fillmode": "overlay",
             "size": 10,
             "solidity": 0.2
            },
            "type": "scatter"
           }
          ],
          "scatter3d": [
           {
            "line": {
             "colorbar": {
              "outlinewidth": 1,
              "tickcolor": "rgb(36,36,36)",
              "ticks": "outside"
             }
            },
            "marker": {
             "colorbar": {
              "outlinewidth": 1,
              "tickcolor": "rgb(36,36,36)",
              "ticks": "outside"
             }
            },
            "type": "scatter3d"
           }
          ],
          "scattercarpet": [
           {
            "marker": {
             "colorbar": {
              "outlinewidth": 1,
              "tickcolor": "rgb(36,36,36)",
              "ticks": "outside"
             }
            },
            "type": "scattercarpet"
           }
          ],
          "scattergeo": [
           {
            "marker": {
             "colorbar": {
              "outlinewidth": 1,
              "tickcolor": "rgb(36,36,36)",
              "ticks": "outside"
             }
            },
            "type": "scattergeo"
           }
          ],
          "scattergl": [
           {
            "marker": {
             "colorbar": {
              "outlinewidth": 1,
              "tickcolor": "rgb(36,36,36)",
              "ticks": "outside"
             }
            },
            "type": "scattergl"
           }
          ],
          "scattermap": [
           {
            "marker": {
             "colorbar": {
              "outlinewidth": 1,
              "tickcolor": "rgb(36,36,36)",
              "ticks": "outside"
             }
            },
            "type": "scattermap"
           }
          ],
          "scattermapbox": [
           {
            "marker": {
             "colorbar": {
              "outlinewidth": 1,
              "tickcolor": "rgb(36,36,36)",
              "ticks": "outside"
             }
            },
            "type": "scattermapbox"
           }
          ],
          "scatterpolar": [
           {
            "marker": {
             "colorbar": {
              "outlinewidth": 1,
              "tickcolor": "rgb(36,36,36)",
              "ticks": "outside"
             }
            },
            "type": "scatterpolar"
           }
          ],
          "scatterpolargl": [
           {
            "marker": {
             "colorbar": {
              "outlinewidth": 1,
              "tickcolor": "rgb(36,36,36)",
              "ticks": "outside"
             }
            },
            "type": "scatterpolargl"
           }
          ],
          "scatterternary": [
           {
            "marker": {
             "colorbar": {
              "outlinewidth": 1,
              "tickcolor": "rgb(36,36,36)",
              "ticks": "outside"
             }
            },
            "type": "scatterternary"
           }
          ],
          "surface": [
           {
            "colorbar": {
             "outlinewidth": 1,
             "tickcolor": "rgb(36,36,36)",
             "ticks": "outside"
            },
            "colorscale": [
             [
              0,
              "#440154"
             ],
             [
              0.1111111111111111,
              "#482878"
             ],
             [
              0.2222222222222222,
              "#3e4989"
             ],
             [
              0.3333333333333333,
              "#31688e"
             ],
             [
              0.4444444444444444,
              "#26828e"
             ],
             [
              0.5555555555555556,
              "#1f9e89"
             ],
             [
              0.6666666666666666,
              "#35b779"
             ],
             [
              0.7777777777777778,
              "#6ece58"
             ],
             [
              0.8888888888888888,
              "#b5de2b"
             ],
             [
              1,
              "#fde725"
             ]
            ],
            "type": "surface"
           }
          ],
          "table": [
           {
            "cells": {
             "fill": {
              "color": "rgb(237,237,237)"
             },
             "line": {
              "color": "white"
             }
            },
            "header": {
             "fill": {
              "color": "rgb(217,217,217)"
             },
             "line": {
              "color": "white"
             }
            },
            "type": "table"
           }
          ]
         },
         "layout": {
          "annotationdefaults": {
           "arrowhead": 0,
           "arrowwidth": 1
          },
          "autotypenumbers": "strict",
          "coloraxis": {
           "colorbar": {
            "outlinewidth": 1,
            "tickcolor": "rgb(36,36,36)",
            "ticks": "outside"
           }
          },
          "colorscale": {
           "diverging": [
            [
             0,
             "rgb(103,0,31)"
            ],
            [
             0.1,
             "rgb(178,24,43)"
            ],
            [
             0.2,
             "rgb(214,96,77)"
            ],
            [
             0.3,
             "rgb(244,165,130)"
            ],
            [
             0.4,
             "rgb(253,219,199)"
            ],
            [
             0.5,
             "rgb(247,247,247)"
            ],
            [
             0.6,
             "rgb(209,229,240)"
            ],
            [
             0.7,
             "rgb(146,197,222)"
            ],
            [
             0.8,
             "rgb(67,147,195)"
            ],
            [
             0.9,
             "rgb(33,102,172)"
            ],
            [
             1,
             "rgb(5,48,97)"
            ]
           ],
           "sequential": [
            [
             0,
             "#440154"
            ],
            [
             0.1111111111111111,
             "#482878"
            ],
            [
             0.2222222222222222,
             "#3e4989"
            ],
            [
             0.3333333333333333,
             "#31688e"
            ],
            [
             0.4444444444444444,
             "#26828e"
            ],
            [
             0.5555555555555556,
             "#1f9e89"
            ],
            [
             0.6666666666666666,
             "#35b779"
            ],
            [
             0.7777777777777778,
             "#6ece58"
            ],
            [
             0.8888888888888888,
             "#b5de2b"
            ],
            [
             1,
             "#fde725"
            ]
           ],
           "sequentialminus": [
            [
             0,
             "#440154"
            ],
            [
             0.1111111111111111,
             "#482878"
            ],
            [
             0.2222222222222222,
             "#3e4989"
            ],
            [
             0.3333333333333333,
             "#31688e"
            ],
            [
             0.4444444444444444,
             "#26828e"
            ],
            [
             0.5555555555555556,
             "#1f9e89"
            ],
            [
             0.6666666666666666,
             "#35b779"
            ],
            [
             0.7777777777777778,
             "#6ece58"
            ],
            [
             0.8888888888888888,
             "#b5de2b"
            ],
            [
             1,
             "#fde725"
            ]
           ]
          },
          "colorway": [
           "#1F77B4",
           "#FF7F0E",
           "#2CA02C",
           "#D62728",
           "#9467BD",
           "#8C564B",
           "#E377C2",
           "#7F7F7F",
           "#BCBD22",
           "#17BECF"
          ],
          "font": {
           "color": "rgb(36,36,36)"
          },
          "geo": {
           "bgcolor": "white",
           "lakecolor": "white",
           "landcolor": "white",
           "showlakes": true,
           "showland": true,
           "subunitcolor": "white"
          },
          "hoverlabel": {
           "align": "left"
          },
          "hovermode": "closest",
          "mapbox": {
           "style": "light"
          },
          "paper_bgcolor": "white",
          "plot_bgcolor": "white",
          "polar": {
           "angularaxis": {
            "gridcolor": "rgb(232,232,232)",
            "linecolor": "rgb(36,36,36)",
            "showgrid": false,
            "showline": true,
            "ticks": "outside"
           },
           "bgcolor": "white",
           "radialaxis": {
            "gridcolor": "rgb(232,232,232)",
            "linecolor": "rgb(36,36,36)",
            "showgrid": false,
            "showline": true,
            "ticks": "outside"
           }
          },
          "scene": {
           "xaxis": {
            "backgroundcolor": "white",
            "gridcolor": "rgb(232,232,232)",
            "gridwidth": 2,
            "linecolor": "rgb(36,36,36)",
            "showbackground": true,
            "showgrid": false,
            "showline": true,
            "ticks": "outside",
            "zeroline": false,
            "zerolinecolor": "rgb(36,36,36)"
           },
           "yaxis": {
            "backgroundcolor": "white",
            "gridcolor": "rgb(232,232,232)",
            "gridwidth": 2,
            "linecolor": "rgb(36,36,36)",
            "showbackground": true,
            "showgrid": false,
            "showline": true,
            "ticks": "outside",
            "zeroline": false,
            "zerolinecolor": "rgb(36,36,36)"
           },
           "zaxis": {
            "backgroundcolor": "white",
            "gridcolor": "rgb(232,232,232)",
            "gridwidth": 2,
            "linecolor": "rgb(36,36,36)",
            "showbackground": true,
            "showgrid": false,
            "showline": true,
            "ticks": "outside",
            "zeroline": false,
            "zerolinecolor": "rgb(36,36,36)"
           }
          },
          "shapedefaults": {
           "fillcolor": "black",
           "line": {
            "width": 0
           },
           "opacity": 0.3
          },
          "ternary": {
           "aaxis": {
            "gridcolor": "rgb(232,232,232)",
            "linecolor": "rgb(36,36,36)",
            "showgrid": false,
            "showline": true,
            "ticks": "outside"
           },
           "baxis": {
            "gridcolor": "rgb(232,232,232)",
            "linecolor": "rgb(36,36,36)",
            "showgrid": false,
            "showline": true,
            "ticks": "outside"
           },
           "bgcolor": "white",
           "caxis": {
            "gridcolor": "rgb(232,232,232)",
            "linecolor": "rgb(36,36,36)",
            "showgrid": false,
            "showline": true,
            "ticks": "outside"
           }
          },
          "title": {
           "x": 0.05
          },
          "xaxis": {
           "automargin": true,
           "gridcolor": "rgb(232,232,232)",
           "linecolor": "rgb(36,36,36)",
           "showgrid": false,
           "showline": true,
           "ticks": "outside",
           "title": {
            "standoff": 15
           },
           "zeroline": false,
           "zerolinecolor": "rgb(36,36,36)"
          },
          "yaxis": {
           "automargin": true,
           "gridcolor": "rgb(232,232,232)",
           "linecolor": "rgb(36,36,36)",
           "showgrid": false,
           "showline": true,
           "ticks": "outside",
           "title": {
            "standoff": 15
           },
           "zeroline": false,
           "zerolinecolor": "rgb(36,36,36)"
          }
         }
        },
        "title": {
         "text": "An. hinesorum, SB"
        },
        "xaxis": {
         "anchor": "y",
         "domain": [
          0,
          1
         ],
         "title": {
          "text": "Genomic Position"
         }
        },
        "yaxis": {
         "anchor": "x",
         "domain": [
          0,
          1
         ],
         "title": {
          "text": "G123"
         }
        }
       }
      }
     },
     "metadata": {},
     "output_type": "display_data"
    }
   ],
   "source": [
    "plot_g123(query = 'species_pca == \"hinesorum\" & country_iso == \"SB\"',\n",
    "         winsize=5000,\n",
    "         title = 'An. hinesorum, SB')"
   ]
  },
  {
   "cell_type": "code",
   "execution_count": null,
   "id": "f6797890-eda1-4101-b69d-0683799eade0",
   "metadata": {},
   "outputs": [],
   "source": [
    "plot_g123(query = 'species_pca == \"hinesorum\" & country_iso == \"SB\"',\n",
    "         winsize=5000,\n",
    "         title = 'An. hinesorum, SB')"
   ]
  }
 ],
 "metadata": {
  "kernelspec": {
   "display_name": "far_hin_1.x",
   "language": "python",
   "name": "far_hin_1.x"
  },
  "language_info": {
   "codemirror_mode": {
    "name": "ipython",
    "version": 3
   },
   "file_extension": ".py",
   "mimetype": "text/x-python",
   "name": "python",
   "nbconvert_exporter": "python",
   "pygments_lexer": "ipython3",
   "version": "3.13.3"
  }
 },
 "nbformat": 4,
 "nbformat_minor": 5
}
